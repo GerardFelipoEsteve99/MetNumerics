{
  "nbformat": 4,
  "nbformat_minor": 0,
  "metadata": {
    "colab": {
      "name": "Untitled8.ipynb",
      "version": "0.3.2",
      "provenance": [],
      "include_colab_link": true
    },
    "kernelspec": {
      "name": "python2",
      "display_name": "Python 2"
    }
  },
  "cells": [
    {
      "cell_type": "markdown",
      "metadata": {
        "id": "view-in-github",
        "colab_type": "text"
      },
      "source": [
        "<a href=\"https://colab.research.google.com/github/sergiogf93/MetNumerics/blob/master/entrega_programa.ipynb\" target=\"_parent\"><img src=\"https://colab.research.google.com/assets/colab-badge.svg\" alt=\"Open In Colab\"/></a>"
      ]
    },
    {
      "metadata": {
        "id": "yzNWfrV50bt1",
        "colab_type": "text"
      },
      "cell_type": "markdown",
      "source": [
        "\n",
        "This program generates a large number of numbers (stored in the x array)\n",
        "distributed as a Gaussian with mu and sigma set as parameters.\n",
        "\n",
        "It also calculates the function y = f(x) = x**2 (non linear in x),\n",
        "and calculates the average and sigma of y.\n",
        "\n",
        "In addition to the basic histogram, this demo shows a few optional features:\n",
        "\n",
        "    * Setting the number of data bins\n",
        "    * The ``normed`` flag, which normalizes bin heights so that the integral of\n",
        "      the histogram is 1. The resulting histogram is a probability density.\n",
        "    * Setting the face color of the bars\n",
        "    * Setting the opacity (alpha value)."
      ]
    },
    {
      "metadata": {
        "id": "ZRMqY3Qy0Xfj",
        "colab_type": "code",
        "colab": {}
      },
      "cell_type": "code",
      "source": [
        "\n",
        "import numpy as np\n",
        "import math\n",
        "import matplotlib.mlab as mlab\n",
        "import matplotlib.pyplot as plt\n",
        "def funct(x):\n",
        "    y = x**2\n",
        "    return y\n",
        "\n",
        "# ****** Main ************\n",
        "\n",
        "mu = 50  # mean of distribution\n",
        "sigma = 25  # standard deviation of distribution\n",
        "n_numbers = 100000\n",
        "\n",
        "x = mu + sigma * np.random.randn(n_numbers)\n",
        "\n",
        "avg_x = np.mean(x)\n",
        "y = funct(x)\n",
        "\n",
        "y_sqr = y**2\n",
        "avg_y = np.mean(y)\n",
        "avg_y_sqr = np.mean(y_sqr)\n",
        "\n",
        "sigma_x = math.sqrt(avg_y - (avg_x)**2)\n",
        "sigma_y = math.sqrt(avg_y_sqr-(avg_y)**2)\n",
        "\n",
        "dev_y = (y-avg_y)**2\n",
        "\n",
        "index = 0\n",
        "while index < 5:\n",
        "    print( \" x, y, devy \", x[index], y[index], dev_y[index])\n",
        "    index +=1\n",
        "\n",
        "sigma2_y = math.sqrt(np.sum(dev_y)/(n_numbers-1))\n",
        "\n",
        "\n",
        "print (\"The average x is \", avg_x, \" and the average x_sqr is \", avg_y)\n",
        "print (\"The average y is \", avg_y, \" and the average y_sqr is \", avg_y_sqr)\n",
        "print (\" Sigma_x and Sigma_y are \", sigma_x, sigma_y)\n",
        "print (\" Sigma2 _y \", sigma2_y)\n",
        "\n",
        "rel_error_x = sigma_x/avg_x\n",
        "rel_error_y = sigma_y/avg_y\n",
        "\n",
        "print (\" relative errors in x and y \", rel_error_x, rel_error_y)\n",
        "\n",
        "num_bins = 50\n",
        "\n",
        "hist_contents, edges = np.histogram(x,num_bins, density = True)\n",
        "#print ( \"contents \\n\", hist_contents)\n",
        "#print ( \"edges \\n \", edges)\n",
        "#\n",
        "\n",
        "hist_contents, edges = np.histogram(y, num_bins, density = True)\n",
        "#print ( \"contents \\n\", hist_contents)\n",
        "#print ( \"edges \\n \", edges)\n",
        "#\n",
        "\n",
        "# the histogram of the data\n",
        "\n",
        "plt.figure(1)\n",
        "n, bins, patches = plt.hist(x, num_bins, normed=1, facecolor='green', alpha=0.5)\n",
        "\n",
        "# add a 'best fit' line\n",
        "yy = mlab.normpdf(bins, mu, sigma)\n",
        "plt.plot(bins, yy, 'r--')\n",
        "plt.xlabel('Smarts')\n",
        "plt.ylabel('Probability')\n",
        "legend = \"Histogram of x: mu = \"+str(mu)+\" sigma = \"+str(sigma)\n",
        "\n",
        "plt.title(legend)\n",
        "\n",
        "# Tweak spacing to prevent clipping of ylabel\n",
        "plt.subplots_adjust(left=0.25)\n",
        "plt.show()\n",
        "\n",
        "plt.figure(2)\n",
        "n, bins, patches = plt.hist(y, num_bins, normed=1, facecolor='green', alpha=0.5)\n",
        "\n",
        "plt.xlabel('Smarts')\n",
        "plt.ylabel('Probability')\n",
        "plt.title(r'Histogram of y = x**2: ')\n",
        "plt.show()\n"
      ],
      "execution_count": 0,
      "outputs": []
    }
  ]
}