{
  "nbformat": 4,
  "nbformat_minor": 0,
  "metadata": {
    "colab": {
      "name": "Untitled14.ipynb",
      "version": "0.3.2",
      "provenance": [],
      "include_colab_link": true
    },
    "kernelspec": {
      "name": "python2",
      "display_name": "Python 2"
    }
  },
  "cells": [
    {
      "cell_type": "markdown",
      "metadata": {
        "id": "view-in-github",
        "colab_type": "text"
      },
      "source": [
        "<a href=\"https://colab.research.google.com/github/sergiogf93/MetNumerics/blob/master/randomHist.ipynb\" target=\"_parent\"><img src=\"https://colab.research.google.com/assets/colab-badge.svg\" alt=\"Open In Colab\"/></a>"
      ]
    },
    {
      "metadata": {
        "id": "6C8SunhF_IoN",
        "colab_type": "code",
        "colab": {}
      },
      "cell_type": "code",
      "source": [
        "import numpy as np\n",
        "import matplotlib.pyplot as plt"
      ],
      "execution_count": 0,
      "outputs": []
    },
    {
      "metadata": {
        "id": "-o_nrV2m_Jax",
        "colab_type": "text"
      },
      "cell_type": "markdown",
      "source": [
        "Fixant seed, podem reproduir els mateixos resultats."
      ]
    },
    {
      "metadata": {
        "id": "AFCUEHwk_Jhw",
        "colab_type": "code",
        "colab": {}
      },
      "cell_type": "code",
      "source": [
        "\n",
        "np.random.seed(19680801)"
      ],
      "execution_count": 0,
      "outputs": []
    },
    {
      "metadata": {
        "id": "wJvfzVP6_Jpk",
        "colab_type": "text"
      },
      "cell_type": "markdown",
      "source": [
        "Generem 10000 nombres seguint una gaussiana $G(\\mu = 100,\\sigma = 15)$\n",
        "\n",
        "Fem un histograma amb **plt.hist**. Els paràmetres són:\n",
        "* **x** L'array the nombres per fer l'histograma\n",
        "* **50** El nombre de bins\n",
        "* **density** Definir si normalitzem l'histograma (1 = Si, 0 = No)\n",
        "* **facecolor** Color de l'histograma ('g' = green)\n",
        "* **alpha** Transparència (0 = Transparent, 1 = opac)"
      ]
    },
    {
      "metadata": {
        "id": "o1qCsabX_Jw0",
        "colab_type": "code",
        "colab": {}
      },
      "cell_type": "code",
      "source": [
        "mu, sigma = 100, 15\n",
        "x = mu + sigma * np.random.randn(10000)\n",
        "\n",
        "# the histogram of the data\n",
        "n, bins, patches = plt.hist(x, 50, density=1, facecolor='g', alpha=0.75)"
      ],
      "execution_count": 0,
      "outputs": []
    },
    {
      "metadata": {
        "id": "jbvy2qFa_J9t",
        "colab_type": "text"
      },
      "cell_type": "markdown",
      "source": [
        "Podem afegir informació al plot com ara:\n",
        "\n",
        "* **xlabel** Etiqueta per l'eix d'abscisses\n",
        "* **ylabel** Etiqueta per l'eix d'ordenades\n",
        "* **title** Títol del plot\n",
        "* **text**(x,y,text) Escriu el *text* al punt (x,y). Si es vol escriure $\\LaTeX$ s'ha d'envoltar el text amb \n",
        "```python \n",
        "r'${text}$'\n",
        "```\n",
        "* **axis**(xmin,xmax,ymin,ymax) Defineix els límits dels eixos\n",
        "* **grid** Dibuixar o no la graella"
      ]
    },
    {
      "metadata": {
        "id": "m88VgPLG_KFO",
        "colab_type": "code",
        "colab": {}
      },
      "cell_type": "code",
      "source": [
        "n, bins, patches = plt.hist(x, 50, density=1, facecolor='g', alpha=0.75)\n",
        "plt.xlabel('Smarts')\n",
        "plt.ylabel('Probability')\n",
        "plt.title('Histogram of IQ')\n",
        "plt.text(60, .025, r'$\\mu=100,\\ \\sigma=15$')\n",
        "plt.axis([40, 160, 0, 0.03])\n",
        "plt.grid(True)\n",
        "plt.show()"
      ],
      "execution_count": 0,
      "outputs": []
    }
  ]
}