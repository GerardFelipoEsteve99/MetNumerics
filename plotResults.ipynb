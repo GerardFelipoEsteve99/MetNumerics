{
  "nbformat": 4,
  "nbformat_minor": 0,
  "metadata": {
    "colab": {
      "name": "Untitled13.ipynb",
      "version": "0.3.2",
      "provenance": [],
      "include_colab_link": true
    },
    "kernelspec": {
      "name": "python2",
      "display_name": "Python 2"
    }
  },
  "cells": [
    {
      "cell_type": "markdown",
      "metadata": {
        "id": "view-in-github",
        "colab_type": "text"
      },
      "source": [
        "<a href=\"https://colab.research.google.com/github/sergiogf93/MetNumerics/blob/master/plotResults.ipynb\" target=\"_parent\"><img src=\"https://colab.research.google.com/assets/colab-badge.svg\" alt=\"Open In Colab\"/></a>"
      ]
    },
    {
      "metadata": {
        "id": "YPPmcS6I-ZJV",
        "colab_type": "code",
        "colab": {}
      },
      "cell_type": "code",
      "source": [
        "import random\n",
        "import matplotlib\n",
        "import matplotlib.pyplot as plt\n",
        "\n",
        "def rollDice():\n",
        "    roll = random.randint(1,100)\n",
        "\n",
        "    if roll == 100:\n",
        "        return False\n",
        "    elif roll <= 50:\n",
        "        return False\n",
        "    elif 100 > roll >= 50:\n",
        "        return True\n",
        "\n",
        "\n",
        "'''\n",
        "Simple bettor, betting the same amount each time.\n",
        "'''\n",
        "def simple_bettor(funds,initial_wager,wager_count):\n",
        "    value = funds\n",
        "    wager = initial_wager\n",
        "\n",
        "    # wager X\n",
        "    wX = []\n",
        "\n",
        "    #value Y\n",
        "    vY = []\n",
        "\n",
        "    # change to 1, to avoid confusion so we start @ wager 1\n",
        "    # instead of wager 0 and end at 100. \n",
        "    currentWager = 1\n",
        "\n",
        "    #           change this to, less or equal.\n",
        "    while currentWager <= wager_count:\n",
        "        if rollDice():\n",
        "            value += wager\n",
        "            # append #\n",
        "            wX.append(currentWager)\n",
        "            vY.append(value)\n",
        "            \n",
        "        else:\n",
        "            value -= wager\n",
        "            # append #\n",
        "            wX.append(currentWager)\n",
        "            vY.append(value)\n",
        "\n",
        "        currentWager += 1\n",
        "        \n",
        "    #print 'Funds:', value\n",
        "\n",
        "    plt.plot(wX,vY)\n",
        "    \n",
        "\n",
        "\n",
        "x = 0\n",
        "\n",
        "# start this off @ 1, then add, and increase 50 to 500, then 1000\n",
        "while x < 100:\n",
        "    simple_bettor(10000,100,1000)\n",
        "    x += 1\n",
        "\n",
        "\n",
        "plt.ylabel('Account Value')\n",
        "plt.xlabel('Wager Count')\n",
        "plt.show()\n",
        "\n"
      ],
      "execution_count": 0,
      "outputs": []
    }
  ]
}