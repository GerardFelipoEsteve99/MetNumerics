{
  "nbformat": 4,
  "nbformat_minor": 0,
  "metadata": {
    "colab": {
      "name": "Untitled23.ipynb",
      "version": "0.3.2",
      "provenance": [],
      "include_colab_link": true
    },
    "kernelspec": {
      "name": "python2",
      "display_name": "Python 2"
    }
  },
  "cells": [
    {
      "cell_type": "markdown",
      "metadata": {
        "id": "view-in-github",
        "colab_type": "text"
      },
      "source": [
        "<a href=\"https://colab.research.google.com/github/sergiogf93/MetNumerics/blob/master/divNumber.ipynb\" target=\"_parent\"><img src=\"https://colab.research.google.com/assets/colab-badge.svg\" alt=\"Open In Colab\"/></a>"
      ]
    },
    {
      "metadata": {
        "id": "dAwBmo0tafEH",
        "colab_type": "text"
      },
      "cell_type": "markdown",
      "source": [
        "Programa per filtrar una llista fent servir una funció anònima.\n",
        "\n",
        "Una funció anònima és una funció que es defineix sense nom. Normalment per definir una funció es fa servir **def**. Per una funció anònima fem servir **lambda**.\n",
        "\n",
        "La sintaxi és:\n",
        "\n",
        "```python\n",
        "lambda arguments : expression\n",
        "```\n",
        "\n",
        "La funció avalua l'expressió i retorna el resultat corresponent als arguments donats.\n"
      ]
    },
    {
      "metadata": {
        "id": "bnNIE4psaedM",
        "colab_type": "code",
        "colab": {}
      },
      "cell_type": "code",
      "source": [
        "\n",
        "# Take a list of numbers\n",
        "my_list = [12, 65, 54, 39, 102, 339, 221,]\n",
        "\n",
        "# use anonymous function to filter\n",
        "result = list(filter(lambda x: (x % 13 == 0), my_list))\n",
        "\n",
        "# display the result\n",
        "print(\"Numbers divisible by 13 are\",result)\n"
      ],
      "execution_count": 0,
      "outputs": []
    }
  ]
}