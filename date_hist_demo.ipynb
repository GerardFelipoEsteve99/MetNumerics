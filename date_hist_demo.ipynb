{
  "nbformat": 4,
  "nbformat_minor": 0,
  "metadata": {
    "colab": {
      "name": "Untitled32.ipynb",
      "version": "0.3.2",
      "provenance": [],
      "collapsed_sections": [],
      "include_colab_link": true
    },
    "kernelspec": {
      "name": "python2",
      "display_name": "Python 2"
    }
  },
  "cells": [
    {
      "cell_type": "markdown",
      "metadata": {
        "id": "view-in-github",
        "colab_type": "text"
      },
      "source": [
        "<a href=\"https://colab.research.google.com/github/sergiogf93/MetNumerics/blob/master/date_hist_demo.ipynb\" target=\"_parent\"><img src=\"https://colab.research.google.com/assets/colab-badge.svg\" alt=\"Open In Colab\"/></a>"
      ]
    },
    {
      "metadata": {
        "id": "4yfXWiRpB3f9",
        "colab_type": "code",
        "colab": {}
      },
      "cell_type": "code",
      "source": [
        "\"\"\"\n",
        "================\n",
        "Date tick labels\n",
        "================\n",
        "\n",
        "Show how to make date plots in matplotlib using date tick locators and\n",
        "formatters.  See major_minor_demo1.py for more information on\n",
        "controlling major and minor ticks\n",
        "\n",
        "All matplotlib date plotting is done by converting date instances into\n",
        "days since the 0001-01-01 UTC.  The conversion, tick locating and\n",
        "formatting is done behind the scenes so this is most transparent to\n",
        "you.  The dates module provides several converter functions date2num\n",
        "and num2date\n",
        "\n",
        "\"\"\"\n",
        "import datetime\n",
        "import numpy as np\n",
        "import matplotlib.pyplot as plt\n",
        "import matplotlib.dates as mdates\n",
        "import matplotlib.cbook as cbook\n",
        "\n",
        "years = mdates.YearLocator()   # every year\n",
        "months = mdates.MonthLocator()  # every month\n",
        "yearsFmt = mdates.DateFormatter('%Y')\n",
        "\n",
        "# load a numpy record array from yahoo csv data with fields date,\n",
        "# open, close, volume, adj_close from the mpl-data/example directory.\n",
        "# The record array stores python datetime.date as an object array in\n",
        "# the date column\n",
        "datafile = cbook.get_sample_data('goog.npy')\n",
        "try:\n",
        "    # Python3 cannot load python2 .npy files with datetime(object) arrays\n",
        "    # unless the encoding is set to bytes. However this option was\n",
        "    # not added until numpy 1.10 so this example will only work with\n",
        "    # python 2 or with numpy 1.10 and later.\n",
        "    r = np.load(datafile, encoding='bytes').view(np.recarray)\n",
        "except TypeError:\n",
        "    r = np.load(datafile).view(np.recarray)\n",
        "\n",
        "fig, ax = plt.subplots()\n",
        "ax.plot(r.date, r.adj_close)\n",
        "\n",
        "\n",
        "# format the ticks\n",
        "ax.xaxis.set_major_locator(years)\n",
        "ax.xaxis.set_major_formatter(yearsFmt)\n",
        "ax.xaxis.set_minor_locator(months)\n",
        "\n",
        "datemin = datetime.date(r.date.min().year, 1, 1)\n",
        "datemax = datetime.date(r.date.max().year + 1, 1, 1)\n",
        "ax.set_xlim(datemin, datemax)\n",
        "\n",
        "\n",
        "# format the coords message box\n",
        "def price(x):\n",
        "    return '$%1.2f' % x\n",
        "ax.format_xdata = mdates.DateFormatter('%Y-%m-%d')\n",
        "ax.format_ydata = price\n",
        "ax.grid(True)\n",
        "\n",
        "# rotates and right aligns the x labels, and moves the bottom of the\n",
        "# axes up to make room for them\n",
        "fig.autofmt_xdate()\n",
        "\n",
        "plt.show()\n"
      ],
      "execution_count": 0,
      "outputs": []
    }
  ]
}