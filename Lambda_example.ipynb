{
  "nbformat": 4,
  "nbformat_minor": 0,
  "metadata": {
    "colab": {
      "name": "Untitled32.ipynb",
      "version": "0.3.2",
      "provenance": [],
      "collapsed_sections": [],
      "include_colab_link": true
    },
    "kernelspec": {
      "name": "python2",
      "display_name": "Python 2"
    }
  },
  "cells": [
    {
      "cell_type": "markdown",
      "metadata": {
        "id": "view-in-github",
        "colab_type": "text"
      },
      "source": [
        "<a href=\"https://colab.research.google.com/github/sergiogf93/MetNumerics/blob/master/Lambda_example.ipynb\" target=\"_parent\"><img src=\"https://colab.research.google.com/assets/colab-badge.svg\" alt=\"Open In Colab\"/></a>"
      ]
    },
    {
      "metadata": {
        "id": "4yfXWiRpB3f9",
        "colab_type": "code",
        "colab": {}
      },
      "cell_type": "code",
      "source": [
        "# Python Program to find numbers divisible by thirteen from a list using anonymous function\n",
        "# More examples in https://www.python-course.eu/lambda.php\n",
        "\n",
        "# Take a list of numbers\n",
        "my_list = [12, 65, 54, 39, 102, 339, 221,]\n",
        "print (\" list of numbers \", my_list)\n",
        "\n",
        "# use anonymous function to filter\n",
        "result = list(filter(lambda x: (x % 13 == 0), my_list))\n",
        "\n",
        "# display the result\n",
        "print(\"Numbers factorizable by 13 are\",result)\n"
      ],
      "execution_count": 0,
      "outputs": []
    }
  ]
}