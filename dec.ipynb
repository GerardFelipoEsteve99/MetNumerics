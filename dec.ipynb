{
  "nbformat": 4,
  "nbformat_minor": 0,
  "metadata": {
    "colab": {
      "name": "Untitled21.ipynb",
      "version": "0.3.2",
      "provenance": [],
      "include_colab_link": true
    },
    "kernelspec": {
      "name": "python2",
      "display_name": "Python 2"
    }
  },
  "cells": [
    {
      "cell_type": "markdown",
      "metadata": {
        "id": "view-in-github",
        "colab_type": "text"
      },
      "source": [
        "<a href=\"https://colab.research.google.com/github/sergiogf93/MetNumerics/blob/master/dec.ipynb\" target=\"_parent\"><img src=\"https://colab.research.google.com/assets/colab-badge.svg\" alt=\"Open In Colab\"/></a>"
      ]
    },
    {
      "metadata": {
        "id": "TNSBocaYY8qo",
        "colab_type": "text"
      },
      "cell_type": "markdown",
      "source": [
        "Programa per convertir nombres decimals en binari, octal o hexadecimal.\n",
        "\n",
        "En binari, el resultat vé precedit per :\n",
        "```python \n",
        "0b\n",
        "```\n",
        "I en hexadecimal per:\n",
        "```python \n",
        "0x\n",
        "```"
      ]
    },
    {
      "metadata": {
        "id": "z5JUgZtoY75h",
        "colab_type": "code",
        "colab": {}
      },
      "cell_type": "code",
      "source": [
        "\n",
        "# Change this line for a different result\n",
        "dec = 17\n",
        "\n",
        "print \"The decimal value of\",dec,\"is:\"\n",
        "print bin(dec),\"in binary.\"\n",
        "print oct(dec),\"in octal.\"\n",
        "print hex(dec),\"in hexadecimal.\"\n",
        "\n"
      ],
      "execution_count": 0,
      "outputs": []
    }
  ]
}