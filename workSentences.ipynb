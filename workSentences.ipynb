{
  "nbformat": 4,
  "nbformat_minor": 0,
  "metadata": {
    "colab": {
      "name": "Untitled32.ipynb",
      "version": "0.3.2",
      "provenance": [],
      "include_colab_link": true
    },
    "kernelspec": {
      "name": "python2",
      "display_name": "Python 2"
    }
  },
  "cells": [
    {
      "cell_type": "markdown",
      "metadata": {
        "id": "view-in-github",
        "colab_type": "text"
      },
      "source": [
        "<a href=\"https://colab.research.google.com/github/sergiogf93/MetNumerics/blob/master/workSentences.ipynb\" target=\"_parent\"><img src=\"https://colab.research.google.com/assets/colab-badge.svg\" alt=\"Open In Colab\"/></a>"
      ]
    },
    {
      "metadata": {
        "id": "4yfXWiRpB3f9",
        "colab_type": "code",
        "colab": {
          "base_uri": "https://localhost:8080/",
          "height": 68
        },
        "outputId": "dd92108b-3a2e-407f-e595-bf0f8c5d10e1"
      },
      "cell_type": "code",
      "source": [
        "def divideEnPalabras(frase):\n",
        "    listaPalabras = frase.split()\n",
        "    return listaPalabras\n",
        "\n",
        "def tieneMismasConsonantesQueVocales(palabra):\n",
        "    vowels = 'aeiou'\n",
        "    # make a dictionary with each vowel a key and value 0\n",
        "    count = {}.fromkeys(vowels,0)\n",
        "\n",
        "    # count the vowels\n",
        "    numberVowels = 0\n",
        "    for char in palabra:\n",
        "       if char in count:\n",
        "          numberVowels += 1\n",
        "          count[char] += 1\n",
        "\n",
        "    numberConsonants = len(palabra) - numberVowels\n",
        "    if numberConsonants == numberVowels:\n",
        "        return True\n",
        "    else:\n",
        "        return False \n",
        "\n",
        "def posicionDePalabrasEnLista(palabra, lista):\n",
        "    posicion = 0\n",
        "    for elementos in lista:\n",
        "        if palabra == elementos:\n",
        "            return posicion\n",
        "        posicion += 1\n",
        "    if posicion == len(lista):\n",
        "         return 1000\n",
        "    \n",
        "frase='Estamos probando divideEnPalabras'\n",
        "lista=divideEnPalabras(frase)\n",
        "print lista\n",
        "\n",
        "frase='Estamos probando tieneMismasConsonantesQueVocales'\n",
        "if tieneMismasConsonantesQueVocales(lista[0]):\n",
        "    print \"Igual num de vocales y consonantes\"\n",
        "else:\n",
        "    print \"Diferente num de vocales y consonantese\"\n",
        "\n",
        "print posicionDePalabrasEnLista(\"lista\",lista)\n",
        "\n",
        "\n"
      ],
      "execution_count": 1,
      "outputs": [
        {
          "output_type": "stream",
          "text": [
            "['Estamos', 'probando', 'divideEnPalabras']\n",
            "Diferente num de vocales y consonantese\n",
            "1000\n"
          ],
          "name": "stdout"
        }
      ]
    }
  ]
}