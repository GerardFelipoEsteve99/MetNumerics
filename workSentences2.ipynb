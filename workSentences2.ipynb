{
  "nbformat": 4,
  "nbformat_minor": 0,
  "metadata": {
    "colab": {
      "name": "Untitled32.ipynb",
      "version": "0.3.2",
      "provenance": [],
      "include_colab_link": true
    },
    "kernelspec": {
      "name": "python2",
      "display_name": "Python 2"
    }
  },
  "cells": [
    {
      "cell_type": "markdown",
      "metadata": {
        "id": "view-in-github",
        "colab_type": "text"
      },
      "source": [
        "<a href=\"https://colab.research.google.com/github/sergiogf93/MetNumerics/blob/master/workSentences2.ipynb\" target=\"_parent\"><img src=\"https://colab.research.google.com/assets/colab-badge.svg\" alt=\"Open In Colab\"/></a>"
      ]
    },
    {
      "metadata": {
        "id": "4yfXWiRpB3f9",
        "colab_type": "code",
        "colab": {}
      },
      "cell_type": "code",
      "source": [
        "def divideEnPalabras(frase):\n",
        "    listaPalabras = frase.split()\n",
        "    return listaPalabras\n",
        "\n",
        "def tieneMismasConsonantesQueVocales(palabra):\n",
        "    vowels = 'aeiou'\n",
        "    # make a dictionary with each vowel a key and value 0\n",
        "    count = {}.fromkeys(vowels,0)\n",
        "    \n",
        "    #print (\" Estamos dentro de la función  tieneMismasConsonantesQueVocales \")\n",
        "    #print (\" veamos el diccionario creado para contar vocales \")\n",
        "    #print (count)\n",
        "\n",
        "    # count the vowels\n",
        "    numberVowels = 0\n",
        "    for char in palabra:\n",
        "       if char in count:\n",
        "          numberVowels += 1\n",
        "\n",
        "    numberConsonants = len(palabra) - numberVowels\n",
        "    if numberConsonants == numberVowels:\n",
        "        answer = True\n",
        "    else:\n",
        "        answer = False\n",
        "    return answer, numberVowels, numberConsonants\n",
        "\n",
        "def posicionDePalabrasEnLista(palabra, lista):\n",
        "    posicion = 0\n",
        "    for elementos in lista:\n",
        "        if palabra == elementos:\n",
        "            return posicion\n",
        "        posicion += 1\n",
        "    if posicion == len(lista):\n",
        "         return 1000\n",
        "# ask user to enter a string (phrase)\n",
        "ip_str = input(\"Enter a frase: \")\n",
        "# forget upper o lower case, maque it all lower case\n",
        "ip_str = ip_str.lower()\n",
        "\n",
        "frase = ip_str\n",
        "lista=divideEnPalabras(frase)\n",
        "print (\"Frase original \", frase, \"\\n\")\n",
        "print (\"Frase dividida : \")\n",
        "\n",
        "for word in lista:\n",
        "    print(word)\n",
        "    # contemos vocales y consonantes para cada palabra\n",
        "    answer, voc, con = tieneMismasConsonantesQueVocales(word)\n",
        "    if answer:\n",
        "        print (\"Igual num de vocales y consonantes \", voc, \" vocales y \", con, \" consonantes\")\n",
        "    else:\n",
        "        print (\"Diferente num de vocales y consonantes \", voc, \" vocales y \", con, \" consonantes\")\n",
        "\n",
        "\n",
        "\n"
      ],
      "execution_count": 0,
      "outputs": []
    }
  ]
}