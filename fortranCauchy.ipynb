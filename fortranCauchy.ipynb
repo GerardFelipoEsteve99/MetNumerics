{
  "nbformat": 4,
  "nbformat_minor": 0,
  "metadata": {
    "colab": {
      "name": "Untitled32.ipynb",
      "version": "0.3.2",
      "provenance": [],
      "collapsed_sections": [],
      "include_colab_link": true
    },
    "kernelspec": {
      "name": "python2",
      "display_name": "Python 2"
    }
  },
  "cells": [
    {
      "cell_type": "markdown",
      "metadata": {
        "id": "view-in-github",
        "colab_type": "text"
      },
      "source": [
        "<a href=\"https://colab.research.google.com/github/sergiogf93/MetNumerics/blob/master/fortranCauchy.ipynb\" target=\"_parent\"><img src=\"https://colab.research.google.com/assets/colab-badge.svg\" alt=\"Open In Colab\"/></a>"
      ]
    },
    {
      "metadata": {
        "id": "4yfXWiRpB3f9",
        "colab_type": "code",
        "colab": {}
      },
      "cell_type": "code",
      "source": [
        "\"\"\"\n",
        "\n",
        "This program generates random numbers following a Cauchy distribution with\n",
        "the Monte Carlo method. At the end numbers are histogrammed.\n",
        "\n",
        "\"\"\"\n",
        "import scipy.stats as stats\n",
        "import numpy as np\n",
        "import math\n",
        "import matplotlib.mlab as mlab\n",
        "import matplotlib.pyplot as plt\n",
        "\n",
        "def cauchypdf(x):\n",
        "    dist = stats.cauchy()\n",
        "    return dist.pdf(x)\n",
        "\n",
        "# ****** Main ************\n",
        "x = np.linspace(-4, 4)\n",
        "\n",
        "n_numbers = 10000\n",
        "\n",
        "v = [] \n",
        "fv = []\n",
        "iter = 0\n",
        "while iter < n_numbers: \n",
        "    # generate from sampling distribution\n",
        "    u = np.random.uniform(-4, 4, 1)[0]\n",
        "    #print (\"u = \" , u)\n",
        "    # accept-reject criterion for each point in sampling distribution\n",
        "    upper= cauchypdf(0)\n",
        "    r = np.random.uniform(0, upper, 1)[0]\n",
        "    # accepted points will come from gaussian distribution\n",
        "    if r < cauchypdf(u):\n",
        "       #print (\"iter,u,r = \", iter,u,r)\n",
        "       v.append(u)  \n",
        "       fv.append(r)\n",
        "       iter += 1\n",
        "\n",
        "num_bins = 20\n",
        "\n",
        "#hist_contents, edges = np.histogram(v,num_bins, density = True)\n",
        "#print ( \"contents \\n\", hist_contents)\n",
        "#print ( \"edges \\n \", edges)\n",
        "#\n",
        "\n",
        "# the histogram of the data\n",
        "\n",
        "plt.figure(1)\n",
        "n, bins, patches = plt.hist(v, bins=num_bins, normed=1, facecolor='green', alpha=0.5)\n",
        "#print ( \"contents \\n\", n)\n",
        "#print ( \"edges \\n \", bins)\n",
        "#\n",
        "# add a 'best fit' line\n",
        "plt.plot(x,cauchypdf(x))\n",
        "plt.xlabel('Smarts')\n",
        "plt.ylabel('Probability')\n",
        "legend = 'Histogram of the Cauchy distribution'\n",
        "\n",
        "plt.title(legend)\n",
        "\n",
        "# Tweak spacing to prevent clipping of ylabel\n",
        "plt.subplots_adjust(left=0.25)\n",
        "plt.show()\n",
        "\n"
      ],
      "execution_count": 0,
      "outputs": []
    }
  ]
}