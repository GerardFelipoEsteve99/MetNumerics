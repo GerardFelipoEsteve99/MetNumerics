{
  "nbformat": 4,
  "nbformat_minor": 0,
  "metadata": {
    "colab": {
      "name": "Untitled20.ipynb",
      "version": "0.3.2",
      "provenance": [],
      "include_colab_link": true
    },
    "kernelspec": {
      "name": "python2",
      "display_name": "Python 2"
    }
  },
  "cells": [
    {
      "cell_type": "markdown",
      "metadata": {
        "id": "view-in-github",
        "colab_type": "text"
      },
      "source": [
        "<a href=\"https://colab.research.google.com/github/sergiogf93/MetNumerics/blob/master/Calculator.ipynb\" target=\"_parent\"><img src=\"https://colab.research.google.com/assets/colab-badge.svg\" alt=\"Open In Colab\"/></a>"
      ]
    },
    {
      "metadata": {
        "id": "g5_OktE4YAK9",
        "colab_type": "text"
      },
      "cell_type": "markdown",
      "source": [
        "En aquest script es defineix un programa per fer una calculadora.\n",
        "\n",
        "Es demana a l'usuari escollir quina operació realitzar i els nombres a utilitzar i s'escriu en pantalla el resultat."
      ]
    },
    {
      "metadata": {
        "id": "wzYPAYuRYR8H",
        "colab_type": "text"
      },
      "cell_type": "markdown",
      "source": [
        "Comencem per definir les operacions que farà la calculadora en forma de funcions."
      ]
    },
    {
      "metadata": {
        "id": "PykNJsoJX-yJ",
        "colab_type": "code",
        "colab": {}
      },
      "cell_type": "code",
      "source": [
        "# This function adds two numbers \n",
        "def add(x, y):\n",
        "   return x + y\n",
        "\n",
        "# This function subtracts two numbers \n",
        "def subtract(x, y):\n",
        "   return x - y\n",
        "\n",
        "# This function multiplies two numbers\n",
        "def multiply(x, y):\n",
        "   return x * y\n",
        "\n",
        "# This function divides two numbers\n",
        "def divide(x, y):\n",
        "   return x / y\n"
      ],
      "execution_count": 0,
      "outputs": []
    },
    {
      "metadata": {
        "id": "PL2ndmrnYQ1c",
        "colab_type": "text"
      },
      "cell_type": "markdown",
      "source": [
        "Aquest es el codi que demana a l'usuari els inputs i escriu en pantalla el resultat."
      ]
    },
    {
      "metadata": {
        "id": "IUYwXjiLYRGn",
        "colab_type": "code",
        "colab": {}
      },
      "cell_type": "code",
      "source": [
        "print(\"Select operation.\")\n",
        "print(\"1.Add\")\n",
        "print(\"2.Subtract\")\n",
        "print(\"3.Multiply\")\n",
        "print(\"4.Divide\")\n",
        "\n",
        "# Take input from the user \n",
        "choice = input(\"Enter choice(1/2/3/4):\")\n",
        "\n",
        "num1 = int(input(\"Enter first number: \"))\n",
        "num2 = int(input(\"Enter second number: \"))\n",
        "\n",
        "if choice == 1:\n",
        "   print num1,\"+\",num2,\"=\", add(num1,num2)\n",
        "\n",
        "elif choice == 2:\n",
        "   print num1,\"-\",num2,\"=\", subtract(num1,num2)\n",
        "\n",
        "elif choice == 3:\n",
        "   print num1,\"*\",num2,\"=\", multiply(num1,num2)\n",
        "\n",
        "elif choice == 4:\n",
        "   print num1,\"/\",num2,\"=\", divide(num1,num2)\n",
        "else:\n",
        "   print \"Invalid input\""
      ],
      "execution_count": 0,
      "outputs": []
    }
  ]
}