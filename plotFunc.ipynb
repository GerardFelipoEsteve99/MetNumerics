{
  "nbformat": 4,
  "nbformat_minor": 0,
  "metadata": {
    "colab": {
      "name": "Untitled12.ipynb",
      "version": "0.3.2",
      "provenance": [],
      "include_colab_link": true
    },
    "kernelspec": {
      "name": "python2",
      "display_name": "Python 2"
    }
  },
  "cells": [
    {
      "cell_type": "markdown",
      "metadata": {
        "id": "view-in-github",
        "colab_type": "text"
      },
      "source": [
        "<a href=\"https://colab.research.google.com/github/sergiogf93/MetNumerics/blob/master/plotFunc.ipynb\" target=\"_parent\"><img src=\"https://colab.research.google.com/assets/colab-badge.svg\" alt=\"Open In Colab\"/></a>"
      ]
    },
    {
      "metadata": {
        "id": "gyLQLUYQ7zA8",
        "colab_type": "text"
      },
      "cell_type": "markdown",
      "source": [
        "Importem *numpy* per manipulació de dades i *matplotlib* per plotejar."
      ]
    },
    {
      "metadata": {
        "id": "LpNm8azE7yU6",
        "colab_type": "code",
        "colab": {}
      },
      "cell_type": "code",
      "source": [
        "import numpy as np\n",
        "import matplotlib.pyplot as plt\n"
      ],
      "execution_count": 0,
      "outputs": []
    },
    {
      "metadata": {
        "id": "1HVZmbRf765R",
        "colab_type": "text"
      },
      "cell_type": "markdown",
      "source": [
        "Definim la funció *f* que volem plotejar:\n",
        "\n",
        "$f(t) = e^{-t}\\cos(2\\pi t) $"
      ]
    },
    {
      "metadata": {
        "id": "xGQbW5KA77Xi",
        "colab_type": "code",
        "colab": {}
      },
      "cell_type": "code",
      "source": [
        "def f(t):\n",
        "    return np.exp(-t) * np.cos(2*np.pi*t)"
      ],
      "execution_count": 0,
      "outputs": []
    },
    {
      "metadata": {
        "id": "ApUNKfTD8Luj",
        "colab_type": "text"
      },
      "cell_type": "markdown",
      "source": [
        "Fent servir la funció *arange* de numpy, podem generar un vector d'abscisses:\n",
        "\n",
        "**arange**(a,b,step): Genera un array de nombres $(a + step \\cdot n) $  per  $n = 0,...,{\\frac{b-a}{step}} $"
      ]
    },
    {
      "metadata": {
        "id": "T5vXIb3y8L8Y",
        "colab_type": "code",
        "colab": {}
      },
      "cell_type": "code",
      "source": [
        "t1 = np.arange(0.0, 5.0, 0.1)\n",
        "t2 = np.arange(0.0, 5.0, 0.02)"
      ],
      "execution_count": 0,
      "outputs": []
    },
    {
      "metadata": {
        "id": "uzLgJuJt9xTJ",
        "colab_type": "text"
      },
      "cell_type": "markdown",
      "source": [
        "Fem un plot de la funció f.\n",
        "\n",
        "Podeu trobar exemples de com fer gràfiques a https://matplotlib.org/gallery/index.html#"
      ]
    },
    {
      "metadata": {
        "id": "ofRxBcJ-9xar",
        "colab_type": "code",
        "colab": {}
      },
      "cell_type": "code",
      "source": [
        "plt.figure(1)\n",
        "plt.subplot(211)\n",
        "plt.plot(t1, f(t1), 'bo', t2, f(t2), 'k')\n",
        "\n",
        "plt.subplot(212)\n",
        "plt.plot(t2, np.cos(2*np.pi*t2), 'r--')\n",
        "plt.show()"
      ],
      "execution_count": 0,
      "outputs": []
    }
  ]
}