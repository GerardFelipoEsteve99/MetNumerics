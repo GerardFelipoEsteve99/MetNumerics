{
  "nbformat": 4,
  "nbformat_minor": 0,
  "metadata": {
    "colab": {
      "name": "Untitled10.ipynb",
      "version": "0.3.2",
      "provenance": [],
      "include_colab_link": true
    },
    "kernelspec": {
      "name": "python2",
      "display_name": "Python 2"
    }
  },
  "cells": [
    {
      "cell_type": "markdown",
      "metadata": {
        "id": "view-in-github",
        "colab_type": "text"
      },
      "source": [
        "<a href=\"https://colab.research.google.com/github/sergiogf93/MetNumerics/blob/master/mcMethod.ipynb\" target=\"_parent\"><img src=\"https://colab.research.google.com/assets/colab-badge.svg\" alt=\"Open In Colab\"/></a>"
      ]
    },
    {
      "metadata": {
        "id": "_E8WmYj1462m",
        "colab_type": "code",
        "colab": {}
      },
      "cell_type": "code",
      "source": [
        "import random\n",
        "\n",
        "def rollDice():\n",
        "    roll = random.randint(1,100)\n",
        "    return roll\n",
        "\n",
        "# Now, just to test our dice, let's roll the dice 100 times. \n",
        "\n",
        "x = 0\n",
        "while x < 100:\n",
        "    result = rollDice()\n",
        "    print(result)\n",
        "    x+=1\n"
      ],
      "execution_count": 0,
      "outputs": []
    }
  ]
}