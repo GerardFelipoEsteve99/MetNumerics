{
  "nbformat": 4,
  "nbformat_minor": 0,
  "metadata": {
    "colab": {
      "name": "05_root_finding_optimization.ipynb",
      "version": "0.3.2",
      "provenance": [],
      "collapsed_sections": [
        "5Et-lzoEzc7U",
        "1S78b87jzc7f",
        "9bxNnPDVzc7s",
        "Q7n-jNH0zc8g",
        "UEZEk4e_zc8v"
      ],
      "include_colab_link": true
    },
    "kernelspec": {
      "display_name": "Python 3",
      "language": "python",
      "name": "python3"
    }
  },
  "cells": [
    {
      "cell_type": "markdown",
      "metadata": {
        "id": "view-in-github",
        "colab_type": "text"
      },
      "source": [
        "<a href=\"https://colab.research.google.com/github/sergiogf93/MetNumerics/blob/master/notebooks/09_FindingRoots.ipynb\" target=\"_parent\"><img src=\"https://colab.research.google.com/assets/colab-badge.svg\" alt=\"Open In Colab\"/></a>"
      ]
    },
    {
      "metadata": {
        "id": "EfYzw_F4zc6L",
        "colab_type": "code",
        "colab": {}
      },
      "cell_type": "code",
      "source": [
        "from __future__ import print_function\n",
        "\n",
        "%matplotlib inline\n",
        "import numpy\n",
        "import matplotlib.pyplot as plt"
      ],
      "execution_count": 0,
      "outputs": []
    },
    {
      "metadata": {
        "id": "8ERASWbAzc6R",
        "colab_type": "text"
      },
      "cell_type": "markdown",
      "source": [
        "# Trobar arrels\n",
        "\n",
        "**OBJECTIU:** Trobar $x$ tal que $f(x) = 0$."
      ]
    },
    {
      "metadata": {
        "id": "CDQxraxuzc6T",
        "colab_type": "text"
      },
      "cell_type": "markdown",
      "source": [
        "### Exemple:  Anualitat futura\n",
        "\n",
        "Quan em puc jubilar?\n",
        "\n",
        "$$ A = \\frac{P}{(r / m)} \\left[ \\left(1 + \\frac{r}{m} \\right)^{m \\cdot n} - 1 \\right ] $$\n",
        "\n",
        "$A$ valor total després de $n$ anys\n",
        "\n",
        "$P$ pagament per cada període de composició\n",
        "\n",
        "$m$ nombre de períodes de composició a l'any\n",
        "\n",
        "$r$ tipus d'interès anual\n",
        "\n",
        "$n$ nombre d'anys per la jubilació\n",
        "\n"
      ]
    },
    {
      "metadata": {
        "id": "EHgxUk2Szc6V",
        "colab_type": "text"
      },
      "cell_type": "markdown",
      "source": [
        "Si em vull jubilar d'aquí a 20 anys quin tipus d'interès anual $r$ he de tenir?\n",
        "\n",
        "Posem $P = \\frac{\\$18,000}{12} = \\$1500, \\quad m=12, \\quad n=20$."
      ]
    },
    {
      "metadata": {
        "id": "Oc007e2Wzc6X",
        "colab_type": "code",
        "colab": {}
      },
      "cell_type": "code",
      "source": [
        "def total_value(P, m, r, n):\n",
        "    \"\"\"Total value of portfolio given parameters\n",
        "    \n",
        "    Based on following formula:\n",
        "    \n",
        "    A = \\frac{P}{(r / m)} \\left[ \\left(1 + \\frac{r}{m} \\right)^{m \\cdot n}\n",
        "                - 1 \\right ] \n",
        "    \n",
        "    :Input:\n",
        "     - *P* (float) - Payment amount per compounding period\n",
        "     - *m* (int) - number of compounding periods per year\n",
        "     - *r* (float) - annual interest rate\n",
        "     - *n* (float) - number of years to retirement\n",
        "     \n",
        "     :Returns:\n",
        "     (float) - total value of portfolio\n",
        "     \n",
        "    \"\"\"\n",
        "    \n",
        "    return P / (r / float(m)) * ( (1.0 + r / float(m))**(float(m) * n)\n",
        "                                 - 1.0)\n",
        "\n",
        "P = 1500.0\n",
        "m = 12\n",
        "n = 20.0\n",
        "    \n",
        "r = numpy.linspace(0.05, 0.1, 100)\n",
        "goal = 1e6\n",
        "\n",
        "fig = plt.figure()\n",
        "axes = fig.add_subplot(1, 1, 1)\n",
        "axes.plot(r, total_value(P, m, r, n))\n",
        "axes.plot(r, numpy.ones(r.shape) * goal, 'r--')\n",
        "axes.set_xlabel(\"r (interest rate)\")\n",
        "axes.set_ylabel(\"A (total value)\")\n",
        "axes.set_title(\"When can I retire?\")\n",
        "axes.ticklabel_format(axis='y', style='sci', scilimits=(-1,1))\n",
        "axes.set_xlim((0.05, 0.1))\n",
        "axes.set_ylim((total_value(P, m, 0.05, n), total_value(P, m, 0.1, n)))\n",
        "plt.show()"
      ],
      "execution_count": 0,
      "outputs": []
    },
    {
      "metadata": {
        "id": "94fedgW1zc6b",
        "colab_type": "text"
      },
      "cell_type": "markdown",
      "source": [
        "## Métode del punt fix\n",
        "\n",
        "Com podem trobar la solució?\n",
        "\n",
        "Podem intentar aïllar $r$:\n",
        "\n",
        "$$ A = \\frac{P}{(r / m)} \\left[ \\left(1 + \\frac{r}{m} \\right)^{m \\cdot n} - 1 \\right ] ~~~~ \\Rightarrow ~~~~~$$\n",
        "\n",
        "$$ r = \\frac{P \\cdot m}{A} \\left[ \\left(1 + \\frac{r}{m} \\right)^{m \\cdot n} - 1 \\right ] ~~~~ \\Rightarrow ~~~~~$$\n",
        "\n",
        "$$ r = g(r)$$\n",
        "\n",
        "o bé:\n",
        "\n",
        "$$ g(r) - r = 0$$"
      ]
    },
    {
      "metadata": {
        "id": "anL_DeMrzc6c",
        "colab_type": "code",
        "colab": {}
      },
      "cell_type": "code",
      "source": [
        "def g(P, m, r, n, A):\n",
        "    \"\"\"Reformulated minimization problem\n",
        "    \n",
        "    Based on following formula:\n",
        "    \n",
        "    g(r) = \\frac{P \\cdot m}{A} \\left[ \\left(1 + \\frac{r}{m} \\right)^{m \\cdot n} - 1 \\right ]\n",
        "    \n",
        "    :Input:\n",
        "     - *P* (float) - Payment amount per compounding period\n",
        "     - *m* (int) - number of compounding periods per year\n",
        "     - *r* (float) - annual interest rate\n",
        "     - *n* (float) - number of years to retirement\n",
        "     - *A* (float) - total value after $n$ years\n",
        "     \n",
        "     :Returns:\n",
        "     (float) - value of g(r)\n",
        "     \n",
        "    \"\"\"\n",
        "    \n",
        "    return P * m / A * ( (1.0 + r / float(m))**(float(m) * n)\n",
        "                                 - 1.0)\n",
        "\n",
        "P = 1500.0\n",
        "m = 12\n",
        "n = 20.0\n",
        "    \n",
        "r = numpy.linspace(0.00, 0.1, 100)\n",
        "goal = 1e6\n",
        "\n",
        "fig = plt.figure()\n",
        "axes = fig.add_subplot(1, 1, 1)\n",
        "axes.plot(r, g(P, m, r, n, goal))\n",
        "axes.plot(r, r, 'r--')\n",
        "axes.set_xlabel(\"r (interest rate)\")\n",
        "axes.set_ylabel(\"$g(r)$\")\n",
        "axes.set_title(\"When can I retire?\")\n",
        "axes.set_ylim([0, 0.12])\n",
        "axes.ticklabel_format(axis='y', style='sci', scilimits=(-1,1))\n",
        "axes.set_xlim((0.00, 0.1))\n",
        "axes.set_ylim((g(P, m, 0.00, n, goal), g(P, m, 0.1, n, goal)))\n",
        "plt.show()"
      ],
      "execution_count": 0,
      "outputs": []
    },
    {
      "metadata": {
        "id": "dIbSBMunzc6g",
        "colab_type": "text"
      },
      "cell_type": "markdown",
      "source": [
        "Probem un $r_0$ i comprovem en quina direcció hem d'anar...\n",
        "\n",
        "1. $r_0 = 0.0800, \\quad g(r_0) - r_0 = -0.009317550125425428$\n",
        "1. $r_1 = 0.0850, \\quad g(r_1) - r_1 = -0.00505763375972$\n",
        "1. $r_2 = 0.0875, \\quad g(r_2) - r_2 = -0.00257275331014$"
      ]
    },
    {
      "metadata": {
        "id": "8PPsXAamzc6i",
        "colab_type": "text"
      },
      "cell_type": "markdown",
      "source": [
        "Una mica tediós... Podem fer-ho amb codi:"
      ]
    },
    {
      "metadata": {
        "id": "eShGX7oZzc6j",
        "colab_type": "code",
        "colab": {}
      },
      "cell_type": "code",
      "source": [
        "r_values = numpy.linspace(0.08, 0.09, 11)\n",
        "\n",
        "for r in r_values:\n",
        "    print(\"r = \", r, \"g(r) =\", g(P, m, r, n, goal))\n",
        "    print(\"Difference = \", numpy.abs(g(P, m, r, n, goal) - r))\n",
        "    r = g(P, m, r, n, goal)"
      ],
      "execution_count": 0,
      "outputs": []
    },
    {
      "metadata": {
        "id": "mp50a7tWzc6n",
        "colab_type": "text"
      },
      "cell_type": "markdown",
      "source": [
        "### Exemple 2:\n",
        "\n",
        "Sigui $f(x) = x - e^{-x}$, troba $f(x) = 0$\n",
        "\n",
        "Equivalent a $x = e^{-x}$ o $x = g(x)$ amb $g(x) = e^{-x}$"
      ]
    },
    {
      "metadata": {
        "id": "7dc0RtKMzc6p",
        "colab_type": "code",
        "colab": {}
      },
      "cell_type": "code",
      "source": [
        "x = numpy.linspace(0.2, 1.0, 100)\n",
        "\n",
        "fig = plt.figure()\n",
        "axes = fig.add_subplot(1, 1, 1)\n",
        "axes.plot(x, numpy.exp(-x), 'r')\n",
        "axes.plot(x, x, 'b')\n",
        "axes.set_xlabel(\"x\")\n",
        "axes.set_ylabel(\"f(x)\")\n",
        "\n",
        "x = 0.4\n",
        "for steps in range(3):\n",
        "    print(\"x = \", x, \"Residual = \", numpy.abs(numpy.exp(-x) - x))\n",
        "    x = numpy.exp(-x)\n",
        "    axes.plot(x, numpy.exp(-x),'ko')\n",
        "    axes.text(x+0.01, numpy.exp(-x)+0.01, steps+1, fontsize=\"15\")\n",
        "\n",
        "plt.show()"
      ],
      "execution_count": 0,
      "outputs": []
    },
    {
      "metadata": {
        "id": "v9IcvbpAzc6u",
        "colab_type": "text"
      },
      "cell_type": "markdown",
      "source": [
        "### Exemple 3:\n",
        "\n",
        "Sigui $f(x) = \\ln x + x$ troba $f(x) = 0$ o $x = -\\ln x$.\n",
        "\n",
        "Noteu que aquest problema és equivalent a $x = e^{-x}$."
      ]
    },
    {
      "metadata": {
        "id": "YIPsIszf6nur",
        "colab_type": "code",
        "colab": {}
      },
      "cell_type": "code",
      "source": [
        "  #Escriu un codi similar al de la cel·la anterior aplicat a aquest problema"
      ],
      "execution_count": 0,
      "outputs": []
    },
    {
      "metadata": {
        "id": "3JatCOOhzc6y",
        "colab_type": "code",
        "cellView": "form",
        "colab": {}
      },
      "cell_type": "code",
      "source": [
        "#@title\n",
        "x = numpy.linspace(0.1, 1.0, 100)\n",
        "\n",
        "fig = plt.figure()\n",
        "axes = fig.add_subplot(1, 1, 1)\n",
        "axes.plot(x, -numpy.log(x), 'r')\n",
        "axes.plot(x, x, 'b')\n",
        "axes.set_xlabel(\"x\")\n",
        "axes.set_ylabel(\"f(x)\")\n",
        "axes.set_ylim([0, 1.5])\n",
        "\n",
        "x = 0.5\n",
        "for steps in range(3):\n",
        "    print(\"x = \", x, \"Residual = \", numpy.abs(numpy.log(x) + x))\n",
        "    x = -numpy.log(x)\n",
        "    axes.plot(x, -numpy.log(x),'ko')\n",
        "    axes.text(x + 0.01, -numpy.log(x) + 0.01, steps+1, fontsize=\"15\")\n",
        "    \n",
        "plt.show()"
      ],
      "execution_count": 0,
      "outputs": []
    },
    {
      "metadata": {
        "id": "LU3PP3xhzc65",
        "colab_type": "text"
      },
      "cell_type": "markdown",
      "source": [
        "Aquests són problemes equivalents! Aquí passa alguna cosa..."
      ]
    },
    {
      "metadata": {
        "id": "KqrdBa6pzc67",
        "colab_type": "text"
      },
      "cell_type": "markdown",
      "source": [
        "## Anàlisi de la iteració del punt fix\n",
        "\n",
        "Existència i unicitat de problemes del punt fix\n",
        "\n",
        "*Existència:*\n",
        "\n",
        "Suposem $g \\in C[a, b]$, si la imatge $y = g(x)$ satisfà $y \\in [a, b] \\quad \\forall \\quad x \\in [a, b]$ llavors $g$ té un punt fix $[a, b]$."
      ]
    },
    {
      "metadata": {
        "id": "VvLsyzqyzc68",
        "colab_type": "code",
        "colab": {}
      },
      "cell_type": "code",
      "source": [
        "x = numpy.linspace(0.0, 1.0, 100)\n",
        "\n",
        "# Plot function and intercept\n",
        "fig = plt.figure()\n",
        "axes = fig.add_subplot(1, 1, 1)\n",
        "axes.plot(x, numpy.exp(-x), 'r')\n",
        "axes.plot(x, x, 'b')\n",
        "axes.set_xlabel(\"x\")\n",
        "axes.set_ylabel(\"f(x)\")\n",
        "\n",
        "# Plot domain and range\n",
        "axes.plot(numpy.ones(x.shape) * 0.4, x, '--k')\n",
        "axes.plot(numpy.ones(x.shape) * 0.8, x, '--k')\n",
        "axes.plot(x, numpy.ones(x.shape) * numpy.exp(-0.4), '--k')\n",
        "axes.plot(x, numpy.ones(x.shape) * numpy.exp(-0.8), '--k')\n",
        "\n",
        "axes.set_xlim((0.0, 1.0))\n",
        "axes.set_ylim((0.0, 1.0))\n",
        "\n",
        "plt.show()"
      ],
      "execution_count": 0,
      "outputs": []
    },
    {
      "metadata": {
        "id": "NDtSF17_zc7A",
        "colab_type": "code",
        "colab": {}
      },
      "cell_type": "code",
      "source": [
        "x = numpy.linspace(0.1, 1.0, 100)\n",
        "\n",
        "fig = plt.figure()\n",
        "axes = fig.add_subplot(1, 1, 1)\n",
        "axes.plot(x, -numpy.log(x), 'r')\n",
        "axes.plot(x, x, 'b')\n",
        "axes.set_xlabel(\"x\")\n",
        "axes.set_ylabel(\"f(x)\")\n",
        "axes.set_xlim([0.1, 1.0])\n",
        "axes.set_ylim([0.1, 1.0])\n",
        "\n",
        "# Plot domain and range\n",
        "axes.plot(numpy.ones(x.shape) * 0.4, x, '--k')\n",
        "axes.plot(numpy.ones(x.shape) * 0.8, x, '--k')\n",
        "axes.plot(x, numpy.ones(x.shape) * -numpy.log(0.4), '--k')\n",
        "axes.plot(x, numpy.ones(x.shape) * -numpy.log(0.8), '--k')\n",
        "\n",
        "plt.show()"
      ],
      "execution_count": 0,
      "outputs": []
    },
    {
      "metadata": {
        "id": "ssxL52mKzc7D",
        "colab_type": "code",
        "colab": {}
      },
      "cell_type": "code",
      "source": [
        "r = numpy.linspace(0.06, 0.1, 100)\n",
        "goal = 1e6\n",
        "\n",
        "fig = plt.figure()\n",
        "axes = fig.add_subplot(1, 1, 1)\n",
        "axes.plot(r, g(P, m, r, n, goal))\n",
        "axes.plot(r, r, 'r--')\n",
        "axes.set_xlabel(\"r\")\n",
        "axes.set_ylabel(\"$g(r)$\")\n",
        "axes.set_xlim([0.06, 0.1])\n",
        "axes.set_ylim([g(P, m, 0.06, n, goal), g(P, m, 0.1, n, goal)])\n",
        "axes.ticklabel_format(axis='y', style='sci', scilimits=(-1,1))\n",
        "\n",
        "axes.plot([0.08, 0.08], [g(P, m, 0.06, n, goal), g(P, m, 0.1, n, goal)], '--k')\n",
        "axes.plot([0.09, 0.09], [g(P, m, 0.06, n, goal), g(P, m, 0.1, n, goal)], '--k')\n",
        "axes.plot(r, numpy.ones(r.shape) * g(P, m, 0.08, n, goal), '--k')\n",
        "axes.plot(r, numpy.ones(r.shape) * g(P, m, 0.09, n, goal), '--k')\n",
        "\n",
        "plt.show()"
      ],
      "execution_count": 0,
      "outputs": []
    },
    {
      "metadata": {
        "id": "PZbIMw74zc7G",
        "colab_type": "text"
      },
      "cell_type": "markdown",
      "source": [
        "*Unicitat:*\n",
        "\n",
        "A més a més, si $g'(x)$ està definida a $x \\in [a, b]$ i $\\exists K < 1$ tal que\n",
        "\n",
        "$$\n",
        "    |g'(x)| \\leq K < 1 \\quad \\forall \\quad x \\in (a,b)\n",
        "$$\n",
        "\n",
        "llavors $g$ té un únic punt fix $P \\in [a,b]$"
      ]
    },
    {
      "metadata": {
        "id": "YpPOl8bhzc7I",
        "colab_type": "code",
        "colab": {}
      },
      "cell_type": "code",
      "source": [
        "x = numpy.linspace(0.4, 0.8, 100)\n",
        "\n",
        "fig = plt.figure()\n",
        "axes = fig.add_subplot(1, 1, 1)\n",
        "axes.plot(x, numpy.abs(-numpy.exp(-x)), 'r')\n",
        "axes.plot(x, numpy.ones(x.shape), 'k--')\n",
        "axes.set_xlabel(\"x\")\n",
        "axes.set_ylabel(\"f(x)\")\n",
        "axes.set_ylim((0.0, 1.1))\n",
        "plt.show()"
      ],
      "execution_count": 0,
      "outputs": []
    },
    {
      "metadata": {
        "id": "0y-b2brnzc7N",
        "colab_type": "text"
      },
      "cell_type": "markdown",
      "source": [
        "*Convergència asimptòtica*: Comportament de les iteracions de punt fix\n",
        "\n",
        "$$x_{k+1} = g(x_k)$$"
      ]
    },
    {
      "metadata": {
        "id": "tB82qfe6zc7O",
        "colab_type": "text"
      },
      "cell_type": "markdown",
      "source": [
        "Si $\\exists ~ x^\\ast$ t.q. $x^\\ast = g(x^\\ast)$ (i.e. $x^\\ast$ és un punt fix), llavors definim\n",
        "\n",
        "$$\n",
        "    x_k = x^\\ast + e_k \\quad \\quad x_{k+1} = x^\\ast + e_{k+1}\n",
        "$$\n",
        "i\n",
        "$$\n",
        "    x^\\ast + e_{k+1} = g(x^\\ast + e_k)\n",
        "$$"
      ]
    },
    {
      "metadata": {
        "id": "oxL-X9GPzc7R",
        "colab_type": "text"
      },
      "cell_type": "markdown",
      "source": [
        "Fem el desenvolupament de Taylor  $g$ al voltant de $x^\\ast$:\n",
        "\n",
        "$$\n",
        "    g(x) = g(x^\\ast) + g'(x^\\ast) (x - x^\\ast) + \\frac{g''(x^\\ast)}{2!} (x - x^\\ast)^2 + \\mathcal{O}((x - x^\\ast)^3)\n",
        "$$\n",
        "\n",
        "Evaluem la sèrie a $x_k = x^\\ast + e_k$ i trobem\n",
        "\n",
        "$$\n",
        "    g(x^\\ast + e_k) = g(x^\\ast) + g'(x^\\ast) e_k + \\frac{g''(x^\\ast) e_k^2}{2} + \\mathcal{O}(e_k^3)\n",
        "$$\n",
        "\n",
        "així doncs, per la definició anterior $x^\\ast + e_{k+1} = g(x^\\ast + e_k)$ tenim\n",
        "\n",
        "$$\n",
        "    x^\\ast + e_{k+1} = g(x^\\ast) + g'(x^\\ast) e_k + \\frac{g''(x^\\ast) e_k^2}{2} + \\mathcal{O}(e_k^3)\n",
        "$$"
      ]
    },
    {
      "metadata": {
        "id": "j5Lxs-qNzc7T",
        "colab_type": "text"
      },
      "cell_type": "markdown",
      "source": [
        "Nota que com $x^* = g(x^*)$ aquests termes es cancel·len i\n",
        "\n",
        "$$e_{k+1} = g'(x^*) e_k + \\frac{g''(x^*) e_k^2}{2}$$\n",
        "\n",
        "Així doncs, si $|g'(x^*)| \\leq K < 1$ podem concloure que\n",
        "\n",
        "$$|e_{k+1}| = K |e_k|$$\n",
        "\n",
        "la qual cosa mostra la convergència. Noteu també que $K$ està relacionat amb $|g'(x^*)|$."
      ]
    },
    {
      "metadata": {
        "id": "5Et-lzoEzc7U",
        "colab_type": "text"
      },
      "cell_type": "markdown",
      "source": [
        "### Convergència dels métodes iteratius\n",
        "\n",
        "Donat un mètode iteratiu amb:\n",
        "\n",
        "$$|e_{k+1}| = C |e_k|^n$$\n",
        "\n",
        "Si $C < 1$ i:\n",
        " - $n=1$ el mètode és **linealment convergent**\n",
        " - $n=2$ el mètode és **quadràticament convergent**\n",
        " - $n > 1$ el mètode s'en diu **superlinealment convergent**\n",
        "\n",
        "Si $C > 1$ llavors el mètode és **divergent**\n",
        "\n"
      ]
    },
    {
      "metadata": {
        "id": "OoMz0Kkyzc7W",
        "colab_type": "text"
      },
      "cell_type": "markdown",
      "source": [
        "### Revisitem els exemples\n",
        "$g(x) = e^{-x}$ amb $x^* \\approx 0.56$\n",
        " \n",
        "   $$|g'(x^*)| = |-e^{-x^*}| \\approx 0.56$$\n",
        "   "
      ]
    },
    {
      "metadata": {
        "id": "1vy4THs8zc7X",
        "colab_type": "text"
      },
      "cell_type": "markdown",
      "source": [
        "$g(x) = - \\ln x \\quad \\text{amb} \\quad x^* \\approx 0.56$\n",
        "\n",
        "   $$|g'(x^*)| = \\frac{1}{|x^*|} \\approx 1.79$$\n",
        "   "
      ]
    },
    {
      "metadata": {
        "id": "Qtn5p6DXzc7Z",
        "colab_type": "text"
      },
      "cell_type": "markdown",
      "source": [
        "$$\n",
        "    r = g(r) = \\frac{P \\cdot m}{A} \\left[ \\left(1 + \\frac{r}{m} \\right)^{m \\cdot n} - 1 \\right ]\n",
        "$$"
      ]
    },
    {
      "metadata": {
        "id": "GlV-dN4_zc7a",
        "colab_type": "code",
        "colab": {}
      },
      "cell_type": "code",
      "source": [
        "import sympy\n",
        "r, P, m, A, n = sympy.symbols('r P m A n')\n",
        "g = P * m / A * ((1 + r /m)**(m * n) - 1)\n",
        "g_prime = g.diff(r)\n",
        "r_star = 0.08985602484084668\n",
        "print(\"g'(r) = \", g_prime)\n",
        "print(\"g'(r*) = \", g_prime.subs({P: 1500.0, m: 12, n:20, A: 1e6, r: r_star}))\n",
        "\n",
        "f = sympy.lambdify(r, g_prime.subs({P: 1500.0, m: 12, n:20, A: 1e6}))\n",
        "fig = plt.figure()\n",
        "axes = fig.add_subplot(1, 1, 1)\n",
        "r = numpy.linspace(-0.01, 0.1, 100)\n",
        "axes.plot(r, f(r))\n",
        "axes.plot(r, numpy.ones(r.shape), 'k--')\n",
        "axes.plot(r_star, f(r_star), 'ro')\n",
        "axes.plot(0.0, f(0.0), 'ro')\n",
        "axes.set_xlim((-0.01, 0.1))\n",
        "axes.set_xlabel(\"$r$\")\n",
        "axes.set_ylabel(\"$g'(r)$\")\n",
        "plt.show()"
      ],
      "execution_count": 0,
      "outputs": []
    },
    {
      "metadata": {
        "id": "JT-wHKIE--bM",
        "colab_type": "text"
      },
      "cell_type": "markdown",
      "source": [
        "Veiem que al voltant de $r^*$ el métode divergeix."
      ]
    },
    {
      "metadata": {
        "id": "1S78b87jzc7f",
        "colab_type": "text"
      },
      "cell_type": "markdown",
      "source": [
        "## Mètodes millors per trobar arrels/optimització\n",
        "\n",
        "Si $x^*$ és un punt fix de $g(x)$ llavors $x^*$ és una  *arrel* de $f(x^*) = g(x^*) - x^*$ t.q. $f(x^*) = 0$.\n",
        "\n",
        "Per exemple:\n",
        "\n",
        "$$f(r) = r - \\frac{m P}{A} \\left [ \\left (1 + \\frac{r}{m} \\right)^{m n} - 1 \\right ] =0 $$\n",
        "\n",
        "o bé\n",
        "\n",
        "$$f(r) = A - \\frac{m P}{r} \\left [ \\left (1 + \\frac{r}{m} \\right)^{m n} - 1 \\right ] =0 $$"
      ]
    },
    {
      "metadata": {
        "id": "wO0J8Dyczc7h",
        "colab_type": "text"
      },
      "cell_type": "markdown",
      "source": [
        "## Mètodes clàssics\n",
        "- Bisecció (convergència lineal)\n",
        "- Mètode de Newton (convergència quadràtica)\n",
        "- Mètode de les secants (convergència superlineal)\n",
        " \n",
        "## Mètodes combinats\n",
        " - RootSafe (Newton + Bisecció)\n",
        " - Mètode de Brent (Secants + Bisecció)"
      ]
    },
    {
      "metadata": {
        "id": "0aRG46kCzc7i",
        "colab_type": "text"
      },
      "cell_type": "markdown",
      "source": [
        "### Bracketing i Bisecció\n",
        "\n",
        "Un **bracket** és un interval $[a,b]$ que conté exactament un zero o un mínim/màxim d'interès.\n",
        "\n",
        "En cas d'un zero, el bracket ha de satisfer:\n",
        "$$\n",
        "    \\text{sign}(f(a)) \\neq \\text{sign}(f(b)).\n",
        "$$\n",
        "\n",
        "I en el cas d'un mínim o un màxim: \n",
        "$$\n",
        "    \\text{sign}(f'(a)) \\neq \\text{sign}(f'(b))\n",
        "$$"
      ]
    },
    {
      "metadata": {
        "id": "fu_R3_7fzc7j",
        "colab_type": "text"
      },
      "cell_type": "markdown",
      "source": [
        "**Teorema**:  \n",
        "\n",
        "Sigui\n",
        "$$\n",
        "    f(x) \\in C[a,b] \\quad \\text{i} \\quad \\text{sign}(f(a)) \\neq \\text{sign}(f(b))\n",
        "$$\n",
        "\n",
        "llavors existeix un nombre $c$:\n",
        "$$\n",
        "    c \\in (a,b) \\quad \\text{t.q.} \\quad f(c) = 0.\n",
        "$$\n",
        "(la demostració fa servir el teorema del valor mig)"
      ]
    },
    {
      "metadata": {
        "id": "hMZ8vowIzc7k",
        "colab_type": "code",
        "colab": {}
      },
      "cell_type": "code",
      "source": [
        "P = 1500.0\n",
        "m = 12\n",
        "n = 20.0\n",
        "A = 1e6\n",
        "r = numpy.linspace(0.05, 0.1, 100)\n",
        "f = lambda r, A, m, P, n: A - m * P / r * ((1.0 + r / m)**(m * n) - 1.0)\n",
        "\n",
        "fig = plt.figure()\n",
        "axes = fig.add_subplot(1, 1, 1)\n",
        "axes.plot(r, f(r, A, m, P, n), 'b')\n",
        "axes.plot(r, numpy.zeros(r.shape),'r--')\n",
        "axes.set_xlabel(\"r (%)\")\n",
        "axes.set_ylabel(\"f(r)\")\n",
        "axes.ticklabel_format(axis='y', style='sci', scilimits=(-1,1))\n",
        "\n",
        "a = 0.075\n",
        "b = 0.095\n",
        "axes.plot(a, f(a, A, m, P, n), 'ko')\n",
        "axes.plot([a, a], [0.0, f(a, A, m, P, n)], 'k--')\n",
        "axes.plot(b, f(b, A, m, P, n), 'ko')\n",
        "axes.plot([b, b], [f(b, A, m, P, n), 0.0], 'k--')\n",
        "\n",
        "plt.show()"
      ],
      "execution_count": 0,
      "outputs": []
    },
    {
      "metadata": {
        "id": "X4E4_F81zc7o",
        "colab_type": "text"
      },
      "cell_type": "markdown",
      "source": [
        "Els algoritmes bàsics de bracketing consisteixen en reduir el bracket assegurant-nos que l'arrel (o el mínim/màxim) romangui a l'interior del bracket.\n",
        "\n",
        "De quines maneres podem reduir el bracket de manera que els extrems convergeixin a l'arrel/mínim/màxim?"
      ]
    },
    {
      "metadata": {
        "id": "Tr0rC6rPzc7p",
        "colab_type": "text"
      },
      "cell_type": "markdown",
      "source": [
        "#### Algoritme de la bisecció\n",
        "\n",
        "Donat un bracket $[a,b]$ i una funció $f(x)$\n",
        "1. Inicialitzem el bracket\n",
        "2. Iterem\n",
        "  1. Partim el bracket per la meitat i comprovem en quina de les dues parts està l'arrel.\n",
        "  2. Considerem com a nou bracket aquell que conté l'arrel.\n",
        "  3. Si el valor de la funció al punt mig del bracket és suficientment proper a 0, aturem l'algoritme."
      ]
    },
    {
      "metadata": {
        "id": "UWhLjSOgBJYr",
        "colab_type": "code",
        "colab": {}
      },
      "cell_type": "code",
      "source": [
        "P = 1500.0\n",
        "m = 12\n",
        "n = 20.0\n",
        "A = 1e6\n",
        "r = numpy.linspace(0.05, 0.11, 100)\n",
        "f = lambda r, A=A, m=m, P=P, n=n: A - m * P / r * ((1.0 + r / m)**(m * n) - 1.0)\n",
        "\n",
        "# Initialize bracket\n",
        "a = 0.07\n",
        "b = 0.10\n",
        "\n",
        "# Setup figure to plot convergence\n",
        "fig = plt.figure()\n",
        "axes = fig.add_subplot(1, 1, 1)\n",
        "axes.plot(r, f(r, A, m, P, n), 'b')\n",
        "axes.plot(r, numpy.zeros(r.shape),'r--')\n",
        "axes.set_xlabel(\"r (%)\")\n",
        "axes.set_ylabel(\"f(r)\")\n",
        "# axes.set_xlim([0.085, 0.091])\n",
        "axes.ticklabel_format(axis='y', style='sci', scilimits=(-1,1))\n",
        "axes.plot(a, f(a, A, m, P, n), 'ko')\n",
        "axes.plot([a, a], [0.0, f(a, A, m, P, n)], 'k--')\n",
        "axes.plot(b, f(b, A, m, P, n), 'ko')\n",
        "axes.plot([b, b], [f(b, A, m, P, n), 0.0], 'k--')\n",
        "\n",
        "# Algorithm parameters\n",
        "TOLERANCE = 1e-4\n",
        "MAX_STEPS = 1000\n",
        "\n",
        "# Initialize loop\n",
        "delta_x = b - a\n",
        "c = a + delta_x / 2.0\n",
        "f_a = f(a)\n",
        "f_b = f(b)\n",
        "f_c = f(c)\n",
        "\n",
        "# Escriu la implementació del mètode de la bisecció fins que s'arribi a ||f(c)|| < TOLERANCE, o el nombre d'iteracions sigui igual a MAX_STEPS"
      ],
      "execution_count": 0,
      "outputs": []
    },
    {
      "metadata": {
        "id": "2aJb3yeQzc7q",
        "colab_type": "code",
        "cellView": "form",
        "colab": {}
      },
      "cell_type": "code",
      "source": [
        "#@title\n",
        "P = 1500.0\n",
        "m = 12\n",
        "n = 20.0\n",
        "A = 1e6\n",
        "r = numpy.linspace(0.05, 0.11, 100)\n",
        "f = lambda r, A=A, m=m, P=P, n=n: A - m * P / r * ((1.0 + r / m)**(m * n) - 1.0)\n",
        "\n",
        "# Initialize bracket\n",
        "a = 0.07\n",
        "b = 0.10\n",
        "\n",
        "# Setup figure to plot convergence\n",
        "fig = plt.figure()\n",
        "axes = fig.add_subplot(1, 1, 1)\n",
        "axes.plot(r, f(r, A, m, P, n), 'b')\n",
        "axes.plot(r, numpy.zeros(r.shape),'r--')\n",
        "axes.set_xlabel(\"r (%)\")\n",
        "axes.set_ylabel(\"f(r)\")\n",
        "# axes.set_xlim([0.085, 0.091])\n",
        "axes.ticklabel_format(axis='y', style='sci', scilimits=(-1,1))\n",
        "axes.plot(a, f(a, A, m, P, n), 'ko')\n",
        "axes.plot([a, a], [0.0, f(a, A, m, P, n)], 'k--')\n",
        "axes.plot(b, f(b, A, m, P, n), 'ko')\n",
        "axes.plot([b, b], [f(b, A, m, P, n), 0.0], 'k--')\n",
        "\n",
        "# Algorithm parameters\n",
        "TOLERANCE = 1e-4\n",
        "MAX_STEPS = 1000\n",
        "\n",
        "# Initialize loop\n",
        "delta_x = b - a\n",
        "c = a + delta_x / 2.0\n",
        "f_a = f(a)\n",
        "f_b = f(b)\n",
        "f_c = f(c)\n",
        "# Loop until we reach the TOLERANCE or we take MAX_STEPS\n",
        "for step in range(1, MAX_STEPS + 1):\n",
        "    \n",
        "    # Plot iteration\n",
        "    axes.plot(c, f_c,'kx')\n",
        "    axes.text(c, f_c, str(step + 1), fontsize=\"15\")\n",
        "\n",
        "    # Check tolerance - Could also check the size of delta_x\n",
        "    # We check this first as we have already initialized the values\n",
        "    # in c and f_c\n",
        "    if numpy.abs(f_c) < TOLERANCE:\n",
        "        break\n",
        "\n",
        "    if numpy.sign(f_a) != numpy.sign(f_c):\n",
        "        b = c\n",
        "        f_b = f_c\n",
        "    else:\n",
        "        a = c\n",
        "        f_a = f_c\n",
        "    delta_x = b - a\n",
        "    c = a + delta_x / 2.0\n",
        "    f_c = f(c)\n",
        "        \n",
        "if step == MAX_STEPS:\n",
        "    print(\"Reached maximum number of steps!\")\n",
        "else:\n",
        "    print(\"Success!\")\n",
        "    print(\"  x* = %s\" % c)\n",
        "    print(\"  f(x*) = %s\" % f(c))\n",
        "    print(\"  number of steps = %s\" % step)"
      ],
      "execution_count": 0,
      "outputs": []
    },
    {
      "metadata": {
        "id": "9bxNnPDVzc7s",
        "colab_type": "text"
      },
      "cell_type": "markdown",
      "source": [
        "#### Convergència de la Bisecció\n",
        "\n",
        "En general tenim:\n",
        "$$\n",
        "    |e_{k+1}| = C |e_k|^n\n",
        "$$\n",
        "i necessitem que $C < 1$ i $n > 0$.\n",
        "\n",
        "Sigui $\\Delta x_k$ l'amplada del $k$th bracket podem estimar l'error com\n",
        "$$\n",
        "    e_k \\approx \\Delta x_k\n",
        "$$\n",
        "així doncs\n",
        "$$\n",
        "    e_{k+1} \\approx \\frac{1}{2} \\Delta x_k.\n",
        "$$\n",
        "per tant\n",
        "$$\n",
        "    |e_{k+1}| = \\frac{1}{2} |e_k|\n",
        "$$\n",
        "veiem doncs que el mètode és linealment convergent."
      ]
    },
    {
      "metadata": {
        "id": "OgoJQmVEzc7t",
        "colab_type": "text"
      },
      "cell_type": "markdown",
      "source": [
        "### Mètode de Newton (Newton-Raphson)\n",
        "- Donat un bracket, la bisecció garanteix la convergència lineal a l'arrel.\n",
        "- Tot i això, la bisecció no utilitza pràcticament cap informació sobre $f(x)$ a part del signe en un punt.\n",
        "\n",
        "**Idea bàsica**: Donada $f(x)$ i $f'(x)$ fem una aproximació lineal a $f(x)$ localment i utilitzem el tall de la reacta a l'eix de les $x$ per fer una predicció d'on pot estar $x^*$.\n"
      ]
    },
    {
      "metadata": {
        "id": "FDOA-8Crzc7v",
        "colab_type": "text"
      },
      "cell_type": "markdown",
      "source": [
        "Donada una ubicació $x_k$, tenim $f(x_k)$ i $f'(x_k)$.\n",
        "\n",
        "L'equació de la recta tangent a $f(x)$ per $x_k$ serà:\n",
        "\n",
        "$$y = f'(x_k) x + b$$"
      ]
    },
    {
      "metadata": {
        "id": "GvM0HxOtzc7w",
        "colab_type": "text"
      },
      "cell_type": "markdown",
      "source": [
        "Trobem el tall amb l'eix de les $y$'s $b$:'\n",
        "\n",
        "$$f(x_k) = f'(x_k) x_k + b$$\n",
        "\n",
        "$$b = f(x_k) - f'(x_k) x_k$$\n",
        "\n",
        "i simplifiquem:\n",
        "\n",
        "$$y = f'(x_k) x + f(x_k) - f'(x_k) x_k$$\n",
        "\n",
        "$$y = f'(x_k) (x - x_k) + f(x_k)$$"
      ]
    },
    {
      "metadata": {
        "id": "lH4VV-Luzc7x",
        "colab_type": "text"
      },
      "cell_type": "markdown",
      "source": [
        "Ara trobem la intersecció de la recta amb l'eix de les $x$'s (i.e. quan $y = 0$) i utilitzem el corresponent valor de $x$ per obtenir $x_{k+1}$\n",
        "\n",
        "$$\n",
        "    0 = f'(x_k) (x_{k+1}-x_k) + f(x_k)\n",
        "$$\n",
        "\n",
        "$$\n",
        "    \\boxed{x_{k+1} = x_k-\\frac{f(x_k)}{f'(x_k)}}\n",
        "$$"
      ]
    },
    {
      "metadata": {
        "id": "T1YhD7HDzc7y",
        "colab_type": "text"
      },
      "cell_type": "markdown",
      "source": [
        "Una manera alternativa de derivar el mètode de Newton-Raphson utilitza el desenvolupament de Taylor. Si ampliem l'equació $f(x)$ al voltant del valor actual de la iteració $x_k$:\n",
        "\n",
        "\n",
        "$$\n",
        "    f(x) = f(x_k) + f'(x_k) (x - x_k) + \\frac{f''(x_k)}{2!} (x - x_k)^2 + \\mathcal{O}((x-x_k)^3)\n",
        "$$\n",
        "\n",
        "Sigui $\\Delta_k$ l'increment per obtenir el següent valor de la iteració $x_{k+1}$:\n",
        "\n",
        "$$\n",
        "    x_{k+1} = x_k + \\Delta x_k\n",
        "$$\n",
        "\n",
        "i evaluem el valor de $f(x)$ a $x_{k+1}$:\n",
        "$$\n",
        "    f(x_{k+1}) = f(x_k) + f'(x_k) \\Delta x_k + \\frac{f''(x_k)}{2!} \\Delta x_k^2 + \\mathcal{O}(\\Delta x_k^3)\n",
        "$$"
      ]
    },
    {
      "metadata": {
        "id": "VF-_aF9mzc7z",
        "colab_type": "text"
      },
      "cell_type": "markdown",
      "source": [
        "Ara considerem que $x_{k+1} = x^\\ast$, en aquest cas\n",
        "$$\n",
        "    0 = f(x_k) + f'(x_k) \\Delta x_k + \\frac{f''(x_k)}{2!} \\Delta x_k^2 + \\mathcal{O}(\\Delta x_k^3)\n",
        "$$\n",
        "\n",
        "Si treiem els termes d'ordre superior obtenim:\n",
        "\n",
        "$$\n",
        "    \\Delta x_k = - \\frac{f(x_k)}{f'(x_k)}\n",
        "$$\n",
        "\n",
        "si $f \\in \\mathbb R$ obtenim\n",
        "\n",
        "$$\n",
        "    \\boxed{x_{k+1} = x_k - \\frac{f(x_k)}{f'(x_k)}}\n",
        "$$"
      ]
    },
    {
      "metadata": {
        "id": "nHsmQ5K4zc72",
        "colab_type": "code",
        "colab": {}
      },
      "cell_type": "code",
      "source": [
        "P = 1500.0\n",
        "m = 12\n",
        "n = 20.0\n",
        "A = 1e6\n",
        "r = numpy.linspace(0.05, 0.11, 100)\n",
        "f = lambda r, A=A, m=m, P=P, n=n: \\\n",
        "        A - m * P / r * ((1.0 + r / m)**(m * n) - 1.0)\n",
        "f_prime = lambda r, A=A, m=m, P=P, n=n: \\\n",
        "            -P*m*n*(1.0 + r/m)**(m*n)/(r*(1.0 + r/m)) \\\n",
        "                + P*m*((1.0 + r/m)**(m*n) - 1.0)/r**2\n",
        "\n",
        "# Initial guess\n",
        "x_k = 0.06\n",
        "\n",
        "# Setup figure to plot convergence\n",
        "fig = plt.figure()\n",
        "axes = fig.add_subplot(1, 1, 1)\n",
        "axes.plot(r, f(r), 'b')\n",
        "axes.plot(r, numpy.zeros(r.shape),'r--')\n",
        "\n",
        "# Plot x_k point\n",
        "axes.plot([x_k, x_k], [0.0, f(x_k)], 'k--')\n",
        "axes.plot(x_k, f(x_k), 'ko')\n",
        "axes.text(x_k, -5e4, \"$x_k$\", fontsize=16)\n",
        "axes.plot(x_k, 0.0, 'xk')\n",
        "axes.text(x_k, f(x_k) + 2e4, \"$f(x_k)$\", fontsize=16)\n",
        "axes.plot(r, f_prime(x_k) * (r - x_k) + f(x_k), 'k')\n",
        "\n",
        "# Plot x_{k+1} point\n",
        "x_k = x_k - f(x_k) / f_prime(x_k)\n",
        "axes.plot([x_k, x_k], [0.0, f(x_k)], 'k--')\n",
        "axes.plot(x_k, f(x_k), 'ko')\n",
        "axes.text(x_k, 1e4, \"$x_{k+1}$\", fontsize=16)\n",
        "axes.plot(x_k, 0.0, 'xk')\n",
        "axes.text(0.0873, f(x_k) - 2e4, \"$f(x_{k+1})$\", fontsize=16)\n",
        "\n",
        "axes.set_xlabel(\"r (%)\")\n",
        "axes.set_ylabel(\"f(r)\")\n",
        "axes.set_title(\"Newton-Raphson Steps\")\n",
        "axes.ticklabel_format(axis='y', style='sci', scilimits=(-1,1))\n",
        "\n",
        "plt.show()"
      ],
      "execution_count": 0,
      "outputs": []
    },
    {
      "metadata": {
        "id": "mllAONZNzc79",
        "colab_type": "text"
      },
      "cell_type": "markdown",
      "source": [
        "### Algoritme per Newton-Raphson\n",
        "\n",
        "1. Inicialitzar $x_k$\n",
        "1. Comencem la iteració\n",
        "  1. Calcular $f(x_k)$ i $f'(x_k)$\n",
        "  1. Obtenir $x_{k+1}$ a partir de $f(x_k)$ i $f'(x_k)$\n",
        "  1. Comprovar la condició per aturar la iteració"
      ]
    },
    {
      "metadata": {
        "id": "xfV5tpbeGg_r",
        "colab_type": "code",
        "colab": {}
      },
      "cell_type": "code",
      "source": [
        "P = 1500.0\n",
        "m = 12\n",
        "n = 20.0\n",
        "A = 1e6\n",
        "r = numpy.linspace(0.05, 0.11, 100)\n",
        "f = lambda r, A=A, m=m, P=P, n=n: \\\n",
        "        A - m * P / r * ((1.0 + r / m)**(m * n) - 1.0)\n",
        "f_prime = lambda r, A=A, m=m, P=P, n=n: \\\n",
        "            -P*m*n*(1.0 + r/m)**(m*n)/(r*(1.0 + r/m)) \\\n",
        "                + P*m*((1.0 + r/m)**(m*n) - 1.0)/r**2\n",
        "\n",
        "# Algorithm parameters\n",
        "MAX_STEPS = 200\n",
        "TOLERANCE = 1e-4\n",
        "        \n",
        "# Initial guess\n",
        "x_k = 0.06\n",
        "\n",
        "# Implementa el métode de Newton-Raphson per la funció f"
      ],
      "execution_count": 0,
      "outputs": []
    },
    {
      "metadata": {
        "id": "a03YaK2izc7-",
        "colab_type": "code",
        "cellView": "form",
        "colab": {}
      },
      "cell_type": "code",
      "source": [
        "#@title\n",
        "P = 1500.0\n",
        "m = 12\n",
        "n = 20.0\n",
        "A = 1e6\n",
        "r = numpy.linspace(0.05, 0.11, 100)\n",
        "f = lambda r, A=A, m=m, P=P, n=n: \\\n",
        "        A - m * P / r * ((1.0 + r / m)**(m * n) - 1.0)\n",
        "f_prime = lambda r, A=A, m=m, P=P, n=n: \\\n",
        "            -P*m*n*(1.0 + r/m)**(m*n)/(r*(1.0 + r/m)) \\\n",
        "                + P*m*((1.0 + r/m)**(m*n) - 1.0)/r**2\n",
        "\n",
        "# Algorithm parameters\n",
        "MAX_STEPS = 200\n",
        "TOLERANCE = 1e-4\n",
        "        \n",
        "# Initial guess\n",
        "x_k = 0.06\n",
        "\n",
        "# Setup figure to plot convergence\n",
        "fig = plt.figure()\n",
        "axes = fig.add_subplot(1, 1, 1)\n",
        "axes.plot(r, f(r), 'b')\n",
        "axes.plot(r, numpy.zeros(r.shape),'r--')\n",
        "\n",
        "for n in range(1, MAX_STEPS + 1):\n",
        "    axes.plot(x_k, f(x_k),'kx')\n",
        "    axes.text(x_k, f(x_k), str(n), fontsize=\"15\")\n",
        "    x_k = x_k - f(x_k) / f_prime(x_k)\n",
        "    if numpy.abs(f(x_k)) < TOLERANCE:\n",
        "        break\n",
        "        \n",
        "if n == MAX_STEPS:\n",
        "    print(\"Reached maximum number of steps!\")\n",
        "else:\n",
        "    print(\"Success!\")\n",
        "    print(\"  x* = %s\" % x_k)\n",
        "    print(\"  f(x*) = %s\" % f(x_k))\n",
        "    print(\"  number of steps = %s\" % n)\n",
        "\n",
        "axes.set_xlabel(\"r (%)\")\n",
        "axes.set_ylabel(\"f(r)\")\n",
        "axes.set_title(\"Newton-Raphson Steps\")\n",
        "axes.ticklabel_format(axis='y', style='sci', scilimits=(-1,1))\n",
        "\n",
        "plt.show()"
      ],
      "execution_count": 0,
      "outputs": []
    },
    {
      "metadata": {
        "id": "-olTyTefzc8J",
        "colab_type": "text"
      },
      "cell_type": "markdown",
      "source": [
        "### Convergència asimptòtica del mètode de Newton\n",
        "\n",
        "Per una arrel simple, sigui $g(x) = x - \\frac{f(x)}{f'(x)}$, llavors\n",
        "\n",
        "$$x_{k+1} = g(x_k)$$"
      ]
    },
    {
      "metadata": {
        "id": "ilJMagXrzc8L",
        "colab_type": "text"
      },
      "cell_type": "markdown",
      "source": [
        "Definim els errors i les iteracions:\n",
        "\n",
        "$$x_{k+1} = x^* + e_{k+1} \\quad \\quad x_k = x^* + e_k$$\n",
        "\n",
        "El desenvolupament general de Taylor:\n",
        "\n",
        "$$\n",
        "    x^* + e_{k+1} = g(x^* + e_k) = g(x^*) + g'(x^*) e_k + \\frac{g''(x^*) e_k^2}{2!} + \\mathcal{O}(e_k^3)\n",
        "$$"
      ]
    },
    {
      "metadata": {
        "id": "cdtwLK5Szc8M",
        "colab_type": "text"
      },
      "cell_type": "markdown",
      "source": [
        "Noteu que $x^*$ i $g(x^*)$ es cancel·len:\n",
        "\n",
        "$$e_{k+1} = g'(x^*) e_k + \\frac{g''(x^*) e_k^2}{2!} + \\ldots$$"
      ]
    },
    {
      "metadata": {
        "id": "uyleUZrXzc8O",
        "colab_type": "text"
      },
      "cell_type": "markdown",
      "source": [
        "Què passa amb $g'(x^*)$?  \n",
        "\n",
        "$$\\begin{aligned}\n",
        "    g(x) &= x - \\frac{f(x)}{f'(x)} \\\\\n",
        "    g'(x) & = 1 - \\frac{f'(x)}{f'(x)} + \\frac{f(x) f''(x)}{(f'(x))^2} = \\frac{f(x) f''(x)}{(f'(x))^2}\n",
        "\\end{aligned}$$\n",
        "\n",
        "evaluat a $x = x^*$ dóna\n",
        "\n",
        "$$\n",
        "    g'(x^*) = \\frac{f(x^*)f''(x^*)}{f'(x^*)^2} = 0\n",
        "$$\n",
        "\n",
        "donat que $f(x^\\ast) = 0$ (assumint que $f''(x^\\ast)$ i $f'(x^\\ast)$ tenen bon comportament)."
      ]
    },
    {
      "metadata": {
        "id": "wEGbHTqqzc8P",
        "colab_type": "text"
      },
      "cell_type": "markdown",
      "source": [
        "Tornant al desenvolupament, tornem a tenir:\n",
        "\n",
        "$$\n",
        "    e_{k+1} = g'(x^*) e_k + \\frac{g''(x^*) e_k^2}{2!} + \\ldots\n",
        "$$\n",
        "\n",
        "que dóna\n",
        "\n",
        "$$\n",
        "    e_{k+1} = \\frac{g''(x^*) e_k^2}{2!} + \\ldots\n",
        "$$"
      ]
    },
    {
      "metadata": {
        "id": "aydYJOaQzc8Q",
        "colab_type": "text"
      },
      "cell_type": "markdown",
      "source": [
        "$$\n",
        "    |e_{k+1}| < \\left | \\frac{g''(x^*)}{2!} \\right | |e_k|^2\n",
        "$$\n",
        "\n",
        "Així doncs, el métode de Newton és quadràticament convergent i la constant és controlada per la segona derivada."
      ]
    },
    {
      "metadata": {
        "id": "IaNYYfxnzc8S",
        "colab_type": "text"
      },
      "cell_type": "markdown",
      "source": [
        "Pel cas d'arrels múltiples (e.g. $f(x) = (x-1)^2$) la cosa no funciona tant bé. Per què?"
      ]
    },
    {
      "metadata": {
        "id": "Zd97me7fzc8T",
        "colab_type": "text"
      },
      "cell_type": "markdown",
      "source": [
        "  ### Exemple:\n",
        "$f(x) = \\sin (2 \\pi x)$\n",
        "\n",
        "$$x_{k+1} = x_k - \\frac{\\sin (2 \\pi x)}{2 \\pi \\cos (2 \\pi x)}= x_k - \\frac{1}{2 \\pi} \\tan (2 \\pi x)$$"
      ]
    },
    {
      "metadata": {
        "id": "9oxpx-cNzc8U",
        "colab_type": "code",
        "colab": {}
      },
      "cell_type": "code",
      "source": [
        "x = numpy.linspace(0, 2, 1000)\n",
        "f = lambda x: numpy.sin(2.0 * numpy.pi * x)\n",
        "f_prime = lambda x: 2.0 * numpy.pi * numpy.cos(2.0 * numpy.pi * x)\n",
        "\n",
        "fig = plt.figure()\n",
        "axes = fig.add_subplot(1, 1, 1)\n",
        "axes.plot(x, f(x),'b')\n",
        "axes.plot(x, f_prime(x), 'r')\n",
        "axes.set_xlabel(\"x\")\n",
        "axes.set_ylabel(\"y\")\n",
        "axes.set_title(\"Comparison of $f(x)$ and $f'(x)$\")\n",
        "axes.set_ylim((-2,2))\n",
        "axes.set_xlim((0,2))\n",
        "axes.plot(x, numpy.zeros(x.shape), 'k--')\n",
        "\n",
        "x_k = 0.3\n",
        "axes.plot([x_k, x_k], [0.0, f(x_k)], 'ko')\n",
        "axes.plot([x_k, x_k], [0.0, f(x_k)], 'k--')\n",
        "axes.plot(x, f_prime(x_k) * (x - x_k) + f(x_k), 'k')\n",
        "\n",
        "\n",
        "x_k = x_k - f(x_k) / f_prime(x_k)\n",
        "axes.plot([x_k, x_k], [0.0, f(x_k)], 'ko')\n",
        "axes.plot([x_k, x_k], [0.0, f(x_k)], 'k--')\n",
        "\n",
        "plt.show()"
      ],
      "execution_count": 0,
      "outputs": []
    },
    {
      "metadata": {
        "id": "UdwbsMy2zc8Y",
        "colab_type": "code",
        "colab": {}
      },
      "cell_type": "code",
      "source": [
        "x = numpy.linspace(0, 2, 1000)\n",
        "f = lambda x: numpy.sin(2.0 * numpy.pi * x)\n",
        "x_kp = lambda x: x - 1.0 / (2.0 * numpy.pi) * numpy.tan(2.0 * numpy.pi * x)\n",
        "\n",
        "fig = plt.figure()\n",
        "axes = fig.add_subplot(1, 1, 1)\n",
        "axes.plot(x, f(x),'b')\n",
        "axes.plot(x, x_kp(x), 'r')\n",
        "axes.set_xlabel(\"x\")\n",
        "axes.set_ylabel(\"y\")\n",
        "axes.set_title(\"Comparison of $f(x)$ and $f'(x)$\")\n",
        "axes.set_ylim((-2,2))\n",
        "axes.set_xlim((0,2))\n",
        "axes.plot(x, numpy.zeros(x.shape), 'k--')\n",
        "\n",
        "plt.show()"
      ],
      "execution_count": 0,
      "outputs": []
    },
    {
      "metadata": {
        "id": "h5ZnZf09zc8b",
        "colab_type": "text"
      },
      "cell_type": "markdown",
      "source": [
        "### Conques d'atracció\n",
        "\n",
        "Donat un punt $x_0$ podem determinar si el mètode de Newton-Raphson convergeix?\n",
        "\n",
        "Una *conca d'atracció* $X$ per mètodes de Newton es defineix com el conjunt tal que  $\\forall x \\in X$ les iteracions de Newton convergeixen. Aquests conjunts no són trivials de determinar i fins i tot per funcions simples es poden obtenir fractals.\n",
        "\n",
        "A sota es mostren els resultats per dues equacions:\n",
        "\n",
        "1. $f(x) = x^3 - 1$\n",
        "2. Equació de Kepler $\\theta - e \\sin \\theta = M$"
      ]
    },
    {
      "metadata": {
        "scrolled": false,
        "id": "ZQgYkAs8zc8c",
        "colab_type": "code",
        "colab": {}
      },
      "cell_type": "code",
      "source": [
        "f = lambda x: x**3 - 1\n",
        "f_prime = lambda x: 3 * x**2\n",
        "\n",
        "N = 1001\n",
        "x = numpy.linspace(-2, 2, N)\n",
        "X, Y = numpy.meshgrid(x, x)\n",
        "R = X + 1j * Y\n",
        "\n",
        "for i in range(30):\n",
        "    R = R - f(R) / f_prime(R)\n",
        "    \n",
        "fig = plt.figure()\n",
        "fig.set_figwidth(fig.get_figwidth() * 2)\n",
        "fig.set_figheight(fig.get_figheight() * 2)\n",
        "axes = fig.add_subplot(1, 1, 1, aspect='equal')\n",
        "axes.contour(X, Y, R)\n",
        "axes.set_xlabel(\"Real\")\n",
        "axes.set_ylabel(\"Imaginary\")\n",
        "axes.set_title(\"Basin of Attraction for $f(x) = x^3 - 1$\")\n",
        "plt.show()"
      ],
      "execution_count": 0,
      "outputs": []
    },
    {
      "metadata": {
        "id": "fNK5EwhAzc8e",
        "colab_type": "code",
        "colab": {}
      },
      "cell_type": "code",
      "source": [
        "def f(theta, e=0.083, M=1):\n",
        "    return theta - e * numpy.sin(theta) - M\n",
        "def f_prime(theta, e=0.083):\n",
        "    return 1 - e * numpy.cos(theta)\n",
        "\n",
        "N = 1001\n",
        "x = numpy.linspace(-30.5, -29.5, N)\n",
        "y = numpy.linspace(-17.5, -16.5, N)\n",
        "X, Y = numpy.meshgrid(x, y)\n",
        "R = X + 1j * Y\n",
        "\n",
        "for i in range(30):\n",
        "    R = R - f(R) / f_prime(R)\n",
        "    \n",
        "fig = plt.figure()\n",
        "fig.set_figwidth(fig.get_figwidth() * 2)\n",
        "fig.set_figheight(fig.get_figheight() * 2)\n",
        "axes = fig.add_subplot(1, 1, 1, aspect='equal')\n",
        "axes.contour(X, Y, R)\n",
        "axes.set_xlabel(\"Real\")\n",
        "axes.set_ylabel(\"Imaginary\")\n",
        "axes.set_title(\"Basin of Attraction for $f(x) = x - e \\sin x - M$\")"
      ],
      "execution_count": 0,
      "outputs": []
    },
    {
      "metadata": {
        "id": "Q7n-jNH0zc8g",
        "colab_type": "text"
      },
      "cell_type": "markdown",
      "source": [
        "#### Altres problemes amb el mètode\n",
        "\n",
        "Hem de donar $f(x)$ i $f'(x)$, podría no computacionalment car.\n",
        " \n",
        "Exemple:  $f(r) = A - \\frac{m P}{r} \\left[ \\left(1 + \\frac{r}{m} \\right )^{m n} - 1\\right]$\n",
        "\n",
        "Podríem utilitzar (`sympy`)"
      ]
    },
    {
      "metadata": {
        "id": "m_HxHX7Czc8h",
        "colab_type": "text"
      },
      "cell_type": "markdown",
      "source": [
        "### Mètode de les secants\n",
        "\n",
        "Hi ha alguna manera d'obtenir la convergència del mètode de Newton però sense les derivades extra? De quina manera podríem modificar el mètode de Newton?\n"
      ]
    },
    {
      "metadata": {
        "id": "jHM6rnCCzc8i",
        "colab_type": "text"
      },
      "cell_type": "markdown",
      "source": [
        "Donades $x_k$ i $x_{k-1}$ representem la derivada amb l'aproximació\n",
        "\n",
        "$$f'(x) \\approx \\frac{f(x_k) - f(x_{k-1})}{x_k - x_{k-1}}$$\n",
        "\n",
        "Combinat amb el mètode de Newton:\n",
        "\n",
        "$$\\boxed{x_{k+1} = x_k - \\frac{f(x_k) (x_k - x_{k-1}) }{f(x_k) - f(x_{k-1})}}$$\n",
        "\n",
        "Això dóna convergència. No arriba a la convergència quadràtica, l'exponent és $\\approx 1.7$."
      ]
    },
    {
      "metadata": {
        "id": "46W1sfduzc8j",
        "colab_type": "text"
      },
      "cell_type": "markdown",
      "source": [
        "També podem obtenir el resultat considerant la recta que passa per dons punts de la funció i trobant el tall amb l'eix d'abscisses:\n",
        "\n",
        "$$(x_k, f(x_k)) ~~~~~ (x_{k-1}, f(x_{k-1})$$\n",
        "\n",
        "$$y = \\frac{f(x_k) - f(x_{k-1})}{x_k - x_{k-1}} (x - x_k) + b$$"
      ]
    },
    {
      "metadata": {
        "id": "WDTvb1hVzc8k",
        "colab_type": "text"
      },
      "cell_type": "markdown",
      "source": [
        "$$b = f(x_{k-1}) - \\frac{f(x_k) - f(x_{k-1})}{x_k - x_{k-1}} (x_{k-1} - x_k)$$\n",
        "\n",
        "$$ y = \\frac{f(x_k) - f(x_{k-1})}{x_k - x_{k-1}} (x - x_k) + f(x_k)$$"
      ]
    },
    {
      "metadata": {
        "id": "3hxO9weYzc8l",
        "colab_type": "text"
      },
      "cell_type": "markdown",
      "source": [
        "Aïllem $x_{k+1}$:\n",
        "\n",
        "$$0 = \\frac{f(x_k) - f(x_{k-1})}{x_k - x_{k-1}} (x_{k+1} - x_k) + f(x_k)$$\n",
        "\n",
        "$$x_{k+1} = x_k - \\frac{f(x_k)  (x_k - x_{k-1})}{f(x_k) - f(x_{k-1})}$$"
      ]
    },
    {
      "metadata": {
        "scrolled": false,
        "id": "bju951Oczc8m",
        "colab_type": "code",
        "colab": {}
      },
      "cell_type": "code",
      "source": [
        "P = 1500.0\n",
        "m = 12\n",
        "n = 20.0\n",
        "A = 1e6\n",
        "r = numpy.linspace(0.05, 0.11, 100)\n",
        "f = lambda r, A=A, m=m, P=P, n=n: \\\n",
        "        A - m * P / r * ((1.0 + r / m)**(m * n) - 1.0)\n",
        "\n",
        "# Initial guess\n",
        "x_k = 0.07\n",
        "x_km = 0.06\n",
        "\n",
        "fig = plt.figure()\n",
        "axes = fig.add_subplot(1, 1, 1)\n",
        "axes.plot(r, f(r), 'b')\n",
        "axes.plot(r, numpy.zeros(r.shape),'r--')\n",
        "\n",
        "axes.plot(x_k, 0.0, 'ko')\n",
        "axes.plot(x_k, f(x_k), 'ko')\n",
        "axes.plot([x_k, x_k], [0.0, f(x_k)], 'k--')\n",
        "axes.plot(x_km, 0.0, 'ko')\n",
        "axes.plot(x_km, f(x_km), 'ko')\n",
        "axes.plot([x_km, x_km], [0.0, f(x_km)], 'k--')\n",
        "\n",
        "axes.plot(r, (f(x_k) - f(x_km)) / (x_k - x_km) * (r - x_k) + f(x_k), 'k')\n",
        "x_kp = x_k - (f(x_k) * (x_k - x_km) / (f(x_k) - f(x_km)))\n",
        "axes.plot(x_kp, 0.0, 'ro')\n",
        "axes.plot([x_kp, x_kp], [0.0, f(x_kp)], 'r--')\n",
        "axes.plot(x_kp, f(x_kp), 'ro')\n",
        "\n",
        "axes.set_xlabel(\"r (%)\")\n",
        "axes.set_ylabel(\"f(r)\")\n",
        "axes.set_title(\"Secant Method\")\n",
        "axes.ticklabel_format(axis='y', style='sci', scilimits=(-1,1))\n",
        "\n",
        "plt.show()"
      ],
      "execution_count": 0,
      "outputs": []
    },
    {
      "metadata": {
        "id": "pmGb-pbkzc8q",
        "colab_type": "text"
      },
      "cell_type": "markdown",
      "source": [
        "#### Algoritme pel mètode de les secants\n",
        "\n",
        "Donada $f(x)$, un bracket $[a,b]$, una `TOLERANCE`, i `MAX_STEPS` (noteu que necessitem dos punts per començar).\n",
        "\n",
        "1. Inicialitzem $x_1 = a$, $x_2 = b$, $f_1 = f(x_1)$, i $f_2 = f(x_2)$\n",
        "2. Iterem fins assolir `MAX_STEPS` o obtenir `TOLERANCE`\n",
        "   1. Calcular $x_{k+1}$\n",
        "   2. Comprovar la condició per acabar la iteració\n",
        "   3. Actualitzar els paràmetres $x_1$, $x_2$, $f_1 = f(x_1)$ i $f_2(x_2)$"
      ]
    },
    {
      "metadata": {
        "id": "4z01t3PJMqRN",
        "colab_type": "code",
        "colab": {}
      },
      "cell_type": "code",
      "source": [
        "P = 1500.0\n",
        "m = 12\n",
        "n = 20.0\n",
        "A = 1e6\n",
        "r = numpy.linspace(0.05, 0.11, 100)\n",
        "f = lambda r, A=A, m=m, P=P, n=n: \\\n",
        "        A - m * P / r * ((1.0 + r / m)**(m * n) - 1.0)\n",
        "f_prime = lambda r, A=A, m=m, P=P, n=n: \\\n",
        "            -P*m*n*(1.0 + r/m)**(m*n)/(r*(1.0 + r/m)) \\\n",
        "                + P*m*((1.0 + r/m)**(m*n) - 1.0)/r**2\n",
        "\n",
        "# Algorithm parameters\n",
        "MAX_STEPS = 50\n",
        "TOLERANCE = 1e-4\n",
        "        \n",
        "# Initial bracket\n",
        "x_k = 0.07\n",
        "x_km = 0.06\n",
        "\n",
        "# Implementa el mètode de les secants"
      ],
      "execution_count": 0,
      "outputs": []
    },
    {
      "metadata": {
        "id": "bs2Z998Uzc8r",
        "colab_type": "code",
        "cellView": "form",
        "colab": {}
      },
      "cell_type": "code",
      "source": [
        "#@title\n",
        "P = 1500.0\n",
        "m = 12\n",
        "n = 20.0\n",
        "A = 1e6\n",
        "r = numpy.linspace(0.05, 0.11, 100)\n",
        "f = lambda r, A=A, m=m, P=P, n=n: \\\n",
        "        A - m * P / r * ((1.0 + r / m)**(m * n) - 1.0)\n",
        "f_prime = lambda r, A=A, m=m, P=P, n=n: \\\n",
        "            -P*m*n*(1.0 + r/m)**(m*n)/(r*(1.0 + r/m)) \\\n",
        "                + P*m*((1.0 + r/m)**(m*n) - 1.0)/r**2\n",
        "\n",
        "# Algorithm parameters\n",
        "MAX_STEPS = 50\n",
        "TOLERANCE = 1e-4\n",
        "        \n",
        "# Initial bracket\n",
        "x_k = 0.07\n",
        "x_km = 0.06\n",
        "\n",
        "# Setup figure to plot convergence\n",
        "fig = plt.figure()\n",
        "axes = fig.add_subplot(1, 1, 1)\n",
        "axes.plot(r, f(r), 'b')\n",
        "axes.plot(r, numpy.zeros(r.shape),'r--')\n",
        "\n",
        "for n in range(1, MAX_STEPS + 1):\n",
        "    axes.plot(x_k, f(x_k), 'o')\n",
        "    axes.text(x_k + 0.0025, f(x_k), n, fontsize=\"15\")\n",
        "    x_kp = x_k - f(x_k) * (x_k - x_km) / (f(x_k) - f(x_km))\n",
        "    x_km = x_k\n",
        "    x_k = x_kp\n",
        "    print(\"Residual = \", numpy.abs(f(x_k)))\n",
        "    if numpy.abs(f(x_k)) < TOLERANCE:\n",
        "        break\n",
        "        \n",
        "if n == MAX_STEPS:\n",
        "    print(\"Reached maximum number of steps!\")\n",
        "else:\n",
        "    print(\"Success!\")\n",
        "    print(\"  x* = %s\" % x_k)\n",
        "    print(\"  f(x*) = %s\" % f(x_k))\n",
        "    print(\"  number of steps = %s\" % n)\n",
        "\n",
        "axes.set_xlabel(\"r (%)\")\n",
        "axes.set_ylabel(\"f(r)\")\n",
        "axes.set_title(\"Secant Method\")\n",
        "axes.ticklabel_format(axis='y', style='sci', scilimits=(-1,1))\n",
        "\n",
        "plt.show()"
      ],
      "execution_count": 0,
      "outputs": []
    },
    {
      "metadata": {
        "id": "UEZEk4e_zc8v",
        "colab_type": "text"
      },
      "cell_type": "markdown",
      "source": [
        "#### Comentaris\n",
        "\n",
        "- El mètode de les secants presentat és equivalent a la interpolació lineal.\n",
        "- Es pot fer interpolació d'ordres més elevats per fer mètodes de les secants d'ordre superior.\n",
        "- La convergència no és del tot quadràtica.\n",
        "- No es garanteix la convergència.\n",
        "- No es preserven els brackets.\n",
        "- Pot ser tant bo com el mètode de Newton si el valor inicial és adequat.\n"
      ]
    },
    {
      "metadata": {
        "id": "JAYCTo1zzc8w",
        "colab_type": "text"
      },
      "cell_type": "markdown",
      "source": [
        "### Mètodes híbrids\n",
        "\n",
        "\n",
        "#### Objectius\n",
        "1. Robustesa:  Donat un bracket $[a,b]$, mantenir el bracket\n",
        "1. Eficiència:  Utilitzar mètodes de convergència superlineal quan sigui possible\n",
        "\n",
        "#### Opcions\n",
        " - Mètodes que requereixen $f'(x)$\n",
        "   - NewtSafe (RootSafe, Numerical Recipes)\n",
        "   - Newton's Method dins un bracket, Bisection en cas contrari\n",
        " - Mètodes que no requereixen $f'(x)$\n",
        "   - Brent's Algorithm (zbrent, Numerical Recipes)\n",
        "     - Combinar bisecció, secants i interpolació quadràtica inversa\n",
        "   - `scipy.optimize` package"
      ]
    },
    {
      "metadata": {
        "id": "hA0BdnLRzc9Q",
        "colab_type": "text"
      },
      "cell_type": "markdown",
      "source": [
        "## Scipy\n",
        "\n",
        "Scipy conté eines per fer optimització!"
      ]
    },
    {
      "metadata": {
        "id": "1tDINws4zc9R",
        "colab_type": "code",
        "colab": {}
      },
      "cell_type": "code",
      "source": [
        "import scipy.optimize as optimize\n",
        "print(optimize.golden(f, brack=(0.2, 0.25, 0.5)))"
      ],
      "execution_count": 0,
      "outputs": []
    }
  ]
}