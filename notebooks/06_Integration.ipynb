{
  "nbformat": 4,
  "nbformat_minor": 0,
  "metadata": {
    "colab": {
      "name": "08_quadrature.ipynb",
      "version": "0.3.2",
      "provenance": [],
      "collapsed_sections": [],
      "include_colab_link": true
    },
    "kernelspec": {
      "display_name": "Python 3",
      "language": "python",
      "name": "python3"
    }
  },
  "cells": [
    {
      "cell_type": "markdown",
      "metadata": {
        "id": "view-in-github",
        "colab_type": "text"
      },
      "source": [
        "<a href=\"https://colab.research.google.com/github/sergiogf93/MetNumerics/blob/master/notebooks/06_Integration.ipynb\" target=\"_parent\"><img src=\"https://colab.research.google.com/assets/colab-badge.svg\" alt=\"Open In Colab\"/></a>"
      ]
    },
    {
      "metadata": {
        "id": "hnfuh35qieGu",
        "colab_type": "code",
        "colab": {}
      },
      "cell_type": "code",
      "source": [
        "from __future__ import print_function\n",
        "\n",
        "%matplotlib inline\n",
        "import numpy\n",
        "import matplotlib.pyplot as plt"
      ],
      "execution_count": 0,
      "outputs": []
    },
    {
      "metadata": {
        "id": "Ool4Qy4BieG5",
        "colab_type": "text"
      },
      "cell_type": "markdown",
      "source": [
        "# Integració numèrica\n",
        "\n",
        "**Objectiu:** Evaluar integrals\n",
        "\n",
        "$$ \\int^b_a f(x) dx$$"
      ]
    },
    {
      "metadata": {
        "id": "Qgl7IyqAieG9",
        "colab_type": "text"
      },
      "cell_type": "markdown",
      "source": [
        "Moltes integrals definides no tenen sol·lució\n",
        "\n",
        "$$ \n",
        "   \\int^b_a \\sqrt{1 + \\cos^2 x} dx\n",
        "$$"
      ]
    },
    {
      "metadata": {
        "id": "yHVX0rOsieHM",
        "colab_type": "text"
      },
      "cell_type": "markdown",
      "source": [
        "### Fonaments de la quadratura\n",
        "\n",
        "Volem obtenir l'integral $I$ a partir d'una aproximació $I_N$ tal que\n",
        "\n",
        "$$\n",
        "    I = \\int^b_a f(x) dx \\approx I_N = \\sum^{N}_{i=1} w_i f(x_i)\n",
        "$$\n",
        "\n",
        "on les $x_i$ són els *punts de quadratura* o *nodes* i els \"w_i\" són els *pesos*. Normalment una determinada regla de quadratura especifica els punts $x_i$ i el conjunt de pesos $w_i$.\n",
        "\n",
        "La convergència requereix:\n",
        "\n",
        "$$\n",
        "    \\lim_{N \\rightarrow \\infty} I_N = I.\n",
        "$$"
      ]
    },
    {
      "metadata": {
        "id": "8HQ-C3AUieHQ",
        "colab_type": "text"
      },
      "cell_type": "markdown",
      "source": [
        "## Sumes Riemannes\n",
        "\n",
        "Donada $f(x)$ i una partició de l'interval $[a,b]$ en $\\{x_i\\}^N_{i=0}$ i $a = x_0 < x_1 < \\ldots < x_N = b$ i $x^*_i \\in [x_i, x_{i+1}]$ definim els sumatori de Riemann com:\n",
        "\n",
        "$$\\int^b_a f(x) dx = \\lim_{N\\rightarrow \\infty} \\sum^{N-1}_{i=0} f(x_i^*) (x_{i+1} - x_i)$$\n",
        "\n",
        "Aquesta és una definició general que porta a diferents tècniques de quadratura basades en com escollim $x_i^* \\in [x_i, x_{i+1}]$."
      ]
    },
    {
      "metadata": {
        "id": "7XJWPhx9ieHT",
        "colab_type": "text"
      },
      "cell_type": "markdown",
      "source": [
        "### Regla del punt mig\n",
        "\n",
        "Escollim $x_i^*$ tal que\n",
        "\n",
        "$$x_i^* = \\frac{x_{i+1} + x_i}{2}$$\n",
        "\n",
        "de manera que\n",
        "\n",
        "$$I[f] = \\int^b_a f(x) dx \\approx \\sum^{N-1}_{i=0} f\\left(\\frac{x_{i+1} + x_i}{2} \\right ) (x_{i+1} - x_i) = I_N[f]$$\n",
        "\n",
        "sobre $\\Delta x_i = x_{i+1} - x_i$ "
      ]
    },
    {
      "metadata": {
        "id": "F0M96U-aieHW",
        "colab_type": "text"
      },
      "cell_type": "markdown",
      "source": [
        "#### Exercici: Integrar amb la regla del punt mig\n",
        "\n",
        "Calcula l'integral \n",
        "\n",
        "$$\n",
        "  \\int^{2\\pi}_0 sin(x)dx\n",
        "$$\n",
        "\n",
        "A partir del mètode de sumes de Riemann. Compara el resultat numèric amb l'analític:\n",
        "\n",
        "$$\n",
        "    \\int^x_0 sin(\\hat{x}) d\\hat{x} = \\left . -\\cos \\hat{x} \\right|^x_0 = 1 - \\cos x\n",
        "$$"
      ]
    },
    {
      "metadata": {
        "id": "nBJWntAYnsgM",
        "colab_type": "code",
        "colab": {}
      },
      "cell_type": "code",
      "source": [
        "# Escriu un codi per fer sumes de Rieman i calcular int(sin(x)) per x [0,2pi]\n"
      ],
      "execution_count": 0,
      "outputs": []
    },
    {
      "metadata": {
        "id": "-1HKOZF4ieHY",
        "colab_type": "code",
        "colab": {},
        "cellView": "form"
      },
      "cell_type": "code",
      "source": [
        "#@title\n",
        "# Note that this calculates the cummulative integral from 0.0\n",
        "\n",
        "f = lambda x: numpy.sin(x)\n",
        "I = lambda x: 1.0 - numpy.cos(x)\n",
        "x = numpy.linspace(0.0, 2.0 * numpy.pi, 100)\n",
        "\n",
        "num_partitions = 10\n",
        "x_hat = numpy.linspace(0.0, 2.0 * numpy.pi, num_partitions + 1)\n",
        "x_star = 0.5 * (x_hat[1:] + x_hat[:-1])\n",
        "delta_x = x_hat[1] - x_hat[0]\n",
        "\n",
        "fig = plt.figure()\n",
        "fig.subplots_adjust(hspace=.5)\n",
        "axes = fig.add_subplot(2, 1, 1)\n",
        "\n",
        "axes.plot(x, numpy.zeros(x.shape), 'k--')\n",
        "axes.plot(x, f(x), 'b')\n",
        "\n",
        "for i in range(num_partitions):\n",
        "    axes.plot([x_hat[i], x_hat[i]], [0.0, f(x_star[i])], 'k--')\n",
        "    axes.plot([x_hat[i + 1], x_hat[i + 1]], [0.0, f(x_star[i])], 'k--')\n",
        "    axes.plot([x_hat[i], x_hat[i + 1]], [f(x_star[i]), f(x_star[i])], 'k--')\n",
        "    \n",
        "axes.set_xlabel(\"x\")\n",
        "axes.set_ylabel(\"$f(x)$\")\n",
        "axes.set_title(\"Partition and $f(x)$\")\n",
        "axes.set_xlim((0.0, 2.0 * numpy.pi))\n",
        "axes.set_ylim((-1.1, 1.1))\n",
        "\n",
        "I_hat = numpy.zeros(x_star.shape)\n",
        "I_hat[0] = f(x_star[0]) * delta_x\n",
        "for i in range(1, num_partitions):\n",
        "    I_hat[i] = I_hat[i - 1] + f(x_star[i]) * delta_x\n",
        "    \n",
        "axes = fig.add_subplot(2, 1, 2)\n",
        "\n",
        "axes.plot(x, I(x), 'r')\n",
        "# Offset due to indexing above\n",
        "axes.plot(x_star + delta_x / 2.0, I_hat, 'ko')\n",
        "\n",
        "axes.set_xlabel(\"x\")\n",
        "axes.set_ylabel(\"$f(x)$\")\n",
        "axes.set_title(\"Integral and Approximated Integral\")\n",
        "axes.set_xlim((0.0, 2.0 * numpy.pi))\n",
        "axes.set_ylim((-0.1, 2.5))\n",
        "\n",
        "plt.show()"
      ],
      "execution_count": 0,
      "outputs": []
    },
    {
      "metadata": {
        "id": "atYdv0uFieHm",
        "colab_type": "text"
      },
      "cell_type": "markdown",
      "source": [
        "### Quadratura Newton-Cotes\n",
        "\n",
        "A partir d'$N+1$ punts, evaluar $f(x)$ en aquests punts i integrar exactament el polinomi interpolador:\n",
        "\n",
        "$$I_N[f] = \\int^b_a P_N(x) dx$$"
      ]
    },
    {
      "metadata": {
        "id": "ZqetHT-1ieHp",
        "colab_type": "text"
      },
      "cell_type": "markdown",
      "source": [
        "#### Mètode trapezial\n"
      ]
    },
    {
      "metadata": {
        "id": "4W3Tou-0ieHr",
        "colab_type": "text"
      },
      "cell_type": "markdown",
      "source": [
        "A partir de polinomis d'ordre 1 entre cada punt (i.e. polinomis lineals definits a trossos).  Els coeficients dels polinomis per cada interval són:\n",
        "\n",
        "$$p_0 = f(x_i) \\quad \\quad p_1 = \\frac{f(x_{i+1}) - f(x_i)}{x_{i+1} - x_i}$$\n",
        "\n",
        "S'obté el polinomi interpolador:\n",
        "\n",
        "$$p_1(x) = \\frac{f(x_{i+1}) - f(x_i)}{x_{i+1} - x_i} ( x- x_i) + f(x_i)$$"
      ]
    },
    {
      "metadata": {
        "id": "kBGm52cxieHt",
        "colab_type": "text"
      },
      "cell_type": "markdown",
      "source": [
        "Integrant aquest polinomi tenim:\n",
        "\n",
        "$$\\begin{aligned}\n",
        "    \\int^{x_{i+1}}_{x_i} (p_0 + p_1 (x - x_i)) dx &= \\left . p_0 x + p_1 \\left (\\frac{x^2}{2} - x_i x\\right) \\right |^{x_{i+1}}_{x_i} \\\\\n",
        "    &= p_0 \\Delta x + p_1 \\left (\\frac{1}{2} (x_{i+1} + x_i) \\Delta x - x_i \\Delta x\\right) \\\\\n",
        "    &= f(x_i) \\Delta x + (f(x_{i+1}) - f(x_i))\\left (\\frac{1}{2} (x_{i+1} + x_i) - x_i\\right) \\\\\n",
        "    &= f(x_i) \\Delta x + (f(x_{i+1}) - f(x_i)) \\frac{\\Delta x}{2} \\\\\n",
        "    & = \\frac{\\Delta x}{2} (f(x_{i+1}) + f(x_i))\n",
        "\\end{aligned}$$"
      ]
    },
    {
      "metadata": {
        "id": "Jpp0e-LfieHv",
        "colab_type": "text"
      },
      "cell_type": "markdown",
      "source": [
        "Podem simplificar la suma si notem que tots els termes excepte els punts dels extrems tenen una contribució total de $\\Delta x$ a la suma total tal que:\n",
        "\n",
        "$$\n",
        "    I_N[f] = \\frac{\\Delta x}{2} (f(x_0) + f(x_N) ) + \\sum^{N-1}_{j=1} \\Delta x f(x_j)\n",
        "$$\n"
      ]
    },
    {
      "metadata": {
        "id": "LnescaD0tPT_",
        "colab_type": "text"
      },
      "cell_type": "markdown",
      "source": [
        "#### Exercici: Integrar amb el mètode trapezial\n",
        "\n",
        "Calcula l'integral \n",
        "\n",
        "$$\n",
        "  \\int^{2\\pi}_0 sin(x)dx\n",
        "$$\n",
        "\n",
        "A partir del mètode trapezial. Compara el resultat numèric amb l'analític:\n",
        "\n",
        "$$\n",
        "    \\int^x_0 sin(\\hat{x}) d\\hat{x} = \\left . -\\cos \\hat{x} \\right|^x_0 = 1 - \\cos x\n",
        "$$"
      ]
    },
    {
      "metadata": {
        "id": "L8hlkfKZtUVp",
        "colab_type": "code",
        "colab": {}
      },
      "cell_type": "code",
      "source": [
        "# Escriu el codi"
      ],
      "execution_count": 0,
      "outputs": []
    },
    {
      "metadata": {
        "id": "oNEi-E1PieHy",
        "colab_type": "code",
        "colab": {},
        "cellView": "form"
      },
      "cell_type": "code",
      "source": [
        "#@title\n",
        "# Note that this calculates the cummulative integral from 0.0\n",
        "\n",
        "f = lambda x: numpy.sin(x)\n",
        "I = lambda x: 1.0 - numpy.cos(x)\n",
        "x = numpy.linspace(0.0, 2.0 * numpy.pi, 100)\n",
        "\n",
        "num_partitions = 20\n",
        "x_hat = numpy.linspace(0.0, 2.0 * numpy.pi, num_partitions + 1)\n",
        "delta_x = x_hat[1] - x_hat[0]\n",
        "\n",
        "fig = plt.figure()\n",
        "fig.subplots_adjust(hspace=.5)\n",
        "axes = fig.add_subplot(2, 1, 1)\n",
        "\n",
        "axes.plot(x, numpy.zeros(x.shape), 'k--')\n",
        "axes.plot(x, f(x), 'b')\n",
        "\n",
        "for i in range(num_partitions):\n",
        "    axes.plot([x_hat[i], x_hat[i]], [0.0, f(x_hat[i])], 'k--')\n",
        "    axes.plot([x_hat[i + 1], x_hat[i + 1]], [0.0, f(x_hat[i+1])], 'k--')\n",
        "    axes.plot([x_hat[i], x_hat[i + 1]], [f(x_hat[i]), f(x_hat[i+1])], 'k--')\n",
        "    \n",
        "axes.set_xlabel(\"x\")\n",
        "axes.set_ylabel(\"$f(x)$\")\n",
        "axes.set_title(\"Partition and $f(x)$\")\n",
        "axes.set_xlim((0.0, 2.0 * numpy.pi))\n",
        "axes.set_ylim((-1.1, 1.1))\n",
        "\n",
        "I_hat = numpy.zeros(x_hat.shape)\n",
        "I_hat[0] = (f(x_hat[1]) + f(x_hat[0])) * delta_x / 2.0\n",
        "for i in range(1, num_partitions):\n",
        "    I_hat[i] = I_hat[i - 1] + (f(x_hat[i + 1]) + f(x_hat[i])) * delta_x / 2.0\n",
        "    \n",
        "axes = fig.add_subplot(2, 1, 2)\n",
        "\n",
        "axes.plot(x, I(x), 'r')\n",
        "# Offset due to indexing above\n",
        "axes.plot(x_hat + delta_x, I_hat, 'ko')\n",
        "\n",
        "axes.set_xlabel(\"x\")\n",
        "axes.set_ylabel(\"$f(x)$\")\n",
        "axes.set_title(\"Integral and Approximated Integral\")\n",
        "axes.set_xlim((0.0, 2.0 * numpy.pi))\n",
        "axes.set_ylim((-0.1, 2.5))\n",
        "\n",
        "plt.show()"
      ],
      "execution_count": 0,
      "outputs": []
    },
    {
      "metadata": {
        "id": "5H4EXrjvieH7",
        "colab_type": "text"
      },
      "cell_type": "markdown",
      "source": [
        "#### Regla de Simpson\n",
        "\n",
        "La regla de Simpson utilitza polinomis de segon ordre entre cada pung (i.e. polinomis quadràtics definits a trossos).\n",
        "\n",
        "Els polinomis tenen la forma\n",
        "\n",
        "$$P_2(x) = \\frac{2 f(x_i)}{\\Delta x^2} \\left (x - \\frac{\\Delta x}{2} \\right ) (x - \\Delta x) - \\frac{4 f\\left(x_i + \\frac{\\Delta x}{2}\\right)}{\\Delta x^2}  x (x - \\Delta x) + \\frac{2 f(x_{i+1})}{\\Delta x^2} x \\left (x - \\frac{\\Delta x}{2} \\right )$$"
      ]
    },
    {
      "metadata": {
        "id": "Y8HtvqlfieH9",
        "colab_type": "text"
      },
      "cell_type": "markdown",
      "source": [
        "La integral d'aquest polinomi dóna\n",
        "\n",
        "$$\n",
        "    \\int^{x_{i+1}}_{x_i} P_2(x) dx = \\frac{\\Delta x}{6} f(x_i) + \\frac{2 \\Delta x}{3} f\\left(x_i + \\frac{\\Delta x}{2} \\right ) + \\frac{\\Delta x}{6} f(x_{i+1})\n",
        "$$"
      ]
    },
    {
      "metadata": {
        "id": "PvIWbZyAu7-u",
        "colab_type": "text"
      },
      "cell_type": "markdown",
      "source": [
        "#### Exercici: Integrar amb la regla de Simpson\n",
        "\n",
        "Calcula l'integral \n",
        "\n",
        "$$\n",
        "  \\int^{2\\pi}_0 sin(x)dx\n",
        "$$\n",
        "\n",
        "A partir de la regla de Simpson. Compara el resultat numèric amb l'analític:\n",
        "\n",
        "$$\n",
        "    \\int^x_0 sin(\\hat{x}) d\\hat{x} = \\left . -\\cos \\hat{x} \\right|^x_0 = 1 - \\cos x\n",
        "$$"
      ]
    },
    {
      "metadata": {
        "id": "lQGPAHbmvAiR",
        "colab_type": "code",
        "colab": {}
      },
      "cell_type": "code",
      "source": [
        "# Escriu el codi aquí\n"
      ],
      "execution_count": 0,
      "outputs": []
    },
    {
      "metadata": {
        "id": "AthXnGmCieIH",
        "colab_type": "code",
        "colab": {},
        "cellView": "form"
      },
      "cell_type": "code",
      "source": [
        "#@title\n",
        "# Note that this calculates the cummulative integral from 0.0\n",
        "\n",
        "f = lambda x: numpy.sin(x)\n",
        "I = lambda x: 1.0 - numpy.cos(x)\n",
        "x = numpy.linspace(0.0, 2.0 * numpy.pi, 100)\n",
        "\n",
        "num_partitions = 10\n",
        "x_hat = numpy.linspace(0.0, 2.0 * numpy.pi, num_partitions + 1)\n",
        "delta_x = x_hat[1] - x_hat[0]\n",
        "\n",
        "fig = plt.figure()\n",
        "fig.subplots_adjust(hspace=.5)\n",
        "axes = fig.add_subplot(2, 1, 1)\n",
        "\n",
        "axes.plot(x, numpy.zeros(x.shape), 'k--')\n",
        "axes.plot(x, f(x), 'b')\n",
        "\n",
        "for i in range(num_partitions):\n",
        "    axes.plot([x_hat[i], x_hat[i]], [0.0, f(x_hat[i])], 'k--')\n",
        "    axes.plot([x_hat[i + 1], x_hat[i + 1]], [0.0, f(x_hat[i + 1])], 'k--')\n",
        "    coeff = numpy.polyfit((x_hat[i], x_hat[i] + delta_x / 2.0, x_hat[i + 1]), \n",
        "                          (f(x_hat[i]), f(x_hat[i] + delta_x / 2.0), f(x_hat[i+1])), 2)\n",
        "    x_star = numpy.linspace(x_hat[i], x_hat[i+1], 10)\n",
        "    axes.plot(x_star, numpy.polyval(coeff, x_star), 'k--')\n",
        "    \n",
        "axes.set_xlabel(\"x\")\n",
        "axes.set_ylabel(\"$f(x)$\")\n",
        "axes.set_title(\"Partition and $f(x)$\")\n",
        "axes.set_xlim((0.0, 2.0 * numpy.pi))\n",
        "axes.set_ylim((-1.1, 1.1))\n",
        "\n",
        "I_hat = numpy.zeros(x_hat.shape)\n",
        "I_hat[0] = delta_x * (1.0 / 6.0 * (f(x_hat[0]) + f(x_hat[1])) + 2.0 / 3.0 * f(x_hat[0] + delta_x / 2.0))\n",
        "for i in range(1, num_partitions):\n",
        "    I_hat[i] = I_hat[i - 1] + delta_x * (1.0 / 6.0 * (f(x_hat[i]) + f(x_hat[i+1])) + 2.0 / 3.0 * f(x_hat[i] + delta_x / 2.0))\n",
        "    \n",
        "axes = fig.add_subplot(2, 1, 2)\n",
        "\n",
        "axes.plot(x, I(x), 'r')\n",
        "# Offset due to indexing above\n",
        "axes.plot(x_hat + delta_x, I_hat, 'ko')\n",
        "\n",
        "axes.set_xlabel(\"x\")\n",
        "axes.set_ylabel(\"$f(x)$\")\n",
        "axes.set_title(\"Integral and Approximated Integral\")\n",
        "axes.set_xlim((0.0, 2.0 * numpy.pi))\n",
        "axes.set_ylim((-0.1, 2.5))\n",
        "\n",
        "plt.show()"
      ],
      "execution_count": 0,
      "outputs": []
    },
    {
      "metadata": {
        "id": "beUesNqoieIM",
        "colab_type": "text"
      },
      "cell_type": "markdown",
      "source": [
        "## Anàlisi dels errors\n",
        "\n",
        "A partir del que hem vist, un mètode determinat d'integració $I_N$ es pot escriure com:\n",
        "\n",
        "$$\n",
        "    I_N[f] = \\sum^{N-1}_{i=0} w_i f(x_i).\n",
        "$$"
      ]
    },
    {
      "metadata": {
        "id": "Yi5Vb5psieIO",
        "colab_type": "text"
      },
      "cell_type": "markdown",
      "source": [
        "Definim l'error $E[f]$ tal que\n",
        "\n",
        "$$I[f] = I_N[f] + E_N[f]$$\n"
      ]
    },
    {
      "metadata": {
        "id": "pTRXNR70ieIQ",
        "colab_type": "text"
      },
      "cell_type": "markdown",
      "source": [
        "### Precisió de la quadratura\n",
        "\n",
        "Podem utilitzar el nostre anàlisi polinomial d'abans per analitzar l'error de cada mètode. A partir del teorema de Lagrange tenim el terme resta d'abans que podem utilitzar per trobar l'error per interval fent l'integral.\n",
        "\n",
        "$$R_N(x) = (x - x_0)(x - x_1) \\cdots (x- x_N) \\frac{f^{(N+1)}(c)}{(N+1)!}$$\n"
      ]
    },
    {
      "metadata": {
        "id": "obXBBLlKieIR",
        "colab_type": "text"
      },
      "cell_type": "markdown",
      "source": [
        "Per trobar l'error total hem de sumar l'error per cada interval:\n",
        "\n",
        "$$I[f] = \\sum_{i=0}^N \\int^{x_{i+1}}_{x_i} P_N(x) dx + \\sum_{i=0}^N \\int^{x_{i+1}}_{x_i} R_N(x) dx = I_N[f] + E_N[f]$$\n"
      ]
    },
    {
      "metadata": {
        "id": "Vdhy_b18ieIU",
        "colab_type": "text"
      },
      "cell_type": "markdown",
      "source": [
        "#### Error trapezial\n",
        "\n",
        "Per $N=1$ tenim\n",
        "\n",
        "$$R_1(x) = (x - x_i) (x - x_{i+1}) \\frac{f''(c)}{2}$$\n",
        "\n",
        "La integració dóna\n",
        "\n",
        "$$\\int^{x_{i+1}}_{x_i} (x - x_i) (x - x_{i+1}) \\frac{f''(c)}{2} dx = -\\frac{\\Delta x^3}{12} f''(c)$$\n"
      ]
    },
    {
      "metadata": {
        "id": "2rjFB1RuieIV",
        "colab_type": "text"
      },
      "cell_type": "markdown",
      "source": [
        "Si sumem per cada interval l'error total és:\n",
        "\n",
        "$$E_N[f] = -\\frac{\\Delta x^3}{12} \\sum_{i=0}^{N} f''(c_i)$$\n",
        "\n",
        "o més il·lustratiu\n",
        "\n",
        "$$E_N[f] = -\\frac{1}{2} \\Delta x^2 (b - a) \\left [ \\frac{1}{N} \\sum^{N-1}_{i=0} f''(c_i) \\right ]$$\n",
        "\n",
        "on l'expressió en brackets és la mitjana de la segona derivada sobre l'interval $[a,b]$. Això mostra que el mètode trapezial convergeix quadràticament si $\\Delta x \\rightarrow 0$."
      ]
    },
    {
      "metadata": {
        "id": "5xZYhJEHieIW",
        "colab_type": "text"
      },
      "cell_type": "markdown",
      "source": [
        "#### Error del mètode de Simpson\n",
        "\n",
        "Aquí tenim $N = 2$ \n",
        "\n",
        "$$R_2(x) = (x - x_i) \\left(x - x_i - \\frac{\\Delta x}{2} \\right) (x - x_{i+1}) \\frac{f'''(c)}{3!}$$\n",
        "\n",
        "Fent la integració i sumant per trobar l'error obtenim:\n",
        "\n",
        "$$E_N[f] = -\\frac{1}{180} (b - a) \\Delta x^4 f^{(4)}(c)$$\n",
        "\n",
        "Veiem que hem guanyat dos ordres de magnitud en precisió simplement augmentant l'ordre del polinomi en 1!"
      ]
    },
    {
      "metadata": {
        "id": "DFu-EFFRieIX",
        "colab_type": "text"
      },
      "cell_type": "markdown",
      "source": [
        "##### Exercici:\n",
        "\n",
        "Per $f(x) = \\sin \\pi x$ calcula l'error en funció del nombre de punts (i.e. la mida de $\\Delta x$)\n",
        "a l'interval $x\\in[0,1]$.\n",
        "\n",
        "$$\\begin{aligned}\n",
        "    \\text{Exact:}  &I[f] = \\int^1_0 \\sin \\pi x = \\left . \\frac{-\\cos \\pi x}{\\pi} \\right |^1_0 = \\frac{2}{\\pi} \\approx 0.636619772 \\\\\n",
        "    \\text{Midpoint:}  &I_1[f] = \\Delta x f(1/2) = \\sin (\\pi / 2) = 1 \\\\\n",
        "    \\text{Trapezoid:}  &I_1[f] = \\frac{\\Delta x}{2} (\\sin(0) + \\sin(\\pi)) = 0 \\\\\n",
        "    \\text{Simpson's:}  &I_1[f] = \\frac{\\Delta x}{6} \\sin(0) + \\frac{2 \\Delta x}{3} \\sin(\\pi / 2) + \\frac{\\Delta x}{6} \\sin(\\pi) = \\frac{2 \\Delta x}{3} = \\frac{2}{3}\n",
        "\\end{aligned}$$"
      ]
    },
    {
      "metadata": {
        "id": "1NK26Zre4XOJ",
        "colab_type": "code",
        "colab": {}
      },
      "cell_type": "code",
      "source": [
        "# Calcula l'error pels diferents mètodes d'integració numèrica.\n",
        "f = lambda x: numpy.sin(numpy.pi * x)\n",
        "\n",
        "num_partitions = range(50, 1000, 50)\n",
        "\n",
        "# Per cada N \\in num_partitions, omple els següents arrays amb:\n",
        "delta_x = numpy.empty(len(num_partitions))       # Delta x corresponent a M\n",
        "error_mid = numpy.empty(len(num_partitions))     # Error amb el mètode del punt mig\n",
        "error_trap = numpy.empty(len(num_partitions))    # Error amb el mètode trapezial\n",
        "error_simpson = numpy.empty(len(num_partitions)) # Error amb el mètode de Simpson\n",
        "\n",
        "# Fes un plot per cada error vs delta_x\n"
      ],
      "execution_count": 0,
      "outputs": []
    },
    {
      "metadata": {
        "id": "F4Sl0jNOieIa",
        "colab_type": "code",
        "colab": {},
        "cellView": "form"
      },
      "cell_type": "code",
      "source": [
        "#@title\n",
        "# Compute the error as a function of delta_x for each method\n",
        "f = lambda x: numpy.sin(numpy.pi * x)\n",
        "\n",
        "num_partitions = range(50, 1000, 50)\n",
        "delta_x = numpy.empty(len(num_partitions))\n",
        "error_mid = numpy.empty(len(num_partitions))\n",
        "error_trap = numpy.empty(len(num_partitions))\n",
        "error_simpson = numpy.empty(len(num_partitions))\n",
        "\n",
        "for (j, N) in enumerate(num_partitions):\n",
        "    x_hat = numpy.linspace(0.0, 1.0, N + 1)\n",
        "    delta_x[j] = x_hat[1] - x_hat[0]\n",
        "\n",
        "    # Compute Midpoint\n",
        "    x_star = 0.5 * (x_hat[1:] + x_hat[:-1])\n",
        "    I_hat = 0.0\n",
        "    for i in range(0, N):\n",
        "        I_hat += f(x_star[i]) * delta_x[j]\n",
        "    error_mid[j] = numpy.abs(I_hat - 2.0 / numpy.pi)\n",
        "    \n",
        "    # Compute trapezoid\n",
        "    I_hat = 0.0\n",
        "    for i in range(1, N):\n",
        "        I_hat += (f(x_hat[i + 1]) + f(x_hat[i])) * delta_x[j] / 2.0\n",
        "    error_trap[j] = numpy.abs(I_hat - 2.0 / numpy.pi)\n",
        "    \n",
        "    # Compute simpson's    \n",
        "    I_hat = 0.0\n",
        "    for i in range(0, N):\n",
        "        I_hat += delta_x[j] * (1.0 / 6.0 * (f(x_hat[i]) + f(x_hat[i+1])) + 2.0 / 3.0 * f(x_hat[i] + delta_x[j] / 2.0))\n",
        "    error_simpson[j] = numpy.abs(I_hat - 2.0 / numpy.pi)\n",
        "\n",
        "fig = plt.figure()\n",
        "axes = fig.add_subplot(1, 1, 1)\n",
        "\n",
        "order_C = lambda delta_x, error, order: numpy.exp(numpy.log(error) - order * numpy.log(delta_x))\n",
        "axes.loglog(delta_x, error_mid, 'ro', label=\"Midpoint\")\n",
        "axes.loglog(delta_x, error_trap, 'bo', label=\"Trapezoid\")\n",
        "axes.loglog(delta_x, error_simpson, 'go', label=\"Simpson's\")\n",
        "axes.loglog(delta_x, order_C(delta_x[0], error_trap[0], 2.0) * delta_x**2.0, 'b--', label=\"2nd Order\")\n",
        "axes.loglog(delta_x, order_C(delta_x[0], error_simpson[0], 4.0) * delta_x**4.0, 'g--', label=\"4th Order\")\n",
        "axes.legend(loc=4)\n",
        "\n",
        "plt.show()"
      ],
      "execution_count": 0,
      "outputs": []
    },
    {
      "metadata": {
        "id": "vBZd3MCIieIf",
        "colab_type": "text"
      },
      "cell_type": "markdown",
      "source": [
        "### Millora recursiva de l'exactitud\n",
        "\n",
        "Considera que fem el mètode trapezial amb mida $2 \\Delta x$, tindrem\n",
        "\n",
        "$$\\begin{aligned}\n",
        "\t\t\t\\int^{x_2}_{x_0} f(x) dx  &= \\frac{2 \\Delta x}{2} (f_0 + f_2) =  h (f_0 + f_2) \\Rightarrow \\\\\n",
        "\t\t\t\\int^b_a f(x)dx &\\approx I_{2\\Delta x}[f] = \\sum^{N/2-1}_{j=0} \\Delta x (f_{2j} + f_{2j+2}) \\\\\n",
        "\t\t\t&= \\Delta x (f_{0} + f_{2})  + \\Delta x (f_{2} + f_{4})  + \\cdots + \\Delta x (f_{N-2} + f_{N}) \\\\\n",
        "\t\t\t&= \\Delta x\\left ( f_0 + f_N +  2 \\sum^{N/2-1}_{j=1} f_{2j} \\right )\n",
        "  \\end{aligned}\n",
        "$$"
      ]
    },
    {
      "metadata": {
        "collapsed": true,
        "id": "A-fGH9u_ieIj",
        "colab_type": "text"
      },
      "cell_type": "markdown",
      "source": [
        "Compara els dos mètodes per $\\Delta x$ i $2 \\Delta x$:\n",
        "\n",
        "$$I_{\\Delta x}[f] = \\frac{\\Delta x}{2} \\left (f_0 + f_N + 2 \\sum^{N-1}_{j=1} f_j \\right)~~~~~~~~~ I_{2 \\Delta x}[f] = \\Delta x \\left ( f_0 + f_N +  2 \\sum^{N/2-1}_{j=1} f_{2j} \\right )$$\n",
        "\n",
        "$$I_{\\Delta x}[f] = \\frac{1}{2} I_{2\\Delta x} + \\Delta x(f_1 + f_3 + \\cdots + f_{N-1})$$\n",
        "\n",
        "Veiem que podem reutilitzar el que hem fet per calcular $Q_{2 \\Delta x}[f]$ per redefinir l'integral."
      ]
    },
    {
      "metadata": {
        "id": "TsvNN0-CieIm",
        "colab_type": "text"
      },
      "cell_type": "markdown",
      "source": [
        "### Intervals arbitraris (Transformacions afins)\n",
        "\n",
        "Mapejar $\\xi \\in [-1,1] \\rightarrow x \\in [a,b]$ es pot fer mitjançant una *transformació afí* que és una transformació linear.\n",
        "\n",
        "$$x = \\underbrace{\\frac{b - a}{2}}_{\\text{scaling}} \\xi + \\underbrace{\\frac{a+b}{2}}_{\\text{translation}} ~~~~~ \\text{o} ~~~~~ \\xi = \\left( x - \\frac{a + b}{2}\\right) \\frac{2}{b-a}$$\n",
        "\n",
        "$$\\begin{aligned}\n",
        "    I[f] &= \\int^b_a f(x) dx = \\int^1_{-1} f(x(\\xi)) \\frac{dx}{d\\xi} d\\xi = \\frac{b - a}{2} \\int^1_{-1} f(x(\\xi)) d\\xi\\\\\n",
        "    I_N[f] &= \\sum_i w_i f(x(\\xi_i)) \\left . \\frac{dx}{d\\xi}\\right|_{\\xi_i}\n",
        "\\end{aligned}$$"
      ]
    },
    {
      "metadata": {
        "id": "jWbFWZGVieIo",
        "colab_type": "text"
      },
      "cell_type": "markdown",
      "source": [
        "#### Exemple:  Mètode Newton-Cotes\n",
        "\n",
        "Podem reescriure les equacions prèvies tal que siguin per l'interval $\\xi \\in [-1, 1]$ en comptes de $x \\in [x_i, x_{i+1}]$. Recordeu que en general un mètode de quadratura es pot escriure com:\n",
        "$$\n",
        "    \\sum^N_{i=1} w_i f(\\xi_i)\n",
        "$$\n",
        "\n",
        "on \"w_i\" són els pesos i $\\xi_i$ són els punts específics on avaluar la funció. En el cas de Newton-Cotes sabem que els punts $\\xi_i$ són uniformement distribuïts en $[-1,1]$ però encara hem de definir els pesos. En el mètode trapezial podem veure que\n",
        "\n",
        "$$\n",
        "    \\int^1_{-1} f(x) dx \\approx f(-1) + f(1)\n",
        "$$\n",
        "\n",
        "així doncs $\\xi_0 = 1$,$\\xi_1 = 1$, i $w_0 = w_1 = 1$. Noteu que si fem un mapeig a partir de la transformació afí obtenim el mètode trapezial original:\n",
        "\n",
        "$$\n",
        "    I_N[f] = \\sum_i w_i f(x(\\xi_i)) \\left . \\frac{dx}{d\\xi}\\right|_{\\xi_i} = (f(-1) + f(1)) \\frac{\\Delta x}{2}\n",
        "$$\n",
        "\n",
        "Similarment en el mètode de Simpson tenim\n",
        "\n",
        "$$\n",
        "    \\xi = [-1, 0, 1] \\quad \\text{and} \\quad w = \\left[\\frac{1}{3}, \\frac{4}{3}, \\frac{1}{3} \\right].\n",
        "$$"
      ]
    },
    {
      "metadata": {
        "id": "U6hJ7Bw-ieIp",
        "colab_type": "code",
        "colab": {}
      },
      "cell_type": "code",
      "source": [
        "# Note that this calculates the cummulative integral from 0.0\n",
        "\n",
        "f = lambda x: numpy.sin(x)\n",
        "I = lambda x: 1.0 - numpy.cos(x)\n",
        "x = numpy.linspace(0.0, 2.0 * numpy.pi, 100)\n",
        "\n",
        "num_partitions = 20\n",
        "x_hat = numpy.linspace(0.0, 2.0 * numpy.pi, num_partitions + 1)\n",
        "delta_x = x_hat[1] - x_hat[0]\n",
        "\n",
        "# Trapezoid\n",
        "xi_map = lambda a, b, x: (b - a) / 2.0 * x + (a + b) / 2.0\n",
        "\n",
        "# Trapezoid/Simpson's\n",
        "xi_methods = [[-1, 1], [-1, 0, 1]]\n",
        "w_methods = [[1, 1], [1/3, 4/3, 1/3]]\n",
        "titles = [\"Trapezoid Rule\", \"Simpson's Rule\"]\n",
        "fig, axes = plt.subplots(1, 2)\n",
        "fig.set_figwidth(fig.get_figwidth() * 2)\n",
        "for k in range(2):\n",
        "    xi = xi_methods[k]\n",
        "    w = w_methods[k]\n",
        "    I_hat = numpy.zeros(x_hat.shape)\n",
        "    for j in range(len(xi)):\n",
        "        I_hat[0] += f(xi_map(x_hat[0], x_hat[1], xi[j])) * w[j]\n",
        "    I_hat[0] *= delta_x / 2.0\n",
        "    for i in range(1, num_partitions):\n",
        "        for j in range(len(xi)):\n",
        "            I_hat[i] += f(xi_map(x_hat[i], x_hat[i+1], xi[j])) * w[j]\n",
        "        I_hat[i] *= delta_x / 2.0\n",
        "        I_hat[i] += I_hat[i - 1]\n",
        "\n",
        "\n",
        "    axes[k].plot(x, I(x), 'r')\n",
        "    axes[k].plot(x_hat + delta_x, I_hat, 'ko')\n",
        "    axes[k].set_xlabel(\"x\")\n",
        "    axes[k].set_ylabel(\"$f(x)$\")\n",
        "    axes[k].set_title(\"Integral and Approximated Integral - %s\" % titles[k])\n",
        "    axes[k].set_xlim((0.0, 2.0 * numpy.pi))\n",
        "    axes[k].set_ylim((-0.1, 2.5))\n",
        "\n",
        "plt.show()"
      ],
      "execution_count": 0,
      "outputs": []
    },
    {
      "metadata": {
        "id": "A8rL7qKgieJC",
        "colab_type": "text"
      },
      "cell_type": "markdown",
      "source": [
        "## SciPy Integration Routines\n"
      ]
    },
    {
      "metadata": {
        "id": "tX00b9hiieJD",
        "colab_type": "code",
        "colab": {}
      },
      "cell_type": "code",
      "source": [
        "import scipy.integrate as integrate\n",
        "# integrate?"
      ],
      "execution_count": 0,
      "outputs": []
    }
  ]
}