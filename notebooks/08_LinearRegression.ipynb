{
  "nbformat": 4,
  "nbformat_minor": 0,
  "metadata": {
    "colab": {
      "name": "7. Linear Regression.ipynb",
      "version": "0.3.2",
      "provenance": [],
      "collapsed_sections": [],
      "include_colab_link": true
    },
    "kernelspec": {
      "display_name": "Python 2",
      "language": "python",
      "name": "python2"
    }
  },
  "cells": [
    {
      "cell_type": "markdown",
      "metadata": {
        "id": "view-in-github",
        "colab_type": "text"
      },
      "source": [
        "<a href=\"https://colab.research.google.com/github/sergiogf93/MetNumerics/blob/master/notebooks/07_LinearRegression.ipynb\" target=\"_parent\"><img src=\"https://colab.research.google.com/assets/colab-badge.svg\" alt=\"Open In Colab\"/></a>"
      ]
    },
    {
      "metadata": {
        "id": "J6UhDVnnRjeY",
        "colab_type": "text"
      },
      "cell_type": "markdown",
      "source": [
        "# Regressió lineal\n",
        "\n",
        "Per què utilitzar la regressió lineal?\n",
        "\n",
        "1. Fàcil d'utilitzar\n",
        "2. Fàcil d'interpretar\n",
        "3. Base molts mètodes\n",
        "4. Computacionalment ràpida.\n",
        "5. Molta gent n'ha sentit a parlar :)\n",
        "\n",
        "### Llibreries de Python per la regressió lineal\n",
        "\n",
        "Les més populars són\n",
        "\n",
        "1. `scikit-learn`\n",
        "2. `statsmodels`\n",
        "\n",
        "\n",
        "## Problema\n",
        "\n",
        "Podem predir el preu de la marihuana en un estat a partir de l'informació demogràfica?\n",
        "\n",
        "Trobarem, pel gener de 2015, la mitjana del preu de la marihuana d'alta qualitat en tots els estats. Suposem que no coneixem quins són els preus en els següents estats:\n",
        "\n",
        "<br>\n",
        "iowa, kentucky, missouri, nevada, wyoming, south dakota, new jersey, michigan, idaho\n",
        "<br>\n",
        "\n",
        "Aquest serà el nostre dataset **test**. La resta d'estats són el nostre dataset **train**. Necessitem entrenar el nostre model al train dataset i fer prediccions sobre el test dataset.\n",
        "\n",
        "Com que de fet sí coneixem els preus pels estats al test dataset, podem verificar quant bo són els nostres models."
      ]
    },
    {
      "metadata": {
        "id": "GZ6Hb3WJRjea",
        "colab_type": "code",
        "colab": {}
      },
      "cell_type": "code",
      "source": [
        "import pandas as pd"
      ],
      "execution_count": 0,
      "outputs": []
    },
    {
      "metadata": {
        "id": "w3A9cpL8Rjef",
        "colab_type": "code",
        "colab": {}
      },
      "cell_type": "code",
      "source": [
        "#Load the data\n",
        "weed_pd = pd.read_csv(\"sample_data/Weed_Price.csv\", parse_dates=[-1])\n",
        "demo_pd = pd.read_csv(\"sample_data/Demographics_State.csv\")"
      ],
      "execution_count": 0,
      "outputs": []
    },
    {
      "metadata": {
        "id": "J9QRl-xeRjek",
        "colab_type": "code",
        "colab": {}
      },
      "cell_type": "code",
      "source": [
        "weed_pd.head()"
      ],
      "execution_count": 0,
      "outputs": []
    },
    {
      "metadata": {
        "id": "V-zPkxOORjer",
        "colab_type": "code",
        "colab": {}
      },
      "cell_type": "code",
      "source": [
        "weed_pd.dtypes"
      ],
      "execution_count": 0,
      "outputs": []
    },
    {
      "metadata": {
        "id": "7vuJ9pPhRjex",
        "colab_type": "code",
        "colab": {}
      },
      "cell_type": "code",
      "source": [
        "demo_pd.head()"
      ],
      "execution_count": 0,
      "outputs": []
    },
    {
      "metadata": {
        "id": "8-p2-bckRje3",
        "colab_type": "code",
        "colab": {}
      },
      "cell_type": "code",
      "source": [
        "demo_pd.dtypes"
      ],
      "execution_count": 0,
      "outputs": []
    },
    {
      "metadata": {
        "id": "yTU4sB1oRje_",
        "colab_type": "text"
      },
      "cell_type": "markdown",
      "source": [
        "Veiem que el dataset de preus té els noms dels estats amb la lletra inicial en majúscula. Podem utilitzar el següent command per convertir-la en minúscula."
      ]
    },
    {
      "metadata": {
        "id": "3G1pcSz7RjfA",
        "colab_type": "code",
        "colab": {
          "base_uri": "https://localhost:8080/",
          "height": 35
        },
        "outputId": "8a42b6fa-3f93-46ba-b202-d32b4eb017f6"
      },
      "cell_type": "code",
      "source": [
        "str.lower(\"Alabama\")"
      ],
      "execution_count": 8,
      "outputs": [
        {
          "output_type": "execute_result",
          "data": {
            "text/plain": [
              "'alabama'"
            ]
          },
          "metadata": {
            "tags": []
          },
          "execution_count": 8
        }
      ]
    },
    {
      "metadata": {
        "id": "oEYREkfeRjfH",
        "colab_type": "code",
        "colab": {}
      },
      "cell_type": "code",
      "source": [
        "?weed_pd.apply"
      ],
      "execution_count": 0,
      "outputs": []
    },
    {
      "metadata": {
        "id": "WX4xnvWiRjfL",
        "colab_type": "code",
        "colab": {}
      },
      "cell_type": "code",
      "source": [
        "weed_pd.State = weed_pd[\"State\"].apply(lambda x: str.lower(x))"
      ],
      "execution_count": 0,
      "outputs": []
    },
    {
      "metadata": {
        "id": "2je81WRgRjfQ",
        "colab_type": "code",
        "colab": {}
      },
      "cell_type": "code",
      "source": [
        "weed_pd.head()"
      ],
      "execution_count": 0,
      "outputs": []
    },
    {
      "metadata": {
        "id": "dU4tldORVN5a",
        "colab_type": "text"
      },
      "cell_type": "markdown",
      "source": [
        "Podem mirar quins estats hi ha als dataset:"
      ]
    },
    {
      "metadata": {
        "id": "bs3dTibaRjfW",
        "colab_type": "code",
        "colab": {}
      },
      "cell_type": "code",
      "source": [
        "pd.unique(weed_pd.State)"
      ],
      "execution_count": 0,
      "outputs": []
    },
    {
      "metadata": {
        "id": "qYGFo9QcRjfa",
        "colab_type": "code",
        "colab": {}
      },
      "cell_type": "code",
      "source": [
        "pd.unique(demo_pd.region)"
      ],
      "execution_count": 0,
      "outputs": []
    },
    {
      "metadata": {
        "id": "aog3ccsSRjff",
        "colab_type": "code",
        "colab": {}
      },
      "cell_type": "code",
      "source": [
        "# Prenem el mes i l'any a partir de `date` per poder sel·leccionar gener 2015\n",
        "weed_pd[\"Month\"] = weed_pd[\"date\"].apply(lambda x: x.month)\n",
        "weed_pd[\"Year\"] = weed_pd[\"date\"].apply(lambda x: x.year)"
      ],
      "execution_count": 0,
      "outputs": []
    },
    {
      "metadata": {
        "id": "8DmQTvmHRjfi",
        "colab_type": "code",
        "colab": {}
      },
      "cell_type": "code",
      "source": [
        "weed_jan2015_pd = weed_pd.loc[(weed_pd.Year==2015) & (weed_pd.Month==1)]"
      ],
      "execution_count": 0,
      "outputs": []
    },
    {
      "metadata": {
        "id": "Zed9PsZJRjfl",
        "colab_type": "code",
        "colab": {}
      },
      "cell_type": "code",
      "source": [
        "weed_jan2015_pd.head()"
      ],
      "execution_count": 0,
      "outputs": []
    },
    {
      "metadata": {
        "id": "ILsshUehVXr_",
        "colab_type": "text"
      },
      "cell_type": "markdown",
      "source": [
        "Agrupem les dades en funció de l'estat i fem la mitjana dels valors de HighQ:"
      ]
    },
    {
      "metadata": {
        "id": "kKvVn2WaRjfp",
        "colab_type": "code",
        "colab": {}
      },
      "cell_type": "code",
      "source": [
        "weed_jan2015_summarized = weed_jan2015_pd[[\"State\", \"HighQ\"]].groupby(\"State\").mean().reset_index()"
      ],
      "execution_count": 0,
      "outputs": []
    },
    {
      "metadata": {
        "id": "M7l9G4pzRjfu",
        "colab_type": "code",
        "colab": {}
      },
      "cell_type": "code",
      "source": [
        "#The source price dataset for our model \n",
        "weed_jan2015_summarized"
      ],
      "execution_count": 0,
      "outputs": []
    },
    {
      "metadata": {
        "id": "tc72Aw1RVgSB",
        "colab_type": "text"
      },
      "cell_type": "markdown",
      "source": [
        "Definim el conjunt test:"
      ]
    },
    {
      "metadata": {
        "id": "9oxKV1g3Rjfy",
        "colab_type": "code",
        "colab": {}
      },
      "cell_type": "code",
      "source": [
        "test_states = [\"iowa\", \"kentucky\", \"missouri\", \"nevada\", \"wyoming\", \\\n",
        "               \"south dakota\", \"new jersey\", \"michigan\", \"idaho\" ]"
      ],
      "execution_count": 0,
      "outputs": []
    },
    {
      "metadata": {
        "id": "k43IgcQEVlBP",
        "colab_type": "text"
      },
      "cell_type": "markdown",
      "source": [
        "Agrupem el dataset que conté els preus per estat amb el que conté la informació demogràfica. "
      ]
    },
    {
      "metadata": {
        "id": "07fNTCcsRjf3",
        "colab_type": "code",
        "colab": {}
      },
      "cell_type": "code",
      "source": [
        "data_for_model = pd.merge(weed_jan2015_summarized, demo_pd, left_on=\"State\", right_on=\"region\")"
      ],
      "execution_count": 0,
      "outputs": []
    },
    {
      "metadata": {
        "id": "yWdE_bvGRjf7",
        "colab_type": "code",
        "colab": {}
      },
      "cell_type": "code",
      "source": [
        "data_for_model.head()"
      ],
      "execution_count": 0,
      "outputs": []
    },
    {
      "metadata": {
        "id": "7FlVxOfDWwDo",
        "colab_type": "text"
      },
      "cell_type": "markdown",
      "source": [
        "Creem un array de booleans per distingir quines files corresponen al test dataset i quines al train dataset:"
      ]
    },
    {
      "metadata": {
        "id": "ItL2STuDRjgA",
        "colab_type": "code",
        "colab": {}
      },
      "cell_type": "code",
      "source": [
        "#Now, creating train and test dataset\n",
        "criterion = weed_jan2015_summarized[\"State\"].map(lambda x: x in test_states)\n",
        "#Another way to do it\n",
        "#criterion = weed_jan2015_summarized.State.isin(test_states)"
      ],
      "execution_count": 0,
      "outputs": []
    },
    {
      "metadata": {
        "id": "EKtAM-ULRjgG",
        "colab_type": "code",
        "colab": {}
      },
      "cell_type": "code",
      "source": [
        "print \"Train data labels: \\n\", ~criterion, \"\\n\\n\", \"Test data labels: \\n\", criterion"
      ],
      "execution_count": 0,
      "outputs": []
    },
    {
      "metadata": {
        "id": "Aw8aEZ7CRjgN",
        "colab_type": "code",
        "colab": {}
      },
      "cell_type": "code",
      "source": [
        "train = data_for_model[~criterion]\n",
        "test = data_for_model[criterion]"
      ],
      "execution_count": 0,
      "outputs": []
    },
    {
      "metadata": {
        "id": "nbWaFZtZRjgP",
        "colab_type": "code",
        "colab": {}
      },
      "cell_type": "code",
      "source": [
        "train.shape, test.shape"
      ],
      "execution_count": 0,
      "outputs": []
    },
    {
      "metadata": {
        "id": "ZeoxIEkhRjgS",
        "colab_type": "code",
        "colab": {}
      },
      "cell_type": "code",
      "source": [
        "train"
      ],
      "execution_count": 0,
      "outputs": []
    },
    {
      "metadata": {
        "id": "UQnDB_axRjgW",
        "colab_type": "code",
        "colab": {}
      },
      "cell_type": "code",
      "source": [
        "test"
      ],
      "execution_count": 0,
      "outputs": []
    },
    {
      "metadata": {
        "id": "GDVMES0gRjga",
        "colab_type": "text"
      },
      "cell_type": "markdown",
      "source": [
        "### Regressió lineal\n",
        "\n",
        "Utilitzarem `statsmodels`\n",
        "\n",
        "La regressió lineal és de la forma:\n",
        "\n",
        "$y = \\beta_0 + \\beta_1x_1 + \\beta_2x_2 + ... + \\beta_nx_n$\n",
        "\n",
        "\n",
        "On els $\\beta$ són els *coeficients del model*.\n",
        "\n",
        "Els coeficients del model són estimats a partir de les dades segons diferents mètodes.\n",
        "\n",
        "**Mètode dels mínims quadrats**: Identifiquem els pesos de manera que la solució minimitzi la suma quadrada dels erros per cada conjunt de dades.\n",
        "\n",
        "[Wiki](https://en.wikipedia.org/wiki/Least_squares)\n",
        "\n"
      ]
    },
    {
      "metadata": {
        "id": "qA3m2sUxRjgb",
        "colab_type": "code",
        "colab": {}
      },
      "cell_type": "code",
      "source": [
        "import numpy as np\n",
        "import matplotlib\n",
        "import matplotlib.pyplot as plt\n",
        "from sklearn.linear_model import LinearRegression\n",
        "import seaborn as sns\n",
        "sns.set(color_codes = True)\n",
        "%matplotlib inline"
      ],
      "execution_count": 0,
      "outputs": []
    },
    {
      "metadata": {
        "id": "uAY4Vnu7Rjge",
        "colab_type": "code",
        "colab": {}
      },
      "cell_type": "code",
      "source": [
        "plt.rcParams['figure.figsize'] = (8, 6)\n",
        "plt.rcParams['font.size'] = 14"
      ],
      "execution_count": 0,
      "outputs": []
    },
    {
      "metadata": {
        "id": "kHy7dA8JY9hd",
        "colab_type": "text"
      },
      "cell_type": "markdown",
      "source": [
        "Comencem per visualitzar les dades. Fes una gràfica dels punts (x,y) on x són els valors de la columna 'percent_white' i y són els 'HighQ' pel dataset train. Fes-ne un altre amb x = total_population i un últim amb x = per_capita_income"
      ]
    },
    {
      "metadata": {
        "id": "UEvu-KQ4ZRVk",
        "colab_type": "code",
        "colab": {}
      },
      "cell_type": "code",
      "source": [
        "# Fes un plot HighQ vs percent_white\n",
        "\n",
        "# Fes un plot HighQ vs total_population\n",
        "\n",
        "# Fes un plot HighQ vs per_capita_income"
      ],
      "execution_count": 0,
      "outputs": []
    },
    {
      "metadata": {
        "id": "JUZh0xCuRjgk",
        "colab_type": "code",
        "colab": {},
        "cellView": "form"
      },
      "cell_type": "code",
      "source": [
        "#@title\n",
        "sns.regplot(x=\"percent_white\", y = \"HighQ\", data=train)"
      ],
      "execution_count": 0,
      "outputs": []
    },
    {
      "metadata": {
        "id": "ECBwDfZLRjgu",
        "colab_type": "code",
        "colab": {},
        "cellView": "form"
      },
      "cell_type": "code",
      "source": [
        "#@title\n",
        "sns.regplot(x=\"total_population\", y=\"HighQ\", data=train)"
      ],
      "execution_count": 0,
      "outputs": []
    },
    {
      "metadata": {
        "id": "Tmjqk_djRjgy",
        "colab_type": "code",
        "colab": {},
        "cellView": "form"
      },
      "cell_type": "code",
      "source": [
        "#@title\n",
        "sns.regplot(x=\"per_capita_income\", y=\"HighQ\", data=train)"
      ],
      "execution_count": 0,
      "outputs": []
    },
    {
      "metadata": {
        "id": "ttvli67SRjg1",
        "colab_type": "text"
      },
      "cell_type": "markdown",
      "source": [
        "**Fer fits per un altre plot/model**"
      ]
    },
    {
      "metadata": {
        "id": "ZWG3lbQQRjg3",
        "colab_type": "code",
        "colab": {}
      },
      "cell_type": "code",
      "source": [
        "?sns.lmplot"
      ],
      "execution_count": 0,
      "outputs": []
    },
    {
      "metadata": {
        "id": "HrQ7ae6-Rjg7",
        "colab_type": "code",
        "colab": {}
      },
      "cell_type": "code",
      "source": [
        "sns.lmplot(x=\"total_population\", y=\"HighQ\", data=train, order=3)"
      ],
      "execution_count": 0,
      "outputs": []
    },
    {
      "metadata": {
        "id": "s7po9xD3a96t",
        "colab_type": "text"
      },
      "cell_type": "markdown",
      "source": [
        "**Plot de correlacions**"
      ]
    },
    {
      "metadata": {
        "id": "wNx3fblzRjhA",
        "colab_type": "code",
        "colab": {}
      },
      "cell_type": "code",
      "source": [
        "#More plots.\n",
        "\n",
        "#Visualizing correlation matrix using a heatmap\n",
        "\n",
        "sns.heatmap(train.corr())"
      ],
      "execution_count": 0,
      "outputs": []
    },
    {
      "metadata": {
        "id": "ZgxmfLVbbb2B",
        "colab_type": "text"
      },
      "cell_type": "markdown",
      "source": [
        "**Múltiples plots**"
      ]
    },
    {
      "metadata": {
        "id": "0I7tDihpRjhI",
        "colab_type": "code",
        "colab": {}
      },
      "cell_type": "code",
      "source": [
        "?sns.pairplot"
      ],
      "execution_count": 0,
      "outputs": []
    },
    {
      "metadata": {
        "id": "MhGTGaJNRjhM",
        "colab_type": "code",
        "colab": {}
      },
      "cell_type": "code",
      "source": [
        "#Multiple scatter plot\n",
        "\n",
        "sns.pairplot(train, x_vars='HighQ', y_vars=['total_population', 'percent_white', 'percent_black', \\\n",
        "                                           'per_capita_income', 'median_rent', 'median_age'], kind='reg')"
      ],
      "execution_count": 0,
      "outputs": []
    },
    {
      "metadata": {
        "id": "2UflZaUMRjhQ",
        "colab_type": "text"
      },
      "cell_type": "markdown",
      "source": [
        "**Primer, fem un model d'una variable**\n",
        "\n",
        "Intentem estimar el preu en funció de la població"
      ]
    },
    {
      "metadata": {
        "id": "NEfjEAYKRjhQ",
        "colab_type": "code",
        "colab": {}
      },
      "cell_type": "code",
      "source": [
        "feature_columns = [\"total_population\"]\n",
        "train_x = train[feature_columns]\n",
        "train_y = train['HighQ']"
      ],
      "execution_count": 0,
      "outputs": []
    },
    {
      "metadata": {
        "id": "xaW1MUl5RjhT",
        "colab_type": "code",
        "colab": {}
      },
      "cell_type": "code",
      "source": [
        "model_1 = LinearRegression()\n",
        "model_1.fit(train_x, train_y)"
      ],
      "execution_count": 0,
      "outputs": []
    },
    {
      "metadata": {
        "id": "BEFkQEiXRjhW",
        "colab_type": "code",
        "colab": {}
      },
      "cell_type": "code",
      "source": [
        "print model_1.intercept_\n",
        "print model_1.coef_"
      ],
      "execution_count": 0,
      "outputs": []
    },
    {
      "metadata": {
        "id": "iYA3_691Rjhb",
        "colab_type": "text"
      },
      "cell_type": "markdown",
      "source": [
        "**Fem servir el model per fer prediccions**"
      ]
    },
    {
      "metadata": {
        "id": "E551YSNRRjhc",
        "colab_type": "code",
        "colab": {}
      },
      "cell_type": "code",
      "source": [
        "model_1_predict = model_1.predict(test[feature_columns])"
      ],
      "execution_count": 0,
      "outputs": []
    },
    {
      "metadata": {
        "id": "NbkuKHP6Rjhe",
        "colab_type": "code",
        "colab": {}
      },
      "cell_type": "code",
      "source": [
        "model_1_predict = pd.DataFrame({'States': test.State, 'Actual Price': test.HighQ, 'Predicted Price': model_1_predict})"
      ],
      "execution_count": 0,
      "outputs": []
    },
    {
      "metadata": {
        "id": "JslX6aAURjhi",
        "colab_type": "code",
        "colab": {}
      },
      "cell_type": "code",
      "source": [
        "model_1_predict"
      ],
      "execution_count": 0,
      "outputs": []
    },
    {
      "metadata": {
        "id": "3C8SRa0rRjhl",
        "colab_type": "text"
      },
      "cell_type": "markdown",
      "source": [
        "**Calculem l'Error quadràtic mig**"
      ]
    },
    {
      "metadata": {
        "id": "j8CQlCfwRjhn",
        "colab_type": "code",
        "colab": {}
      },
      "cell_type": "code",
      "source": [
        "#Root Mean square error on test dataset\n",
        "np.sqrt(np.mean(np.square(model_1_predict['Actual Price'] - \\\n",
        "                         model_1_predict['Predicted Price'])))"
      ],
      "execution_count": 0,
      "outputs": []
    },
    {
      "metadata": {
        "id": "JXEqJ-39Rjhr",
        "colab_type": "text"
      },
      "cell_type": "markdown",
      "source": [
        "**Com més petit és l'EQM, millor el model**"
      ]
    },
    {
      "metadata": {
        "id": "T2V1pcNFRjhr",
        "colab_type": "text"
      },
      "cell_type": "markdown",
      "source": [
        "**Exercici** Fes un model utilitzant com a variables `total_population` i `per_capita_income`. Digues quin és el EQM obtingut."
      ]
    },
    {
      "metadata": {
        "id": "cA-NvB8cd2JA",
        "colab_type": "code",
        "colab": {}
      },
      "cell_type": "code",
      "source": [
        "# Fes un model de regressió lineal amb x = [total_population, per_capita_income] i y = HighQ\n",
        "\n",
        "# Digues quin és l'EQM obtingut."
      ],
      "execution_count": 0,
      "outputs": []
    },
    {
      "metadata": {
        "id": "tK_wczjLRjhs",
        "colab_type": "code",
        "colab": {},
        "cellView": "form"
      },
      "cell_type": "code",
      "source": [
        "#@title\n",
        "feature_columns = [\"total_population\",\"per_capita_income\"]\n",
        "train_x = train[feature_columns]\n",
        "train_y = train['HighQ']\n",
        "\n",
        "model_2 = LinearRegression()\n",
        "model_2.fit(train_x, train_y)\n",
        "\n",
        "print model_2.intercept_\n",
        "print model_2.coef_\n",
        "\n",
        "model_2_predict = model_2.predict(test[feature_columns])\n",
        "\n",
        "model_2_predict = pd.DataFrame({'States': test.State, 'Actual Price': test.HighQ, 'Predicted Price': model_2_predict})\n",
        "\n",
        "np.sqrt(np.mean(np.square(model_2_predict['Actual Price'] - \\\n",
        "                         model_2_predict['Predicted Price'])))"
      ],
      "execution_count": 0,
      "outputs": []
    }
  ]
}