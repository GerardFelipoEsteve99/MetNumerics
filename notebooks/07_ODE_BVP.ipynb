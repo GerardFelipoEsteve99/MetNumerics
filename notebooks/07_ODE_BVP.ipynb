{
  "nbformat": 4,
  "nbformat_minor": 0,
  "metadata": {
    "colab": {
      "name": "16_ODE_BVP.ipynb",
      "version": "0.3.2",
      "provenance": [],
      "include_colab_link": true
    },
    "kernelspec": {
      "display_name": "Python 3",
      "language": "python",
      "name": "python3"
    }
  },
  "cells": [
    {
      "cell_type": "markdown",
      "metadata": {
        "id": "view-in-github",
        "colab_type": "text"
      },
      "source": [
        "<a href=\"https://colab.research.google.com/github/sergiogf93/MetNumerics/blob/master/notebooks/09_ODE_BVP.ipynb\" target=\"_parent\"><img src=\"https://colab.research.google.com/assets/colab-badge.svg\" alt=\"Open In Colab\"/></a>"
      ]
    },
    {
      "metadata": {
        "init_cell": true,
        "id": "wF2hfPvN7WZh",
        "colab_type": "code",
        "colab": {}
      },
      "cell_type": "code",
      "source": [
        "from __future__ import print_function\n",
        "\n",
        "%matplotlib inline\n",
        "import numpy\n",
        "import matplotlib.pyplot as plt"
      ],
      "execution_count": 0,
      "outputs": []
    },
    {
      "metadata": {
        "id": "E9dsIotL7WZn",
        "colab_type": "text"
      },
      "cell_type": "markdown",
      "source": [
        "# Resoldre problemes de condicions de frontera"
      ]
    },
    {
      "metadata": {
        "id": "7NQEU9qa7WZp",
        "colab_type": "text"
      },
      "cell_type": "markdown",
      "source": [
        "Volem resoldre una EDO la qual té condicions de frontera en comptes de condicions de valor inicial. Aquest és un problema que apareix en problemes espacials on l'EDO és continguda en un interval i volem imposar valors als extrems. Un dels casos més simples és el problema de Poisson unidimensional\n",
        "\n",
        "$$\n",
        "    u_{xx} = f(x)\n",
        "$$\n",
        "on fem servir la notació\n",
        "$$\n",
        "    u_{xx} = \\frac{\\text{d}^2 u}{\\text{d} x^2} \\quad \\text{or} \\quad \\frac{\\partial^2 u}{\\partial x^2}.\n",
        "$$"
      ]
    },
    {
      "metadata": {
        "id": "uJufJg6i7WZq",
        "colab_type": "text"
      },
      "cell_type": "markdown",
      "source": [
        "Noteu que degut a l'ordre de la derivada es requereixen dues condicions per resoldre el problema. El cas més simple quan tenim el domini $x \\in [a,b]$ és tenir condicions del tipus $u(a) = u_a$ i $u(b) = u_b$ i s'anomenen problemes de condicions de frontera (PCF). \n",
        "\n",
        "Si les condicions són ambdues en un extrem del domini podem dir que tenim de nou un problema de valor inicial. Així doncs, què necessitem per resoldre aquest tipus de problemes? Considerarem dues tècniques:\n",
        "\n",
        "1. Reformular el problema de condicions de frontera com un problema de valors inicial i utilitzem els mètodes per resoldre EDOs.\n",
        "2. Utilitzem diferències finites per representar les incògnites con un sistema lineal que resolem."
      ]
    },
    {
      "metadata": {
        "id": "cpL2F4M67WZs",
        "colab_type": "text"
      },
      "cell_type": "markdown",
      "source": [
        "## El mètode de tir\n",
        "\n",
        "El mètode de tir reformula el problema com un problema de càlcul d'arrels. Vegem-ne un exemple."
      ]
    },
    {
      "metadata": {
        "id": "oqxy-fKh7WZu",
        "colab_type": "text"
      },
      "cell_type": "markdown",
      "source": [
        "Considerem el problema\n",
        "$$\n",
        "    u_{xx} = -\\sin u\n",
        "$$\n",
        "on\n",
        "$$\n",
        "    x \\in [0, 2] \\quad \\text{i} \\quad u(0) = 0.0, \\quad u(2.0) = \\frac{\\pi}{2}.\n",
        "$$"
      ]
    },
    {
      "metadata": {
        "id": "uXS1sAhX7WZv",
        "colab_type": "text"
      },
      "cell_type": "markdown",
      "source": [
        "Podem reescriure el problema com un sistema de dues EDO\n",
        "$$\n",
        "    v = \\begin{bmatrix} u \\\\ u_x \\end{bmatrix} \\quad \\text{i} \\quad v_x = \\begin{bmatrix} u_x \\\\ u_{xx} \\end{bmatrix} = \\begin{bmatrix} v_2 \\\\ -\\sin v_1 \\end{bmatrix}.\n",
        "$$"
      ]
    },
    {
      "metadata": {
        "id": "drG6ZO0a7WZy",
        "colab_type": "text"
      },
      "cell_type": "markdown",
      "source": [
        "Sabem que volem $v_1(0)=0$ però què utilitzem per $v_2(0)$? Si fem una suposició inicial per $v_2(0)$ i resolem l'EDO de valors inicial associada podem trobar quina de les d'aquestes condicions inicials ens dóna la condició de contorn a la dreta. Utilitzant tècniques de trobar arrels (o trobar mínims) podem escriure aquest procediment com\n",
        "\n",
        "$$\n",
        "    \\min_{v_2(0)} \\left | \\pi / 2 - v_1(2) \\right |\n",
        "$$\n",
        "\n",
        "on el paràmetre que variem és $v_2(0)$."
      ]
    },
    {
      "metadata": {
        "id": "PhrFaubT7WZ2",
        "colab_type": "code",
        "colab": {}
      },
      "cell_type": "code",
      "source": [
        "# Basic Shooting Method solving u_xx = -sin(u)\n",
        "import scipy.integrate as integrate\n",
        "\n",
        "# Algorithm parameters\n",
        "TOLERANCE = 1e-8\n",
        "MAX_ITERATIONS = 100\n",
        "\n",
        "# Problem Statement\n",
        "a = 0.0\n",
        "b = 2.0\n",
        "N = 100\n",
        "x = numpy.linspace(a, b, N)\n",
        "u_a = 0.0\n",
        "u_b = numpy.pi / 2.0\n",
        "# RHS function\n",
        "def f(x, u):\n",
        "    return numpy.array([u[1], -numpy.sin(u[0])])\n",
        "\n",
        "# Initial guess\n",
        "# Slope at RHS\n",
        "u_prime_rhs = 1.0\n",
        "# Initial step size\n",
        "du_prime = 0.5\n",
        "\n",
        "# Plotting\n",
        "fig = plt.figure()\n",
        "fig.set_figwidth(fig.get_figwidth() * 2)\n",
        "axes = fig.add_subplot(1, 2, 1)\n",
        "\n",
        "# Main loop\n",
        "success = False\n",
        "u = numpy.empty((2, N))\n",
        "convergence = numpy.zeros(MAX_ITERATIONS)\n",
        "for n in range(MAX_ITERATIONS):\n",
        "    \n",
        "    # Initial condition\n",
        "    u[0, 0] = u_a\n",
        "    u[1, 0] = u_prime_rhs\n",
        "\n",
        "    # Construct integrator\n",
        "    integrator = integrate.ode(f)\n",
        "    integrator.set_integrator(\"dopri5\")\n",
        "    integrator.set_initial_value(u[:, 0])\n",
        "\n",
        "    # Compute solution - note that we are only producing the intermediate values\n",
        "    # for demonstration purposes\n",
        "    for (i, x_output) in enumerate(x[1:]):\n",
        "        integrator.integrate(x_output)\n",
        "        if not integrator.successful():\n",
        "            raise Exception(\"Integration Failed!\")\n",
        "        u[:, i + 1] = integrator.y\n",
        "\n",
        "    # Stopping Criteria\n",
        "    convergence[n] = numpy.abs(u[0, -1] - u_b)\n",
        "    if numpy.abs(u[0, -1] - u_b) < TOLERANCE:\n",
        "        success = True\n",
        "        break\n",
        "    else:\n",
        "        if u[0, -1] < u_b:\n",
        "            u_prime_rhs += du_prime\n",
        "        else:\n",
        "            u_prime_rhs -= du_prime\n",
        "            du_prime *= 0.5\n",
        "\n",
        "    axes.plot(x, u[0, :], 'b')\n",
        "    axes.plot(b, u_b, 'ro')\n",
        "\n",
        "axes.set_title(\"Shooting Method Iterations\")\n",
        "axes.set_xlabel(\"$x$\")\n",
        "axes.set_ylabel(\"$u(x)$\")\n",
        "\n",
        "axes = fig.add_subplot(1, 2, 2)\n",
        "n_range = numpy.arange(n)\n",
        "axes.semilogy(n_range, convergence[:n])\n",
        "axes.set_title(\"Convergence of Shooting Method\")\n",
        "axes.set_xlabel(\"step\")\n",
        "axes.set_ylabel(\"$|u(b) - U(b)|$\")\n",
        "\n",
        "plt.show()"
      ],
      "execution_count": 0,
      "outputs": []
    },
    {
      "metadata": {
        "id": "Q45iqwvG7WZ6",
        "colab_type": "text"
      },
      "cell_type": "markdown",
      "source": [
        "La part complicada d'aquest mètode és decidir el criteri de cerca, és a dir, com canviar $v_2(0)$ respecte de la posició $v_1(2)$ comparat amb què volem $u(2)$.\n"
      ]
    },
    {
      "metadata": {
        "id": "7dWUj4P67WZ8",
        "colab_type": "text"
      },
      "cell_type": "markdown",
      "source": [
        "En general qualsevol algoritme de minimització es pot fer servir en el mètode tir. Aquestes tècniques són molt efectives en general per aproximar PCFs no-lineals. El problema serà si són massa exigents computacionalment."
      ]
    },
    {
      "metadata": {
        "id": "bT7pA0q87WZ9",
        "colab_type": "text"
      },
      "cell_type": "markdown",
      "source": [
        "## Sistemes lineals"
      ]
    },
    {
      "metadata": {
        "id": "6-2k3IQ47WZ_",
        "colab_type": "text"
      },
      "cell_type": "markdown",
      "source": [
        "### Formulació\n",
        "\n",
        "La segona tècnica a considerar consisteix a formar un sistema d'equacions a resoldre basat en aproximacions en diferències finites. Com abans, considerem el problema on\n",
        "$$\n",
        "    u_{xx} = f(x)\n",
        "$$\n",
        "\n",
        "amb les condicions $u(a) = u_a$ i $u(b) = u_b$.  "
      ]
    },
    {
      "metadata": {
        "id": "sXoJTiiI7WaA",
        "colab_type": "text"
      },
      "cell_type": "markdown",
      "source": [
        "Ja sabem que la diferència finita de segon ordre per aproximar la segona derivada d'una funció $u(x)$ és\n",
        "\n",
        "$$\n",
        "    u_{xx} \\approx \\frac{u(x_{i-1}) - 2 u(x_i) + u(x_{i+1})}{\\Delta x^2}.\n",
        "$$"
      ]
    },
    {
      "metadata": {
        "id": "hxm-u8yj7WaC",
        "colab_type": "text"
      },
      "cell_type": "markdown",
      "source": [
        "Si discretitzem el domini del problema original en $N$ punts (sense incloure els extrems) tal que\n",
        "\n",
        "$$\n",
        "    x_i = a + \\frac{b - a}{N+1} \\cdot i ~~~ \\text{on} ~~~ i = 1, \\ldots, N\n",
        "$$\n",
        "\n",
        "podem escriure l'aproximació en diferències finites com un sistema lineal d'equacions!"
      ]
    },
    {
      "metadata": {
        "id": "C7wTSgnC7WaE",
        "colab_type": "text"
      },
      "cell_type": "markdown",
      "source": [
        "Si prenem per exemple $N = 5$ llavors\n",
        "\n",
        "$$\\begin{aligned}\n",
        "    (U_{xx})_1 &\\approx \\frac{U_a - 2 U_1 + U_2}{\\Delta x^2} \\\\\n",
        "    (U_{xx})_2 &\\approx \\frac{U_1 - 2 U_2 + U_3}{\\Delta x^2} \\\\\n",
        "    (U_{xx})_3 &\\approx \\frac{U_2 - 2 U_3 + U_4}{\\Delta x^2} \\\\\n",
        "    (U_{xx})_4 &\\approx \\frac{U_3 - 2 U_4 + U_5}{\\Delta x^2} \\\\\n",
        "    (U_{xx})_5 &\\approx \\frac{U_4 - 2 U_5 + U_b}{\\Delta x^2} \\\\\n",
        "\\end{aligned}$$\n",
        "\n",
        "on hem utilitzat que $U_a = u(a)$ i $U_b = u(b)$ són les condicions de contorn."
      ]
    },
    {
      "metadata": {
        "id": "7zUsZJ8K7WaH",
        "colab_type": "text"
      },
      "cell_type": "markdown",
      "source": [
        "A partir d'aquestes aproximacions de les derivades podem escriure l'EDO com\n",
        "\n",
        "$$\n",
        "    \\frac{1}{\\Delta x^2}\\begin{bmatrix}\n",
        "    -2 &  1 &    &    &    \\\\\n",
        "     1 & -2 &  1 &    &    \\\\\n",
        "       &  1 & -2 &  1 &    \\\\\n",
        "       &    &  1 & -2 &  1 \\\\\n",
        "       &    &    &  1 & -2 \\\\\n",
        "    \\end{bmatrix} \\begin{bmatrix}\n",
        "        U_1 \\\\ U_2 \\\\ U_3 \\\\ U_4 \\\\ U_5\n",
        "    \\end{bmatrix} = \n",
        "    \\begin{bmatrix}\n",
        "        f(x_1) \\\\ f(x_2) \\\\ f(x_3) \\\\ f(x_4) \\\\ f(x_5) \\\\\n",
        "    \\end{bmatrix}.\n",
        "$$"
      ]
    },
    {
      "metadata": {
        "id": "v3aynhwf7WaI",
        "colab_type": "text"
      },
      "cell_type": "markdown",
      "source": [
        "Tingueu en compte que el nostre exemple anterior utilitzat per al mètode de tir és difícil en el context actual ja que la funció desconeguda està en la funció $ f $ de manera que necessitem solucionar un sistema no lineal d'equacions. Això encara seria possible si utilitzem altres mètodes per trobar la solució però l'implementació es comença a complicar."
      ]
    },
    {
      "metadata": {
        "id": "sLNrNo6p7WaL",
        "colab_type": "text"
      },
      "cell_type": "markdown",
      "source": [
        "### Condicions de frontera\n",
        "\n",
        "Això no inclou les condicions de frontera però. Podem afegir aquests valors fàcilment per condicions de frontera de Dirichlet passant els valors coneguts al vector $b$:\n",
        "\n",
        "$$\\begin{aligned}\n",
        "    \\frac{U_a - 2 U_1 + U_2}{\\Delta x^2} = f(x_1) &\\Rightarrow& \\frac{- 2 U_1 + U_2}{\\Delta x^2} = f(x_1) - \\frac{U_a}{\\Delta x^2} \\\\\n",
        "    \\frac{U_4 - 2 U_5 + U_b}{\\Delta x^2} = f(x_1) &\\Rightarrow& \\frac{U_4 - 2 U_5}{\\Delta x^2} = f(x_5) - \\frac{U_b}{\\Delta x^2}\n",
        "\\end{aligned}$$\n",
        "així doncs el sistema final queda\n",
        "$$\n",
        "    \\frac{1}{\\Delta x^2} \\begin{bmatrix}\n",
        "    -2 &  1 &    &    &    \\\\\n",
        "     1 & -2 &  1 &    &    \\\\\n",
        "       &  1 & -2 &  1 &    \\\\\n",
        "       &    &  1 & -2 &  1 \\\\\n",
        "       &    &    &  1 & -2 \\\\\n",
        "    \\end{bmatrix} \\begin{bmatrix}\n",
        "        U_1 \\\\ U_2 \\\\ U_3 \\\\ U_4 \\\\ U_5\n",
        "    \\end{bmatrix} = \n",
        "    \\begin{bmatrix}\n",
        "        f(x_1) - \\frac{U_a}{\\Delta x^2} \\\\ f(x_2) \\\\ f(x_3) \\\\ f(x_4) \\\\ f(x_5) - \\frac{U_b}{\\Delta x^2} \\\\\n",
        "    \\end{bmatrix}.\n",
        "$$"
      ]
    },
    {
      "metadata": {
        "id": "mXfrwQbC7WaN",
        "colab_type": "text"
      },
      "cell_type": "markdown",
      "source": [
        "### Exemple\n",
        "\n",
        "Volem resoldre el PCF\n",
        "$$\n",
        "    u_{xx} = e^x, \\quad x \\in [0, 1] \\quad \\text{amb} \\quad u(0) = 0.0, \\text{ i } u(1) = 3\n",
        "$$\n",
        "mitjançant la construcció d'un sistema linear d'equacions.\n"
      ]
    },
    {
      "metadata": {
        "id": "XXAaTF4j7WaP",
        "colab_type": "text"
      },
      "cell_type": "markdown",
      "source": [
        "\\begin{align*}\n",
        "    u_{xx} &= e^x \\\\\n",
        "    u_x &= A + e^x \\\\\n",
        "    u &= Ax + B + e^x\\\\\n",
        "    u(0) &= B + 1 = 0 \\Rightarrow B = -1 \\\\\n",
        "    u(1) &= A - 1 + e^{1} = 3 \\Rightarrow A = 4 - e\\\\ \n",
        "    ~\\\\\n",
        "    u(x) &= (4 - e) x - 1 + e^x\n",
        "\\end{align*}"
      ]
    },
    {
      "metadata": {
        "id": "qYLz2znG7WaQ",
        "colab_type": "code",
        "colab": {}
      },
      "cell_type": "code",
      "source": [
        "# Problem setup\n",
        "a = 0.0\n",
        "b = 1.0\n",
        "u_a = 0.0\n",
        "u_b = 3.0\n",
        "f = lambda x: numpy.exp(x)\n",
        "u_true = lambda x: (4.0 - numpy.exp(1.0)) * x - 1.0 + numpy.exp(x)\n",
        "\n",
        "# Descretization\n",
        "N = 10\n",
        "x_bc = numpy.linspace(a, b, N + 2)\n",
        "x = x_bc[1:-1]\n",
        "delta_x = (b - a) / (N + 1)\n",
        "\n",
        "# Construct matrix A\n",
        "A = numpy.zeros((N, N))\n",
        "diagonal = numpy.ones(N) / delta_x**2\n",
        "A += numpy.diag(diagonal * -2.0, 0)\n",
        "A += numpy.diag(diagonal[:-1], 1)\n",
        "A += numpy.diag(diagonal[:-1], -1)\n",
        "\n",
        "# Construct RHS\n",
        "b = f(x)\n",
        "b[0] -= u_a / delta_x**2\n",
        "b[-1] -= u_b / delta_x**2\n",
        "\n",
        "# Solve system\n",
        "U = numpy.empty(N + 2)\n",
        "U[0] = u_a\n",
        "U[-1] = u_b\n",
        "U[1:-1] = numpy.linalg.solve(A, b)\n",
        "\n",
        "# Plot result\n",
        "fig = plt.figure()\n",
        "axes = fig.add_subplot(1, 1, 1)\n",
        "axes.plot(x_bc, U, 'o', label=\"Computed\")\n",
        "axes.plot(x_bc, u_true(x_bc), 'k', label=\"True\")\n",
        "axes.set_title(\"Solution to $u_{xx} = e^x$\")\n",
        "axes.set_xlabel(\"x\")\n",
        "axes.set_ylabel(\"u(x)\")\n",
        "plt.show()"
      ],
      "execution_count": 0,
      "outputs": []
    },
    {
      "metadata": {
        "id": "CpBZkpu27WaX",
        "colab_type": "text"
      },
      "cell_type": "markdown",
      "source": [
        "Si tenim condicions de contorn de Neumann ja no és tant clar com incorporar-les. Normalment es fa servir un **ghost cell** que afegeix les incògnites que representen els valors de contorn que coneixem."
      ]
    },
    {
      "metadata": {
        "id": "rPeTdmmq7WaZ",
        "colab_type": "text"
      },
      "cell_type": "markdown",
      "source": [
        "Per exemple, si tenim el PCF\n",
        "\n",
        "$$\n",
        "    u_{xx} = e^x, \\quad x \\in [-1, 1] \\quad \\text{amb} \\quad u(-1) = 3, \\text{ i } u_x(1) = -5\n",
        "$$\n",
        "llavors podem tenir les condicions de frontera al vector d'incògnites de manera que\n",
        "$$\n",
        "    U = \\begin{bmatrix} U_0 \\\\ U_1 \\\\ \\vdots \\\\ U_N \\\\ U_{N+1} \\end{bmatrix}\n",
        "$$\n",
        "on aquí $U_0$ i $U_{N+1}$ són de fet les condicions de frontera."
      ]
    },
    {
      "metadata": {
        "id": "egfnNlH-7Wab",
        "colab_type": "text"
      },
      "cell_type": "markdown",
      "source": [
        "La matriu $A$ és llavors modificada de manera que contingui les relacions adequades. En el cas de la condició de frontera de l'esquerra tenim\n",
        "\n",
        "$$\n",
        "    A = \\begin{bmatrix}\n",
        "  1 &    &    &    &    &    \\\\\n",
        "  \\frac{1}{\\Delta x^2} & \\frac{-2}{\\Delta x^2} &  \\frac{1}{\\Delta x^2} &    &    &    \\\\\n",
        "    &  \\frac{1}{\\Delta x^2} & \\frac{-2}{\\Delta x^2} &  \\frac{1}{\\Delta x^2} &    &    \\\\\n",
        "    & & \\ddots & \\ddots & \\ddots\n",
        "    \\end{bmatrix} \\quad \\text{and} \\quad b = \\begin{bmatrix}\n",
        "        u(a) \\\\ f(x_1) \\\\ f(x_2) \\\\ \\vdots\n",
        "    \\end{bmatrix}\n",
        "$$\n",
        "que donaria\n",
        "\n",
        "$$\n",
        "    U_0 = u(-1) = 3.\n",
        "$$"
      ]
    },
    {
      "metadata": {
        "id": "Eu7jkuwH7Wac",
        "colab_type": "text"
      },
      "cell_type": "markdown",
      "source": [
        "Per la condició de la dreta podem utilitzar la diferència finita de segon ordre com aproximació de la primera derivada\n",
        "\n",
        "$$\n",
        "    u_x(b) \\approx \\frac{3 U_{N+1} - 4 U_{N} + U_{N - 1}}{2.0 \\Delta x} = -5\n",
        "$$\n",
        "que incorporades a la matriu $A$ i al vector $b$ queda\n",
        "$$\n",
        "    A =  \\begin{bmatrix}\n",
        "     \\ddots & \\ddots & \\ddots &    &    \\\\\n",
        "            & \\frac{1}{\\Delta x^2} &     \\frac{-2}{\\Delta x^2}&  \\frac{1}{\\Delta x^2} &    \\\\\n",
        "            &        &      \\frac{1}{\\Delta x^2} & \\frac{-2}{\\Delta x^2} &  \\frac{1}{\\Delta x^2} \\\\\n",
        "            &        &      \\frac{1}{2 \\Delta x} &  \\frac{-4}{2 \\Delta x} &  \\frac{3}{2 \\Delta x} \\\\\n",
        "    \\end{bmatrix} ~~~~ \\text{i} ~~~~ b = \\begin{bmatrix}\n",
        "        \\vdots \\\\ f(x_N) \\\\ u_x(b)\n",
        "    \\end{bmatrix}.\n",
        "$$"
      ]
    },
    {
      "metadata": {
        "id": "CkumqeMP7Wad",
        "colab_type": "text"
      },
      "cell_type": "markdown",
      "source": [
        "Tot junt el now sistema és\n",
        "\n",
        "$$\n",
        "    \\begin{bmatrix}\n",
        "     1 &    &    &    &    &    \\\\\n",
        "     \\frac{1}{\\Delta x^2} & \\frac{-2}{\\Delta x^2} &  \\frac{1}{\\Delta x^2} &    &    &    \\\\\n",
        "       &  \\ddots & \\ddots &  \\ddots &    \\\\\n",
        "       &    & \\frac{1}{\\Delta x^2} & \\frac{-2}{\\Delta x^2} &  \\frac{1}{\\Delta x^2} \\\\\n",
        "            &        &      \\frac{1}{2 \\Delta x} &  \\frac{-4}{2 \\Delta x} &  \\frac{3}{2 \\Delta x} \\\\\n",
        "    \\end{bmatrix} \\begin{bmatrix}\n",
        "        U_0 \\\\ U_1 \\\\ \\vdots \\\\ U_N \\\\ U_{N+1}\n",
        "    \\end{bmatrix} = \n",
        "    \\begin{bmatrix}\n",
        "        u(a) \\\\ f(x_1) \\\\ \\vdots \\\\ f(x_N) \\\\ u_x(b)\n",
        "    \\end{bmatrix}.\n",
        "$$"
      ]
    },
    {
      "metadata": {
        "id": "cRqVvHsd7Wae",
        "colab_type": "text"
      },
      "cell_type": "markdown",
      "source": [
        "### Exercici\n",
        "\n",
        "Volem resoldre el PCF\n",
        "\n",
        "$$\n",
        "    u_{xx} = e^x, \\quad x \\in [-1, 1] \\quad \\text{amb} \\quad u(-1) = 3.0, \\text{ i } u_x(1) = -5.0\n",
        "$$\n",
        "a partir de la construcció d'un sistema linear d'equacions.\n",
        "\n",
        "Troba primer la solució real i després implementa el codi per comparar-la amb el resultat obtingut amb el mètode del sistema d'equacions."
      ]
    },
    {
      "metadata": {
        "id": "UtohFa_G26iL",
        "colab_type": "text"
      },
      "cell_type": "markdown",
      "source": [
        "#### Solució real\n"
      ]
    },
    {
      "metadata": {
        "id": "CHLzHzC27Waf",
        "colab_type": "text"
      },
      "cell_type": "markdown",
      "source": [
        "\\begin{align*}\n",
        "    u(x) &= A x + B + e^x \\\\\n",
        "    u_x(1) &= A + e^1 = -5 \\Rightarrow A = -5 - e \\\\\n",
        "    u(-1) &= (5 + e) + B + e^{-1} = 3 \\Rightarrow B = 3 - 5 - e - e^{-1} = -(2 + e + e^{-1}) \\\\\n",
        "    ~\\\\\n",
        "    u(x) &= -(5 + e) x -(2 + e + e^{-1}) + e^{x}\n",
        "\\end{align*}"
      ]
    },
    {
      "metadata": {
        "id": "HzmdIhJH3DPD",
        "colab_type": "text"
      },
      "cell_type": "markdown",
      "source": [
        "#### Implementació\n"
      ]
    },
    {
      "metadata": {
        "id": "LMrXjNSt3rEt",
        "colab_type": "text"
      },
      "cell_type": "markdown",
      "source": [
        "Recorda que podem resoldre un sistema \n",
        "$$\n",
        "  A\\cdot U = b\n",
        "$$\n",
        "\n",
        "Mitjançant:\n",
        "\n",
        "\n",
        "```\n",
        "U = numpy.linalg.solve(A, b)\n",
        "```\n",
        "\n"
      ]
    },
    {
      "metadata": {
        "id": "Q196Hy6f34TH",
        "colab_type": "code",
        "colab": {}
      },
      "cell_type": "code",
      "source": [
        "?numpy.linalg.solve"
      ],
      "execution_count": 0,
      "outputs": []
    },
    {
      "metadata": {
        "id": "qndSPZSL3GCx",
        "colab_type": "code",
        "colab": {}
      },
      "cell_type": "code",
      "source": [
        "# Escriu el codi per implementar el sistema obtingut a dalt\n"
      ],
      "execution_count": 0,
      "outputs": []
    },
    {
      "metadata": {
        "id": "WT4YrdSK7Wah",
        "colab_type": "code",
        "colab": {},
        "cellView": "form"
      },
      "cell_type": "code",
      "source": [
        "#@title\n",
        "# Problem setup\n",
        "a = -1.0\n",
        "b = 1.0\n",
        "u_a = 3.0\n",
        "u_x_b = -5.0\n",
        "f = lambda x: numpy.exp(x)\n",
        "u_true = lambda x: -(5.0 + numpy.exp(1.0)) * x - (2.0 + numpy.exp(1.0) + numpy.exp(-1.0)) + numpy.exp(x)\n",
        "\n",
        "# Discretization\n",
        "N = 10\n",
        "x_bc = numpy.linspace(a, b, N + 2)\n",
        "x = x_bc[1:-1]\n",
        "delta_x = (b - a) / (N + 1)\n",
        "\n",
        "# Construct matrix A\n",
        "A = numpy.zeros((N + 2, N + 2))\n",
        "diagonal = numpy.ones(N + 2) / delta_x**2\n",
        "A += numpy.diag(diagonal * -2.0, 0)\n",
        "A += numpy.diag(diagonal[:-1], 1)\n",
        "A += numpy.diag(diagonal[:-1], -1)\n",
        "\n",
        "# Construct RHS\n",
        "b = f(x_bc)\n",
        "\n",
        "# Boundary conditions\n",
        "A[0, 0] = 1.0\n",
        "A[0, 1] = 0.0\n",
        "A[-1, -1] = 3.0 / (2.0 * delta_x)\n",
        "A[-1, -2] = -4.0 / (2.0 * delta_x)\n",
        "A[-1, -3] = 1.0 / (2.0 * delta_x)\n",
        "\n",
        "b[0] = u_a\n",
        "b[-1] = u_x_b\n",
        "\n",
        "# Solve system\n",
        "U = numpy.empty(N + 2)\n",
        "U = numpy.linalg.solve(A, b)\n",
        "\n",
        "# Plot result\n",
        "fig = plt.figure()\n",
        "axes = fig.add_subplot(1, 1, 1)\n",
        "axes.plot(x_bc, U, 'o', label=\"Computed\")\n",
        "axes.plot(x_bc, u_true(x_bc), 'k', label=\"True\")\n",
        "axes.set_title(\"Solution to $u_{xx} = e^x$\")\n",
        "axes.set_xlabel(\"x\")\n",
        "axes.set_ylabel(\"u(x)\")\n",
        "plt.show()"
      ],
      "execution_count": 0,
      "outputs": []
    }
  ]
}