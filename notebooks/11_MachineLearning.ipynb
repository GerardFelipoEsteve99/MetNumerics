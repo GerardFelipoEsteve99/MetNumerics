{
  "nbformat": 4,
  "nbformat_minor": 0,
  "metadata": {
    "colab": {
      "name": "dpg2019_ml.ipynb",
      "version": "0.3.2",
      "provenance": [],
      "include_colab_link": true
    },
    "language_info": {
      "codemirror_mode": {
        "name": "ipython",
        "version": 3
      },
      "file_extension": ".py",
      "mimetype": "text/x-python",
      "name": "python",
      "nbconvert_exporter": "python",
      "pygments_lexer": "ipython3",
      "version": "3.7.2"
    },
    "kernelspec": {
      "display_name": "Python 3",
      "language": "python",
      "name": "python3"
    }
  },
  "cells": [
    {
      "cell_type": "markdown",
      "metadata": {
        "id": "view-in-github",
        "colab_type": "text"
      },
      "source": [
        "<a href=\"https://colab.research.google.com/github/sergiogf93/MetNumerics/blob/master/notebooks/11_MachineLearning.ipynb\" target=\"_parent\"><img src=\"https://colab.research.google.com/assets/colab-badge.svg\" alt=\"Open In Colab\"/></a>"
      ]
    },
    {
      "metadata": {
        "id": "Wypd-z-yLdFJ",
        "colab_type": "text"
      },
      "cell_type": "markdown",
      "source": [
        "\n",
        "<p  style=\"font-size: 3rem; line-height: 4rem; font-weight: bold; text-align: center;\"> Tutorial: Introduction to Data Analysis and Machine Learning</p>\n",
        "\n",
        "<p style=\"font-size: 2rem; font-weight: bold; text-align: center;\"> Kai A. Brügge & Maximilian Nöthe</p>\n",
        "\n",
        "<p style=\"font-size: 1.5rem; font-weight: bold; text-align: center;\"> DPG Früjahrstagung Aachen 2019</p>\n",
        "\n",
        "<img width=\"200px\" src=\"https://www.dpg-physik.de/vereinigungen/fachuebergreifend/ak/akpik/pix/logo-ak-pik_blue.png\"/>\n",
        "\n",
        "\n",
        "> __People worry that computers will get too smart and take over the world, but the real problem is that they're too stupid and they've already taken over the world.__\n",
        "\n",
        "> Pedro Domingos \n"
      ]
    },
    {
      "metadata": {
        "ExecuteTime": {
          "end_time": "2018-11-22T18:45:22.841689Z",
          "start_time": "2018-11-22T18:45:22.835774Z"
        },
        "id": "r-bz9D5VLdFK",
        "colab_type": "code",
        "outputId": "2804a818-386a-40ce-a1bd-330eede739b3",
        "colab": {
          "base_uri": "https://localhost:8080/",
          "height": 17
        }
      },
      "cell_type": "code",
      "source": [
        "%%javascript\n",
        "$.getScript('https://kmahelona.github.io/ipython_notebook_goodies/ipython_notebook_toc.js')"
      ],
      "execution_count": 0,
      "outputs": [
        {
          "output_type": "display_data",
          "data": {
            "application/javascript": [
              "$.getScript('https://kmahelona.github.io/ipython_notebook_goodies/ipython_notebook_toc.js')"
            ],
            "text/plain": [
              "<IPython.core.display.Javascript object>"
            ]
          },
          "metadata": {
            "tags": []
          }
        }
      ]
    },
    {
      "metadata": {
        "id": "QhaXrmuELdFO",
        "colab_type": "code",
        "outputId": "5e8b1276-fd69-413e-c975-b0bcc0410e84",
        "colab": {
          "base_uri": "https://localhost:8080/",
          "height": 17
        }
      },
      "cell_type": "code",
      "source": [
        "%%html\n",
        "<style>\n",
        ".important\n",
        "{\n",
        "     margin: 0 auto;\n",
        "     width: 66%; \n",
        "     background-color: linen;\n",
        "}\n",
        "</style>\n",
        "\n",
        "<script>\n",
        "$(this).html().replace(\"#e58139\",\"#f2f2f2\")\n",
        "</script>\n",
        "\n"
      ],
      "execution_count": 0,
      "outputs": [
        {
          "output_type": "display_data",
          "data": {
            "text/html": [
              "<style>\n",
              ".important\n",
              "{\n",
              "     margin: 0 auto;\n",
              "     width: 66%; \n",
              "     background-color: linen;\n",
              "}\n",
              "</style>\n",
              "\n",
              "<script>\n",
              "$(this).html().replace(\"#e58139\",\"#f2f2f2\")\n",
              "</script>\n"
            ],
            "text/plain": [
              "<IPython.core.display.HTML object>"
            ]
          },
          "metadata": {
            "tags": []
          }
        }
      ]
    },
    {
      "metadata": {
        "id": "-nZhLgpWLdFS",
        "colab_type": "text"
      },
      "cell_type": "markdown",
      "source": [
        "\n",
        "Do not delete, math definitions here\n",
        "$$\n",
        "% vectors and matrices\n",
        "\\def\\v#1{\\boldsymbol{#1}}\n",
        "\\def\\m#1{\\boldsymbol{#1}}\n",
        "% confusion matrix stuff\n",
        "\\def\\TP{\\mathit{TP}}\n",
        "\\def\\TN{\\mathit{TN}}\n",
        "\\def\\FP{\\mathit{FP}}\n",
        "\\def\\FN{\\mathit{FN}}\n",
        "\\def\\mse{{\\rm mse}}\n",
        "\\def\\E{{\\rm E}}\n",
        "\\def\\Var{{\\rm Var}}\n",
        "\\def\\Bias{{\\rm Bias}}\n",
        "\\def\\T{\\mathtt{True}}\n",
        "\\def\\F{\\mathtt{False}}\n",
        "$$\n"
      ]
    },
    {
      "metadata": {
        "id": "8LcmIn2vLdFU",
        "colab_type": "text"
      },
      "cell_type": "markdown",
      "source": [
        "<h1 id=\"tocheading\">Continguts</h1>\n",
        "<div id=\"toc\"></div>"
      ]
    },
    {
      "metadata": {
        "id": "6XIZ9n3NLdFW",
        "colab_type": "text"
      },
      "cell_type": "markdown",
      "source": [
        "# Supervised Machine Learning\n",
        "\n",
        "\n",
        "## Notació matemàtica i descripció del problema\n",
        "\n",
        "*Per més informació \"Elements of statistical Learning\" by Trevor Hastie.\n",
        "(http://web.stanford.edu/~hastie/ElemStatLearn/)* \n",
        "\n",
        "* Les lletres majúscules com $ X $ o $ Y $ indiquen aspectes genèrics d’una variable (és a dir, la variable aleatòria real)\n",
        "* Els valors observats s'escriuen en minúscules. El i-èsim valor de $ X $ s’escriu com $ x_i $\n",
        "* Les matrius estan escrites en negreta amb lletres majúscules $ \\m {X} $\n",
        "* Les observacions es distribueixen com a * files * a la matriu mentre que les variables observades són les * columnes *\n",
        "\n",
        "Així, si mesurem dos observables $ p = 2 $ (mida i pes) de $ N = 100 $ persones, obtenim una matriu $ \\m {X} $ ($ N \\times p $ ).\n",
        "\n",
        "\n",
        "Una possible definició del Supervised Machine Learning:\n",
        "\n",
        "> Donada una matriu $ \\m {X} $ ($ N \\times p $) i un vector output associat $ Y \\in \\mathbb{R} ^ N $,\n",
        "  troba una funció $ f (X) = \\hat{Y} $ que pren un vector $ X \\in \\mathbb {R} ^ p $ i retorna una predicció per $ \\hat {Y} $\n",
        "  on es minimitza una \"loss function\" $ L (Y, f (X)) ~~ \\forall X $.\n",
        " "
      ]
    },
    {
      "metadata": {
        "id": "3pxssZtLLdFX",
        "colab_type": "text"
      },
      "cell_type": "markdown",
      "source": [
        "## L'exemple del Titanic. Aprendre del desastre.\n",
        "\n",
        "A la primavera de 1912 el Titanic va emprendre un viatge per creuar l'oceà Atlàntic. Malauradament va xocar contra un iceberg la nit del 14 d'abril i es va enfonsar poc després.\n",
        "\n",
        "El desastre va causar una indignació generalitzada sobre el que es va veure com una falta de seguretat. Les noves lleis de seguretat marítima que es van establir després de l’enfonsament encara són vigents avui dia.\n",
        "\n",
        "Què podem aprendre del Titanic només mirant les dades de passatgers?\n",
        "\n",
        "Les nostres dades contenen una llista del nom, sexe, edat i preu del bitllet per a cada passatger (conegut).\n",
        "\n",
        "Importeu el fitxer **titanic.xls** trobat al repositori.\n",
        "\n",
        "![titanic_cover.jpg](attachment:titanic_cover.jpg)"
      ]
    },
    {
      "metadata": {
        "id": "Dp1smweMLdFY",
        "colab_type": "text"
      },
      "cell_type": "markdown",
      "source": [
        "### Let's explore the data at first"
      ]
    },
    {
      "metadata": {
        "id": "tAifG97kR84v",
        "colab_type": "code",
        "colab": {}
      },
      "cell_type": "code",
      "source": [
        "!pip install --upgrade pandas"
      ],
      "execution_count": 0,
      "outputs": []
    },
    {
      "metadata": {
        "ExecuteTime": {
          "end_time": "2018-11-22T18:40:02.241930Z",
          "start_time": "2018-11-22T18:39:59.472488Z"
        },
        "id": "8Lp87Yp9LdFa",
        "colab_type": "code",
        "colab": {}
      },
      "cell_type": "code",
      "source": [
        "import pandas as pd\n",
        "import matplotlib.pyplot as plt\n",
        "from matplotlib.colors import ListedColormap"
      ],
      "execution_count": 0,
      "outputs": []
    },
    {
      "metadata": {
        "ExecuteTime": {
          "end_time": "2018-11-22T18:40:02.241930Z",
          "start_time": "2018-11-22T18:39:59.472488Z"
        },
        "id": "KGEWbd2xLdFd",
        "colab_type": "code",
        "colab": {}
      },
      "cell_type": "code",
      "source": [
        "%matplotlib inline\n",
        "%config InlineBackend.figure_formats = ['svg']\n",
        "\n",
        "plt.rcParams['figure.figsize'] = (10.5, 7)\n",
        "plt.rcParams['font.size'] = 12\n",
        "\n",
        "colors = ['xkcd:sky', 'xkcd:grass']\n",
        "cmap = ListedColormap(colors)"
      ],
      "execution_count": 0,
      "outputs": []
    },
    {
      "metadata": {
        "ExecuteTime": {
          "end_time": "2018-11-22T18:40:02.241930Z",
          "start_time": "2018-11-22T18:39:59.472488Z"
        },
        "id": "1No_tl4zLdFh",
        "colab_type": "code",
        "colab": {}
      },
      "cell_type": "code",
      "source": [
        "passengers = pd.read_excel('titanic.xls')\n",
        "\n",
        "\n",
        "passengers.head()"
      ],
      "execution_count": 0,
      "outputs": []
    },
    {
      "metadata": {
        "id": "QUE9-cKTLdFk",
        "colab_type": "text"
      },
      "cell_type": "markdown",
      "source": [
        "La supervivència està codificada com 1, la mort com a 0.\n",
        "\n",
        "Anem a canviar-ho en un tipus de dades significatives per python"
      ]
    },
    {
      "metadata": {
        "id": "fDmXmDuILdFl",
        "colab_type": "code",
        "colab": {}
      },
      "cell_type": "code",
      "source": [
        "passengers['survived'] = passengers['survived'].astype(bool)"
      ],
      "execution_count": 0,
      "outputs": []
    },
    {
      "metadata": {
        "ExecuteTime": {
          "end_time": "2018-11-22T18:40:02.615238Z",
          "start_time": "2018-11-22T18:40:02.245847Z"
        },
        "id": "sy9w57y6LdFp",
        "colab_type": "code",
        "colab": {}
      },
      "cell_type": "code",
      "source": [
        "(\n",
        "    passengers.survived\n",
        "    .value_counts()\n",
        "    .sort_index()\n",
        "    .plot.pie(autopct='%.1f %%', colors=colors)\n",
        ")"
      ],
      "execution_count": 0,
      "outputs": []
    },
    {
      "metadata": {
        "id": "8bFEMrgWLdFu",
        "colab_type": "code",
        "colab": {}
      },
      "cell_type": "code",
      "source": [
        "fig, axs = plt.subplots(1, 2)\n",
        "\n",
        "for i, (sex, group) in enumerate(passengers.groupby('sex')):\n",
        "    (\n",
        "        group\n",
        "        .survived\n",
        "        .value_counts()\n",
        "        .sort_index()  # make sure the same label get's the same color\n",
        "        .plot.pie(autopct='%.1f %%', colors=colors, title=sex, ax=axs[i])\n",
        "    )"
      ],
      "execution_count": 0,
      "outputs": []
    },
    {
      "metadata": {
        "ExecuteTime": {
          "end_time": "2018-11-22T18:40:06.364929Z",
          "start_time": "2018-11-22T18:40:05.427028Z"
        },
        "scrolled": false,
        "id": "aqHXFCRJLdFy",
        "colab_type": "code",
        "colab": {}
      },
      "cell_type": "code",
      "source": [
        "import numpy as np\n",
        "import seaborn as sns\n",
        "\n",
        "\n",
        "plot_data = passengers[['fare', 'sex', 'age', 'survived']].dropna() \n",
        "plot_data['log_fare'] = np.log10(1 + plot_data['fare'])\n",
        "\n",
        "\n",
        "age_range = [plot_data.age.min(), plot_data.age.max()]\n",
        "fare_range = [plot_data.log_fare.min(), plot_data.log_fare.max()]\n",
        "    \n",
        "\n",
        "for sex, df_sex in plot_data.groupby('sex'):\n",
        "    \n",
        "    df_sex.copy().dropna(inplace=True)\n",
        "    g = sns.JointGrid(x='log_fare', y='age', data=plot_data) \n",
        "    g.fig.suptitle(sex)\n",
        "    \n",
        "    m = g.ax_joint.scatter(\n",
        "        df_sex['log_fare'],\n",
        "        df_sex['age'],\n",
        "        c=df_sex['survived'],\n",
        "        cmap=cmap,\n",
        "        s=10,\n",
        "    )\n",
        "\n",
        "    for label, group in df_sex.groupby('survived'):    \n",
        "        g.ax_marg_y.hist(\n",
        "            group['age'], bins=15, range=age_range, \n",
        "            histtype='step', lw=2, color=colors[label], orientation='horizontal'\n",
        "        )\n",
        "        g.ax_marg_x.hist(\n",
        "            group['log_fare'], bins=15, range=fare_range,\n",
        "            histtype='step', lw=2, color=colors[label],\n",
        "        )\n",
        "    \n",
        "    cbar = plt.colorbar(m)\n",
        "    cbar.set_ticks([0.25, 0.75])\n",
        "    cbar.set_ticklabels(['Died', 'Survived'])\n",
        "    g.fig.tight_layout()"
      ],
      "execution_count": 0,
      "outputs": []
    },
    {
      "metadata": {
        "id": "iL6F6fWcLdF0",
        "colab_type": "text"
      },
      "cell_type": "markdown",
      "source": [
        "__La tasca:__\n",
        "\n",
        "Donat un vector $\\boldsymbol{X} = (\\mathtt{fare}, \\mathtt{pclass}, \\mathtt{age}, \\mathtt{sex})$ podem trobar una funció $f_\\text{survival}(x) \\in \\{\\T, \\F\\}$ que predigui acuradament la supervivència dels passatgers en la majoria  de casos?\n",
        "\n",
        "Com podem saber si la funció $f_\\text{survival}(x)$  és bona?\n",
        "\n",
        "Per tenir una certa mesura de la qualitat d’aquest predictor, recopilem els següents números:\n",
        "\n",
        "* __True Positives__ $\\TP$, El nombre de prediccions correctes que són de tipus 'positiu'\n",
        "\n",
        "* __False Positives__ $\\FP$, El nombre d’esdeveniments predits falsament com a positius que pertanyen a la classe \"negativa\"\n",
        "* __True Negatives__ $\\TN$, El nombre d’esdeveniments predits correctament que pertanyen a la classe “negativa”\n",
        "* __False Negatives__ $\\FN$, El nombre d’esdeveniments predits falsament com a negatius que pertanyen a la classe \"positiva\"\n",
        "\n",
        "Podem mirar la fracció d’observacions correctament etiquetades a les dades\n",
        "\n",
        "$$\n",
        "    \\mathrm{accuracy}(\\v{y}, \\v{\\hat{y}}) = \\frac{1}{N} \\sum_{i = 1}^N \\mathbb{1}(y_i = \\hat{y}_i)\n",
        "$$\n",
        "\n",
        "o simplement\n",
        "\n",
        "$$\n",
        "    \\mathrm{accuracy}(\\v{y}, \\v{\\hat{y}}) =  \\frac{\\TP + \\TN}{ \\TP + \\FP + \\FN + \\TN} = \\frac{\\text{correctly predicted observations}}{\\text{total number of observations}}.\n",
        "$$\n",
        "\n",
        "\n",
        "Ara intentem trobar una funció on la precisió sigui superior a 0,5"
      ]
    },
    {
      "metadata": {
        "id": "2owi7rhSLdF1",
        "colab_type": "text"
      },
      "cell_type": "markdown",
      "source": [
        "__ Una solució possible __:\n",
        "\n",
        "Primer les dones i els nens?"
      ]
    },
    {
      "metadata": {
        "ExecuteTime": {
          "end_time": "2018-11-22T18:40:03.337648Z",
          "start_time": "2018-11-22T18:40:02.618357Z"
        },
        "scrolled": false,
        "id": "lItyUEPLLdF2",
        "colab_type": "code",
        "colab": {}
      },
      "cell_type": "code",
      "source": [
        "def f_survival(df):\n",
        "    return df['sex'] == 'female'\n",
        "\n",
        "\n",
        "truth = passengers['survived']\n",
        "prediction = f_survival(passengers)\n",
        "\n",
        "prediction.head()"
      ],
      "execution_count": 0,
      "outputs": []
    },
    {
      "metadata": {
        "id": "55Z5GPPuLdF6",
        "colab_type": "text"
      },
      "cell_type": "markdown",
      "source": [
        "Quina precisió obtenim?"
      ]
    },
    {
      "metadata": {
        "ExecuteTime": {
          "end_time": "2018-11-22T18:40:03.337648Z",
          "start_time": "2018-11-22T18:40:02.618357Z"
        },
        "id": "6UkfV9WkLdF7",
        "colab_type": "code",
        "colab": {}
      },
      "cell_type": "code",
      "source": [
        "from sklearn.metrics import confusion_matrix, accuracy_score\n",
        "\n",
        "confusion = confusion_matrix(truth, prediction)\n",
        "accuracy = accuracy_score(truth, prediction)\n",
        "\n",
        "confusion, accuracy"
      ],
      "execution_count": 0,
      "outputs": []
    },
    {
      "metadata": {
        "ExecuteTime": {
          "end_time": "2018-11-22T18:40:03.337648Z",
          "start_time": "2018-11-22T18:40:02.618357Z"
        },
        "id": "idz8VJnQLdF_",
        "colab_type": "code",
        "colab": {}
      },
      "cell_type": "code",
      "source": [
        "import seaborn as sns\n",
        "\n",
        "\n",
        "\n",
        "def plot_confusion(truth, prediction):\n",
        "    ''' We need this a couple of times, so let's make a function '''\n",
        "\n",
        "    accuracy = accuracy_score(truth, prediction)\n",
        "    confusion = confusion_matrix(truth, prediction)\n",
        "    \n",
        "    fig, (ax1, ax2) = plt.subplots(1, 2, figsize=(9, 3), constrained_layout=True)\n",
        "\n",
        "\n",
        "    fig.suptitle(f\"Accuracy {accuracy:.1%}\")\n",
        "    \n",
        "    df = pd.DataFrame({\n",
        "        'truth': pd.Series(truth).value_counts().sort_index(),\n",
        "        'prediction': pd.Series(prediction).value_counts().sort_index(),\n",
        "    })\n",
        "    df.plot.barh(color=['gray', colors], ax=ax1, legend=False)\n",
        "    \n",
        "    sns.heatmap(\n",
        "        confusion,\n",
        "        annot=True,\n",
        "        fmt=\"d\",\n",
        "        cmap='viridis',\n",
        "        xticklabels=[\"False\", \"True\"],\n",
        "        yticklabels=[\"False\", \"True\"],\n",
        "        ax=ax2,\n",
        "        square=True,\n",
        "    )\n",
        "    \n",
        "    ax2.text(0.5, -0.2, 'Prediction', transform=ax2.transAxes, ha='center', va='top')\n",
        "    ax2.text(-0.2, 0.5, 'Truth', transform=ax2.transAxes, ha='right', va='center', rotation=90)\n",
        "    return ax1, ax2\n",
        "    \n",
        "plot_confusion(truth, prediction)"
      ],
      "execution_count": 0,
      "outputs": []
    },
    {
      "metadata": {
        "id": "EPgqBr0nLdGC",
        "colab_type": "text"
      },
      "cell_type": "markdown",
      "source": [
        "Com podem millorar la classificació?\n",
        "\n",
        "Podem intentar aprendre més sobre el que va passar al Titanic.\n",
        "\n",
        "Si mirem la pel·lícula de 1997 on **SPOILER** Leonardo Di Caprio s'ofega juntament amb molts dels seus amics passatgers de tercera classe.\n",
        "\n",
        "<br/>\n",
        "<br/>\n",
        "<br/>\n",
        "<br/>\n",
        "<img width=\"50%\" src=\" data:image/jpeg;base64,/9j/4AAQSkZJRgABAQAAAQABAAD/4gxYSUNDX1BST0ZJTEUAAQEAAAxITGlubwIQAABtbnRyUkdCIFhZWiAHzgACAAkABgAxAABhY3NwTVNGVAAAAABJRUMgc1JHQgAAAAAAAAAAAAAAAQAA9tYAAQAAAADTLUhQICAAAAAAAAAAAAAAAAAAAAAAAAAAAAAAAAAAAAAAAAAAAAAAAAAAAAAAAAAAAAAAABFjcHJ0AAABUAAAADNkZXNjAAABhAAAAGx3dHB0AAAB8AAAABRia3B0AAACBAAAABRyWFlaAAACGAAAABRnWFlaAAACLAAAABRiWFlaAAACQAAAABRkbW5kAAACVAAAAHBkbWRkAAACxAAAAIh2dWVkAAADTAAAAIZ2aWV3AAAD1AAAACRsdW1pAAAD+AAAABRtZWFzAAAEDAAAACR0ZWNoAAAEMAAAAAxyVFJDAAAEPAAACAxnVFJDAAAEPAAACAxiVFJDAAAEPAAACAx0ZXh0AAAAAENvcHlyaWdodCAoYykgMTk5OCBIZXdsZXR0LVBhY2thcmQgQ29tcGFueQAAZGVzYwAAAAAAAAASc1JHQiBJRUM2MTk2Ni0yLjEAAAAAAAAAAAAAABJzUkdCIElFQzYxOTY2LTIuMQAAAAAAAAAAAAAAAAAAAAAAAAAAAAAAAAAAAAAAAAAAAAAAAAAAAAAAAAAAAAAAAAAAWFlaIAAAAAAAAPNRAAEAAAABFsxYWVogAAAAAAAAAAAAAAAAAAAAAFhZWiAAAAAAAABvogAAOPUAAAOQWFlaIAAAAAAAAGKZAAC3hQAAGNpYWVogAAAAAAAAJKAAAA+EAAC2z2Rlc2MAAAAAAAAAFklFQyBodHRwOi8vd3d3LmllYy5jaAAAAAAAAAAAAAAAFklFQyBodHRwOi8vd3d3LmllYy5jaAAAAAAAAAAAAAAAAAAAAAAAAAAAAAAAAAAAAAAAAAAAAAAAAAAAAAAAAAAAAABkZXNjAAAAAAAAAC5JRUMgNjE5NjYtMi4xIERlZmF1bHQgUkdCIGNvbG91ciBzcGFjZSAtIHNSR0IAAAAAAAAAAAAAAC5JRUMgNjE5NjYtMi4xIERlZmF1bHQgUkdCIGNvbG91ciBzcGFjZSAtIHNSR0IAAAAAAAAAAAAAAAAAAAAAAAAAAAAAZGVzYwAAAAAAAAAsUmVmZXJlbmNlIFZpZXdpbmcgQ29uZGl0aW9uIGluIElFQzYxOTY2LTIuMQAAAAAAAAAAAAAALFJlZmVyZW5jZSBWaWV3aW5nIENvbmRpdGlvbiBpbiBJRUM2MTk2Ni0yLjEAAAAAAAAAAAAAAAAAAAAAAAAAAAAAAAAAAHZpZXcAAAAAABOk/gAUXy4AEM8UAAPtzAAEEwsAA1yeAAAAAVhZWiAAAAAAAEwJVgBQAAAAVx/nbWVhcwAAAAAAAAABAAAAAAAAAAAAAAAAAAAAAAAAAo8AAAACc2lnIAAAAABDUlQgY3VydgAAAAAAAAQAAAAABQAKAA8AFAAZAB4AIwAoAC0AMgA3ADsAQABFAEoATwBUAFkAXgBjAGgAbQByAHcAfACBAIYAiwCQAJUAmgCfAKQAqQCuALIAtwC8AMEAxgDLANAA1QDbAOAA5QDrAPAA9gD7AQEBBwENARMBGQEfASUBKwEyATgBPgFFAUwBUgFZAWABZwFuAXUBfAGDAYsBkgGaAaEBqQGxAbkBwQHJAdEB2QHhAekB8gH6AgMCDAIUAh0CJgIvAjgCQQJLAlQCXQJnAnECegKEAo4CmAKiAqwCtgLBAssC1QLgAusC9QMAAwsDFgMhAy0DOANDA08DWgNmA3IDfgOKA5YDogOuA7oDxwPTA+AD7AP5BAYEEwQgBC0EOwRIBFUEYwRxBH4EjASaBKgEtgTEBNME4QTwBP4FDQUcBSsFOgVJBVgFZwV3BYYFlgWmBbUFxQXVBeUF9gYGBhYGJwY3BkgGWQZqBnsGjAadBq8GwAbRBuMG9QcHBxkHKwc9B08HYQd0B4YHmQesB78H0gflB/gICwgfCDIIRghaCG4IggiWCKoIvgjSCOcI+wkQCSUJOglPCWQJeQmPCaQJugnPCeUJ+woRCicKPQpUCmoKgQqYCq4KxQrcCvMLCwsiCzkLUQtpC4ALmAuwC8gL4Qv5DBIMKgxDDFwMdQyODKcMwAzZDPMNDQ0mDUANWg10DY4NqQ3DDd4N+A4TDi4OSQ5kDn8Omw62DtIO7g8JDyUPQQ9eD3oPlg+zD88P7BAJECYQQxBhEH4QmxC5ENcQ9RETETERTxFtEYwRqhHJEegSBxImEkUSZBKEEqMSwxLjEwMTIxNDE2MTgxOkE8UT5RQGFCcUSRRqFIsUrRTOFPAVEhU0FVYVeBWbFb0V4BYDFiYWSRZsFo8WshbWFvoXHRdBF2UXiReuF9IX9xgbGEAYZRiKGK8Y1Rj6GSAZRRlrGZEZtxndGgQaKhpRGncanhrFGuwbFBs7G2MbihuyG9ocAhwqHFIcexyjHMwc9R0eHUcdcB2ZHcMd7B4WHkAeah6UHr4e6R8THz4faR+UH78f6iAVIEEgbCCYIMQg8CEcIUghdSGhIc4h+yInIlUigiKvIt0jCiM4I2YjlCPCI/AkHyRNJHwkqyTaJQklOCVoJZclxyX3JicmVyaHJrcm6CcYJ0kneierJ9woDSg/KHEooijUKQYpOClrKZ0p0CoCKjUqaCqbKs8rAis2K2krnSvRLAUsOSxuLKIs1y0MLUEtdi2rLeEuFi5MLoIuty7uLyQvWi+RL8cv/jA1MGwwpDDbMRIxSjGCMbox8jIqMmMymzLUMw0zRjN/M7gz8TQrNGU0njTYNRM1TTWHNcI1/TY3NnI2rjbpNyQ3YDecN9c4FDhQOIw4yDkFOUI5fzm8Ofk6Njp0OrI67zstO2s7qjvoPCc8ZTykPOM9Ij1hPaE94D4gPmA+oD7gPyE/YT+iP+JAI0BkQKZA50EpQWpBrEHuQjBCckK1QvdDOkN9Q8BEA0RHRIpEzkUSRVVFmkXeRiJGZ0arRvBHNUd7R8BIBUhLSJFI10kdSWNJqUnwSjdKfUrESwxLU0uaS+JMKkxyTLpNAk1KTZNN3E4lTm5Ot08AT0lPk0/dUCdQcVC7UQZRUFGbUeZSMVJ8UsdTE1NfU6pT9lRCVI9U21UoVXVVwlYPVlxWqVb3V0RXklfgWC9YfVjLWRpZaVm4WgdaVlqmWvVbRVuVW+VcNVyGXNZdJ114XcleGl5sXr1fD19hX7NgBWBXYKpg/GFPYaJh9WJJYpxi8GNDY5dj62RAZJRk6WU9ZZJl52Y9ZpJm6Gc9Z5Nn6Wg/aJZo7GlDaZpp8WpIap9q92tPa6dr/2xXbK9tCG1gbbluEm5rbsRvHm94b9FwK3CGcOBxOnGVcfByS3KmcwFzXXO4dBR0cHTMdSh1hXXhdj52m3b4d1Z3s3gReG54zHkqeYl553pGeqV7BHtje8J8IXyBfOF9QX2hfgF+Yn7CfyN/hH/lgEeAqIEKgWuBzYIwgpKC9INXg7qEHYSAhOOFR4Wrhg6GcobXhzuHn4gEiGmIzokziZmJ/opkisqLMIuWi/yMY4zKjTGNmI3/jmaOzo82j56QBpBukNaRP5GokhGSepLjk02TtpQglIqU9JVflcmWNJaflwqXdZfgmEyYuJkkmZCZ/JpomtWbQpuvnByciZz3nWSd0p5Anq6fHZ+Ln/qgaaDYoUehtqImopajBqN2o+akVqTHpTilqaYapoum/adup+CoUqjEqTepqaocqo+rAqt1q+msXKzQrUStuK4trqGvFq+LsACwdbDqsWCx1rJLssKzOLOutCW0nLUTtYq2AbZ5tvC3aLfguFm40blKucK6O7q1uy67p7whvJu9Fb2Pvgq+hL7/v3q/9cBwwOzBZ8Hjwl/C28NYw9TEUcTOxUvFyMZGxsPHQce/yD3IvMk6ybnKOMq3yzbLtsw1zLXNNc21zjbOts83z7jQOdC60TzRvtI/0sHTRNPG1EnUy9VO1dHWVdbY11zX4Nhk2OjZbNnx2nba+9uA3AXcit0Q3ZbeHN6i3ynfr+A24L3hROHM4lPi2+Nj4+vkc+T85YTmDeaW5x/nqegy6LzpRunQ6lvq5etw6/vshu0R7ZzuKO6070DvzPBY8OXxcvH/8ozzGfOn9DT0wvVQ9d72bfb794r4Gfio+Tj5x/pX+uf7d/wH/Jj9Kf26/kv+3P9t////7gAOQWRvYmUAZEAAAAAB/9sAQwACAgICAgICAgICAwICAgMEAwICAwQFBAQEBAQFBgUFBQUFBQYGBwcIBwcGCQkKCgkJDAwMDAwMDAwMDAwMDAwM/9sAQwEDAwMFBAUJBgYJDQoJCg0PDg4ODg8PDAwMDAwPDwwMDAwMDA8MDAwMDAwMDAwMDAwMDAwMDAwMDAwMDAwMDAwM/8AAEQgCJgMgAwERAAIRAQMRAf/EAB4AAAEEAwEBAQAAAAAAAAAAAAMBAgQFBgcIAAkK/8QAQhAAAgIABQMCBAUCBAYCAQIHAQIDEQAEEiExBRNBIlEGMmFxBxQjgZFCoQixwdEVM1Lh8PEkYhZDNHIXggklkrL/xAAcAQADAQEBAQEBAAAAAAAAAAABAgMABAUGBwj/xAA+EQABAwMCBAQFBAIBAwQCAgMBAAIRAyExEkEEUWHwEyJxgQWRobHBMtHh8QZCFBUjUgczcoJiohaSssLi/9oADAMBAAIRAxEAPwDlDpxGaCnuRyx7FwCw9Sm6NmiTe297Y+/Y5rzJIIC/Oix7YkXhZdCDK0EcUjkrpqRgRTMdRBNWVsHxgirraYOCpNECTushhikVoysTyo0iRyqqBdLNRG3keftij9evSLhTDwSZsrnLQgqIYm0Tu2hY2YlNK+NgdgeS3Bwz3MaCGiD1wlD4WQZVVMSTKiswUtLICVCBiYxtuCQL5+uHbJph0C3JTqXdpNwVd5JjKjJLNG4i2lWNbEjOfSTZtW3BFDcfvijXB4SubpEKzUB0QHUInF66qVAAKGogg+a32G294YklthKAsFb/AJVqQSSMHiAqgQGv0KFAbkc7C7xqjWkCDcJNce6ucsHVo1ncxEkxxyAhiFFj5mB8V9ecBj3/AOxjkk0mLBWkcWi5JmDRxaGU1/zWvSSdtgovf+AcO+tpAcbgb+v7JRJvhS1gWFTJMNLLqVE10pojUX2vdjvZ+2HgsZLrhHTq8u6nflYjHI7mNpAulHFbDVqFCqq+MZzQQCDlCdBIU/tyxLM5iijXT3Awtxr+ZBZ1EnbfmvphqTHQ4kW+6VxBtuUWDK6u1FM2lJAZUkeiFkvc/wD8O453wtI1GmARpPNBwZ/4mei1B+Nv4ZZT49+Cs3EuTjk6508E9Mk1ay+gHXQBvfYj2GI8bwf/ACKRaTLwbBdnw7i3cLWDhYL4/dS6Vnem5rMZTO5ftz5WZoZ4TtpcXpJF81vvj8+rU3U3uY60L9Oo1m1GBzTIKiL3YiQsuh0rUtE2vBoj2538YgQDlVKzT4cz+Yy+ZByzOZlQvHKhNoVsqxO24P22xGuA0iLKZbrbdfW78FevZ74s/DXoXVM1Ik+fjVsnJMW0jVG1FmbV81eCPHjH3XwLjXVeEaSbtOmfRfnXxin4HFOaLA3C3PlYVA1tljpkVtD7qsqpRJ/6gV4/749lgdFrLyKhlWKRSnSVPyiMwzAhtSncLvY2uiOKxYPLhCLw0GYR3yym4i8kg9K9xPSAT8u98ljX2/jCwXEt2hI42smdoqBIWMfba0CmwKHqGkc6jsaxHxC0H1TyMKU8Cv8A0dv9ENGdLBQz7GyT7bAjHSHS4x/4ypAGLnBj2UV8iSj6oDE7gohB7jK2kBtiCLLV4+vjCOeHBpNrfVNE4KlRZeNRMJUWzEx/MshJ0qdWxG/PsMOHQYhBzALkpP8A9OM5nKPEtF5c0HUFDt6iAS1Gz5NE78E4TVrH6TZYAkmMKyOWZ27UUoDEqYpSa1x0ARa2bqiSMFx1jypZ05Qhl45aIQJIi6C0e6kDc6qN7g+3+uNqbG/sneINkAxSaaMUKkNqjkBPpva2Ugc774YuDRD5ASIn5ULEXj3jYIrRsaMZBIVdJrgDYj3wW0w42EJtRxzTmyyW5eENJKQBCPSXNDUo+rUCf/Bg1HNbnKNITZPeATHVoMCKhPcIIUEVoAI255rCPDmhpkXG6QwbFR5o2K6pVlknjp1JPoKmixsG9iRt9MYuMSYJTMBE8kpX8v8AmEaJqy0axmMj5dbAD9QAVXO2GcWE6jslDpEg5SRxS6pwNbUoaFRQoAbNb35H++Ga4tBMLFoAHVPKxgFkkkETVJHVUbsm11ar8ngHBbqYJzKziZ5p8GV0xL3EMsKbMSjadUguwbFbDj+bwGPN9kHXIAKZ+XkjSJA7Awqa13tZsE7Wfava8MHtdPXCbX0QWy8oJKDU7MHMh5jZ6JIs76SKArB1zANowtEZwErZebugydwSoQuo169rBbVvdnjx71hCDb1QmTbdBjWIuzLFbgHvRoF0EKatSwBsEH1ecF41ubptdbSKZunsrsDZsrGAsmkHdGotYN2QTz++JlzjM7XnosaY05iU2RE1yDQ8SuaM6ubrSAoq7FHg/XFXEWM2KRlmBeaCSOKR4ogrx6iBEKtdNBFXna7qvfCve6PKE5FpOExhZMaD9VypkNUgbdgBzuw8DBLA5k45otF/snRQsxJV2kd10sxbchr5NiwtgcX74xbJkGQEATCGUQay1s6HtMyqodVYgWV2s2NqvbG8QDzG8bjHulDSE5YgSGZdCqzM55Jdb2c3YtQD7be+NqaRLTE5TROQhaTG5O6AAhYtDNWu7oLXg2B9bwTTLuWkclgRaSljckJqsNECdEahdRr0ozAkMDYocfvhWPgQ63LqmcZOJRZozL3VVQaT9RgQJLahQBqr87bYd4cG4uVOAE0pIY1j0Sv2lXQUNEGyCy6tyW4q65ONqkeidtO8pJDRabYOO0CXb1dvTRAZbNXt+52w5fpEn+0oBmBhNWGdVaWMRd2Iq00SD9JFKj1Lt6vF0f6jibPKOerPRZ7Rqv8ANMX9VO6YxIJCTI6/JtZ2IK7CjxV/vgw84WYWtJB5J6wyNGO5GGYKxkRwUFubBLcgUPY4LnNFy4OAz06JS61sLxijDJHI7xiVi0kdFUVQQALojf2/9YUNIIYSTv7HCzOYQEVj6izQ6WP5kMNwH3FkXxVVycFrWulzbRsjIbbmrTJwiTMvMkZaJCGYAkOLB1gXv/tiNaoWmMyF6nB09UE2K2l0TpQzbiIopcqoV9yFqxWqje4H848OvxgbJ5L9E+DfChUi2VkvVvh/8tHbKwuu4V4FX6SOD9/fHn8PxrqpML2viHwUU6c2K051jLhJiiqBGPTNDEBqJuzV03ttf2x9BRYTEe6/M/iXDhhJ5LHHCQHRpjgsskrMm9miTS/uQfsMeo4xdvuvmp1Hmhn9T5amsDSwFPJRsb7irqv4+ynytJ57okwb7bKQHKAySKY42UoEVhpAAW0Ox/q/thx5RBtYe6RzGvIcE1FlhDyRO3dOrXEKWnpRszUTd2bvnEbEiASESNjhIQVX9MgGmZoVFURyQzXyWvjyMEv88YjCZrEcLHSg3HMmhUV9OkFR6lQmwRd2fPjBBcJmyWEePaMmT0KrBjNy1kbA0DdVdYdzRMjZBx2jKGi90FpAIknU9y9KqdQ2Wjq2uhYxMQ4gwfZNp02yhoutVY6XC124FJOpmIB0qTfH+RwzxHmad4RAi26Oyo0jtZkjsJ3lW2CgEEAGrFm65P2wp3Jss46rBCLMTrUEojL2izaVCirKhia25FfTxjVGFx9ghRc0CIUpNQYvGBNJq0hWGj1N52qgb8fbbE2t5LNJkzhJFFEyKHmVadmMbLsaBAG48CzZv+2HxINyVnWNkoKnQhLRSQDSe38rL/TsARsLonj+MCoW3A5BO0+YoBZ2BeIjUrEBSQwPcI4qgVv67ffCg6oIxySgaSZyjgAMUnlEUcqAIig6WNUpANbbEgefrhtBZfYoi4B6oCr3Y9g0hYaJdQI9KHwePG+1jA8ICHouymljENUSyD8zRGlSaBIBUCtiAf5wdfsi8Ai+yRiin/ma0RNEzbFdV0LobmzxwDguiBuN0race6YhBczR6mcFh2zuo0qBZsAqRxYxMOLTM+gTahEEWTBNJKrMC0kKnQzWNAf0gsdr42N7YpqsXTBS2wPZRzKqqRpDypu3pNKN99qAJbg/XBa8gQboARJnKjzB4SfmRUF/l3oBvGobk3twNv74SXTfCsAI5pqKWjWGY3HWhJiaIN3yPU3uKFAYZtgeSB5IGhH7uZCldO0QZTsF21I1XX2G9/fGa/UBGeaV7DATVUJoKlSAqq5IDKaYqAbo7k7nDODQzzEEpXWKSQlWltnl0+PlDarpB4AHB/8AWMA2xcbItz1KjskdSr65e43CbHVdktd8NsTX+WC6mRcYOE2oTBUJ4kWJe7KTKqVGxOyknne/UBtR5xzGhAlxT6gbjbKZmS7CQAmNHbWso0o21Wum6H0BOOhsCBgkqYaHOJUGUuWVgHRZrEcewOwBF+DsPbAksfG0KjS3EYQYHMiooYiOEMytqA7vNbVsNiPqcL5nNGnldZwAucKJKhlEjxFWjQBmJEjDS11bAWaHhdv3xN2HE4ATtIbablBzUY06If0pGJdHC7GqcBhwLP8A7xZxZohuSYUw9wyosn6UkkgJmdFH6ZYI6gWSytz77jx98Iwht23Iv6IuBeZdjmoU3cJzSyA6yDSFwoXbjyNia+mIOaXtcTbdOWgYQ5UUxu+gtoULsaKI2wXVYv1H63e54q1RjQLZIRF3BcN9LjkVizh1HpXUy7IwNj5SHNWL9r+uPnmMAMRj8r2nGQPRZnk0XtIXYzgPoLrdLYLAv5qmoe5x2Gm4XF+a5wbkFZLAZUaPtlw0KLbM1ArRFLe2o+b/ALYZskwMqDQJIV5l4O6VczhBmJC0saggsoFB7JBvV81bMMVbw4qPAmCUS7RYjCtcvD3I9ZZjKrdxEsp3PIY8eLtfpiIY0OLRkEoSRdXcCwR1I03eifZfQrsLILA6vUBe432x0BrQkJLjAHur2IRCO4nZoFcgMLBBPi2Pkfx96wC4NbIwpwZncWVnE0Ua5WNkJDkxmLlVZbO5sjb6Yo5zQGgEmcpBIkyrJYECRyMkccsaq5iQgR0Da6UN1Q+nkYWoG04smb5rTlW+WqM6sqFaBWtU3JWSgACf6bZvv7b4pwxBkjCVw0iHBT9hMksiNMLVJGKkKq2UKgGtVFbqsK+ztWY+iXDY53U2PRCkkhZEYau1GiekX5O50gi/rhnuDQbYj6pILiCSitH2jHcSh5u4qeh9XgnUyA6dQ41c+PbBJLDCeTBjZWACpMhgDGJozojYnaqUg35uzXtWFJ8SyRoMXR48uYUsyRllA7JdSCFIKghjuBvuR++Gp+SxytUaXNgYXC3+LT8GulZTIf8A8w/h7LaDmpGPVsqgpf1aIdQQBVk1e+PG+M8AzwRXpWP+3Ur6L/HviVTxDSqYgBvRfOyTTE5aNoxJFfdFMavax772Dj49ojOV9zqkq06fImVMTs601GQqCWcVV1dUBhKrA65Wkhdg/wCHT8WH+E/iPKdB6iXPwz8SMsTREgpDmCQI5QKsizuAbx2fB+MHC14cPI6zvwV4Px7gDxNHW3SKgx6L6ewRLINPbWRJAvazOohWAO6+aYne/pePv3ua8AGxK+AnS6IwrKDLKochUdNRTuoLV61G9FV73h2jykBKajic2RVkVUysaEQhywScFSxoWpIINgVseRhXkWhOGEEhWLqX7MbudQYfrAGqYW12bIN72b87Ys9wa64UiCWkBGQFl0SrqHqKyNSCnOygewO4OJOeR6IFgd6pkkQZwmYTcqNDLqQITQ9Q+4G/nnAc6QS6xCYAiNPYRIYo8vLmdChmWTUoYU6a9n9QGwO/PP8AfDU8afdapJi1k5IkR3RkCvmER9SAkLGSSFXejtxZ+/jBDratzYoOh0xYc16FYy6mWMrrewV3LFTuEOwUVQI8/vhGv1TKZ7PKER4CM3IXBfUQ11q0H+BWCSC86bSi2wThESV7iqjM6rvZABNqTp2vej+2HJBsbwlFkxo50hmeVVCmy5JU0VIKik5oDUOcbXmbBF0EhL+WaSCYKQFBesyF54OoH0gn6Dx5wjTAlxlBhGoEi6HmFdJk7xMnpSrXQxOq9dggbkfX+LwRIMuwiRbrKSXLemRJWkiinoyyEeoFQbrUKrbjjFSLxtErAkXBQVy6omp9axkduCFK3Q70SNyfv/bjEvElulEDVfBXmiMirK7GNVUqWS1B3IBKnazW5A8/TFC8fpddIZCHmISxlMzR6GUOSqlaUEeVtgCV4xpJINgE9MaGxCLIHsPLIIxGQpVdVS7W92NzR8Vhng/+RQkTcJBFa6iAzuveDI5AZpASrb7be3FDEgYHOU+g6gSIheZNMjFaWFl1SfpizyoFE35oj6+MGSCQgWkAWXlhCAgSGEq15dWpQDf9IYUdjW97YemHaZJQkl1gMbIMqBgshiCsUuQa0J9J/wCpTXqq9uMJqdqxZZ1OLJZQjSIsMgCM+ub1DSjsB6RQv6/3+mKGoBjC1JhAJN4wE14lLM7oQJO4rxrpHcDUAELkcGqGxOJ6iCScITFgnGFVVpPnV9NMVItgRepjuASeLw4sZJ9koEob5ftMyhSs2lVeH2ViBZIHmhX3wPELRIySqEyI2TI4lK2qEqzElGJAcnbYX771WK6iDjOeqRwLTmEVNEilhJGZFtEamVx5UiqAJrY1/riNSp+qOaD+aAcuUeUrCUUHUZmIaxQ1AblgTW17Y2twEIgFNRSn6bOYyC5t6o6/AC7Ej99sNSeTDT8lnCTKdDl1hmCRJpy0OlHjQDTI2wGqyfTRPI/ucEkOfGwW8W3LqgOJFruLaFSwsKdJutKmiSCPNePNjDiqXXOAhoAxdFeEgKsbMiABqI2CGhvexs+3thd5wmBBEJCoQkhmZAA3bB0SlWBFAj+m7PFkDCVDBmcLMs1DSNK7coeTv5cxRxltC+keC1+lbX/wYOsGSRlKQSIGU1IhpF3DDGz6Iq1rqptI9JFrsd9/bCgXnATaQLbpHhLs5Q6SHX1BhTGRDsa8UKAPGHcDzskkTEXUftl0ZjIkgqm1WaDDTVXpDNZPI/thmkPvsfwiDEkZSyQpGsSxnQVBELtZB/6Q10D73++CXzcINHJTensupdUrxyQv3C4pt1NLVAivTe3n33xGvTBGo7XXocLV8N1ltvonUlhYQmUxjYoVFIRVmiK2PH08eMeFxtHzQcdwv0n4L8RFPS4ZCyDq/wASrm42VmWOSHRbkkKC3NDcnYc8XzeOPhqMTaAF7PxH4qHsiRC031bNdxpwqSPqfS5AUvzYu+B7n6Y92m13h3uZX5l8UqB7iWlYy7ITLJDECCQJY1JVBuRpG9k7fzePRcNRdfkfZfPOaZg45oIiTR2QTl31EKrEXbEUq3ZUDj6ijvgtaALON9ikbNzuEQBQhYq5kRijlghAsfNY49Xmj/phHODzHLKZrCTmJTiATG5gDRupRRR1Gz6nDHcgEcj7YcPj9LcJBqNiUpaMNJD3xGkaliyL6x4Y6gNx/Br98Nr8QtBEm/ssGk4RiBGWVO5FGNpVVgGVdlHyFibIsbVvhXQ4+izgCdJyitGwPbjiVMxKGCgLepd6YrsLAU87/vjPEz0R1zjZDUJloxFGf0RJo18jV5A1cC9if98GGNAi0rB2pSB3VzAR3WNe2QzgKJAAxP8ASdvGwr674mZ1Z8vLrzWlvJeEZMjd0V210aWawSd2cG7FEGj+2KGlAmVtWownHuojF5CygbkUS1bDjerJs7C8BrjM291ixMhdh3ZXjZ3rRKHYBZNSgb39DvWJ09LiTEJyQAvd1lSVZYyzFyUpjpIr0iwCLv7XteFk+qnpEXQmRWKzxlNJvuFmUaib2paNeNj/AK4JayQ4hElzTpnCkNY7UraYe0ulYQ5FAE/NRBPtzhqrQDrNkwaRYYQiXGiSXWIjpXTIfmQja6oWN98TbLj6rHS0QEb9TliIS5dNV07rW5JXbff64dxLLTbAQDShBiojdLmchHjVjYIvSx3AB4r+2GMPZPJYWN00IYdPYVVO7MiUq7hVLMRztf8A5vhWtIGkZKJwUPMMTG6IsQRTqS9aNpJpgxvaz5O374JpkY5raRk8lHptu4olD9yEqAA97BSbocc4WoATBGEjGkYsmqJpUMcbsDHqOlPSraQRtz//AFe2MHydI3Tm6jLJGyhjEGMQCRjlBL49O4+uGZUp6ZiNo6qhpEnmCvSmFAY4yZEjBaSJbFSLxd7ijVnzhGta4Tt+UQIF0ErJu6hNL2JJCxAsHjev+oAE3v8AXBGvUNOCsbZwmPMpbUTom00yK2wI5GljWw+uLlrr3UnHSOYTNLKyxrHqmIHoUrIWYbXVVvx/l7452S3ygSi5zpzAUWQxq0iu7OyXGQ5YJcYtyDVVfJ+2LuqyESDaUFf1EALhkePUKsLpoAqKqj+2FqA6QTcQqOADpG6AU7yxhGGgatJZgQyimOphQArg8kf2kaetoubYSEjWSoUyMVbOZWRSjNqckFXduTpBOwrbwPrhxOnUVmEQgz2UQKpPaBQxoaZFO7f9W972MK2ppB5KjbFRpzr1ITqZlBgnC8gED5QQTY2J/c4wqOLRIsk07bqBm1eOIlGebTH24l9JDBWoXsbDN4rge2BUlrbm6Zo8oLrAZCiyaoGd5ZF0EGNWQFmH0JPpq+DfnfES3RdxRsTEQopZkjLK6KiruJwFTSVKqDQUksRfFXti2trbxtlEEk3UcrlRl4xG8aR6UMjtZUEm2UVTNvVDbjEnlgYIMDf/APJMQA4yFxJkWkDlItM0QdQ/oa1crZDHUebrx9zWPEDi0w3mPovbIaWj0Wc5QuscUhlDxysWg7aBb9exNk3QJG303x1eKQIJseS5HNzCvIIHjSKFoVKht1dC3bYE2Ls/c/2HGH1OZ5A4kdFIAHdXkQljb5NKqi6FIYGOyBWoNsCao4VznEWR0hwjdXmVVUaFQxjlMSj1Kz6yx21DVyAbvFYgjSRIz6qRbzErI4IZlWOaQ94hVJVvWlkXoO+k+4ocfxhzIlxwFJ1zEaQrXJxd9WSU/mEdldxRkYat6PlqJsWdjx5xmvuQRIF0HHQdIVpEXaQ99GGVkjdMvl0UmuDbFd1Jrbb6Yq0Eu2i8LONoFirKPSZpO7AFjjIVE06mkB87E0bF+2EBOg6hcYSuaYEmVZAuEm7PdNbGRF1aUBtCVAJb3wK58sttMfRam3ZxVmiK4mlm1rcQaVWtRqU2dNC97YnzhyC4E7EBF0GQNlNTWBDHG7vDNGsckSkgaV5bUtnbGe5jjbBCGixMeisgoVq9LNosTIh1FfUCxU7+kGvbFqBcxmkHChfCdlY5meSHNSMUUuYgu3qoEgqeKFANfjCtc4y138qtQi0KXCo1RO0rsWXUszMXK7gFFYht9v8AvgsBkNkWCxg32Ub4j+HMj8VdF6r8O53LJmIM/A9rLsgl4VgAGOr3s17YdzXPGgjy2HvzXOwmk4VJjdfEX8RPgzPfB3xV1joedgaH8pM6wlgRqW7Uqa3HG45x+f8AH8EeEruYJiV+o/DuLHEUWuG49/dYBfbkhaTS6IadGX0MvA3Nbf5Y4qi9AXwsu6ZnMu65NaMjJKrRRksKZaomqP0xyXElRrNEXX11/A38T+l/HnQMj0yDOK3X+m5dYeodKLrQWFaUovzaStWT5x938K+I+JTDAYIERzX598S4I0qhOGndb2y+nKtLt2ldEbsIbLUuk6juB6AATVmses5zoioIjZea4FzYBlWkUvdSIhTEAIzAdzWj5QpK0PqawQ8ObFgFgAHEjJUnLM0h7kdxMnrIagsYO5sci/vf2xiBE8+ak8Hf6I8ck+00aqVK9s7jS+53pqO339sFznD9IlYAO6I7omXCMVZXLKzK4sa6o7A2Cv1GDVc4EmMlBsEATgIrZc22WQ2WYyxopNs0YunagCRY43F3gMBeIO3JARnHqk7RWGvyqRtK7M6BwLVVPrB2rmtxyMbWdMkbysWzcXG6eyokzEQvqkX1Eab51EaW5O5JI+mADpJkWKbVIGm6cjRs8gV4mk/qdyNJoksSRwBpIOCKpcMIuZpzuvSLLemRg6By4CAUgbYLHX9N7A+cKQCI90gaC5easu7iKQjukk6fU6lbVt6BFfb6DGZU0YuE7oqC68EDaX9IR2CsJPUgUC7pdy1kf+8Vc1wOSRySlxGUmnSroyFYwTpiOn01q3Teyb5249sbxbS4IBrn3SAd9hMrMWjc6ZdhuEBZnB1Hk1deMAH5KjQW2EFOKCxAhARw7sWA3EhosoJBrjnA8oHNAOvKG0cjrIratUDVelRsrEsoAOqxz9TjSSNULN5lR9KMkwEIRNKSKiUzAsNh6TzqJ5P7Vgmo4NkiwQLQDIyeaerQ/wDMdHLsGM5cAFHYbFQos/sMDxBJsVi1zpxZMaAhImZ1AYhVk0miAPKrsBvtvxhQSI6LUzqMuRIkV3VVj0Lp0qoFawT6xuDe/wAxH0wwJKJaBeUJu3Gq/wDxO+yWisCfSy+liQxJ2v8AjB8Ui0LBrTuvSRzGOBGgMwZTq7ZUD17nUp5J999ve8aq6GzBQgTAKbrDVC2VeMMSjiwVUk7EkeABgNqHSA0Ez9PVZ1OP9kui0V5TqhkRZJ5yFaOrpo7I44J4F4YO1iHC4R03nmhaaZWKMjTqJS4rZFU2CSTV+RWJawHCW7TZaIB2TxDYCLDKgUllOn1DbgsDttv/AO8dNZ7QLhTBLCIufokZJRIzKzZpSWMi6dJQKosrbCjq3AJxFzxMiSeSYgAQnoEkkRewqSBVQTiim7LtfIO+31xQZIIiEDjogJGwV3Y28dxKp0+kDcEovAo1V/3wjHb5TiIiUxoGZwgg1hhqy2pgF1+CxJFCvpwcUc4yTuRb1QAsgrG8au6pqCFlmRqIXUpB5azvf1wku0fpOOiYgNMWhI/dhDHL5aSd46jlkdAotT6lOkgVdbjj9sTdVGmADKDaV/RKIhKWjgQRh2ZCAAfSdNGw1UOdhvfvimokBM1gBnqvAZdnmamAlthpFppWyANmHH03OMakJWUzEeq8q20YQPpkIJZFRmJI2K6iNr5vFHuLiCDA5JWkmRjrsnPHK8EqaAGChJAVVqYbEEkj5T9f5NYwJcwwClbLXWUHRDI+yOVi0sqAAkKNiascNzR4wzW6y22CmcYymlWmFrG6kBdEiJ6rBAWlvewANzx5xNtU5A3v/CDBnqEKcOsTM6syxqzHUmzKxALEhr8gbcHCnDjuiLEBGgmkicKyB+4dcegC0AXUN99N7+23sMY1XTpcMwqUmNILgVeZaeSDVodlHrMdEbqDRAVSSQaAse3OOYsh3mzc+2y9vheLc0X+iJnOtStBmb1TsoLJFpawRagWLBJokYYUgDJBg8k9fjZ3WOZid2RtjKiKXcBWJUsRWzE70d7O14qC6RNgvHfUJkjKjdgAhlkcK9r3jsy71HQ22oG7Oxx0kyYb+k79eS42vnJSuZWErCO6jbuR0GDFa2UMRW43NV/bGf5SE1PBSdpY2crl20kiRiTsCbJ+b07iiARdb84YNGOaBJmEuh5I37T914j3CrEbAHYBSdgBhacMmJhB1iJ3Xi8MkYWwonA0wKQxC7AlVskb7WcKardWoLaXNBTpHQEEGRVLn9FgCxqlH9RuwPPnbfB0NB/TpB3TB2oXypT5ghpAO6zyRL6gDW9gk7jSKNbcc741R1yD7FBgAAhIsuu9SGKMyEkuBQ9gaLce/v5wNYAMN5TP4QggzzXkdhCFY60B1I1+rYnTqAPIuztzjAGPMIAsFgAHQn+iIysqSBu3Eksho7EXyT6js3H+WCKmhwhbNj9E0au40ekpqiMqyoyhRZ0gEDckFrIrDEyYIg/RYM5JAtiGU/rnSznMKNBLEEC/SdQAUbjn3wjajgDA8v5QD2ixTSyC5F0iORicyrMHfuEgE6U4YjzhCzV5hb1T+b9MJwVQr2zDh5THpGmyxokH5tj/AJjEi8wQQbIBukc0RVdnijaN45pV1A7WFU76xvdgivrigqQ6CDBATQTBCaoDqYkh0AnUDWsvYJFXyCQNxRxR0G++EGggGUjaJA4Udx1bcy1UdkWb+4sGiRf3wI0mM8uh3WhzhLrJ1Kyo0n6Ma/qBaAs0oMhJN2bB9sYUxJdKcuy3ZRXjEUjdtx3+0oU1qRgtX9GvzX+WAzUDJQdBZZPV+20kzkMGUOzqQF1CmPI9Nci/88MxumZm/wB0sTATHZSJZJ8wLfZnKkFSN/TfncHbbADREHKYtPJRywtRHI8EmkLNpKsvoOwdABvtV4BqvDheUSy0mIXpdVF2ZWVtIMLsFq+KIs7Enb3wwJ1k2ifkl9oQJCVkbVIRmGuLT6dfcG/rYVfy7af/AHSnVLCTAv3KBp6huhqI0iVkbWwNwykMwX3AHNggj9sKxgePLb1TjN0IssaKFQQSFy/cZdS62oBfJNAEg/53hnQ0xN/t6oRsVGlKEFGlGlmtAxtixHpA3/ez+2JOLSASYgrBvNDktlRkmjkii0GZyaTRdMFO1k7Ua8b4oypTO/VFxhRpW1aY9jGykSRFltgy7Gtt68j+2JPIc4RcFEb8wgMf03lDhEgZArCQaY23WmLUPVQFbkfXjFhUAaIBzCQi6iv2w7RlGkdmKyANsBfoc8CtjZxJtYOfpgxv09VQMdGo4UZ0caEOYEcBlKySaPJFa3YsLrnc3e2CAZLAbEokzdVkskSJ+o+iOmjBUWAaAr0CgdiNPPnHP47Q0AlPoJEhPdlRoJ4gIRMthANqDAIAoO7bk+1nfFgxrXDS3qpEEkjkooXQ7B5e3K7B5ApDAE3qUgna9v8AtgAMDy5xuTbknnVcKC6NraQzRmQkiQagSp4K6v8A+rkD+KwKdQFxOZMdExcOSSdURO4yxjLiQq5JHpbezqsCxVE+cCroY7UcIU5eY3XG+UyjtLk5mkEcxGmSPWAaIB9ZIIrfYkePIx5RbriLHdeq95sNoWTZKPvLKZYo5gAUdtAYXV3dbgVt/lgtOoEEC2FM291e5XuJA3bzJDiWnR7DsXHpYNwGvYknf74NJ72MPnuf9d4/ZI4CYV5llaOVIiRDVLNIz+hWB3J2vetrH0+92Wdp6JZBEiyt+nRGRZyuuBkUh4K9RK/MjBroAbX7b4m1oO6xeVkeUQCOQZUELMV1ygmw0u4FsLJAG+9e1Y6GNgEC653G98q6hywsMX9Wi55g2gtfpY6h6v8AL2wBSLmufieSUvDplTcpFGJCk7TsqO5Msb1R8nTswP0vBptBEFGqbAhW2V7sgizQVpZV2UylgFYM2kgCiN8LrbloTGMKziSIDS7r3J1LxuvpBLepasVyPf8A1xnloEE3Km1pPmiQrKFJNCdupES9SrRbTFsWF2eb2+mMDpB8wsB8kwIGFOCKYQqI88bUSoTSV0nYerkk71hy5tRvlFgpnWD1+iskRow7SOrpIhLmMiza+pQCRuBfHGOmmXAAQACErwTE5RV7umKWOYRJw+YNnQzUN6OrxuK/fEAYJgymEtF1JSJDTukcpjUkzq2lEIB3JoKdXJB2B84q0b2uEsyI5oyh5Y5xIxJjXYnnY2CLBIPjf6EHEWOaHnI6rOZqIbC5v/HX/D1B+K8EfX+iZg5Xr2VVVLOVaKVKAosDdsNiTyccnH8EeMa3Sbiy9H4b8UdwD/OPJMn+F8qfi34Y6r8L9a6j0Hq0ckOd6bKY5kYA7qauqutv9MfF8Zwr+HeWOzK/QuE4hlemKjMOEqk6fmHgdVFqNSg2SoKsa+2OM2kKwbqE81tz4a+J898MdUyWd6RnZshm8u8c+TzAJjXT5QqPcbHce+Bw9V7TLcri4jhRUbpeJC+sX4R/iZ038TvhbLdZjVE6pFEYOp5QFvRICNTsqjZDV++PuvhfxA8fR1ES/HsvhfiPA/8ACqaAJ3W3lkim/wDjq2t9mANnVuDqBBvwBvW4x6TjSMgbHIXnkGJU+JrkXLAosZTumY3uRvz7ivP1wpJd6JLNUqKEKsUTfrZQi9bAAgAGhQoDbY3itDVF/dGpCkI2YiQStIk5eljA+R6FVv8AwTdnAIDWypNp6hpA904hChUDuMSpmRFOldiCykcAKK5/zwWkOadJTOBFnYC8ndVl/S7vcLg0KZVlOkEMfH/m+EGvRBvCI0iIsEVi7oE+Z00yRvQ1X6a2AXjTz4PvguJcPaUA0A+XCbE6lNzoMetZoyRuHBal02duSCcOeYWkjqldJJoyZk1I2jSFVgQhNqSxUe33xLIj3TagE3NCV9UkLRsBuSRQIB1C7sVYo0MF1rC6zIyUX1yr65TNVHQtGtt11DfjYHDNdNyUn6eqXsntSs0epA+l4pCbBobn+MacA3COrcIjRSCVlVFW7BlYqy0a3O4N0eDuMYOhrhmEodDsKHPGfQJ0DZhge1psiiQwU781xZ++Ea2CVQABeJ7UWhtGg2hQE8e+5/gD+dsUdUkzsUHMANivPlYtBUBmdUUBNwGIUkD0/wDTZ28YWq4xBFkQ4i4MJyPCZW13+YQFdJDNrIG49RIJUDf2/nBDw4ys8l1yUqqkUbFhTySITO55JptINVekE7DB6Bad09C7yKuiMakVJ0CbAX6QGvaxv/4MUAIsUjoJLUISnUGlPpbUH07sRQIoAi7A3A+5GJuOkmEzaYiEnaDErMpZUULFHGprc1ZLbAna9tjgmoGxO4UwwBPACBBEzSJEwLyBQVG7EljWwHivffDtOkwN8o1KdpKYIVjUxxqsbSBQrvYVCwYhjuRt9B5/cp4mlxByi1hc0HkhSQq4VFVo5GUd0SjVIdgbU72o2utsAMkROycmcokisnomYOsbmpGdfI5FgiwLrf3rCPkgkpYBKZJEZljWOMWo1KrBgHJFAEg2Cfe9hijgXDScINES51xySHLxuHEhWOKNBpUrvqJolgG5v7XhjTbIQZe4ygyKWkV6kuM1Ay6Tv6gaA5I/22wviyZaIAsm8KRfKbJBmSNDUzdsLCPmZdyv0vg/6nCu1yJKDIOMoZFSAtqZothA+kKQRS1YNbsT7/zihc15M4Gf4T6GhvNPjjV9SlC7xGhLqVZEPG42WuPPjbC1iLEWj7INym6FkcsyyMrOdKk9tYmo6tiNxQ3+v7YIAc4Q6UR15ogCGJ6U6bkeXU1qSDaleQaPtsNsICHReyz5bdAEcZMrDUySFFLxg63YbW3IWgdsUeQ4zKIbpbzTUy7RszJC6xhTsG9Xr2ogm23Xc2P4xg+0yQpENB/UEB4nCqv5kxspBiSt9BoGm5NNR/scUAcBIN0we2YIkJkcCy2lWlP3tV2OVC0LHG23jfxhWgk+XG60QCVHSOQNp1JE4CrAdYZCOQvqA8D/AM2xg4zAi6ZzZA5p4jJR8w8ZkEVaXC7AkaF4PNA8bfTCeYiZt9Vmhs2TxBAFmm0mTtROxb+ohSNiwoHSRyf2GM5gcJP8rupyBCBLHo7aBVRV3ijUitAGoAg0DS7fT3xckmIiP2XHVAPqoA7iAI3ZR4i761Pg1v6t9IJ3GM86iJU22CakMCBVjUCFiTEbJUOGZgRfBYn2o4AIaDGL26pi5xsn5lLiV437qg0oHBYEBlG5Dc3v9KwrCXCQZPVLMWT3R4jIz63RAAs4a1p6o+r1EgjHSGkbqWu9kZRFIYioa4wDobUtsdVizWwH15H1wrtQ8tjKDhpPmwosIQEooWEZchSEtwynSDpI8UoG/wDniJAdqAGLKmoxYqS0aqksKxnRCPXI2zqy/MCxNKT/AB/bFBSlsJ3OMXMoqrILZZAqqqiXTbiwasgiya3FCttsLpgwTIStLYSiMkyBpFeL06u2NIJVSFoMdiN/59sGCJm8rGHDy5TzpAKQ5h1MBa1C21MeFvc1uD9sPJqWSAOaZOSkWJ5XC6GkSI1GHKorWASTdD5hVDHOT507Ww28KPHLIjLG9axq9KggFfK6QBYB8D++C5xLr+yZo1NkJ6FPUsDiT8ugRUeloUbUeao4o13I+yXRpNxNkoUBVVjpeMKJWVT8p5Be9+Lo4k8McMX/ACgMySkaF3aEhOwrhR2tOzC9I9S3z9DvhnGXDcD78k4RZAdOYaVHkQBRbJr3JobChxvXjCucSHT7IMpkuS9uNnMhjDSZgqCpFVufULJ3YCrrbCNAMG6rOxwhaSGkElx6UIJQhg5Gwr3JFbggX9MMAS8kWWJMQBISrJmGjOn1MlRkP6foFs2Bt53vBExZS8rjfdIqxARpKyykDUZzYW9QqhdkDfb/AGxvEiBuUzh0Qwy0WJuMHdyta2LV5BsgjwdsVa4uFrxlTcwgqK4ld5hmY8rI0sv/AMUQo6vHAU2WYu1M4csPQNNVtd4TVPm0mNvRUBBFiZ3Tiza2WRgI4iGl07uzAelrB3G29jGAkQTYb7rOaZCjuI0ZTp7jLoWVBtqkewGIutif++AAQ3VEye5Ttaf9sIYXK6JZQwb8uGYIBUilSBoS6vjk/XE9bXeYGR9jySAnbmhypqQvtGoBWUE0GY+vfcFaLbfvijXEgOGU2eqjKlytFGhmMppFTchV3C+r2G14VrhBGTz5raDkprlQhrVdEzIECFxdE3sAS1HY/wB8VLhBLYQEkpNT9wRam7jMdtJoM3q9JN1YIrbBJdpBsldONlFkQhiiRlZ43AbS4WwOAppt/TdjbDUH6sCCi4yZQl1zqNciyFQJVA3clmOzcGxpIO/9sBrYEjYys9u2VWiJ1kYF2WOcqZZHIKC7NKRp38jxjmpEAmLzlXqA6YlCmeU6Y2DvEvrjTVbaxsOKuuTvveGc4j9ImEjBqzsokEY7Lfl1EQcyNmDGTFrnYDU6g2AT5LHDUQ4MggCfosZYYJUeSJpdAIDD/wDUkLbpqA0gtz59ucNJbpLjjksI2yo4SSQvJHqdGJEZmsWxNEsttQI4w1MGpe0rF+gAdVDekkWCJRNmIQdUcYOmnUkMR58/298IZJ0gYvZYQ5DaMiL9Y6YI3uOKg4WwBSbXXnfjCwIioPQIjykRuuNcpqV49QjnmJcPMrEuSd0NKKNURZI3GPGbAMSHG8/heqJgTYRZZLlTAFaPtMqwyMoQjU1nYMLqiGN4Lali0BJBd5iZCyiKBs1G6NE0bUrTEIoUUSpuz77jfnHS3S9hbGI7nKi8lp9VfZUyBFrtduRVQq/o451HY6jsRY2I/kVJoiR/tFypNbrcYyFY5eORNfcH5omR0KohDClB3I+Yb81vgGjFiWk94TAtcY2V3lHDho3heCNkVe6dYXYhr5N/XDM/7lmgt5ykeeSvo0jmX8vmNeWAjtO4wAcghgqUeNt/bFgWENYZFz6WSAOyBIVzBMCatFmkLiW0a10m4wVYEUaBvfCET+mI6LFhVhEIpa0rofUT22Y7uBvRpSG/qvj74w0PaJTFrmusrDL0ZD24m7ZVbjamLBWIDEbmjxx/GNpJOIAUnsACtIlMpCkPIWd1IUFKHq1UxA2IN++wxXXJJ5/ZCBI9FKBhY/qSSyqouF0vlb9PtY522NYlLcYVyCBZT4xt33kXsMiBoj6mdfEhOk2Adjvijg6ZNgNlEkG26kQwJTMrIsfcVpUZjStQPBFi/v7EYFJoJIb6oPdAgqb2SKUS6UMf67sQwVLrSSKOwO+w/wB6OaHMkGEjHDdGjEmmOhrlsOs7sRrUllKnSPsQf++FY8gW/TZHST5d1IiWFuzmI5NEWkxyotMrGLZSRsTp+vH1wW0g2oS3N4CSq5wbBXBH+L/8JFljy34h9LyyFrA65HEu7WSdTHY6j9ax4vxzhTWoip/tuvov8f440qppH9O3RfOVtGXfuxntBGL6iQ2gCxqPuPb9sfHEA7L7qSsnTPJmFigXuRZkMP17JLsfpRrncG8c8aBdKG6zIW6fwt/E3q34bday3XumSvmKKx9Y6YXKxyJttpGkn3B/0xfheOqcNUFVm2RzC87i+BHENLHWndfWr4T+KOh/GfR+nde6BOmYyGbiRcwI0CuJmCh0O12CQffb3x95R4pnEBtRnK/Tovha9F3Dk03jGOvVZ0JApj7bCYiQyFl9ekLYYIVAN6r2GO4VHAgxYriNPmpKtGksUjmSBTffUJsbVqJPtYBs/XxgCwEWlKWFzfLc815ScyqdyJZkVS8vaOkyEqRTeAbO42wjiIhp9UzGOCl9t2hZmGh5QDqdlDKDS2or6WBg6waZ6IFvmvyQ2ZfTHK6oFPb7eo2ApOlixHNb7fscMKmiBgIMZrMQbo8bn5GCp29LvJsr/YGwTQa6HvgmSW8wmHlzukKF1kpK1f8ALYEGmvSCxABBr5j5wC4FxYBssLCREzujaox+osj9zUjNKCz1t6mXjavYef3wdAaBe6mW3vHsnKF1lSCI3ZiqpZLjiwasbEE8bY2kgEY5FMRsLpTHvOdRgeOPQh07lFB5+lHbjbAlrQL3WEk4QgIlJn7KDUoUL6hbMbG5oX9K9zth5YLzdK4uNsJ0UCySjsx+udCwW9Lg0RqBOwNAj9vbAm/qjpKGyhIgz6o5IhpBjbSAx29Vng/+ecF+lpkm6drScCy8z5kNGwZXSItIpF6pGIKiya9v78jEnOIJP+vJZojOU2OEqkSIjLMxDxQ8USxYFlqthyNNYsSQ0TeUoaQZKQoT2yulgXLWRSIfJFjUCRwARiOktMZTgtdjCedMsaqCg7vpjVh6dRYjV6idJ3u744xVxaIBOUhbYr0MlRGIqQVdlWNSfVItEAXd83zRrAMvEbjdVqNgmUDX2liJIov6grh+TvvwBYs+cF0C82SMBmF5JCImgppFip+yhGlnvjVXk2PHGA4t3Hsi1p1EbJSqn8urSG2IYLrGpCt0wPsAQLPB98FxBdBtZASAd4XpLIEvdPbl2m1bBGr0staq+h8YZ535pBG6L+l21keF07Mg2kNGSxYIfcG/p74wJiVtJnSgFTIyyBWIUbq4GnWORYGqxxV4nq1umbJmwLbryLGRHMhZGDNoio1Ruw7DgD/LBJa4ckACyTCeb7sJiAkFlYzGbZnu2B1g6gK871hCQWgqlMEk+iDqSdZtJURAlQkR9K2RTePINgD64tSqF1yRZSe0C5TzCrsqNTGML21ckM5N+kVXjcfb74IqBxiEW+SDzQmhAlGnNKE7hEcukWF077+1j64m0OJteFQ6QIJS5iEodYbUQnoZflKKBqAsHa9wPbFSJki/NTY4OCTMJ3I1jUmJ62clS6h/TVGvVbcDCvk07ZS0iA4kp8cfbXSTpKVpY2PQCSQCbuzyarBb/wBvyRNkxEknYpnZSRVRgQ5RnQrSprBuhR5I9sJpJzY7DmsXSgPau0qIC9OFimNNQNUC3I9X14/fDunksQdV0DtoAI0ZC5U9oL6lfuED+QPpYwWkutMLEWSSRBY3PZKpS6HG7q1G1NbgXfucAOOAFon0ChSpGdKTJI02YOnvKlLHoqQG7Une6As714xg1osTdWNQ7YR1hYzLK60qIQpYk+lBuKNUbvnfnAc3zaghTl1t1K7IUhURRHmTUoFGNwDelRt55xms0u9V1EwyCqnMwxuZEWOQy3UcZICKLpXsjfa6GAP0H/5QuZ8uvEqOcu6GiomIjqNtBDMrH1AnxtW3+2Lj6KcNPRPcJ3su01MXRo8uzi100C4rweD9/TjAtBg7oQThBKILjcpA0Y1qo1UysL0jT9Bzz5xnk3a3mmvE5KKyBgsssTGPWTNRsHuLvSGweRRBwzwG35KE3yh6UILtplSIBSTGQG1EaN7OnnwcLdwl9gnDLQE9LCukYd5BXZo/OF59e+39V81zhdcNdpEiQiGeaSYH5QxFGXi7jK0/r7XIsOQzMwU7DxvvW+NUaHOBn2WZko7kvEkjKq7fraWI1MCNPsDp2rD6D4cpmZXtMjUxjCHUTIw9VqNi17G/fydsYucWmbYU9RheiVi87QC1Vk0hGDGquyPN7+ef4wjXPa9wbEBUJEea6Yw7jBmicMQskaMTp9JNUpF0SbO/++C5+rJgpWsByj63BKntE6rjZuQfl1sBxW4/gYU3cQ72WaIbbCRIo0MjsGZY90zcajuhWG7XyRq3Fiv5wWwSdOyJaSAE23V5ggVlLUkaGiatSDzp3NX/ADhfEcIgoml5oK8ssWWjeZVTUoYNEhDGttIKm72NecK5/hiOs+6DqYdvIT4TNpjkC2klKkSCrWQgodF1d7i/Ne9Yd1SGyRKZ9PwzCSRCrJVopIWJACdRO5tdtjsN+NsaCSHOOQsCAEOWNYvQYYpFAV+4aEpNimAs7MRex/jC1BsRZPRaCT+pOUwqzo4Vc0F7c7IaFxmzVXVexPOH8QbJalM52QnZE1PN6Y2CMqtsCgo1pWy1AjkDES80ySTgrEEgQliFM3YlW/T33UhhvspYHya338cYcAi7I5kflO8Om4QlKNFqrWXL/qMNLDRQ8X4PN+cMwh4JmRKR0DeEBVKRyVGb+aXQyhwhawU2Jom6/jAkNBgZTNM5T3AaQNIgRYF0RxPy63q9bNZA8/fCh0m9khY6fso7wBSY2JKhiERGDgSHe1ve99rOHdTDvvKwtbdN0TyKCEAdSBI4ICmgQTTWNv8ALbFWGTqaMJhTKjOoQxxpNI73pBVVr5rIoWt21Ak73iIfaSVg0EkjASMjPIx3iDgmZk3DHemY8+SLH8bYxYGiQhTcTHqo4jCqhAaRV2Ug1pB/6m5B8jbFNJptBjKzi3VBKhSyhe6CkehfUCltvY+UGyNgD9sYPN5yiaeodEx1DgawJmIZom3DAVSlifBO1A+MMwue4Xuh+lpUJ1jADPrWF1Hb1Vo3NvXP7jnC1C1rwBYI6THVAd3IzKAxmUr/APGUVuDwtiyTR5vcfthC+nri5PRN4ZiVXfpNG2XhjH5cTDXIgYurCho8WNXP0/nGfJdAFgqNAPm3TpYVEbs0jMzNpZgNqKi0o88j6nBY0AZlQkmxHqouZWSJoswSXZdLKAbU6aOnzRomgfFXhQA283B+icDUIQJJEQKAtR/Mv/UBZHbtW3sb7DG8UtuRIO6zmwosqd2QHLx0nrsgqVGk8GvSDvwDhn0/9hhqDSJuML51fh9+IfQ/iZcp03LTmPq8WXSNcrMojkkZRclVsRyQB/GPj+C4wPAYBBgL6jjuAqUCXZat5GJyFmjKu8KoHdTdht+RfI2sjHs1GOiTeIXlaoFsLIMukSdtU/S30gAuDYpyKOna9jW22K0tOmJM8vwoucThXkcFKY5AqSpwZgGYU2phaijRFEX/ADgvBJklK0jOyucqe6kZdVbMB2YVWonVek0RWrYbf6Y1MOLA5xl2qx6IG0hqyGP1FmmOl1jLr2magZCDSgcVW/8A5VnElx1nUTiNlINAsFZR6oRloI2V8ugfXPStp7h2D0fIb3xN7S3S2ckoyDqMXEfRXmWzI7Sw6rSDVGZf+YzgH0gmqO49J5o4cVWQGD5oFt9XNTIigZFa0zahg5vUCQhIZdgFBJojj+2DUYHuAdYlN4kCdlcQBZikULkTFVFRkBGLLqZWv1Aiubw7Gh0gGSpOaWGeanRgK6fln1d0uyrKNmBYKQpXckjf++IkmkRJRcLWU0U0ckcbCOPU/cjk9IAXjSB/Yk8Yu5gLSQQNSDDpMZU3uOyq6svcP/NuyrsrDYkfLYoWPf6YR7TAO4W3gBWDxGVFkWBV5MiKNdIRY5qwPfAIZId/stT1Nloxn3RYYgVmWRLkgJSXa1dL1UR/Vxdg884pAcTImFIuLXDmVKiid5IpRCsgl1a2j00BVmtPArzvthXE5ixTAwORUiOJYwBEw0JEHnY0NzarQHivfa8EtBMAwEsucPNuq/rHROnfEnR+p9Ez8EeZyWfyzpb+pBZ+dgxsAXyB9MN4epr2u3ACDm+GWlpuDK+Jn4xfh3nvw5+M+qdDzWWkjgjlY9Nk00JICCUJJsbA+Tj4f4pwgoV3Bo8pC/SPhPHN4uhqyRlasycixSmd3BjUhe0oN6Sao87+D9MeU8SvVOFlcksqSrnYwksWZI1AUFJWwAdR24P/AIccbBMgqTuq6N/AD8Zc3+G/xEseckeb4S6rLp6nlkNiImtMqgeRwf8AXHp/CeMPB1r/AKSvI+K8C3iqZj9QC+s/Ss7k+q9Oy3VOmZlZslnY+9l5EI0yIwG9qatqJ384+6Y7Uzxaf6XGy+Bqy12l2d/VXsjIxIkTSpVu4oIAIRbdBufUCbr67Y6iSQYCQACCDlHRvUki2JgjBwFu4yCA9eSDya3OJMeYFtlQm5PMr1syhQweiEKGtTuwBerC7bcfezxgNcJ0kdVgDkFNQlZmjlMaqo7jSqd1KtQ0qTZ2I+4GDra46QhDnebkpEhhZb1aZiVGtQCbFFivvZ2G/H84sQHSYhKabwRyRIWVpNB1JIQrtMKVmBFi63IAF+/+kXOEGbFZ7BnknSSVJq7bSRhVkVBtq1ggj073xtth6hMmcIsbaRunL3FcgUzGv0Tp1KTuCSKsCq2/74Qvcbt32VNIwSlDhzIAkZYRqEbcdtlJIBIN6ubHj98Aul0m1khAa0AJI44jEyOBLHIO4rg09F71WdzuKJHGHYN5SEGJQGQE7xkHN1uBdN5seAQOQav74VxfIEe6cNBM9FIncuupNJGgUr7h3YXqomwK+nN4eoTOkbqdN0G6GYZf1EWJqQArKp9QtgdRAoHSeNPjxgtJcYFmqhkADde1LKhL6pY3J05ggguQT6X+hqr2r/NdQAk5lF7fkmEJILZROQBr0qaB073xRG4O2Hab3wUmki4wmqYSza1eVQywxIo1HRW78+dhXnCOLA3FlRjXtcSM6UQ6RrEZlMajURo0oVJqmYAlePAvFaZaLblRAIKXUqkDQsomb9QS7aSgO9KaNXY/74Ug6rYVDB3uhSrpgcSFNNHvKWavms2Qt7DwPJ+mBVsJBQpkkwRKZOqGRUPrlZP1x6SgAYNdHYE3dfbGNYagN9ys0CICWv0HD6Y8uHVoWYajprRqQktsOd/f2xtWkEm0myLnF9hdHRcwIpo5LZIuRvQ9gvjSRtYHOCTBE3Qc1wHJCVT3BmLDowAqQnV8nChd72wjtRddOIIsSJ5bp2hDHGzvKia1IzKELS6fSLFFlF7GthzeFfoIlMLCD9U1oiF06e7CCzR6FuiFstv5o3z5O22GAFpEpY80i02QQO3cUjJHGSpTQGUWQaP8bfxhW1YmbLPa3AF0rAqF27cxj3m1EMxB2KiwCANucXkkBT8MkJNQd4wpVY1H/wAaPcrYBu7A58UP98KHtIv80zaUC6YmpO40Mnris2A2lnvYBaBIKgi62OJtdLvLdAhosTJXtMkalCSmslkhYagG0gliQNjVWDeOnAtlaEpRNBikUsQW7Q3YM1A2N/F+eMJEgF2dlhGJQ9bZl01MDHDITJOvNC96FVdnxx5woBcb4VYDGmMp0wRiIS8kcSLszMX3B8mSrJ5OMaYJ0hTY/SdW8IZy8rvrKiRQfWooh2/6l8kkVte4wDTYX2yAs1wAPMr0bIwJ0COMkq4j/UNAVxuN73Pvi+vULG6SNNtkBRJPGTIiFC6vMjXpDMNwedPHI/1wJMLQU6OJVctLG2aEjFDMAQNSjYmtxfF8HCAmLroLYESiz6xohEkYmjJZ13Yqzk1psUdh59/phS9zYECea6ixrgXDkFXSnu911kWJEKPGqnt2W+Vr3AABN7Xf1xTU55kkieS43DTFpUSVFSYuEEj6i2WCgEk8Fmq/lsgWfO+BAJzKlqPKyCjsmmNyWBL0attRJI1OCVbULNDzhm1C3LQsGgu1NsnqjLCWmQytGmt8ypVhpJK0PUPrd3vhySTqGyUk/pBhCVNCrHHG8cQCyBkZaJYln0/1bV7fbG1x5NjefwnNLBTnjuMyLpU9s64z511pXYA8e/PjCaNViYSF3mwm9h4pJYtIRWu3Yadv/wCG/SSGo84cOMRuPwmIMSlEdytTs0LKDLEnNFOSQLIBB2BwrTJOo5T1GktCXLhJFcQkHuWqTuuwKt605GkknB3IB8uxUiPmE6IepEVCF/UDoW0aQNo6O3PA9sYOJMEytoIRYNUYkHZZCWJ7oOrmuWFkMDtsP3xri4zz29EwaHWKfLMwkfV62kDdySMsVEd+k0ONxuaPjCPMG6IYCVG0AuFQiNlVQS3o3/8A4ty42oqRxggFNZu6KViKFnVjqkXUQApRkoDahtx523vDuc1vlStJfJmEnb1rFZZ5tTr2EYsjAkgbizYPJ/0xOG+Um2fkg1piBdPSNKkIWNpIWLKAV9aDbZtt/fejhxAtsFogZiUGOB0RZGfQ3p0uSCCXYEIQb22ILVeJyACNlSdUHdO0B2MaAFhGdTqWLMWB9Sih6TvwMYtaWm3KEXCLpzwxsXAAcTLUspBC0VsUK3HG22+GquB1CLEINBmZQO3GuWjEZK0qCRq1Ag7agSL2Ub/54m7ytADiI3GVQEuN7J8gMz6E9QkeocxKb1KPTpCk/U/Q4Zzg+8+/NKRoKGESSKRSirJ/y0Y7+kHUb2AAIG3P0OGgBuIRBIFrpokJkCmZTpZkjNhY0UAV3KFeaHthGFzSd1tLSIIuV6kaUpYVYrLRFbG3pYMW4HnY7YZha8wDZKfIYAymPFp0h5FLyxXCqA3oPygEWDZB8YzngWCPhHJ2yobRSlG7arGyhklLA7Cz6h6SQVvDh24+SLmtdaV4jSZFEI0SJpsepd9iGTcUf5rDXYYAzdYN5qPJl3KhgO00DAQURq2ANmhVevm/3wlSXwRsizJi4UMwIrxh1UO7OCqH5rsGyCdjfkGv5xPwtbgAS0DZEPsYKboj1C8yshkcpGQaUFTRJJur4Hth6bmhxAfKBnBCEoBjMgdTGtj8ugpUEdqaFEkm/Ir7ecR4hLpwYTQ0WIUeVXMjGy8pYBwxO/p1aqUE782POG8Mza0bKYjTfdBUxGNjHrYk6mA2CHV6GHy8bDff3wmvygTN07aY2ChmMtIgloRUVOg6WDiqo+B532wabrw7CR4AUNzEyrBGtaW9QQ0FXTUbLzZtSP8APEqhEgNtdGmxxEwo4jzEvMNB2J1g3rZga9G9n6t9qw3huLTo3+ibUOa8/aWRS5bWi2NA2BI+UWRdDc+cU/SYNzhT0Fw91HKw1HpMYzLKRGlMCpI1MfpYU+PbnGFa8Az+yfRsocqpFDlxGXCsNDGNtyCTtS7Abb784epQa4ApGgl0wvg38N9SPSOsdM6msrx/ksxHIGQkMAp814q8fl4c5t2mCv1KtTFSm5h3C+iXwf8AGPw18XRyS9FzxaWqnywuORfY6HG92b9xePreE4hj4BdkX9dl8LxHBvoWIstirKqMnZVFlZ42ZixOkNqVqIuxvuKG+Ouo4UyBvv6rnDNUd4WSRwaLly5kSVnMcsjEq2oAjS3IHNbi/c84toDmahKQzMHCusncR7TNSiMvErPqZhpKq2seNR2s39xhhpDYnCk+0K1yS5iIJllcdmBle5I9LU5IHq238ivtjU3uI08ktQNjVdZDl5jNUxiLshOhUNFgt+obcEn1WPth2Pa57TBMEz0hLEkAKzyqySbqVmaRmd/UNQa6uqBFAVvzzxjOabEQBclZzT8lawK8h2Mh7Tv/AFa1cDwSN+fPB2sYDm31E3Sm1hgq2hZJGjaWEQSPGsjI5HoL2Aquu5quNt8WDjBmAlALuoU+FVKM8Wh5VDKSCyrsQCNWmt9ucRDmFsk3CJBDVPiOpGVYyFmphKmkG7vSaJ3o7ef7Yu4FrNQGc9PRTBB3U/LUDLJqkcvI2tYj6QQT6QBuAT52vEZdkKjXE2Kkxyhl19oQFmZY5xQtFajoIoULsgnBNWRMJlJRw8LosZ0Af1EHhiSSGFbg7V+2MHEXxKRoDpnKcrRJED2yighU33XQLI1Vx7eMUL9AnIU9JdMbKUEhjmXsK6E0wVW7jRmjr1kijr4scc4YMa8gDKIIDZJUhYSvdcK+kuRJEW3Onfnbjkg84m4PbIOEGFpMm65Z/wAWH4RN8a/CUXxL0yDudc+HIGGYjiLyGaEbhTos3zWOL4jwzOI4ew8w3Xp/BeOPC8QGz5XfdfISaGfKzTQyQsmY1aViKb0PBJA3vbHxDmObkYX6M1wc0EYVhkM8ewVmjMkYUkhW3I1UV9yLN/53jifTg6hlEiVeZWRVeNdYAYgQj/pANUxbk+wwNRdZSd5TIXbH+Gj/ABAw/CmcHwR8bdURPhuZQuR6jKxvLMljSx39BNbUKGPc+D/EHUX+A4+QiROx/ZfM/GvhmsePTb5uS+hHw78W/CvxU8n/AOO/EvTusAOzpHBOtkFi3qjFb7Ek3xj6unVp1G/rk9F8w+m+kJe2AsuRnc9uOQKyfqRyKPSgv0ruDY3uvbDD9IyDODlJpabhS2aNyjkGYoflJD61IABbwbPP1xVrxk5Uy06oGE6FFjcnSvd0kaSS0pCgmtqAA2O3JwjGguDnZGP5TGWmNl5YhGkkcY7SHXRVj65CA4CmuQu+2CwhpMyQTCxkgDpKPTNGWUbzlgqSsTTKvrIIFWwBq8CbQeaxucqSqNG5hQ6SEQdtQCAtGr18kar/AL4qXRF7ohwGAV5Sxy5jgYiSMBWAa5DvuBtsxGw8VhHzfEpmRq826KEjfVJJGO00O0hKqSxI3oksaJFiucO86DMKUTIQZXMvaDrHLIjgrdgepdLgkXqFngb4S5TEQACo3alcSZaIGIyO0nosg1ZFagDuPHIwS60FMGieiMGgicxqxk1BWlkZmXUCuwBAALHz4snGYWsbqBxzSGmIsvVBKSCmgRkgqQdGwG+kcWR71WD4hxFgi03JKJJE8rLKHAeRmkYKAFULX9NVY+n+mC0wBN5usXyCEDueu+2j0SToLCo6oalq9yb4wDqYZGEGtDokpaEtGJX/AC0LiSZEpIxQCsq/1btwB4wH+cDa8pgNLonIhF3UHXEUaM9tRZIbUbJII2q6IxvLTuBvb0SR5gUxxLJUSoFNFjAGEhb1ekgUOSN/7Yq4gZKcAGYREJkWQgRBXIdY41LDVQB9PuL2rcnCiSPN7JGkDCCAJZCzw6FjkVkJoEmuFJ3Jvmrxp0m/t1Tn9IhMYfOBU0Ublu3y6R1TazsOTYHnk4m+RaJCRpBF7OCV1ZnVPQrOtozOzUbPpG1G+SN98FxhwgKkEhGIZJSia9RLNZKnVpQ76eOD9zijszF/qEhaBE7IMQJj/RYKkgDRsloEJoUVsAXX33xOBpuZ6p3M1Ewo8sTKGBPcZH7jyBlpndhsKJo1f7bHfBADWgtWb5nkFEkdpHoxXr1QhA+g2DZ1nV5FUa+mC6IkXKdoBkHZNIpzKWMzOFUrFsqkmgtEjY+fcYceQaoUmy+xsEoMcokeUs2mQgxDcxtxasfBHJrYYbSCUGtdzRNGZAXuBI4mWzmAllwNzyVAwjw7RE2+qLG3lBj7cgkQSihfcdQDfqJAYH5b1XfGC17WxayBF5RUDy6GQI8I2laM6YtKk7sW3JvYgcYWl5Da8koPY2fRDk0gPLIWcMwEqKCUCmzqPIAOkGv98AkSZMJizEJjIGWT1BNIEZf520gA6dI4Fb39N8ZuoNlOTbC8xCEhFYRsajNrpXb5SP8AKj9sMQYkW9VECDzUIEs6s7qjgOZCNWk7gANtsWr+N8KKrjggclQtAMndFOWYmIqoZgB3gz7sRWzf/Wj7X7XhngzMoNcNwU1Yd0WApR9SqG3k7m59rqiADiNUOIgFdFEACTdOzTxxxlyzLHCNKqReprBP9JBoGieBWDTJAIfgbo1HSeShSQpGoLSXIAFXuIQD/T6G2AIsDHTTc0wBlc4kG6H2IrV0aSCSTW+kFQJKF6SPAra9t8F4vA2SRAXgF1xxRyGOPSjIiAAED6HewR9R9cM4SAZStUdQAQoclpXLSRMuy6BdeoDfzuP+y6jsqggiSIQGiZUjIKrKFeSVgVoaSQWPF2a/jBqEwCUoMp5y7ugaM08YIQIWNkgN6TYNCxY9+MaRKmRCVoGi3kKSstgZlUtrICshWrPO/nBggyd04DYi8oOl2iLlFDuzaW1WwUppoBa24O2BUqjSCLAzMoGluSpHrvSjhTIixxPOur1cWD42Jpv9sGW+HYotAJGr6IbgrH2J8s5cBNHdYAnQpO1GyCTp4/bE9Y9/unDPN0TZu0YtDR7RbBSrCjIwold9x74ZtQRBMT90unzSEWSZw4AcUm7uq2QW+Y0TfzAWD/G+ASDIOUzW6v05T0gdAsblx+XXWslhQGc+pRsR9N/bAbTc0XQxkX/ZDA5aWcaYwdTadbLGNqAI4F84oC297iyAJkGCJTWptOYKMEjiCgRkq+htitG7Ngbex2wrYNzyT6YmOaUKxMuVQJpQkadmPkjUKJve9h9+cFg1NP1SOcWukJwbUjrp1yqUD5aiTQ2DHathe32xJzQ6wE/haJIJTstJloImKxduAOTFOxqixJltWIqibN2MMdLQTy5JzTiwSjLzlJHY92OiVjY6Qin02FIHHnx9MYCxE3RECxQFEkagJrD5coCoF6kJAoggVY4q6whql2RcAeiciD0PzT2MkY9LCKGAsF2JAJG+rYb7nj6YpJ2iCVB1PfdemtTK4CgyqPXROhg2xGkjmvf6cY0iYgEjmnDJF00yO0jEMI0r1rsWIYgEgLuAAp8f2wHPcTsOaoxsWPso9/qyKHO40OZWU0V2AW6sb+MYOLSXCIQjU2+U31AAhYV06mRF9JVF2a04sEe+MXByxb5QL/ygumqdTHNJlySrOJSPm3UWN9mAIAAGJMaA6ASncJavSyIHlYslM3rmjbhiwvUjKeBtXGLagDqBupgQFHaHSVkkKsihSVQEEm6AavF1+1e2HILCQmbiGoUkbMsiyxBkTZZ716QBuOAT5v8A1xIM1Ohwk7ckSP8AxQXi0F1de2IQyMg9QkXemog0bFVhG02NvESjm0oDCZmKMdc8Wr8xdNqDixqXfYD/AL4u1lr5GIx7pY0i/so05kCqFQSTJGhoka2DHSovgXv/AJYi3Uf/AJIgkmCLIHZUundjOpC+qVtlc1/UQQPmJo4oaQLgDIhaDdRRFJW4YtHULWD6rbcDf1CjsR7YnYunYJmgtyo8rhRFmQdUZUxRLJZca6vVtytef9sO2S+w/dCCSoggR4owGExv9NjpRnUjcBK4FCt8AOEC8EJXGyHKoDErUbAtIdJPKAhWANi9uTth/NrJGMrNZKgmArGstKYtOp4CSqSAkbnYHyPa7rAgwBEdUZDQQhNlu2zCWon2DSTegq3AFCzsKr9saQwwW/NK06rL4C9S6Vnuj5zMdK6jlzBncq5izGXNcg1Q8b+MfnFSmaLi14uCv06hWbVAe02hbE/DD4rg+D/izIdbzs00eRTWmeSMliyspGkqKu+DhaDhTrMebQVPj6B4ikWgSV9A/hX4j6F8UZMdQ6Xmos3k5WKmq1Qso21X6r34rH3HDcWziP0m8menJfB1qL6JDXCNK2Dlldcy8kg7RAOqQt6HBUWSSa2omh9sdDQWjSTzKkRIlWaZZx2kyzmSMfqgOTQZvmABO4H9Pj+MK+mBpDR1JSMOQVkOTUTFXjRZRGodYIhp1MPTp2IqxvfjzitIhwMZUyA2d1fZWFhJNNNIpJJTUaPpUkije4JPjScTYCS+SC23SOeFFw1eWYKtohCrZgtrZxGo/LIRq0A3VkUBRB+n1GM6jSY03mcBW8xEKxiRpAXzaCPtrZWORiFtqJOmtx52OKB7XfrABA9lPw48oJsrOBonCo8sTGRgJTXz1W1ijpXk8/bCNLYudV0HCBAsVcRSySH0UKkJWR3tDwKZVFmz/wCb4uXCoIaICLGcyi5ZSyMYwqmtL2rMqu1EtXFbUfOJNaD+nJTPeRnCsITGk7RSMUd4uwylkJciyAAWprogWKwzG6TB3SRrEjZTYwCoLxyRSRkAs1DSRvWxIH7j+cAsEktRClZdQ5MrwIoeMt3hXBY0liuPFivP20AkDIWAhSomDN3ZA+aWQF/SbYvpum9QAIvx/GKNIpzBXO8lwsnpJKZDM1RPFYGi0c6Rp1MorfTW98YSqS6C7cbK7LNEG4UmJiYU0wO6r6jqfZRuShvf67/thWtcBCVwkyVIidCHhKhoZ9jC4L2rg2uiyP58cDB1xbZIaZdBwQvmh/it/wAPf/Ccw34ifCWQP/BuoSMOqZSD0rlpmBJIHIUnkHxuMeH8W+Ehw8WkPUL6b4F8X0kUKp9DzXz8nifL2ugiQswZCxsCwbvn284+Uc0Ffa2kwrXpMyLM2WYxRyzvq1MDYcnyTQ449xiFW1wg4SEmfbTr/LpqliKqMwtqWUnY0D7b4eAYO6mycSrX4c+I+tfC2fg6h0vN5zpmajYGDMxuYgAdgAdrsHxi9N5YPJIOynxFNldpbAK+wP8Ahy/GP/8Aml0b/hvWzEfijpcV5rUxV8zCCf1Sp02Aa4/1GPpfhPxD/lHQ8+eF8N8V4A8HcCWkrp1e2YWR6jBU901RYGvNgEXRBrHtNbItleU5zQSE/M9xtTRrrfLgAg6QqiL5gt7hfA35P1xNzDIg3CNI3JUh4DmCElUIsTGRGYDbTuB6fpX0xVoEwbAGUNQABAm0JRHJKNZKd53TQDShIthpYL6fA2BxnBwaYys7Sdk6lSVBKpdWb0Inp7Zv1CiSNufp9ecFpAA8skrG4mYR5bhmk7baO0NCVSi2+W9ixAB/9Ym5sPHMLZbe6WMyJDJOx1Qq4DpQKpIl2BRG1cb4ow2km3VM6xDQEVrYfpS6onhp5YSVkVgWYCmoAkDbbfE2vE2Mpiw7iEPWSBH81uvZXg6mFPZsafpfj9sVBm6k06TBQ11ESr3xGJEHpWO243GpjpG/n3wSSRc2VI3FkTb0xzKoEimR1q63BIJG11f/AIKwodESUjGTJjCWmBEUaSKwZldmA2AsqQQTwTwu59/ZC6GQMhMGGQThOcSSqoFl0anSy/I+cAbbEHzscZrnuEhTcACSVGXLyBa7oeEsVklqlLIL0C732oWP3xZ7TEKjNLtlJYPcxaQ9xj6hYGssRaAUANwOfpgEEf8Ay2QDtWFFCrawy5hREwl0/wBWomx+x1A+R5whcD+o3TEa8Iy62EfbQpFe2ggKL20qOfFE3zgtqTEGdkNLcbqLaaFlf9cIbMjeoop4FKP6dx/bEw//AMrkfRMWGICfpfRF2iz3YkkjUx+kVWv33sb4rUJtGCFOnpdOrJSxkvJIyPTOASC4bSzlaIsNWoDf2wSZPlVHAgWQiq1I0BjW6RX1HWADTBrAo37+BtgEOc03uN90A5oMlOzAZIpCFtddLM0RoOwH/SGO1exG38K8CLWuBCAdnkU11K9xBIGeAqKKkBiPVamiQAePocYnQIF0ob5k5hFI6xbSRKXCLepaYbVZ29/PPGNMGQOpVXNJwhl13kJWOR0CCAGyxYWwrydudh4w7qhIkSAdikLDEFSAipErEKLP6BFhjwqtZ2AB84zm2kGJ3WBkkbqOEJiHpeTsi83dU4fSihTZIIoC/phTUO+EQIHVOLp6SvoWlOsCgGPCixv9d8EEaZhAZunjtwiOTuXvqMDOCQ7CtR0/MD7G9+cM1oEEpXec9EgdpYFLL85OtVHoHNahsfUDsBeAx5kkK2iMIbxzLJPomCbKmj+pAQOb83uB4vCUJLjcwVF/lbB5pXVmAglVLdtjWlHYXQIJ59jx9MWJJeAcIASJbZAqonChCZCWmUD1ErQthyLAH/m2I3MkRE4VmQcpkelo9Syx1qPcKraMANwBpoFdr+mHEEAMtGyM3UiNogUKhvTr/Lqig6/mOonk7XW3HHtiNZwI0kwcq9CmATF0HMozKzQt+YA0v2kutJ3taPAO3ucUpl1yLzspVADYpJNPfZGTWpAIjZACoYgUFF7c3d1jrDSblcwBEqE2iVgUZWBkEbxVu4BI1FdwQKo+RzjlLyYIO6YMBEYCYAbYySISFZWOykFySRvtt/SfHjDtOh5Lto+qzmnITQip3UBVU5VXFMQQAQxogXtv7VigcI9PysWmROE1GkJkV4RGsrDtlWu9S7BgAaP73x7YUl8GbyiA0PEYGV4xd1GYfqTSEI0YIjY6bNAHz52HOAJAmCUdAGEzTpE5icKZLjSVlaTTpXdWvzubo/8AbHW4ckIUcoml2bSQ8SqyOG1BgLO2+1/2wmrQS4icWR0Ei8SpJjKqGljJjNxgmzHqocDeguw4xV7i8AkwJCmWmUKRCjydsRIJ9gpY2xO7DgmjVj67fdWtu9zsA2RKTS1lC82hzpBVP6rpTRJIryP4wxcZkmUbj3RNLx63UPGO36o2IYKCKqzYokAb1Ywwgy5KW/67Iaw5gJbMBDISGZQD2yBasQCdjf74m8uNOJ3V/DGo6eRREJYSrGHWlZ1AWywFWL4JDLtY5++Ga9rsCErS/SAeSZ2woQsAsNRySONrY0aIOrTZJIs4JJAgY5pWzEbopVo5FhBW3agAFsPQsuTV35B/0wus6iBYn6rFo/UmiAD8wqFFgejIqg2OTp83zV1uMBoIe4BarECMr0vZeOGSE6FX9Od21AWLXf2s7i973wC4Ohw/1J91SidBg3JTZo5AnchVgYd3Xc6w++/qo6b/AI3w4LokNRhptunuoVEdNpIz6ldgwj1UTYN3Qut98KXgN8uTsl0mYKFKpdY6i/MtFRWPi1O/oB5NXvzgCoAA0X6ojKFLDIjs/ck0uphCsoIVADv4FEHfz7VgPBbi5KxCeYxA50urtAoKJMS2/wD9dwfbmqxmgg6heOabSRY7oen9KNChdGJ/TKFdfp9TKw8eoePrjExYYKDQBIQzGwbVoImVlV3Wg5ZLJIBBDLp328+2KgtxF0DJybJK1gvI35lla2iViGOxIDV7WaIrCNdqJjIWE6uiascoXtygAOLEykKLF+lgwtdqGw84FBpIMwqy0KNLFAREGkWN1jDLqPqUWUFmwANWw2xUNI3lTA8tlHlR45pojSFgQZU0vpU1uQKAsg871vhfEdTOZCaJQXWISK3cJljt4vN0hP8A9SNuMCrVEaBeEWUybgQAozw9lRA0pWTSajUEgDeyprwK58fbDMqEDwj+o4QIDiHLxjYhoyjEgkNSXRC+jyL2oWcI4AZknplIZG6qzEiIRbtsEgSmSSrtlN7bjnf/ACwgIDZv7qxa1sFL2ncKjBjJK7acyp9CEHgbg3uBv/fFKTXSPKb77JCZuFCde8Ye2iqIy1jSdak0TuVGnjmqGFLnOIvB6JwdIJQTAZUZZ3GpX1gADm+TspJPuMXBeRDgCpmNrpjuinspbpqCybAyGuCGuiBdUfrtiZc6NEj2yEoElVswEUWWilkk9bD5S2gAliSK4G3B+v0xn1Lacx3Kd2UhjUZlZFXVDpoZVt/msll3vdh77jDwbOdcIkiLWXy3/Fn8Osx8UZNfiHouU7nVspHWYy0ZUmSNReq9jdDn/PHz/wAR4Z3ENL6d3cufNe78J40cO4UyYYQPZcgSQ5iKR45IzHKjHuRuCrAjkVzwMfKuaWmDlfZBwNxhbw/B38ROk/AWf6i/WMlPmst1SEQK0G/bYbrIVHNVjq+HcSOHrFzhLSIPfReR8U4B3EDynzd2Xe3w31zp3xD0fJdY6NmBP02ZSy5hdWtW+VkccWNzxYG/i8fU8PXp1aWom0lfHVqTqLixwutg5SUZwAZYgxSIwCxqdCqwA3UtW/JPjHayo1zQST0hcr2lovlWaPlwyPOGgnm7gjdXKuvbA0avddq+vnGIpAg85Wa52BiFkWVVHhmVoZe20IlSJ0ARtIr1NwXBA0it7/fCB4cH0yIBAP8AKmW+YHdWuWVexG6QkyKQGQL6gCN1Kt6dXgcYcCmWAtguCpUJVjDG5URwrqVCHkpl7nbXUSlGwCbAPqwga7SLBYuMq4ysjLK0LuNEqmgNmGkDSTpNKeedh42wWjS7EBK4DJN1aRJDG+XJjdCykxxAlWvTuVAqia8/teLlzWkGLJGnVYG6l5aR9WmRVK2xVqK9sMdiFArVW5F/7Yza4a64sUCS7GVLWOOOYOyR5j09uJwqrScEpRNAV587+cJ5dV8pwHtZBsPupiMsbmAORrcNrJDhjwVC7bm9j+2FLyx3qmcCWyBCmGhCPy57cgItDZGgqQAxYeaoD9sFkhpGEjRBGrkpCojA0Vy6odcjnRVAFSAb3DDffBaNnCHDlhIKMdZUowySLqy6REV3Vy7Ehm0kA0wFgKACPphnQXT0RHlbJKkIV0y6ZHeQBiECkLoalrSwF0ByOf2xm1WtkGSSiWkgOAEdVLWMQkRqWdWGlRqDaCfSK2Bo2f2rBDAoEyZKBnsjleo9Mm6dn+nr1TJZ+Hs5zLsdOqKtIVLB45BOAKhaYAkHKUsa8AkwRhfIj/Ep/h4zP4c9TzHXugwNnfgvPSBomQFvy5LnTGwskCxpvi/GPmPifwosJq0xNPf1X3HwP4wKxFCrZ5+q4zleQMAQGLDVAxU2RxpPPAvHzr4IX07cBXccsc+WZcy7NIi7nfwLFEXxXtiOotd0KV7TkLIeh/EORkyOa6T12GSYNFIvTs2hGqNlop6iDYH98dlFwDof+nZcVfhHyH07Fbt/wwfF4+GfxS+FppnMPT83O2TzC+oqyTUt7EVR4wvC1PA4llQ4B+c2XN8V4c1eFc0GHEW9RlfaoyjLFlGuQs5IDOUBUkDSTRAAv9/74+/fpBINl+etGq4Key9xlDOqlECSx3qCNqLeoqPIIP8AGEyE5aVKVA0Z1SamibQRsziqs7HegAAL/wBsVfocAZ9UHF7RBEdeSbKJ5VDxoGS2KDU0T/RwBtYugPbxiL9RJETeyoxjWuubIz6GaSOljcRgJdjVEy+R5ZQNv9sM3z+VwwlaYaCbgr0gBeEygW4FSOaVRfABJ5Xf7HFAGw0kyZhBsuktEjcKT39cYaONZZVCF9R9N0QpJAH7E/TCh1oIlEkiwQo5dMSa9mBIVdFs9UVqtmPtvf8AfAL/APUWJRZT1ZT5GYkMZPS625NgBV3L0CdJLcnBDmuMg2KJI2T5I4gTrKtlyCI0sRaSymwG5oj6Xh9M5NkmouwgzMz5dmghTMUmlQApYBvTZs1d8/8AfAgObIurAyZNkvcBFdwoVAUKoBrTV39fp4GASBcmFJtMxbMpbZJ27h1GJSJYyAFIIs6RvWwv+/GEpAGSNlV98hI2YVr0w6NcottJIK3s6ixyPNYZry/ItzU5A3gJdUKvIEoggr8+oRk2qjuAA3RsfXFQTk+yapq3CUuaX1RqhHoIplC8HVYskk/74QPJm7VE+kDmmIGlbvCImQjRGdekbWbG9EbfbfjCanHETOyrtlBhebX2zICLFiNL0BwD9NmPi9+cOXXh26BECcFGVWVokRSixlxMpYgxhrssg1A8VvtxhCZ0RIEKi9fblYK5ky9OI5kb1XyTq03t5K7/AMYMtabY/Km8So6kHU1yaQxZkUWWOr5dYXcN4BwA3NspnMnJXkSVRsrBUGiWXXq353FjUAD4OGaS4mB+lK5sATcJYpI1AlLf85gI02tSu3qsmwbANXjZbrNkuknygymM00j6khIeFiO4aOixQVq2u9jtxijmhrdQF4ThrWWJXgVigKyUJHVnkiDaioDfMQADtoBNUf2wjgGkl15haSTpFkumQRRDUGTUQ7SEaAFBCaRV2b5P13GA2mXENOCClMNfqSjQ0aRgMHBRYcqpUELpF66A4I/nDtcQFQxlIxjGlnlKsxVBGVtiRVOWO1Czdb4xJdB2+3VAMv1P2T00q0crMXWFjvGNK0TqY7G/pzYwkmTe3PmtLRYLyM6Ie4yICzNHuXA0gMdI2NtXt/2Ie5zxyWNMERumiM9wlO6wYMywuQHsH/pJP/UfP+2GL3CwsiWh4l2U5qDOwZLUFYgWvVr3oDxQHj74DnagSLEBEk6YCA4UyIj63nZVaKTZCQ/zHbY7jzXthdDRBJk2+uUC0Rb3REt2CQzBbcdqJBbOSQdY4ot9cMC24wQiGnJT0DlSXLLPumar0ME8sCdtJ253HjERAu6V2NxqAUdyCZEEgYRAGN0SktjZs2A/87YowSDBsuaqzzAkQmSsisGbQELArK6Wp1qBueV1AfT64o2oGyVMsBUU28cLuwjC3pVwqh6N6iLO53HsMTJuDhHTIgJ7R6lZZnUybMIVUA+WOomhQJ3rFS3UTyyUophuEFRbyKzMe4QI30bAkXYO93Q397xKm0XE2Kd5gBF7LxMjKysI73I+YHYOlhlFe3t4x06SYi4XNYzaJUUxh1ickKolKxX8zGwSOAePPviDrgeaAq2BLTmAl0INcaKBOjixJqkMlmtwt1ud/wB8ULQPKDdBp0m6QJ2giFmPbdVn2J0k+pTpGoirO/0++FpVf+3Y3lF9IOMhNKxsasSKWqUuQxsDVa2B44P74BM2JTBhQZVhLvK8byJKyqsgOyWaB2AFWfGKupU8ySTyTCWyE8QFZagVo9mQarYHUW1NY9Q3B+3OEfYEtEXSCHZKcxzBAYWhLppUqSBtv52seSfvhqUkWEBaWi5MpvcjUhyytpm1NGOQbJIUHiqJF/64VpMmNii5hEGEQhElkCUJx8gd7kbWLoVySAfpgwbk7o7BNEcjR+qOtOoNl3OmmUhtLEk0a+/1wrIIvgZ9UdI1SEjIVMZ3ZVJETyNqKtub07XsP9cTe3W8E4Sg6J5pwIi1rGCdO8aRfMoN01sRfkXeKOqsY2dgiQ5zuUL1iNI3RpASS3bdAdXNdzYfNtuawra5a2RJnnkdVTS0kiF549egAsqxs5V2IVrdSQQCdtQPBJ9h4xnO8QANNwlawsHqvOO9KXKd0OgvSq6WJcmyw31ePoMZ+kuk8oj/APLcpi7w2gKP25BlezpZFt3Bu03Y7OBde4/e8T/7lNpAHJU0tMdUgDAyTd5WhJHaoMGC7Bn3PBsgWPpgtdJcdgg8AWAjqnRtGYRDEJVi0s6EqNgtr6W//iFnfisUZWDoaLoEFskHCi26IhY6kYgoAPUrEjeieADv/wBsKKt8LClqBOyWWMmO/wAyVMiB2cClV2J37jXudthtgkTl0T9EtNwtIkBCYqskkcpUz6aT5qQUBYKbMGuxW94kag1QcgRPMc02mQSLJroiASOAGfSwjpUXY6bZfUPUfr/PGDr0tMos81gmELKkjza3kh1PLEyadZbcFNQA07+cGzhEwVmCNoQkyoeFQWWRo6QUyAkj/MeMMaXl0zISyWumPVMLLHP/APudQAUkOShDEbHgcGjvipfpOndENJk7ckF42cOmoZh5AZk1uVc8gmjpFbe9b+2DLnGHZ2Suac4ChObEr6WaZmBZjewFb7nkNZAr/bCuqgDWbHmmcwNNjIUJRoXtyNLHl3DqJQdStpG7KWLE2fTv52wrDci8RKbe10IRt20kZ5JFN/l529IDqbo2NBqhyCb84VhJDXScd2wi4f0mvCSY5NRk0G01MG2aiAAuxrY4o4sGmDCUBxBsgBHYlZR6o37jnLsC96QLPB+UcYJ8xOq0FITpBm8qEyyu6QtEpLjTUdbyFt1DXdUdzY/nDue4HTEDmgW6AHKNmE7XdlRXmM6+qJFBALbvYA308837cXiZHhea7pSy52IHqmONLTBnl7RGmNCCpY6hQVR5rfji8Fzhk6oTaZjmFxHlGDruBp1uYmagQi1ejT43ujyccpOqmdMAatlV2oNEdFzH+NP4aHKSZv4v6U5fLZiVR1CAG9Dkn9Sydw1cHztjxfiPA6gajNjdfQ/CPiUPFF++Ovp6Lm5GKuL07AFV3Ox5om/axj5yV9T6Ldn4V/iPnfg3qEEbzPL0SdqzWUvYHwyi+ftv+2Go16lB2oHyzdeZ8Q4BvFsnDgvox0bq2Q650+LqHTc6kuVzKBsu6hEIYCqZdyBVWADj7WjxdOvT1sIgxZfD1qLqTyxwMhZZkGLktDEpmiYBEaO7NUQDvySaN746ael3l3SPJbE7q6yxcIIjno27YGmdQQgDkggg6bJBrcVgFuznk2SkNF1e5SNIkP8AzQjFGy4X0qzKN9QuiCTua2wC0NAgWUg8lwhWGVSGRxHfYqRnSMkuGqy5JPggDzt+2DTaA3zEhsnG6Zzi11hlW2saY3OYDQRurgtSJengAggqbvf2/bD1KpLhDpCJaQLCZVxlX1HtBgvchoaCRQBBU6gT59vGKWqAjZRI8NSzNrEbZY6opAzSxo1yLv8ANey0xu/7YiSRAaqNi52VgqAGRo5ERwqszLSBiQN7UNyPr98V0hxkZQa8tA5KdAsbqjQaJVFsCSVZSpJ2DUbq798EHXcQYSPjBn2UtHCMMxS6g7K4VSFZL2UUTuTuSPPGM51wRYnPqlbIGkgkKXlwIkm1qoJUNf8AQKamHBqrJ+5wrQKctOSi+SZFlPmeNwrK2oI474StQA4/pAO49sOdFQQNsoeYZwU2KuysxDBjtExGoal8kG+Pv9RWI0zaWhOWzYGylqkhU6ajZ/6ASdLMNtRkpr2IAuhhxMy45Sl0WF4UiNKbZw0XcZXYPRLAXpsiueD4wDkjMoGXXIgLQP8AiglZPwS+KUMX5lpTGmoKGCqzAj1E3sAcT4ioRw72uM2zsr/D2D/ksI5r4b5vL92WcIyq1FSxJ0qy2V59hf04x+fugL9Qa8gXQE0o2ojRGtmJyGTUfIIU84mdE3WeVkPRcxBmNeWlhh19wgOFYlmIolQoIonzidRrnXJUSSzCd0zPTdJ6xDOGBmyOYXtaiRRRrDDjcEeecETABkck5Aey4sV35+F/+Mz4glz0PR/j/JQdQyTqE/4lBEYpEXVQLqtAjSu9ePGPc4f43UpgNrS9uOoXznF/AKYl1O1pX0e6f1LJdU6fkc70toc3ks7F+ZycyEhT3NNqKA1UOdj98fTMeyqwOaZB5L5J2pri11iDup9PEBJKUzAcKI0vbT8gN7+P/N8KNLbkkgbKznjG5U8mQOeynZ9SKZWqrawQp3+UDk1/PNAB/rhRu2NR3SxkMHhf1oil5FkYaWBJrTW5+Wtx/vihlx0mxC2oN80SUKJY1EwWNCCWleOO9CgsASj/ADDbmx++2FZTM2KLngtIIRVeVTI8dFRHsbJIaQ0W5+ZQLojbzgAkkzIP1TFwCVUJWlWTaoy53YsVUsTH/Sd/vZw7dLbyes7JHGQmdrQw7EaRxRIwmMYtSzEAlWvYVsRXucB40m2EzT5b2KQpmpAiQsRC36zSBVRWOr1Dc7Fa55xgDUExZEeX1RTKpkWVimXpfXJC3LklVoNzRT6k3WFhz7nGlGGbJsySuulJnRif0UDXRs7ENZ3oDY8HbAqMJAPVCnAB2R49FhhG7RFAkZJPcW99ypqxY834GLNbeEHMfFk2buLoCDSAukmS0ReKDc35O91/lMOcyzEIa7zG8ckRBq/5OqeScqJngfUAwFg3fkXvX0w7ag0hxuVnAvBE6Y5oba5UIkQOsoKxxq4FanoCqrcizuCNqwKbZmG+xSvGN16VDpkLuTIuzgbEtZOkgURdUMEHU1wLYMbJSTNk4ySBZRrREr9aNxq0A7NYHJYG7wGMjzHCqQPdM1tEyNKjwlTUYjPosi2C3dgrx9LNYR503dkoUzJJQGLx07iKLMxt6GZC1hAWVSTek+rY39MZ5kiLKggr2mRg7xkssDa449QNNxtftwL2APNYz3Et1N2S2bfKQQHX25CYXEZeZ5F37ewKIW8WLvffD04LSScZQcWtEgSmEI7xBZCwJBJXdqU+jXq2Br9jg6mgiBITgTZ1ilLRIY5NYCswRlOymyWKjSPYbGucG+oGYEpWmDEShkPKY0FoyuzTEBl1ED3YnjVXO+3OEaGkzyRMwA4X2RZINcks4cwsQBEysoTSQRuN999W3+WHGkvJ3j5oaiGwE2NWaMrl4ijRtpKqNLIDwTrIFjfe8LSd5RCL2knpCkMsJWpnq5RWX2l0ooti1WTsTX3vnDeWYNws0nPJN0N29lYopKQykFgQVtSfAUL8wHnCkh0gHGEW6RE77JqhjJFCjEWBdi24LCvVX0+mHc+CJ2SsaCJFgmw9qYUzB4zTIqrpII9gasjbx4wBWa65ulfIs26av6lRRRyCJ2BB1D5hepvFAfb/AFxmkOMRunLSCCSklWRommXdH1BIiutzoI32Nm96PGAXuAg9fkswTJdaEyMFy8bQ1IqMsaAjUV00Aw2Jrfn++ELshXa0ESVYd1pEecugWOKQzAA9tmFAhl/miCK25xmgk8hCq9pYBO6r8y5DxOsKRyxooRF0tux1SnYgW+30245OKCo9mMFctRuoG6K3Y77rG7WZRTaCxG4UKGO1fUYYCTpJUNJDfRRwDBJMVJjp5AxJVwi+HoVdjisLTHhgNF7qjiHXdsmMSCXBEkUhfSgC7BTufVx8xHttgu8vlCYkPg7J4h1KkbKEf0qBtGTTXSnxuN6w7/M0TYhKx2hxi4KjSanGWWXugxya9TjUGIYEE6QoJG/PJwjw3w/Nbf3GB7osu6+ERKkbRJ3ApbkgAIzgGzVtZIH0H3wGmbRG61RmgymBkVqaRY45HHZjOohjqNLsNxewr2/ktkNiREoaT+ohMBrSDtJGzNEA5LOTTNQN2RsdzgkFrrZKYYnZNRWARQHqRn9J2ZWI1E0RfuPUP3wkRDSUX6SZGEg1SqxEdJG4VPSNL6bYhgBVbmsWDj7JC0NvmUW2jDyMhkDPGQighdbnYKT7eRvv9MAPG4hKGi3SU2KKXuThmV2c+jSAB2qJvTtR4G45vBDpVX4CUMkUskHbielCFK0qp3trB0iwKOk/54zG2k4Sl1kiQu8gJgSeOTUUmhvXqUD1BrAr3IP++JsLg8QbXVNQA8wTWSZEJaknJKzSCg13YYDUtjSf2++MXEkDCRolMUyxKqQykAjR261NVX6htvW3OEa5zvKCBBKcsAEkSEkarCsrNWtdVysfnIG3pGwJb+2FMNZcphd9sJyyudEEoePMb6XS22AsWxGnk0ASK9sXbGDZ0IVCRcXCGzFXEU8hdXYBy39W3pG4u7/zxOk0h0HH5Qc4fqAvyRYoQs/Zjcq0leqMKF0KDRdLA3JF4whpgAAn6LTN014y4aTV6pN5FS21k2FJTYk+T74Phvk9Fg/mFHQrBJb6VO0rFbp9J4sFT6txxtga3NsU0FwsE1iVMkXqWQyGkUkqGFgqCNQoXf8ApthS1w80JgYF09klJkZnXtSjQQaFatyDQvgG/wDwYUseQYMBUZpJuCVBlaJRBGJy6RhNLBQzOpAICqNlGnc1uarzjAtIBcbxssWk4A91LfttKvpaQIFZmdvVp30htq4Hj/LFPE8sNv8AdQaHBxlCj7S9yPuJGGcsuYa2iYfKWIrySR99zgPcNJ5G6cUy4g8kFo3kZow+hTVQhkcppO2lRVizuSawKbXvFoATVANHokMYLTFdK61WJ0alIZqNb1fpJoAf9qeICDJgcuqmGCPKmPAsXZIjaLWWCOlMF1EVydgD96wNQBY4yncdTSDnZQ+0ryFQImRWIjkZdVUP+kD/AKrvf39sUaCTM55ppa7cqLIpSQjtyKUQRxyhjQYWS4DDhQQL++Oeo/TaMb7IhznRN42QRliss0pm1Qy03ak9JV1A1La8gj1Wd964xZsixupOaDcBR5QzR6o2IRpiFYsDZI2NcAVZ2/3xpa5si4GUokHzZUONFiWOCIq4BJaLalqrKlwao+f2wSGvgbA/JUEzdNmSOJAqv6pW05ZiNAMg2pqJ9Q0nb6YTV4YU2O1OPJQp6jLjtWkYb0X8wujZBOltvt9cOCSNRCoWg2QszG2tSpXLMlH1KKCkH/pNgke/1wNTJkmJW06RZCRnd3k7aTP2wk2o0sYG5UC7F3yRjqbVAJIOFNwDRELh3IO8SuIy8rGRmkXSU0nTepTtY+x2vzjyw519Nwqk3Uyfp8PVumZvpucyozGWzeXKsjkad6AJo/MAL2OGY0uBBFijq0kOafM029N187Pi34W6j8LdbzfS+q5OTIqrE5Vpd9cZPocFtiCBj4/4hwzqNfTpgL7rguJbXYHNM81jUcnbazcm5qt688Hbm8cZMLtIXU34D/iPB8PZvOdE6vmTl+k9T9cU7tqEUyL6fm+VWPIx0fC+K/4z4d+kg/PZeJ8Z4AcQ3WBccl3l0mfKdRhi6jBMksE6OFzkcoZVBJjphwBYFVsPpWPruGfqDX5teOa+Qqtgw4QQFk4MnaWJo+9P6rKMD6QaA1EAgCrs4uw626m3Mx8lJt7bQsghdEVpJEMZjik7MpUaTR3Cg8mzydidhjoIAbqdZR1SbYVnkwqrMrWyG44lkDr6x8wJBsXXjEKUlvvvt/apUA1XVplEEasZoUyw16SvzaqUNtfgH6YowOAhwsUromAVZxSO6VIvbAuN9a6QGYk22kE8cHDwI0hI9twCp8QhJZY3hLKDblxuxAtSV28+dv8AXn8sgNN1XSWnzCytoVSJla3CKrfqEBbINHbzRXwfrjqqNAfA2URq0mBKlRyRh427Jkd3a5owqqSbXVqaiV439sRZUgkEWKdzJiNlLjcIGLRORmCkbBTSMEN1ZJ9Vk+fGCQB5UGZlSKPaDiOKKiTR3cEMtF2Y+m1F1xgPJawkhMIaRgqdJoEVudvUQpUmRwSBdC+asXg+YMkiAd1F7STYp8Mk8ukjLgB2tirbnVvtZFGgNqwsmIaqgQJKk6nn7YAQTzxlGDepAyAMVYEbkj+4+2GcHloiDZIIkqfG4ASo43X0uhRvVZpmBIO1gEGsZjnBsHKBaJkrWH4w/DJ+KPw3+L+jZYGXM5jKSZkxk2xaNjoVRqN0Qa2JwY1hzG2kLUHmk5r9gV8IOqZAw51osxI0TCSRMypHqZFP0Fmqx+ecQwtNzvuv06nV1gb2+qquq9Mz3TI4cy8DiDOIHy2ZI2ZCbBDDyb8cfXHO2qHk6YMK7L5yhdIfs9X6d+bj7aySxl13plY+RZ5sgVuMSrFwaU7gCFkHxokeV6+WiaSNWZWYGrJO2qj7rWNQqa6bZyBCSi0kRzSZzL5no3VMpLJlTD+YiinhjLEL6yd6s0NvOC1zarC4FNqEEEYsvrn/AIUuvZxvhfPfDufzTNH0uVM/0/MKO728vOusorVqtXGk+N/fH0X+McY+pRcwu/SZ9l8b8d4Ytc1zW2K6zj09qUSxQlHpmiVmKDUQRZFkE2Ca4F4+paGxa8r57/a4ukQSNMsSyiEgqHWZWAY1bhB7BRziRlwgWR1Nc2XZUhnXLNIWCylIl7UXz0CaIDGixHIN7YL6oaXOvKxZIsjwoipApdpVRQ6gnQ5DEEAEaQ1Abg8E74dphJUBUYMMwBMW1STMbEIBZmVhpANgg+MSBLmyMlUNMCyJIO6xRXWIau3Kt6GV9wpVidyL5P8AFYq6GtcGmDugy8TjKU91IxKI5QVKma2F8kF6GwFH23OFrteAQDN8+yZsFxlFy/bWNkZi6gMs7sQCoYkBvVY34/fDNBYNLbn6JdZkmF5WjMjGM3JpRNDKFJkBPDGzZBP742mSW3VC4gTFuiUSuGkWFtKmlZWHqeRTXpJF3e2/jAJLf0naf4U4BN8JpdtMRQLb+uo7KK5tW2fTtvd+/wC2A8nR5AJOYTs8pkpwqNjJCFYStceuQ7CqLAE0DdA7fvg+HA1H6JX1m/osESFTLGYyihSvbVgDrGqmI+hAHkf92ALwQRCk8hpBFz9E8uoRllDoH9lN6bBbSo1Ctx++A8kxEiCraZvZCMRV3MB9LI7GZaINXRsqdN+R74wbLpm8KRAKGk2iMvUaNPQG49DsKCtqPnbfm/vhWvc1gJBlxwrmnLjEWEp0rgqwWniQoCvyyrTEsdR2O1+qvthxq1dRuphsAxuZSQzBJWnbL9qGS2hjB9BZTtrbwRzvz/fCAkv8zbjdULBGQnSyRiRiY5GVRSR7DTpGkqKrckHcfXFSJcSB6qQaXSExm/WTWDDOXDRSM12tXTKSfPN8nCOgt1AG319UWNLbOQldQ/aCiPRTuqoaII9S0vt7k19sTbqEN3yrkapPyR0JDsoQK0y0wQGwt02kBgDyPIx0l5I2woRe6gF/00jKCAGXQVNLIVrZpLvbwBiVN4A82VVzcke3qjqW1wytUgvSFVVNE2a1HTVClG3nfDMaZBAtBQaWwiRSMFRJYGBWRtSybyEyGlYEn00PBwQSGmRGyQtGBde7cH6KvYYkdkqVXWL0+dzXArnnCNYMk3ysHu0xgJFLrGFjVliGgAN8wAA9TNfO2ojisUu4arSs0guvdAD6j+ZpTQ05ida82NAG2pgx+nvxiEmZ+auDlu31SyIF0kvF3lYAL6wi+mqUHkgiv74sC5rcBKAE6LU+ZhMzKC0LIWcamYWflAN7gA+x84UPh0ugIPiICYknbMMYS3rT2l2IKsSCrbkbD9jgCoGk6XZWc0liKqztGvaiTsKNUszg81QIYXZIq+catqa5u4+qek1pEp4iZnlPdaJe2HQKbAU2zhUJFUdzYusRaCCQ4rrcZEBRnJVlBftEjSrOo1x2LUC7AocCsdYdgDC88jIQ21oZNWaJIUKrABgwFBUFgeH9vfAd5RO6zBJ6IolRZohCscsQRajKmgrAeoeeTe/jbE5GqQUCIF0B11Au4uWInvxPpUlrIXTQPtx74d7W6dUpGAzC9pTTLNKZJJBtJKtj1KoNhWFgV9R7+cMxhi1/VUJaw3SKJDrRhGs8FGZ0N2rCwFq+AACRx4rCNkRYTPsgXDVIwlcQxs0rFoWgDCScOxjp73LWSQN6HtYwRpAkTclO4avROkRhDKmXhCdzcgqDJSk24vjejufO94cADIsptaZugGISaDljIjRf8o8igbIobEn6+cI+SAcFYEtN914ZdtMUfflRoyO1qYam2F6msNRsH71irTqAkJiNJIF+afJDrsxowUaT3IgSt+GHk71dUAK5xzODiQBv9PVEGWyUxWIhQvIJBJ8xRbYFTXAK+16gdt/tixadOnJCBA2T51XtIzrSJbSKjBhRq9ZeyCB5/vjE2F45pZgpyRj5dejKFfXe+rSbZRV7m/545wPED/K0pyJEoLj1Qwxv2jAdA7RUOFAbdgPBvb2wj3EOACdrJb5ilk0rKrJGdUsrUSber2N8ACz484IcLl2ZSgWsUy0jJDATGyikWCY2aqkKnayeOMY1IgEW5/uhoLrkoZiYufQdberSLra11bBrrmh/phHAObHVWAIslCDW3bDSLo1BnStKjbQRyN/8hhWDzEg4THSIHNDjaUgR6QgaIsxagxVXIAJ3F2as4cvJ9EvhGbZBRDEjRiRT6QAwpQSfUNQO1NRG5G3tjBwO91nBxdEWTXjVibkp9Bi1IAKYnSSo4Yk+PfAaQ8kOMxyWfT0iSF4p21RGkMEEhBgREB2jPFte/uKvDsdILJicRdYaXNLowhNoWNwiMXjdlcIBRkA2v7b8cHnbbCvqNdiUNBnkl/LyJoIJi9IaazqtqtUVSdxf7/tgNpsYwS0yM9FVtciZcDOEGgWkjRricARsLUO9f0r6l4Pj6jBa46YIsl0gGZMpVDDTIZGSSW2dlsMHcEDYXZoDY7bfbADT/qP6Wc7mln7sVBfVDNQ1WqjUmw+UbVQJq/OCa4E2sQm8O9jdAKl9VRQwlULxxAbBSaLXe9HVyMZg03m6xgZ90rugdEU9+QoBrCqStGix1FdrNfTjDiqwmCpCnbkEMIxaaMWhQ6JI9TL4NcDYav8AbHPrOuSbCyswQ2LH7oUkcY1TOqIjmu8x0kKASCy2KO/HB+uOrxBpkm5+QSNkHCjO6JGIozSFlYqR6tLDUW8jkDavOM540BsTzWcHE6sSq+REpTNIUVCsiSNakLVlWJBthzttiLnWLiYgz+FVovA3TJFXQcx3Y40kiDSyso3kG43I5pRW2LAHS6MQFLQJPMIE4O5MratKaMsFKtq3I0kXxZ8jzgmB7pmsJUOeFdQliYsQDrZyCSa9RNXRHI22wnhEQ4GFiMTaUE9pmeWKQaSVAd1KuR5Y0PHj6/bChrQZOUrm3gILwB43kMjKe40uskk2PAYbfU3scUu9uYTTBUfQqxM0siJpYJoQg71u4kBIa6407YZhD2kON1KDMhcGRSTrHG8ccEVKI1nYuwC70reCALHHOOSq4su0JgGTfKyXJs3YgM7ssYcsLB06h84BoAqLr3xZr3lsz5UroJsFinx/8B5X466G2UzEJfq0CH/gucEeqSP0k9tnqiKHAvfbHJxFI8Q2KmdvwunguL/4tTU3G4Xzz6l07N9KzeZymci7OZyknbYSLuCp9jz++PkK9E0Xlrsr72lVZVYHNOU3LTFXawDVFdV7DYmxjmqtBsq4XYn4AfiTF0l8z8P9Z6pHlulTCN8gs4OlZzasBVe4IDbbVjt+E8Y7hKukmWO2O3VfPfGfh4qM1tFwu4srmoo3UGWJQ7BY5orZJNiQxZdhzZB+m+PsRUYQCTYG208sL5ItLTcLI4ZM2Um0zRxSSuChli1B3j3vUdrYcDG1OcTJuL9EGsaLgWVlBKXgQlhZP/yM4FNyEE6buq0jbc7jnDh73NJqH1TEBrtQv0V3lDI6tLJOWgU6HB2ZWYaUvfeypsbgbbYpw7yYLzb7DZQLeStyXdjEGTuLb6GZTp1HcEm1HFbDBqSWnSgIB8ylo6vFGrbiSMMEaO9Wk7Myna7HnAgOaIv7IwNVxhToZKKsZBmA+qOOIU7QNdAqrbA349t8SveZufunNQiS0Qp66kQvEjoFpl0jZqHq1irArnxi9ZjR7KLCQepU2IKiok2YLd5iQ0gC7n5dt+L2PnCCnpGouBnAVQHPsALKcjurzGWmbYFKtYl8GtyCAdvP2w1Os8WcbpKjGkDThPjCzLHIjqVNr+qp3IFCx49wb5/jEamtxmJWa1gUlYRGFfsxapQqd0gkkowtV/pva/4+uGphw2zzRc0FtipkTDLyOO6qJG360YopqrZtQu2B99hgAuDvKcJH4EZRR2yhVk7b6luaMfp62BB0uCtGxpP0w4did0hkmU6GTtLHHNIFY2gQglND2j7sCTdnyBh22s6x6clntJJjkvit/ia+Gsp8Nfi18VZLK5YQZEZvuZeJTofTIuokXydxW3nHyPx6hFXUBZy+2/x+sanDNE3Flzb1zr3V+qw5Xp2bzfcyPTEMeUiFFUQCytngeeMeC2i2i46bSvpJBAWPwuyToVlOsMAHDbsQQRvXAPth2NEQ5EtANlm3X843Wch07qDjvNlqhnIq20gCmcX9hdfbHPRYQSOS5aUtfHNY3muqZrPyK2Z1OIo1SN3PESChXOwI9sUpMDBAC6ogr6Q/4QPxFWTrmQ6JnKEma6c3TlthErdrdVR9XzHSKsWf4x0fA3GhxemLPsvB/wAgoB9GQIIMr6OI0kPbggaGNk1LmJPXps7shB3sDiz/ABj7j9IAaF8cWuJklTTLHMzrbIAyxOSAumVBdeeSbH09tsdGoF0cipBkYRJSNdzhUhzHp0RpqI0kArQ4U6xZxKqHTpIynosLw4NyL3SogmiT1omYhdQSCfSrkWDsLOnn64YPBbMXRMAicFJUrFQ5VDIFTs8ojAB0sqPmIFbfucBrA8lsIxpEi4TwY3gkXSixBnJhU/JISouhsPvXPijjBjgS4m04+mVMTAgYTxI+5lEkXbVXIv0ORvRpRvYPkYZznMBbsPqmbTgjrZNURysyN+nIpYmMC1YgUWj8b3VcYYHJ1AIAFekMXcjLyACiIJL1Cm8ewoHevrxhHB2rVN5gJqflEDZOVS0KrHKgMYVpmB1AGjS613FHCNb5ICLmhhRWEV9uUlAxox7gkN6iStXd8DyP3xtDmkFvfVKDrPmTJ3eNswsuYETxSKka6RsFUtyLIIu/3rB/3MuI/KYamwRCkaYzI9dxtSK1bBiSAQwN3R3531YfUWiQZUnsMxEBFiOpVy5Meh4yGkprs7D5eVYncVteDJ1EckWttq3xCZTqJJQ6WwV4i4CFjVbkWNyw3rGIcG2NlmBuqCCfRMdw0eh5x23axMqjSGQBxsaOoXv59sJSLdMXEGUdJbccoun62SSVCCqkhWWPdYgxoccc/XnFi4gElT0phjDEpIrxo8bhZHP/AOmDXqb6VuK++GLy0Jw2bQgM8ZDooXRqDPC4DtVkgmiOfNfTEzVZhOabpBVV1Pq+U6HkzmmJijQuVRiGaMAXqYltyTVAHEX1hQpkjA2VqXDuqugXWuoPxN6Rnxls8plSOZi00qNegg2ATbVWkkVj54fHqTqkG0CJX0X/APHqrGao9lsPJdRXP5Mz5KQTxySE6C5vUh1Mmm+Kvzz4GPd4fimVANJm+Svn+J4Y03Q4KzSeNh30jeeO9ipACxmgQGbYbn/XHY7SZNioeiWbulGREtyGaSR2DAKd7BA9W21fxhKrqkQ1ZlNmok2TZ9TzEyRiSOMAaSdxIaagbPKijuRwMLrcXAnYYRp0wGmDvCSVSNcmkNTBmDDfYXZW9YrbfFDGq+yJImLXslUPHQ7d+uozHVuQNthxz/HvhQRcFEtOCiBxqhYEkODoLKCL9iB45+X+cEttPMpByx1UYaZEKbgxB2jU3te3G5G9/fAD9QIcICZ7YiEam7hWKURl01SuNPb3u1JABGr++Fa8wGj5fa6ABAul0rofKlBl5HKSrlVU6mNf9S3p59x/fAJv5hBOIQc0g+UyCiwiMMdgrKupjGGITUSftsGsX/pjVXnE3C6GMTJZJCJHlbtyNGi+pRpALmmDKDub98L4Zc3zOEqjjC9KrRtojhLZiUEJ2yGrT5NVq2J49v2xeTa4suAg3PVQmGm1ikL5dbleSVgpBYH0ahdDyffCPbne6o7W3ayL3pC8uX7OiOCklVtDE1RUiqqt6/y4xdkh0NgQJKV0kXTqJgkWKUTSAXT2p1MQKIIFE+d8JrBEpGNkzuvAsoYFU7eyoI1LoSVO1+fe9vucUbLbjfcYTvAEahJTBrbtssY1zOAZdOqQ16QULUCSeSP3rEyAAeqYGCDCCr97UdSyBA5lVFu2FDTvQ4NWOd8Gm9jhHJB0g33Q6BcyGG1mK91pLJjArhRQsknxVYk6mNRdzj6fuiYupcsLqU0acwU1kSBSSWagD6dwKsEjg4rUcWuEpdM2ymtSqzS/q2khRacMimwfNGxttv8A54TX6n8I6NJSCARso0CNVDuSl8kUS3tp4J/fGbYSCQnLZJSupHbdtStoURxqCdhstneh9R98BkidlMshBCzqJDKY1eWRmy2hWJeN11ITdAlDYO2ngjBMwHBPsimQsVjVtZjUP2o00yD+kBeLHpNVhqr2unTtCS4dOyZ2wgj0UvdSljXQLYNqGtTfqJsb1xhGuJgQZVNOZ3SmzGr0jaAzGFUDFFQ3pA8jyd8M9wuTnklZSaMLw19gpLEwDhk06NBBdBZB2JoHgHBDobJFwES3Ub4SRxsJkIdYiQ65gozaQGBDChZ3IoHnEw0NiMZKrcgzsnaRcgVRE8pssDrNMSCq1ufc815w8CYCwtcqM0StHMZQRLlYm7kEp2CA2QzUSarkCgPticy4n/x2RnBH+xXoyrgyvCTHJbB13SJvqCTf1r2JwtEkFziCOqZ4kBszCF3AYlJiV5JDbEV6dG5UGhq3HJ84VnE5tMlY8MXdI6qWsEBM0+ptAQ2ykg+rwurbavHjFfLOoWUtLtNtyopDRxx6CGde4EWU7aV+X0jm7P0/zwjB5BpuZhVeTqgmAkgCtJqCB5T6VjZzu+zEbbk7bH9tsDynEyfqtUpkQLJksSAyxgsGjRmU0KUkWoXalNmtvOFqu0tsYKDAS7olfWNQli7sMcarKtgFyBxY/ttijKj2tMSDG+4Rc0SniMRQw6+1Cya+yrsojVnG1m634A5vBiEGtOqEi5YdxH9awmOnTRwQb3YjYWa+prBIDc5TaREZQZYI1cONLS+mPWd6PqOyAAKTXHBwrppGRYn3RDdRjYKOUY6u7G09yGRJRsXA5UWxohubxRzHZMFK5gBsvGNY5AzDRIY1U5eMs6ruSRuADe3jyD4xJoFxFuXNGHkKG0Ld11AVYlk7ahgBTjTpq/3oYdssl+3JHXIgIRy8uySBxCGWUkLqUyBvU4Bqywr6ffGhlXIJ9EhmbED1UeWNI5GaOIRQsLQsm7FF0kE+2ncf9sEPJD4tyCoW6jmSo5jDRpDHE57oR5D4AIOzM1DYf3wS8kQATaZSgFs9FHUgdyUAwsrANGpUqASA49Ng+LJGA2rDZdaUuguEDHND7UroS/deMy3oO2qt6BXa6Pnzg6dQE89ljM2EKLKq5lyWLsVKtFEw2O+11QUD2/8AeFq3tJBCYDSZjKiFdLyhsxEnc9MCPH6YlXevAI5ocYLnNMncfVAy2IXAfT2k0pK84ELCjHGLPcO8Z9gdIuvN8HEbhokyiRNousgySPXzFRMO32WIClSwJJJJDb+av9jh2Mc5sYU6rxssnilUyA/OpWPVCAqONVaiFF76rFivBxYuhw6CFyCnqaZ5rS/4q/gzk/jDLdQ+Ieilcr1yCIyPlGNrNIgtk331Uu9jHn/Efh9PifMCWuGy9T4d8VqcN5CNTSc8lwdmIJshM8MyGKaNikiMtDVZ2s84+OrU3MkPEOX3THtcPLcc1OyGZlgmjksxsjApIDdeL3JJ48bYk9khOBnqu2f8Ov4paM63wx13qjHKTpfS58w5tGJ3jJIO3mh45x6nwbjxQreFVPkIybx81818a+HagKrBcbfldqQNAYQiTfpqxQSFzpq7G/jbccChj6maZETY4/8AyXzBJBvbqr66DF5YwG+SBa0KKJTYi21Abn3/AJxV7ToufUcgP3UxH+tlawvDIA2WhKqyDshEEclKK0r6tze5HIvDamuBAHlcAf2WM7FWiRN2WhRjHOyorEFQy1TMQH8V7/scKXNElpuAEdRyRlWeVlVgpybvmZGOkyxgrYIINtJXvRvzhw7xP0nzdz9FnDTM4U8RfqZcQOIowxKxOdR3qzRANneiCftRwatJ7jLbxsEjXeQl2FYqLkVXcRx5diX7ZuRK4rVtzyD/AJYJrQ4+WTHYTNbbKlMe65dGa5UH5xJbvS1qGAYb7+2FeCIcRkLNzG6mxEhAs0vfIUiRI2NlgN9Wx32P2PttgtaNA1ESovPnJiAjI+WmLOk6qpjCaIwAWoDVZ9S0xo7+2BrBB1fp2VtGk2ynCdR6Y1d4uC0ShgI9yDbbAg+mz9MQD9AteT8gs9plSluowztLAtkFmtdiSQx/q34r2++LPcIgGyVucIuXaIyQKqOkQosQxGq73ogEn6nb+2NTcKdiYCSs0zqXmiMa5d1lIdSXIPpEi737H2HveDVbptKLHhogC6+fn+NH8Lc5nJ8p+InTss8sSwnJdUEadz1A2TQG1DHkfG+GNeiHtsR9l7P+PcSOHqmmcFfNTNZcWjtCYlUm3ZQFNEEkDnb67fxj5JzgSvtGeqq3ylI5oPHuJASuo0LBHncb3hX3AJVtcq06ce9lZOnswTJzD0MwNq61vsN6NcX9qwsmdQwbKNSxBVBPBJlZ3yTLpCkBgNhfuL384pK6G1NY6rZv4ZfGma+EviPIZ6AyGXJZmPMZYRkLbLvyN6IJxBzS14qty36KPGcP4lIglfdP4J+MOn/iB8MdL+IOkyieHNxr+aVDTicqC+okUCDsL3x93wlcV6QqMNsH/wCS/Oq/DHhapa68LMRNFHBIYJS0zIhnNKBsp2XWtE0K238Y6tVPLZJUg241Cyj/AJuLtyRxyzQmONkQker3UgDcWCASMBjpuCbc1U0bkHBSwdRy7Ov6ywhtjJMSlMrDh2I1G+d7wGcQ0XkAJ/8AjPbJALiEnejCqzCMRZhiysGc6ibobmwANrqvpiNLiAwSHDzGETQc+xabIH/E+ntKG2zRLlJRGQ4ZlNaSPT7WB+9YpVqNLY5pRQdMAx0UyCZWRmJWQaWZVXeIAD+q+CG3ND6G6vFKcXk6pCBaWm1kdXeWVo1kij0qoheNRu9qNQVaN0CQd9zzhQ4lxMWiP/sk5esKUJNEbSrTZWGQeohiUa6YtuCLN2cPUeNAIuBdBjDrIG6VkYSp2idMuuVQQQXjvdaNBuDdePvhG0TPktPNUdUE4lGVRHHM5W2FPNo3cpsrW1mjvtRw3h6STuOSR2pxAIsl1kPrcqBCVklVBpVYx8t+WYn3NYNO/mOQtUaCNO5TELRcQd1KdpEjAJUsQd1b2FWPB8WcAloNjM5HJDwiUbuIs3dd1mjaL5TQ2u13BI5HA2FeOMO0QS6ZkfNYaXNmZKI6mULGqa5NLAGQgIu25rZq3J+v2rFADAJz9lmmLBR4cws51yaUlK6hJqN2SKtDwxUXQxBjibbreFpM7LzPGJCIvXF3VHbPPG7cBjRYWD/ltis6IB3SwEFprZtTgrItihdKWs2Gs3tQ2wjXkEgxPVPp1D8pgYLKDITHo9RYOSdjseL55rCl0OmAqBstE3WsvxWy+Yzvw9MpaSGMCu+t1pbwAm+5/wDePK+Ltc6gTC9b4NobXC5N/DHqg6l0HNZN8yAvR8+8FOdMjqhoGuRtdH3/AHOPytzyKhsv1CnekOWe/bvK3V8O9eznQHDKRNDmVcT5cPQIWwfV4I1f6cjH0fw74o7h+reS+Z+J/DG182K310nrOW6tDlmhkSLNOHWSI6eEo6iVvfbivPGPteE+J067QJvK+L4z4dUoEyLc1cCWOZTGjBQkYGjiMm7thfO3Ix6esOtMWK88sIMkJCWKXHqYAFA2nbUTpKq1URzhZ1RBnqnIg/hO/LMx/SPoAYlGXVe5AIJuwRx/GKhpc4wlJDchOLLChV42WJnYhVIO59dEnf5jXqG2FJDQGlBoLiTK8iNG8i7RpmHPZRTqCggFQrDj7VidIm4OAnJgCUxWKwly3olO5slwpNg/Q7edvtgGla5ym8QEwAit6RoV9eoADVQZSuy7EfXht8XE4G6T9RvsF4FXkCse3K0ZZlA3YVamjtXB2wHFrXQfdBoMCBbZSQWOXEcch7cSMrTMoAcgUwuh5Fbj/XCVAHzGF1U2ubkIZ1pES0xCxsiGMbqWBJJ53IN78e+BSEiTeNuqnUfF4UBoon7modmRVPaLHlgP6SSDRPPvd1hgQQZEEKN23OCjmXLg0+pmClTIKA2NABmvUNiK2+uH8QECd0HMcAdKHDEjUrBtUUZ0M3yMGc6TQsmq3o7eecEPcTM/pRc5tufJFDu6jKO5LOofLFwoAA2bjag3jnbasAVQZBN4Qc3VhNVGkzi9qRNLaQYyhQEg6mHBslgON8IHNa+CTFrbKzgXNAiEIx5ORTGY0Cp3WkDMzsE0kkgeF9R4P74am4P+ZSlrgjAMx0xsNeXfRHHuTakLIAQLArg+OcMx4kgBScIuSlll0yCORXpnqSZVJYBVJ2Av7b7YV1TYi6IYC3VNpQgCsblwY1bm20hhdsSaF2RdDk4LjaTjrlZrSSQPmiDMrLIBAw7tKglI1FnUbEbA76fVZ5/bC+Nq/ThO5mgkHISO95kyNE7SIza5F2UF/WRWwO/O+M1kO0xMboeZwuIBRD+ZXtMkbwq7KJW1BU0NdkA7UCBvfn2xnNOrVugC3HJLcbUsmkW1sht9OxIRSL2/qv3B/bGoAYNk4AhRpO2O4IwMxKUZ1Yk6AgJUgyMo3Fg0Dtthm6HAgFAgtAnCMoi0mQMJZFVYnsbI7GwzMbJJr+PvgCDMHCIvkpkbwTSq4pMuwJjVbGygkh7ulHOEL3OEGyZoDfdNDsI2GYmjn7kf/NawupxQ4+wF+aw7pPl3OUNIfOnZNdFaONgvYVoyzo1sAoJ4Iq/q1fbfAJIIi0Jw6BBujIqIskiSrquNg6gqFQABgCb+aueT/ODUGgWStbrOEPdQNLmaKWQNI66tbRgAbk0SaJJA/wAsSphwkuiDyz7qj2YaMhelVdMfaKTq6svac0qsa23uiBYP/rGeSWktNowcLaZMbpkvdEQDr2yUMrWfSrKAVZavYk71/bfCtcW0wQDJF+XstOpwBTXjk2MjqElQAzT7lClVQXyW/wC2GaNZi2MqhYBdL2j3NZeSbuOyuVRVIc7BSAAaujucFzg1u8jlhTsb4XigZUiljZ2JBfVINKo9gNqvm/YcYZrgyAUHAuu1KgjEtQP2sv63VdNWTte/AP335+uEoVJJ3lZ7JAlBZNPcdlL946myxc6gAw1kmjZOwFfzhy4tYQRkrFoe4BuQEGODKwxlXhUZNGA16QQpYsVoiyCNjsMZ4pwC6wTgOJhtyvBFeRFaNpu9qCvHYi2BJNsSRQ2OOdjWEtYQSTuP0+5VC18bAhHIlJk1kCByRlNxIaAHBocXuD/rigNzqJsYCQmB1QgkWXlSN1aHUSImI0AyWSVsqatV38cYbU3YkpXNdUEhAzCho4lRI4jIGfWLNKDRLAiq43v6XjGAQ4mEY8xCjTZUU0z6u2Y7dKKHQu3G5NlT6RuNvHNKjGyHE2RpkkkbhDIWJ+1lzJO/YbUrMFRW30jYbVYO/POJmqWyWpjRByorlVYNNJGZGBaNx8rC6BGr0njcDAo1YIe8QdkRTn9OyiyDKCSSswUkRjGXXYOyWOL22r6+2HOlokG5MRzCWHZixUJkCPKxy8kjLKESideog7uASKN8E4m8lwuJIKLIO6BokZHKKzSFGAamCbkbML3On61gF84mfsmLJvyQ2p3RI80ruoMRjQW1bMWbyCK2H+fh2uNMjUQSeV/mlu90xAhDvQzydto1Q9tTsHZdxbotmxtwcWe8OJ/1jdBtgvnfllMMRmQIjSMDF3gDQIFUVNcmufGJPMtBOSpO2BGAFkMLyNCO25LFVVApYmmaro2VogX/ALY2tx8rchTc0ZwFkUaLK0Ukznus5M6zIADFVUxAUbGroUdsMQ55aZBeJnVYAKYtZXMUAWNomRDaqiHUXama123Nb+NweawRcGYkcjlLJ3suLf8AER8ASdL62nxRkoBH03rTMcwqAntSqN7UmhR322rjHz/xvh5Pjt/TAty9V9P/AI7xuppoOsQd8rmFV0COjTEUKOwsm9hYvzWPnxhfTK/yfWMzlZEIcq0LDQTYr7Mu91iVSnqTaV2z+BX4xZx87F8PfEnU/wA1lc2pTp2cnA1JJVhZCQdr4/8AeO74d8UfQPh/6lfPfFvhTSPEpf8A26+i7byMs67WFmAZfzMLFyJJCCgogqt1X71vePsKfmInK+QJky2zeSyOAa9QMhRmLaERbDAgMLokrVkHfF8yHWQc/SPKFcwakbLntaVjNGMADUxOzFgd/rfOKCl4YB2hIDNyiwygRoHkhVnPoOoq2kE+CQdgfP23xEXJnKq0xgSFcQskSjUrqij/APc6rIs7V53INWfG2+KhoAsfdTLYUtdZCsARLINAljWyrNsux4Db/wCWEJM6SZKdmFY5PUMvHCkoLLfbDDTKorSW1ggX+x59sVaHhukmyQhrTPNSNOsRwmICQTBX9Vk2Qf6dyfpteC/zNECyDtU5Cmo06yhUk7YdW06AKDPtTEiueDZIOOdwiGybphz3CPG9COVZGWGimsA6Smoag4N80P3w8t1tAcbdFmNOlx2MJ0cTpLYQrqk/V1m7IFqEQEUTQBHvjUw7lKDjpuMFEUPKZu3EU028qyMNiDa1zWkH/PDFpqW3SC3onRvIVMTxokLShDIzAMtEl9POkWPv9BhPGE6COiLmAX3Qs5lsn1TIydK6nkU6hk5wEzURCvGwYggtRNk37bG8Z41AMN7oNBpu1gkELlD48/wX/AHxQucm6BPJ0Dq0it+WiYlssHIBClmJO+/9I3HjHl8Z8Go1yY8q9ThfjnEUjnUF80/xS/CT4k/DHr2Y6R1yCQuu2SzyKRHmDq+cMSQbJ4/zx87xnw+pw06rt2OxX1vA/EKXEtltjuNwtNyoyOdLq3aYEaQdKlQBvS7E8X/rjziDsvRGFb5hk6xknlXQudi/UV0YDuKFpgFY2Tqa/rZxZkOMEhR/9p07FY67SxyCOMhQCA6r6Gu2uquq834xJ+F2Agi2F2d/hs/GnqPwN1h8rn5RN0Dqb9rOZWyD3GpI5VC2AVB3IFEfXFeA+Ku+HvLgJY7IXi/EfhbOIYCP1L6M9Y/Er4a+HctBG3Ucvn87n0XMQZOCVgSzK7IGI2IsMoB2J+mPd4v41SpUec3heN8P+Dvr1JII2Ws+p/jH1yBnzGVykWTyssq5fLy0XLdsAMQo02SWAthQ/vj5St/kVZ4imYB23C+rb8CpUPM8ei5+6n+Jf4m9YzAgyGUz7M1H1CKNGbSFEoUWQookEe33xy/8yo5kF1tk3h0xYYWVfDf4mfFnSZp2671JO+IS2WuZJBKspQMtIW0WTZNVY28466HxF1KxAJGCuKrwYeBsti5b8fsnBlYhmFjWWOWU5WSA6lkWM7MQCwtjXqB3+2Pbp/Hw0AkRC85/wYArJej/AOIDpHeEMqPlXzEY7IKF20UdSEqwApjQI58msdFL/I2y5rgQSLQpVPgpc2QVn+T/ABt+CjHXUOqZfKyHUTasjxklVVqoAjw1WBucd1P41wxYZcZ9Vx1vg/EMILRY9FtvpvUOn9UhgzGVzUWcyygKnUMu7NFoaybZRRu7sA49OnXp6ZNwd15b6NRhIJgqdBIv60ZbVA+oyuaNENt4NHb6bbYrTpaiQ3Cm5ukXyEeJEMitCiB4gxilb5WiIFnar88bn9sL4lOmYIM4QBLhY5RkKM0YCuViUgHSrsQykkUSNgLBvxh9RaHHMbJWyCJ3TEaOFpHM4j7q3EzAgu5oVS7Djf3+2Fa5j3EtsqOa60ZSJID+XeIrKYDXckC+hGO9KSAKrYi7/nAcXNu2DCUA4cpCj0TqkAjYSMZp5SAWdR6bbTYq/G3+eC0siY0krFznW2Q17gjV1KxAukqpdj0ekKtAg8ize2NYaQCg0xLdihLIkpIlJKJE+syADSdQ+Q+diaBxVhLhcW5oOIYYCUanDGMAxAF9RBBqx/VsARsfO141NocQUXNIF90xC+qZTbKU5oruAF/qsiuSPrhfEIJATeHAnksb+Kcv3ehZ5Em7kahu6Q5BAC6gDqFgjax+/OI8Yxpom91fg3ObWavnT+HPVcv0X8TfiTo8ziCLOuz7gsut2snYDYEjawMfi3GN01XL9n4EA0xPLsrpdIo4s0uTNdzvFQyLpZgwuJQRpH3F3ZHthqVctE99VuJ4eDCzHo+akVoJ8sggeJjJl7OpdmYFjpbSi1sTxdi9rxZvxJ1B0jPfe68/iOAbVpkOC2l0rO5nOvlst+XeWZxfeit6O6h7QUQT6b4/bc/UfD/8sBAFX5r5bjf8XcCTTkrJFHom7bADKMgkjBt99yFUWVBI4P74+z4P4hQrMGh1uS+R4rg6tF8OCQgxy6Y5C/cfV3CwK7bUfNHjbHoBzdQ0yovJiCkd2OqGgoGoSRNZLhrJsDZdxtthalYcrpWtmBhNdYo0chdcgcJJoQsulhY+WxQN0SfP0w5eAHAIlt82TYf+UQsZkA1M8BUhaAApq4NGhvxiFMGyo5k7p3pdY5E1GRgmqNAWKlbI5A2FfxilRwtqsptYRfZIFSS9UgAAS2v2A5q72APt74ALXCUzSWOkBWyntxSrZhRSdAUdwM3Bvciwa52+mIMe6SBiCusMnF1XM4rRE5AALqyqwsuC+yn39sXoEMGse4XHWFs3QY0RmdYlWKDUJI0otqIu21EjSB5H3woOqWwAAZB5ylPlA5pw7RCRSMJAQHYMtixZuzVH1VXt7YckGAcI6bSDCKYlIbtSFRpBRzuoEhFWKNffbnFHtP8Apupgk3dsgks9PKrtOLGskMgXVsQOQL2se4xIUnOeCnJEGN0npd51kTSSgABNDjYUCbtrr7YB0yZF0QXQL2TnLLEI54gHLgK9FCuncMDvyBsb+n1xRwIZJwpgguCaz9xO6rlGau7KWBAHJBsXy1YQlukabKobEokplK6C65dXj/SmZjaAcAn5ro3yff3wlR+oQLdUGgJoQJGJHy9JHppVkvtbjUVJPBG+OklmluqDH5QbUIcYyvOB3WDQ0StxgSCnBal1oCG+9+eMQq6Z0iByhUa6RqIzlGQPKrS6tcgUoWDVuP6NROwvmgMM0Nup6XDdDEMiyMTHoiVVZRLv6vIU1QNkCicLdrhGAJHWU40aeqYJXbsRNGQANTB1OoRm9W4/bYmq/jGLi3IR8PX+leM5YsI0JlcERRpp3pbGssdgB7DY8YZ1ZgiBuEKdIyQTZSZT29IjSKJ5PVIgGkWGGsUKFGxvfvi1YgExZSY0Emxso8rvLDMFeQyN6j6rAK3sWAI3O11vjnc86dI/Vz2VNQ1A7J5PblBKlofmEbrrVG87gijd87XjCWDQAec+uyo7TMgodx5dotaK0pIKIoZdIHqNofsDfH7YafMATdAiGmNkx17Uz8SpIjosqMpChTdKpFEmgP2xMu0PM7phcAhejbLLl0SBBHZ1vLXruuQSDtx+384NNsSNt02kOMlDqUlYljvKEB2iohkdqC+ggj5SbPN1thBJJ0kQVgGtCKkUbZlQZBrWFqiLD1MF1Ag+FUfNQxNztVQSfZEuIZbdCqRWJldMspQjUfWbNDYf1UQLw8BxIcYT2AAi6dG7RSlY49UsekyhyWSQ2OTQo783jU4YYbfmeqao1r84SBQJBH2ny+XaULFqAO4NHSoo2bO98jAbrYPPzwpiXtGnZFatXaVZdEjWXQlSU+QBuSur6CvfDktDpaMpXSAZQAgQ6Hdi012pttPkBQ1V8os3vgi2SZ6XVSXCI5I2koI4ywjF955SBuU/qIa6U8b4zjqEbBBjZdq3QxB3GjjQdtZipl0g0T8xHGwu/A98GoCSGjCVpAklNESdst2ljaSdVjTXY1Pt6gBXy8UbxN5Bmedk8FNKmg3daCyVWFr1bNuu91tzXj74oS4tIH6iICRsTgoeaN9wuyRtCFVrAKqHNH0bkWF07nwK98TdVcdJkHSUwpyY2KAqBEaWeRkQBmQUDtW18knfjjj74doL2lwWdZsD3TCkc4UR90oPUrJu7WQL0m9v5Fb4q52nFikbbJhV2ZgkZTKiG4GCLEG01x/U1izq3OOWpTL2mTP3VxAEBMMLvI7ynQmzevlmJO29ADY+d98WjUdURHNHUWiMhRUkCklkDQ6O1IoJYiwFuhvdDavOFY5rSLEiLpHibqJmFVZEcoZY9tKWxCivPhS1eOPezgaxqmbH6Jm04tKDIrwhHicMi6Vdhq+lliNzRO1mv3wjGlkco/KMtwRdBRX1zxxZjtyIStOoCohOy7WDxvveC3S8wHELPJaJXzc6eYNTq6AlwkcMqWqszDeuD44NYDC0XJmTChUbYRyCyyKSCVnpmBS5Eiij/UJFWoskMfG/3x1Oa0CBMhRYTN1kWSnliETIkcUQRAxkVlDgEfMSLW72PuPtjGu4QZsbXCmWBxJV7C8MMYOVEirO2qUrRoMdLHcitAH73eA4uA8tikkkwUfN9M6X13pMvR+sRx9TyecV4ZonSmSQAhWPJsbfe+TgBx06XjUs2Q7UCQVwV+Nf4RD8P8zlOodOllk6L1QGaHurbK17r5sAmrrHznxb4W2gBUYbOX2Hwb4s7iZpviQtAo5ikSpfUlHUpvcbiiR4PjHhkle6FlnS8wUVHbMHuWChFqQfcEV/njiqAhYt1CF3p+BX4tjOD/8AD/iLNtNnlUSdNzszvTD0qI2A2sAkA8nHvfB/iYafDq3GxXzXxT4cQPFp25gLsmFonAYL3HPq0SISfSNO7A+NIPH12x9bUDQBpGV8u4O3urdTIzHQdDsB3YCNTAkbsBwDvz/nhgSTBk9O9kJI5K3jgKyNoRZKCmQtpLPtdCQ3sN8UlzTAj8pMwcKdE/ZkDGMtKY3Nn1WqjbYgg+APAw/h6ZPNYOL7clKZO2Qzr2zl9LPqPbBDmxYsawhI2I53xNzpNgmBiQpSRs7ag7qIBTtZJJlJDCiNI+h5xmw10yhJAAjCnRKUigjkLK5k0h6VQ0QAKkg8fte+KGl5RB3UxUMmQI2UiOFUcrG0pMbKzQB9jqv5rNgVsaxBzCw4JKo58icSprTHVqEwksLetRsXJNihvX1H0wY3x90GFwkFEjeNzIYixDm+/I2lbIJKizdbn64ZpjBKUjYoWuOZJZ9DAugEjaWUApetbfYEDi+fbfCMpucJnKd0WARx+lG6PCSFMhQyj1HbdSKq1H1wDT/7bgdzndZ4BIIU5AkTq0KgZaIHuwLpOkEkMFZiGqzwePtjo8MEh3LuSpPJIIG6bE6ydt4po50FEO1kFh4qrFDxX2xNhG91nAD9GVp/8cfwqyn4tfCOe6S4RM/k4lf4dzY9RjlNkxnZT27Hg7k4lXoDiGGm6I2T8NxB4SoHsJN7r4dfFHw/1H4b6v1Tpefyxy2fysvbzETrTg2wJqx5rbHwnE8K6hULTn8L9J4fiW1wHNuCFjuWmnychlUEkSCyf0ySRvpv7aTjmMC2CrPZIhWR6VL1MmTIFZixZ5L2Buj5HBXGBy3fKRjiyxFlt74c6HlcnA+azjiNMjlhJkEk0oCzOnq7g8lbIHnHl8W/xHEAxCZoeD6K+i+Pj0jqEmbyUbZvqcsRELSOyxZaIu2gCRipU6qY145FY5nUHPcA9xXawlotEfWUsPxV8U/FvUM0uc6x+SyMkv8A/kmgo9sEGmUj0jUCQAALOCdFKwFyi55IuZVjnPjLJdDy3UOl/D2YzEKZxPyXUM07tPn87Fdqsko2iR9QPbj3HBvDCmWt8wQBDzYLW+Y+LPyay5ZehGBkcRosgYEHdtkYkcEgA7fvilNjXDKYUrqTB1tXmjC5zL5aePTohkjLm63QHegb+2IkgOgiVQUwFcdO6p8SzrGOkxTTCBmiDrCKHqJ1B6ABs1f7Yp/2qd5gpfBGq62J8I5aXO9VyuQ+IlMKdRuKaOSVY2WY0wLM1oAwGw+2OGrXcMFdNCix79BFtluvpHxB1X8L/iB4vhXqon6XcT5zpss3chZJRREos6G/sP6vr3/DvitXhiHsJE5abhc3H/CKdduioA6MOGV3X8E/GOV+L+kwdSy0hjzFf/KyuolopDqumH9LDezf3x+h/BvirePZrZk3j91+e/FPhf8AxDDpjZZozM1rKhj7R060UkgEnSVUk7HYcHHoapcQ4Rey897YgI8R7KBA0bIjFO4TqbUygltQYv4rkY6KbTotHVSe7SYP0TYpgWX0FWC+qFbJDqSo4Hq9JAq+ffCUy8iJ+lwsOHIJOk/NE1qFcEO0UrMsasNArVqAPm9gcDU6mCCZ9k4ZFw26UMiZeGR5WlmTuDuOm2xs7N4okfXGJDWB0TKAM2S9lELl4+2Zad5FWlEdWHDVwQdyMUboaSRcj5JCC7ynC8zBxEQ1s5t+2KRgdWpvUCQLArAeDj+lhcYyhSFAU/VT1WpVSa0Opu2FEnBMsiOqq0tcDqmwUeHtGNXi9B1prLyWpHIHIYMK5/nCWA6yiSQLLC/jvrmU6T0PqMgmOhxIBFRW9hR0twNz9ced8Y46nR4d02K9T4Twrq9fFpXzci+Fuv5z4sh+LOnxw5eMZ7uFxuygsFBoMTx+33x+J8VW1PJvdfsfCUy1onAXTHTc/BmpCubKDUwV4Ymoo4//AFIyCeAPf2H1xzjiiBY9997J+IYHEG3dlvH4aySdRhb/AIRKr51+403TEnPcVIrXTrYyC7ayDvW4NWccr+KIyU7OFLxY3+v9refwj06QZnLw5vJw5SbKyKWmqOLS7BiFjLSKWI3XTqs+oqwYFijeI80E999wkq8MW5Hf1Wzv/wADHUsvJKWbJSdXV2fNSSLHGSW/5TMCwKC3Ckxgmh4uvVZx9WiZpmD33MryOKoUqpIeyYO2e8d2VNN+GXV8nKsZy5zy9pYstniKH6RpWmUiMLYIs3Q439Wn6Hgv8v4ylAfcfJfPcT/jvC1p0Og997rCerZOPI5t4NSrQSKJNQ0PYLj9Rb9R8Ab/AN8fd/CP8kocbAJgwvlfiXwStwrZyOaoJgWZtJijIUIlH+lW3HpH7XWPogBUJItP4Xj63BoacJ2p2de4FEoRojPP61APFaQNQIO3n32w0uJkiIQMTKWCRiGUEK7OInhq9fppqJJ8DzgMf4uQLJnNLGxspEVspLxB+1pEkbDkgekAtuRv4wOZwjTAI9VKY9+JG9M/ASD1KRuCSSKF78UaxHyuMixGBt7rqcNMciolyWFbSivqKE0C3jTbnnYgfXFWE7C5XLUp6SeiQFXkKCSOSHUwdT6VDudILEDc7fxijHkGIUqtJDckRKrN2ip7YdSNWncg6d6WuL/esULnERMIaYFl5oiyp6QqGkeFzSqzqTx5/fjCPLjg9EobaUpDxrSpoEmqJiRbWwtTRIahXk+LwA8s0g9QqhoqYgQFGitRqEqSFyFZUSmVSRZ02PSa99sTDbauZRJgQRlHWN4zNA1CN3ca3J9NAKQKNeRsP88Wc2Wktul0hxPRN0uqyoVErI5CvsoKqOQFoAc2QSfscINUw8ROECwOzsnBJBUi9t2Gtmic7ED023jfmxtXjBLHaALSJWIBt7pEicu0kYZnRipEgtvVVM9FhxfjbfDhjidWDACZzoGMpTGugSECRoiRlyz0iNxYo8HkHfE3U4dqmSIWa/yxtumrKqvGssf/AMeRm7YIvUAQw1LfkWRY+5wxfMnEp3NaF6NDHGC7FkKrSuCpEbkrqYLYIFD6/TGbLYBvKmGtcU6CNaaPQ8al5HhLAltKUVNLYN6jz4wocSZcE+kc0jrcaZl0jQhtOYNf8tfBIHtdnfzgCmSJHNNIILSml4QqyxB2X1KqEEgjlSCu17YNWC6RdAAmwUiyTAYyyK7NHIhj0mi1No5HPnGkP8zbJBTgwUIvrWVYwjFWvMxgFq5P0ur/AGF4ZztQjkFmtgiEKdWlHfik1DhX9TOC/psvR2bVxWJ1C51Ow5Cdwnps0O1k+3NKYBTBkSYxpGAQxJtiQQ1mhe+4wobeHNk805IjGU95Cx7TDQgQ+gE2SrEONVCyaBBwzidRbiQMJA0lCOuWQoajaMo0KkUSQxJLLdMa9tv4wtUOeRIu3fCoGtaIF0OEFhCz2iyqFoKQSB85Xbbc0TQ/nC0qZLw/a6FQANIGbJyZZQkSGYvLICO5XrYhjWrwpIFbDB8O3UKgIknmn6WiMZJaCIC/1BrDAkam2Gq/GwrCxIk2CQXTWHcDI6917jWTub6ApFMQSDuQK5+2Gq02uu4rBpGLJZBJ32mJMTrqSZlVmajYFtzvVcbe5w1KCIBTfqAlERqjjeCQNHEAWYptv6SBt7c+/vjNA0w2b3Sg80LTrhnSQxawQ2XkVizRqWvTIASB82nEXO1NImIVGA6piycGcys8kalxHqDVVeL0rtQocnjDeIXu1YEQiWN0Fo5zdP7La2cbRMrPl4rs04Aul9OoE3jUxDtRusahdaBKURrIiyshj7Ko8C//AKgPykb8ar396/mjnOdJFiMJA3R81CzA0CJk1MHkZLU6n9FcLR2FWb3wHODW+UWKYM1mCYhelOvuxFizxkEOnygk0uoEbD7D/sHPIJHL5LNv6qKcu7OytKkiE9xHUhSS+wCn+ni98HzGXdFiWn2UUCN1RNK94EMQy620qGLE2SQVul5vziMgmJuqSQJiyhKg7rlnBWTUzFid47NMmkAn2/t4xqQcXkTO/ROXNA6oLnUq6mJaX0yyNa6GCtpUi7+UV99zzh4DSQDEouAYB0Q3y4zAMQkMvauNX0jSrR1RKg7bbGhviYkmCZCzjICA4lTUIWQEgInrLEebQDVq44PmjghznXH6RugWgC+UMLpZGhmNL89C9bEHTYPy1YO2C1zahBZhYAGQV8z+msEiafNIZlFqVJox1uiqux2rfbV5wnDFrBqcJAJ9pwuOqACI5LLMovbRJUMjRMdfcjIcCFr1AlW8fXnHQNYANyFKZMGyuctok7UZcK/dMp7Y/TYv4ZzZAskfxizi1x0yLfc7IOplolZDlRIn61FZYxcoW5Ec0UNmizcbbDz4GFc0g6nWISA6hBuFfdPZFWJZI9AzB0Q5n+sk2Ahqgdwaoce4wab7kE6ZCm8FsGcLGPxE+Ecv8bfBvVOiGnzsSGTp08g1M8kY9a3dhdXkbYSswcRTNIkQBbqqcPUdQrMfBg5hfLnq3TMz0bqGd6bn4WgzGXkKZiEm/wD+oVXPIOPhqrXUzpIX6PSqtqs1tMgqFHNLCCEl3DAIhHkmxz7/AN8TLREG6oDCyzoPXszFnMtKJTDmY5laGWtlYVRHgD3xz1qbdMi0JdGoRsvqJ+EP4n9M+P8ApcOWzcbw/EOUAHUEWVgGUVpnRwxNAjgY+o+EfEGcTFNwMgZnK+H+J8E7hzrmGk2W/cnIqD9KcKjKFCsfSt/KGqqsCsfQ6d2uAIt/C8stkwbqe4Z5u5Fbw+gSRghSNSnceLG2xFDGqkFwIyEIltzlW8JcIVlYCKZxKsptWI2GhVJI3AJ4on9sXY5xHm+iV5DnWVihjkiLlW1ypxIAwKj5QSSNiCD6f5xO7gl0+a6k3KUklZWDsq9sOQF3FEefI9uPbbFGMaW32TajqAnJKlIqsvZWZbhorGLYHTtYBFkaf2v98SZLjGoCOSo6mB1CsFzCdiCNoQWmYSBqZq229IGxoe+2D4knzbmPbmpupSSZxsnvonLNDqTSgJlVtbBtz/V45wgbTuBYo6XZT9YVIyGW92ms2tm9Q9RO9eff2wzXeUTlTmSZypEWoKkMD/rxMahRB6kNMpBJYC9x9PGHpuFwUxF5FwkVVLqrNEsjVD3GYhSSoJ1qBu3pB2253vHG39SqdIFhlFiLAZh0gLUwUKxJ0AGnC6jwRvd0cdQLg06ff0U5A9V50R+zCSrQkDsxvalbOwAXc8ncf98RYNB02jlOEQAAXEx+VYJIyytFGGRVruMQQv6aFFYje62J2/yxmu0vI5ZQJaAea4X/AMWn4Cr8VdNn/Er4ZyDy9cCgdYyakr3FQhS4Crp87fztxjh+KcBT4lhfEvXd8G+IO4Wp4RPkN18rR0s96X8ywhy8JqTWlMUShtQ33u/OPhKnlOkTIX3rXh58uCst+HDDn4JI48kRlMmhaSV29MjK/qkkFg7cVRHjHJVLpLRkiJVXN0ESbFO6z8RdZ6nK+XGaZd2uCFKWOIehEv3UAVtZOM2mDDokoUmBrp/KxLNQwzSE5vMpOyB30O5KURYBYWdVeMVMRAXQ0WhZfH3I+lyZOXP/AJDIqVnkgLFRJpX1Lp1aueL5GORzm6rCSs2m5xRun9JyUw/OTyu+Sj0u7rP2ttxSgAAAWOThatZxkG66NIFt1dnMqMgrZkZKPK90RFwxnlLEErRY8aQSRf0xzjVNhdNEKhn6zB03uFMmM5ckbduNqRjGGBb07ixXG1YsKZfYlCCfZXifiP1GSFYYMtH04xlUBhZ+4wJDKSGIFDx5/nCHg2nJmE2nBVhB1rqefbMZxM+mZlVomXI5iImWWxppWFfvR25wj2NEam2KdsnFlsn4E6tlpeq5kdc+HJeqPD6+odOSd4ZuwdOmWF7G6sN9z+2OPi2aWgsMcv5Xbw4Jzld29M+Pct8FdX+Hsv1GFen9F6rHDl+gdUjYOulyWWPNaitNW402Nr289v8Aj/G/8euSCA12wOOq5/j/AMObX4ctcMBdP5btskU35mVIX2ZZWq1SxWmrG9mgdjj9bploIfNuq/JakOERcJDJKWBjNijHI8nqQgBSL25G/i98DzA6QZUxTDblTnWOotUYjEihUzYBNsRwrb/QG8X1F9wNrn8JNGZJQY0jgDRMDAQxLbsNCaQoGok2OQftiQpsaIkzKznumQEsxiy4kiLt61HbSUMxWNvTQFDbcgWeOcP4gBgWWY0kElVKdT6e0twZiFpZGMbRM2mhVkD6MDttzibKjAdTT5RkKzaDtMEXCs+/HIjHuEpLvFCTrCqfmYEcUK/8OH1GYE3MfypgafQJ3yCpZxqDqqGwCbs7+nYkA3ZxRoAiT5iiGF5IAVX1fqfTumZd8znM0irBG4zMzWQWUBwNWwIsHY3/AKYjxXF0qILnWIT0eGrVTpaLrjP8SPjib4qzGcmyubrJZFCCC5ZiQSBQrf7/AMY/Jfj/AMZPEv8ALiV+o/APhLKDATExlaw6L138xG+lEbvGojFZ2ANnY7VYGk+a2x8jUM2X0w8nLvvkrvpnV2zeTEjwyZubKMyHLnSgdYw2y3/TtvW1XthHMLeiq2Inr31W7vh3pcHV1Ge6Lmc50HrsBP5qVZXYatQKenT6adSdzsBzvjmdIuTb++/wvQohpHltHY75LZEKfiHlWM3UOoZrPLko1aHqSIzONKsRYb1IP1LDC74H0g1wBEd98lOrTef1GRvPXYyPrzXZf4YfFGZ610+KDqaOkohiysxkEkboBGochm2GlSK2uzfy0cVo13TpP6Sb/NeXx/DaWhzREX9T/O/p89j/ABRlpOhfB/xR1JZiWynTc1LE29KyxnSF1MCo2Ujehv73j1zwtRtIvNx9se++f4Xj0uI8Wq0AXn8f3y2XHX4d9XPxtlumRdV6Z1bNZmWeQz9Y6bcyxzTSNr9LIwBalYkt+3OOOjxD6J1AwRiOi9WtTp1GlroIvnHz2W8o/gGTqGaDZBIs/kI5pIlzpZoTaj0EodfykAk6h9uL+4+Hf5pxDXAVBqHPC+P47/GOFLbEtdExn8LX3VPhzqnTZ5opoTHm2KO7gAhKUktqBOv0i9Q5GPvvhXx+jx1puNl8b8S+DVeD80W5rHhFGrqig6GGouoIJ9Ng72NrO+PcLgDAXms1Bt5KkLErzANqRfkbUxC0eVB5LG7+mI6NToFpVWWBGSFO1rEHcBwqaoXLKSNzQXULoWaP0wGFpNjvCq8E+yrJY27SxvEGVY7hLFidR4fZgQCpIHB+mKQd9phQDs8yhAGV0jWoBGF7soOrZgQBtQNkX9MI5gLy1kgi56qjQ4E6rhHgkklA7chqN1iCuDqSiSoACiwfavfbFWGYIwud0apKEINIlaGlVXZVYWyszWAADxuPmI5wACZjnKcESTsV4K0g1PGQ0RCtbuQCeQCRwL233w41OEn5KJaLgJpgeNYkTXGJF1dlSaVkogDUbBo15H74LmNmZ9kNdsIQASR2hgQw9sgqoJjDlTwTZ/74noOuThVbpcIm6M4itCXBy+n1I3pAKitIfetlIP0xQkB6m0FsymsElAZy6wLq1KkdgdzYXRs8fY4GXzOyeIaLI0iLSubeHSFSJCQRGG2trv5v9sNDbC8eqVo0zqykGtHH6UsbO4NIbV2WwNRNV9R9sB1MNM4+qABqCQUVDOWkdlOhgsy0lejSSQl8sLo7ePOE/V0hM4gRGVDHdeNJHVRIHPpBo6gp0qRq5rm9hibS5zQTaCVQNaHQLpMzIzxMXkIlH6ccak+pWFlz6tiuww9V2otvdOKeh2LI0Pdy5Es5OXCRv+qtOBtWmtgfvhi8sBLj5UlTzukIDLsrLFcan9eMk+pjSgsCaUivBrzxibXwJ2Wfc6cFPWSPUwaRTKrqyK3KltiQRtYvb/LBZFR0TBJxtCYgsALhsjFHDRqJV0Rlk0KbMhBI0lmJA2B8DV4xrsmdp90rCHDU3BQpJNlb0hZB3FIcBifFKd2BFXfGBsJMTBVCyRO4XostrRzr0yBj3VZyCO2obUCQRsDQ2xnUGh5i89UH1OYumzdywjTsROw0MbUSBL9QcknSoo8ivOCKRAIa7AWa6IkWRZNeiBSSqzSH9bT6noCmWqvmxQrbAcHloBWGlrjGUxi418WlC6s3ZPcBu/8AfBLi2Ab8k7WghIJdniI7ksYkWZ6IJZvAPhi25/thXu0OAJEuW0goUZDZcBpQzM9P4aiLIUHcA2d7v61ibf8AuANmSsBB6IiQBVzEchBiJ/52vUPTuza9hyd7vFW0yWmCB1KmSGEHKI4dNPfCM6rqjKgElCDbMASaI3A83eHYHBo1kGOSJlzjpSxSvFBKneRTS6YyLK0ARfg0K5GA182aRqA35JzSO+eaWKWVmBjkB1APmHogUwIogUTVivP1xNrnVLSI5pdLWm8pJJEAqOPWqgxjMISFftkekXYO5OxNDBcALQm8O3m90CSdJH1PsGUetCbAB25snizQ/esSkkCZbdVAa02RkiMTGdGDdxj3H3YOx+V9Krf0q8M5xmQZbhAecwfVCkMmiONPVHNIDGm4AK0CxcgkA1yP74oQ0NBGPsOaBnVCF3WXuduZOw8iyOQpViG2DWCbFiuP4wZAEAiFhQc+8EHmoYWMKe1KGRBUsA0k6gS3paxRA9hiOqJLTMbKunywRdA2edyCJBGzFgSGFeANXk8k/wCWMyoNZLMIvFgNlCd2IUQxFHlbUJG2KaRWhmNXyOKGFFYh7m7kJn0gLQkkR1iCKrTKzMFa9PoUBhq2PkE2d8EuAGCZShsuvgIUrAL+vUqSHRBmStAJZJ2F3YND25OBUqQyAMq1Nge6210CRZYj2xKYmkCu5FECyASDpXe9v9cANhoAN89IQLZMpzrmQz/k+5IAP0wHASmAL7kmyTvdHb63hzUAEg/RL4YbfK+YWRYTOWjVS8V/qRjSStgn1WRq245NYzHkyRcLkqMDYnELKMiGV1kjlOUhUKJl003kmyL+cbfUjbzjNJa0va6L4UXtEQArrKMpdkiQlrJzC1Ze/n4BrjyMOx5JEDJMn0SOlv6t1k0fcRI10p3mKjMtICoBvYSA7MONwOfN46HPLWk7lSYyCSTKusnohOmRAzTHtglC+pgd2XUR8oO5v6eMBlTwm+ZsuKxbrxsrXJf/ABGyyKEjVnbTmS1lNwUqxZqtt6B2wrYpPaRF5/pZ1PXJK03+Lf4FwfiCydW6LLHF8QsNUsfbZVk1DYtsBqJG/j+Rjh4zg/8AlRGV6Hw34l/wmQbtXzs+IvhrqXw51TOdI6pC8GdykpR4yKFg2TbAA0fbHy/E8O+g4tcvsuFrt4ikKjTYqDl5JA2pe36WW45Nrr3sVvx9scpaXBXtus06J8TdY6XmYsx07qEuRznH5qB+2Qyn0LQ8ffExLDrBiOVkr6TajSCAQea+iX4GfjNn/iudfhr4naKfq9CfJZ0FY0dASWVgRRs7/XHu/Bvjb3VBQeBDyYd6Z918r8Z+Gspt105gWXWAH6pDKgYaWKycDWfQOATfIJ5x9XXewnmIGF4LJAghWSu4MSpC7qqqXTSECs1g+mwRRI81WEJIgQY+SMBTMvEqIyvpEDRqXsl5NRJZQFN+ke9ceMVZUgki4CR0mIElWQDHsPLEWSSNTJLsAqg2Gat7/tVYGsk3wURR3JuCpqQd9Gdm7YhRlzUg9IIrgKGBNkEfwfNYQkPaQRB580xJm2FM7CwPBqjESWS0xYCIO1EFSBYJujv7YLmCQQLNCweXEymtl2liDu6LJJGNR1LrUCjRo2CCRQ3/AIxIQ4pgYUqUh49CxquhmaJTJuNqatI51bgD3xVwtAF1MHzauSfpJMUMcDRIQyorpTyEDhqJ2LccYJDjEDzHmi0NyVM7Ry/oki0SFAjTuAVUmz6AvJIPJP08YmHAHSQZ+izqWq7SmNrSNnVVeNv/ANQGwdj6UG5rzR842qzuaIpyMp8aPqCq7KzWwVSqAlLY8jfih/f3wxBFt0pYPZHRoUjaM6m7CL2HKkPqK+pSWJF+wvFA5rbTaFGpSJKxL43+MOi/AXwn1T4p65IuY6P0qAnOxGmGZeSwIIyTRLbAf7Y1Wq2iw1NggKDq1QU25K+EHxj1wfGHxR1nrA6bF0rpEszT5bpuXZRFCpYuFXcEfX74/OOP4sVahcGxJX6ZwXC/8ekGzJCr4+onKx/kco0ccEiGZgpFSvqKxvJa6rXUSaxxxed10CnqdJVJmn6hmFz3ZzGvLOlaUIUyFmIVVHGpasgYUeQiCqinhX3TOi54iBEk/IxpIpmzciAlXC7GiW/Yi69vGOepVaLC5TWaj598l0+d3SFM3Otq2czkqyrYoBljXYfcmsQZLv1T7BUDy4Kjz8s+dLPJ1Eu41Bo91CBRfpVNQPtVfXxjrYAza3VYNCpIos42toJ0JWv0o5SxYgWAVOx2w/iDcQFUWscq06VPlGzGTg62JckncUS5wFiVjvc6a2NE8YlVBa0ubc7BUYA4wd1nmZ6bn/hzMTyRtB1Tp3XEkGQzWYOtZW1Fo5UJpkYgADxjiZU8cXsRkKrqegxstw/CGT+E+ofDuZhHRc4Oo5N3XqmVP6kvTmKlTmtiHEf/AFEf53jzOKqP1zJIXZw9FjhJKJ1rOfmso/QpM7lsn1LoTyZ34S+JoHAOZRI1vKvNY9VbiwNV7743CjzCoRZ2RySuI0wMhUcHx91afoB6Kc/mWjn0nq/R537scWay3yZjKE7oTe4Gw/fHU3htD5bk46qdSv4g812jK+tH4V9eX4l+B/hTqs+ahnkmysWWzgDKwMsQqQsxUmzpNjb71eP034TxArcHTcS0gbC+NiV+afE+F8LiHACZutmLl3kgjWHMNMpPqN0ocAkBiovbmzt98evUp+KZYQDy5LyA7SC54UjLMxv1yRM0YkkTfQrBNJILHYV9OcUpP1AkYP3QeBMp8QCxqVYHUxhBcHVqOkazbV83O3GGe4aSWhShwsVob8d/jXM/BPwvmkgdos3mT2YpEYhlBW9zV6mIJu6r2x4Xx7jjw1M6f1FfQ/A+BZxNUAiQFwTk/jP4lGcnzZ6rmfU2sNq53C+CLo7/AL/z+af9QrF0hy/Sv+mUQI0hb1+Efxo6302XKvnpxPGygLqssiqa82d+ce1wX+RV6R814XjcV/jlKoIbZdGdB/Fr4d6t09cxnJHbMyKWMWlS1kCiK4+ahePov/5PS8O4l3XZfOVf8crMd5MLmn8ZPxE658UdTj6T0OGeHpykwR5sFdF7E+q/VsWs1x42x8d8d+Pu4txAMNX0Xwv4K3hgJyclaXii6p0qPMxZksmemUPE09FT6gVsl6skcV4Pvj5kDVm6+mp09HuiZHpPxTm5sunSMvAkys6B2ABYOwDAkWDY2O335wHU4VWfVbW6X8I/HWRyMXXD0nM5iGyJWghaTgFhoGknYWftz4xN0TBTFtQQQOx33hbL+Dfjbo3Tc1lZM93ujyK6pmhNGzKVN6o2QIGUUq/L5o874DqLSDHffqu+hXO5jvkupunfF2SymWiky0EeZyjssr6CAyilTWQ1Foz3CWDCyPpxxOp6jBwO/wAKz6rBOeubYvFv3/GV9F+PMjnerQTZSb/geakkZwoaSNQppQ1MscYYha8gg0SKDYm6jpGO/XllRdUpVGx+obz+T8sSujsp8Z9OzmQkyWYU9VyGdjeDMSeqUMjAxsWSNWYqSCGJPvwNh20uNLGlhkgzP0M5v2QvBrfC3NeHtIBm3eO7rVMH4f8A4ffh11+b4y/Dr4lT4PlzfdPW+hxymfKZ0ysEAOWayGUgkBaII22GOZ3EspHXScR0PcYzPzwUaXD1aw0VaZ9Rj3/cKD8I9Tz0P4kdW6t1X4gyjfD/AFVPzcPS23CSMyrrugU0knVvR2qwKHJTqN1TP4H079F3cRwtYUy1sxFu/wCd1uvNdPj+JYXn6dPJLlFYSJmooo5QzsdbKlsQVNAUCObLADf3/h9WqyoKlIzB9F4fGUmmkaVUCSMdBj36/ILS/wAT/CfUcpMySwN3JkdkRgd0CXqAIWhZIIrxj9a+EfHW1mhtTyu6r4Dj/g7qLpZ5mLC1VopGVyzgMymMgExkigo2AFV43+mPefU8hC88U7yEk7kyGdQ6S5V9UYW9KnkkGqIvbf2wgLXENMiUXkxYj0UNcrRnAAK69UiK5v118tLRr+oe5xVwdcC4BC5iSRGCnDLyM2baOo0mdJH0te5FUCfpvf3GLta81DiJF5Um6QYuT1TE7kqSSgoIDptSBrdVJVi9Ejgcjxguc97dhLotul3uLoTBx3EjjeGFV06bBSVRuaJGoatztzhWVXXiwBxzVSA6dXsnsDItyM2UKNqiAa1BAIUX7erxhnnyh5tyi/zStd4V8prKY2SfWI2YW8jHdmkDAVqBIUjBrM0ulvSfdCdVjujPErRLGqoCxPZULTsux3N0DYJq+ffBc8ugNufsptaGAumF55hPQkYTIw0hNgQNVBgACd63xUECRmFtBBDtymSLGDvKAJI2V9dsG0qDr2454r/TEm6bQfM6fmqHUMhJIscaRrIyCR6MpbVY0ig4KkhhxYP+mAXFljnkhLnGI+aLCGgUPTZmnZbLBgSUJFMSaB5BOGY7yl+5QNLAMexQYmcuIyNZClwyMWYOf6NJNUd6q7rE2VHl0ECPW/yT+GWBFIkdlWgUQkpGFJLRgc7UbuvPOHPmBi0G82UgNJ1c15YvUbZXYhZUTQR29lDMA3zU3J2484d0WBycK4eQNWyYhkieNHVlFqyCRtS6HG+7HYkgmhtX9uZ40C17rNlxuEpQASH1LEGbVGwNamqtN+QbFc4epTAm8BKAHOvsnRr+XWOAEduZSWeO72YAXqWiDY5N7YWDTiBY95TGnqBjmmaZDqXSZ7cTyMCO2LB2KqfQAbF84IvII+Vx81R7fDAgIMyTCQnXIzu3oiVQQCw10FIU0PYnCl41gOMgdMJTAIMJaeadmd3MbhZBLVaa3ZWUAAVVDfbCeI17zGPldN4UXGZuEuXj0SnLKWhkcapHQoLbYkayxsV4A+44wGN0uLTv9UzwHAk4lOcyCRGQvEYEfXG1ODq2IU1exG1Hzv7YYvd5QFi0ESUMxfqNNpjRXTSuuiDYI0aRvqF7ff6YUS1x6raJ9kY6e5BGVDdtVPcUC1bwdIK38tDDue2wAuEWgumUhEHeJlkqZ6SRo00jRtoGlr5oCyMBwph5MwUIdEQgaAAyRzsFcqrwt6VpT6glVqJB++FLZdJO6WncRCbLGpklVIlEcZIE0TFhS7kMSbvbYc/xWLvqapIFphKBFsThKNSOAspLaj2pTXdJPq9V2AABxv7Yg6zSYg810UwZ0m6dMmlw7JLLqhvsgBVJu1BthWnkb4DgxpcBOEsEmBZGMsbRO5lDQEJcyEKbLVwtjzRxVrtIn/XE9RlKaTpB57Jqxuyliw0oFEa6bcCqHrPgnn++ELXvBIMg3HomcQI5p8HehC0vbK6WUsdVFyQWK2dxtW4FYLRpEQs8kkEYUdkt3AAjWUVMyaz6nJY6VthQ8k8eMGo4EQ+wcLxc/wAJww6rR8015l76mKQxRK5CmONSAxUgX9LF74iKml4ABjnCYU4bBk+5T0jYUF5DF49xRD8NsONQIFjn7YaowtPluEzBJvZVhiaRUiiW2WNyxkuRI2vTpvZztuTzhA7w26G3TtYX3OySeGXK/pxya4gNeYcq3F6QDer5bq7wNbmNgCxyeSfQHG686yFl0xq+tdMoO7DT7EAUOd/bzijaZYPPERzKkTYuHOFDjDLTxDstJVRs16AbvY0CADuTvv8AXExUcPKqFrTa/wBkKRYpVllAMlBdPqEi2BsgbxV8HxxxgHw3CSbhMKbweiC0SPKRKFiBJ0IBQjCtWkFTyDt+2Kgh4uYlFzQbC5Xy86ek8Cd9CzqsdGFyFiUgEHTxuABuMcFFzwC6TC46rA6xWWRSRQqvbWQCGNApALSVuWp+di1jHf4gfJAsAudrCTdXeSJgRZdISJO4+gmv1FWwjOBbFjZ3NffjCU3MB1ztZTqMkwVkkWYlQx5jvouYbeREjOoOdwCpB28D2x01Krg0OkKbWB0tgq3y8rBEeCWUPrLyw6tWtQBqS64YjcfxxiHjEAONj1/CdtPY25LJIEK3/wDH7UckfcZEB20qdLEg7DSMdD3AQYsR/aWJbEq/y0EylBDHLBD2oxGsgZG3O7JdgAgcXthWk6vJayR1NjbOuuSP8UP4St1HLL8e9Gy9yQxCHq8aOXJskGRRvsDQ8Y4Pi3BiuA8ZGevovS+CcWaLzSdg/pXAjxadQQMoO0gJGq632v3x8qWmbL7U+a6SCXMBkZJVldOACRzyd75GFIkIQtpfB/xHmOhdS6X1fJ5iSHN9NlRoNLae6LDFG9gdwPJxxvYQZFiElWl4jdLsL6v/AAP+JPwz8dZLL5vpufSDN6D+b6VNUUkUmkAEWVLAXsdvbH2fA/EmVCIcA4AAycnoviuM4B9JxBB0rbGSJIfROO6+l5p9JAZr0ihV/Wh/lj2KTnOJv30XIaV+YVllGimEYjzDowbeVlskjbSGolgK3FbePOGcCYGCpubGNlarlZLeHT2wwDeD83zbf1FgLoggb4xpuccXRlo8xypUTOJVRI316tAttJWNFrVTXQNc4UuDiDpj3RdS8O/NSstHIkJVyY1kIMUKqdN2LJU2DbD34/bDNNgZS+GP0hSWZyn6pSZ0mQqwSi24Abc1sLOw2435wX9SEzQDZosjKWciR41jJUoWUUjIq0CqBr9RAFXzucI3U7U44iy3hgA+qIjsYol7rRlmBVYyuvcAqCCPTVkUN787YArAgB38phQgkoyo51wyFllkjIUhFXUdrLWLBrff/tjMebMGEPDe2+ykJAYv+bBAQHAy8hJVWCmtmFEHwd/74BqOMtMeqUtbpkblBaPTG+qVxFqcItBqHzar4GGMgajdYtiyGZAyq6vLGAoRkFrqWtVqa45YbXWxxIVA8y3ARdTcyzrlcd/4yeoZeT4A6T0mXqv5afN9Q1Zfoi+nvQQrQmA9NjXYAqv6t8eR8Z4s06MD/Zet8E4QGrqORnovk31FHz002R6Vk2l/Lqe80YU1QAOtj4U2CRsbx8S1+jzP3wvtqQ0tEqzyfSsr0dzPOfzDxj0lqJdiukjQRsoJ4xPxS82sUS2TKJkuozx5SaXK9Pg6fCCjM9APqSrZxZUeKA3PnCvdBnJKDqd1g3VetdVzU3/yc5LMk5kEUrFhqG4saasY6qdFgF7qga0CyxxhISsZ/R2Cgs9Ud6H+u44xX9KIUuJCkqs+dB7ar2GI1CxdgGxwaIP1wpcTsspssQjCzwTLmcud2mgDxoJF/pZSAwoc7YTxAWBrrBUDd1ZZWXOFF74XMRtqRkkGo35K0RRo8jCu0iwyqMF1nvS/iDp+eyI6J1fLS5fIukQj0XJ2mRqDo12DXIN2MedWouadTANW8ldjX6rEXWYL0brPROqQ9Z+DvipesrlFJj6hE7KzRpTFHicKzDc6lI3+2If8mk5mh7YVKbX0n6ll/Uo+i/GWQzPV850nMfDPxMBG7yZSA/8ADczI+rWxjBqJwV+YelvO+OSk19E6J1s6/qCvUY0nVuVM+Hvw26n1DKHrGVRs7lknMLTJbNrJA+W99QPPOOh/GQ8AmBCLeCNRvlX1g/BH8PM98Hfhv0ZpjPnHmiZuowFlZI2b5O2CAQAFFEknVj6H/D/iWovok6d18x/lPwl4IeNjdbJ3JuNfU5RtSVZXSGskbaaAs+Mfd04qGA2ScnC+Bq0CHDX9UIAGOOcuP1S0WXMZCCgANTKSAdhTb7ebNYJOmDtCzqQ/Sd1KStMgijkSdANHbdnpRbNSm60m73OLtIDpHJScC7Gy41/xVJmv+E9L7VGHuqrNuvIJsagNipx8r/k51Ux6r6z/ABfy1brg/JdQiXMhShSCPdTTE2V3FKByf/Ocfn+glfoHiE32CzTIdRd8u8ySa3hJHZX0kKeQAL4ryPP3wxa0CwSBxHp36d8lcZnq2cyKx9rSsYj1SspNOukEkgVpNtsK3GEfIHVY0pIKvPh3qM3UJ8vmA6I6AlO6wO5dhrF8natzX+vm1D5inayD6LJ5pFzOahTNQF3lAZZQBSCWzV0VvVd15/goXaDC6jPz5LJul9PXLDVDl5Z4G9WZdtm0vpZVYkLwBVX7VYIGA2qQfe3eykWm1rd/j1XQ3wP8SZ7L57LZbp4lhybaNcTFu1IRJqt1W1ZRqJ0gXQPAAOM8ahPffVdrHlzrWx6SPeMekfJb++JZ/wANMlkj1T8QB0zp0hW4Z3QGOR/WNQRBGXB9Ro71/VbWVo+awnsbq1d4YA50e9/5P2WtY/xB/BYzQZT4e+M8lm4EYSZTJRlotB1hRCrf9I00DqN3ZKC1JdQf/PZPr+DZcY4qk6OY7767wtgp8GjqOTl6nkHizBnQMSjpoQcqKA21Npvbmt7G/MahYQD39f6+1jRGRfV9d/oflF1icvxLn/hPM5uOWVBORJFMim5AxLMmmSMjb1E7g39uOauNYEbdn7Lo4ZoYDMZxF7d+vLJWovif8Ue31VUWdY5pj/8AOn2pxJqtWcaSCL1DjYe3Pnua6DBJ5e3Q9yu9lVogW7BtPusi+CPizL56aLOdZ6gsaZ141zOZePVBdoFPcBKIVrex9xzbhhEWmd16FFtIscd+9+wu5PwW6plz1DqPSoM3EsMeVjaLJkLbaG0FkbkqCa2J2533x9h/jg01jOCN/p+/43XxX+UUhpaRcgxvYd97LoXMZaHMwvBKgZGHBGPtQwNENEL4uVy18f8AwPF0LqMnU0kf8vnCTS6VUHTQC6r3sWTePU+HcSWv0ucTNlwcZwzS3U0RC1nolZEdJnIiVtQXnat7I4LAnYf74+ipOItNl8/Xp0w6Wi9kIZdoQ7yapIxp7soVWKo+2knSB8q0T55xb/275nKiG6toKVYFG+hXgZtKqQwZfILFSNgfcYpT8MtMpHseLnKjIloRQpRrXRQXUQQxvjcnn23HjCa/DttssaGogA33QBF3FUsjoEhKQjXbX8o2878MRQ2++MdNQef/AOsc1iHA2Ijf+Ej5V2iuSc90D1lSNWtd6ZydweNj98EAtEZ9E+m3lFkV42LMlpIJB/8AJegaUAllq+D5H+WLODnNABCjpaThNEbgy5coWUDTBKhrUqqSUHgVW/nnfDCAS0HZTNN09EgTMZyWX9PSRTtIEGnUCWDAqQN9gaGFBfUDWxH8Jg1gkAr0TQskgfLxmS3YRKQrfNdN6uSSDX++M1ti4tEzOcFB2p4iEsTS9ttKJJ2wWZQurVS2AxG7BCQfrjOqmznNE7xdAsBMGyLA708MZJBCGV29IqrBIO211eE1S4huE2jSb7Jk2WRXkmjjXsZdLAY3qkXdXvf2O/1OEczQS7omAD4lJEGkeNtbIApMmkD5roEuB6aNkf74dgNUNJMgZTlvhyisaDlmYplDqVa1ONwGFneq3+uMQ6obCwISNYGiTuneomWOQM8erWAnoLrZI28Ejn3PnbC64Jn9M3/EJy8AAc00kBlRT6HTu90R2ULAEekNv53rGL2/pnqEPD3XlDIyiky7AkLNvW9BgRVA7eLrxjPqz5YOr6QsGjcpBHCkSqZmVSwUnR29D3YFUQwK1iLnaLA3Kt+seiMyFJhJ21ljkemUsQrgAXTbVv7nxfjFDIOmRdaDpDt0DMxIkKLocrEhREFc3uxHzVzdEYUubpO+1kzGOJ9UNYjKiukMaTKN5xf9XDqRW2wJA/bzhXDUwaQJHVMJa8h8QiOs4nXQpjZtLzFC1rpAK6Q31F8fbfA806YHzUoAEtRJECxt3Ito32VCANd6SbN0SSdzvi73ht8osplxkJQkYlzXZGkqGJKECjXoFsC29b1iYqMvouTlY0y4+6D217eto1fuBR6kIazyGa6UAH7VvhC5rWwBf6p30YOV5MsdaD0s8TkIz3pAKqTRujQqt/2wxaS4TlKW+W5XljJjQu3YRPSvpuzR/wCYLG/q5/74ZtQ6dTjEYSupgmwTIBIX5Yy2TIGOllGoVo0+93secanWDhcySgaZREyrozZhYljDNqCagTudOpiKBNgVYvFDTGWzO6YvBMJjKIoSzmPtSOI5IgSFf+vUQdyN7oYlMtuRd2E4BOxR0hZmdiwkcUGehcgNllAFHbzR4wjNTJ08/p+yYimREZUVoAFaVSXULTSsPVd3Qr+kAV73hXvJgmZWFMi2wRhGBeWUSWqswJICnt3YBBshibHH1xqlUAgwQmpNDmknKYA0iJ+XdLYsQjEBTZq2Lb8D/wAvGqPBILbtVWsc0ajeV6SNNULOFEjINUasFPbPqSyL8k7cj6YZ3EBjcAH1RNGMKImVMkCu0bEvSy9xgCGBpK+/AxCmHfqgflVDdkxYg5B7rWB+rlZlbk+lijcnb+MS1BwLbmdsD+VTQG3NwmMoy8OiIrJGpXXMAW1BmPzVZII2NeT5xSlVe21MT6raGnKEkLp2806aZ2UxgKTISV1FVDEUaF15H7YRtpJF+c/RYsccKHLBKmplmaTLzEUsZZ4ydLE7kLtTUfIwo1G8/ILaITJVZw8McPeEgBeVqYrZs6lBG/FXgOe+Q0XOx5eqDaOolfLvKgxgRRRyR5ZGpQF1I6gEHUxC1sx3/wBcVq1NDdIJieWZ+y80S4zssmyzKYZEMZy6wRsAUcJYJNJJd0Lsja/vgtdTZYtgdDn1UHNINt1fxwhcqzAKF3SKNUCfKdRFb6qvng46HkeGC0Rn64QH6/Msgy8bSTrpLO6xiRpVssukrstjfmi1HE2y9wBMHkkcAGDocLIYlAWPLhhJmtZSdkj0rSDZTxbHUDsOBeOlzhpgG6VoBJcBDfqr7KIKU5t2SNEkR4wt6wxsem2YLqA3P23wtJ+NRmJQcyxA3hZBksmssdre0WnLAWyN6eSxIB48/wA+MXY0uaZtYR7JSBq91POVi6hkpsjn4oZ8lmw0eYiliCyaGBVtS7USavf+bxzUP+3Z5EkmJ5J3NBuMr5//AI5/4bsz8Hx5/wCLPhHVn+gSMBNlaqbLyH1NSm+AOeDW2PM+IfBg3VWpGRyXt/DPjBcRRrWI+q47khCS043sguQBz42/1x4EgL6YBS482ysY4iAZFCEm72433381VYhUyisv6B8S5zpWYjzMeamyOYy7A99CAwIPj3s0Rf2xPwicWJ35JXgOyAV9RfwM/Grovx5kMh0fq/Ue18XZZVTRL24/zA+ZGB3BJTn359xj6j4T8VY8NpVjpc2wJw7qTzXyfH8C+k4vaPKfoum4HjqORq/Rt1kjKvqJb1UV/wCqzRG2wx67qhF3GL9leaKQcHAbwrGAFpZZBK8BRXWMIZA5T5ghNlfYmje38Z7jVEyRy9E/hgDYqfBlXjeSbKoDHmFvTsSY2A+Y6aJFG9zW+NdgDhusG64ByrCDtDMFkVkDAnMmWNKYspJVCC1rtv8AtgMcGk8jzSmn80Vunv3SrZc5hdJYykgLoJNaN7O42J5OBIBxq90xpjJRlhzDyIuacpC6U0YJKgWaKki7IH7fxhg4l4BsFhiIUhdIZHjyysE//bvK2oAA0CTYO4PPisTbXAnSzJiZQNCbk2RIlUMJt4svSoHRWIZVbc+rj5vH84IfLrG4N0SwBH7HaaRk0N3RSqIyNL2b3LAMLP8AThoDTJusGa+QSSQy62Mbrl9S/qNsI0YagQaBHI3oYD6jx+n3Wa1uXeyqeq5b8pkXzmcQJksqrS5t3LFZREhJ0XrIsbALvfjEwwkXtzhKSJkXXxK/Gv8AEXrvx/8AGvVutZxvyvS4qyPRsmKLQwQ7xanINsRRNeTj5L4pxRrVfMIAsPRfZfC+BbQoiDLidRK190Pq+U+H3OenR4G0SiAxrZdmXSyyq27oykr7jevp89WYapbyBXrAalS5nKn4geHM9MmXM0XXNZc2GhgWjaLVabO9G7wjKvh2IROltisN6rmWjcZNXYJCWCwWVUODWvfmxt/ljrpUjpkoAyPVY532ZPy7yExIdX5fUNncCyCCDZArHQ39SCiRUZKh/SFBFkY8Kdq4q7GKuEBBSAfW2qSMKEDBDvwdit7HjCA2VAFf9Omfp+ZE2VkErqlPooxyowpgQ25FcjHKW+JAmOSu3y7WWR5bLf8A5Bnm/JZYdJgBVWyq6nSItSkgtuQxBIwlWq6k06zJCcU5II3W3vhz8JOqPmIYu73Y84LjWaNgFBAqSRdiLLVxv4x5D/iLXAndeiODuF1R+Hv4KZaQKvUOk5iNJw6ZbLxD/wDUY2oViSSKq1Ix5FTii4gHA3Xq8P8ADvNddVfDX+E/K/EWTSPO9WzXTYtAEGWUUoVLAs76hY2BX98cFTiXMPlFzuSr8QyhRF7rafw5/hiyX4fiZcnml6pl8w0RzMeoXaMfTp2B3OxO/wDbAfxDiPMQT0Q4XiqDB5Gx6roPpkaZHp0fTewqZXLRaJlARFZB/wBQoffbHVw9Y0wXgwRyOy5+JpCoDqE6lhvV+kp03MF0VXWUL+UXUDrW9WpyStXuDzj9d+EfEG8TRFQiHNgQDn1X5h8Y+HDhqhYLhxydvRVc0KMUVmMmVzFvbNoKqrWKAtRd3zv9ce61x06RcLw3U4F8pyiQuEECyszkTRtwbsq9jYajtd8+N8O9xJhwuTaPRSbSFyVzD/iayGV6l8D5kQRRtmunlZ3ZTpLOxUEgV4PN78Y8T41oq0XaREZlex8Gc6lVk7r5TdRzTwzyG9LsQAzUpPBBBtdyCf8AwY/P9K++mLIGQ69JBI04lVIgxREbddW/zLwQwG3+mDpmycOi8rc3SpD1bJQdSlftmW0eNaAUIqqe6CaAtqsYhXFoCpTfK2r0KDKQLFUv5NkOiPWOBWkmgup7Ao76d/OPJf8APvvquxrmiPp3uslR4s3mJHm7c0UYXt6gUDBbIrf0sAa22v38wggzurALZnTsrFnMsjZYSZfMGlU6HrTx/wDpmyVDUDX098PBjvl1CGjVJvPfcrb3w3CvSo3zcad5oWaTOQurIJFy9E6+dj6jsBZO49WF0mCD7Yz33ZXaPA8x698h09l8/wD/ABJ/EPxp8ddRzs/ThO3w98NpFBIMpGUV2ABaiCCQNPG/F/QenwPDxk8189x3FOJsLdOz8+notL/Bf4fZP4n+D+s/FHRvieXo/XOjBZF6QwNvrpQq72Dtzwd8eq7hPQrhZxDTcm/ff0W2Pwu+O/xTzJ/4VkeuZ6ZenqYZYJb9JW7OoDjkXsdsePVokZH5776L2eGeag8pPfY/pbek+J/j7LzwZPrOZmzKys+hZFMjRsdgTweAKH3x5lVomQF69IvJuSc9/wALcPwt+C/VPiTKnN5jPRI2YjX8sszClmkOpCWJ0qjeldyN/vvOlw4mALnv9111WaBLiLLqH4A/wZdK+Ictfx98SZjOdEQxsOg9IVslCZ46Ns7B9ekj5lP++Pd4D4QziANVgPn7cvqvB+IfGXURpFyb9Pln7TldQ9O/B+L4E6p0jq/wd1vMZbpPS9uo9Ez+mdZYiArFZyA6EKNqB3+nHsn4UKBD6d4v1t3yXmf9WfxTTTqDNhE9Np91vJc1l2i7yyqY9hqvyTQH849T/k09MyF4hpOB0xdYp8a5GLqHR2VnWPtuDrKhjRBUhdRUA2bu9sQq8aKT2ERd2/29eyi2lrDmnkuSZy8bzqAsqxFyGs2oZj7gkWK/nH2vDcRLBvC+Zq0hp6k/ZAljkd2QrrIiVIISAdCAWGAY7WbAN46A90kcwucsY0yG7pGgNRxyxwuFp0FWqmqOoqaJ2qj7YxrFsahKJoipcFMMZni0FW7UakrK4U6xsTar4qtr+uHdVD2w0eVJ4RbnKkRQx3qIEgi0iSUDSAoWxXpNLRv/ADw1E2ucLOpAiwUeWKKJ5CoDqzl1VSNNgkklVI58e+Ec9rCAREnMof8AHUWVDH3VRwW9E3oGkUNRUXz4/wD6vGLf8gDytIMpH0tRCjyhdavIu6qZHiBpJA3sW2NbWcGrUIOMJWU5MDdOKLmQcu7l42AVldbABcsgCj/pvxXvijHNeIcMJCzT+k/RFaPQh9IhAAklDDSaHoIvnlfffADqdOQBJMIuYSEAQPAjZlSsWvLsO2A2mgbegm4sab/tgCs5pwLrGm1wA3R1EskKvNGNSAyyXspYiwovkcH74wILbiSEzqbZvkprIWDjTqkeId1hRAUbizweLoXf+eMkRhK2JsmglsuwjphOyq0KkAOGJKqRQAH0xpa9hDTCP6XXui6NMauUWNFelkAYsWQettI8KdzvjOOloAETm6DWACOZJ9PRNCh07SSSvl5qMcbP3C4vdjdlhQJG/FYLYAKzQJwjj0SMJI70rSqUZygOwJAJ5ofYYnUrgkNBjpF1VlNxlJMEojLKol3U9wWQ3HqvdQT/AKXgk6QZN02kgCQvIO3EzxzCNSAWVGYle4PfcGjx+/tiBqTExbdM2k07weSLmlEsUtTIrFwvZZNbLGCCrKRY3HP/AIMNUqh9muATU6MWSwQAkRzOsYMimR0vVuCT83v73fjCl75g/wBhCwAdzwhrDDUjPJJFFWh1r0F92IFC+SK/vhabA7UQ6AEagO4kprZQ91VVe4wKF4dxQBULuNtiT5/tvjPl58omw+iYDyiyeYIoLVoO3ltVjMAsDYugrHm6wdYBwI6m/wAlhRaYAN051d8q80b6oXZBJHINrFGvTsQR58k4z3F1Mw6emPqjadKNJl3kDLJABGgfts9E1ZPO9ePpgvrasABB1MM3lBeDvJC0yWysAEddYCqPVp0UCTdHDU6pd6jKXw2gpTDNLmg7aUbQBHEFBaOrBUkChY8e/wB8I0lxmbckQC1mFFOU72kydvWXkMSKSTRvmxV01HffDABxaCQDJTMhhvcFNXKWgAkMhdhqmJZmVAaQjY2QBv8A+8Bpc4DSfdDS0nVFgjiNbWPtSSTqahaUbBwWJpgtg+POC6pNiMommSSZhPOgwiWRWWAAo8EYsllFHtqSfSBx5vbfCOrCNV4wtT4ctMC5XsvBJDYY61j07L6XVTsCib2BW+2EBIFzbPVPp1H0sgLl9UUyaJX1BQAwKspGzXvfBr74VznUy6biFUUQ8ck5srCdcaKHlaHSkKDSgGr06ZPJHkc4VoYTZ1ztyVNJ+aaImZICAIiRpeRttKiyRdnkE1Z/zrGdVZqHJOKVinLlJe7K7sCjSNFGXUjQuk1fzA/v9hiZeAS6Y5eiJpkiF4Qs6LaeuhctAn08L6RWkja8O/VVALUraQp9QmTodTRyq0EwZWSSO1PNAE8HyT7fxgCsWuJmBE/2riiBHVCfKClD5cRxKzxjm3u9LIN6s83VjjE9TvbnsjoEqNJHH+q4Voe2AoDKNzzamttIsGx98E14xhA0wTlQ8xl5JF+Qa3OkzMq7qGLgsTsDRGA7iHA+UTaf7WpsBK+VGRkhdk1+mMUEkkJIQqtMBzWy/UXuMXFQS29ibrwjTcAYWVwxv2daRJIqSEkn51AAb1XyQNq5/nFXsebgWkqX6bFX+VgZjDEqkCVGYZg+vZ/ZACPTQ8ffClrtQbkH6JJtq3x/KyqJZ44GCDUoIE0KsS2sN+mxbY+ljV3Vc3jsfUe1mm0el/mkc2Ri6vMvlx3TdFvW5cMWLUQN3q1IIP7Y5qTS3b35p4bn6K8ykGWUjulo5wgVXZtBmVDrIJGx3rk2NwMdRAAzdSaLW5q9jy8pKEO7A2XjdkUAqVQKCW2Uj+/OJvL4uYEJxpI6q2gWIiBpFkljsIe2Qg7jb6fRsw9yMK005A/1+qZ9J0CFZJlo5oZ8p1BYc1BmF/L5rLMuoMqkbkVpsCqJ3H0xWjXE2NpISV6QcLC43XzE/wAS/wCCf/8AL3qh+I+ixE/DHVmBWtfolPIo7Vv7/bHhfF+DDPOyAD919B8F+IB//bqHzD6rlmLvHtl1EQA2BIW9xVnf/Pxjx8XK97KNolkB7cuqYsUYG99N6rsD9vfE9bpyiDBVtkM9nejZlZocxJDm4wDHmYdypaiePqPPBxnNDhe8JCA8dOS7Q/Cz/Fn8Q9EXK9H+NoB13psOns9R1frRxKOWI2JI2G/847eD+I1OHEHzN+ZC8zivhrHDyCCvoR8EfiV8IfiBklzXw51WGbsqq5rITsFnBKg/IWBJO49Jx7tDjmcRADhPI2NunNeHU4V/Du87bFbIgkaWWBXmkVAQ2URrXdt2Cg70N7FYu6ocyQNpwlbeLKwidNytxvKQikLq0kG1IHAYXyV/fAFWW+YG6wYdSLCsxkNsvdMeko2ltRHqBA9IA33uiDiTHGYuIVXsDRYTKJEJFhVy0TI0iM88fyK4NWhYizRr74q+o5oD3Xato/1329FYQPCymrLsbkVktrDBQCRttvwK/wBXFVpbgi8pHU3NA5IryGSXvQsaDtoQAmlHzEjbYitsQ8SZLdymdSG6luuZ1IoJkQcbJ6Q67KPJri9sNLhaZSaG4IhPaIiM0y6xIT213FVyAdzZ5HGHc5+2UNDSfVcn/wCKj49618D/AAXnj0rKG+tBcqvVJV1doSIULQIGDb3f39xji43iqjKZIBXRwXDsc/ThfHDOzZiDp8GYRA0jrc8umzrqwQGUmytlhW2/jHyb3OqOJK+tp0wyAOSxWeduoEwqXiEjAxxSEqNf01VV+/74QtNO+yuBKks2Y6C7ZeOUvO1uZ1BZItiS1Mas0Af5xI6ahlBwkAqtzPxBmZVmTMZKHNDOIqF5E9S6twofYj5dqwDwzWiQSqtdAAVVE2SZk72TkWOMm/XszgbW1f1f9sXa0xlYGSlmlgjjHbyP5dkb9TNayGU1pIZdgK+vGAKZ3MokKHHOC0DJluyIhJRJJDMTQ3vah5rBJARaJVguZBKqib2yUOGFiqA3vzxhX2F8qok7roH8G+lf8T6rFHZbQQBEEBWSiNn1eAB5J+2Pn/ipndelwrdRAhfSX4M6HkMm2XmzETZiaDMBpO8yu8hYAC38ACwaG33x4dnADaF9NRbpMEWG66F6Tmo1WJVyYV0b9dXJruMWW4yoLbnmuOfOOcBz22GNl1sbK3t8M5+P8yEM40EGISAFj6hy17cjnC1HBpImV5nFUfKLLaz3HEXg9cjA+orqAWrsbD33I+mOfWQIN5+i8Bol0HYrC81G8EjdxVNsCRbaaG+y7gD73iwa7T0NvzK9pjg8Kk6nGuaSFpVjDgaJIRbEi/lv243x9l/iXxANeWu3P2Xzv+RcFrpaswseGU1K0LlSs7amEagfKPSxBJJ3UC99sfousndfBuoTdS48mWCtEhUEa9zr9ajWfmIo+f4wW1i1wcB9Vv8AitiFzl+PfTRF8FdcmOsQTRSdxI0IaOQbhgVo3vuBsfvjzfiFQ+G4Wg59V28LRIcDuPsvivmM4vU5M3+in5iCdldAVDMwIC7rQ9+dv2x8VWMHK+roYlUGXn1ZqMEBSj1oaqsGlFitiD/5xhBi+VY2wuk/gjNOyfkMk8PYZe7LqItww5Kr7k7gc88Vji4h3NdIBFrLceWQs0UmejyhzCyMRl4LLsgAO5YUSBHxvzjhyLBdDac8lnHSOn5J54mhjkicKRILJIcsSyEAc0LIA5v9okEArqotBgEffv19Fs/KlMplhmYUvt3JC1ppBWrrcgXak7c7Gyd2gkZ7+66hTDWkkW6H59/RZVI/Uer5aRstrSLMxdoIkYehq1hoyK5onj03xthqAE3+8d/mErw4yen25e/dlrrpPwz1z4PTOSfGPw5P1PpnXJZZhnIIWshl0sWRQSNPA+p98e1SqhogH1Xy/FsGqHCZ6/1jl+VQ9P8Aw46R1zrGdl/Dz4Q6lmM48GvNzNlDFEWDU5IVRwpXnbbFHcVGT381y0OG8R+IPL+MXx+63L8Efgb0b8MMlJL8STfmviL4hP5mSNEXt5cH547W9wP+nbjc+PJqcVrMN77+fJfScDQNFsOzBtyuP/l9uUbqR1/p/R8l09uoLlJcxNFZyMZBmjCN84OvUDbi65HtzjnBOqHc/efZesKjRsZjbedrjucSsv8AhXqcnVMjnOs9akgyfRelrE2Sy0BGvMZhCDoCUS2jwCQN7rxjspMaAAM79+683iuIeWnUYA/u28W5ruX8K+rdc6r0zKdd+Ic9LlW64CnTfh1kVVijjNK4ALMCQDz+++Pf4N4bF7C32me8r5HixJOJz/HXbeVtDrGahy/Ts0006QXE1Mwu9txp5PtVY6+L4gMpGSJ/ueajwlMuqCBN1rb4QhzcfdeXqEemV5ZF1SqQAW1Ke0rWKWhYK7D7Y+Qp17/qAk9R/K934jpFoJPoflJ5fdZL8SZ948lmsrCDJmJYi0KDtkMNgQRKQtDUCRfH3xLiuPc2oGZuDPLkOnKPwvO4WhPmItjf8d+65fUd0meVlizIaZV9JIk1HchSfS213f8Alj9c4F2qi1xIBjbdfMcU2KlsJEiOtYu3bSKRNGXC6wreqxW3PgY621nFx9FzPphwhEigURq+g9wSGNYVYsg8URxp3ok0OMIXmZF5ysacRGyX8kVsJGjGBlLMrHSoNDYbjwbvzik+G0kGGjbkg6JuErI5ijy8kWmZCE7renuKwBBW/qfPnztWG8QwdQ90TTISR5SVtbRRHSyankUCRWIobt6RtXnC03GkczOxujougiAFMwq28ZUmYqdQ0qdlRm30gj/Te8PTeQ3zRf6QkgTcXUcxNruNhKvaUySkVGRuQEC+obcXf7YcVHOu04Rp0W4ISpkmkiC629C6pF9IdSpOxD6R4HvimowImVxBlyIUZoQCszEgi1SOQkg61O7VzQNA374m6rpOpV8GLL0WWpQ+Yi7lsSsSkA24A4vYgcDDsfI1ZW8LV0Rmy0mjLspLEUX/APqqikssQdWx529sM57gRpxup+HMjfZMbp7I1qphJ1vDwd6JbWPseP4xNzzqklUbQcRgJVyySXGSY2dxIzyAgo4AJFA7BhdH/vi7a2o6TAHopeGQC6LpZoAJHLEAUqpo3LUtgrv/ANXPuMHxAwE5SikT0QMtBKYgsj/mJAvqYx7BhIU03Rugd/7Y5hUMRKoacmYRVyrJD+k5lkdRpYDSUC21MR7c2cFpkYm3p9U+iIJsnxRKMurRtEAUKmM+nUwPqvYMdIF84GtjhA5fVPDgbYTRlGHaYFF0kgRx0dRCkg8gGz7n3rFfEe5gFgPRTNKH6kqZYK8Q7qxzPrLQ6WUrZ0qukf1AEj74gXQYJF/n7K4k7YSxZURqTHaFWRu1ICx0sRV8+Rq1AA4nRIxcGd0HtbAHIKWcuGpZDruiNNM2ocktY3F3VfTFXMguki4FkrYaZCTswuw78bLGpeNnRqjIG5Wh96AH2xg8EkYTupkAwhtlpJ+0XJRYxoSiAb4HpBoiqHHP0wrqrzDbERMospBl+afBCVjcSCPvKuhE0suogDyLF7abHnApPJkOAT+Fu1KYjUL9hSFKqASNYZiW1EKNVg7AjgYzXyYsPfCUU+YJ9kWXLuO6IleGYspRCAVCt8wsXd3VV7YLg697o+FpIGVAOU7csYuRXCg9tlAIF+lQwrajz/OJSGHqqjzROEWHJTaBGJE1lBY2pNJBBO52+tc+cM1zy06cn6KYpy8g4TVy2mCVWjZctpKrG4/Usgilo+9ftgnifJpGDlA0jn6IkWUkeTtnVmo1RQqO2lta3YutwONhvXjBpvc22QBnryVHUmk2siy5Yl5kVHcOCWQ0rV8ylR/T53JwtQkenIKjGACESbKxpGxeIsRGgDkgltOxNqNwau7xzvqBjSb4CbwdZ5JskX6uuIMY5T3ItA0IRVbs5P8AH3xR9Y6iSbEJxQJEQvPCUDZlazCVZZBoN2VthdVxRAH0wgqQ4kQQgQQIKjHJRpIsccY1O/caXVyjbGixC7+CRXnnCkNJgnKppIEwhpBExKyCXKpG7BCpAYoqnht725wvjuxqIAtAP8J/DGYRRl7Mm1OAQFElKQu1EgBqo3VbHDNLZJBJPqi6mbCLIMgjR9QTSsi9n8rNe4HqJBqzdfviIfpOog4i4VGU9VuSAIUCqQylr7dMhBIpa2JBHN3gMqCImxTOpnkos2XV1V42/KIraQrbMQOb583VeSN8GoXBoIxyQbTbOLqOcsJLbu6knOkpIuoAoKDgsBVgUK2wzXQ4kGzhdE0wNrr5PQodUZg/RIYduRFA9aVuWPpAon6Y7qjWvEHa6+UBglZLk43Vg0uWM7SMBl8vZWS19QLKb4UbX++H8Ugy4TOynonBV9D3Y3hGXYvADYjWmd7I3DDgAWN1+uJnUx+q2icStoBtgrIsood1aFNeY7jBMoV1OBKoKkva+nayT/Bxbxg5oe29zZAWsR7rJMg5VYioDrf6igGzIwKmgSFIHisN/wAgDP8ASXwovlX8KxzIMu8sbTwfrvqalVC+n1sQaDXxxXGG1Oc2LGL8kQ0t2sVc9n8xIBJojE7kitKkFD6W0mx6fe9sKcMEi/VZrSNVsAK7jHZY5WKKMtIoRVBDlVsMO3QANAbGvffzijapgDSJk3nkl0F3orUCmR0j7EG4hlDFmShRXTencE1e/wBcTbGrVAjoVRlNzW6d1rL8ffhnLfEX4U/EcM/clzfSYRnMsiU7qIyC507/ANNMQOKJ+uKvaypScH+uFFjvBrMcdjf8L4yzpoYhI3UNvpPqosaquDj4siCQF92OqYdI7XAjL6FJJBAB33Ht/GJgxIRIsp2cLhfSq2qoYgrAnSDWk73qIs4ZkiQUlIYUfLTzRPpVyFKksmoDSWs0prxYsDDzGE0Ssr+H/irrPw3nMrnOjZ2Xp2ag9QzWXcx3Z/qFE7j35xBzBILcjdI+m1whwkL6C/hL/jA1ZTJdA/ERA+lli/8AyKI0210ZF+/kbne8d9H4rXoAU6gDgN8rya/wxrnaqZI6Lvb4b+KPhr4t6f8A8Q+GutZbqatGJpooZVLAKAN0JNWpvf2x7LK1OqzVTf6iVwOY5h0uBWTRwORFWSAkIRS0hAEaE16jRLE77g4trJGL80/hOabxHIXUqGIntoHe4WIljYL6R8ukFthW3j9sIKhN5nTaExZHScKcjZtcvHPIWgBYiWOPcFflZgbN3wNvri1Rz9GqRBKk2P03KkoJlRhAlK8RDLEAy634ABPLLtv784iKjphrVUtEyc7KTDASGLtGgB/5jKaYELToR4W9vtgubqAPVaJNkZo41XuGVO049TimSyAyFVT1f+ffArVS1w12HTPusWkHGFxP/i7+MvhPpnSh8PfFC5fqXVGjgnyPT55BF2k7jkPrStJAG25+uF4iuGs0uuCp0uHe9+puRyXyK67nIo8xmlyZJGcRo3y6nuIq0AeRq4/q81j5GXknUAL2hfUUp0iCbcwtfStJrEfdAc6dEe5QajdWbu6v74dwLRdXY6TZHlzE0OSVINSgu0coU6lYEaqH7+rYe+IspyZTkg2GyhNnMyXVsxKEOlVjXR6T9W4sAmx/li5iL4QicJkb5+TSFWO9X6bkheP6g1Xt7HC6m7SsDtuo/wCWdhLJPmhCxCs13ex+t2Te5ODrEKwZGSnTxzurxSTEnuakEZsBByoPN+5xEeYrDy3U/JwsGV71qWXuvZ1W+wtqHI2PvgPdtCqug/gn830Nocz0+QKFIZi50K1kHTajc0asY+f4hwcV1UaxZddo/hx+KvT5dOS6kVggjpI1dd/U1EKq3rIPNgn6486swtEkL6Lg+KbVaG4K6b6d1fL5vLgZbMuwaFyjZf5hpYHuen3Fnn+SMcJcDIuJsP8A5L2mNhbX+F+uTxHLiV1SNH/VRGLeo6a3ryaH/rfne6dMpq9HULLoLoPxQufywyTuzT6dASxuo8E8A7YlLhIEe/JfM8Z8P0O1bJ8uXeR5GkiV5M0LCbyKSzALdFQRtxXOFbqDh5dRGwP1WbU8ogxCqn0oselO1FKCZ4y4Kxltl34FncbXt4x6HA8Z/wAeoHtwMp6tMVWuYbkqny2XaQl6UhrjqrAI/qvVvXO4x+qcHxJqM15BaF8NxHDBjiw5CsstEAYpBTmRmMILAE0pDFQLAsHHc55LRfP7rn8ILkb/ABffHHT/AIa+AM/0yLMRDNZ6I6Y7GuyvI59seZ8RrlrHN5lW4el5pXwoy+d6hlc+OoZOYxyMGkkGnVrB5BNVx9MfH1qwJXu8M0iFmeXjyfUs1DmJcvLHmJtp0qo/YUANgDsLG/23KtrwF1lgsMLePwh05+ldWL5eIyRmMRQM4AACqSwNA1wPmsA44K/ETuultO/p3ut4dJmnjjR8xl4xLGa06Dq1SCqGwJChdwPsKrHK17j6BdFIXkgW/PTuVsTo2YBd5crk5ISq6RH6lDEehnbRq+UGzor+14LyO/6+6sJI8uR2ZW0OmGANC/dSxIqT5c60MUa7OY/TYq64YkfXiBeSDsO+/mnazUfL6fXv5TEq56ZnP/y74uyvwzk5hlOk5PLB5cwEGhyrBlOrbdrr07km6Ix0UAKbdWT69/1us95eWsGw75mcn+l1VmfjDKdChjyrZVOpyQkqkkwDlI1pdY1i6Okj1UTuKsasSDSTmO57v9LLirUhUfqJxnpy+V5gZsHXC0N8R/jv1J5pMr0/PQZKIuDJBGq+jSp1IAgqjvYPpo+aGLFoGe+9vwF2Ug23MR15faLZWoM7+MXVpOoTLlc6HzOYYNk85JGJWDqNI0sWNCwAa8E17hGNa50cv59NktatpBggyeXT+1dT/HXxSemSQzMMs72cvkshEAZHlDKbUjavYGh77AYZzWAyO+/55ojUGxN+nMjHJZn1bMdMzLfCPQcxk4o+n9DgHV85KEMbPOyhtMwLV6mA9Irb60MdPDmGF0xeO/36wuHi2QWh2B8+/kt5/gx8fZnP9Z63nlzwTORxjJ/D/RM24ZDBrVdSszrqt6WwffHoU65aARtf0PpfrMryjwwrEzbpz6/T+pW0/wATvxAVZ8l8MZXp8mdnz8SS5uTLtpVHYsJK82CDyLFbG8R4ziTUM8o72/M+yfgqGh3WY9u/a/y2N8Bz5WTJRiOM5eKJdcIZydKUEJYsASCFB4+22PN4VwNXzZ9v5+nJD4q02IvNsKX8YEw3mo4WcpCUfMJZaMuGrkgLtuT9t/B4/iceOIuTE/z1i56+qX4b5mlpMdOa0PlIhrMit3JNTPDGKZnIttzRG/OP2HgHN8Js7Cw5r5fiWHWT80X8u6oGYlg1KsKMLj8N3A3NjjHdUqYeY+a5hSJRXCxKgZDEShjhZiKDoaBJqlsjYAb4UVRqgCJTilCa2RJeVpE1n0hUXdWJAJK6aHPIJ5xmFpJ5lEtKccpEgSMIH3OpQzWFqiGJJPHgUMWJYyADdL4ZMu2QzkzG7MkjN3aSaZQAQh4IRjzuLHHvhG+I1xcYvaeX9IFlgE5cpEAncQLKBandUYknchQKFHz+2FpVGaQSfMCQJsCkqBxEIYyiOzHMRkSaQHFHUzSH0lTwKsivrijHls6hbFueyLqJICaMqXhkVxqWEMqu6mt/lN7jeiLw7axcC0zIGUPC0jOdkhy8jnRCqgMCxRNG5FMdwPY+DWBRrvcPDIH5SvokCUNcmNEQjezGx9ekAEk7My1sduRt9cKKoDNQm0zZI2nJhLFHHMschjSLvg2uxBezQJXbkHj++LU6grU9WAUXUyx/ULywahIdInPoU9xToSwTRNbiySARfjC62/7XAwlc1wPltKL2ZKC69CkgOAym46N2xIYChV3xx4wxrnTL7couqGgWxuo0eWqSRiWcyV+iuzhSPQ8ZPGxB4vAZVOTcJRSlxQJciskmWWKXaRGMkrnfgMB7XYv+3OC941NgxM+ywY6YIR1ymoyJIJohGvqOw11wCaBsht9t8DxBGmI2H7o+EZlDECvrRmMqPSIp1PoYHVQIqhpB4O4+uJiSNPJUMi5GUcZSdlUq6rKGZkDqDYBoE7g6APbi8PSdYibjAUq7SALSgduUSsc0FaKTQrMHsihWlCRVjb6/XEnvIILgDf5Kgpw0GVLGXMbhFpV7bqJCxUtxYVd+B9cdFRwDwPVJTZ0QDlfS06yajK+kkIGsfLqbmru/qPfHJ4vmDozAVvDvG6LEA36UcCB4W7eob0u1kC6aqHj7HFX1C9sHMkI+H1Q5MqSCoXS4C6mStUgJrgjYivA2HviWstaQBj6raJIm6acmjuUkm0uEjkILHSNQAYbHx++Hpw43N4+S2lzc3Ckdpo2j0hB2yrNKI9dqoHzarIH2wj3ROEW09V5jonLlSumZlki7mpzS2Qx2b088AceMGm/Tc3BS6NQ8qY0MdNJNGySiuyz0QPTpoHizQG52xn13E4VWUmhsJwAWMMFjUyhZHv1DVwb8erbgA7b4zHANBnN1N1J2E85Nn7ahf0ntgy703DlbqqFn6DBfWdEFous2jNybhRVyzKhjVgwddBkN7oflCWw5qycQDy2mW2zOVbSQjmJ3Qs7OXjLFgNldgANIF/LtX3P74d1UMk9Low52ycyQyAxF/XEDpsUoU8be33F3thXPNQQcFUY0suVNWN5kj1OIz8spQ1aAEhdR4O+/181ijmh4ibDK1x6qJPkSWSeTWqQrrhZNOpdt9QWrH84jV0E7wFmyEn5bUopToNNCysBsbCjbY3eMNOu+wm4VfCk33UI5ZAuiBGJYKHdVOktYBIbizW4xHyvaXbxNh1TBokg7J4iKGftuGlmIDSaQHG1s5bTsK8/YYvJB8uCgGAhMMc2mFYyJo1jZljUnSQSd2JverO/i6xPxScTZFtOEyfLxsqH0WNitNtQtfTfg+/8AGIuLTLgqaHRCAxKssUWuRfnRXAYqrjbfeiFrnFatbS+IRDA4ZUVoNYihWNNZQDTHpNgKLJuh9BeJuOuwn5IsYAV8jcnDlTHDIjBGkUH0WhY3d1VUDzWPRLmva1zXSV8i5rh5QJWVJG0qJI8jymO4Z3Xc6boorEki9XzLuPfHQ+qXkGFFlJwmFfwZR1Vkly7ZfUPWZPUJFDE3sQaNb0dx74zmt03anbS1W3V/BlxETDlkBeUqddBniI25Lf8ASdqv/PEWuqsMMAEptM/qH6fqsmy8CKXeaFw0auJnUDQ5A+ehdkn2G31xd1ZrHeYZykp0XQrvKRCUo4yxX0anZhbSaLNl+NO4Pv4wgcHycKzac2JusggyQly4Z4YoVeKznG12oRq01tq52/0wfEbZpAwlFIgyL7QryBO8sZJVlUK6QaSt6uCGO2/H9sVFQDTLoHplYULkAAH1VnBEFQmLLjL95v8AnkggB3KoFG6kE7CzX8YVryGOIbBmx5+qJpAvkmY5KRnuiL1Lo3WejZiJp26pk3yz3SpUgr1OCos7GyP746eH4tzSNQyCDyXHXo62yMgzHNfCv4y6NJ0P4l6z0llIfJZ2aKVIiG2jciiQavbx4x8txjPDqlkL6/hK3i0g7mFiEuosqCTTuojofLRPFVf8Y4Tp2XU0WWwfhP4O6h8e/E3R/hTIZiGPOdclGWhkl07SONrIFUPGEfULIIySB81zkhjC47bK9/Eb8Dvj/wDDHNSx/EXSH7CmPTnssDJA4s6Rr35UEn2x6fE8DUofqv1GIUOH46lWxbocrU5tDbFUaQeg/MKB02QprbnHGLruLVKhzboiOri1oaybPqJBsm6/thHAEIlhwSs++Gvjfrnw3nMvm+i9ZzOQzCS9wmBtm0kEAi6rx9MS8HSPKcpHtBGlwX1B/wAPH+I/LfHv5f4c+Mp0yXXwLyufY0s+5AJG9ORju4X4iW1Gsq2tnb+1wVuAaxk0tz7rtWGCUKiBtCk3qAqwaXUFNg2ADdf6Y9NlYEeUfz+64jQI/VdTmysk0QkECx5cqQDC2kahsBbFtjtwMNVOoSMQPSf3WbSAcZKsjl5WgWFmvv0Fih1atQO4L1xtVDjDPqugfhMKd7fVTOwF7sMJMkhYB1C2WYAgqhbfTsTQOHNZsuA3KzqO6HnMsh5RYmdTbUNLagNNgjfcXTcD74kNZILcgJdI1G6+XP8Ajm+D0yvxV0n4hjzX5vKZvp2j8s7M/akhIDCEADknUQDtdY4/iurQ1xIsMK/w2GVHNuDK+ZXUpUllkZF0PO50SWpcIxoAKK2BGPGY7ovb0xmVT6SpYOC7xHUncUabI0geRtztYxQuP+yURNkzK5cxr3ZtYN6dL8XXKj+APGE1yYCciFXTM5cIyJF3AS7uCpYb0BfFGxQw8ahOEVAlWKEWUkaUqoVQwIog2ebr7ecbVNksHZSMrm87FGysAUaiyNpa1TejsSQPPvjQq6gpq5jJyajmImjRkKsImGhqs7Ei6vf6Yi5t03iBSsnMFJ7hZAhC9xR/STZVSdjdbbDC1gSLYTsK3d8MdSVFhZ4QEjKSrEF0kqv9QBvknj/PHh8RT866KZv5ltbJ6Ic9+dhZ4swYwIkQ1pY+TQ2BHnxjgebEL0KTg0ghdZfhz8XxHQrMxWlc0GF6iCb5IZCKUHavOOJzNAyvp+GrlwIXS/R5Jkynf0x5ZpGDRSJQGh70nURz7kf6Y818vBaV6mpuy2v8KdaTLZyCOQaMu6FVd10FZDyGHt4U37n6Y1UFzha0Lh4qgXtJC3bJmYZsoZ0kQoYCZh3dQLPWkEWBx4xOk4scdJ75L5sMdqgjdYD1vr8eS6bJmpn7MPTVM2bmkYoulBqJKG97sDzilPIBsvXocOA8k4RukZ6HP5GHPQOGjza6wa39dAcb1R49sfqfANLaDJxEL4nj9JruI5rF/wAUvxI6F+HHw7nOsdTnWOWOErlIyQPW48E4vxBDTOwFlxU2wvgx+Nf4qdd/Ef4kzOdzOdeXJDUMtl9RKqhtgBvuCADtjw+KrF5XUxsLTWTicSRK0bOL1RsxtSBbNYPBx49VoXfRJBCzzpsEiK0jRNKsi7HuFtIILgjf+aG/8g8RML0msD23WzPh3qub6fKrzZju5ZEQxM6DWpY1uSLFUa3rxycc5En1VG0w39V++/wt0dJ6isssWZlzcQ7sQLpoo6rsCwb/AKfsdvGCdIA+t1RhAOdvzlb0+GIjL0+J4VdJnYGOJl2BIbS1AGmGo3R2B35vEKjwTkd9/t1u3UBbsXH7q+6j1eD4d6HNmiYxnJ5/1n06ZFABGkh1AFjZvG9+dpv0yB333GEjTAMySRj8YHIIPwh8Q5Dp+Wn6gYxJm+rXEpKjVGFIKhbJUUPTx/ljoY61u/sVmNAab379u/mT4q+PuqT5jtPJcQPbDbajHxwRvs3niv5UPEEjPf5+aEanidu9vX1K1FmczkopQ8kRLzOzvPIK1BaIO12CANyL98Uc/UIOf37KZtKL/jv6Kr/4zlshOe3loMiUGs5ZVLsxVRdEH5jYvgmvarG4Pfffpy1iLAAW2/Bv9Vk2Vm6h1vMZFklliM0jALIADGZKBelNgACr+n2w+fl37pWkug6sd8ux8kXPdXzkeZ+I+nZKWfqaoYcvNnXIAB1KSEZwflb23/ywWGO+/XuU1Roc4zebd/x0W2/hH4zzsPSOjZHKZxR8afC0SH4cHpjhny0hbvRSgaS8oDhlu+LojF6Tg1xAHdlzlga2CfMMR9ltz4X/ABMzfVck3VPibKjN5nJtJA2cAYPD3NmLHTp17HSf74FV4GDY93XPTBcZiI5fP+F23+G3U8ln+hZbPwSx5yNluHM1pdSAAEC6QdiasL5Ax5IeGmbfz39QpceHOjPp33aVc/EkuUzCsmc9Hd/QyLEUGdwAdDE7Xe9C643F487iOI1VMf39vwBstwTHNHl9/rn8X9VrEdP/AC2YaGPXlkAVodmIAJ+ZjS1ftj9g+DV3VuHY+RYbbLw+KphjzIuiLlEUuCC5eYGMGrfwSfT772Dj03ENvlQFPWnJBIJGKsqjSO4SLJ1jgEE7HYewxTxCL7FL4cZTmgvLrqiVO2FIINWfDD+kEX7/AN8ZziBLB5uv4RDCnJk5FMcHrZHvvsh+ZfNCvGw/8vBpubMAG/33QLJumGGMPGiRsyK+olbQufB332BAOxGMawa7zEQgaZ09V6SAgsgcdmA1DtpDAkEhR9G5OA6o7/aDfy+izqYtOUi5R+2+qJQ5Yu1aytHaq0qSb4vGpVIb5sye/wBln0QTZPXLObhfX+ssYdiAaAvTYHFqfbfF31Hz7FJ4QCG2QcAkQFQgVIyjEBwOQaPsfbEmVbg4gZWbT2O6GcjrJLyD9Qenwyje7AA5I/2wWvLpl8jksaAAIHJPkyrOjdmOyNTQQGyBqG5oAnbnBNYadPyWdQ8wPRNOXf0M9GMnSVU7lhQsgEDxd/xhhWOsF2IwkNCy9/w0TIQY1dWQgGzYAokWRdc/ubxQt8oBNonqiGEXQxlHVo0UuK9UihRv9PVdAeSThG1h+kEx6LClN0iwOxcRxyGSj3WZdmPgAbHav+2CKzH2mSL45IupbE5TJcqWA1hnc0x0rew32O115rjEzUcTqO9/TogGj9JXlyLCKQRuyqV1DMy6QF10RVkkEnx7YoKnkltlo3N4Q06fHHGid3SFfQ8lUpv1BjV6gSbsbe+IGCJVTSj3TTlSVVI3SJZASysoZ28la4uwBZ4xWnUP6REFL4I3Cecu0fchaNo+22qQIATvQJYnn2o7e2JOqkHTJHsnNEC4RUy4dERV7bBiFUDYqbN776hR/wDeKGrLNKQ0ZumSQoC1t+kEPp+TVdi7J3Nf9sMHAgDb6qTqe6WMGSAh9JVSG7y6AdI4Tfcew+uNSLQ0blFzZdZMEYdXSWOQLJ+n29OigDRJNkXQrbEg4vkm37JxT0HMoiwKUCRfoEEMs5UggFfT5FiyLB4OMaweNKcsnzLwgloyRwGGaIKqqSATRHykk2De5vycE1CCXdLINpuaYOF6SJ9MjK5AT0MhQPybJVtrO/jAa95E7IFglC7TNoKaXCCiV2UqR81Dfe/tgeJpgtCZoB8qOIWn1y6dHbVRHrUrZVqUixXg8jfDueapdEWARNIssN01U9Swys5IBNMtKg1UwQ0aJ++HZINyJ9EDTBFsJVywMpIjVYiAsindbjFXXve4rCNc0NPI/OUxsIKJJDHSxhBMNJKhDoLA385BJI2JwLYPqsBISGGYLriYPJrsNxqFbc1QPknGdVthUbT/APJNWJtULKwMslCVhYC2L9/5+nGE0vBEOmeiAZYor5eTelJ7tqao1uOdY3Iq8BzjqDjlWpsUWWFpI5DK5jjkW2njIWMqfSo9+TvQwjzqBAdpuqBsFMfLAW8hbUTagsS5Wh6iVscit8FtTQbmU3hynPl1Cuu7aCraFIUArbeog6uKrE36QA0fNI3VJm4URssoVIiSwU+mRCNJVhuNr3HnzeAXADSLyqACZGV4ZJntw8gAUPHNGAAKFjSWsA70KwdIcYdcAbZlYiDJ3QhlBJ25ZiswAIXUFJ5PzADjxvhWPeGgkwDhAgSvkBlYo9QWKCKMzFhK1kBeTSmzZNCxd+2PQ8QTqAgjbZfK6IOVlOV/5+WzD5bV31rSLjPIWwN1O5HNbYapxPnY7Tzm6Xw7R9Vk+RyioHkqTNErokgHoIcilBDElrAF0frhxUDSTMtQ8K3JX+QiMgTtiPKFFdlZ1VVQC73o0aG9/tV41PTWHlkFMaWlZLDBHKuX1KwdR24o2DCPUx1HSNvLavaxXnGLwWgOBtOyoKTtlkGRhIgbuaZQyspA2UKpBqlCihV152wtGtqHRN4AB6q9gyg9SHVLKCrRFgQf/tpDGzhfFBEmeQTGmRjKusvlmkn+VJlWRT2ZAAfF6mX00Pb9hhmVHOgck4oAX3Kv44AgMrxupUuC0i7hN2ACmxV+Bd/3x0l2lhMzJ3UxSaBhXGTgC9smKPs3b6N9ZNhzpog6SNr2qsK6sZAODCBoNeCRsCvh7+P3Qsz0P8UfjLLTQlJZOoTTJGyBdKSn0ijtx/5ePO+MOB4l5biAu34QI4ZoP+phaKliPbR1A1ABzqWtN1Ys/XHkL1lvT8CczHB+K34dZkzosadWyrOzGirl6Ug7HY++1YnVMAeoUXUyZHML7t9Q+H+l9eyM/RfiHpsGeyc36U0ctlyTduF2Po8Y+q/5DT5SQbLwP+MP1N5rgX8ZP8DeVz0Wf67+GU65VlUzzdDkIINiysWxP9N7D/PHnP4ZtWS2y7aXEvp/qkhfMz4l+E/iH4N6jL0zr/S8x0vOxFlYzxlUY3/QSADxXOPLNNzLOB/C9SnWZUbqB9t1TwzWwQsB5ZSAFJ42Fjeh7YEJnCQss6D1HMdPmizmUllyksdzR5lSSwKmlIHgjgEYSpSDxeylMG2V9Vf8K/8AiL6h8XTp8B/GWaGZ6rmQv/BeqvouYomkRzMfN8V/rhuE4t9Op4JwcHdCtQaW6gvoHDlNMUsMjdmlDlFFkbDdaHHvQx7LKsNOsxB26rhFMOPVWDQRlUiVSO2toRbqboNd/tTXzWGNYSc2TCnzwrHsIwkVlkdgtuALYAgg2QbNgeeMZz/LYXRdT22WDfGPxl0/4Wyzv1TVkTMofK5+YkRSuGH6bSVoR6O2rauecY8QGiXmO91MUQcL5pf42fj74e+Ksj8JZPp2fid+m5WfMaIXikMTSkJ2H7YJ5UnUTuKNY4eMdTc2GmBOM/VV4dhY/wBRC+ZWZ7Cy5nKozy0CQKJRmJJNVyuncD32x5rXafRek3URdRpElmKSBo442DFx6Y3K1RpTWzEDfC1HyQFQNA9VViI6rLNKzgFNC7A7XZ23I3+w3xRsa9KJuFSZkl5m/LjUCSQkoLE1tuLPN3eKEqbcQgGOcqsYi0GNwFC0y7n0kliLJ9rwAZRgphRhS3pEi7iyNQA9yD/n5OGBTBo3Xgxk0BAqovyqoFeqiQos1/OELQShCsskJ0lN63IdlLoNxew9Fc2MQqNgC+FdowQtrfDTflou5M65mYqTFl3DLTqLCkNQ52P0x5NcQZKuHBzcLdfR84czHH3mLSyIwlkbQpDbHeq2FGv398eTUIBXbRiBK2X8J/EA6ZKmqZYIpCK7jAAMasg/ML32H2OJupaxIXqcLxUESu0eh/F3R8rkcuMx1SFZJYz+XhYAOyJXrCLa1VEcEcbjHJUpBrjG6+gp1wRJVvnPxq+AOgw5b871eE57KsAqxkszUqt6E3XU177e1HHKGPIbIwkNZgu50BROl/4qvhfr3V8p0npORzubk7xLZkRqyMSOUDC/UTvvtvgVOHcTrIhv5U6AoVD5TK2d8f5uWT4WTrGfDQ9KzEsf5uc/M6ySDShAHFtRv+MV4bzvjMFUrltNrgP1Bqz/AOHev9Ph6RDMjCHKZfL644ww0bL9Ptj9No6NAAwBhfmtedZXyE/xX/jRm/i74pzXSMnna6TkJHiMcZvURzYsg7jj745eIqEhBguuOwJMyojVCruysr2DueKN+w9/HGPHqldTQrdMqFgEPqQpIWQll8HkAAA3qJ9IxwPvdXpH6LYPwr0zNZwRobQTNI2hBqYMTagkkUQBx53+pPFUaIk7L0KLiBmJ2Wy2+H8vNHEpLRrGAsqxhSrgbFravlA+lbY5pj1K6gCTbb5Wm/0WyvhP4UyKZKOXMGNysgMYum3q2q6aqNkfviNR0Hfv90NEzynsde/fcHTeo5HKZExZdGidgO4yaVDb7hdKspFi9gSeduMK6Mroa0Bpsfx30Wrvj34okZkCdyHLpIGYM5Nmwa0gj68eTzxWBJzB769wtUGoARB9+fZyofQ+rdV68I8r0+AnKZYNrkOosGU+Czb4oDF1IVTgd47/AIR+op8RfmdctSp8sW/pjDNvYWydxV++3jChvzQZUN5+/t6d3WL9T6nmMsWy0s6vnZNWtwWEcauo5HzUKB4vbbF2iF0PdLczz9e/ugdPyPazKZjPZmSZMw2pZGYMFq7Kqu+wPJ884q0AjaeS89wOHfXG/VZ1D1tOiZdcn03MibM5jZH7mkx1u4BBPO1/TfB1apmyzLCJt6d9FirfEKxaBlX1ZiV2fMqCTRXZgQKO5vnjziMzssXHvvvkFl/S5c1m83BmIXdc9lJkzGXzDggjTYUL2yAOCOMIKg5pDSJzf9rHquj/AIPkzHxlmIMtlX/4V1Vl7efJK9mV0AIBRRZNqRttZ4OFr8QIg37/AJVqNCXWt37L6G/BXTk+GOl5bJRdO7P6SxSMoCUwA2AJWidOseB9MeNUqEiYnvv1S8RTa8QHY7nGNtllOREKxzZ58o0z+vugin9QpKYlmLDSPG3OOInzgC+O/Tv0lXmQwOju/IQq7MRwS56TORlgrKilauwV2oELqB28ce2P2X4EBS4NgPK68GqCXG26D+RCGwtEj1HZSEvcGrqyBxj0aL2tk3IUXN/8Uq5UPpuRkItmiPoYkkMw08nje8Wpy6SHAH8IFki682XV1i1qulWv1AhTXuRtzvv74BDfLIJM3us2mpK5XZmRQ6s7foWA2o8FmJA5bcbbed8TAaQXDnzW0hpuiZfIHthd3jYVqAAJY8cChX3+94swHSRM+35Re0Ji5K9KSV2wF/L6gxZKog2NmJPHN4LHmAYnZTIgyEX8lukMoDAkcnkKPm9XsTx/tjDzOgmLysWDSUNunL65gakldWcitlUgDk/W+MRFQ6i4k3JThoAghPOUKCYyFoyiuTIp2DVVpXk8iqxV1YixCGgJVySRAsDpTZeCB4NEGufrhQQ4eVA00MZSFF7RuNGFNI17ckksRtsfJw7akWISmnzQW6frPyK7g2CvAbYWCABsb5H2w7XyTOUCwBDTINsKV9AZbADFqo2OR545wKZe43mQsGAr35Goli0syhRIrEX6fKnSvnDtqEOMg5RNMBOTK6g6hK7u+5oeoE1qILUb3/vhdQc0sGSZnklNNpEnZBfKKKELhZVQW1uQp2HBPHj/AL4JdLYGQiGAC4QBkZUCyyOjRIh1soOsNtyL5q7PtiZqFrROCj4YmEYdPUkdlBE7D9NSTTKdzsCbDbEYWqJI0TOYQNMnOV5clGTaskbS6wjNWzEn1b0KP0OKMqskgHzLeERc3S/kggDcHVuZCCNJAAajZNbnnjGdUBM8gn0GICRMjrRGVS9WBKDoOxA2JBvbANXUPKlLCMpn5UqrDtswkVVQFVYar5BB/a18DBZUtGVvB22KivlWa3kCtI5CsK9BU3bnbY/tjOrF5J0wcRgRukNIBMMQXQrLI/bYjSgUqgJ1cGuLP15wK9VsQJDWna8oeGcp0caozxwxp6X0OlgDU9ksuxF3XOGdVLTIGExaIuhJlx65FjV01lI9JtaJBAOqiSRdn7DBbOkvP+30QNMWEowhLo4hQ7AOnprQwFMu13qBrbnGdYaQUDTIXjE7SM0ZHaRKClFJqh6uATZ9/OLOe0Bp5LCnNt0IKFDMS0RKjtxk/TyBV2NqP3OINEOIJgkLAEBMZK3QtrWVu3qtDqNVvuAK/wBsUcXAgC53WDZdBSyRqHXVEyLMyhwAQ6OeDzQABO1HE67ATYpmQb7pY0MTan3YK0eutqKk7AnnkXxjNlhjkqaQbJwhTtsyt2+6gDBCNXpABIG9j97PGA5pcN1Qi6LEJK2A16GDSlbOxJqyb24F3giWskm6m6CZCjpk5fzMchmbtH0zxIPVaAHX6ibHg1iVNonXqlWNxEI5jUxqCl1tEpWgNJqgTV+ST74uSDMfVEWCQRJJqdIk0sAkCobsXbC6PgVjmc4ubeBGFRgQxAdahFQyxsrNH6g224Y1tuBXGHwJys5trJoy+uR1IMUTKvbiJsemj96scn+MQI87QbFwkfynAhq9PExaSWJQoALSgBVBXVvQvYGyK84DeIJd5eSDmg3OEx8toYNGAZEbRGwr5COAPA2HGJ1NQBcDPIIadRhfHfJQPGqusUSyyN/8dpCVfWaHqN8C/wBxxj2WB7sEAnmvktMlZRkMtldpQv8A8ruM3Yb+oqTszEna1JNj+cK8ahEgkbKmnTZZJk8rGixzUHzkbs6OGFKGom9IsmhtfH2rDsplg1THRC7jhXeVCStHA9q6tUMkeoq+iiqys+knehthA9kkOyVYUi0SVl2TjidySJEmj2cMC5ZQa0jV8u9+3GNTqAeWYseqYM3CyLKQZVIqOsOwI0Roqt6dm1MpWvoSP9cNTbSawX8yfS9xwruCN6rLq5l/5oiagGANfMQaGm9h++FLy0wASW3jYg7yiRJV5rTtSpFomU6WCVqCoDQABOqzViv4xqtRzCC05+idlIEhWyNGi5fl42kUxuvBYghg4B3381thq7xpkXBgA/eyiIJur7L5YQ/lsoEZZyS0aBhQUVqO/vQ3sYws7STKoWam+UL5t/47fgRMr1b4f+McvGY/+MQNFnJhWovGdJWhdGgLv6YHxJjHU2uH+ueq5/h8srFrscl842iVXKspeMUrBgN1ItVP+uPC1Xhe2Ssm+GusS/DHXemdZyiFF6dmYszlmUC1MbatNHY+cQ4hoe2DZEZlfc38Gvx7+B/xX6RlsxkOoZXJfFAhVuodDz0ojp1FMVJ9L2DYI3J2rHfwnHMDTMBw58lwv4d4s3AC2P8AiN8aQ/hr8E/EPxlLljM3SEWTpuhdMUs5ACgMTxyNh972x69J8AyJ6hclQloHNfHf4w/xH5v8Vs6IPxA+F8h1LpU8rKj5SHTPBrYaULn5gtC75Hvjy6nHvkyNTdhyT/8AB0GWOh3PmsD+P/wSn+FOjdM+Nug9Qj698EfESmXo+fidO9E61rhdBYtDsN9sKAKzBUbcfUeoWp8fpd4VUQ8LUbxvBlYlnjZJHVaQjRemiTtexHg+2Il4wSuyl53dFtj8HviVvhT4w+GOv5Zm09K6nBOhqjpV1LWQ11pNkDHmcW7SQ4bLvpCTpX6GOmzp1PKZfqOX/wDkwZ2BczCfkJEia1tGFiud+PfnHstd4uh7R5SJHVcLqeQMgwrtGBZ+1Jd6WjZh6hyLVTdgVtvjrbxOolu6UsOkAhSoUjj/AF3hJfZpFX06VI2IBAvixQw9PU0y4IQcbKv6x0jo3xJ06fpHxD0zK9ZyOZLq/Ts/GrJJdFACd7AHt9MF1VriQYLeUflB1DBGdivjD/ig/wAPnVfgTr3Uup/DfQpf/wAYgy0OdaSNhMIlkYoTdAgLY5x5XE8OA4aRtKem8tBm64GzMIEhZSe2XOsUHJYEAAkGhRa8csCYwV2tKrpIswGIzDLcXoQybKyjnSR4F8DALgG9VRpUTMBfSnd0tOe23aA1EEjwGrfi9v5wGuDrxdEgKqcZeGWTuOS0VVrCg3psjYCv3xRpcSsYF1COZr0pEe2p5T1sp233qrBxXSRdK8wYQbNhyNeZKA9uSgTfCngjc8/2wQlBuvQSIpIjiSIGx3DezcNRr2HP/bCl8T0TLMekZViFYlVUX3zJJpvUNtyaAAIII/bHHUqE5REZKzLKZSPQrOQlpqYFh6hdFNJ8Gub29scb3gmCqucdsLMsr1iTIKgndBJIpjVwFDVdKV3BOw5+/OOZ3D6nXsFanXIEKM3xT1KOWH8qqSTxuqsWAZB6go1WKPJu/wC2C2gyIKpTc8uJW5/gSH4i+LeoQy9W+IWymQmSpViKkrEu+kgKNt6q6rjc1jyeLdTBhuV7nCU31JBK7D6L8JfAkzZfpmQ+Ho/ibrsxSR5c3+qmWgah35JTQ2sldrv+ceU6q9sumI2X0H/GpugRK5Y+MvgzrPwT8f5mf4d6vJ1TKZPOlkzhj/LmJ1Nuqx2AqruAQf8APHp067atKHZIXm1KbqNWRiV9Evw7+O/h38TPgLP/AIffEg/JZ/qGSOVimACmKY+jXQ31FqIsHbbHBSpCm4GV1cRQNV3jMwBDgtK/HXxV138L/gHqfT+rIMvncjl3yquSwv5kBDMBqHG4GPu/h3Ea6Q5i118P8ToeFVMYlfITqHUpOudTzebzczAmQu1ktv8A98PVK5aQVhEe2FMektIpRKqqoWKF6qDcD6482qZXSy6zHpcYkAvSVcDSHAFA2f6he+m/bf6482qV1UxIW0vhqApJIkkbL2aopSvqJG42o1XH/h4qr120qR9FseHqcH5ZXRUeSKAK9gaQGNVXpO11Z9ifvyVPv337LsAxHffOVkuSz+YgyjSK6qqalbtoT6dNrtsw2sWCfvWJ6gZ777stpJd07v8AdDbrKJFDG8gji0anscOrtqCkm/UR5v8A3LTy+6oTaBjPy6rAfifqMf5KQWJcw7mRCoGmhajY1Vk3zzgEae/X+EHNa0ftsrz8POtZ/N5WRZJRk0h9chTT3GJPpY1YoX74qLGB/ff7qYF4HO6yfq/UGCvUjE5iR2RmdgjUtD5SavbnBDoIQpgD1+Xr81of8xnesdTzEQjHaM7a5ySXFEKV329yLxRrYaCMKhIn13Nvz7rZuTjzX5XLLkkY9wSRSXwL287jcWPfDj9RIwF51RpLie897KBK7wZ2NH1SSCMx962OnWFFqT428j/TFHOGnoNkYJFrD7z3/BUvKTRwPoWOiymQ0KYFTsCdzt/l9scr5NyqMAIIGRnvv5rZHRCmcUadI0FoWuwfmJpRwOffb+Mcj3Rfv3XT4YMA+0d98+fV34PtHkM42aGXicIC+X1sEYEKAWsMCQKOpbFnHBVqTbfvv9l10aRJjv7bb/TddcZL4yXPrDlIMy0ubdXigCG6dTQYMApFX9rHGwxyPdG/XvPfqn/4jLmLZ72Mx/N1uDpjQRdHjmzurRmZNEaELrsMAe7pHqplI/yw3CkOqjVzHSL/AJXznF6nVSGbD8bcrFNiRnEbNLEp1AB29JojjzXg/wAY/aaVMtpgDC8eQZ6I5hBMpdmRgxDSE6SdqoCvVsPOGpuzPJEvKbHEBfbX0tdgV6f+nTq3/gYRjTqkLEynKjNG/pAD7mGrNBTvYPuPO2HbULibwgiLlktyAJCAoYUKATxdAbX5G37YZoBLoFrT0j90CJEHCcIAwEkILitKdvZtIJN+nm98Y1YPlwsIAhPXLFRHZdI1pUrZifAreqwtO4Df9RfMIQEX8qApLWpsRxqF0la87WTiz3R5ifTvdLvhK2WCoDQfQjMbKkg+9kA7+1YSq+wcs1ImXjXQzBl/rd/+ncAN9PG1YbxGATFytulOWcaSASHsiQgbmuABt4J9sKXnUCMwsRC8IF/5gI/6RHS6QTyQx5v/ADwzXAjzGFm3QxlaRdOl49iqUCFYDf02BzxgNc4C2ESwFIIEZwSGRwQsjEigRuoF+TYu98GRqgk+so6QAhSZYAroUyLqsjgt7EmiORd3gw136Sf3U7LzZMCRdSraF2YFaO9XW26j7YxLJEbZTAAhDOW+YAA6HLlW9I3BAA52o4TUHCGndNATBAAYqVndU9L18wcURdb7fTxhXnzNBNghtEL0mVjOsSDSFpCVNNpPjV/avYXhqtTXccoWiAiJlwKLxremw9gKGI5UeLG+C2pqEER1RAi6A2XjUiRlEbFQxiatIcHk3zQG4wjRDmxuhHNPeFKoKAWI0lDrIbejdgAH6g4cvbBxczlYtlKMtGgRzGSI2USBB44F/ffGY7QAXGJx1/ZAtvCAMrFIQ6rrLWsvAAH9LXyN8IajZBJKJbZObJ7ntr3HlQl3oAfRj7X7ecULxcYlKGyFGkyw9bMgVZlLMpXQQR6RdGq239tsU8UucsxqAICFvZFUEFhRIIJ4B3o7/tRwGVhp3HsiWSivl3ZhSU8a6tiQRQ5A9/PHGJv4kHzQQmFOVEkyIbQ+8kdKYHX0i1O2nf7Wb5w7xqjSb5RDSLFFmywlJkaSk9N6KFlR5BJ+4xTWHCXC6UMIEBRZ8myLGyalVnGr3KnYBiwsNV3WKNcS0CYIUwyJ6oSZYBGjKsyswTtISDp2+oP+uJuqNYIBgfNYtvKRcoasAqaA23smtx4F37e22Fqh73ag7qnAkJyxoW3jaKNwUAUFlVl/pobGj++Jmo4kkg+xn6KkQOaM2WlMCMFV9NqoF0dO37cj9sUeNLQSbIRBwgSxIyvI4kRF/wCZR2DArVWPN0TjncS79IhOxpGQitl2Kx6izMNXpFlFBIsAX9ucWqAaRJAK0eZDhiEcgi0krGtvHHp1BSQClWDZrCNLf0uEhVN0VojHCyrH20kGpFVuNxs3v/OEY4BhGOqwCUxa1NsWAcIm4GkfvfnDB7nNLutugShsFNbKhCZgCiKCWcjVQ+UA0BtvgOIDicar+iYRhMOXJiZKaD1B0kVwxUGhsCSSMcTjbSCiwaSJ2Xxp6ak8oEjENKQsTJLdtQPpDbHfgEHHul7apI9F8o5hELJ8vlz2kZII1dGTllYEig9nfVoN3Zr2xXUxzCWtuICIFrlZFAkiMsaqUaVgyCQkSBiFFnk1sQb4P3wr6ZYIm+VRjAstyccjP3AzEyFRJE/p0AEfLsupiBtR98Ag5JEphexWRQxsoiVpmQOA/wCbY2GUtpBa6VdJH8fXCSSQd5T6Asgy2ULjW6iKE0ZZY11AatiwPzHxe3vhsE6t7ymZAsMrIMmh2PciEX/RJaGT1aV3s0SdrG2KUyQ0kuEnrsmeGnEyruLLPUYiWMK5QPIrtqDKQ2xY0xBxzvc42i3OVQUhEkq6hiiGvSVE2YDyShEIujZLUfm23s/TFQ2m6xJ9uiSDMqzhBQJriEGYmA7QblqPyAURZv7HE21jqkCx3VPDlufZa3/Hb8Kn/FP8OOqdIRkj6nkdWd6YHC6mKKWMYZrUMQBW/OOqi41GupkiCuGtSNMB7chfCD4h6Dm+kdRzPTuoRPl8xlZWSVJEKlWQkEkj7Y8HiKZpO0nK9am8PaCFTEklFQszKT3fSDYrUTt4/bETMwEdJClZfOZzprQZ3pk02UzUH/LkiLRsL4IYbnetgcK6iHiCBdM1wBWxurfj/wDil1r4RzPwX1r4vzfVeg5sj8xlcwRI1LdKWIvz5xSkHUhDXGDtKDqIqmYiFpmOdlJeIntkBQFFUFO7bb8+bvFDYJnMCzLpPXeqjo79IbOuckrPLDkWeRolctbMIxsTY5OEY3SSRaeS569MPcHQJVREc11JjPKomEGgUSOa8EbCh9MM6YtlM0inhbY/Dn4bz/xV8W/D3wj0fKPmc11jNxQ0i6tKlxrZiPlCrZ43x5/GFpZOV00Myv0UdI6WnTum9K6WzmbL9OysWWTMSD1voAUMN73OPa4Zoo0m05mGhcxBLnHcmQr6KKBC0rSrHHq/T17gKqi133F1R5GLNDDpcbQUgBPqiBnZTNfc1EdlFtitA0CTY3Gx84Dnhpkc04BiCpCR+hVKxtMupRI4K2OdIvjyP298M5w1AmwKTSSYiVjPxB8LdN+IDmIuoQxT5TqmSk6Zn0mQKjQOvgkbbNR2+uMSCJnBg+iVzS9hAF1+fD/ER+Fuf/Cb8S/iH4XZXj6dFOZOkZk3UuWl/UiY8Atp2NckY87iaWh9hYq9BxIg5C5vzLOX09yho9NgncXZA8E78YmCCeasTFwqOXYKWpYEFKlFWYmwNh5HteKNyUzspcrlDPqnaPuxxEqhKj5mG0Y533JxF9QDCLWgqbJ02HLiBVjKSmygoyMj1pKsfcsDwMTbXIVfDByo56X2n0yVIDur7kk7kAMwJO/OKCsecoeENksOVCMfl0qPVpA0D3532/jA1g+6GkLIcmkkaUqBENnUGHrOmq1G6u/G2OZ+Uhp7rOcpEWXLylRHHHq0nTZLKKDC7O+9/vjlqWEpgZEFZL0LozdRn/IGdMvDmp0JcKXCHUV9INWLO98X5xzVa5Y2F00eG1kQt15v8AM3FB38lmXzEzRxiPSunTtZLkFr3B3FY813xEuBm0L6VnwstaCCs/8Aw8/A3r2R6vkc5n8nPmk7oij6XCxCs10HdwbYXtVfxjkr8a10NAuvS4ThDTJmy+mHQfg8ZDIZI5jKwq+VyEMWXy8cCxyGOJajV9FgnTQBI998ea2o6q4zsnfXbOlpsuVPjn4dhyWcz+Y6lAq9uVpc5KxFFO41Dc+ooSLv/LHoU3WB2hVq0Q5kytDwfFuS6J8X5X/h0xAy6D8xHVOjexAJ1AgA7kXfjHU2nAFpXFS4nTVAnylbv/xEdLH4j/gf1DqMJ7/WOjQrOc1GSQ0Y+YdzyVNjk8YvwHGup1g18y4ZXH8f4fUzU3H5XxeyLacxJGfRIpNkb0L8UcfSvK+Pp8lneTy5zAjtwRyYztbLv/V770P7eMebXN10sEeizHJQdiXRWntDUjNst+SdRI3Jv/PHlVXSu5jSVsXo+uTtrJ6JGIInUDYABTR5AFbkY4nOv077C724usxiWSJiZGCD0upFNvqOkgkDYVx+xGOTUHey6GiHGfl+ynQ9VCwGIrRd/WARuwJugBYIBB29/e8SB81u+8LRa1u+8f1WvrE7TRylbFLK9hh5YkHkGvH19jiodKYGCZPff89aPr0SnLerMaJJQS7MTY2th6gASQeKHvXGHiD6d9/m6UAgz33fvCZ8IuPyzyrmO3KH2Y0DsukI1VdcbDbFYie++imXR8u9+X9brMeqtJJkpHab9aKEpBPYXdmpSStjf/MYQEi5379UzDtK1j8OPIetoF8FnbfbXudRAIrzf+eOj9QgbJKri0ycd9++FusAZHpOfVQkcs0apDZptyCQV35s7k/5bvTOkTB/Hz7+q4zF+h9fX2++ywvMd5ESWeMvM3qfexRuqZjYFV/3xnvlUY13LvvvnEhkzLP3nkIZXP8A9tiNiDtf8e+145Taw777K6GW79O/6W0/hGN1zCo8rxq0jF1NVJpsU7KR7bWRz/HK8SbDK6aYGTy7H3XVPw5HmclBku1nRlGlDCZ0tgfUw0PWokkNfPjHnvY5xNl0io0gAb9dtvr9l1d+FHRzmJsvNN6ppFVSpGt3YAkOR6mokEbD/wC1G8cz6Zc7SRv2O/RT4uuGUSQbf16c+i6YzPSoY8kuSaDRl+6vek4d5Ep4ygI41bEV/qcWa0sIBER9fmvl2cS5zy+bx7AGxn2vlDkhVXMby6Z42pzQLC/FfvzX1x+p8Bx7eIpNkw4ZXntOk8xsjGEn0AsrMQAFpb2+nH2qselUgNgG6DG5TpIgtMjBdTBRRKmk8CxtYwznAtlpgHHtlG26TtopcKTWpddCtqNGzW4HscQfWDrRcpYK9HA61T2BsqHcHUN2ettgff64q09Y5fzzQJ6JyozRBlbRM26L5J8VwPT7AY0nTIyiEYQIAtBzRLs25snhjYG/ja8KII8yzSRP0Sxp2429NOw1tXsCbI1Ud8Yy0aYklY3Xo1Gp7XVpaiq/1DamrzVjfjFGtD/NNmobQjoNVDZtr1iqFnYEjzueN8KH6nfVJBleCBSCFCrLs6XuB7izQH8YzXXMZTm6doR92GlgT7FTwQCN/bbbCuLSyCbrAQmnL3X9ZYGiALH2A+9Yrra7ygE29FpSdq0YrJpiA3vyaA83jnfqiySTKb+XZhSoxQgD1bMAtc/64JqywQIG6bSAndpyAe2seoBy/ksDQBG3Nk7Yq3AAFjlEBCbJGmKAR2wWtqA8A8fXCtdcxZAuAQvy5vTpBA3VgTudzYI/3wGhoCaV4RNGCAB/9WIJ2F+N/H1wzTotsd1iEIZT9REqyFFTGmN7e/GA94PlmeqwTjGxp5Rb3pVRQBBA2s1vvucYVQ0AOuRhYpDGCzj1Rn5i+50kgcV54/jCiDaLo6SmCJlUlW0xkAMnvWwBsgbeMbxYbpKxF0wxtTvJ29twOVXVv43qhtY84YODxJR1Ql7dDtubUA66oFdqFcXX24wCBOUSBsleGtBUW0YbSp2BFXb8ge+CahMdEBZDaMehAUVgQzNV3QIPAN34vnFfEJGfdAheMCqzjUigqCEKnUordr/txxjVajQ3SDKESg/kjqKyLJpCjtsQGs7EmwauuMRDi6HeypNkYZZtriRacFgCB9K2Gx4xQ6WkzhAOKYcqEEbmpFAF6wCzni23/fFA8yX5lK6Ysoq5fUrAse4ilSKAYc2RXN+w4xPxJYTlM4QlMGrSEtaUsDTHfbm/fDMquEHaEIT/AMqvbeNbUKV1Br4NLuB/b6+MK99NxkOI5wmDSLhIMpoiKkvHTjSwqwQBuOAb9vbC4EG94CEyhnJhQoDDUSWYJ6ao1xV0a35wA+DLTI5JrpXySEu3bEmpLIF+q/6lvfkVWBVc1xmEWExdAXLvJQeJQaZXK81XylhsT9cI+oR5oymwnnKIq6o6GqydtwNVbAcVf7YzqoAkYRBTzldDMQhBut12rhmva96xm1bTgITKcMqIyVU2wJJcAAlR7+SCcScNY9EU14wZLMaaRsVBIokml4Pt7YDQC4T7odN18XOmZcSKDG1hbZZC7H0hi17kGq243HGPoXtaQNPLK+bcDqhZRkoZ40DsyIkuqExiIKWsa9XIAB5G24xGlWc1kki5Kp4IBWRZGNx2JJZbYB1eVi2nUTwfVVEbCsO59ml3W6YUpNlleRyhliltG1BNOguSCL1AMBQCgEChv4vCUnagYMldBpgENWSZLKdudRMsiRtRljMlsF0gEgjgEHgj/XEH1Wh2gzKdlGVkuUihCpp9JcKqM6kHVxV0AaAB2H84v40iIjqf2TtpBpKvVy4aVU16tS77KLU7E+Fq9jXviTnCXAtBNr/cwqBhhX8UB0RxyxGaMkrdMddbbLaijx7nBqOa0hmCkFOG2wrbLZKYDs2JKsuooetm9PNVZ5HnxgD/ALdvzCrHliFkUOWd4i/5kOsY7IYGlFHcNp5IHG1/xhDVJAEEfZS0DEK1iyumJNKhXDlssjkKKXcHc+w32+mLB7mDScykNAF3Rcsf4gP8I/Qvxbnf4g+GmTo3xNJGPzOXVKgzDCxvudy3JrE6obWAJzJ9UjGGlOnC+Tf4kfgT+In4Y53M5b4m+Hc1lYoJikXUkj7mXcVYHcXajvzjjqUHMEnC6WVGOzlaTky84jI1vIqDVIqk0QfVZu8czXyU8BVs2Vky6lZA0gI0hburF+/1xX9CwOq3JRHAUgKgDELpkOwWttrNVx9sUJCZOy04gYyC0J2fZmBK8kbWCRjajsEhEq3hz75dyJDcURJZhYo7VZXe+LGFIgwc9Ejqdl1x/hq/Fvof4QfGWb+Oes/DrdbZunT5PJRwPoljnY6g4bgWBpsg7eNjjiqNe2sxwA0zcdOqam5raZacld1/gB/jJk+P/jrPfCXx9Hl+lxfEE9fDOeUJHHAxJC5eQ2Add7N/vi1b4i6g/A0EiLY9V1UKDajAGnzBfRhMqEk7NKUlVmKDdmD7nSd9iOCNhjtLpBJ/ST3H8LmdGrqpscBWMLHKCZQDG6jZSSSd25w4LjDQLbFIWTdNbKkEgrZsyAK4f5gPVR8+4qr98B4g6Tbr+r+kAvSZLJ58y5OQM6ykuWUlZFAF6la9yPOKNqtja62ktuuQP8VX4F/CXx58HS9Q651fK9O650dHHTOsyRsryFiCI5aJUrvqFkVRa8aq1pYQT/CXSf1MzuvgV8U/Dk3QM5n8tG5zeXyrdsdQRCqSg7hlqxRv7748xh04wrU/OOqwidGOp431MQRH6L3PJPF+B9MOTe+FeIU3pcLSxZmMa3zGpXREFl1U6G9J5rmgcQrHQecqtMBW3XZZcrmpcnCsbFI1jaVYwSQKo2QSN97+p3xGgzUCZRFhdY9kDrzEMOh5S8gSnYhAXOkXpsCr9sUeIbIQJsthN8P5PLjMIqduZiyOEJplSgtAj1Anbbk+McTqp0lTaTN4hHTIwxxTJGis0KCQrRFutKfoK522vCCo45wmJ5qaWBVVUkmNbSMC62K7MD6uff3wXGVmsgzsso+Hs9Emch7rF1gFFpHJW3sJY2AO/k44+IBIhdvCv0uBXXvwJ8cRuOz+aLRwxrHI6JZeQckVWwJqx9Pvjxa9I6SF9bw3E6gu0/gH4gy5IJjV5Je2cuQvoUAajsbKeCaPOxF44K7piMr1KtLXTtZdBQdRXtRgmORXtWWQLQjc2oIJ38i73xJwqNeCCvEfw5BhcFf4wviteg5PovRenqIuofEcskk5Qq4hy+Xf0IE3Ks93/O+PV4T/ALji7ZdtSr4dENi65T6f1Ho2d6TlIp+hZmXrLajkZMlD/wDJmQerXe1m1FWfpjtNR0gCwXEzh2kGP1K++Mvxk+J/w7+AOsfD/wAQdOm6Zm/iKOTLdOyObFZhI2rWZUA0gGwRuTd46uG4U8RUD9gub4nx/h0RTeLr5xQyvPO8gqNpXJYXSkn1D9t+Me8+y+QbJWxOiNKpVCx+QAedVmx78/T3x5fEOXfSbss7yTpIokZpDpIRIqIJYCzp3IC1/bxjyqshdNMSZCzLpUkqsrQK3cJ1SpExUmwd72I33IrHnVHZld9O98brJxnFeBY5DrDoQwDpZ0BADS0OLFk8fXHOQZsruJaImO++wqts3mZJII4opGiiYkxsb8NRa+dq98EjmswyfX7dypjTs0kWWcoJpWVVaRtIUmrut7v2/wBcM0yVi4DGO+f8Km+M3hgyP5ZpEaRgF7qMzWpbfg3v/wCDxitMGcYTgFwk99/lVnRurZbp2QihOqbNzMGUcnzzR53POKux7rkeZgbrLOrddyWXycss8p7ihnEApiC29MfSTuP7YmAZ75KzHQL/AC7v3dUX4dxy5vPNnZkaTL94FnulNH6n3/3xUmSuaqbF2JP7b5jf5dFu/rYhkkhWJfTGwjjQUQqVxtzzubxnPIsb/v3hRYzxCCO/f2/Cpeq5GIRpGZTrUB3GsGwKsBePH/e8T1WXW2iJl2OnqvdOyPemiAJk7zBVLEafV5UeN/8AzfGuDHf0VvLlb1+EPgTN5zMxvHEO1qCK6iwCavwAeb3xFwOL9/ldDLNnbE79842XWHwp8G5rqMmUybRrHHGaJNWXC6WpdnG7+KGH8G4tfuO/quJ/EGnc4jou/fgb4Ry/QOjZeOSAfm9A1zE2TSgEAEekEi6/f6D3fhfwRlWmalRubj69yfqvl/iXHmq+Gny8uvPqeqrOqyp/xKaKWoxLIFZXZ62YDUNJ2oVZ2NCrx8Z8TfFR0ZkjvK9DhWHwgReB0+V/5zMKCZcq0mT7cgSZYXQmmKyGIKWUiiSQxazsBzvjfD/iLuHeHN/j3Rq8O5zXSNx7TMfi11Z5LN5d3ZUuOUXrjJIaMf8ASQKAIJojn64/UOA4+lxbQ5hXnPa5pgqy7AFC/wBLfthbB1VvfvXj98dJc0va04mUkyn9olC1FHawkp302L1BjwLBH+uC54gkCLpDdDETsxA0gMNIXmj9BvvR98Zlze/L+U4sERICTYjUbUG/6CdyCRuL4xQB+QgSjyR0NN2dqaqsjzp4HtWJveGm7p9rLNKWKJwWJ9Gm/V4PNm+efbFdTtU7IPdhImXPpI1hWH9XzfufbziQECw35o6wnLAKa2Le54I8Wv74YuhuP6QJRCqimNKNf9e3mthhRVLSCB+6U3svEFb1BQqaiQPmY+y1vth6j4OofJALxiFmRr1Uutl2ocaf2GCw31XQK8yBrWyVJBF8KAfc+PtgktIIGSUQk7LaQ6srqSFpTpArcE3zY3wCHARaEA66cI0JZj6pAaLH3G5IB81gUnTJTSmNekBR3GrUQBQJNc+bN3WELx1KESvCCNmDKxU0WWgQQDzR++Ga0ZujqiyaIip2J10qkDzXvXv9sZznNGo/17JkhijF6ShZDuauwRpXxxibHtY0XBhLK92gpLKQSG0hfmBB2I9gOeMPIzumlKYUYsfSv/UF4UfYcHxgeI0zFiM+qXVsmHLq9SL6HYgiwSSQQRf784ZgabozFkpy4UbgadiQGoAb3sf9cNIGFplDeBta2Sh9JYnbjmth7DEKj5AtdMCvCNFUCT1C6lsj6iyBth2veDBRTjl1AIrYKLVdwPAN3zxihfB0nA5JQUHskbogUkAgtfpK7bWLHA3xOC4nCJK8+XUn1SaI0OoH2498ZogXQ1QmGHUxKLYPySA2GN37kV/rgio0uumBS/lPSwVaAX5CLA9tq/nBadInXb6I6gUnYVZdYjGoiwfBIG258CqFjGc7cLNNroJjlN6VBDAjUzAhSK248/2xn1iQIymlqN2lWUaqa/8A9OMWNxXHnGeQ3OTyS6k2SIKooaTIAdV1ZuwOP7HDD9MSiDdNlyxa2okGwz7UD/Sf7bfXCPlri0Wsm1wkJBpvKnQdR3JPA/8ABiQqB2NrJSIXnhIb1EmNmOoVwoH05vbD+I4NP/jvz9kQ9IYyHbQoUEBaB3ALVVHfb+RhGExEYRleMKuFddKol7P6h7Eij/rgGtAJ5f0trQGy7adNlS41M6rZ3PAvf/XCt8g07/dEOlMEChl7S+piGLGyao+9H3vAJvHNMvjNkcuVIlYEP8hRVA/SCgHcLdHc8/fHvHiHBnlI622XjNpAiVlWSybSDTpkOqMqI5Y/cX6g3FiiMczHF79MWHtZXDbSVkmSyuqSWSZbEg1pKCpDFj4WrDkg+f74q4aXaSbGYVAzyy1ZJkMtImosrI7HcrFpA0knSxVuRzdC8BlYU5BP0ThkCSsgiy0AaVo10pP8shsxspIDMxX/AM8Ygamo6mkXx7fZVDLALK8isjQIuvXqvTIKVgbIIY3t9Dzh21tIh5k7ImnLuiuocvmZUgKRrONVqaHoIJ1KRQJ4vx++J1ZOkDmZPrsqt0gK9SNHWKVYiJgL0qwZdB2vgXR98aoajmhx/V+EoAxsVcxRIhiMmtgkWhIz7O1lyAAQNuCTV7YL6rQA6JU9JmArmGBWRV0GASFQXHpK6hsxOxJ3B9/fCveDvi/zTaICu8vHoc2NaoGZJCAlDkkAH9x7+MEFz6sHYIEANhWMC0qvK8UlACwLClron29t9tsCc6zFrFTLRMIOa6T0L4k6eem9b6bB1rp2d1CaPMxiSNtiDRbgkbVfHnDNqkwJ1NiFnU74XLfx3/gh/Bf4yeebpuSzHwtnWhIP5JwIi71p9LcWRteFqUmG3yQIO65o+KP/AO25/wAN6f17rEf4iRJkum5TMZpYJYKOiEFkDFW2LAYHDcMHu0vqAHlH0UalQtb5RdfK3qXw7LlZ54YwpjyssiySHcFEJFljsLAuucTc3S4tF4TMeCJO6yX8K/gnov4gfGmQ+Fuu/FeV+DYuoQy/k+rZ6xB+aQExxuw4Eh21cDEjW8NzQd1VwAYXBYv1jpJ6J1TqfS1nTMPkpmg7kIGgsrEagbuiKonHQ4NpuMGZUaT/ABGh3NE6Zm2hmYyPqjkU+r5/V55usc7zaSquZK7A/wAL/wCDH/8AO/47XpQ+IMv8NZXoUa5/MuW0ZqYREf8A7ZWrdbvbjHDXdLm0wQJMSV1cL5JeLwvvzkcqMjkYMqM0Zj0/LRZZZX9TMUQAagSaNe3vvj026G2M+Uwf4H5XM4S6TurFItKxxuwRZadY9VBdwSdtwPP1wdZnSRY7yg4ibI/ak0laCsRpaR6JpbBIJU2Dh2u0uCQ2WDfFGYl6bnoczDl81mMhEQs8eSGpgxOxrzV8DnCmBAAuumiNTb5XLn4nZbrPxtOeot0rrHWejdNkkfLfDskC5aHOSCxEZkb1advUeSLAAvC6yXGRABv8kzqUC0T6r5+9R/w1fiL8d9XzwfpuXyfTEkfPT/lwYstS7qIxsIxHZoXZHvjlqNNSA1pIChR4cglxyuavxs/Cz4c+EvifLL8CZyTrfRsxlMtLmkkX1wZ1lrMRURelWU1z9b5wxcG+UmCFm67tPNV34DfgN8W/jV8d5HoPRcnPDkoYpZeq9bdWjy8ICkC5WWgS1KB5vj+rHNWeakMZzgu5LqaPCa52eiovin4Z/wCDdY638N9SzEGb6h0DNTZCTO5Nu53GQmN/UNnU6diNt9vfC1G/8fyNMp58TzLHpOg5MRjMZZ2yObXR2Hen3oaLPIPn2vjjCNrPFilDQVMyWYFCOadpswip33chCzbLSk3tvs12eTviVQElDwxNlaOsEkKRBRpAPZIPq4uyyek3vvjm1Bx5IFVsqNB+kUKIHUJN6NQfmj4Ao3YxRszZULhPRRl70CE7oS4kjUkMSVcqzNex9I9qN++A6CSqAyZGy2B8KfEmayOdjaKQg5UsyERssZBBACmz59j9McVWjey9Pg67gZXc/wCFfx8s2XiSBkSaQLG8At1JAtqsG73ujx/OPJ4qkxsnkvr+Er+KIOQut/h/qc+ZXLzTMzntr3FK+pW4JZQCovk/z9/OcJdJ5K9dojTun/EfRvhfrc0E3VelZPqM2TXvZWTMRLIINr1FNh6itUB/bF6L9JgGyiymbagqDpfQfhDoM03V8/0jI5CHt6GmjjCqw3ZCG22PNkcbE4o9ziIJXQ0udZkD2Xy6/wAc/wAZ9F+Jvi74eh6OQyZLK/qvoCkgn06iNiaH+2PqPgLHikS7dfCf5IAKjWnIF1xj0+LWU/SCiwa4vztxfF49Kq6F4tNsrYmVhK5cMvrRgVYt81eQOCKAN0Djx6zhK9GmyNrLPOkzsuZiAhMpU6ZCxK8tsFHNb+xv6Y8qpf0Xo0BODf5d7dwsvIBTLxwOS80thw1hrINDUCaIb24PqxBrZ+So+AB33Ky3L9JcwzmVWEqsAI6olmG2ktpJ9VbD+2JvYbR1VWlpsT3/AB2FAm6cwYawkOZjOolbTSK3H3INeo/SrxIPIHQ+6oxgDcCVhnVspPBJHmGk7rhSYQh2BUUNZGoXvQA9jXtijHa7J30pGnu2/wDH7KozGXz2emRZJdeULgiIE2ysWBBbf2BGKTuFzPY7nYd9/NSYcl+WvN/l2aPLPoilPrCqBvsd/bcDxhx5rOU6dPW9Y1L3updRfNZyQ/lqKlDaCvHliAFPvh2QBAyjJFxPy/gLavwhKmTR8rBvFHRl3JLtq3UbE0f/ADfCl4Nyud48sRHfNZwOrQ5iWbXNrTa2LVdVp2b61tXtWJTMBXYIF/z6funxZtep5mOTSzpaw2SNKiiPUQVI2HnxgU8+qd4htu/Ts/Nbp+GvhiM57INoC5d3Vlcgn0kA+PHj/tjoZR1TN1zF8xHyxmO+a7M+B/hVZWDxuViMT0zaojLSkjxsRtZvijti7KJJFrb9O/3XWeIIEg99+9vn17+G/wAEZJMrl85JFqkykgVQS2m01AjSxBoFrUkcXR3x6nC/DvFfje/07K8H4jxxYNAJM99evv0W9MxIuXy00pJCwxsx+yi8fR8SRQoOgxAt+F87TaXvA5laQzHVcwZs0/5tnRbqCRWZyrMBqUUQRQuiNyON8fjPF1Q+rffPv3C+0p8K3S0afcY9PXryKiz5uRUmlJC+slpwQ5Um2AFlgNNkkfvjzqkMdZVp0gSB9MdOmf4QMn16ODO/kge5Kro2YkZiXcNGAtkgamoW1fvj3vgPxU8NUAP6SbqPG/DnPp+ILZgR1M+3JbShZZYoXJUBFIe+CBQIBr74/Umhrmhw2n6r5mcwpGvYIHZQLZCd9QPt9N8OHFxg4WhOFOa9rCpVWPNX/qMEEkk8kcJQRYcmwRsWrfVv9ffa8O2xucpCLJKIMhog6gSSQf8AuOMTEEmcSmnATSwte4NIBpWJJBJG2/2H2w5LSclFGCGl4YkVpG1netzthbCUhchmgY/SSy/NvtuPI84QPgZBWT+45I9AQ+XcgD7C/vxeHJOoEbLWCbsrBtmYi0P9jX8YZohpcedvdMLprOVANEM+7kepd9vHtzjF3+v1QhICQSDR1tfvp9xdn2wrXabEWTJf0rLVrbTZvcX525rfxijg2JJ9AkhyfHMRVUd6BagdVcYFK0asLFpTHYKSukFdyBzZFUPGM8idgmCF6wFevSws3Yok3dHAeYa0g4P3QkbpyyAuxaUCQEkDkcbedsGHAmbymIsm7kt+kV0qAxJNje629q2xNwa4G1wsn60YkWpYUUrcKDtWC1oIvlFeBCNxoVjrsCzY32G/j/fCGQLi0yUF7WAiByGTd1Kg0QOCRzzjAkC+CZCASuTuChYudyKK0Nyb2/jGcGyB81hZISFCUSyrXq3PzXt5P3rBuP1eyKX1Atq3DnV2wNqI48c/XDumASskVtbkMSTVqALH3FWOKwmovcUMIblgSAmqlsDzseavg84m42RCTUziPSQvvHXrI+lePY4YmYMooqJpkD6SneG5HDAAnz/5zipAEdUjnW9E91sKi0g23Ht5AwCC4RAhGYXni31Dck/ORWwIP2OFYdVtkA4pnaHqrSFs2xO4e7IPjbxhvLjbn1W1c17t8k880fA80KwzWgA68oyUIJrIRlIVFBEhNg70KN7bYmapDgCNoW2ncp4RVUk7KeVbljZoCtvHthBqaYBnqfsjJQjGW1AvGSH1odNkMNrH99+cYCpzA9kSQvdlyVDWNBuwa2248Aj2wx1BrRY3klHUhKulmNaptBoXfpJq6NAb+BhQdFgbrShlFBLRr6ytyAgiwRVf3xB5G+CileIAC1ZixWyBuBVfWvtgsBBiZ5JgUN2eIRvYWW/1GANi73/c81h6lMbG5RBBzhfKnKfCjBO8sDxtlvmXRsrUTTbge2xvF38aPSOkK/gNJiFleS+GszKscOaiYgarmKg6QWq9+Cvk8+RhzxMgGbIeAJ6K/wAp8JyER2FYxbjMx6mCqzC2uxa/YHAY+T/8bzzlU8IBZBl/h5wJJctC0K2CyodQZByBYOoG75++HdxUCTdZlIRdXUfQXDgIkXb4KigqKhuipFD7nnCP4kBpAhYswPqrLL9GlUKBDqKA2733Frlj4Njn2/nExWaGixKUZhXMXTw9ONbpI4DR1p0qQPmI43oXveHlrjZKBeDZXEXS3Eh0CVVk+eMiwp521cD33xSdJ8pWLtQR4OnSF9CKVYAaozq9NHZdW2xN7VgBzap8vusXDkruDprrIysjO+XW6ZVIJ3NcfQ/vhXuAJF9kpIIVlHk5E0g+osh0i9LKPYtsb3+231xVtUPeHdEhEqySHMZMHdwqsFfXT1qA3Hsf23wvieFMxfY3Qc3VdqsIYH0lNHba2ZdQ3VgSb3sVZ5+uGpHdITdFTLuCp0MhlTQi7MOLJo3X0vnnAaXgp5bEI35PL5qFoM1l1myc6PDmcswsEMKKkn5sdIcGeYgLnfey/Pf/AIsPwyf8IvxW650nIiQ5HqTNn+mS/MFimtiqmt9PH7YnxlPSRUFg/ChTDXEsOB9VzC+VTOZc53LKkk+XFtCdYJ07AgLQ3HNG8ef4pJ0uwVZoc0xtyVAITbEguxolvNffyAOLxd+L+3onYMdF03+Df+Hbr/4x/Bvx18TfC+agl6l8DiF26JTGXMxzAk9sC6Ybnfbn6Y5KZLqpbIsJyr1GOawOyCYWF/DnWvif8NvinL9TyOZzHQOvdGnHbkI0sjp/Q6gUR7g4HE8OypZ4g7eq3C1nU/MzHJfc/wDw2/4mfh38aelwZDqjR9J+Penx/wD+T6aAscebCgXmIgTueSfbE6HEljhTq2efqqV6OthqUv08twV1ZUaySKzojDSxlW7J5Gkea2x6hDdlyBpgSjalLLKAWdiQ4awoq+GJP1P14wlMtDrrFshSIipWQvquE6ZQAG3sEEj2AwWU3EXSXgEYUafp2WzDBDHGW1AWzber+ogHaxt7466lUh3lIvssCosvw/0LNRSRy5ICGUgGKFhHr0DZSFpd78/TCSwy3fkCj4r5ysHy34J/hNleoSdTy/wB0t+oZxShnzMesqGPqZQxOkPdMautrxzFtOcCd5290fFqOwcfVfOT/Fz/AInPg38M4s3+GH4Fp0yHrvT8pN0r4gz/AE+AR5fId1qzEcQUfqSuLVmv0ng3gucx0eHYAza30VGggQTlfF0dTzv/ABIvDJLHLMzBhINTHVxuxtr35xz1qTamVSSwLYWU6rms0rfmtDZhQxpEOoll0B3JNKFI23+vtjzqjdOFXWHQYS9tZrlDxl0I/LMusESEksea2FnYXY+uJh9kwsVYwBXY9ySqrvIaY76aIAG4+vn7YjUAd0QJPJSmiVtQEKwqFKvBuFdNqUiiQB71xgMdaECIVZmZtKBJAU0ACYLqJPk7t9TyP3xYO6ItF1L6G4WSjKypMwV4WULQojd7q9zyMQ4n9Nl20m3wulPgHP5rpPVJMxNmkGXIjaOEKTmIn0t3Wv8A6ZBpoeG42NY8msxpX0PBvLQbrr74b+M0zk2Qy8c6p3nd4nLAMNgzLZLagoNe/wDY485w1EkBe/SrCoLhXvx51z4gg/J5XpPSZJDn0L5vqLEJDGQABRTduDd37Yei1hEzhWJItKJ8KQv1NFg+KOtwoVVhmVj19tFKmo4xbAXW5u75xRzm69K6W/olokr5n/4zJPhB/wAQsnlvheZXOSgMPUGU6hrRiCdrA/bH1PwZpFEr87/yY/8AfAOQLrmTp0SqAQ36oJAPnkVZq/6hjormV4lOyzbpfcdUjkYNGtBGZiNiR5BP23+uPIrmV6FJxIWwukZBZuw1jUZAY5GorpojUoFkXybPP9/Mqfq5r0KbtLYHVb8+HvhuCXLI9q86sIpWYuG1uIwo0BuLNfb3xg0+3fTki+puLnvvsrauU+C3OWWXMRh4GgWOJFOonSAtgCjqIANAnb6Yu6lLfKhrEgkW9vv+P2WC9X+H5IXeLsmRI5E7kbijW+1XQJN0CPpzjz6rYOFdlRrTkdfVYP1HpiZeApIgBomON2vQQPGoWQTvt7XtjlkzIyr+LYkd97fla9ny2c7oZ2ASJ9PbCjYVY0rW1edP+XNGvHff3WNUdnvu69mYyYDl1kMZf1sYz82+6+5O++/GHZUPqlYReMnsZVSmRahYHYB1qrbkEm+eON9xjoEkoQD39fv9ledF6bmlkloOikFNBS2rfaySRRB9ucF7JFrrjqAGxx1+qy7J/Ds8mkONTOO4WYWCp8sCeK+g/wBMHQG57/Pfzp4gAt6b9j13+S3l8IfB5ZdJTsxJEFSULfpv0rpB8n2xVtPmPqjVggAx7+2I6LqH4L+BpeqTZPMfl1y6Zf8A5glcFWABsEnT7itR3x002gCJN15r6r3mCB6enpv6j+euugdCXpKwouWEsSlfy6reqUgHTQVroWfpi7R5oBzb699d7pmVdDTkEDvHpyvhdQ/D+VXLdPg0JGjMoZxHprUa1bqa5v3/AHx9Hw1NzOp+3rja6+b4yr4jyZlH68WPSc+qP22MDU1X44rzfG2OX49WjhXDnG/X7d80OBH/AHm+q5o6hnRlmlje1kibSwjOlwtBhdqRvxxfJ+mPx4eZxIK/R+Ho6gCMd9/JYkfiwPPJlclmHzk6+lFKGQq8gI3objc2CtCvYUOPiXXgDv6L0RwLCJdaImPp6esrIIem9TzcS9RyGR0z2ZppBIylmJLPIisNLfLZFnxhKL3MIMLhq16VM+G42xt6QY9ei2r0PPjKxRZOcvCyxRaJZKZXJAB0sCQdzv8A98fqP+NfFxxFHwn/AKhjqF8Xx9DTULhgk+yy8y/KdUcYja2BA9QPOk2Ku+T9RWPq2O1AkmIXDpT/AMwhXS5F3tVrRJNVzV7fvgPI05F+qIal7w0UE0HhX2OrbkE7bf8ArAp6S2CVtKUM4IctqWrWxfqFb15wYMA/6raQkMqMRq3UsKU3ZWvNixVfxhxe2eSGmMJ6zkWEYVZvY+N6I3G139cGk5wtmECwG5SmVEh1OaTcDYHYHwK43rGbU0gkgLRdK0ihmTuKWOwPJB9jfNjjbxhX6pDcA3HshCXurrcFyHoMqqDfsRvseMO+CYmJj6LYQ2ljUqB6kUkM7EWm177nfxjPFp2nKZokJgZQ5d1GhyfPPAW78m8ILnojBRb1EhBRoAkjYkH62CfOHqDAi6WISBu6uhwGJBFGrsnY8DxiLqhP6jhaCMJ4VeFVWQgEajZNG/J8Y6KerLYjqjfdDsKmu13GoAHa6NgkHgb+MJcm8QbrQvUqkRhgLH6akbL+/wDvipJ0iLlAFJHuaXUmoEaL5C7ngng4i5xi1iiUQ07q6MRoscAnb38e/th3eYzOAkmLJ5WltlYoo9TGqBH9XN3hGnXm4TJgjJ09sldVUPcHfcXeEEEAA2WJhPojVRtRpNEcEUbJJ+uHvMpdScyqQjv8ooAk1ZIJ2A455xNzpiSlmV5loejcmgxOoEsRY3PgYao6HQ35o6klOa9dqxDBh525P74wLiLFYlNdGZntC3gL715HG/0ONcmc9EwIAXu27MNKkAblbA2I3H3s4LhuLLSAvBZRGaJVz/yxsdgKqjd7YVw1evNGRKeoBYmMEh7bxz7V/tg2vpN3ZSulIyH06hoZmAKD5b52A4w1Sms0hLoeQ6NALLRZK4B8225usLOGtQJCZThRV+oCmOxv6XeGqN2yU0hOZXCxobLKabzqHJ4uqGEczVDdx9VgRJSuhDxLpU6QtL9ztxf3GFe9usdEocCJRRlSWoKWHyhaAAHsQPbGfUl0i6XxEP8ALNqrTor00pINb+BtgubNyn1qXHlCak3YmydQ3o/Tj+cICNOoC6gX7IKZBC5Z1DKP6SK3BtSAPriVOpObwE5q2Tn6er3yCKJIHkWdjeGa6PMPkh4t0kfTgXLPqFkkIlAC/wDTGLjUIcsasYXDGS6ElacxAznUUeGQ6xsdIWgNqqwSMcNSvjUbL6LTGFlGR6Gj630akBDK9EURqU1QHIPIH7jGfxAcwtCWwysjyvQYz2UEUlkejUCuokDSN79wcJSqOY2JsYUKjg72VjH8OxSF2SNonj1DvR7AFTYC1dXvtxtjM4nxCRGEfFiFe5foIdApRWCpdKh5Jsi1oV+2LCsSOqk5wRx8NwWNEWvunTIwF9veyFXzR8/SsBnEFnNIagBurRPhuIRoGi0CQUBupBA8Nd/fFjxIsTgpTWvKs4vhwLZddaKyhXVbGj21Cj43vAbXcHEDGyR9VtipsHwzECP00UBjZ021E3fnj6YZtU64bbmpGurWDoEYAj3BAKuOV97vnkY3jHUQCQpmuijoGXUppQqB6iCATb88Bd9sN4wbsgOJUlehZVPS8YYNRVK5A4tr8HfB8QADqpurz0UodDywcFE9YqjuB9fO2KNJcQBne8JRWIRF6PENtAVdQtdr0jgWMU8TY/dL4hQJ+ij8vM0EUcucCs+USQ1HrO4BIBqz5rGAnO+FhVMjkvzif4uvin8Svif8U+tQ/iPk4+mdV6I7ZLJ9Ky8VRwwqTo0MPm9JvUffDvrkw07LtbTa4yMLkWNHy8zxxyNIps7bK2xvURzidnKlWXXWffh9+FvxR+JnV/8AgnwZko+pdaMbzw9K7qJI6qbKxhyAWHtiXEcSymWyTBt8kKTDOJ/C+yX+BD/D58ffhJ0/42+Ifjjok/Qs91/8tkcr0mYq8hihLEs9Gh6iBV+OLxDhtRqF5EDBJCvxLmNphgdq3W0fx2/wcfA/4u5fN9X6blV+HPjJlL5bqMSfpTsATokS1AJNUax6j9Dxcyea4H1DkGPRfHD4s+CvxE/Ab44OX6lBmegdY6VP3ekZ6B2jEiowKyxOLVgQeL9/O2OGvQD2lrrzjn811MraHhwHr19V9dP8LH+J/pn4v9Lh+GfirM5bJ/iH02IBkrRHn0JrvQ3tqAI1Ld3vxifC8RoIp1fbvddNakKoL6XuF2ObDOtlShIJcVbC9V2Dfj7Y9GSJnGB6rhBtPNSFRQWcMWZ6Ek2xcaKAUe+/3xSmIEk3KBFwE4ijKwjDlhbVsBuCeK2N+cTZAEHzT9FnCUa21tKY00PuztttzvdAVwTWLUWgEhoHzSaThfLb/Gz/AI04vhCLqX4O/hl1JZviJohD8X/FWVk0/lVckPlMqy/M9AhmB2HG+I1Xg+UCFWm3wxq/22Xw76v1Rs5mJp3llmbMvqfW7Meb5PnVyTziX0BTU5i6psibzeVEi6lWZa7RIF6rADe9kecEwAjU/SVtbLRnUhV2jYMTpQ7jjURWm9jueMebU8xskpPMKZIbLzxxr33bdxslWAbssBZ3vije2InTOV1t8yC88jtIsjgzrHbHcFl23JHmvGFc3bKZjQLlWAkaaOXMOBJIv6cg1aAxuwq77EC7+2+Fc2crEACN1BzUSK0wXVOdO6yACgLIAY2tWa5+30o3rhZsDOUPo3Ue1mG1kSFQAoQb6gQbttiPv/thOIpyIXVSIkdVubLfEQJ0R5mBFkjQKFNBWXca631EXdijdjfHmOovlemK0LoL8MOu5WXPL1LMnVl4FAlQSsqlFALek6SRY554PjHJXjcfJe5wFYEi6646l1/JfE0GWkyDPEkUaMApCo7gcjt+onYArX1O2PPZqaZ02Xp2aTe5RV+C55Ol9TzuXlVpliZkWVXdg5QkuaJ1E2DV884sKoLwYsf/ANVnVi0RFyvhf+IfTer5D426zkOuTjN57JTGGabU7KdNXu6qa/YY+44UgUhC/NfidRz+IcX5lA6dAKj9BqXag12CaYij9a5/vjmrlRpHks46ZkxpEaRBJCyldZIOrcgjixXG3OPJqHcFehSjvu6y7pv5pcx+spkhicBFkIDgencHe7u9z5xx6wMLu8Mzc99/0uk/gbNB/wAnlsxlS6F1LFmDb8qzBdSm9QO1152rHTTIC5qjTI777uuoOmvBncqqRqurLSk92Mn1Oy0toSo5jJNH29sdJa2B6d33z9/ZHPIIbG9/2yofUei9OzUpnRlYuDSgWdyKLH5fVV8V/YY5K1IvJO3eLqlLiBMnHT25Hl8votH/ABP8LvKSsKN3heqMrpYndgFIuuf9ffHCeFgm8hd5JsCTnv7/ALrWc3RM7HLMZcs7MAFLsB8pPvvzXv8A2xF1Cwt37fskjmbY+3svP0KBkQflmjZATGT6gSGB9KkVvexGIBpDo593TPFpn17zb9kSHoCAojKZDGdQawqjyd96JHg466TJ91zOcQYPfosrg6NFC4dotelENKAoUNWolVFVvyODvjvpUvKLdhFtUE5729ysm6d0t5GaFgVDhDoFGggNkmz6r8fttizKDe+q5jVi5vF++/qty/DjRquWZY6WFKVVbSKIKn+QK8cVvigphwjfvvohVrwIm23rHUd81v74WMmRbKGZgkOWVe2ZCBHbEilBUE2QVO3sPfHQ2jqB0zffv5hcrHPJnIHTvuy6Q+F5hmMrMs+XafJxE6s0vrcKxAC6S1G6rxz4xek0h0zEXja09i+y3FVC91xNrXN98gbHsWC6C6bnoYMll4jMWfSqhHIbSWFhSy0OAR/l7Y7K3FeCyefy+/fReVVoue4uj5dlan/ET8TYem5WfIZJCZpx24pWXWdtyQFNAccnVzt5x8d8R+JOq1NANhGe/f1Xu/DfhQZpqVDPQc+/bqtf9Ajjz5ys/U/y4zmZCyHKxISqLY0qR53Wx4+uwx8zWLQSQe+56r6evVexpDZt1776LM16H0ZsqsOVhEObRGXuqCFJVVYPbMDspAvgN9Ccec6JJAC848bXD5cZby+YjHO/OFexRMoeNc20LxRuixQsrtQI0qESjv40/fVyMRP6lwueDfTMkZt7yfz8sKBo7UixBoslmFbts2p1clb0J6lK6DpGy1QPjHTwPFu4aqHiRvKeq3xWHJGdo6m156nK2B0mN8zGyP8A8xDoZXFUQ1Em7uq2x+wfD+Pp8XRD4B1fRfM1Xlhgq0fpkyH0sXutPtdb+9Y7HxOBfokbxAQW6dmdbEsIVHpse13sK84Zj2mxEFOK4he/KZi+G29RXhSdzt5BHsf3xUPA8pwlNUKP+Tzd2VJZbO1UQfG10Mc9Coc8iU/itCGMtIdTsGVb9BW/vyKP+d4tSAfMWJTCqF4pMth9TMUttJq/qSFq6+mHLWsMG4/KHiBCJlDgKT+nfdRPUKI9+dvGFLNTtQOFQXF/ZCV8xpvkqxEjbHYmwTe3n+cHWYB5IkBP/wDklwbMhLAhhwy+dXHBGKEExcISEwGdG2iLWy2inewfvx53+2FAa3KYwUozM0h0CNnEf/TQoUdt6N78g1++GINRLoHNHaZ1YBgbe9Sg7i+CSRsKvfCuAdYCywCGJpyGVVsD/wDUsht7qx4/c7jBEmzRb1WgbrwkfZaDFxS2Cte/qHH2OE8gkEW73Qchh8w1UGdCeQPVQ43FeDgu0kdEsgWm6KjzEIyQtbUuseAPNHnbCgxhAmUZZpF5S42srFp3N/Ynnk4am25GyBaMynpK6CxGCsVgUbJFcDn63ZxN50YS6gjhpARqQuwNuUA1E0SCoBH/AGwS3VBmECQUbdw9Rbad3Jqt+Oefezg6gZvZKbbopMw0itt9+NJ9vJr6nEy7Q295OOXVAQnrG5UgnWPUdRNkajwLva9q9sAEC/zQlSYcvMCdQ53AFAf298I0vdYYSueISnKuxB1V/wBSgDcXYo/T64Ylxbi/3SioFIaAMFGwKgAEeD5secVc+QAkDynDLIoJUWbsjCNaWtOnKPiFJHAoqxVcAeOa/wA8GmdV4hAuKXsKSNQuwV8DbAawkgnKGshNXLXYY/KQQQT4wzWEzeE3iKL+R022tpNiADuBZPAAG1GsIzyw65iyYPUhMv4O18nkn6G/bANzZAvSTRGwYwQw4b23wrzpdBFitTda6LEgUKFQoBxwPPG2HbANmlTdc5XnhC/LvpvQpOA9gaSPkmaUcLpFeBhg0tEJcoTqQG0iydzjjczTIGd/RMlUoTW+oeDh2aMbrJ9Cx7+cUsCFlxjlGyoD6mClzrkkc3pqiPFgGgNj9vOPBcBUbfdfUH9VllOWbIgEysqqAFM4aMCyeCbF3/OKeE1sg8goi+VfQSwgiaZisaGwDqJU7KdjQ5O2A6Q2Ttj8KbxyV2HyqqQzLe1AGjvVE0ALwGw0kl0kgYG6kGlWkb5aNY2bSziyI03BYG6HHnjzioilOs+b6Kbmkq0hmhTSC/cJP6d0dKk39NwTXH98Foc0HXvyUdKmxGKnRHHA1O3po2NNXV81hWQ0OAuIET+EhCsIXg7Y4AUAke3vTEj3oVitEECSVJwkwjiWMkAsEIo0FC1v9vJxvFkx9UvhqYSgLM1Ky7aSCduOcdAZr8xdEfNScIR3ljCmms+V2Jv6XhnPa3Ds8whpXlmGlrFlNi7bA/bDCNMx30WLSjo0RNL6SwsG9iOf9cWplhJAEE80IK8HjFg7FRbbGhWGaGi0fJLCYZ49rNXsh339h98AvkwUwauS/wDEL/hS+C/8QPWvhnrfUc0/Rs70+RYutZvL6RLmsgCDoGobMDsCRxhns1YXTQrhgIdthcE/jt//AG8OvQ/GkUv4L5aHMfCeeyyyPBn8zU2XnjQ9wFioDBqtfvhnMLQABM+yrSqh46rhiDp/4jfgT8e5DMyZPO/C/wAV/CudMuUnK6Qe2+kqr6aYNRG22OPiadtLgWkXBnf0V6VfwX6tsEbEH7r73f4fP8Rfw5+OvwZFnBPFlPi/paIvxN0DUocTBQe7Etm42O4NfQ4hT4t8/wDHrGCL6s6/b8IcTwYYfEpXp/UdFvuXPRFnVqV/SCRyCKv6V/nj0hqaDYLk8KVpT8a/wg+D/wAbfhfMdC+JcvDD1SBXbo/VRGFlhlbgMQAdJPgYs3U8bCFZoLF8K/j34C+Pf8PP4hxQ5r8103PdNlE3w71nLalSaOwY2Vqog+QecclekypOrO3quqnVdSI0+/KF9of8O34yr+MX4c9K69mzFJ13If8Axev5ZAukTqdPcA8a/wCMLwlVxZofdzT3CfiKbdQfTsHLf0cqpbDXGBpVy1jSRwQTv7cY9AANEtyMz+Fzwd4R3ndiom1Ky3+oNgw86t9iN8Uc5ui1ikbJJAXzR/xcf46Phz4J6P1v4E/C/NJ1j4umjfKdS+Jkf/42Q1imWEjeSUbixsPrjmqOA9UxHhmclfBbqvXMx1CabMTZk5ubNP3JJJye+72SzOxJPqO4I5/tibXc0ZOTlUseYZ1kfT2xsrizpAJNgWd6H1r6YqwC8oAkK16a4gzkLFwV1KYmWmXnbzXDYZ4Gm6xdNlubLSLPCpiIdQCqhrjdrU0biN0bx47xBJCnGkwi5l3MdSMZYl1RAqChAJK6tT7MK81iegBwGV1UzF+ap3kcSluAEOkWqM3/ANQKOrY7ecMI9iqKO2bIMRWUuWJYmQFrojxv891/nglvyRBjKXN5mONQhkZxCoMUJ1Cr2YgjZlIO3t7YpolBplUkvUG7plRyoi2E7fMwUcNxvR9/th/DVh5bosHV5oHa5SwLq3cclnK6th9z/wC8OeGa4SlNcloF1tP4R/EY9IzLRTZpkh2kQAsqkkndgg31A7fbzjy+L+HlxloXqcLxmgBdcfCf4qdLd42hz+VnSXRNNBGQgZpFGoABgRp+U7erYn2x5NXhHbjC96jxrXXOVvSb/EJ0X4d+HOp5zN5lMvl+3IFiJRZO5o0ABK9W5Fkn64jS4Oq86WgaSr1uNoNaXFxkNXyH+MOvN8X/ABb1zr40X1TMPMGIGwJJW96HtePrqbPCphvJfn3EP8WoXcyrToeXDsB6dETApZOo3uCCPr9KxyVnp2NWyOnZUtNHD29JhYmUgUtMSt7tVAEb0d/pjzKplehSBkLJ4OgWInWMETRgEqW1e10NhVcHbethjl0bhdzqsiStmfDOXzkRaJlkRksxRvY11srANQtdjz/YnDU4mFN9Ub/suheldVnjgyuWSJ6CKozCqzqHEenSGIO5HAI9hfgdQcSSo1DIj237n+sLJ8rnvzEXalDxrlr7TsCCAw21gtZXetv72bd04O57jko0Wb98v5/tQOrRCSZAsWoFmVKsrbMbFA7Acb7ezGrxANbEd/ynFa87LDc10wN6nlWo94fSpAPm9BIra/8AbDaW5iSe/wAKjKzsDE97flVE2QtBIFQyKQTsNQ3KkLsNjVVf/ceCJt3y77GbWJEHvv5oD5SJRsFjmZAistbeRtdkkD/X7bwgRHJSdUERHd1My2W7Q7gYH3YLVAg+dtwDfHv4x00wCeg7/ZSNUDae+91kMMeoQBQWRju17gA2GNizZ8G9v4x0RYiPz39AsHOPp/d1sHpGVly+WSSGPUkPqAI+bcLuAKIB5wxbB9fW3fouE1Gu3nschytNsLc/Q+sR5npWVilLLNq0qAbChtuAfrVfT74ZrnNO0d9yr0qgbFuXI7GPvje/v0R8G5mXpkSyRRyZ6JJUlMBIGnYmMrpWg10SPqAR7XYARc5tN/f2+991Cu4F4Bxm2ev83H5VV+Jf4st8LZaHKRlchnp5Oxlsm0fbIv0mqJ0gV73++58njqhLzeO8dfkvS4KiNMkSbYv19D3AO2nssmd6gchm8+0udz2dqc5hJFDCVyV0agSPUD9qsbb4+Q4ipqe47TyPz7/C+jpUXENk2jqL/tf26LoHonw9nZI4ZlihkJVG1ayVSRjpC6QoUbn7E+Mea5hgpeJ41lPykm3tICzhslnsognfL9+OKO+0Ed100dzqADELvsNjWFPDEZ77heSK1OodIMEnmB/V7KeuSeV45IW/WAWZEj2JezuGbV9yGJ81W5PO5nzC5zWDQQcYv2PmPfYKpz2TKyAPP28wr92KKUsEm0+k2zEs3z+qhdXVHCOANl10K0iwkRFsj8DFtphZj8MztIkGaVCsMmkMdZIDsLfZizDfwTY+mPuf8SrWcw4yvA+LU9D43/G3RbENEXx4x9y7S8SbLxcLxKganIFDcnisPa0/q+kIL3po2RQ3+mM1odI5XWTT2gpJoEbfUYADdBKJKg5jMQILeWMBiBTEb1daff8A0xmMc4yMqjQZVHJ1PK6jE0kbM9CQDj3+w5HjfFdBbm6sAoX/ABHKsbSeOgD3BQ5Hyk1gtpF2IViYTV6llrRe4CxUso9wBuL81R58YZtB5EFaZTW6nkgaDhTQXS+1nwp32xnUngRyWTl6hlmazKoBa3K77Dxvvv8AbBLXOIttP8IB4dZTY8zlX0Wyh2OoAfMCflBv3AwfDIuLSgTCko+V3LOjAiu3sTQvc1v/AHxN9IsBbk+sJS4lWkcWXfUdILad122APuNjWJ+DJMWsudz3BGEeWYFdCOSb1UD7YVp8ugCShrdzRTFGy00a0SNq22xnBxFwl1EJexCRtGhqwNh++Hc0/wBIaim9iICggVC1kDyTvicE9AjqKTtRq1hFHJJI9+cTdqb+n6rByeI0NjSK/p8jfDNaHOKxcU0GNRdIBwBXm/b98OA65gBa6A0kCnVqCm9mF8ni69/GELCRexRg7IIzmUBZA4EoF2b3A28+RjeHpbG60ORI8/lpANEyElQ18Ag/fBhzYjP2RdTcpH5zLWVEy6xyt7/timoAWylLCmLnMs+qplIHJB+9j+2JTJusGuRfzMKcyKATQJPJw4LmLaSdl4ZmBmCrIGZhY+3v/bBJm4vKERlP78JNmQCgeTttzh9Qc6TIgeiCcJI7skEcXfkYRrxMkSsk7qkhbC6vlU4zX6rYHJZLsSK8+cTiSP6WS6lYbKPb3w/i6sNx7rQkV1JokX9ManWGHLEJWYXsRY8ecGobyP5WTTKqryCSNt8IKkNjJWUSScanUkK2nZj9+Mc5fku5KgZIQjKiepnAWwVY7C/fna8TDBmY3R0FS0fUA1g2LQ+KwWP1gH/bb+UsQvnDkfi3LrPGhnBktf1WI0ouo0BXsd9+MczuGbUImy+sa8ETCyLLfGETGpn/AE5QTJMy05A4Kod7NE6tsI+jJDTjc+mFrOusoynxH3HQpMUmZb7Ttqog0C3gH7g4vT4fWbm6SoG0/NFldx/EroCNbQJWp3HqJBIo0tigDtzjnqhzHEZvsEhpCAeayHL/ABAoYs6Rl2B7kBA1AL8hrTyCBWLeA4u8wskNMRdXeX6w+pdYMcxGkRa7Lat/SRXBGx8f2wRSGsGTabKXhQp+X6yJyvqZ3FooYXpIFVuLIv7fbEm0h6wkdShWidY1CFZCBIdSunyljW4G5/msMKbzkKfhtCsx1YxjSxQRC7YUoq6Fk8E/9sNWpCm6IKkaQKnRdVfUg1AazfaU7qfIo7UBWHY2wJSeE11gpMHUO4GjB1BQHMZAKhDt532++CKUmIJU/BCOudjkC9so6AXIdi1UasWOffDsBIgYbzQNOFJXOAgaXVioFIBQrf39vfFgXOFyJSuYjjMaHOslASD3NZpRsDZsXZxKwODJ3BS6AnSOSoctShAVZlF+mq5877nF3QCJFgg0QU0iFSpBJZzyze+5o+dsYvgyLrX9ExsuhYDuSP26KLqPJ3Oon6DxhnPBIM3hbUtNfjP+BPwZ+Nnw5mejfEOTjynV8uvd6T16FQJ4JQCEYuAbXwR7YBqvqZgKjKobkSD9Oq+FfWen/iV/hh/FOWNM3mOi/EPSJmGWzUT6Ys9li2oaxpOpGX0kVtzjl4nhfE3g/wDku2hXdSda7Nxz6r7Tf4fvxr+Hfx4+DoOsZFVyHX8kEi+Ivh/X6opgvqkI50vVg4PCcQ5x8F/6mwf/AJBHi6ApgPZdrv8A9VZfjr+Mnwn+BHwrJ1v4ikXMdVz+qPoHSYz+rPKF2cg70rVfjfzjqNRoJnnYKHDt8S5NgviL+K/45/Ff429dTq/xQYWh6eoj6TkIEVY8shF6gfU2oDbc88c4hXc43Fkr6mQFvP8Awnfiu/wX+I/TOiSNo6H8TSR5HqOW1ME7j32pLAABDEUPc7c48mqTSeKk+q7OEPisNJ2Mg8jyX2d631f4d+FOg9S+I/iPqeX6T0TosD5nPZ/MACOONBqJsmia9vP1x77ZMXvlcFRztgvid/ii/wAdHVvxDyuc+Dvwumfo3wOJXiz3XIyI87ngpIQMRvGm10vN74nULtUGwXTrFP8ARcwvlF8Q56SdQSWaYyKFSU/LxbA737bjBAB3U2g+5WCmNteoDZ0s6SNRWO9qNXx74MNHVE2VhkyrE3I3bv5wfTvZoA7MKOHAlVIV7ldULxlRwaeL5gaF2RuaqxihMNUw05Wxui9Q7SFQwJZDHHxup2BIbjwef39vMq0pNijplWGYkWdVcSEN6e0PSSNVgqSfauP5xKNGU7bKMrNJFepIfQdYJtWTe1Fjna+eaw7GBO6ygvIRYfSNRYM4Gmhpq7HHNj+MUphsygJVbLPPpljZu7Jp2ZnGzBrJU7g0CRz/ADjoFPzJw4ATuqebNIqyR7KGtnF7MAAEuwdPk39cUbTugXmVXfnEYdsI47mkek2AP6vH7gjDgTZI4klN/Maj6aCqLQA0CBsK3NHfDmnZAPjdSMt1CfKnVDLIshACyI+hk03V/wA7jCuoMwRMp213i+pSs51PqeekjXM56fMiQi1d9QJu7q99vpibmNpiAIUXVXPdcq76ZlnCKVWjKdLItgijXggePfHn1nKgasu6aNOt0jAZQAALS1JAJNbcHgGz++POquXYwNK2J0rqU5SRJQ4YEIjFeVUemuCSARyeOccLzEcl0tbb0WZ9IzixStPmCBFeq3ZixsVpIaiOL3PA+mF1gq+gkxgdiFtLpfxBlUAzMkgSVLWERsVdySvgl+VUb2B9awQ6T0F0HMAxHf7dVtn4d6jF1fpizhBFCzaooWVQEcDYVqsFgaHq2P2s9cjcj5qbnHl33j+L5PlJY8pG+ZjJ3IAPHAAtGNiuRtX7CsaoQAYsuQVCPM2/WFUPmllVpI4q0N6ZbBHpYWUoG9/YAYWLZyiXxJjv5fhQZ5dIXV/UrhwpUbEiztfF7f8AlC4Ejbvv5okt3x3nu1lEmm/SkAuQlW0pQUqabnUK872NvrjEz6fOyzfLvPebZ7vhV5Kzq+i9I9KE1sxG210bDA8cYZrr+qdp0+vy75qySIhFYghU9SqxotvVg17C9jvviwsJ+i5yXRHY/i/JXuXCoYQCQZRIkIJ2LnYr973B/wBsWbIN+h7/AG/hSeTkZ/hZx0PqbCTsGVUjjOqVLsaSfltQpBAG3H9sdQfPy75/lcYpk5259/b91m2QfsSzOs6dpKZEO7UNRAA2Pj28YckHv++ynZJOgWx3dZy34mx/CuXlhOdWSQwoZJS6JRkNqFFXYYcj3vxidSsIsY/P19/oukU3agAfT+b3/K4l/FX8bsx8VfH65SR3K5AqcxMWEiyn5SdVGyd+ftj53i6hqQRY97L2+GOkfv3b+Fu78P8A8a+kpFlOnp078xm+4GMtgqKctxd2NZI54x43FUy4zMDvvZe3wtcU26SPX7/m3Lqu6Pgj4/i6rFl4Y+koh7HciSQ0oLEsPUVOwvfbze/OPMdqbvnvHfJcPF8DrBdqIxPy9r/0tq5LrUTqrZ+OQRvstLXqAOu1ABN0SR9OPOBV4hwtFu47/lePW4Mg/wDbInuP2Vhl44MxFOMvIAJCiCYmWMq6ldI0txvVVt4+mOWNUn6LnqOcwjUMbWNr7/vf7qN1PKTQQtmIzL3Iz2mnjUSFYnDK4QoFKnUN/bb9oVaWiD3/AEq8NVa52kxBvBtcREzM275wM71JumdJlm6cgzjmbd7UbIAATpsEm6vgncbUW+j/AMUaTxbWn/ZcnxCQ0veP0iYv+ft7G9hh5/F3P9uUx5bUkVa6YBgqoC7E37mvv9sfubPg+tjibQQvianxmmCICgP+LfWCka64Y5ZCqRcgeSASAdz+/GKn4KP0lwnlGym740y/k+qiH8VPiBj6Jo1JW0Y6iNO4Ncg7EAnnDj4GxjrGxUv+udFHzf4kddLJozFRICrhVb1A/LZVTXmv88dLPhNCQ2PWyQ/G3OkwANlTZz446xK8HezT6H1xsF2jUKwF8eB45x1u+H0GYblcv/Vqr5hyhf8A5PnIZXePNGSg1yMwKj+SfI32o4oODpNmGiRH1+65/wDqNeLuKRviTqDMOzmmXJEMkzgMXMpCkEAKfQLNk0R4xNnBUnA6gAOcfJH/AKnxDcmVGg+IM21RDPOCt92Wy3qWwb2oWTW+Hp8BSc4CJI5XRd8Rr6TL1If4g6hI8jfm9ayFZJVhHbLaKYHSeOb+vvth/wDp9Jxx+m/qkb8XqhsByUfEnUEPaizxSZ2uMkWCDe2nfTyQBz/fDs4WnGG3vHJT/wCqVnGdURZFj+JOoEHTnZpQWcx3wtiwpF3Vix/3wjeApuJOmE5+K1REOKmf/l/XTISJ2jVgEZ1J21rY0Abne/IwH/DKdQklqp/1qqIupcfx38QrMEHUgqx0TN44BC3tsDtX13xxVPhFM3/THLfoutvxypEkKTH+JHxJApds2MzEpKlGWmA2sb1RoWP88SPwZnmL7xytH7qo+PO/8VNy/wCKvxKNKqqTHQVaMncb6VJJ5JPtgN+AsNmg9ZRf8e5hHH4tdeSVI2MKuyn0Ba1Ch8u9H2rEx8AAJgpj8am8IUv4u/EARe32J3LcC0rayG5INcDfDVPgtNoEXvdFnxs3kJsn4q/EOyrPl4nnsRKNWhDyS7bgDavpgu+DUQYmxul/624bIA/E74nCoQULVtposRuPSgOwN7fztgf9BpQCTZY/Hz/4prfih11tcetqVQxI9TamIAA3qwfB8XhnfBKDj+kxzQPxxzbwq+b8RevymjOUJjU3ELs2WHqur8VeKf8ASKJwD0TH406MIJ+N+uTqI2zmibYOdH9JXUTfvyKG4w4+D0ngh1nKI+OVIkCygp8bdbaQgZ1VlgoNCFCtWxJN+kbb1ZxA/BmOO8jpn1Tn44/5qXN8Z/EEj/8A7hWKa+1SsUtdt/UeP4vFT8NogiGyn/6tUIsR7qJJ8WdZmGWb/iUkbtQsNpZSfSL2G315w1f4bSMHTCA+LVJgkH0Us/EXWo2CP1J2aNQ1Ft9LsPJskEgHb29sCnwFHxIAlOfiVUgxa6KvXOswuO11aZ2Mnrnbk6gaDXsF9uThB8Mo7CyofitaDJEjorDJ/E/WipZurT6U0q8YYsAzfKheiD9QP9McruBpVAeYXT/z6hvIHsrLL/EvWyqzfnpHJTbS1hTpoqRsOaPGOSpwtMNFsbLppcVUJgkfJTst8T9YJiX/AIiQ7WFVhqtQCLIG/wBePtgf8dhLTEXVhXvhW6/FnVowFfMhhliVzN0K503vVXuaxx1uGEw3ZdTajSLhWkfxX1c/l5GkUhxQ00RY3s1uB49v7Yj/AMLUJaIWDmO2Rz8VZ8oFUr3WohSQPQKBJ2IH7gfxjmHDdLpxoJsLKU3xJmZFpMywkjorRHpAAAI3s7mjjP4YuGq4gKuhhwEqdZmkH/7nQiKNZX0lt6IqgQLN4k3hpcA3lCYhvJFj6mUYqJWZ42Bchr7YoqCT7XeFLPKdImMrFtsKc/VISIhLMx7bakNk0SSBYBHJwTRsL7TcJW04RYus0QFzDANpW9tVEEg8D284gaBImYWNORIC+Q3T/il3i1iSJYFppKkGlV1XZsA+obADejj028G8t1EC3tldP/NZuY6LJ8p8Xo7B5Whdn0PDpY+gWaDAbWDxf1vE6HDSTrEymPGNCy7LfF8YUNmM4FK0zKpJLNqrS5PAPtQ/ywf+mlp1OiNroDjmxAusiy/xeUht5o0W1UtdByLaqNqAoq7/AJwh4JwPLVhO/jWQCsgT4vjRTJJm0i7hjYO7BdwQWTc7nwN9/wC2N/wPOBqMlAcWxZJF8ZKHC61kCtRJYK5SQi1FEAV82/jzjP4KNrpxxLDeVbQ/G2WDIoldSX1srUGCqa1KTW23viZ4R7tLQM/hI3iWmSsig+MxGqOc2s5Z3Eba7O4r1cceLOLjgagIcc9CkdxFM2Cnx/HOWqldAQSJhI9qdtQ9I2+Ye/OJnhHueWjO8oNqtVll/jnLuYzNKkaurvo3OhRQpqqib9+dsV/4JNjaEprsGN/ZTh8ZxRIVOa7i6VKRfO9g2xJUekf7YNTgzBNyRdR1jmpkfxpAr6tQaWUgxxK4o7LvVDT++GqcC7lMiYlOKjNNzhS4/jTJGPSJA7UD+nRIK7Encbk+fGBS4PUQDaQlc4ESFIf40ieu2yki2Vrv0m1Hy37eRhXcBUpguLcHmla9hMSiw/G8GuWMTGFVYFJnPINb7gbCq3xRnBPDyYsUhe1Fi+Ncse4wfvA881vsCoI8+K8fTGHBFriQ2ZwiHMO8KUnxvlJWpmDwjUZJLYgKOOPe/Hj7YV3AkvGpqQvYN0Rvi2DtyjvbR+tTGeUfa21Wao2Diw4FzpEQtrZzXOH+JP8ACr4b/HH4QmQrHF8Y9GjMnRM+WUsVHqaKXUx9Jrb6n9sW4f4eCNL4MqVWppbIOF8XujfFX4i/gP8AGv5j4ez2Z+Heu9MleOUqGMcyDcJKhOl1NceOfYY8P4h8KbZpkEGzhYxyXZwHHktJEEHIKovxV/F746/GLrv/AOQfHPVG6nnMtH2Mpl0BSCFFHEMQ2W+TXOEpUQwAZ67qlSqXcgOiwLprXIq0tuC5A3tvevf6nDVv0qZErov8PeqZXI9d6M0k/YzJmRoc1Jp9E2pe26gnemr7Y8euwm43KtwbwHX3x7Kn/wAWH+KD42/FDNR/CM/Xom+HOixrGvTumNIuXlkT0652bT3HYkk+PbHv0aOi7hcCJUKlZzhqFgdlwmeo5zL5iSPL1JHILGXYljp5JHj9/wBsWfTaRCLGuNzlVmammnYk6tJbbcVZ3GqvcYgacGIVIhMChoo0kBUoAVXnSPofF3hdJ2QN1KgywBBUheCEIAordNYAqsUAOyYuU8E63XSXkawdIo2KNKQMHA5oAq+yebVPWWVH3WWOit+PO3k4k9oyiDJhXLZ7SG0lVDmpCCLLLWoE1/YC8cj2E5TNKh5jqMDKxfMKjOBrJYmgVoAcigBtWHayeaYOHqoM/UIGkkKyLIHUFm7hFmtwQedv74s2iGtSagoGYzhaSWR3WMNtFWnlTfPsK2xVjGxLZWLrRsqD81FKSjyBwSWVg9b3sSa3/wBcdDGmD1QLhNkDuEBmUnVpBY0efBHtftgxBsplyAMwiArrYx0e2hG/g1vXvzhwEDdSoZGLIrMICBpjvcDg3Y9sBDUrCaQw6NJ7hsWwBvUdwdscdYzZamVnnTWP5NQUDGV0Hp32Ck7DY8t7UPbHlVTddg+6z/I5ZnECh0GoUyqRSsH30hiuxrx/vjzqhgrrptGSrVsl3y0sg1dpu4pjBGxvY7DniuD/ADjicutrdyrOHNZgRzKf6Gbtub00N6vxYr352GI3GF1sF8/dSI+ptE8SB0dTQYk2QFIpj45Xz7bfQh/ROQ0kd5+3crbnwf8AG0mXHbnluF0/Sy8PiQbEngDjg/ucZlS46c+799FAsO3ZWcL8Zw5lBFlsyrGj3X1AMrcWV3o/UUKPjbHZQqEjaOvfcLjfTcLkSO9+zH1yLJ9cZl0syvB6Qs5IZG1cANtRBHvttzi1Qi1lIUpIIzt33+VJk6ja+poya2kv5arZgAK2PjAOk3Mx33dFzNLsbfe/f7qGczFJJRQXNbZdyLBSiNRJ3rwLwoImO+++aFpnfv7d80SYMczCMtpalciJbVWO9AnfYkjnbbFaQjKWRBnv9+u6lwZ0BJAZEVk9JCg2GU1QIrc1ft7YcNIg8799ypvda5/bveympnEJOsqqoQA96WDnzsKv681h2fqBPXmonBI37yjzdSLSO6uzdludJtdOndttwp2F1/vQwy/NINgO+wrRPjnK5GOOE9QaPMTOSuojYgkFgCNOki6/9UznwCcrpFEbHv2++Fov8VfxNLZWfJS5hZCkjSK8bDc6SFDEHai2OHiKznW77/pdvD0Nu7cpXO/4RfCfXvxS/ECfo8vUZcp0/JxjM9T6id1SMEO/rFewrHHXADARkz+yrTJL4xPr3/cQV9HfhX4d6CvUF6d8LdFV8nFM2UXrc49UiwA6iBRs6trXkH9seJVPPPfd17nBXwPn9cf/APXuutPgw5zoGYgizOXQZZNIhkNqQ5CeordE2KFC78443sY643XbxFPyEOMCIz9O8LqT4fzeS6hEmX7qsuWZSyowbSXsKKI88+r2oA4pS4YOEnv0XxnHMdScSMnvv1lW+Y+H5sq75jpmZdQ/OXYjTdkgKNP131Mf7Y1XgHMbqbe+O++S5qfHteNNQD17/A+6uJ4EzeXfL5hGZGQ6gSQ7LVE6QP5FVR/bHKaTnMuLj5/Lv1XJTeabtTe/da96tl3ieXKZmOR8pPBM2tQZFTsoWUlm7dAA0P8ActafDazqXEsIOCN/wvUqBteg7E/LPS+/cRHLE/UE/NSLG+qHUVZ1ABZQ2xvagSNtwT+2P6q4StrYx8yNN/X+F+K8T/26hBQxng5kkScxmVK71DQushq4uzXg/wB8dA4bxHl4zGenoo+LCWPqEclQ99S7IUjYtaFa0qgvdR773hhpPlIuk1SZTIcy2gSF2jmik03eg0Boomz4OxH9sIym+JKs+oBYQljz6AzRGX8xA3pMgqrGxYIRuQTsfv7HFmtDTMSFAOgWs5AjnE4RiIwYtRZSSKUtr8AAje//AOLbAdTbWgcrk98kTVdS3yimZCqx6y0KlmVjalSbAJphsGN35842h0aQRpOZWc4kg5KMJZn7h1WgU/rmwvbP302RXttthiDdtMaQO/dKaunMLyZlakFFVA1EmlIDGidXmwBRIwadMNvN0rybWT3zraHhD3ovTI6qLr02unnawQOeRjPD7AtB6oiASSU4zzS60cdtShBaNt20+bqg3ijxg6HOmYhYu0wQgRZxpXjdFKIT24opHYSFQL1A1XijR/7Ck50icJiQ2YynCYmR5GBYuSGhPzEndSV3pjfFnC+FcnF0PEIEJ008umQsSE7NyhfmUIbUWL3/APLOK1qetx2BCUPlBGd7RlkeJQA6RxsGJbUSQBYBI08jxfGIhpmRMYVWunKUZ54GZC9MbVpjsurlwb2I28f7YpdroFjsf4Qa8ubITp826wicMxF3Lr+Z2C/0Ku+54xImD13TROUQZ1RCziMhUTTQTSCKFkaibuhz5w+oFuoj6JdRwChDNBypjlGgtYkkJs0oF6QaJ28/bBpibCDHeEriZvaEVMwaZ1miRoS2qN90ABPqAC8g7/QfTADCQb35LGqLDKCmaiJjVm1yqgaRNTFtRBvTwFobGzfvhqbOc3WdVMwkTOJrYmXmRnlzLBWD6K4+oHi98M3hy0ESCOfXkqOrEdByStmndlTv2zMXUKbKDtg0WFUfIHn2xFjSHmCRGQptfLOcL35yMSRCdCCTqav02JBLOQeaO984p5SADmU+otwpRzeYiUSpH35KXWhCvRJHKi9PN3vfjAdQOMpmcQ2YlMgzGZy8ahWYyRhRNo9DAltQ2JA2s/28Y5v+OWG+VT/lWhOXqUr9wK7okLGSFwBTUvFiw3ivH2wTw8wQbDA5e6ma5bEZRB1HNRyRE6WkT0LGpcblabex/FHxh3cGAZ6KreNMQ435o69XnlYFTKhKHSurSSOAAoYUBftvxzWOb/iU63QhXb8QfTOZlFbr+YiYO0ryEjSSzgspAJaq33+30vzhRwTMkT9F0j4pUmJSn4mzUCPpZnIVGRVo6LG7NWxsb78e+M/4awXIsMBYfGH3EpT8VZ1HV7NO+8UYtkWtQXnzX8YQ/CtIlt5XSz40/wBV4fFWaj1yxO8kUVPoYNZoWWDE6qsjaqoY5n/DPKSMhX/6049EZPjTMHcx1IQTLqcVd+oDYit9wDh3fCmzYGSIIlEfGyDlSo/jnNwAIXAlYjvaib4AoFNuAKGOZ3wqLxErqZ8cGnmlT43mjcGPNEb7xuDraOg29k7iuQfOOdnwcSYMWVT8cEIf/wCeFtOjMmUygNTWNe5dd9tNcb8YVvwoHUReBuj/ANabuUNPxBPdQkp6i2tmNgaTpVVuxWAPggeNMXRHx4CwMhfLzK9UMg/QkPbCWUjtWK3R8HawcdJ4DUI5Lifx7R7q7y3WZYpInqXLySgKYAUAYLYUENZO4v8A3wreAMzEcgkPHgDKyeHq7lYHeQyMGZTAja9aFrUDc0qlt72B9sUPBwWl4yfslPxEkQFZ5brGcDmdZ+xA4PzEEiz6ogDdCmqh+3GMOBqa9cANPv8AJIPiMNINyFcZfr+bHeykLvD+XIKrGGuUMCfTsSKG2rj2wHcIC51rgJ/+pGytMp1pnKs80skrwFdEXpSia0jYamr9/wDPAo8HMF2SEX/EKkWwsoh6zOGM07yZdIwyyBaX5zRtSTYH1x1f8EB8uIhmfdcv/UnYbMqdl+qucxpWuzIF7JdyAXQncbGzvRP+mB/09uq0QUR8TJB5hW8PV8wyxNqWYOJJJRGf0w/ADgAHi7N/X6YB4QaxIBRHxKoP9iFZx9XliEr5cXJLaxF2EalhekkEsV35JxapwjKbSdNyY9FP/qj3G5lWKdYjhEi95ZS63PGDSl+CQ17XwLIwzvh7KZjMi6LviT3dFNHVm7kcq5koZaUS6w7BBYCkNuaI9zhTwjA60NtCNL4lLd0fL9TGYSFkf9bUR+ZViqruQVZiuk+xH0wBwrXthokjfCA+IuEknCkR9SnJdWQSPXyCzHp2IrwLPLbYzOD0kteAT807+OL2zt+UWTrE5JefMv26rQBxXpDWtWCNhX1xncOyDqt7KTeNqDH3QD1uUhh3pE7Woopa7FbmhYF8beMOOHploHJZ3HPm6lRdcmNh8w5iYelAxA1XqPpvyTttxgjhmnKUca4uypa/Ec5Vh+Z9CKSrqS3qHg34B2scYm5gNosFb/kujeVFk63IJlOpjI6khE/5djTpPkne/wCOMYcPSJkpTxNUjTyXN/4/fh3k/wARehZrrWSijh+JulRlzmVOk5iJLLAgGg1m/c/xiHxKgziKRaI1AfNU+HcQ+hV1EWK+bea+D+p5YqzbKxOmT3Iu6532x8IIm9oX2fiCJVPFLJDmG9Z1BtEikAhjxdEbn+2M8AhMBKu/iL4mHQ/h8TQSRP1LNXHtRlSMWGJA3Bo7Yjw3CazrdgfVKHkO0t3XOOczTSzIJZR35XSQKRZII2q/bmsexVZYJ2qvjj7igFyva09kg0SwG/HvjmcJ3VJRIIFjYhQETRVnm/Ox9jjPbCyj5itQRVAjoeaF8n67HxhGgrNso8uaCDUniqHsB8ww4aUk3TYc4QzWdzRocfv98PoTFyWWaSVCwYMoFkaq/tgBqBJVRNnpRQL2Byo/1/fDBgyklMizxbUGjVlb/qskEeATxioYEDKZ+YeTVVFW5INHb/bA0rSpLyKxVAGdlFsL8eTtxtgaUQV4M0TMAQrqx9Ki6xg5A3SozFlaixB87jfm/fGNgivFqpgwkdfLDZa2O2NBiQsSjwE6YmbS4UgM3kex/nCuJOUAYV3KdTqFFKK0EEmiQbIq/rvWPOrkgp6ZlbY6BlTPlsorepFZ3STi7DcVRNUbI5r6b+TVK7WWuNlsXp+XQQgzE9sgNf8AzHZmaiBQU+oEEjnceLxxPyulkAK+RGDazGVRAbBJJfmqtTZPi787bDHFUXdTqDGO++wnrle9mcv28wA0pDsdVbXvW1HgAH1f6Yi4jThdDTqIIPfMKB1OICORgiCZXWAsJNwW+bStUbry37eMII9k+Tq2Vdl+oTZDMjVMG0IQhXVWv5W2UG9zW5v7nFAARhMHtBJt331V1D14Rs0azFS4QFQXAvVsDR3H9xzijRAx38spXkAdO8BZr0X4knilyySTCdGvU18bH0rY3Pn+axYGSe+/quWoSZxm3fuO5WyJOrrlsuCzKDMA6JqJIFUBRvyarYYYv82J776qFVgLsT332ERert2zITG7KABpBoqTyC12abevHjBbVnM/TvvoouYGkT3+37qwy3WTmDDEio6kErmLsgD1XuoI+U84tSqNA3W0GJIxa3Pp9MKQ0sMMTRqQ0bBSrvaBmP0IHvXG2OjxAd/l38lz1bADHPvv6yg5bqsKQhAFVS+98DS3qqrHn3/fCVHhsx332FICTfbvu37rE+p/HP5XKypBqeegrICWB4FUObG+ImoR069/VdLKIcbW/vvC1xn/AIr/ADuSLTyss8RvLzWBTDbWAo9ia9uMZ9SbHHff1VS0b57+ncrSHxJ1PNZ4ZvLyfrso9Ui0NSsQSAdt9t7POIT5hPfJd1NhDZ5LcH+Hrqj9GHxJkcuyjPdW/wDjmUklvy4HFk2LPH/hxqpkghDxXX69/dd0fh/8RZ/I5mGLpssrZpLTtrZXdaOkcC1HPt9Mcb+F8XI+3f8AS6KfF+ARkkfb8i34XcXwBlepfFmeyb9TWJUy8YIIADORd6CwrbQSKHF++4pfDm6jax6+iav8Sa5mttv3/FzsV1b0HoHScnGv5fL/AJSSQn0BtDNRJIYKx33JPH22GPd+G/DabzpdmJz7fv8ARfKcbxlV5MmR9PX+fqssOWXSQAKJvbbzePXqfCWFpEZ5ev0+/wAl5gqFVbZZUVtGyglqq/uN9sfHV/hwaCR9uX0K6RUJN1rr4s0/l+pM6MexC3bTts4lZlPoWwR6g1MAtni+b+fFPRXDuq9rhGksgXmfb2yen2wuNeqo2Vz+ZyjRldZqWKUMDQ9QPJIO44PPHvj+mf8AHqwq8KxwGR7dlfj3xdmniHCd1XmcC9RXUw1FwPTeqgTVk159vc49upiBZeYQN0hmQvDFZ1RASFRsDsAwYVtRN0cJU0kAmxTfpu0pTIivHI8qyOfnmC3QDb7jTtW4OGOYBylZcJTO7D9NgJmIHaDKwUqfLUCCdh/6xi5xB0xqbFosQeSRozOyHJPpErSr21cCN4dVsGu+BVAnkAbbCyMO86fMRp7wlY7mkBZafWEYMD+XZ1kEhcb2SDX2+2EDBUvsNk3inB9iiS5l1kUSyRzZbSO3GrHnm2IoiiN9t+LOM+pDwHT0QptDgU/VDPMT3QocadCOGLNe9CquudtsKQ55nZVnwx0Q3D9mgHjmVmIihQsdrOkg8CxuRgPZqbN7FZr4wiyTkxdxpUKQnSZE212aK6SPUbP+xo4o+q17bBIAQ5EdzI0UmYT1aJE2qwFG4bY3RO17YZwhonKmxxJleM0rRxhJAZURLcD5raqFgb+RvtyDghriZnZM6EF54g+iUkK/zKx9T0ABuNzV+9He8LUc2JJ2RZJbIUgZj0BVALO//wAh6FaQLI9/PJP2xaAYMxZAguMKIuZiIaR5dKUREFW6JGp14NWRuausc/ky4qjpIAaE1ZY5C6o3aGjtuArELvZVRqUi7sGvb2OFY6A4tNuZCMubYokmYLaIGY92H1D1sGK8CytXuT+2+2Oiq0wG9OeUrfKZzK8M4ziOJ3INgsVipNNVpUg73/niZpzGGrECZFyvLOoLyMyI8LJqeWtAVgQS2k7kXV+/70jnaZIN7J36W2ASa5oWQq0jMu7MxB2atQANGxsN8M9rmGxm6RrmEEEkEdE9sxGkMhCLEXHcjJcJrU3RPIsHj64eo4QTCUecgKI+akVo4pGjjWT9PNa/Wx0b3qA5I35xJxcWjSLu239yqt8syVJZlWZMvM6dkBjGWQkc3StTEhh74ZrQ58nZJ403CY0+kWQVtipjIsqlE0RtdkAAccYdzSMFBhElOkcdrs5hlgANqSTepuQdNnixudueMEeYQbFYEIa52NNNFJlYVKwBZ7A3UANvsNOxwbkgCwSlwKkGdikk6aYQraQAbtRR5FkgVVA8YnU83mAIITMfExlDfOxmSZFelIsuADqXhaAvTY3rzzjUyAbDN02RCRp5E7bQLplmIoD03WzeoVpDD3HF4aLeXdFmUw5uLuKGkAQWwcHUdXIYbewJo84nplxJMwnJ3bugDNKCjpI6oHJMezimPnySD7/6YFPSTYkD5pS8wmtmnR3kFsIwrq636iPa7PAvYb/XDVLaoM25JmkHGUxszGDGe6WkS9LEmgASGkkQgAk1vtgaC0iT5h//AIpi6XAjCH+ZRQgYajIzRgubbtNQZFrcil2qvHthWuIGoi8wgSCZQnzADrGoKRkhgoJDOwalJq6JFH7fbE3MBMwmDi4CeajzOzxZgaFBzMI1yycPq3pa249/tgupEsLdNim8UAry5oo0YYoW13JRL3Q0XyKIA3utv4xWhpGBCU1ATK+eMUswp9IaRiDZoM0aWvpOxq6NY8N73AExfUvYLLiVksDTOe3C0iCMaS4UUAxskPsRXn6bYvrc+T/sPtspiG2jKyGEyNHpZmbSQ0KxiyL9bJdWVAY+KGC6S0Fxn8JMOhqu8pJK/ru6aNirr2yGfYWhXkACqwbP6QlDIwrrsx9sMszODaroYK+piTuqkmidjf8A6pUp0n2aTKUF97K4gtdOqSRo7VUaNaYEekk8AjdqPO2FeGBoby+azhOcq5y+uRboTIZf1VcD1lFsay1NVWa8e3GFLA9pg557wsJY63JX0iaIUREe2/TkzJ9SgH+nVQCizVj7HFXU6cBrTB3PL0StY6ZUvXmUkfvx2NcWWYqhTdxsbIGrcVX7/TAc8siAHR0WcyfNzVqm0MizxkmBmXLUbR7JNbmrXzX84d0OY4PB2iD90RTcBZTsssjvGsKGMTBgjI6udlB1IoB3233s+2GALTgWQLSM3UibMWWZQj5j0F3fwBuxSvsQcS8djnHSJ52n5LNpxvZGWdBIiqxUJ6kHKoW5Gk1/7w5DSd7JZ35on/EUhHbClb1Bdja7b1tsPpWJRBjddDHjdV2Y6yZGARwYVLBh4AO+w4F7X5xNwJcDkIlzSeqinNzszrSlWS5GBoar9IH+oGKtDgbXCkb4UlM1O0GWZXVe4AxhY7lhd2NttsNUaXUxEXNxuElm5VlB1DMCMquXRTHqVdAIC/8A1qrAoDDVJMQMJ2vg5SfnihLhQNS/oBP6bHgVyLx5z3aiQ0XXbTIEE7qqyecy7GePOwpNBOrJmYgSAwNgk8AY5gwl9grmqzTJK4d/Fj/gHwln+ptD+r0zOo46c7MPTIf44OPC+J8Jofqbuvd+G8QajQ12QuSuo9bgy0ZkUB844ZkVT6NI31N4AG31OOGlR1CX2H3Xq6hMArU+d6lmM0wnmeQzPqZCbp9e1H2FDbDBtzfCemwC/P5quYpqbQoUyJszmya4o+CMP4pwqgQLJY+9KvdUHtxlUL3p38ED3GFaEdQQJJpASjuHcjaS99uKxhTkSUJUCTNd1fXSvdE+Cf8AvgwlJUR5zrolWiX+r5b+32xQBKh7RLoN3/VZ58c4QhBIZFEbC7bg78jCtF1iVXmt21bWNuTZ9vti0IJHpGqg2ohSOa+t4BOyKlwim0mQR2pCsAaqxsRhSSAlRELgFXYaW0q4ArbmzjAGfVNqJT21WdTBnc1IfO5oED2PnG0lqAJNlJgCyQnU2k7MyEE+fH7YUARdG4SMq7GJg4BALggiyNtvtjEo5uhI6mdQZNAmX0gar1Lz7b7YUoOWWnK/prMi03oFncagLJ9q/wDWPM4hNQErcXwxHmp8tCYstSQoFeS/mKEbHbewt7jniseNVJXo0zKzqGDQHV5H/TJcIR6APlII9XBsbf2sY4nldjDGVZpJK8U0SKMwqmpIm3UURywIZtyD7VvxeIGBcLsYzUYA7+ajxJIQ6SxmEZRBJFJG5VF4PysP6gAbB+m2JOAcU5p3taF6RcrEsTLmzJJMp/MJOoJZrANAAjf/AH48I5v0779k+pqx7MZdY8wFDj9Z6RlO5WqIZSL223H0wwda/Ja3oVSzZaXuTyCbuSRhlij5Cmyyi6NEE+N/thw4AITvMjvKizdTnyBR5HaNkFdxSeBtZUcigT9sXZc2Ci+GiO/p0U/LfGWfbMQyM7uEFRxSE0ARXqAAB2UHbjGJMwiwNi9u/n3zWTZX4yky8LIskriQj1SWdydybsXvhQ8yjpaTY4777nMch8ZRpDGXfVHIAyNfqrkWOADY52wwn5LnqgS6/efX8KdP8brmBTRsOyRolYhWJPIqwNz/AO8ExPUqbGy6DfHexHdlVZr4jzUuXeOEsgYhGIO5DKKPkH74aTkGyd1Njj+mT3y7+yovzzpBMZnE0qi2j5sbm/So29t/9MTfe8pQxpxyysXn6lmJo3FGNWrSwsnb6bf9RrfGa0DqjTAJJGAcd9+6ouq5WKaFCrtCDfeQgKuphe/3sUAP9cBkz1XbDQ2Jvz77CsPw26ll+kfE0MRjkJzqmKGa6HdLEDcmhQvck+/0x3MZrHZXm1Xu1kEGF9efwX6T0z4b6H/xhx+Y6pnykQaRlYKpq/UQdLD3H154NadMOeA79Pv338krANpk4JETt+fcf0e7PhSNMvGnVcvLmA0caJOY1RRq02PUwo7EeD4++PRNIGQ2Lde/SF49SrU0uaYPKQOuffpzW4PhzM55szmRnJl9WkRx86SUDUQWvwdgTVeMdlEtYbbxfbv91z13h9gMZ7jnv9FmykFQQbBFg++PVabDdcpCjZiLURtsRubo7bjHjfFOEFQyIuD+SNvXqZ32pTdC0f8AFfVock/Ucq2ZkmgiTSsUbIFTVzfcFP6UO252PvY/M6rSK0C9+vY2X1PDU/8Ath5AB+u65H+IM2vUerZ3MKhTuszuFLEatV0t73z7Vj+jfgDA3hKdN2wC/GPinm4h56lUxhLSOdJT5RYoXVeo8c1x5/fb33Na6xJsQvONN2Ql3ErFjJ2iluKPHLal+gOFIaH7wdkQ0kXtCUqYzokJK6WjjNCqF0diCQfNYo9zQb+iXQ6xCQtbarPyUtHaiApBAr5he2+2JGBAJsO5TFluqd+n3QBJf5e17StuhK1qOrkAH3wxeHHzGRNkNBAuAlZKICnULIeYf9RJAFi6LAXxtirQ112iB0yh4ZDbbpSdI0AhNS7sgLD0UFJAN0QNyMRqls3JB9EQ0tA2SL3HVifUSVE8YJXRZBcJQOkitv8A3jUtT2iDv6IvEhMDCMRuczN21ADPYV5K+YeTpbSAfpiwaTISadIhF7rM0SqWKuiNAIz6mo7ULGoCj/r4whvdokchZFo0iHfVKxJWSCZDZpNEwVwVJBNbHSTtufsMEvGg6nX5Rf3KWJsCmK0PzNGQ7AUEZnX9MAVRqiCKvzjMOoSBHSZlB1LC8zq6oH0R04lmAs7KTTEbEke1cHzhXOa79QAhM1pYfLv8l5ovUxkKiVJDI76fmjBGkbC9tPjGfpIGog+y3hXvlAmgzK5nK9nMrFk5YyjQmEASFwdLiQMNO9Abb19cZtQE6QYF9kTTsUTYsYWdtcvzGV1G6qCpIA2UgV9OMM14GlhvZZtExMpAFk06FJRQpTdmpiDdWLIG25/jEaTmvcJyEwYvDLi3kaNmIk7gjAGxFnjkk2dv9t6FrHmXkm5S+G8XC8IhqnhfV2pXUNJsRudNtYoWdjeAxjGv0kSi4OcNRsvPCokME8QPcXU2pdJKniuDsNsO5zdUXCDaZF7pDGzuC5CMTr/Kre4PsOV4sGjzR4wpc2m4TeVtDpkbpr6e5RkkL5oyNK8Z9FxjgDnVwQPNViZrNL9QybGcW3COi1shKDmJRMmZVVEJ1RkErVVZZPUAK535x0U61V0BwEBTdSjCeyDukxkCdtLR2ButmwuxUGgKxSWOdAsVg1w9Eiu7qhgKtGHLtICTa6Q2wskENsb+uHMuNgkgbJssgEbC2ZEBMbfI7BfU7ejg3vew98K+SIbgIinBvuvAq8UohTurW8dsOOB4s0Te943iagXAyUQ3S5NYFgx0NEGCF7Vgjerj3O/Pn9sDkRyTNMSUxLCoUtWkUq5CiiAQSQtGrP8AngOaQ2R5Sed/pss0EEobDW5lR3DKWqMlUVyhIZiSaO225wn/AG6jiGz9vqmIcwQiyLFKHMK+hm1nXJpJZv6ufp5/3w+lgnQLTzvKAd7KAbQQfmHCjZjJZJUgencXYofax/ETJMYlGYQ5JZu92+3qdT+m2sEvRYnUCDZNja8HiCAZiSLTOU7U6pi0T5qH0IAqaj8pq7bUdt/AxVrnunUBCm6JgZQRmJO6Qis/bVmMRuMKyn1KT6r/AMq3wgqCLolhjKZrBWJVjWSfZieRpNCgDQO53/1wzqpAuUjWEusgpKJ9TSsRFIP1ogBrcKdlfUDQDG7HtiNAio0hNVYWuXAGQllZmelDOAixkgekGya2IPmxvjxGu1Exa5XvuuANlk+XCBVqIL22BZ13YqQNiDyB998FxP8Arkb8+iir7JlpIs05MaJHeXkgDG2iI0nt3sTZrn9/YNJewuAvhFwAIb7q+R5dQLyxxDKIUQKD3CStUpPB/b6Y6H65BdEAR1TANg9d1eQtEHy8sLCGR30xzlTqJ+UgsL5N7Dz9MAC4LcojcHCuYWzOl567bkusgGpf1GuzRWi1kA/51jNa7S526jcug4VtkzAsmXkLQTRtGzMFYtECANZFj322O/OMyiYEebM9Cma4TJVk0mXAgd4u80RDTIwOlZC1xiga9XgkDVt4wzgBA2CDDcwsgE7PmwWkEcUmzUC5Lj1HbYrSg7X9sKdesaTYoEDT1UuPNFWi7VvPlWLQxNsQvmU8Ak3VjjHXpMSBJ3U31Zsnnqa0f6ZZdjoIIZbO+x9zfgYmYDYxKIcIQhmi6FDJqcKSE/6q2UDcVp4+mIsxpJvMpnGRYWR42mLqzsCvbZZZwDQkoVvwTW2OimXCA8257hKaZyq3NZhxGBHL3ASAdhfqNbXVA7DCaiJvlAeirUktGQKS7AlSH48BR7e3vhNLdEblEEgyruB4oHhRQIzGjaWYlxqUDZB5IFEXilOiGCCZst4oBU+D8vmEDEvNPqYz6yASHO2mq00Re2GbDjI5QmDi5WCpFl1STumV0YlqLHQSNIUFvBXf/wAGENdtMwJMpdMyFjXUsyIi5jDh4ufVZY3yPA2xz6QDIsVUOIEFYznesO8bwx9zVI5jn0VYVlog8A++H1BjbCbwlid7Lk//ABAfGHwf0jpOW6MMhlOr9XmibRFmEVvywN6jW+/F/fHnce2m2nYBxXq/DqVaq8FpIC+fec6gCO5qtZQFZANKhm3sjwB7fTHztXzWnvovsqVENgAe6r5GnaYk6YxEAHUG1IPisc1SnG6ZwuoxlREWwwb5WUnUKI5+mHc1umAi0q16eqqBLKUJU6AGcAVpPprziT3HTAQKrOousWZWNV0BVOqP2J3oHyMVpmAhCx+UqwtD6muwdvtWGhZRmZjQUMWXcH3P1vBSpA5e21E3epz7+RWMQgm6mFA3R+vg4yycoYst2oK0HA9v98MFoVnDl1mV3PzKTfgUP++Ec4mwWhTFytOoVtTE+q6GkkgXf+4wklMYCY8FE7VoJHPDEHkGib3GGsUOoQHUblXLIvp9PoJUjVQvkDGlYWSAui2CrBbWIEhiL/6qII4vDQYlMco0zgkiIIEAtlNkVuedqvY3xhCAPVAkLOfg34J6h17NnMGBlykCF3VwDZUWd7ocVtiT1F91sqL4Bz+ezSvlI2lEf6RdV2DUfTpH0B4x5dapqsrMpmVvPoP4c9TTpscKRtlmkI7kx0mzpKgbbD9xt99scNSmD6roa4Cx779VKzPwR1DpCr3rMpS9bn0RnVTLqvexW4+n1vkfRm67adT/AMe+++kLM5ObKEZjLCMEWvakUsPVq9J02BqLHwN/bHGaUWXe2sdMRfvp9FjsvVchFS5+NBMUBmlb0gqxoDcAAUd/98SdSdsrivkdPx3lVea+IekFRHEnYIYoxAJPy8Fl224PgcjG8M2BQ8Y87d3/AGWPT5/Ju8ki2kcIAhbeiGU1XJ/vdb4R1MzdYvMSb997+68DA8VRzgjhhIp3JsA8fUeP72cULYVDYR3n91G6h8PSMrSMdSiikiANWmifms2BxQ2OC0kCy5n3mLRPX6R+yxbMdLWN5FhkCuwJkJWmLXWw24r2OKg81ZpgkxbvvmpbIICiMwaB7J0/3tiQLANGjhNMhKTDr98u/wBlbrmoGy6yFwV1C/VZLe1sTYIA2xgCDChUBkTv3zRsn1FZteX1LJKAArC1+U6RV7k2a+31w5AyUzMick/37ZV3D1fs5cQ0/rICldJatQGncgc3/JxKd1m1LzNuz2P4VbLmnmmZTcr1SUgK0pG48Db/ACu8MI5/dL4gmNj1790KABAVPrj16UVb9THcHUQfoD7bV9UkklUpuPfff2jdZgbtbPrTRtQ3Xj68/Q4FMi4wuhxtHRa3zD5nJ5tM1lmkWXLyrK7CiDR2oG+MeiwiwK8x8+/ff72X0I/w9/jjmviKA9D6lKIcz0tVkJDnS4NUKsEEcY76ZAN1B1YOtE8/l/fuu+Phr8Zs3lcnDkI5Yoop1d5lLdu40IKXXi6AFf52OzxGsPSe++Xrfmc06rbX/nJx3db5+CvxUdM1nnzWeXMtK6GB2BkIK34sawobmwRfnHK15ZBm/du/65jTIzadtz0/oLpPo3x10GZoOnSZ6GKaPK91pXdVRQoFq1/LQI5/a+T10PibQA13z77+xjX4c6pAycd94WU9R6tk8j06bqUmYQZWOMv3gbFEWtbjnB+I/EAyiXtIORv7dZ/sdZcPw7qrwwC5XH/VutyzPm88SJM11F5dbCUgFzehyukakCGgDybB92+I+EcG/j+MaAJGqfr9+fcfUfFOJZwXDQeUD5bd7LTcpeeWSeRE1TF0LybPa7nUtm7BJG+P6I4VhptG0CF+NVmtqPJ5pXWKNWExjZq05d0HINaqDUDfIrfHQaukOmymOHEkA4SSxohRjJEwBdU0mlVLABrkKx8cVhHlxOrcKjQ3SG5JTWB0GZIXCFh+YIQXTEAMFNe/jj64XxXObPzQ/wCPpdBKWNNTLoIkiV9DU10STV3uBsTXkYrTqktEBSfRa0kKKCQfUV9JYXTJbA6drFEXd3+22AHOuTFkr6AAAXqnVAZY1jJBGhbYBQbteKvYHjBMgGD8ikNMBeGpKkUyvNoF2wHpogC/Hzb/AN98M0kkc0zqYPoEQL2l0RsXkOzvsSpI2bzZr+MMBptEKTWJgNxusQEyghdBBAIU6qDb0fO+AKkCAMFMaM5TY0jkaRyCQ5JcA+q14PFiwawjZJkGOifQIAT10OjBwwQliCSCBX254wW1ARB3ugWQ4O5ck6TQtOy9u7cFyLUDYHSN7qt+MEktAKZrZnAnovSKqEv6X1qCoQgUGNOBezXsfviVQuDpRawRBT3MUcUisxbTuEA2ANFyH91BP+WLBxExyWawE3R1LKC406dAEtLsy0Sq1d+Nt/8ALEWueDbHonLG2BToyqOzRqYnCkxyIDqK1Rok73fGCKjtV7ki1ost4IycKOsQbhIoROFcMx3ABo6l3oggXzWGpmCTzhbwGOMFGZYdSpN2lmdwAxW17YJqw3gea8c43jQ2MGUPAgEg4TGAidJGZGcoNRvVVElUYcnbcA+axJ7nAl8XXQGtdDBdKyaeyyxvDl2epHIvS5BPqqjRrcj+MB9VxaHbJWUACWuKJDF3VQrUiBSMuxOqmG5Vyd9gePB++LeIXw6NlI0GgFvVRF7UiRykLIUAbLWpjLBjdaCp2K8bar5wji541EiJsEXcMA7ThPzcLJZQKqkLI8ehmYMPFgjUKvDufadU4SupNwUssUcayx5ddhJqzHbofqOd+bHFnb+2LF2o+UXN0pogAkpssTBHaNS8qyVI3j9MDWByaI3N8n9sN4xZqG+SuUUQAoQDtlzIkZkjNKDZZaQWSq+V3of32wW1Q79LTcc1n0IMk3CXsxMrdm5EyxIaKPwNNiwb2s1t7AYnX0PY0NmwvCo1jt4BKeERIQiNI4A/MamYsR8puhubPPsMNrbpAAPzSsYMn6KPLF+pG0RKvEe20vcALMSSzgEEVvWA59zBKanTAT9ES62cARyJsqgEGhRXYkDwcO0gNafeErqUlRpAIyJlRkhYGQqQGLHSX43PBvYYR7wHtcBYiyLaMm9yvRMJHV5xtoRVzHqOoHjc/wBP0329rOF8aSA4EEDl1SCkWWUZ4xBJFFl0PaRisgIG7lOb0qQN+K++2+DUcXQALbqtNgLSTnZNFCGJAFcayGGr0NqGy212SN+axdvlhpOBKUt8xICjjLxxTQwyPLEP1gAuykg8stb1zYGOZoAjVaQgWE7IoywWWErltSrsZ2UdvUvzsflAUnwL/a8VFQh4FoB3WFDrdQWiUxITE0aMdTQoh9QuiN+RvYv/ALYU1LGR6RZKKZK+dWQz+yhyY4VAVjoBOr/qomwceCyqBnBXtPHJbA6dmoJGjUkRNKCupvUNJJsk+RXFEYvTe0CB81CpOdgskyao8cMrtYlvt8xsrM1+vcjYDet8VaIh3NaJMLJcv26Dxp85GjOAgJRNKWBFnyPOGFYg4ykFPVeVcrko7MSzBC9BJ0HzAjc3v/1G7H2vBqOnyjCBCUxsto2pll2WQmgwO5Ye5sX9cDxS5sItZGEaEyguHR5UaMBlAGxbkgD3J2wB5NUCJ5JoBEq1hkcui/lyXlYIhVLLKxNciuRvvthXEhoEJAJurfJyvHr3KOhShpN7jSGYsLH+WHBcHRghHwxCnNNomYSSGQxBkVVAKFiL8E3Q9jud8MXS4oNaALKJ+YDSuXdXVH/qJJJUAAeK5AwNTS6+2yUtMK3yjgytKUjMlKoTcHVv+4o1g+G17i7ELF0CCp8c8Zjy0jxvLBCCWjIKxqy2CNI5o+cVfAi1iMoCqTZQs2sNxElXQNt5JuyLv2vCOabbqgPNVKdsMASEDyW9LYVa9JG4vcV/bCFgH3RLxdSMtMGkV1mcCOzBFtZuwravGGa86pwlLQBhSIs/JIwMJJZtmKm2KtY9xsDtXjBLnTDQp49VMizLNI800hSgO2T4rfcLiXhSSRZOHnSqbqOYjnZ1MgRSwBZQbNnbf6YarSkXtbKLSAtKfih8fdN+A+hZ7qGbl/MdQz1w9OyqjSzPYF+25oX9cRq6aLC55lu08910UKTuIcGNHqvl78SfEWa+JOrydR6hmXmMrsMweSq+rSqjiqUH98fKcRWFR03A5L7jhOG8FgG6xSRi9Jp9U7BhG3y2K07eMc5ausPKZJJI794/8yIkaV4atuPqDYwXCW3yFhGEM2h1yjtsAT2huBZ2B+tYBEQkKfEY4oWWltEJUX/1AX++2EdZaVW5vMXTqBbH5Rz74drUFW925Gsglm+a+PfDTBlAFIy0GIsmzyfJ42wQsmEABgTuKpfv9MYlYpEccOarY3t/bANkEoA1BCGPG31X6+2NpWBV5lnqMshAc7lw2mr24F2dq+2JHonCklm1yGhJp5JNFCfm28j78Yy2UB2WQmJCqK1GUAVbXWkDfjgXghpOFsJl6QQ4Csp3N0SDVX55GNC0So1boIxpDL+qRp49yTsOMYNJ6hGZWb/A3wnnvizrGXyGTjZ4w6LPMBbaCd+N/B/82xs22UnmF9NPw/8AweXIZLLZSPKOdNCVNBUMQu4baz/PAu8Q4gFJTuVuKD8Mc50jLpPD0Uxxo4dqjbSQQACFoc1zW+PFrzNl6nDOY6575flU/wCRy4uSYFe0GaKN9Smixa9hxxsTvzY5xzztKq/hQ7APYWNZxIpYZ1/KhgsgMso3Goek+n5TZPn/AF3QwTE5S0aMd9/zzWv890/IZzMz5aIiQRIoc6EDalIJZmc7kUNj7+bOIvMgldQZOO+fy72WpuvfDWVk7/5lRA8pVh2wND3/AFbDdT9b5H2xzuMHmqil8r99/RaY6/0XrnSZWlyCKvTSFZ4WAYsPVp2Auh+3n6YEscL5TwQIb9xbvvKpcvmpczFmo84iuwQM0Sk0Q3k6a8WRgEAYVJcCe+/wrKGaHK5HKzyxQ9t7NaiGAYELsaPJPvzgxM3U98e+3fL5rIum9RZMmIzr0aSqFrIWiTQBsmuMS0ye++qBJnv1un5gdOzfcZVGsFhJosW22rdTzRO5r3wYIhEVHDOe/wC8fssbaOeKRoxXpdlVipCkgbGi1GjdD/fDGMwQqasjn8+/X0VdFBUj3IQWI/T2q9I07mttt/p++GJJS1nX/ZWsGUeQnXl9RkUsNwFagBYYbivp+4wriAJGE9KQ2Rt/CnrAQi1E8cnqWIldtII3G4I2O17fthGkE99/JABodcZ/PfVLDkZCUVWMaj5SQFJuhttyAL9j/fDnSQk0mCd+91aQ5N4dlBJVgEFaSNwCTW53B/8ANsc7uq6adGf5TM5lnZZw8LOIV+Whv7b+Od8anYJq4AMD6x3usQn6VCrv6RNrBssGtLs3xuAL5OOgOiNvRcTgNOPb79/JROnZTP8AQc5F1XoncysrlS0aOVVmFt4//i8/tjp8dc7qImW99/T6rdvwD+K/V5eqGDqspytDtAyOAaZSTpPA2H++M6q5t5TaAcrrjov4oqv5cZLOiRImDG5Qyu3Owobjn68e+Oc8URY/133skcy47/iVsrpP4ldV6j1mTNxSTlZFES9sLrBUBmDfObDDa/24GI/8m6Q0pPPv5Lt7LfiF1nr/AMIZXovT+nrD0mLKJ+aaV9MxEJ7hKElL+tg3XG7Y4K/EuLRSJtM/3n+F00eCpt/7hGBz9vpHTPota9c6x31Ec/bldAHgjQNo32XY2Tsef3+mP1//AAz4Izh+FFSJc6/IhfnX+S/F31+ILJ8rRAWNCUNp1LHJIitT67AVjVbGjz784+3ZQO/zXzDqhBskM0iyBAAaXdW9JN7AkqdO4Awjmapm+yJrApwmCxspX0SJpd1NHTRBoi6AO/tYGGaAA66Ou0heOZWMvZeUaw+ZDA01LTaTex3G+A5umQHEjlCIqGLryzLKXCu51guiugIVnIA9WoVztfB9sMGBoBAibptRPL5pyMSRJGqw5c06MxApkAXcHZRVmvPjnCeGXuLjb+Epe0W5IgLyqACFaX0ozKdWoDSC3HFcecdHOwjmpB4wgI0YDAvpiLae7opVNEE0K2Nc45mgzuRtG6ZzgD6JrzRrGGJaaT0l7ABVdzuRS3tti+ljJ1AmEdRdcJ5fuqqd8ABxqQb0eQpW9qF7n2xIEOA5pWkAykWVHiZ3OtkLMVu9y30qr+uHNOQQbmPcIBzpEJAAO3cjMa9IDawGPksvteC6mIgA4WFQkXhDM2kiN6ZmBaFd9j8osgEgHbBLYOlzdkZDrzhNGakJI0q6ykLMh1EBlFC+NI4ONToulpAAB6rF4UgNIqhTpgpu1IdVgaiSaLmiwH7fbAc1xkTZbxBEiSkLiMBWlKlSdTudPp8kBt73oCqH74zAG4Pqsah5JXljQCx3ZUOlA5NDXRJ8hePOC5hIEXjfks2qTYpA4bchDLpRHmDX48AmidtjvhGULX+fNE1SDbEppmkLSoVWq0srWuk1ZvfTd4Qs1XN5KJrA4Re/Q0C0DMrCVSQ2rYoSRdj2B9zWGAGm5yVi8gSEwZyOEAgPJCjuSpDXZPpZCTsNQO3nCuGkESXAHEJ/EO+UqyoyOpd5VSgNaD5d2YBtVEkD9x78Yro8IwAjqJ5fNFWSRAXH6EQ1PAoazUt2BfngBeQftiVOkZ1O5zHqldVaRG0QitI8y3qjjd7l16fF6n1XV2NqI25x0OjSZAA5pG1ATCjLMohruyRJ6my76AD/AEsFAOwN8WK8Vjlp03EwZviOXNMaoBlNeaFKCAzFiRPIBpNmgBYIs77gePOLO0MYbEmIRc4uunNIJY1LZvudkfp6S3zJQJHhSNgPe8K1jXDJmIspyLkYKcrJJAqKxZ6CsUYAsRtZbYXvZ4rDeDqplk3tcZzuiys7VqAG+U3tp3WeOp1UDS1hdQPN1Sjet8O7hw58tn3SiudAmPZA7hjEkTuwmjTUoiDL6boxsaKgm+T9cE6mBwPqmY7UAesJshUBmJUMQF0IjA6zyd7FnjjbnGNMsAJIxCDXzYCyazk60V4y6juCNuGaMbUxu6K3uPpxgNa+CCd5B5BbVD5CjzZ0JIiF5JCI6XuG9JvbY3pBPkCsB7g0w4knmUGhzpg7qOuZOrUqlkCFLID0VF0y/KRRO+DTnSSD5eaFQiZQpVGpe+1q4HZpC27+kWAATt96wBSmoS65Aj1RdVDQC2yAx1xSaXYNCw1BmvSybgKf69XB3wCHPYIF27EICoAcZQZMx+qj5mPToOuRm3NjyAxqjfjfxhdbnR4jbRtzTNc0gwZuo8eYSVZ8u7rl1LB482DUcqN6nkUi639IHPng7gML7E32TFxaJHyXzGybMU7kbkIq+veiCDYWiQf9ceF5dBMzHJd7wQ8A7rKOmZtkILlg0kYpSSx1hSxDAVpo/wBsam8NEEG4SuBvOJWa9P6kEk/WWPuQ0aYmgastXIIN4tTcwwNwgZGFneR6m2kq+iTSNGon5hQujtXPOLiqDZAiLrMsnmQ2hVXUs0gKPqC0pu6YNtVb/wCeCQQ22SpNuZKyLLw5d4pUlUntlQrFqCgjyFJGwJJrxigp30nbdMCIKu8rBko8+4JMzU0aEtS+pb1BSB7UCR9+cNlyEktUt8ok8cwYiAQgqgB0y6DVChdXR84RjnuJaRYLOACj/lwhZz61f9RtFOpGmgCDsTXOOh0tGnPXdS1So2ZOXhkRTNZIIDMusnWa0tsLo+T9rxKs0NIJsEwNkOGQBUQsWCOzaR6XKr7E3/6wwp2ubTIT64ClNPGqeSxdg8l7BaJCigNyvg/54UmBbdAeYyizZsQJGkQYgA0WJZr9yff1UDhg4gWSkSVTS5qZZBeqRfVqWxuo80OKwsFpkotEokWbiEbK8ZrYQ7UQQR9PfBaYbKGSlEokZRE5/XZpHoFX3NkH6XxviYAiZmbFPM5U9Ze2q7P2nPoZQNdKNwPfYYqHOaEDlRZc2VjYQnSHAWbURY1D/M84zTFwISFoWOda6tluj5LOdRzuZ7OXy6l5Xdtgvvt5xoFy7CUMJMDdfLv8V/j/ADPxp8QZuXW0XTY2demRatSokbfMPqSLx83x3FirU0gyF9v8J4PwKeLnK1KxeJmiDKygapIrBBJGlfvzjyCdLl7KjyA7SgFhGK0g1vvVE/e8F7i66RRZHavWP1AKJGynVRXj2rAMmycQFHeR2XTqLWdTe4cj3wZEJIQ1lOkN8xYHk2TfjGLd0pBVc7sH5If6Di+cMMJVGcmLTenTxpK7ke94C2U4yELQv3B5/vjFFMZ2BWlLDagBvjCQtC8vcZgNIDNQF/6nBQhPDFvmWtVWCf6V/wAtxjFyYiFY5Vyd9HAOs+GUCzzscRInCAKld0SUHGoLZU0Ks8DTyLr64MIiyEwOnTekykGTSRdDgX74OknBWcvORIECxAyadzzdmqNeBeNCwMZwrHp2SzfU87BkIIWklldVRQoOprrcjxhwSbFLhfXf/Db+BGW+Fek5PqGdy8U/U80qTOCurSDuANvc+MUDIC4atUk2wvo38E/D3Q4pMuyZSOVqOocOaCtZsKCRRPH74FWiCLGEuo6e759+wukcl8H/AA31bJTZabIxFpF0uwVVYLsatQQb2O+OCpwQLbkdIXY3ialJ0jvv+1x5+M/4R534VyuY6xloo83kpyS0kKnUVe0qyHrm69ufp8/xTA18BfQ8NxDKjdQ9CO/wuNM/loYMnLm45HSRi4lBDUG2oCyARyd6u/vjjFQyR36qjmi8TY9/b5rXqZbspmMzliY53aTTGdyaIGu6JAIHHnffbE3PJN8J6UAQbDOO+iret9HOc6eVbLCLOZcBQRVamWrZjercbCx9PbENUm2O9lQevfr/AF7rn7rOXadZclIGfMqGEJ3JY7qNXp9Okj74J0xaO/dFn6SM994ytI52LP8AT880mV7gljKrLXqj9TbAlTR3Xf8An3xUARB/nvvktpON/l/PushSR85lGWVTTKCwjAKqSKOxB4FkD/LCgiLJKriRE479v5Vx0qBGy5iBPcTgHyN7HF+OeMAunKRwgBoyf39IXo4pYo3VhGnbU9tq4I29QBHNnjBA63SGe9++qhzZoIrSSRRPo2dmohlb+qrHG+GIItJVD5B+PblKuV6S0nYzKIHglGpYtmZ9TBdhYINDk4kJNjsovhri7a3f2z6euR5ToTRiFjGYEFFXY8ncURuLv6XjQYhXL4ED391ar0UOjN2lBCsQTz6jVnULFkV/HtgBjpUnukzKDm+m9hUCgKNQGomlulBom6J5r/tinhasb/yg12k+n89/dRkymtAZWRQy0wUl7Y0BfG9b37/vib2OGF6FGruT9voouchKIjlUaNdJQtXB3Unj2O3uPpjMbBt36KL6wuO++fRYxmclqLuqKUZhutC/+kjbzvip2AUQ4mOUfjv2UvKxRZVCrN6lOgKw1KaU2DtzX/l4mSZwlBJPL7fhZp0n4d6f1aQoVihnBp2B00BsP2s/vhC8kXk/0g9kkwIj16rdfwh+FsmZzCpFIxa0aKYMPGonZCaPIrCupEgHCGkt9u9l9GPwM/ATJvlMtnuq5LVmIx25zIVY6gQyggi6Aom9yK4vUEjaYHui8tpt1HK6t+M4Mh8OdAyq5AQZZhcWtAgMkpCBn8MSF/6fmBJIAo4FLgvG4hlNvP6+64n8YaVOo93t7z3fEeq486rmfzOemeHTOrakEiVEpvzpG4r3/vj+iPh/Dto0mUxkCDC/HeJr+JUc87klQXK+hGWllGuNUNFVNH0mjZJ29sdpptaC1y52VjMQkg1mJpD3GhmUaHAOltQJujdDYCgOPrh2NtPOyBLtU2CGuuWNY4xGCI9DLZVW3shLrzvx74kxuqW4Ko5+5Kfq0lNfbiZQQp1EEsb1KFAo1RwtMkYPTkUS8m4RY8xK2hYlVUhDSMVWzGTQBAJqyLob74Y6jnHXPyWlgEwkadkKdxnMaE62cEsvm7W2C88bg74Ba0G5SNqEiRC88pVNbvoSRg8RLalZf/re49PIJq+BjBpguxBi+6bVjmvJIFXUskhiUnQQCAoDbUtbkirG14sNWo3hDxgDBSLPOGjjmkWRVIYPwTpFk6jVUBQHuTXvhG0zN78z02CWpUAxKaZDGJE9bSCVVjSjpZRvpjurBBofWvbC6QHwBBVdRI5IYnJEcil0YgqxC0PVT1pC+a2+5wPCdrxHus1+lsIozEfbVnZYEC2FPJJAAUpY4w/hj9RMQkLgfdM7goFSQYwVcMSoSvTsNvY8GsK9xcNQEgLC1oXu6AxUdwaDpd3YW5b/AKfNX74mymC3l6/iFSS0pFkTQrF1kZ9TI0pLUNV6eaNefbFWsEHfqcqb3OMDZPR3t4gWWJ2JMoOrTVmnB+aztd8YTVq8rRB7/CEwZkpC+5CxB4wF1NqCrSm7AG4sbVtigY0u0t5eyxfF16Zli1LJ6TCuvUuxUCyo0geoVZPnmsBzGgQcrU6zjaEpWRMtIjq/rvtGQEodIBBY+o0bJ2FcfXFNB0+qAcQ6bBNPdmvsqlemonJBOgUCB7D2I9sRazW2MEdExfBmV4uikn0KdNImo6nQUbK8eau/tjU3Egwc8s/JEuOdipCTzufQAscSCMSItsCxNoLP244HnDHU4y6339xss9zGgmEz8z22VpWbtqtdxgdQI2pmXffavFbHChrZgm6Gt0WhI76AiZlylk60La7VuSpoki+Ls4LAYDsScFMXXslEjiMHuvbKAj0aBII0hN9gfrtijQ64JhKKzZgryTSySCOdo30hhqJoEN6bLcnUT7XpH7YDKc/qvzPMpH1INpQjmHSNT+pJMGkMiyL6iAKsA+BV/a+bwjG+YhovyVnEnommcxAspl0sg1ppvX27BXTp2Pq/gDGZTIcbR7rCppA6I0ksZQozoncASPLD1dxyTfpsV7cYctazzl0dFKxsmGQTqyrTRZlgZW1sjWfCqApGx/2vAquc9ptYqjHQRbCFG8JadGWVdRIhO12B8ynzXG5B98JSoseJNo+aFV5DRz3XpMzpUB4lhZNI7mr0mz9NvI4/zxmVXPEESRY7LDMhR5x3Yky4VWCqBCrMaKg2wur38bYq2iXmHNgRmfom8QDGUyWVUUelC+pRAsYv1ljtpNHezx98Z1TQwDSlYBMk+qAJEWUgKrzqg1mXywUFSWO5AsDEaRIJbg80r22hCaSRVnD5hVealZFXfUAX52JJI2sfxinnDg4ukI+KLCEETStI0CX3AyiMKFYkEmybBHN1/wCDDVJqEtaFrC4QgraUj0nLrsHdSAxoEFAlkIL8E3584k2i9oDdibmb+3JNq3+QXzJrKO0kCRwySqpMMMYIYFq0jURRtbF35x81VLSSAZPReyQ5ZX005Z2WSH/46LpEsSsspLAUgZyAAF3Pp2v64sKpeTptMfQLOda6tVkhWSCWBlmcMTMEvwPFijr4u+fvtzueAfKZIQa4EQcLJsp1GCKQEaY9StoYHS1kEU1LxRHjDM4gNcJF+SwpE2Bssjy/Wo9aRTtbRtUgTU4YHYAD6Vd8DHU6sCB6wl8MjOFlGR+IgWBbuCVXLgqSCKBA3HnB8d0aRzQNNoWYZHq0D9tY3CGPdAGJIDH1qpsgAnwcU1EuFlLTsMLKIM43ZUIyl2jrSCSfQSfUbNc8jjFqVXfYhB9K0qtnzRkWXS/rkk9CD0qW9z43r2wpqkCUA0KmZppHNg2nzICRtVmzvtdVgl2qUwbCn5VsxHHCnbJoUkgO/PB9jt+2CLkAoPEYU9s8ksg1I0ZU2JBWzqvJF35wKhDnAHGEBZEyyo62VJkkGpDrAIUbgEX/AAMbwiDe37JwRCMkeVGay7ue6FCMoDEIS23BAJAv/wAAwTnogDYr2byYYSqF0rGbjB2J8mtN/wAjCt1TGwWMBU/5dYoxchJLEhwfHsMMPLbmlddRJuonS0JelXUAV2IvfjAeZMJcBQ48zKmoqV0HTvtYBFGr2xmjTvZbaThcQ/4hPxZ/PZiX4R6PMq5XLsP+IZmNrWRr+UEe3kY8j4nxAaC0L6L4P8Pc7/vOsNlx4xEpYvGZ1kagsZo2pOw9hvZx4DWhy+qbAso7bOWNLLGToYEA2T5vxiZaQiSlzHpRWjZQijgeW5IbBJ2ShQ3kZAC0igMd2rfbxjNlGVEZ2Pc1WDtQJq/39sN0SygFtVsCArFiBVDbcX9sGEupBYWD6dDMAWN8i8EZWJC9rFEE3ZIDefp/OASiEiWAyFTr39Q/pH1HnjGQKaFUj0Cyo3N2N8BpuiSmgEinYC+ef4w6AUiOMga+ywAAJdqINbVXOARAS7qXC8YfgkVTqaC39+RZxMBNsjRhWZjICI1cJp+pv1AfT++DsUbwhcpZ31blwKBA23I4/cYX/VC2ychTSgkTtsAxV2sAsvzLY8WeMM0WRIldTf4afg9PiL4ryufzEC9vJusklqGAatiD9sWptkyuWs+Avs98JQZXK5aBNXbUUItXzAqQOd63428YpUdaFyR8luTpE2UyqfnIMz25kUtKuqmQ7MdP11Ae2OapXLZHf2Vms3x+VkHSvxGHwxls7mfzv5oSv2+0dZ0mhqYMdOmrob+P44+I4guAixz+V2inrAnPf5+m6198b/4h/h34k6b1/ps+Y/MZKDJN+eB9AjcIQNDLdlS1mxtj56vJdc32/nvbqvX4Fopxz77yOgXzRj+I/wA3mepxx5v/AOFNmJE1sQSwLekEncbcV9+LxHNxyXSbnv6WV7kSiRu4ZlMuppYQ1EsoO2ob7HYbf/YY46mY5bqwcQbDr3fvKJJBmGy0kSRetmA7UVaTpTayLAoELfmxiJdGYjv3TxMyM/3dc1fGcOej6kkUCaXU+ut7HLDe/wCw+5wW1Bedt1QMg9DH12WEdW6BmsxHHm+noJhKp7ocSbEk3ZFDY0LxUOEoFroMScfa+d1g05zXTMwkZJj0aVYWAPTRta2ognb++Gzdc7rkde7rJITl8wyyxP6jH6hGaquRz7c7f3OMAY7775INbb1tHffNVnVX6hlu/LbSQiRVaJgWLKLF3sAKrFmstJ+6lUaGkfxb+v4UHp3U5M/mYMsDokcanVibAJsX5G/nBLMqeuTJ+XK/fqtxdAyCLl+0FZwCKRiAApBB2skUQOeP4wnvfv797qbnEi/fos9yS5RHZ5goiJBeiNXG5I32F4LRfPzT/pI2nHf88lbZONH7rlECznU2wFBtR3G/J5OOltBnKYQL5t3173R/+HxEgRrqlYASAkaSFHpIYb8eN8PWp6QD33+yLXg4z9e+qg5joSr3XjIp90SRT6QtAAVsOf5xxFpkSuvxQGSB3nvsrFs50BmGhIdTSqSsrUTsduPaiR/n7Z8lsgY5LnqPmOXf8fxvjTdJzGUYwlUMRNJqDggjb28V/riBfHqnpyBcW7+kj+8JydPMzaGUREjUpFcE8UoFb3X9xxiNSI5nv+F002C9rWWxfgjojNnI0/LuLfS8oFgFqPG5IO3gf7Upt1/jv5rlqHSBn075L6Qfgh+HOezccMr5RJ8tIqlgRWpdJXfuChdG9uP2xepSAsc9M/x3KUVNIvn8/T5Y6L6P9E+H8n0XITwQQ9qORdGYiCanGhAFogWxFk/v+51Phy1skc/t6dbLza/Emo8RtjkuavxsnzwzKh0bLZKBbMhkCnXIRRKsSwpb++/NAn2v8TotrceXEWavM/yXiPD4JrRv3+FzWc5DG7yH9QRM6sshsjc7+ngcHfH7jTDWuAAyF+WFxyoJlIR4nldEykSlpZfWCoJIahp+ti7/AJxB9VxdEWC1M7jdSPzKxwiMoQ0y6u8kmhiWokoN6G4F0Rvi76jmkDmjrBsU8zyLITNBGGdRpykhJpgi0zAgUD4NCv8ANC1zQXASUpqDlCFFIoLEKWZnFuAVZdQJJG1Wb2/vibaZA6c1QVYEBPkmQUyzmNmZtZYE6lvhVscHa+d/fB0w7yu0lBtUkXSiV17GtmiQrb6gCAGYKOCfvR5xQ0C50OMoGqFLMjAJbrbor0l2U3IYrsKIG+MaQMSbBAPQZs365YVdXRpFeAGw5ULRNcD1ci+P3xq9VrfKfZBsEyvZbMCIu2Ybs9wgNqVXZm00WDCwPTV77+d8Gm4MbMZVS6UwZlNSkV3SzLO8SOAi2oBFgEc/Xf8AbCOGog4ASkgCJ+aWXM9yWT9WU5ZVZXcqpb0BrvSBRJ2B84mamp5dthsdEaZa0Jw7qpHLG6TEU6QSAkkqxIpfBUC/vjO1aQZB5g5UzVBcRhKXklDyGBNU3/LL0oIa6YKBYLE7AG75xYB7wXFl4AiVTxADElCeQ+hbLNpIQAelmoBjztdffzhBQ0O0nuEH1LT1Qe6GnJchO4ytO7G0I4CjcD3Iw7KDbk5SmsnZaWLuxpI6qzsT3VcbNuSADZ3sDBLGNEHKXWSnHNwtE3qNZhDEHJt4yaF2Nrs7YdkAkBEuIEqO+ZLLJLJJ2ew6oe76xqoAURp2O2+9Y5RVc51xCZhgQN1IbMiNVy6Qt3EK6AJKZ6v5lo7MfBG9bb46H1HB2lAPB6pzZh0ecPHGXYsyxsdTReo3d8NW/wBfbfE3tcxhjff7oF4KZBIqBNKnYkGQBgRpraqH7jjCtpkDFvuqGqYsmvKiaQkxGpfXGwJZz/SRuNNjyOa32vGY0h0MdCAqyLoxlZHAkkMShFHrUGmKs9bahtxXjD+BqJnZA1QVLLlJSsjhdLAziO202Byp++2G8MFwLjKAeocmbke4gytJG8jJpJDhWNoSTQ4+ux/bCV6rZ0nK1OJnZFgzCxRukjLE0hYpC0YY3dmyvgv4B+2KBwa2Iyn1SmxZiMyR6GZQ4HflhUinttlLAc1tYqv3wkAv1GwSuIiJn1Q2zPdMsjySfl2pkZUBJ3UKPSBRPJGICoXS42LriOSdjmtCNrmyxjnWSOYxgMbBdkBWmdR+9V7Yd+psEQ7pvKk2oHEjF01hKyMphjgkk5LndAKIC6aOwF7GqxY0nVQfJdxjOFRtUaslNaaTW/aJMkmnTHJQjEeq+bNb70B9MSFAGQSldVgAlRpGVjNlUHfs12XCrHqam0k8kD/b2xVnDx5QZnJQ8WExpXY0mlTJF25BtpN0Bxq3PjbBLGuJBJIFo2lI52kqKcxcMYUShI6UCQFtQrhVXSediTY8DEIIaJJhqsXBx0xlMkZVR1jBM5iaPRICVpKOjethtZPHth6zJpiP1d5RFQkiUI5pe3Jr0u0kXcRntQpatasT533+nnAc0NbJA81wOSV0TYps2Zm7eVLaP6goIWMAspA9zx4O+/vi4LxoxdTAGqWqtLEeh+2sqMSjaiim/IJ1aiNwCN8cxbptEkFXY+8r5o5YTySpDI2qOy0ahj4NAFtvmFbWd72HJ+ddSJ8uQV7QdpFlk+QzAJilWUyLrbWAi/MoFK9+NyAK53+uF0tYSIzf3CIcT5Vd5jMTtluykCCRZRLSyKfQ++o0dgDtQPHGMajoDo8w+iRjRqMlSFnzEbWysZnA1xqKoEm6birIP2w2g1D5zvhMajvXZSHzGcJ71F1RlOQlkk1sVY1e2x5AP+eOh1IgBymTPl2Cu4c5nY6bT6auPQQWomqIvgb7j/tiYFyD8kJmyvOndbzUB7uoKlDTuSwbgAkmzX8Y6hLRKRz4stl9N63+cgRRKqKF0rqNkHcltQ2NjnB1h0WgIDUQraHMpM0pkaJHjVSgBtgAPURtut8WN/2wukucb4wE8QFksf5R1JMaq/aCxpH/AFSmiFLArvXgc+2KadImIJWc4WhT4VifJ9rLxrH25GVKtdz8xIPO+xHjCEHT5comJuqrO5KMSB1F0dQNVYHj/LFNJycpA5VrShNekstur7cN4qvtthHPdBJKwgocPUgCULU5YurEk0421DfYkcnEy4lNbZWz9QXtH9SgBqJbmiR9R/bFRUsZQcyLqtbPRvyALFa2GyjGbdwCRxgSqLNuquXY6tzvvQU8HDkAGQph0rnz8Y/xVj+EOjHJ5DNKOtZ79NWa7hiLUXK/5Y4OJ4gUmlw/UvR+H8EeJf5v0DK+fmc6hNnJ6muUTSmZmYgsSxJYsffzePnKlbxnapyvuqVNrAIEDYKtVQuotay9zVCv0v5iPYjEC2FYmENW0u50hmYsboEj9zxztgAEpcqOxMeq2V0Rh2jzZq+R/e8MWjZHChyMGLBlslrFc1z598A2CUuUaaTSxJNOdnA2BAHH998a+UoygOxaByYwzqaWRRuCfOKRZApKAZdRo0dwTvxV4nBAWAS+kKx1BY79N7G63v6b4YNWXownqYEyIVUoADQFe/vscZzbor2og3dathtt/AxKJQSswsUAdiBe9H7YeSFoTo2KgqARq8E+31wQbIwjwkigW5FPIRY3N3/bxhdUIbowUrq/UL0pCv8ALQG/G/k1hWiehRknKNuwJUEuPUQBtuNtak1veHJ6QtukRVeVFjkbWxp9YINj1bV4rY7Y3cqguvo1/h4yuU6H0XKZmADvzOWk8bsLocYtTIaF57xqK7ZyHxJkczAkOYzRUEDSyk0Gs/WxW+JvfIzCUNJuqfq3x5N0HMNFJmy6JGCGrbVRAHpsCx4xw1ACJVGsIAPft3zWsOufjvLnGzPSOlvFOrQECeIbpS1epiBYHvjgNUaiV6dCid+eVoHqfxB1Pp8+ayU2YCDqymXMpqIEmon5ro7lTzjgcQe/7XYYaD7fv39lN6XLlI2SPLszrJ6Sn0VaII8k2R7VzWOMmc/NdIkj+sd9hbEy2ftXzLfLG2xIptS1u1kDc70Nv4xwuv0Ks24zHfZV1D1CKLJZjMSSKBGrsoJZA9gE0vkAEHj7eamWwO/uqMuJjvmuf/iTMrmsxNNpddaC2rZQF3JYg+T4+/PE4tbv27/C6A2ZtbP2UXJZWeWCHSmvWPUqWqln4BFHirP+mLsIAjCmXS7I77/dYT8T9Bdpu5IQJAArIWvUCAFr+KHngYswiDCjAHffcrGOiZQ90s0bMASwayxIFgl99veuB5wzjew6KUk2OOiyvqEMpjaOGO+6mjSx2c0R4AsmqIJq8Ua6RJ779FOtq3F++5stWyZc5HqZzG8SI69xkIoMu1UDybIIrbYfTFw0kYlcpBBv3y+mPcLoDoMAky+T1n/nRB0B22aqu9xxjMDgbKeok/bvv0WXrAo1qyEgipBV+miNlIBAscf64dgkSPZU0F3ffr9bouWabKoT5I1oSNXgGip34P8AY4qSR36rnDSZnv8AZZT0xe84ErJqrYuNNtek1e9+of1ef4o0yII7Hd/5T0OUbfjv32VjNk4yirLIwhJvWeQf6twKrE9IJJXa6oNIx3j7Kp/J0rAvqhBHZkbcnitK1fG1f+8TqMh0Zgd7qLnAuJ/jv+kXOfD7ZrL92CGAThyGVAqUb0rRrg+/745KlIC3f376qjagJ777BCg5D4Y/MPrECxuulWX5m2o+DvW/j/vzeFfquoPJaQCe59f5XVn4Q/hxK8+VkmyhlVgWY6Q5tV1AUD6Rq58D3x30aQg7d/hcpqjHcd+mfdfUP8N/gmHo+Uy0uZyt5mpGZnOkD1FANJ1k2DuCfTdD6XbR1PiLd+39+64eK4iWR8/rfv8AvbmaHay7DS7JobUT6gDyCSQ52+orHRxdPw6GCRvPOZ6n2P3K86l5nd/wuJP8QHVfy02T6e0cIiCyKkKgAAh9OtixDWQLvzzQ8+v/AIJw+uvUqELyf8yqkUWNBkkTfquXYupE5hZI0dJJ7CaQqyMyEHST6t2AoE7bY/YnVGvM4NvovzaDCGOqnM1JCqZtNeqJgNJLCrsIK1E3t5xNo8TzbJnNLPUpB1IaO9qUqFZO4xKAI4IIPmiRd+9HBlriCNs9FIkyFIXNSLptgqxgadRJUJRNsxJ1bDYk/wB8UA0NsZlHU6U981GiqpmaVtXqQMUBXT8xHk0dqOHqtpgkGSBGFNrnEpsecIEbhgwjBVHNsXUAiuR6t7J84lpkAt+qbVsiDOh5eysl0p/rKkdyyNyxA2PHm8LUH+oKcOI2SnPQ6of/AJDPpYI9sKZWbZXG580D7HGFNhYAMyZRZVcZRHz0Kdr0aHjso0ZLhJBSuaYWGtq9vbCVADEi6LSc7boC55REwjZgrHuNKQQS1gsCL1BWN2Pa/OGfSmnp+aV9Qm5Rvz9o8Sf8oMWT0aaQ8K9G342PB/virWFpmLLGpzRPzDsHn0IAkRIeYagFoKb0+3A8YdlEWIgapzskdWgwgjOyKWKMqyDS0MiimZFHpjskANY38ViY4cuuHB0bhbxYylXNo7PoAMMpVWUAarqiLJsnYX5xjT1ElxMO3BulDjM9U2POs+kITKoVQsbCnV2B3I3AGwPtzhmMB/TLo55+aq55AvzQXzojcqu7ODIN2stzYBNXsBiZAaSSg2UNM9pjDS+uRTq0FgSP6rDlhvY2+48YXTpIcRdZ2rEpYuqdppZF1Qkp32MYVCVGoMWFHdb1EHnDuqNkuxumINkI9TaQCVEjkjAYxypYAQ6vUAoINDc+2Ea2fOcJnjQdK8c+pX1ldOYAjZ2YxWLDKpINqRe1e5/YgtcS4GxCnJlSRmpdVySCPlZGYUFsADY7arPO/wBPOLNGmGzIJQ1O3Xpc3EFCNMx2cS05XQbqwtc2NyNsCqKV5kwbRskaXHKcudIIlbSNa04UE6ht6l3FAVxWFDTIITapslTOB3lTu+mEBHYSEEaKJsliDxwOKxJ42BsE4eW3hP8AzsbSoFlMzOugxsw0u6qasCyG2338Yc02EN07D6osqO0pZeoQKQ0VoVjqGaO5VCNey2A2+myDvidRoc6wui0kCdvymLnYVSKMaly0bClJ+dDY0sbvYGxfmvGHqUgQ0ZAKV1QzO6f/AMQdo1VvWIvmITtht7AKX8wvlvv9MUa0snULLF4mEV52CzTOiBWKq7yAsxDNYoj+o/XDihpEAhsiZOyma14QRnZFLFmXWGJn7Y0mVW2sEkbBTuPfjCNoGQ8EW3CPixlIc2pSSgGhYu8fbVb2GrYE2QDf784TwQRDyQDfylCm4ghETOs7OR+utnttRLIFpm1DejuRzfFYvTbMuA1fT7oucYAOVCOdVCyAxKY99iTsCNWjkVZ3OIPZM7FOx3O6BPnnGpEcDMFac6hdFhy1Gub2HGGqtJDtAuYTCpqNzhebNSxvzGzSDUZHY0lACrsFtt7HGFDHaiH2lbxgb/JRn6hcZcGlmQXa+klhuVJ33sk+TtvWDGS47ygDiE2bqKSSCyIkclBM4LrHwFBHG/PtQwh/V5s9QgwujmhSZtGkVhaGUN2dLEgqg9ekbUDVD9/2FSnYDnyCzaxk9ED88UT0KzxuLU3qIbUV1bAaTQr684oIDDFxzTVC47r52QpFMskcM5nkjQmFo9OguBQFmwKqvOPkS5zhpbkZC+pLuYV1lw0LWpDiKmR4rZmdRTDSSDQJu6r+Mczmva4ECQmEHAV5BJqgEc8glSP/APbbaSURhQK1q51BQQffjBY7UwhwmSg+C6ytIEjivVRNbPKDsCdRPpoEAeCMdFJtNlwISEl2yPl4WaVVDaMslSlXYdwA1u/AYk74NKo6wMRff8JC0QFOUShlKMpkDFMyXSm1MT6i1j0k3S+2KuJJ8lvVBzgFMjywjakkMkobQIyLBCkcbXsdxijXYAmVOAVnOQzcUGXRGTupZEYA9LMPNbA2fAxKqyqIIwr0KlKIKIOrRbvArK8xLFhekVs6j62KN4wk3KBcwq3y3WRZcgdtz6tQsVQrj7e2Ha9xJMpHPbhZjkOrpL+qGLEgN4G4+g2NnFG6kA0bqc3U4i9hu4vp1HfzVAbWReHc6b8ko5KBPWYKyqhdTWoAGl5OxGxwszEhFY9mcrL3HKEXuWbfYDmyP9MMRBQ2UAZyU1HI5DMQbO/02F+fbETWkpgwqzymZMmhJAyyyjVl5NJ0qFI3N/Lsbs4RtR5tzTPoiJlM642np8+aDFstkYBms1mCAiIibMwrfxx9cdDn6j5R8+nJRfSNgbEr5VfiX8R5j4p+Ler52VmdBK0OWkrbtLYUKB9CLx8z8QeKzyeS+1+EcKKNEbrWuuYbLJSaAVLbgH5XHuLxwlrZC9ZPeV5AsWxiQBgyH1cgsL/cYLkCis5WONSPU1KzED5SAb/tjF0NgIhRJXdLEZ9Oj1DTdkUBX7CjibXlAqA0h5DnVY3Y7EDc/wC2KAk4UyoxAf1ADfkeR/sMAklMEJE7Qdu5qCm2Q4YdcJSZSWxPdcKSAdIrj2/tjapTEIlAK6sBTga25N3x9LOAHIBPcmNnAI9QCkbkj9uMYmSsktCmobjhfB2O+2BCy9SsCUq/+nzgCUEbQbkTTqdD6SPUrWNyCL/7YcNJWlLklDLp1jSvHd4AujY+uEiDC0q2jGWZYw7JsSrsCW2B8WdgfpzhQ8k9EUBn0f8Axwv6b2aaxqS9gdPHPF4YoFBjmkjbuqAWsciyf9f7YK0FdYfhD8fLFkk6TNKsEkNML8bekAHf3GMXQouEGV0Blfj0watWYWMA0rIRpO1jzwfrzjkqEhUYAcLHuufipmOpw5zoEcIzGYmS3zZv0IdiAefGPOfUPfzXQwAm/wDC0jmc5kegzTZ8zTSZuQlkhicjY8K2+3PJxyvqCe8rqZAEOM9hYafijrfxDmo42WZIkYCOXchFsbm7Jv8A8+vM4wDCq0mFv34E/O5bIvmA4kzVUygWCONJBPG/24H0xxvddUa8i0/z3us/6Pm5nzCxSN245aQ2StNYsk2o4oHf9tsTInOytqJue/5P1WXdTnhOS9OZAdxpZ2HroiwNrJG5qjt/YcxEbLqabwBf7/1yWjJOqSyzy9OzKiIH1wu5GoVezHbgXuRibm3kd+i6mkN5Rn0WUZJUhyo7TaG+caa5q6VhXte2GaSMd+vcrlEQSRbHTv8AlV3UYo81k2hmPq7gZUA1GiASD9QDjoDtwtY279uiwKDLSJmTlWjWGhqScqQpTcUCRvsfGAHAm/f1SwdUX+V/37zzJmswuZy75XMQyCWFby7RhlYgUAAbOnf/AM84qMevff0U6hBM9hazlz0fSc02VmKsue9cIYFips8G7s+PB/c46mu35KFRsDNv4+/eFub4bzUbRwu+YEUsKKqRWGICt8qkbmqF1/GKtqGYHfeFz6d/27+a2X0wfmZhIr9yHZBGANJ2PyivudvH93DbR330UtBmZt333CspsoXhVhEWokIwFFhYIVhxVm6H+mFLHC/f3uUsjB+vv7/NWnToGgljdowmokhgdq1bAf71hHAxdUAGN5z3n+/VZLOqdui91Uercsws7URQBHnyNqxg8+n9KhIBjOFBaFpCI2VdBpzrB24F82Lx0uG5z3381Av62M46d81lvSenvK6JIuqGGtUtagBpoHUB/TV+BizqQcLbpdcEC957/HNbd+EfgTLdQzeWVgU7jj1BQVZmKk01FRVWTtXB+vM+npJIHffVGnX+U993Xc34W/BLJMjxxlGjjCaWVQVApNBeMbE7mgF2s+qsVp0wDbP572vnITVK0ZmO+/5XW+Rj/RhLxmJ1HqQ2N/fgDf8Atj1eHpAwcD5Y7svJrO8xgyjZpUeJldQwbYqeDZ4OOf4q1ppRaT13m/1+vulpEgyF81/x3fJr8RRx9PiaSaNpJsyZ9yZVZqjAPHtvv9Bxj6f/AAGgRw7nRvPsvl/8uqB9YAnZc8HOShTIz9uWL/mFSrUWsWb4rj6nH6EXl41HyxbmvjAzqlObF5qZZ9ckfolTTpVlGz+n03sbP87YIcKTToN+aByJRQ8iTCPWY2DM2tlDjcA6Vqq+VdhwRhmjzjTuLpahkEpn5qCCdIJARSroYEaXA3Mbrvdgb/3xQ1AXwRZYUiWThJ+YkQwdtzqcdyAn9RfUSzeg8ge4wHu0vkYKoIc2EcuF+eUiNqLBlIZQo5AIH9sJBBlxMKMmU5sxq9YLRoLUIKLaj8pGw8kfat+MYkiwHlhODfohyZqOTvRiw+gJKXJBYoLa24pTxX7YSWO8rbv+SbzCxTzK8swniiETS7uGcsrKnpUquwBFbkH+Tg0mOa4uwDtnHVFznadKH+aXU88aBVlXUIrAYn/psDTWkFd9/VeFeWk+IBF4j8pXRCN32h0RSydq5CIxN+oLI3Undhq3P+2Ok6WCMSptLjYXXpc1IpOqS7I9bFhpkPqemB2F0Ad/5xqg0BpyB+VSmAQZykMkzoXigcRyj9Yf8wqQAA1rQG+4rxeJmR+hoiyk4gHzJ8mZeKJC4IePT3AbB1MK1A8UTQNffHRVIa06rRHzKVpM81FfNK0tTIe6SV1X860NmAuyduD/AL45pIEHmqtaQCRlFzGZmhBcoiiXcmtWnT/QoN0TVgjGLnU72hFojqhxzPTvlEWURqWQMBZMgANHxQpvfCiwkeaO7I6ZsbJi5uQGNllEZYiJmXS4u1P1Nn2rjAcS+HHyztlMGWykjzKspkil7gzEoSaIqK3ahSbCtQFbbfXBDxTbDDvCEw6SnqzlmiLldKFW1DWXsm6ba/mavvh6TYeQLBSqG0lN/PQJLPG40yRgkDV+nIKIsgA1pJ598O2o1zjITOpENlKJpElEKuxKKF3HcuPTV6TZUm9qwpdpdA3VHQ5qP3FRv1JNahi4FENqPC7ixf2wkaT5iSognklM7NTKzgyACGNSuoMDvvQHANnjfbnBcTcRA23P8p2mTA9kw52GQs8YJjEok0uSpYKQAxJ5J4/7YSWO/wDbuRnZMNWClEzJI+YEIVCDPmIWctZbclONII9v4rDUWmnJODeP5We5xAB2TVmILLGL7zDSikKx1ck0NPJBGnjTWEEBwcB+rbkg+MBGXNOjRRiRUmAbsRzeqwDYXWLNrtyf3x0nS2G4U2lzha6ZJmmQkK5dVJ7LOSrsi7UW4sknkb/bAqDQRNxEKjAC2d0rtmCv6MLrG51IfmKOSSAX4G2x8cc4Uag6GtESokgG+USbNGNo6tLYxrypU8+fB3I3+mLVoAg2MwEGE+pUVM4neGuCsxzJDfpdlY1sPIPJuv8ALENflEqmkhvlK9mszLFYC1AxZy5q2ZhYCncjTYJ3w7XvbBABG6djAc55qH+YkpYCYyWZrQ1sVAfQWFAlb3I59sK5xmRZCW6vMmNnHkaOVtJlOzQOo0Rs/wDWDpGx0gjcX/lgCbvNkSABa4UGTN2+mQxvGQq2w0i1IFIDuNht7c4k50PhpsmEFs4TsxmHKqixhQdnjZTZCi7CC9t9x/leGrVH6ZOUGCCosOdLNl5DIzTgFzALHdUEA6RxuDYo7n++FazZ2vhZ4Hm2lFlnzT5hjBFULJqfdTRNCwNRO5AG/FYZ5fa0AoBwO+F88MtmJZAs+smUKI2dqBCVsBR9N+R9v2+GGsyQbnK+vtur+NnPaKuGeMM6SElFOq/Nkk/3w3gSROym03WQxNmWChyRo2TVVEbfKSRtuRucW8OLoEhX+UMmkK+onSSE1jSSTXArgD+cONJjUpGQbK1hgfeWS41JIkLErQoNsObAw9Oi3Jnql1HCkhTRdYdMYQCN9Ypj5A33ojFiA3CWYypSP6ArjtkADnYGtwR9PrjBw9EknZT4TNOnb7oUC+xrJYAChYNcbVtvh4JGmVMktvEqyicRxs0sZOghfUCDa72KJAUXwMV8UAXjlhAt/hJmGdD2i2nQdRsAkUCBVGvJwriABaEzQVOyWbzKXqfWlgv9aIohvp/GJOrFozYqrWknqrmPqUncVgW+buMbFHncHnfjG/UE/hlsq+yvWNIZS4Cu6rICRXjnSN72vBLw282JWaDBCt/+IDMSMTSK7H0k/LtQB3OASS6yLWwLqjzcaw5gZhQpEbLGgY3bNt6QL23xzVGuZBVwQ4RhSMvmv1GSByrQKYWiYUHJBC+pr17V4xQOLyQZ8ospmnpNzK1B+OPxd/8AjP4b9Xy+XzDDMddcZRdL+pANLMBX9L6sO55o0DfKtwlI1+KaD/rdfMJc27aoz83rIlv5WrTf7Ctjj5HUZM819vRMCOS93NYLorGUAaiBakqSST9z4xTKtC9619AEcUaqGJA5HG33s4m8+ZBNAkeNgUISwGiY8V/73wpugg5x1MtFCiittzv4qvbAaIQJVcdepl2BbgHaxySKw0pCmKQFFkNyGP8A1WKHOC3KyaaKkqAur0iPegOLJ/bDORTVC0y2rDhmU3VHzhLrZSHSdICG1Hqa6DX5P2weiYGE8bFmUkMV+byTe+NEFAlIhkXdotRBKtEBvQ2Fb877nDkrJlBbJDjQSrPYCC/6fqcKAN1koNFUXMCEP6BpU0VvcVwL8nBMEeUoIsTEhB21AfbVqobbeMI4QUFJs0qABmUlStkgWKbSPbCgwinRNWoOSmlbYiwVA5P338YZhWTdUxCMWo6BwTVkA+mt/vg3RU7J9QzORkSXKO0bH53JHzHcmz4u8NpKU3Wwcj+I8+XiWDNI2pwoLA7jV4s/SjYxz1KchIPKVtDL5npUsMGcyvUll/N2pWtJXSwNNVnzt/6x5XEUzELopuwZ9VWZ3phld9E8cmXJqViF1ApW4c1YtceZUhtpXZTYJ5SndNyojzOXlgEeqyGhO+kDbceTeIEDdUwFuHobQSI+YjkjyzKrK0BIUXwKPgb8fvzzNwtCow3nv69Vc5bMfl8xWuRXeUuFOvk/1KosGrJ2HP8AARwIHtsqsub99/0rfr3Xo4chHLGVGbRGVmosXKkltyTZAv6VY965y0RCtg2/vs+i1pkT+bzwmnYkgj1MV1WSaILAHxt9+MSLfkujxSZby769/JZ4Z+zDEulV1DSjL/1Dx/SfNfT74bQe++iUtuIxz/Pfsok6iZQY4hEC5vSlmvUPb6eR9cGIymHl779eoWLZpkXMSrOSSihoWFA7baW+mGAQBzfKxydw84Jk0KSSpJ2LISa28VfPN4eSAYUiATI/rY9/bbEut9KyXVGdZfRPGe5FK7AHWQWVAQaI+u2Hpv8AD3S1KQOJ+0Jvw51PqMEcmRlQzPl205ZmarAr6/QXuBi2obHKiWgm98roX4a6qMzlsurRVmETTOp2JrY7DmtW9bfxjobVk9lTqhbJ6dMryehFUNdagSCSQdtl82ecdjS3TdclW1ibd5WRwwmR41MbFVUfqnitQFG6NVX032GOdwAB/B76qjGgXVlDEkOYEjwtNL6VJUHyuzHeqOxPj/TQBBFp77wjVgiOXfplHjykDucwV1ej00KPJN3ybHt+5x1taDYj69O/4XM4yInv076LPvhrpUcCCRF7cR0gECiwOxUWp3HvXjziriliTBt/I/mei6p/Dnp0CtlHdFVhIGoxgglgabg78eSPB24hWuDv88+37b+yLSNx367euZXdPwjCrZeDO5d9UDZeNGAbcAjUAAUBsXR3F0LvxWjIm2Df8dOvyXJWiBt33iyzoLRsWCTuDuNvYXtsMeixvmm99vTp7ZPObFcpKjZ7uLC7RLrcKdtOqvrW1/UXjj+KUyGktkkD5fT13VKMEwbL5P8A4v54Zr416uk0zTxgARyuNNirDhWoi1JO5B42HGPvP8Ro+HwbWkxqE9lfDf5TUdU4g6bgH7LUsQk7CO6JotnAlAUkIPTqPg3W23O1Y+uY6LnZfNOiARlGDZc9rMHeJAElMgsFZSWUU9cDaxzVb4ajTFzyRdrAgxdDV1lqSESMsg2RhoQuwAJJQmgST+/2w7YEvDvaEpkWdhKXVCq9tYXzAVWXSVYF13YsvJsVsLOM57dwiJIthNaTulkLACSiCXKgOOCp9JQGt6sD2vCl9tO6wN0uWefUyamZEXRQtvlsUbFk+nnjE6Tr76TzyqO6ZXkZGnjaJjRYCZnBGrYqGog+pTsfFftjQGultx+Usw0yL9E5sw5nm1l5TEpYFCN1Ow1gbE1ZqrP14wZJcQclBhJbIK92Qi96N27sLBBIfS7USZF1cA7A3XnxjeGdcNwgHgi4KJJsqJFJG6blVdktddSawo3/AKv4GKeE7/QSB1Sh8ZHomStHOp7jyvHEWEka0mkCmLUaa683vth3hrzc3TsJp2G6UkBe2wIjke2FMDv8jKSaArkEi/pxhbXDkBlBGYmjKxuiHVJRmSMooWq06gdyd6INf6Q8QCBNsQM+6oWAiSnyyXZYFAJNJDMTrYkEMDvRFVX+eLvYAADcbJGgHonPoijL9zW7ep03AC7WDe3Br7YFSCySs3KYJWCl1iRZXHrZrTatnXnydq5xKk7ywRKziOaGrQmLMggqb1UKOlhs4QEDkgfuSfOEAyycI1dVjEhEto4o5czHHpRO46nZrZqNNyWq+D484o1wgl29krgJGjKe7wwkzubUp2i7CyZIlBDBWoiybA48+MNSYGtnv6ovD/02Tb2Zsukjq1mCNvQAAS1AqSL22v8A1w7IaJDpnaEpP/lgJWkSORoUVIrJIUIV06DqAIHOqzYA++A5zeUI3N0N/wBcPHqqzqjuUht/mAfY1vsKPgDY4V9SRHLKLTdPgmmkjlZ3YowBtASK24FXtfn/ADwtIzY425p3ZslgdPzGuFykTamLUbDbNrWxtqre/NVW+AzyO8txsUj3QzF+iasskpnDF+5qETNERpBY8gAEWNuBt/fGYJ8p90ZOnUDZOCJH28xG+lHNOflLRBQATZI2JII81zgtpkuPL8JdYIuCivaPHGro6QgILZWdBGStUtHev5OKtpuBBAlo6pdUiCLlCYxTduaV5JEWr4VUIYqBpFMLbkb+cFzWuMzdO1xYNIXmJ0pCw0kA6QwIKycnUWOkqfa9vrhXBpaQ5BtsJkWalMkUbIFJ1FpVjaIMbsACwbG12f8AvPXqdBOeW3r1TPY2JSPKP0i36dkhI2JYgrduD51XuP8ALnF3tgibkYQAB6J80qZRdMcxzDWrSqpo2xsfMNySN9rNYWsW6QhTaT0+yjTOlyhR+Vae9cB1KzEV7kn+ggkbeMBrpbAK13eyjGV540loNC1FAy2rBSNXy2WO+/gAc40OI8u3NUOkobSPPMQkrMCH7igfMxNFtW4Nihp4u/GJNJqOJF4yMfJAODNpUdnLrADEwRH1LHSntg6dNg8eq9j545w58xGrZHRIJlPTqBQo6xKJI4tUoalB31Dk6qNcfb2xQuMBw3CXSI9UIa+4yWtIFVVLKHJ3atJu+eQKxLVVvF5x6oggCN1W98lcqxcTyQalZnYM6vZGhh8xoe4+2IudUs4mRMKzWtMtGVwnk0kjQM1QoRTOQV3N0AB5Htj5JjjHJfTOMLJcpFrX5DLzpmFBiQa5Gw8XWGYwuMAe6SRMq+yjxagrM2hm0ypBUgIAFMaJG5B8/XDwAblC4WTZEOpoMhTV3YvPLanJO49XivbGaSRBNlnQL7q0jT9RgpAAGrvodVsx9JJFVYOAwuBMmQcoGHDF1NEKyEAK+sjUQrg2o5K77X7cVigdLonqPRK2nkqZCcvqkfuNIxUBENPKxumoCqF+f4w4e1ruciywZIg2UrLfNqlmF6AxhYi3Kixob07KdiB++IB1QmZtyTFrCBYAqU07/M7FIZ41bQ5Oogit+QpG1gHFmu8OdWDdJoF0JpEKqCoJCjUFUgDa9xybA5OKOeNIBF4SgGZSiQdyWHQVSOJlaKD9QBhupDAKQAOBtfGJtaCCYsPumaZsOacMwjrHKqKVUfpMAa3ALfMLFce5OJglw9re6prGoqScx27hDHLxCJgA3z6lo0CCwIrc7HGYwXOwQ1g4zKsMrnVHZaNhfypbAqVaiaYc1e/tijDgzj6oOdlWMWaBkWRkVVjUv3GYpSpVEe5Y+BzionXMqbiHYU1Zo81CT3tcLOTp3TSq2GFHcbmsIB4ok5OVrtEZK4v/AMUnXzJneg9BgZ2hyUTZplPJdmG1Hwu9Xjl+KPa1gY3C9j4FTLnOqH0XG5e5PlJ1kux1Vu1eDj5sL6hoREmSGQ6Se2tWoYEkgXdjwDhg+FSUSGCNoX1TOqGipfc0pvT9jieq2E081NeYsrNIzaHYNJsN6qtx9cZ1xZA5VfMR3pG7dLWosWur8b4IMJYVUyrYZ9iGAVQaBB98V07pENARd+vSwJYNwd8bN0U4SkUZG9DXpHigRVHGKMJrACRu2y0QFQDbkbffGWwnghjTu13toqj9cHKUlCUEgM24BvUfrxQwsQinrIQy1ZDFgxIqxyTf0wCbSmAlNC0qgSFlHq18gMQdjt9cbSQUpMFMVdEayCiAKXUDRJrYG723wQIWunoWoKz6tR3Y/KN/pxjG+UVLZm9Eo9StXcAq7/8A6aon/PA0LL2sgGq1mlAG22m9JP8A1UfOCBCy9qZkTQd10gmzQsAG+f23wpJzyWSaiyuBdNvsT4A3B9zhkCokyroY8kNQ0n1fb3vCmwUysp+HeqTxwjLkhIe6HCMeOW+mOHiBZBriFtTo3UBnct2hIBKVbYaqCtbWa2PtVfXHh8Q2916NKYsrFGlDgoxBC6hLITTDj06gT6Sfv7Y5wIK6KQz3330WTRdbaKQUXWZCGOoE2wO9jg0VFWfbEi0gWXUNJJJA/ZW2V+KUWZZHkcyREgjayBZJZjqB/wCn/XxhCY7/AKTaWiCM/wAjZCbrWa6i7MFJUPqIPptCbNHxxfi+N8I5sIZOrr33fYrKOmQQshcyaioCLqLMbNHai1VVD63iZbBvbv2VmOBMG32+ys8/P22doxIFCjW+5AoAGibqq9vfBY3ULx339k+qQQ03279P2UD/AIkkeXCgaRRLt43BIB2New+u+C8wsCG8+++8rGep9RhzAljKFWUHQaIJ35JWjR3+/tgDmO7Jbnf899gLG4ZJmljqQlg4GqhTAiz7cCtvscO4AA999hKG6RfdSyAyOQSU0EkVVldubAFH2P8AriLgSUxjB27/AJVZG8RHdVhFmIWAKA6iqmwTzRP78DmuMBJThkmN/WP5Wz/hzOwJJly0zDuIElYDbU3te3NbXjrom98999Vz1zHIx3+f4W6emvlgUdHYkEKoG5s3pJ2sb/32x6DJIsvOqMJM/t699hZsrySLG3e7cMpN6lZqB+XVp2FivGM4Ai1yqUvILSpeQZpxmRqQrGCGcgAEAUdNeo1eLtYWkFQfUBBERPfJZrkcoay6+kpLIxU7MRRHvQF/sfrimmd8KJcbuHv8+yto9G6WMxCkoJeLSAIWOkWd99iKoCvAH74cOJwI7/KNOefvkd/Ldb2/D3TlJstBmoRNG0qxxop7dDdlBJBLCx5PPG2M7zDNvn3/AD1TFv03nvAx87rur4XSKPLCJZontO7mVVjduoB9OkaQKGxs3523NAS4kmR1OAfSb/L2XHWtYLMo1IRRzQALGjdedqx69FoAsNlyON1C6hmVymXlneykYLNQJquTsCduceV8UqlgsTB+/c++bFUpN1FfH38Us1HmPjnrUMchaF5zG3pDtRU0aH/SRyDQ5x+m/A6TW8NSAMiB/S/N/ijnGu/a5stf5v8AWeQCZcz3AoRNQkbddJrbbfex7DHuVQ54cD+kXXmMABndDiiljCRsVkvtyshJZkJ2XaxzsR49vbEw0ydXmbsMJi687o4t41jy0YMrFkViAjEhtQ1KoogHVxjoc7TgJHgE+ZJE4KSZnvbGxFI1EsQDwKI+i+dsLTOXg5WLYMCyEc0zvGkr6IXVHik06g3hgBRr3r6msaoHkQ4j1SgAYRQe0VSMgoXoFBZsmyQeaJ8H3wHAMiDIKIFr5STOEJkkjawCUQ34GlqYXxV4SsJbdOzy9Ud2niT0x6jK7mSUDUzUQY7ail8AV4vDzAaCJJGUunUTGFBgmnSSaUlpEJkTv1qe3UgWdrtQRX/rEabnMItPXkqG40jAUqFI4wzsxYtoJBKyBtwCW2JWyQfPGLtiNRdPVI4hwtZNEj5gRRaVoCxtTEAadRFWF4r74wOogNEjdK1ujeUssiI3bWIo7s0SWx1Wo2NgeRZO3IGEqaQI0kJg0zJUkTOsZlnQtOVQRjUDpG/kjcbkV9MSpsqA6iMq0tfYWUaTXIyt6Q9bxClSx/8AU+na74+mOhxe45UZMx9V5XZ5LdWNpphlFaWJJXcWeNN4DXtMl2yYiBCbDIZgkKMojMYMCsWJaIDS5PFC7POEDpMT6IObpuRZNim7sixmUBF9XcUXTxlWDaqGkEeTjNA8Qcr3RIcAQh5tTK0wWRZ2Z2ZSGDso2YeogVQG/wBzgva54l2AUGQ3CIkboe05EghZgWHrZWZbZaY8jfkf2wrGmfP5r22hbUQbZRC2pEaBAiqgkd+KVAQzOo/+tcbecWfU0YGEpaC7zBNEnay75gzBGkBKM9MzCxZOx3I328HGpy0SDnCBbkYhJ32lnaGduzpJ7WoatSMLG9bAHb6AYV7XOgOICGP0p6MUMUcYtSD2wvso2Vm8ij5wSNJiUYtJykLhJQzK4d2WiTpZVdrBs2Nia3P3xKteDvsqMOm2QiO88CRR6O2AgeSSMG+5ZDHUwIurJr6YpVtLQLxlTazVfZQcvLOsMgYlROpQZhBuSHDNbEi9yDfj++JMe5hjFv1KrzPoFLCxRRSeoC2b0tUii1JBJAsEUdvrzi4DWiZmfqpvOrFk4M+blUPGRpALIuzjUb9RA2Y0a+2APObCWwgBosDKG2YQkIkOmZ1MiorEfK24uqritvJwHkbNIIwhpIuU8tJlnndz3Z3cAs9MOAKYEHVwDf13wzGOYLjN0W/9w8oTJu4X78Kh1Ve4IwfkPnSrEbgADar5w5D3GRcrMJeYNp3QJcx2hJKxVWLBppLBtSuoMDZ999sTbUAklE3EJ87HMgBf1HZgIliodqPSRqNm9iDek0cNxNR2mRhZrdKifmH0K8WppZSqMFAAJIogWRd/UcijvhfEdIJIInYRthUYBN1GZ3ZZdcDSKgIRXYbafovO9EHxvhNRdqtqAFhghKCBacp7KHYJVqFVs7DIadDQChd9gSSQK++KAyTDgedseiAgYxt19UA5v8s0rSmONBEzvOY9IOkWpJfdQF3sX+2J63slpIiLLaSbhRGndPyzTvHHq0PlBoDKQoNaWs/Wh5wplwE2IwmABBIUhnSN2VmUFCrIgjGgqOWZa5ArYHHQ3/t+2RtKVhsCFwFFnV1Konjii1ArOaRALI1MKOq9htj4t2moeQG/P2X1onKt4Zcymq3ErFTJ2o1ApkIAHFXt/fjFNE+VRc66t8lKwDltESR/pyIAO3ZqmcDj3Ivn24wvhXjEcuqYvgQstykpOqKQCQhEWKJFYsrMNYb2Ju9vFYEta294t69UJ1XCspM6yzwiHLSJG8f6kZTg8HVV7j2v64OrQ7yiZC1MHTPJSoM6yuY0PqYMbjQScbaT7A2B7fxh6dIkglA1CnwZyZZEYQPGc0pDRHgaSapV2552I++KGnoPUpC7V6BW69Qkjy8scmXaJmIKxUNNgmm1kEUSxHHGJ6CQNz3lE+ZTtTkRyyRNAFGhohIXEgsNqJbkBjsa+w2x0Op6jLhFozZIXk+UKpcTat5JFa1ZlIZlNgm3B8AjcnES2De8JgSUeCQ/mmTNZuRXDIulH0qwPqrTYAs8NijGBrrkyeX2Qf0U93lC/wDM0MWUrCbX0tvtVVRFe+M9wjPySNaEkU2YfMNeY7BJWNlVQdQ5O9XqHAs1gsYQf1QTsiTpwrTLOe0VQoqKwEajxrog787DnjDwA3YRZKG7zlWjNqEkgYx2wUkkkFmNEhfccYZrXRsJMJQTsrFJIw6jNuxdU7jsaIokEbk7mx+2G8CKhbU2SvquiY3Xzp/HnrDdT+P+qGPVoySR5VAzEkKF9Qb62MfP/E6oqPjEL674LS00Sea0SqfmNRj0/p2O3VnyLOPJ0r3DzTO3GwKldGqyq8XuN/pgkIbpwkU7FdmbySOb8n9sBljfCKMoIDRjejUy3e9b8eMHcgLShyKoBcISq0v0o/3NYOoIqBIWcHeithTfi7Fj6YIPNIUMOaJABCgBVFb3xeBOywTgStKxDNe+wP8AGBuiUhO52Dgcg7VXthzBWShW1oyClNCgfI3wYhZMJtmDsCE+UXv9f4xiEcJ6kyKFDHtC2IFedj/bCwtsiOkgTuhVRRRERJJYDeyBsMMWylQnB0JJZIJBkB5J2J4G14wAiUwCaQxYEqTHQJvb+4O2FJQVgoAXj+o1Sg2d/m8bcXjRZBeKq7L+kCkY2r08b+QCdqvGAlEeqTTwTYSqbiwLA42q/G+JlplE2Ss2g2yFdNIAOOaBw8FIgyRkEghnsD9MjezfA2N1++ACN0CFMy8Pby7hANQJKMPDWd+Mcddwnog1qyfoGakyMiy69AQKGG/DLXgj7c48muJXXTDhdbZ6bJFmFSyVZV0xtHsQdJPuxHN7D+wx5tQGF3UTbkhTZeYdxUKMjEdt9ypQnUa32J3PnbwPMSeauyJ9EXJ9LWQxmV9ZIcOz6gLsfMoUDbmrwgJvC6WNJsfXf6hZvlclFl5Yoo21JAQ5AoksGs+oDgULofUYQu1DZYNg5549NleiURqWyrHZVaUHUSNQYaaNVYUk1z/BKh14PeFN9zZScxnh2WJuQghd9txxub5N/wCnGGaZVGNAEY7/AGWLZybsrmGLbMAVF6bN1Xmj5r28YOYiyZrZECPnv++PzyWNyOpKtqZkRR+mCKX2pSd6554GCe8pQb2v3/PogzSqXBK2VpyCwN73Y2I/84wJ0+6NNs3hTYXgleaGScZeMA7UdyVr+OK3xN0xIWcJ7/r8qtmy02XzWlC6wtWkjZSCKAsaRZ9v88MzeRJ7K1NsT0x2f3Vn0/qOay8yRBS2ld2UgAWSSaqtuN/3w7SMymLGkYHc/ldA/B/UBnEWJEGtgvaDXwu29VZNCxteL063ff05LkqsEiMd7bfj6LbcUjyZJjBHqk0No0bEV5Hkir2x0srAuFuXff5SFoE8kbLzaez2y8i6iMzKooE2BRuxyK9+cd7CHOnA+/y+64nsh0Rk/wA7cuq2v0p42jiDOrrIhUEkAhmFlTqorVD6E4qGA39O+qjUo25Ge/mtsfDcghzEEOWWstmQWtlAppBfp1+eB+30wH0+ee/3+10lMEO1Tt8/2+e+Cuhvh3o+YWfL5nLsacOHgB/qWjYL+y2KD8E6Tjme0tMxMevX9uQTVGljZABEYHqfY8sZyF1x8FxvH0rLLJYJVu2rFtRQ6a1ozE2ODZJ87WcX4RxDpIj6z3+y4nhZvqAv+wx7RqgT31+ahCqeqRRzZaYPH3BocOu5tGFPQG96TV1jxfiAD7gXE36b8j7x7roomDfC+P34ltlG+MOrzRsVgjd9EUABKuGIsaQF3+g+2P1X4RTFPhWE7txm/U81+Z/EgTVcJ3KwQzhH06SSzanCUSVVilmjvpAuwdse8yBIjLV54aT7IKkZYrE8ZnjlIWKJCfTdbIykEmtvVW2FadOkuuN+iUguGMJIz2LSRPmkXteVcuhvQE3HpO9m/F4ZrQDqcbHCxbMJypBrdXkMzdsoJFD36RaHVdatJO5xNjHN8jrJ3PJkhKWBiKSPJ+Y9OkqxJskHSV/+qDbbbBe3xLA46qQmboTbShDbROqLVhTXPpArgrYxJ8A8wqzpFkaeIzepXDm1jYAFVhQ2obetj5vAcHONsYja/XCVhNwQiEqhCtID2gQERysdm1UUDsPSeBWOilkGd0pub5SCQqyHWfy2zq6gAqKANKPn4v6HCEFsmLA59Uxg23TNTGUhWLGVCqFRpYgD+ldzsdjZ/bjBeZIi45rX03RGZmmkdZNHdZQzqANiNFAWaKnyP3xOdLndU4AgBN7YIlhlaNELhhIxLB25u9qob/fnDGSIwkJE2C93O20epl1MKAB1fUE6Rtdc3zhPEDR5phOGc15pNPaQOS8oFoaAKk0u5o7gbj7YVzWt9eqMdEka61aMsroVVYXQBgGq7IvYYYC0OIvyRc4crpYbUvG8ZCBB+nuBZuxZJ2NE4UOIt9hCRw1bpVEAYOS4FRpl40//AE72Ksfb6j98AsbStziwuL9ViCQJOEzvKw7TIWVwTKo+W5Fu202RzpvHYY0uaPVANMSmau3/APGlUzM4OiQX6dIP/QQGXybPjCghp81wRnkUrgXCV5KQDLzAxMTIgN2QoKlnUpQCgix/O+MGRIcbnCMeaUoEZGYNmTMEh9aK6gyA6Wokkb7X74SmHfpdYhFzyZI3KWQo6qhkdplapGB1hgAdZYUd9RonGc3xLzhI0GYKGK/MMjgshfUuo0RpHpsL4pqNDEzAcbSPUKmogWRZIGmkVu4JO65E0zjSiEAMEIO1GttjgEOc6Zlp9gIvac+yVk6YjGE93j9TSSagF0kazo8M1CzwCKB2x1Ucgk5BS5PVJ3GWV1mcrGNQjkA/6iSB2wRYs1qvjg4k0aQJECYlEkHGQmRSVPMvcDm1l9IFsqsPVpG2kj6n9t8ULTrjYboGS0IixztIV1NGszMXdQPWW9asvqsbCiBt7YiwQXMjdUJbboEFYhLAVqJWg1vF81MVBLFWvYkmh4rFXlxbAyoSJxCY8jxqkbMEGZGgkWwU7giwAEoURfjEXyGNub3sqBs5Eo0rzSSFNLq+5sAatzfArUu22/i/OKF2l9kuobbKGhkYRRtGVZGpZC6UfSWYrbGgWHy+OMCixxaAefMJyWgT+EJo3cA5QqzPaNKCyAOx3og+vxVc41Sm7DTYrNqCZPshGYJ3RrbtrHpkaMksrgm1G9U3N35wtV0t0xgI6C6Sd02NiyXJDIurUZ4jQ0gqCNCUTydx9798V8Qv6IaQ02yUOdTJ3Y20iJl1xxFQztuDsCeCSa459sSfSvpm2T6otOOiiFtes5lRNA8TLPGVGmNQBY4JPqIH2/fG1Od5jcBM+P0iyE00pcSZezI5TvodCreyjgelRQ+mEa4ud5RZYDRk5TJJFlUtA6qjKANXyx9s/L6QKs+MNVcBaYBQYIyFw6sUMeZe4A3rWJZhFyGo+rSq17GhWPkC1ocWxfc8l9WASMwrjJQAoI4qcr6tZIr5t3PmvHGKh2m2UkAZurKGEy9sxyCWOR+3OgFAIoskknTyPrvWGqPcTAxzCHlKuctI0KR2UgcKFjSU0o7Z16lNVpNCt6PGOPxXtJJF07Wtnor8Av22AGUma6iUFVSRgGI06hvueLoVi8BwaJIIF/dShoU1YoWhIZioZtbSj1UbAGlKvUTfnbkYqQGNOk3SuvhSoVzDiWeZVhpNBcjWv9IdlYbsVHufGOltUvJL5A75IaAD0U9UlmaeBVAR/wBburIWIHJJLAjUDsRdfviY1SQANPNK5wFlMihkVVjaZHWUMdR2ZSaNAbUPIJwHT/q7HRYtAEoGYjjcsQCur1M9kEOP6m0nfccXjEh1vqsHcl5FiJjWidQp2kvdifVR/pFcV+1YTUGiB9bpm/8A5XRWpEEUbmMutIwYbsv9J1DYc3tveGt+lsD8okIseXy8jRyPc0hTW7IPUhuhW39I4J/vgmG2yUrIJ8ytYQEitmJLRkSSv6iArX7m79sBg0yGiOc/hK4XUqPsoQzI3akVgzV6xe4ZNVACxe43xcVA28HmkLCRAypT9RXKQTSzK7wxQGeaRnFm1Ok7KTdkHTf9uOnx9DzqkNAHuVBzCTHOAvlh8X5ybq3xJ1fMnVrmzM7721rqJG974+P4x4dUdpX6BwLBTpAKrymUYMrvIsQkCh24vHA88l1OdKLPk8vJF6GCn5YGay7kek0oHnxe2EY9wymwFUZjKzKqlmZ9Z9Z8AefcDDh0rKO16iNQXTQVQK3IPqPFg74qGwJQSGQ6WWzI2xisV+3t9TghGVBYrqBc2xJqxRBxhhZePqBpTf8AUb2O+2MjhKFG2oaCSQ1c3/pjGyGV5hegyG7G1jyfOMsCvJHpPqdgTennbDNyiSE1Au6SCgT6zxhJWlFCIEB+ZVYWoO/NbAfTBBQQrYNqjX1VYIvk/Q4ZtSEQEo1SIe44Vnshea2O9f74wMyOaBthOQuC1sAAAXYGwF9+fphCsSnrMrgRszsCB6WAuiNwoIobYMALRZERQzqSx320kggb3uNhvjW3RwlYMaYM+kHTGGaiNIoVWxq98Y2EhABIruEjHcJskVyGANA+/nAki6VK57gHclOi2c77qdwdjfk3xh3uOCiQrKOMFBFWkKttZI3rx/tjzqyLBdSsituGK3TWtgE0LviyTjz6y6GXK2D03NLBKtljrHpQimBoWDqN+TX22x5713M6Xstg5eWV1hjRGC9sEsW31KDvac0W3sbnHE+Mrp0CbbCVPiYZZFWVO7NuhJ1FQu1eqiDY3HjEI5KraurreymQTGR5FYmVE3DHUyIAuxABNVfg39cAgtEjKdkugG6nTGGWUepBMyALNY7fnSRwQQCBtXthC4j9u/63TObF57/nuFAfNNl1Mdd0uCGkGyjxZC6jz74bVq7+iJbbUO/sqbqEktJaNGDvGwJHJY2Cb3sm+cM1OGTbv3UYKwCAMAzNs2qnJsfQA17/AOWADzQIye+x6J8MkcmtNIbR/wAyJrFGgbsWSdvbBJ3KIpi08+nfZyqbPl+y40sCgCs/sFGxu/YbX/leGB2Sua2T39M7pmT6nK8TZfPorxxqO0QQwHHHn9hhXsE2W1Wm3799YVjC8pmjegK2C3XvVkbbk++FR06s99+63N8JZyBsxDDmHaCZgUhKtpocgm+buhvzjNcdsylc0ExEiPTvdb0ybzxNEkcYj1krPGeNwOLIa7vg+fOGY/UVqlGW2Pff0Vkj5iJZ8pApZ4W1GJRZ7bVRb0irqtv9Md9GuAbnvu/9rzn09Jt339FmPQeqI80azZgxshVpAdRRtW1VRO4qwK++PQZWkd9/dc5aXEE2776LpT4OgfMOjkJpSo2Q6iTqNC6sr5HHvhjxHt+Pn81ovE3x37e/2XYv4etJoiiuJYhCCiPbL3FQk7oFOlNDWDY3Fb8o6sA7H9cs+iUwBcYv1+fI4zj6dH5HsiJWiKqTQYfMaUkVWxHnb+13js4YsFwYn3/j3XlVSSeisSdIDAXvvfsTjsJ8NuoCcz87dfTb5gqIutKfjT8XD4W+Es5mUzghmzsbZcJRbuo4p1FWFNN823ijjxqIfW4prCf1RJ9N9/6iLK1QinQe8jH3Xykzufmz+fzc7szFmfuFxQcX6rJAPsd8ftXB0yxgaB+key/LeJeDUJOFXmSRrmli/wCW4AYsTfG+kAV7YsXE+YiAOqiA0CAhzPFIp7CNIVlJeGyqixVhQdzxvg6BAeCZbnqkuMmyM0iSRg2HhfV3lBU+rkkbX6TttiuppjkM+v8ACA3TYSIkhD6czPMv6uYU8oa03pHIGwHNc4mxz3sH+xM+ycgGIwvFlDqqymRWe41AqgDYI8LYFk1jOqwQNvRECRKbPoddEkaSZdAJkJALUhtW9W25HvVj64BpkrNiJGSil9IhnRFnM9Nl4ixFVyKJFk7/AE9sOXw2DuR5dv7SxzMJshhpcuhaMpbqoRyRuTtQ0jdyK8+bwrnBjdLefJMxsOmbdeabKP0vTpW11GIgGmsXpC+QL+mA7xCCRAP3Qkg4TmH/AMZP1ECsrBVqthQLKAPIrjDuB0SDlAO0mEyytDUs2XT9OSMAFidz6PBNb4nUcSImRZEiLp8hbMSrcJnKsrSt3O2VDXpDAlfuVwjqup4EEhUgabWThuzduLVD6xMjfN2wA1Md7rx+2AZcYmRKRtUASboNkSAuSaaMNaAE/wBQKHf99ueMM6kTc5WNTUikppmKsqkkKdBorqNBja3z9MOWw0xFkC+CAgpOW0pqZWNROQp20kgbkHcAiwOf74RryDAz6J3xad0WGV2RmRSqhV/TYAcboRtuQbFVijSSCY6X/CQwDB9l4SEGOeaGg7MpBYua3+g55whJPmNp5IwAIGyC0iXBLAhlWMtYZqCHVey3QGx5w+gNIeCcQQefNJcZKJOyNDSyDs9u4JDR0sNlc7aqOGe8QXDEW9eaAweiKhjjIhcKSyg5vMruC25LUoonbetv3xgXuAtqtJKci8jCErgMiPIzUpLED5BVEXxQvgc4HiS6CZHpCJHllNmZQyyZiJCMowZGAGpSwofNRGx2+5rjCaCBqjG34RgAWypDfpSInaXMmYaqDHaNhVBSQdhR33/bFXGAGOvc22H/AMUg9YQnMTaY0JP5ZVUJoY2K0gEkBKIUbcD++ELw3S1u3RMxpE3ziV7NhBCwMqmBdHpYanUE76VBG2+94Lm1dMiM3HTmkBIOE92jlgTuENHLppr06ADd8VWuzXGKkjSADYn5DmUALwhwqNRmzYMZhk7SqV1B6JZXAoEG/A8e2ENWRLraTAPNGLAi8p8yOrPE0ZNKughhd1rAK7CiDZ2JPGGNQtgiZODP3C2kEeiiZ2IyZWSFZDlJZ3bs5rLKo0bBgwDqykitVMPexidXVDnXjKdrfNO0IpYRwwlpopZHaNZR2ytO6kHZCaB871vtgeJDRMH7+6Q04lMaNLmj7SZeScLrcqSzWx0tHW5Fjxz774oCLlo0k5P7KdwJBJQZplzMgjkk7nekjsHUrDQDYAHy7tvexwf1ODXWhVDdI1DJTaFpHmIkkkndf0uI9QGgUCw0gX584D5kAc0rQTuompFOUkCs6ykwysH1SIvAN+5A5sfXDB7SWvuRgxsUWt1auYuo7P3JIzG/6kJBnnG/qcA6fNML3B/bjE6gbq05MTJ64A68+SXTDbryyzrHMrhHlUlzAu8ctadFoPmvVyL/AJxqFhoJ6pg0TIVe2dOSRnzOoRD9CBIxIqqn9TIWHNAjbwKxvHDWyTnl+6Ysa46Rbe6FmXjCGpmMGbcvpGlgaIoFhyd7O/O+I6qYbBkjfclEG11xPl+oGMNIipJExCyxoGXuKrWLPJOokHbbbHzjXw4xuvpDSBupL5kEdzRHqf0PGY7jdFIIDVVnixWFcdJJbkrAxZWGXfNLqiRiFm9TMxIFkEEGxsBdUv8A7i3xGjQ3CY6YV9l3zHcZ49ZidgrD+lSoO1EWar2wwpucSSSlDrK+gOYJEwUjXuAAVO++48eb3xVrISk7K+jElBmBZy1KSAtUKBP3vDmmFLWRZT4IXVVLF1UkMGGxJcVt/fD06IF5hBz+SPHrVYiElKliirRFC6O9cE7/AM4eWxGyUxhT2PcjUhTGApBBIWweLIvwPqTjOAOEA8C2UBxfaYhiXX/5D0D8vB2OwP8Al9sbU0xdNpMwmDLymRyxf9ID0gGyxIPp0/Q74jpBOYVWzEKREiObBj7SoXnklGkgjhf43ob+cM1jQRYXWAkqVlDJK4VAqJZcAgXo3AYDyT9eB4xMve50AQFtA09VZJmFEkToB23DIWYAAFW0sFUgEsLoc4cCDJwVo25KPL1BokXTG00kJKmt/Su2nf7D7YxrBrBAv+EwaDkwsP8Ai7qGfyPwb1/OTZUjKw5eoAxBeydICrv/ANXJwKRqlmpwsB3KDPDdVaxpkyvnBmswZMw0wFfMxfk+reh73e+Pl6ji4mV9zSZpbCil2YrbelCR43BANXe42/bAd0VICfFmnMzCRbZQY41LEnt3dfcE7HA0yireNoT3u3MWG5VJGBtgKK/wcQ8Mi8rFV+Yyyx6HjCl2TXYrVf8A0svAvDCp5gFtKqpEkuRiPU245v8Ab9sWJgoaYUZoQzaqsrz5O2C0ysSmbAL3LK1xGaIB4vFAsTKfo/UYraoVBUsdr+5wH2KARKUfMdgSEvg0Bfv4OJ6lkJlK2GT1NW/J2P8ArigMopWU2xQBSW9LH1FQNuMKsUIMx+YFd9mqrAxibIovZ0sA1hStseT9NxxzzgGyIS0pAYqSKYqpqrNg3V0cMHCEpN0gI0rrF8IoXzuDZ8fz7YJCyYzozUo0uAC8gO4C+Df1wAJRJgKQtRpp0KVUKSPK+SDfm8YiDCyeRbR1WlAVVCSRfNcnmqJ/fAwZQlB1RtpQIEVbUKDW92Oa4wxAhYJRIPIUbhQpXizv4/ywpusbK9dbaKl1KEpgfF7Vv9AMefVKZqkxFe7FoUEAjUQTtvfzAD7Y894K6GmdwshyMg/MnWCxW9UbDchfF/YY4nrrYB81sTKTNrjcIqRnU7KgO9AVYHkb1jgcuoG0grMctCRHK+gdsBSqqL1GgGI243+nv5xF0RCsGCL23UZ5fy2a7G+oFWa9OlxpVgCdySxG4B/7qfMPVdLGWkfyqbNdRkSQyo4IhIYo4rf1GwADt/lhY2TCCB6Z7+SFDngX1rMEX0/MykN7m/8A7b4bTKBFzf8AnrtPeN5mYmTMqnpCilGlgF01Qo7bfxz74S7d1RtOd45/t3/CjAai0sbXbqWWiSBdE6hvY+uD0K2kXHfy9z2FXZ7LvlmicpoQKdRNVsL3HDV7Vh2vUqtN21+e/wC/JR8yXlaLQ0jyfLJCbpzd8EHx4xpAF1N7uv07+ap8xC4PeSRWZDQZvUwPzDm65HiuMWasRuLHvn9Ssnyk0ckSuyJ3w3qNKWViCAPFe4FYnpEQm0g7fId+yzfprSFYe2RDPkyAuYIKllOzerSux4u8SFSCYx3CoBHz73HfVbp6d8QocvlupKunOZbTHNbcqPUWrbYX4+mFa6Bnvv7JngxfuVlY67DFmRmInmZyAFeMnQyAUA13e9Dj2x0BwDrWPd+z81wlvlJmZzz693WTdBzsceZkcwxQwuNUcfJkQrYICDY7b7bH3x2MrE4777hSPDkwLmSe4XVf4Z9YyPUZIUmyba7jSNm3YXuABZPOxsYo58ixie/snbcGRJ+vfTnHv1l0eZvh7NRyu86Za0EZCIwCF9wjU1knatQr72DxurvIkOvf5j8T9FGtwrWnS7P1PI73+WV0V0X4oyOZZoVlaV4UQCZiwL6UJZpCRSjVsRZonFKHHlkPcDGYHry/o73Xm1uBcACN/wCrYk+yzCPMiWIOgNbMqkUSGAIG52N49EcaDThox/ER74vaMRK4DTgrkX/EuMs3Ry7DW7SduNUCsQdNruNQ3OomyGJrmth8GrAfEAXX79+ap8TYTwBG/v2B9F87HZ4e4mhVLrTKLTtltrttt991O3nbH7dT2A/2C/JagF/VNlWRAxdmkjjfUz+kHcWLsmqrk4oJiYmEltkirI1+oOdDAorFT6W2W62FYzNTs77JDdL69MRl0SPbPGzg2aIsGMA3uTuK8YGkgEAwZTAy4pvfZYljUCmb1MBQLD07AAePrhi+Gw0W6JWtC8CyyoG7cZRQrR1Tu12VTm6A+1+cNB1QQLJg4NF5Xl/5komeWComdqHpalLAXWmtV+14xDWguLoSyQAFDVJ1ErBNHcVDG1AhZGI//UZiV9wa535xBtRwaTNgBf8AKci6nRZiRT8pzCshCz3syMWVQdQI1EWKoUMGlqbI1lxODtCV4sgZYkFU1WYj23k/6vmBQMtjarPOKU7GALDdEi0hGVg+vun0qpWMUaRgSQp3Ukj3/qxNsT1HyTJYx3tVAzozJIzFCp1KRqJJ35PvQrDOY59mkIOSMy3Eomf1MVnjjZQ5PGtq8gbfTCQwmBMjaUQNLb7okzGSYM/clkgcqGdl0su4vSBTenkXhhp1SB5jbogBAggIStKGUAFZITQO5olTYoAAWNgPfDuLwecWQASK6JcQV+4QqM0oCOS25Km+N/BG4wrDpcB2ESA4rzu5naIRD16kECMpUsq3XO+wsm/fEhVLbOkmYnYrCnbPqjEshMK0oZ1AkW00Ub0gNR4o7bHjnFYIJaD1usYcAShOsi6NduqkojekAm+Tuau6rnBMgTEreiUCYoziTW1I5ZGIN1uTt4PA4wWNLrHP2SjM7LzagEDCJpVi2YqWtWsD9OjpoebrnCR5QJwTKwMyvNM7rHDGgpwSg8EtudqUVfviheTAaLHAQDQAkVm7rle1qOyQD0uxA+aiPlBPJ8e+C2ZwBHchMXDTBm6bsEzZMkqNEBpiYFVdtQVbJ/8ArXB+owrw1rDLoJQkyAoyJJEpVry6CUaZdKjSgBL05LGwNtNcbDbEzVcGkk6bxPJNF5UvuzvFNA8fqzCBHn1eksVDWpe7rZibG+GpBwBYXEnc7EJXC4Q4Je52pY4mdJVKvJTEOQmoEkbFRe1D98UpOAFhAxKD8WTllmEbjUUd5Fp4jaybUNPOjccMKBI3wolpdvYLMLQ4RyRRNl44novmEiZhlY3twi7liAorg8Ydh8NstvJm+3osyZ5BMLduaETxNoFkLauGo66ZEs7Hf+cI8BrgXZKZhBBRUlzQQFO3LFRrUedLD1HijY2vjaj7WZSeGkagQbrEg4UZ5AiHtxq0IO2Z0gGRtRCAgURWomyK4++IOJEnTKMFJJmHQaVL96GSjLwVAYBWGkjgE77jHRUeWsAiSkYQHTsoLZhEMKgsA2qJKOkgVbNx6ipo7/fHM54JETPXvCtMpBOwcqhZEyaUzyXuxGzLvYBurB2POC6t5xBgjnhT0gfqQ5y0kbPOuoyN+ixIBRShICoKIFgfz9cOfELJBtM2sCqAGRPKE0lCJZtU2XLFmnEm5AYX3diALvjzvxxiZ8rZ6z88/PJQm0G6HMjxiKKRO6aUQQEal1FbASrsG9h425w5ADwMnPRZrwWnYhRsxIsIYmV1UyAdvSybN6ber9Vnm6+mJVNLQRMwMbIAzkIbTBAx/MdhWk1SaVoF6G9WQSRY28c++CwljYp+UdP5TinETsuCIEjAR01K3pLnTqUXZ8XVnesfKNAJlfTOxCuYZEtHRCq0vbRRqHHtZN3zh/M49FLSAFkuWCzKqoAi/wD6albrm1v/AFxUnYW75pBCy/puUZzqEZDAVJf9QOwIYXXtthGyTZEwFl0PTZNAdkCKzMqC61jSu2s7WNWLMY4tkn0SOI2VlDlGBzUpWSH8ray6SNiALJY7AEXROCwGC4m4stpEWurPK5aKU6RC4QAfMQ3oIoANuCxPIHGJt4gOMXssaMRBlGMEYaQKxb8sWDWNdr5HAN0dxt9sPTc4iTsh4TYnmpcWWgsR63fQoJLLRW+Ho8WR6Rh3Pp6snCHgkFO7OViRY2Zh2CxnqraNntmJBrf96xKk7ycu8pxT3nK9PkBGVmLCTUqOvb+UNqrSWAojnHRV4bQ4OkRH3TDkMqhky9S95UZSCwMJXcFiPVbBqIr7YhTZI1csJKhNgnRg1IJI9FC1Mm5DnT6k54r3vfG0OIkpXOEQFMhgaaJKEy9uxIjhSvrFaQFs+5Bu/rjpFIP05EbbKLq2kdVaxwaJu3GBGSth3qhp2II3qhteOhlLQIIK5n1iRLtlr38Y4swPw86yyKshEQacqSpKBguph6QymwP4w3GU3MoHoLqnwupPEt6lfN+elOoUpZa+leSSfqCKHGPhCcgc1+lA59VG3RV2R1DUpsEWavc8DxsMAMjKKiztGzNo0xqg1aLok+R9cM0SgiQZpwgJAK02oLVbDx98I4IgK5DxTxCRXCmE3CGW7P8A037DEBHojJVZPIBZlemB/outjuAPFf8Abziw+qyjygliKArY8VXvt9fbD/8Aysson5ck6dQDR1tfvgN5hYFFhEgU3TLsLN34qq/v/vhpPzWKexZdFs1EljC1Cr3XVQ/8/fA0wYKwTW07erWQtagBTUfe9vpgkRZbQggOpVRQJ+dhRFmqs4MythIxDgBk2O1gAEe/ND7YXdHZNjCuzqRVqrEkC6Pi9vrgnkgUuomylNvYjGwqzQBPHOJkQUEqr3KTSPUWIU2dRB8A7AAjjFQgEMsdWhwWUKKYULK/MDft5wpElMVNyhlUn16bGjTpslWXVd7+1bjBghZBsR6jCO2gGkUN/p8pO31ON6JF4hQg3u9K1S7kj+P9cZZFyqPrEQ06XILJQ1UN/r4wrpiyb1V1KFVTV63anIPA8+/9h5xwVDdUYvQRyxOzea1k6b9xzyMcdQghPTaZV50xRLMsroGZxvRBG+wqvHv9cefWsIXdT8y2Jkp3jiQZq0ZGVwzMCo0EEAE0SCP+314HcgusXu7vuVksPUBlmjdYomLcp/8AqE0AebsfxiZuutodAtnv+UkmZaXOxyMFeOQ1ESWILFQR/VvW5ofvhNNiugRAt37dPwo+cyE8jz6XrQmpVuyFCV/SaJ4HtgSECDtfu6xyDLz5SaRfUUY3rDUxUb2p5Ar9/wB8FzpCUxBk927/AKJUuCVp45YVb0uG1qW1U1b72x2++AQBcpgNjv3/AAmpnZIZEi1K+4OX1n2Jqibr71/bAF7qd5j9u/yjTSxzQDKs9WQVUmlANX7DfYVgjMqhiDGO47HyQ5Blo41XSXkUUZSAVXV7ChVbYwBN9lykzgT3/Z580BSkqhWCK7NpKatNXQ9vP/n0YyPRMN+qkxRLlkMsTHXEwKsCBqsXuAb+++/+e1k22TTgd/fv0Wb5EiXLQ5hVLsV/+UopqNWbABN17+McrnQV00QXHvv+NllvTc3G3eCSiTXHpfL6iBdXe1jyT/6xhELVmkmAe/X+FYdP6hNlC0RnCoql1aQ0F0b38vgH6Ydz7RFyoeFBnmO/fu62d0L4jaI9t+28Cyd2OUMSxjJsh23sE2D/AN8IakHvsKzKYbf7jv8AP0W8PgXrOYyvUYszkpmh6emYBy4YAS7EWFqwdqGx8ftig43Vbp33/CV/DQcW59/Sb+i+g/Q/iZM7kalftxkBI8qxVu4pGklr9yaFEen0/THGeKAgfx37z7IVuGJaSQbem3MAQcd5Wc9GVopoWy8npRg41lNBBkU2qkbUo+U1vxjnfxpMnHe/f7InhiGQ7PZ9f29Vu3pnUoikQhnDNmZA6RGwqoBXHHqII53bxeOmjxxIt/Xd14HE8MZMjA+v8Z9N4Wnf8RWby8/wQ5Pbn7cyNqsenUjXaE8H6+QeMe38K4jVxjIv2O/VcFejp4Z5Nu+/YjK+Yc2pXBMiExEiMm2Yqgt1+pqgTx++P3miC6mxzhMbr8mrwXkCyYhy8rGkuX5E1crVEgNRHnb3HscWZUa5rjyXOQdl7uEmMTyKWq3CehgvBLhTVCr45wzntfDiTjATAQHAJpcMwSMH8uC2j70NgdqO97f98amS+oBFkpgNzdM/MJmGjExpV3aIpqKtHQJcCq5HzX/mMBlQHSMATn+P/wDZYt0+6d3oHjUo7kMQrSxk+hTRBDHSa2A+nnFKbmuAdYicpSCN0gDn1FajJZhC2ldOosAQdW1UWoXgFpvJlsogWT1de2NZp5NJkCAmQAC2WMKP3JI9sUdUDG2KzidUJuoRi0RVmmUhfJAsbaaAUAc/TjCFwzzQ0zk4XogzKGfXcPmxuw5s+K96s+2JXt6pyQDKQzCMOYyH02hDkWVT5TXge31xqlQ/6kG/uhAGco7HvBAwZig9CqLuPTuQ1bbHjDeJBA+aAACaJFWNhWruEaTrpvYm997+vGAIFiIB+ZRmYJunGNolLRsGCNqOskMVceQRsPVzjAFjP1CxxujMmSEpeaJO2kDX/wAzWWD0KBUtd6WqwPbDOqOgEAgnmkLGm5K8rlxcj6kjc6pk2QmlJLngqAaO31wrAXEO6mUTDBZBmkiP6HeE0u4yjh9jGwrWjcam51fthKlZrGAE3kx0TUmECYgJzMQRI8sUrafXVjuJegc8DVZs/tthnmYqOG2UQJsLJFMMivJACZzbCVgNYC2BeoFSbG4/vWAKrfDL+qUgk9E7uRtIRO6kAfqiIkBb3UMAavfSNuNjij3NL5JJ6C3zTQQ0gc0MyM1lVZlVScuqglmpj8vB2qiB/wBsLTl8yJEH7dEroAABumnMQzsZpnBRFMi+m1QMCKLJsDYPgn+xwW1mugkwA3f+PL+Vi3SYRDLEe2QZGs+uRd7ZLpCbWw1n6HFaek6SYuMpSCLEoVSpHqI1aE/TRiFKGg3NknkLQBxNrTA1mRsmaMIzPGo0/PRZ2VFt28AEAFQgO2/1xV9UMAEpLkkIEryInayygTThSzA6mI38kUtEcUTf0xMvaPeUzWgnUThLFKkUbTanYDXGC6ghwPN+oBiTsBeGpuZTaw85TCnczuFK78rCJpREiNvIzqAH1pX6lAFhsTvz43xZtQuLXGIdM2uR1UAGgRuouYn0on5dn7mkPKI29RRRuF8Ct9r84g4ti2OSpTbcypHfYkP3ldoYV1M7aaa9d2p3ob8b774q6rYOANxuptG2JUaTNxyLDOHed2KSaiLJJIsdsAFaNWbvE3VsQfVMxsTI3UZIkRy8kvdiSwMsFBIDVSM42cGtN1dDEjTY0ki8nAtCpd1gE/MFMt6cux/Moo1Rsqiq+ZNrt2BsC9/2x0vdoP8A27wpCZuFFjVDLM3h1AVSQCqglrqro8bG9X8YhTp6XHUDfYJntkIksokYRkSQLKqlgrHXEasCybUb3/5WOlsAYt1Shk73UKRY+4+lO0oBYRoG1uy+oPQBNirv7DnHLqY4OgYCuyTnKZK7Zi+5GZYwqIj6dBNtfG1kEkUa/jjPf4hHlI6pWOFMWKEMzJGwQAxM7FtYXSyaDyslsqg+9fbAZFMATeUWs1AlQsw7TenLor5aWZFbtllZyV7jeqhqfUfbfBIkksaAN+qZkmxvZEOYdlmKuBGqgJCLRk9vVp1LR2N7X9cAvAaXHCYGSFwxlcoyqY5cwaSiXIrcDiyAR+2Pkgwm0wvpXOvdXeUDZcR6J7DMO4dPoDLwbHkD6nFvMy2VI3WT9PeB0AQhmXYM1tyeRtxYxUWCkRpWZ5KVYZnVpAsqC2KkhG1Hfbk1ziWlsEuMEJmuAicLIsvmk7JDgMlWpWIMIjsQbJFc41JriXXtzTFzYiEfL57WjQ5iUGNGWSFSRpK0F7hHF2d7Y/vxixk6nO3Ui68DCtjmozk2Mk69mZqn1lREdQFsHajuxo0SPIGFBAiTAKznkRGynHMu8kg1R9qgWeN/QaWmTcbEmgCPH3xSoxxcYxbf6IF4aAMpxlcwSIJACXKnt2rofoVIr23H74Usk7C6PjQbIqzkZiWNYChYCSRaRttJ1kG93FVR2vf2wajSHEQYt8li4NAkqYJJJYZHd+xoYl5SwK6VBB3a7Hv/AGwKtJ9UgNsJ+gRbWAJCekUBXQRE7zsS8jM+gACrZVF7g7WK+uOmm2JBSTJm6jOlten+pQ3kUToLKux3w7aenK5X1Oim5SGFwYyFUwBZAVetmDBlojjTW4HH847aYkRyC5aji0AzclG/TiOWGp58u3bEkZPII9Z2JOk2SBuDQ4OJ13QKZbJH+w681g3XIPNa+/F1Zcx+HfxDAztqSFAqBAg1bMFLBjtyRZ8b+catNWm4G0ApuAGniGu6r5mZkpZW1teWFlW3814B8DbH5/YWX6eCS4yoQY2C4Rlh2NLpJvYlh5+mADfoqOugtEAwYNooFirb7A7D03yDhzmAsBKGykIVZdSj5Qt3t5F3XONdZH1OlMxYaTRAFAgbUP384VolBejcu0g1hlAFHbk+CTW5w0JpTAWbQWYXuNSir8Vvt43ODpMgoSlBcOrhU4XUukagDtYPI9/74KOUjSIR+pMSke6auPBJF+Tx5vA1LQhgqf8A7ADVpNDZSPSf5xpWlIPUz+lnIaioFmieBW23vf0w4CVALDgUpS1Yb2aIv+2FvK0p3oRvmIUWW2Gk8lea8jBaN1khEgLh0FRkFIyL2Yb3RBNjxihNkQmuVMjEMYmJDKjKSxHJv2xMAlBF1yDTqjeZY7KqBdA1YSuL83h4IE5WhDpnkaQaRqNNExuq4Bu753wskkJVOyTFmbWW9TLajagDVHfbxjabm8LOEhenjKMSisFZdKSCx/8A62L5B2/fAhZuIUTdKYKuhPB3O2+wAJ3wE8qVlpP1QgUd0CnJqtxd/v5OAcJSraRiY1Qr5Usbq9q434x51TKs3FlOgKyF1T1AD5gKY8nix7XjhqdVVivenZZoWYhaRVppLIG9+gb+D4r6Y4ahldtMCFmE+XEfYd7ZiLUbEkl2oUtjbc7HHGSQLLrxYd+kdFeSN3dIkKMYyL10Go2CRZsVVCt+OMRd5cLoa2c9992UzNSRpmony+hEBUzIaC7gGmIs0R/38YmrAaoAtf7oqyDNdV1GVRl/yjM2+7effcnn7fasLJjF0wIcYHZVbOkLxxBqWJQdKbEhrHsSPJ2vxzggxlAkZKqzlTAtf0FQVqydNAgbE/3/ALYMnMrNZf697qkzcpWQOQGdn1HUzVwa3s+ed8UYJU9ekajvy9O9kFJ51SNo2bUy1ICfUTudJ1Ac7/T74ctBJnvqp65H8K2WcyhXAaQqwW2JuvtvVe+J6YQaDIO0pA4TMqUbUhDUvkAA/ML8fXjGaYCJtYZ/vvn7KVCJBMG0HtyMWLAsRY+UgbkH74UxgIsjVmZ2WUZGRIomCJ6yCHGx2AJ2O1H6Y53wF30nR3jv5BTMpnWy+YIQ+hwD2/lBB2FEg/Xj+BhtNkgOq/fv3vPplOT/AP8AIFszBpM6g2gO6Cr1b0PFmzvhXWRDdRuP7Ht7rYfw2wMiRv6gW9CcKaAsmqHAvY44nXsVSmJct6fDksmXzOp1D9hKEpACheTQ3Ni9tv8ALESV0ueIki+2F1N8Add6hpjkRmXp+WjYtAGcsTq9NVqG1njevpsed9zPP0+qSlUBMnVGN++f2wug/h5pZ44V6fNJqLr3YJlbSzuASpZAVIbyRZ4s3WOZ9XTmP6XZUaIJGB0j+O7yZW4uj53qsc0ksYckARqjSBonv5WGkKSCGNADk7XtiQrEvAG59+7LxeKo0iId9r98/S61T/iBz4//ABWRpJAZ77EVEq7sGUEVtdEbgqPsBj7X/EwanHNHLv8AK+b+OkUeBdG5+9+8+q+fsoubuSkkO7XpetbAAHiidhv74/oNzNJAvGLc1+LueDKBI4jGglVVkUIQG2I1AArqI2FgDFqjmiQQABhJoMYlMDNKkJ/MNrCkBKIrfk7fKRxf84ixzn4Nk+nTeEM6n1Qx5oowtCQLAFGwLF+ecFwIcYJ9lmmRJCLqLo6rM5E3oZWChy7qorbUNzve3BGGcHOGgXmxnN1KxJMXTJJJHLxsmhYVqKTclpEBJINDfjbirwHVA12gYAynaBnJKldxu1MqyK7MrSzKOWvy1UdPqNX4xdrSG/qneOqkbuBQO4ka/qaR25DpDFmYljZG1bEiq+mJiqf9wqOgmyRtYYED1A6a1Fi1AVfiz7eMB0u8wQAGAnu/cDSNoP8AU0m5IAoWw3FGv7Yo47CxiZzZAbApIpCCpl0rqRtDPtZIDEA7b8ck/vgMGiHAAmLe+/8ACxJPeyQvK0kdAyFgAqaqG4Y0RsB5PO2JscT7haQPRFDq4HcpFe+4ByARtqvj0rewwrngkXgTHvyWIdEgIkkCs4LkIuZox2GIJQEsFHIO10Rh/CZUkAw05HULCo6OoTsuCgeRn16Qay87j9SNm0MxbfSBVV/GKUwKbfLNrCc3z7JKjSSIF0PVKuWDtH+YyYMnaYL6VD0outqoED3wrPIwiJBsjpANrFCeaDLyJl1UNK7KkkkTelSbKhVNr4rbjn64U1GNqBrQCI2Vmsc5pdzXgoeT9QOyFQSNWzaz/wBK1qBY/wCfnfB8PW/cNtjHupH9OndLmpVj/MRFwe0xkaYCT0rQBJDFtyQLrgY1aqyS0gAjEck4YbWXnqR115u5JUQSK1qoFDZ9IsXdjggfxiVMmoRexTkaASBdDbvPpWLONHpp3oAkqpBAU1tWnYH98GCTAcR6INeAJIuiN+oBGk7CCRi0BICn0OWJeg1BR7Hewfph3sdVOj/XnvbMqIgCQIKEJ5JmeZl/LPAQ+WVgQQgKqTe1i71e21YUV/EcdNox1VQGtFhM3UlnH5cRxyB44mUEfVmAt9NerYHjFnnwmWdqjCm39c7IUbIyRBiI5dHbywOpnJNhSTspqyfoTgsqxJcJIwi7phRizu0k0KdkmgwYF0R/UT53oDkDY0Mc7g4nULJoGAjGVdMqDUyIGkTLjUfWx1L6jtq3FHgHisO0tdM/KDlI4lsEZUftzGMBlSMxrGqPKCyyRqL3LACxRWgLvChznsIwICrBBJG6cksDmEh2EcYZtAOkAGyQiFWr+P3wzqzCQ0Gw2WLSRZSS6MfT2oe6oVIaJBYEaDqNg72fTxirHMPTryUy1w6oJATVPmHUqhRVaFb1qDuzgkUeB/fBIDXz0j1QABsE6YtKohE0mqUsYwSQCAoWVdNgDm184nVbI0cjLerk5MoSxUzrNADEoBmm06iyMRpEmmzsR4OGifRI4yOpQfUZZmLCFkRWYuSVAFlQStjciv8APnC1ADLpiyZhAIGyitFIiAlJB6ey5Us6b0ysGI9Vs3y84ekH+VzifbksdGojuU3U0IigUSlNBGVCNXFlhYaqO1hTsBQ3u85wpt0RBWAD7FCkqSJYyxeOMhVdVDEaq9CBroj35Aw5eDDSPSEdIiVBlRS0paZEZAwgZZCA2g0SzmhyKIHP13xyupee7h6b/NYTslnzGZEghzDGR1jt5yzDt906N6agRX9Qv7YL3mdB5TKZrA0FwUGJ8zGtfqTM997SVZUU7Lerc3XN1hw17HAC/NEvaRyC4syhzaMTEdaSu6xOwLOqadnYLubrisfJUnloB3OPRfRuqTaLqfl48xG7PcTBQAwNsWXT6hpIABoc70cOzUwSQgSAsmydMFacaUcJrQbVtqF1zYrbFhGSphhNwsryQjV1ft9yQAASIWPkiwN9hVG+fOEqNh1hMjmtBIjZXoy36fdmUSrKtZhS23aBa2OjgD3IO4AAx0MqaQC7EqThBspuWhy5nLhLUaIokA+fc3ZF8Lzftxzirg15JAQDThSk7ASGSHS7JJ6o421LSXZUNzR+bEWub6kJogK2hlicRBou2YdIOVFhvWTqo77mwebxTWAQII+ymGkIEyqsaCW5Yg/6sTetasmiATtf8YmGj/a/RMpuXbLukNalhBHcju3OskMdJq62raq4xQVabSBMdFMN5qfH+n3BmSyKdUmb3oNGCb9QAJO4H/rE2s1SXSFiBMDK9LqTsyO7yxufST6uL0hjy+m64/7WLAGA4BWFQmykIZQ+WWO8y5dmQLpUKyglxqahS7G6q7/bqnQAQZK5ZBF1LHrh/RZ5FmQtK6EKe4zKCvF7Crwz2CdTTAIv6qbeRyrODLTTRaYWSFNSdyElbdHB7iCv+kLsP2waUVKR6WSVGybrDfxOyWZb4F+IkzMsvZXp84y8bLekEMVVlB4JNX4wOIeHUw2YABH03XRwzCajfUL5b5tdJZGtdItiDq2YAMNub33x8GafLZfpYdN1WqwIBNr3ANIINcge917ecIWkZVQFIggaZQwXWZLCC/UdNXYN/ttjEx5uSBKdPlpMrs+0TbMxP9Vi7P8AfbGDg4IDmoisUZbk2LesqCDvYsg883gt8plGUpXyo7ZW7QgAkfYnze+2CLkoFNGhEjKxFGLUWO4IIsmuaN7H/TGgFaEcRrKrMqFNIGocgkDYedyaFXjc0Ao8gKCQOpDgEhv6NjttY+/nGbE80ZKYBeouTr7vz6asDc35qsEwsUBpmBLGQ7WWrg3vvhmm90crweO5XVywcXR8nxWGsSUBlDSwqWKDNyd7vYf54WZwjCIrkOlam1FrJAFihZse2Em0ogSm+sKULhu4Q7D3AN6bB+2NBBQJgoQU6VLsyqPUWHjirqz5rbGaIQlPJSS3ZSG1M3cehd2PHGGMFaFMyo2BKsiEADSNVhdzXuQcYNCDrI+aUhiCzdw3rmI1E8ADf77b4MxZBvNQ5EFKL2TZo/lF8Xtvfv8AbC5tyTqZlqeSORiQL9DcCtwCAL88g4WoICWFZOdXbEY4Y3Qqhde9nc4856u3EKd0tC+ZMetEGka3INadVDYi9rO2OHiMKjDBv81mfRwZZ8xrC6Vodu/UxC2LBF+ONvtjgqWXazPX+lnWVSJGHeCurby6r45A30kEX7e/nHG64ldrW6RJynxw96d0khVAx0mNCqarbUCpF6iPoP8AbET6lWFPcjfvmrWTKuscUioYlioSJIoBB2vY/byLoe2FKsynIJ+nfr/ShRQ9ueYSMdcqEu7k+PYcAVXJ/vjEkD0TBpGN/wCM+3cqlzUv6bxQu0ohkL6xqIUmtgAPA+nnBHMrPPfp3H1RWzMUuURpjZT0avmIoGm9gLbCEHbdBwAF89fZUcsRMHqAcxntFhdXtagmrHjnFBmUlQR6fyq4ZZnaQFyVUpvtxVE3R+u1YpqhcpaCbf1/XP8AYKwU5iOAShe2NgwqiNJssDx/vicCYVzJAheIdI9ZVZEUmwKGol99tx42vAzZLpJF8/up+VSQqjGPUJB6gSCAVU7Eb+/nAcRzT0GmIPL+VkaSusQLlUaalkJr5twbArVubxEm/ovQaLXv33ZMgrMFkBZCrDQLospBoBgPF+R58bYpbC5wCbn2HX37ssp6R+d6W6yzHVlz/S52A2FcDgD/AGxB7hBAVAc/ytpdGV4yMxp0tLRjAYGgBq3I+v18Y5SSTAWJgW/bvn/K6H+FYIs52I4411bdlWK6TZ2Dbex/745zvJXSyHQbD17v+V0b8K5M5bLxkERMTpjljBOkFTqCirar+oP0rHLVIBsuynSzI+nSNv6W9uiPCrwzmME5hQsjgLq1kNuorSAG5P8A9d7qscRecSuzQIt0+n1nP0Hpvv4YzEU2Xbt5ZJ4iqukbo+khTbsSFcH0nYjf7WwxKmfOI279V8x8SYQ7MH1G+IuPfb5ArmX/ABBSDLQHLggCcLLHlQCWPrKDVtYNEAb3RBpdTDH6n/6fUQ7iS43AB/dfE/5hxBFBolcdzBo0lKN+VEkR/wDjyA05N6iL23O/J22XH7gKga2CYIGNiTlw9l+VQ45wgRprbRHAD2nLM7KKtdOs+CKomwPuTWEaNQ0i4CZ7b3KR1jjEgkZ4dUSmOQEMHQeSyggbm6GCS1ljYlKJjmvCRg7xsooMO46Hc6m4Gq6NEbEUfOB4gBIFwFtPSE0CRyjiRO3IjKq/LpKnk1zsBxeHLSXBzI83LNlMECeiaXLigR6a1TOdJJAvj38DzhCXgkHOVQNAE8042HLl4hP29LaTp4sVpNMF1Dxt5wzH31yJhKGjSlkUSvetQugvJHQ1L83qJvYWKN++Eq1NRHXoi1obYoyGUSGR3CgKVzEYGoiTTdBuLGkUeN8UY4i2QQUjgDZI+VeAEib1RaUctYBDELTEk8WACRXBwz6Whv6rW/Mo658seidKY0bLt6BDlmWM6Upgxa1N1YFLRB+m+26VNQcCwgtaYI9UKTA4kHuERVeMCSIHMSwyEt7MVYCwH3BFknfziwGlTAvAxCbokkeWNVTLGIgRltSupUE0dW+6mwPGJPJBIbAtboef7JiYAlPUvI4DQsuYISUTSstb7amG5BOwAAPixhmAOjykH/8AyIy71KZ4IwQU2VASO8sMhjRQkZIAjWzqVhZ9I48Xe/nBqxbmduSRgSPBSfrSSw6UGvSxvUQKJKULAvYcCzgN8hMkwEweXAwLoOnXmM2kRSWVlUyJQIBr5BRsrqAJYHg4DS1rzaQbk/t7pnEwDg8kdY21Pl1BSFWRRGxGzlbRQaGlVonY/XzYoSQIBgKcSbqNL65EVI9SRvurKt+pbcLweTsD7/XHMxoe4tgwDkqhJFybpX7aUugrB3QSGcNZfSNRKg8ad7+2K1AGNmIDfsVqRLp1G6HLLPKCsccfcZzrWIlmG4ZCdQIOzGwSMTqVnYAgHB5pmNEEOQWmYIhE1GWMyGQknXpY6zfsDV19sF7yGS12kylDCTiya8kzujoqNKzF4JJG9LKWILMdhbcnbfjzjFxa4yB7p9IAgIsEy5RpXQ6ZrWaf+uUxltKBVsbrwAfTQw/D1dLXOEc49eSm4aoB3snoXmYPl21GJgSwUMUI82bFXYo7+fOCXFzg8AjuE36coUcnckZ3nkRAtCSiFI1BnNNwDW1j/TCvIaTqcZlMImeSajMkQQsxhmhTts7Fi0d+qwReo3R29WGeXggAmOaQxJ+yN+hoKoyvCS3bpmjmZiBpMZIJBrfck8ijh6jGgSbgfNKHHBQmGpgZ2WaXS8sEhvUHh39QXRpN7VW97XjnfTg6n5IsB03VQAP02CJJKxCmMdySI6idIACpRJUBtmY/7HfC1Glzg4CTHtH7oYkkoeaaKaOV8tEhSQEO0uzJIR8wXYngggf64o+oyqNIAkXjvZK2mWXOCnTzJFJNqj0CLSzSepT3ADXps7gWDv8A6YWs8OAkCYyOfNENlspGmDa1nctDY/UUFWMY9XoACrV0Ppv74FZ94J8u6pTOiQM7Lwj1Q0qiZNKs0zLWyiiCCbvVft/FYo4eXSLjmlkgzhRkaSNo3jzAli9VB7uM7mim3APOGu0AMvZKWhxkhMkhfumVkWJiQKRKCHVqDAAeb2JHjAa14Gp36kZbgWUSeOMxJkPzSepEAkoMtu9tSnT6qHvwPGEdTa7yAp4gB+/JA0aINUKEgDtxBmBNxn06UsEaiNiNxgNYATAn1VLOuUJ4xMkqoBGkgLaIlA+XY0ARTA0eK/zw+pzGkHyzySEAXyopm0zoqxs4hA1ydyjuBu1gg7ijteA7iS9wAwMlHR/tzXFeQzkDJAyJoETgZeRywZSxJYBSWXi/tj5Wk4gtBFgfovoH9DZXmViRi3bzAWQO7mFSrREMuonjw17AXeLU2XLpvKl4hbbSrKHNJEXjcRMwI7RLnQVIOtgCDvfAH84U2km0Y6o5wVkXT+pxukLSWZdJRUqtnI9Rq/2s/wB8EPbmbnZKQVksGfhktDIVRW0sHAtguwsjkb+RiZfqtsEQAFc5fMRmMQqojvdtBq2s0dzVcg1i7HECGiPSyQmFOSXaV2C6pQBLKfJTbbir+mGL4GIO6XRJlShKrR+ksXYEbANvZOnbcWL+vnAFUgWmT7pnO5p0CITKRliJJBaigqox+evFGtycUYALtF1N1irVIzckugLqjA7qqVvf0sW5BAPtgOc7ciSncdYtspq5d3edHjbTY0ECpGL72F2/6T52w9/0fqU9JsQpceQEsYn7Sq0QQwMraSyOSjWAxZQTyaJ/zxNzx4QJGDAC3hHWRmVaw9My6Z3un5IxcTMFjJSMGqTcUCLAJ3xdtVzHh7pH2QFEFpCtF6TohXMKzK7zMG7bWDqIbQqj1i+PrjOrE7k3lEcPzVlC2T1KIZEgmkkIykboa0aySACCCVqydtsBvFAkBgi6zuGcIc5U3xplMv1D4P8AiuN5imSXpk0zF5NnVFIKEN6VFtfHH1xfSKoIghok5SlvhuYTkkei+O3Ugvfm7MTqH1KdNV51AjYWcfHVjFQgL72idTb81Usyj5dITgK1gi9rAvmsQJJK6Lbp0EqwyqTpCIDWwBUXdj2IvbCmYgrQr1pUnja41WFWtCFBdhQpydzTAb15xLTpCxEqvzGTB0TR00ekaUAojVdGv28DDMcCgVXBdVmnYnd283e4G2wNXi5A2SpuodsFVDMpPckYX6ff6/SuPOC42JTSjRCSR1VAXKhPWhJA12fVzwcTe6BCMQvZiYtqjYBpBqBoeA1Cied/pgsjIWUYaELMVLDVTOF2omr9Q3vzh7TJylQggcEWDdg3zf2vxjEynCQqNJTRpRrCsAfHJw0QClJJSJdHUuoH9h7bfXCCViU5lLLpYntJY0c3qq9hZ32H2wQJCJFkkgeIDVEURjeliAbA2JA3AN/xhnA5SJjggpFp9N8jyBdAmrPsMbSnQmbUzKo1MBvdH96OxxoWlTMuVMiuToUGmvkDjUQOL84EGbIOdAUrORtHM3pbRGKbubi+aG+A4Xt7pGGVAOzM5itWBBskWaBsbbn2wznFxlFWvTmUtKznUu7EKKux4ujQ4xKobIqbdyEutUxZxVj7Ggecee9dDTAU7Lho4JJbCMyjtbfUb+f7Y4KpkwqNBIkLN/htDKhcMdaWyLuFbQd9hW9+/wD786t1XXSdAkGyzmAqIBP3VHdoSMSaNkCxWwNLzjlLoXe06bY776K8yGUWRgFIkjcl6GzKCSRQG++3NAA+2IuHzXVTzBz8vtt9VZt2pIoZHfTBmJ9LlmOyi/G3JH/m+HZSLk2oixOe/RdBdV/CHpnWPwyj+LvhPMr1TNZBHHWIo2BKEOQB6q5UC698cDaxbV0ON16NThh4QePf2XJMcBeRywXLzCTtuoYAGjTE7+Kr/e8dR8q4GDY/33b2UPqQ/L5aUqJI44wZFZhxY2q642+ntgsEmPZRe4xZUyy68uYVZtAosu1atibJ+xBwxEGVNzi6bwRvbv6IsIijjrSSVFgelgdwTyxNbnnAIJ7/AIWbSJJI75yrOGOCaomagN1Is6juNvNAi8TNrq4EkRnFv462U38nAqxvCCSwpgKIG1EUTYs4cGU0A2/rsp8WUnJZUXWHVG1EBSBpslSKviyB5wkj0RYAHnMjHfe6vOyjRQSbsNRttrY2bq9r4vav88SmCV0E2HfJBjKo6tB253ZrjGsgDcbVRuvvh3H2hQYLGeffqs1ifvxxCaIJoOlAK4NDXrJNbjehiJMCyoHTt+VsjpcTt2QgKsunVtwdXyirNV5r9sc7/Lbv8IEA9B333C3p8KxzMyhhJljFbKpChQN3BIJ0seAB/wCsczrd8l0siYn6z9N+n069FfD+Y7cEayp3hGxJLGrVBt8jEc+VBF+L3HJUYHCRb+f4XZT1OgG/p3tk/wBrd/wvOuaYaI+2wU9iRAGFAF62CnkA+Be2OCuIInmvQ1yzHbr8vnZbw6ScyUjRlOW1xPoMqhW+YhQha2U1QoKfcnezKkYkjC+f4gtMkXv3OJ9bLkb8fM03/EYlWYZrNOmmVtSsytGO20fr0ksABt++5x+1f+ndGKNRxBIP2X5h/m72Cq1rcQuaIJynblBiMcisyZkA8hgvpFfKKu/323x+pssZI1aueR6L8/cAR1SS2TG0KSgOXWZGOqo6sDVdnff3vzjAHRMRJIP8IC5g7pBLmAuWMTvHldJjm1hWGstZ2INgG9ji76jm6QbMG6mWNJJi6IXTSURFZO6YwzNYQgUWO7MAb3Y/cDGH6X4uQiGnKbpeMIfzLRTJqExdlAMSvrK/9NsDZPt7AYjDhAaY0mSem6wAnzBLGzP6pfTIiFXMtFFslgWAuxtzVj98WpO8SXG3ryKDvJYYRm7qRjuJpZAIJc0KOs+ltdCzRJA39yfBwdDycSenJY2T5JWTXCz6nVZJY3KMbFizKwsNR5INe3tiz3t0hjXC28fT1StE+b2goazQSI6yFQ04EaysWIsVQQiwTtfOwsWcctOoHA0ybndBzLyE8w9tZO5NNJ2obi1PTFVGoesqbB4v/XFKlINZDptCdzi50wF7WkaRyqe4A4kkkjBLMUYMVG5YNfLH60BxibW7zAJ//t06LBpBUmYR7Q/l1zAFlE0701F7Av1b1sa/nDcU8g6sdOX9LMp+XSgplos0sYeWRmcBZJGcHYU3qZvqLsA/ffCDTUbAddOQWZAKMI5UzMiSGRGI0ZWRNyPLNYr5qF7+P4Aa/ULmyQtAaTzUVIYXd4rQySZjtPmA5ZQxGptHp0gesb/XF/Ea4nmShpLQT0TmMMZziyIrlV/UjRmCOaAI9tx5874Gtoa/VJMBK0OIacSkQpIgiyskaxi44VTTrVigatRUajW/1323wshzekQm0yZKjwkgrpgWEvIOxGAuoggDUNyFG4rcV5xg4xpONuaDvKlcwwTbNJEsYuRhu7WaI3B9RJ3HjfGfWZTduZuY+o9eScM8QSmSRZmVXlZj+XmOyMNVgLyNRtaPsaJrDOBcCSfLiDmyBYG5Q5hJmE7GkZKNXEmZlQ6AngFSSRyPrZ+mEOp7QBj7eiwDQScynsfTKZ8ukkRAGoAtsw8EgsS1genx9sIKuphL2ahO3LYreG4mxiUkeXeKRrljaHMxl4qBLUrG9DOa/q0+49sNSOmXCHA9wsS1x9FGVRNMTEiRehYt2YU8fymjTAWTudsZz3kyGQY9kzWwIOBdOWRsvKkcYUq0aiKN1YaXNnUxAoHirofXfFtZpOEXDhPUJQ2bpYxNFmYmj/TaEAajbuwYFtiCwX9xteBpew3IE3ujpjF5QhmRKNbE5iFAvdkjYgA2x/URQxDG9zw2Jvrkgy6YSOpOBnCNPKibZpZY48zf6CspGkAAvS7AixsBeDUqBrtJ/wBrj06ohjnXtIQ0nkmXWzNalYMzCyAAyBtyuoVQA8ivbDNqh51TPl0/z6rRFkQPGI8sqip4lVpMtRBpiVViSCNQ5BBx0eKxtMD/AGCmWOsDgqHNIUiWRUCTyKwMhoE/1aRqIK2V/Y45HaR+gec376KtpgmyLHIqQqs8JkFFyAX1s3LKCdKijxpP/Z9Us8zYG/OeiPhtJsYhIuZZ1jtdYmX9dBeksN/UTv6uTVCtucVlrtJIsRMfugWHO31Sr6S0SNHRV+6CjfMp18HcAkWDXt7YWlT1E3sieaitMgkaMR2SCI5jZbRuVXSNyFPJP384lZhu3VGCnDSW23Q2zSrLSGQwS6+5AhHzBfSGqxXgEHmsY1GOeIJPNoyOkoCnAJsvd3Rasogd9FSykgChR+mxFV+3msNTb5oFj1+v/wDXB57Jw3V6BBaKdJ+25h7yDtxKh7YO27upuzW2/A84mJFnxCIAiIUEybZiBqaPuntOgA0sR6Y6XYDckXziJrNu0jyzkZXT4QkEckYgAGBkMc0LakiB0EFiQysfVubscYoOIpkeXI+vqk8ItMrg+ADLF0jZgEt9roEk0NRsGr+px8+x8OIleqQYurCKaU9qORO3IvykEL7kgbUF1Gx++Mxx1YRd5QrePXI8cGqhH6QgICXvshrYHYX/AL4zvMYyoiRdXcQijkDsFYyH1KQPm21UK03hixrTOSjLiFkmSBciOQmOej6w2ola+ZUGw24s35wWkAdUBbKyUmMpMode6d1jG7HjawCAfIH++xqOAsTdI03VoskbovdAr5X1Hc1tqUgediP/AAYm6oIOofyn03kFWbyxJqoqizBuzKrEsii7uhvsK2FnHQHtMkWtIWdTcCpbMGeNY9QiRQVElanO2+mxVCyAb3wtVxe0RYQg0gOnnlWSMoQwx0dERYzTXqDqRsyuAbNe4qvbBawERMgXSkiZ3lWeVzAglScSOJIwFYOACS9MmqwdyOK8ckYtw9dzHahsL9ZwnN5UmSVe4CiVLGB2p2Ysuo7k3qu7Ju8clSq6s8tP+sfNUaQGiLq3MoUwRyzRSyQxEMCSxGoA/MwCoDvtzjs4glzQDdQYC2+JUiHrEmiJkWFWivsGiWVpKGkne9je13+xxNhim4hvRM+56qVl85BBFB+XkjVhOwSWQBQ1mmVQ16mN0SNgv2wzi1gaCIGo33nkkBqPMbKu6+xPRuvpFazZzIZhQ0JB9JvZuFqgRt5rwLxSiwNJBycJKjv0u2BC+P8A1SP/AOZObDB5ZQ4B4KkgEkng/UcY+S4mBUMZX3lHAjkqNWbU2hlHb+Vl28D3r/tiAkHUqoZALU+khlIct5UALd3/AJYfN0FYZXNPAzhDpcal1WFBB52ok7YDgCE0q8WWOUxIy0oZi9EHUCbHtuCdrxB8N2RAlVM8cjmTtaj8yPtTUNwCOLA/7YpRm8oliqW7iMQKGhbYrtW9Dn+2DJiEsQpmUnWJrkPoDbmiAGsXR8WRV74o9rYK0qR1OMOYsygIbMRqZoxvpq73P09sQpyQsFTIxULuVUAAVY2VuQDf84u0kbrFO4ZiRSt6Qf6rIvbycAk5QS6iXLdwgoN/JFr4GHBlFeMccg2OkgERa79JO9/64VECUBSq1ubApW3Wje2/vycbVCxKQzhRTK0gY+kNvR8HnDh4hbSlkN9ouoCce499/wC3jAP6QtixQ7jYFtAJcnUhIN/WrB5wsrFFyzCCZPUIxuX39T1vx5wdcJThWfUNBkQmmQxhtZ5VjuBsa4/1wQd+aVigj0nQrcjaN7BFXxRvbGITq06YsZYcLID+nZ963HHJxz1TZZuVYOzBXfdgrBSaBG+98bcf2xwuiYXQCYhSoU1kEkFHFvdUgOwJoDbx/wC9+GoVRjTzWVfD8ribMfqHf5a9B1Lve1cUTVY8+qBaV2tsbrPxuuXCgOxFyKDoFOW1GwNtVV/rjmeF1tiO+/usl6fmZYYy0yrGWTToZo1tSd2BN8gCvt9axCBf+V0NaTcX/b7/ALKs6/mhF0+LLQPoSM65dJq3Ykmx4N/Q49bg6ciSuSrVAMrsT/CtP1DN/AvxJ0nPrLmOm6My66wuldcVi/PIu6o2POPJ49jRxBcF9J8Oq+NwpbyK44+IIosp1vqgijLdrMyaADRILbXRHH09sNVK8idRInvpzlVMs8ucy5TME1IT+oxGsrXBs77+/wDridvkkfMSVUrk2OiXUrRqpBHHqqgT7bex/jDSka0xN57+shPYskR00xRSEDAjckff9v7c4FpgqzBEDNu+/on5AsQiyoscZ3qzyvkEAG7se/74zgJsm8xvM9989ve8dZEKxq/cEam1NWRybsjgDCNcMpw6LG3LuO+isi0ZSCQSl0Gx2HJIDnUPeq3wD6KzQARb0z7d3+itcxEkjKsSEyIgWhs25IPABsE/tiTDa6euQbHv6KqhkbL51FkiZlk0/LW5B0iyLJHpA3GGOJC5hAI77ss+yEcjpE3pRJRWoUASQB71e/GIOtzVGvBBjv8AHfJbT+GzLCiDMNI3cahZobnSRR3Bob7cnHO8oth3f5+37rpL4UQT5cmZ0MU4Aly77Gl3BuxW+937ecc9sfVddJsibEfznmt3/DvTpkzUkXZEjoNaRE6XsLR06dqFkeeOLrHO+C3Pfcfuu+i3HPP7gd/Jb7+GMkcv3O06wwRhYwkZCgki1UmgBYbfHk1bm+eavxLg1oaB9OvfedtzSGLKToJDrUN3JXCAjatIY2KVl2PpBb32t6Ns74XzttQJx39xz1W918/fxb6vJ1L4qzgkl7kWWkLLFmVD9xQSTyG1U13/AHx/Q/8Ag3BhvANcMnuF+Of5fXLuKMCwstTk00ySO5jyxLRTIopSSukqBsQN7Ht5x9y8h484xyXypJkEKPpKemOGlmBlkcsdBOo7ijudR9XO2EY0sBcGmCDlYGbusl7vciCv2w0C6cqQ+nQ4sFtO1kDcEbViukOpy60BBxuI3Q8miGUsw9avJDM8hLdyhr0uq8mwPtXtiDADm4KL3EYQo4+zGWhyrlJfTm9ZLC2BKsl7EAjgbe+BTb4dOYMEkGU1SXATlSiCVAEYk2ZY/Tdq51FdzTEk2b4/ti7gXtIybXSEu3KKqoM2r6GM5OjuNcbEAaSu16uQQDxzhW0w12o2dEIuOuWnkvN3AHj1d+B3DyTxrSFVkI1Ot0CNgQa+gO5wo8o0m7ZmBt6pA3c5AhOeppm/V7KyhgrIFUspb1Ki3sDXIHH96VGhzonOFmktE5RpVe1jlijEQIEaxgMB21LWl3bEbEGwQbwa5e/y1JnomZpIs4kc0uV1SREuWi9SsEQljTWa0MdwSRxvt98SpDQNQJAwjpDjzUv8vKSsaaZJJPSrw6QQzEkOwcVTVW2HdBbaw+3V3Of9U+kN3ynHLSzo0Q0NkpVKBFYBVdiEYtZNkAc+++KFmokCdJAxm+61weq80mZf8+0Y7q5GNyNRfWSaEmthxst/bEvGOo6XS1tus7ymdTa2L5ynEyLJTOVC75ZnBoqq6iQeA5O2/wCwOA1pqEzYckNLQLIbIqwMZFkkdmZVoAs6gahpFgLuRRI+hw+loYfEMd2UmgOd5dkz8pLU2YGWhDSsA6uTpDAfOBQsmrP2xBgAEgXVdeqxKNbynVC7SSyENExH6d3pVVFarJZtj9/rgeK10iYK2gqC0DO6IrMfybgki17mulUDkXzYJ/8A4sBjCY0OAgyZ5q7WwDKmzQ6pMxmBMvcgqONdRcIVQkrEqitRoHbjjxir3NLnEuAgb/hQ0g2H9qGY5UEaCCSVpSV0M57j8hiQWNgFeL8nbAFcspgaZ1W+aYUmh1tsJ7ZeXVKFBSZaEaagzWTVlS2y1sNvAwTLoa2WlkDv2k+yUt0tuJnKjGLMSZiRO28DZVyzzICwIOkpqVje9WT/AK1iIqOL3CMH6bH3F05pACcyjZnKxSDKvPBWtlaVGsMSXIuMiyoHK/v+93+dzHOtKmyk8AwUFYGMsRL97v8AojRB2wV1UQdjfvX+VYbxA3zRlbwXabhMzCaREksujvFdAS2IZNvXX1H2P3xqvFQAHOBJ5Z91mcIXeyJHlGzCyxCKKFljVyNag6yx39C+ob7/AHrE21dLHy0bXWdSAEz0QBltQDJJ2zqBU+pSHjYFQo3O9WBV3vvdY5q9Roa4zsIVmcNEheXLSuVSxMQCBo9SkPRCkfNqFFjt/njopcUQ0D8TjomdwhLbYTpsvvMJHfQ47yx6RGwZLKgabFVuCTz9qwalWnUdDSTquCW6Y5hSPDuGBKGyTEhmv9cd+BUG9ht9bb3f02xYcXqaCd9kv/HcZ0ieajvl59bXvKH7eZgRzVqNWhXO1CiQRwTgVHaQRy2GQkp0A8SLjZHOTleaXtzK76w5zOoliWBunFGgPO9++FdxAD4bk2JTs4Z4FxHRNzGVklfS88zmMrFrj9ETWoAI9JKn3Fcj6Y56ldrC65EBXHDOIwo3/DzE0jPFmEMjlpDIE2ZOA1C7A22FHbC0+LY0BzyQDg7e6r/w3k4tCJIhEkieiMsSzSx76W8DSeLJBsf3xR3Fkvc0AAxt+EjOD5pkqXlsuySLmJY0K99bLDuHcFGABuqJ9/pjnr8TrAuNRydyuijw5BM4TZ8rCLDtMUCLG0QBVS+ztor5WJ2+w84HjaJBuIVBQl1lE7ccEdiV4O/r1wMpKkMaADNyVAF/S98A1NAbFwThF1LUYPzSEZgzStGOy8blZyo06g26rxuNwftRxzDiXanGIurt4QFoBK+fmXzcaZdnVZP+WJJJFLKChIGsfKDewrnHCXiJiJz+E0Xg+ysWzCBdpHBGoMpAATYc6hsePP2wxdoHU8/0oFuwVtlDHMAVzDoxJJRQ2lrHp0kneyN64PnFKbWRLVN5MK6i/MKE9X6bqgcGyxJ2Ow4IoG7Hmz4NdJAkfJSYbzusjyxVNcIlYPFGLjUBn0sRbITW5BO/j6YQ0xTgx09isKh+ayyPMuEfTEjiaMxRPqRSzruKQf8AVfO3jxg6pBbFhjrCVzfMLoeWkzKwwmVe2V9MQrXZ3qyL3BO/9sDU+oBqMCE5dpsDIyp/ezOZRU7bNl3BGZillBCud1Whxdjnz4x0t4cFsDAUy8+5U7KT514Yn0KyGg/AYgg0Vvayu24s/wCUyDIJsg0htgraHM5nMZmS0hXVSuJwWYah6mBJr5diALOHpsdcWg7H7rE6LhWER7cAVIlESOI4iaJuQqQDZHIHA/nGNNrWyBiyTzG85Vp+ZzHpkQFUhASRFYBizgFWAolgoF1fGCC6IgAFARh10SHPzAtDmRphaXU2WN6naxqYqDSUTxX34OC2oWvDSE9QtLPKrOYXLLaxs0zmSNyoV2KhigfTsBsAdvGKubpcThRbcWQWeU9sMI5hGWReXCm9R0iSyGLDV7++A2kakBoknn+EW1QE7OvEuV6goiMmaVWCqRVOUa6NE0tmjYG+NRYGhxA82P3+iR1Ukg4BXyX+IU7XUuoQiUgpLKiXttqpWobcAfx74+U4g6nEnmv0Hg70mwsaYgoUkQM+4Qx8FRv++ITOQut2UgdFbXetirKoLH23O++3tjHy3CA81kitreJ7UKBtpBHBrjcb4JM2CAVjk8wyOIwfSaUFtjYJ3Fbn/wAvxiT2u2RKtJSrkNlTJ2HNvEKcMRe7EnYXsNvtibRewhbCrHR0AlChZFJ1+LK7nY/v/OKaiECFHmL3MYkVVNsE1fKRtx9v3wRUnCUABScmwKSrITMJSNF/KKBrccb7c4nUZgkrKoA5RtMgQkMvlt9heLTKyYCWVyJLj1aQBezHg7giv4wzWkFFPHyMpYED01WxscXXjBGAUUM6Dvpsx+k7nSSPP7YWbrFeLa60s9Hckb/v9awSbrBNXUFJYaLrSL4HIPk7i8bScopus0zM+oORdHUBW2+q72wX4W0hKzbKqDRGFtyBeoXsx+l+BhRhaAE+g0kbPGulSCxNceP8/wBsbSN0ZEKdmJEZIYk1ALZRm3HkXQJFAe2GdAaptyo4BBLt/wAo6VBF2dNhSfJ98LusrHpxiHa1uCQLUg2P32HFb3iNeU4ypsG4mBIKWdO+22x3O398cD1Rpkq1y66csGsUV9Jrfg7g44KpuumnIuFk3wxl0bNmQKCMuDoDA8ixvX++2OGqSuqhax759/wtpdJy0c0+ekdB2LKoylQoYXwLs2Nrv6Y5SIXeGjvv+E6bONDmJIiDYDByKU1R5FcihRJIrG0Wie+/dUcdIvjvv91i+abO5iVZIo5JI0NoDR9VihyfNY9eizTTXkVqoqv0TlfQ7/D50yDof4Xda631wf8AD5szFM084JLyenSi6WIB1WGJHt9jj5zjXitXAhfW8E7wOF6LiTq2Qh6j1Tqk6SA5eeSQoGFqWJIvf03+2Ol5IC8Zg1On1WMzZBsok0LIXljkuNDQ2IBs77bHzhMoint/HZ7CGsUghdkDaUNtGASpNne7343HtgEe6ppiCOfLl3jr81mgeTKhUjBoatNsSBd6bvxyfv8ATbReU+bR2O/6SR5OdGjWME9oawwtac/Xfg348fsVkSixvW3fe/2UgRSvL2YVLuGBZQBtp4NNvvXnGhN5mm+fXv6fsr7p+VZSGER1IhZQAdtyb+o322HGJv5LqZOSYVqNQ7bGJ0C6iWU7ENtsAKo39/8APABtHp33/CFYiYiD33/cJgy0c57kramX5GUsL+9WBd/t9awS6FEzPIHvl+VmPRoO4EXNxtHFZaGL0rqBXeq5rV774g82wsXTflHfey2t09kfLGMSGOXLliZSQAeeBtttfvjnjJhNTIBv33Zbo+A82pAQSl3VBpVGCm133O1jjY/zycRqiCQuuiesdfx3+THSvwz1HvCGWZGlcP8A8plW1YknSuo1sQw3A9/JxxV25It3+V6dOoNxvyA9Lz30W8ugS/pv24pNMBDLGuvRpUiiGcbAhQbIA+b7Y8utJ3z33+yFdwxz6Hvve62Dm81DlulZj87O0bss6yzFRSKHYFhIAqkkqAAdiSL5w9AeZoF7998l4lQ3tiPxyM92Xzv+OpFf4m6qMt3oo4VYzhyHKSu4XZqHq1Xt5G+P6Y/xVzWcJTkwGtuV+GfHTPFufkyVgk36nbWKMd6IqozLNcbIdl1pYLUTv4HF1j6YHxGARcbrxTDHdCMIRaTLO4aR9MYKRAUzGR1ptDJyPT7URxvgAuZh2UgZIxCdLGQsbT9tspIV7MvotVBGm2bcatXkcD6YnVLmt2j/APZPTuYGQidsr2p5I5BLACYwTythT4ABUA7g78D6F72aWE5E+qo1pbabFTkOQMcJhUSREa3C8qHICKuo2CCdJrb6b4ofCpthpOnaeZ/ZTaxxMFQ5oIjAHZY0iilWSHMksSY3twAG5YbK3vtWImSwNdeCL81ZrfOY5KU8khR4o2cSM2tbWkEgX5lOknfYecW8QPlpmZtG0brkDQDLhPRGySzZgZhTKfy8TNGjsoU6tqLAV8xtgBuNjvhWVC8O3FxPNWLRIUWTLBd0SENCkkJZoyyBUFkN9PNYQSWyTcAhULSUzL5bMj8ujMCpSRNKn1qF/UDNpsUwse67bVgNcX6f9gbRzhB9MTKscrBAyN2y6PK6SQaSLUsbfX442F/TxjCtSLYbJkiI2R8F8yT69QpY/MuSCW2Ulms2W4DE0KVgb2P2xqjnPcSLlV8NggxCJAkSxQyT6ZWkY6qamuxqkVY7qxW4P1waQayCRJ3U6suMDCdGpEU35eRZMw5cKrWCxVvSWogemje93+4wtN4dJZzP0TVWO/2wvSOTGjtGDcitDNW2stW4Xk2t3t9cM/iCWiWxG6VtL67KKP8AmGeZgrSujgL6wGBokqFJW62/q/8A4sQHE+a4ucKp4aW+U+UJCq5ftoyyCeaNURjtqLNpY2SStkXdfYVg1Xtt5buvP/lG6FKkHBHzH6j5ZVHfJ9URtA6DRvRUEqRW3ub39qVaodpAbunpNMGVJImeOh3QVfUZCNo5FJr0KNwWPkkH7jE6rnEkNw439sItpAGR8kcRpErxGRWQyOItBXurGBuQgreySL5FD6Y56FZ7Qb3VxRl0wky+U7qmVZrlbLELQVxpJYqgFg2BVCtq3846KVQubqN1N9DQ7SiGPLmOUEOc3uVC0JGQFeP+nSOR71iAqt/2J1cxurs4eRaPdCOXgdEkRZTGWUitpJFA4NX9Tfi/5xqS0WObg/7jYf8A1SHhgHQI9kPTlVjy8ksJPYZjo1LKABQrW1c7771izz5dTrQlLRjZRM2yREq7yNl4ok0vH6WCuaUWoAXZRZ+uJV3VKZEGf2KdlOeQduThyHmDGsaOrGRCSY1UMr6WXRa6QANIsDf/ACOJ1HgQHXGYW8JskXnfl7JkxWLMRZqN7aBS6QM2i0atiTwFBOxPvimoNqBxJMbDYKYZAg4RUzELlnSIqkhDxhjTF49LbL6vlJP/AIMFrGPlzbSLIh2kAJYswxQrDAqvEVlAmpVC7DUSKIJ4oDbcjC1Gv0Qy3mVmhjjJUyBYmSQ50KmbIEkrBV1Nue3q3AO+1cj6YDHEB2t0Ok/ZWNMawQZCbJk4SAsiplpYiWGkllDEAEDY2tHYbn98ZtVxaJOAjUoBhtuoumMxwq8ccYVe4gYkiidl4BF/XcbXg1Kz3tBOVqfCjUVMEeVDNlo4CzZdFzEcYQRhlewNrFg+fNfTGD9TQ0WcOWPdYU2kBxNyhtJDE5D9t5JVKtGrUNHBYP8AMCRfHI2+602R5jkyD6IvwQVHSUPCMrOoXtsV0k1ocKXoaiwINjjxYOIUH62GmcA46roIAdrCq81rWbLd1FlpQFhgX9NI9WkBQd+b3uv3xnHQA42lZoY+WgTKE2mb1F377kjTISNQWtTb2PSKoef4wjwxws4gnZM1rdxMJhywnGmaJXjmjJMy2CZFuiLrcHf7YzmuLg0qYgRa0o0eUk7jxSSBsurlAWb1alNK1A1ttZ/1xAVHscac2ldIohvmAynzQRpHIJ2kModCyLTUG9VBh5Cgeb/bBcX+YE2Kq0XEL5s5FUzDxyxFHgBbuxUb0q4BJIuuLqq44wjnS4E4BuvKeyQbLJUWOOKd0kRpHdXDoxCsp9JDWVGqlO9bYoAA1zs3++Pko2Btb1VmF7bXmImgeEsF7lVp0garH04sc4obeZwg/SFjpNwZVunY7iRvMLl0loo6YqjAEFr/AOoDzWKNeRbBOOqxd0Vnl4HjIQspLM4a2p1jY6UbbSL+g339xjmqU6kdd1gW8lkmReVmZWcjLvp7kTqI2DfItavdAbIOw5waVQh8uFgMLPiAN1a5bKRKElcExLVqQQno8ggKw1eDilOjTbtdIXHACOYXeVVy5VZJiIpSx0KW22jY8Bd7s7nffDGuQ46SIMZMJfDsZU9oWGmONtcmlTldUYdWCA2iEEeq9Vte23nF3uB8rf1fQ+hTaYCnR5RWeHMS5jtvOolV4ySoN6V1AHcjzXPmsLMfqMu6JGAPN7K2hj0RCSQdxjAS22kBYzudIA2omj+3nE4H6TLvXb+kpFyAjoUjEEyTFsqv/Kdb3aRifUFHO1c8bYs541NM2lS/1I3ClPllWellWYMkkmYKAoNRAIiINV/TZ8cCsNWYNZAMnNklOs8tE2Ep2WknjhmWRUaeIiSWIh3HNIlE+PBH29OKMqaabi7aPedh6IuJnoUWHUCkc7lNDf8Ax2C6hEV9IMi2GJJ2IF/54oH6I1mCCYRLXAeX+0WWZlgcOnegaGZ5ZHpVPoeMkBQCDbenURv77DFDXIdJktLZ9SoOBGen3Xyn+MoRB8SdVicDtfm5xaiwoYljsKFC/GPkONH/AHDaAv0LgXTSELDm1Ah1YiRPA5rwf8scsWldSRmck70pAIDDbbcgV9gLwuUzTCAxVgyEk2PUb38bE40gop4ZgUYnU66mG408EeL+mCPKZCykwT6ZVtzR0+r+gjfTe3H74RzdRlKcKyyksEjqDKY2ZCkbs1IhTywq6oHj+cSLDlPMlIsJcuFfREtINO17EHmySdwP7YYuPoECRyQQr5aQBEDJqJCG9rIABvgDesY+bdIq7MuZJ+6Xs+ruot8sSOBWHBgplHatCgppJBKEeoHxTA3W3nFS6I6oJp1gg7uEJI2+u2/jn98KeiCR6GoBrUnU0p3sN9TZ28/XGTBOX0sqgnSjUy+4uqF8YBK2RKRla21yAtHtp5U37EXthrkLApARqJdQpU2FrcCq/wAsEoJCQfVbEDYBiSxArgcf3wswmyl9XpNAOWohTptR4NDxg5QIRg5cRhTpayY5DsQB5FbgEYDRNzhAC6boMgBZtTk0gJKigxumqvveNkrEwrTpqlyxj0692Sx4AH9XnbEqqClg6R+XVVVVUAScWzUSfceMcD+auDCuoSB+VRdBOoMyEfMTxvfIJ8Y8+ruuhuyzT4ekiRXuMFpU9ErU2kn0myTzxW+OJ4XZSgd9Vs3oUkaTCBmMaSFXaJFsalHq3AIvgcce9kY5nMHfffsulrpzHfLu6pOr5uNJCkF/mZCUmAom6oruCffexi9GjqvsocVxPhNhW/Qv+GdJGV6nOU6ifXLNkdPDitI1EkWPO33G94u9hqeUSvMoROoqd1X8Z/jLqGS//HF6m2X6bGO0clDpePQu28jBmPtfnbCngafDiTcwvVPxCpVECyHkWeXJw+ruu8pLoQaYnyD4G38/24S2TO3ffd+qg1w7+nooM8Rkz2amLE0xEfcIAC8sCTv7bj/PCuFhCs0Xx/fPuyRHcRhQhEiMSZNzx9a4vYWf9MIWbqkkkd+qnPkJIx3e529LBJFYahpJa7Fc/wCWEDYBBHfJFoABLhCia0V1aSRNTAhmAHp2NVufJ4BHtgSIRm3ff3hWMkUceVgkUBZQKQhRqIP9N3fP399sLE99980hcffv2/CsEy7xhny67KAzhDudVBrJ8qDvv/3m7IXVTeQDvA75ck2dni0MlskouMpRu13JYNX7ADB9klV8kAb/AC7/AJUfvuFClBqDAKWohTW4Ir1bXudvFVWGNj33n1Sgjfbvv+lsLpEmXkyy5djplu1kYDX6gK0JXJ4FjHM4b5R1TJ7+qzjphefJ60mSVYFoIW3I2JBW/BJ2xFwHffRMCb7R337LYPwZm5sv1ZgkujSCeBYB2O3A2Pv/ANuZwtK66LtJBAx8ux91118E9vPZWKZG0yMCksR0ijoCmwymxdHc+4rHFXMD1XZTbvuP23595W++kMMsIc7EQ0cqKc1NWoaSyqoKAkkkkUOfqKx5TnE+U9/13ldFVoNgfr339bLrucysfSc0/fSVI8sYcs+tNR0OVF6SLAY7UfVx6fHf8Nb4lZo3JH1Xk8a4UqD3Hl+O7Lgf4jOZ6hnc3mZGYSPIMxGylqKca1FUWHNAC+cf01wXCup8I0WwvwDi3GpW1Dn91TrlDKyR9sRQaG1LufUlize2osRYutxXivSFQE5tH2XA5pvzTct0qUlgdWYMjosrCMKe4TqDk72KU7jf2xRtIteDkQgJdZHMS6jH2FUyyK/dDAKF0BXZybC+oggjkb7cYAr63aYz9Fm0i2XckVUmgmMUo7za7WSP5ZEPpNrvVgHm8I4vLmtLBvJ6fynaxrrpOxpSIQPHDKESONgNAtmVSosEc6qP1K8DFC7xLf7DHp1Wc0gpT3I1KSRO0Kg/qFgAgo61LLQ16jt6SCcGlWc2xFpCApGZlOhyWYSWRo3MkUwqSGQFrXTrAcVahSQCTvtt5xcvaXnQRcFRLXuGojBR4cuY0h1xLl43RVMDjWXZSAC1ANzwDvVb+McnjNa0arY9z/Ks6i51oujQBgrZWcqO6uqKO2bUqmgqEkXqJF+f2xIVwAWkAG56/sn8A2sU2JmciVDoWMd9pkU8UFQWLu2887DAbxWos/1Av8wnNIAHdTEVVUuojm7NfryIQJATd1uWoWAG2rE6bDoaG/656q7G2ulkkaB+8kzqYQ0yqlAMjggXprm9x9MEmoLl3ySloAkNUVcwdSRwRLLmIyh7rrQYOQWVpKOgAHbnFHufcMfJj2TS11iLJBO4JMeXdJhHJJI6AL8zan1At5sUcXoOeLYt9VJ2mDdelDpmZIZ4BLrkdZhpW2UEMKLFTQNHjf7XiBbU8ogPO56LCCLKSZR3InAjaSJWRJFYOoYEFkryb21HjevpnVS2o1zY0n6dEzGBzb4Tmd5/yc1SAkGMShNLUzAaVX1bLpPAJPIHnAfUJLOgI+soNpNacqLJ3HkAllji0UNOll1EblSTYsMw3HjBeCS2ThNYYlDlzTijJJ/8kntsdVCl/UCWo2oG7P8A3xOsS5kgxdFogx7qWucECxPNl5O451JKjFW9RpjXD6gfUBRI98Tq0mgA6ZncK7KjyY1QpsWaHadWiVJsvUazAkqSoY8/tQP3GBSDi4gNAjdVLg3LiQoX5mJ9TvTrK2hZStElaBWQqxHN3739sK5rjc7JTciLBSndpIkkMdKSWEhchgpbSBp2O4G2GdUlkQmDIJKC0HzNGIHdgsazyOEL9vUz6xZtiAQK/fC0XAkGL4ukDS7BKimDthIxOzu/piVqCim/TV+NRAIAJ98Va5jZJMmbeikaLyI5GF6MSIIO+I5HjLAJZJVnsrQBa1J53/2wxdIO+R81jTkxcSkYLJJLKdMzSRoJogAiRsBwFA2cMoBrwcIagZUL8kgfZM6mMbKCmWklz0TSusSvxmSDQ1LZYACxqO5H0+uG/wCQX1BqgCFN1MCmdN4KU5KddSd+XLyByiyxOGttnvRZINnnUa3usI4u/wBhg/OOSr4dpXpmZZ3JLTxOdafmAP0mILBANVsa5AP98S4gaplsiJ/EFO17W2EBPgzAeABT2ndFZs2GYyfp2bsgAVQqvbe8FkCnFrqjwXCxty2TlzDSiSUqTFIrRydxtTEij6m32J40/wC+KOmo4bDZEaRtHoosmaeAiAh5ALLkSAlArECNZKsmyL1C8Re19MkOaZ6RdMSHGRhOjcr+nNIyzO8SRulMyenURVDezvwMJSBpjSXEauz8jZMRquBZSWC61X1zaT+jEAhdWRtbAEjdjdkgCh/GHaySNMO6lFjIz7eie0jRsxgVEYXtJyqH1Gh/0gL70TxzeFqVeUDoqmmDn6KukjlEfpIhbS0qObeQhgRQ0kWF+o4vycP4TWGwAJEqeogkbFRDmphPGyI3657haMBhIgAA0/8A22sAed7xzP4pxiQRPJWptByjZiWaCF8yzuZJQqLKQdSG7ox7LqLEc+f3xOu1zmgkzy9Oqs15HlGyFmM0BlSe4gQt3TmY2tXF0N72auRyMU06REwTuEus6pXzZhaJog8amQwumpifUNZBrbY6RZ+2MXtLLheY/UHRNlkMGfEegtIUWakAtaKqtOtvWmwDub/nDaWhkjf8JANSuIOpu2mEzI6Mw/UBCmUMo2snbatzxvipdqF7qbmhuMp0U7zgqhZ0i/Uy6OF2YDyLW6A58GvviBa5xkbY6JtY3VtDmNcT952kae1pCTpKgt6nJ2BvehQ++2Jmk5zfMZJSvcAbK7y/VJ0haN5EQSBmQM9oxU1RLAVqBoVX8Y6RS0QCg526voutEHsrrlWRCiyg9vUyNXqO/Jqv3wz5cIgJGti8qavVTLmYtDsdVdpWBvXYtRYIIsi/3usRqUibCAfn91QVBEq7izuUHdgtps3HKpkeSSlhLqAvbUE6rPO/+2Lsa0MBAJfN749FF5MzNtlY5fqMPekjiLRaGBZZEKAx0QULpY+wret/rUUy95aLEc90usgdVOXqGWV0XMz64REwCDdFWRiDZJO61VUL3OKNpup2LjB9JSvqExCYvU45FCI6yyvH2oyB86ggAkKDRAs7148Y53022uRy/lMHxc7q0XqsObhSE5io8uhAzCSIH0HVShSp1AMSTsNvJJGOt9XV5QZICk0iZN5SjP8AdhHbn9MZSWGRbBDsFVrG17CvV9r2xBniupasNHPmrEN1CdxhTGzCpqchZBI/cXMZitcqfLpIO5N+kBRdC8M1zqbticz/AOXr6qLKgMQrKHMBpk7aNDlZGIzHertgkaG0jVqNE7Ch6vOHoVXVHQBYQb9bQ3ohVAaCCZK+YH4qZaTK/HHxFE6NHpzzlQN/Tfp1b3Z538HHg/FmEcQ5fa/CDPDtPMLW8khB/VfSGbUiix8x38ACr2x5ZcRZeqhsHlVTqoITqN0Bua5/1xjcJFFFdtlv0j0uARfuP++ABunTzoUto2Vl2DUSLH0284d4gwhMowWlCsX7jkFvIVaobHe6/tgJUPWyNbKAkdqukbCiCLvijvgzaE4sijMZjbldq1KdxexrwKwhwgCrTKZuYlQ7AoYmhRL51A6nIJs3e++JkBEklTWhyMvaDD9NiXDA+oHY1uFFD++JglABUWbjg2eE9xSmplJoBxuSR4of+Xi1NxmUVAEmhSoFAteob7e+58/2xRCEreqjYfy3NmtgKwRBQTZNtdr8oAGxUngsTd2BjEwsvMwFbEovpQ6gd+QPO4JwdYRJuh6m1BWBQUATXt7i7v774EomEQK4VDsSaKbg0B73/phQkTQsisFAKq3pLhgTdbkc+3tg7ysiRsSlJrWwwC+ApO3+V4cJkWN4gFogoANIvllGzUPr4OJaoQiVP6cQkzbUWBAeiBvfijtvWJ1HA4Q3Uqahm7HyAliTwdtt/p9McRuFVXeWFlXlKhWU6QQD9rAsjfHBUHJXpnSbrMekOJWVyATrKnSoa9x81Xd/T/1yOZBjZdTXdf4WSq8eXnbnuEUqSUxUbjULv2HthNBxsrl4GFUxevPyZhYhOsQ/RhYfpt5onxfgDHcxrWtuvJ4k6nLNMhlc3nkmjfL9yJ4JGR5W0yHerUUTxvY9jh6dRoN3AQJuoPn/AFuVL6N+EPxFn85NmcvkJ+xCnd7ssZ0svp00xFb3YF/WscHHP1mxXrcDTLhJELOMx8HdV+GhJDnoJ4ZIw0ax7lQ4F1RP81jzW6nd99817IaBY5VFD8M9emLkdNnkjkOiMiJiCgvfknkg4Lmkm5TuDotnvbvmsr+Hfwn+MusPGuT6RN2YpAVZlO+kk8aQBe2Jl7aYklUbRqvNhPfdltlv8Of4j5rIOydLHpJSMagNwooWdz83BvHFU+JUW5K6v+n1yYgfNYL1n/DZ+LHSMo+azHw9PJl4GLuIhrVQOC1Xttxgs+IUXwZyuepwdZpki/zx6brA5fhj4oMaJN0PNxiOg4WEjSQrWANqHucVD2zY3SNpuiDkLrvofwh0Tp34GdV+IusCSOfo+VhiymWkUCPMZjPiTvGS6LFYm019Bj1A0Noat/3XztSo+pxukEi4FunRcZZvLqoEZ+ZWJjJOoNuDQFAj32vbHmjmvonSL781V5b84I5FjdWjutB//TJAu/8Az++Ge4SJ5pATEnvv7LOujkIOy8hZWjcnYk6W23Uc0QP7/S+Z5Me6pECHWH47/dbH6S7RygRyrHb6jp1W24JBBvjg45qpjvvKrTJMEYnv99ua2F8NZzKrmyzhZCQDoptFAmid69O52J8845nvI599/ZdLBa+/9d7Lr/4UpFyU4YKGiDzRWwkZAW20iqJAFVXj2xwVD38t12tOkDUbG/I747910l0zLTHIZcyo2YiWIJFG4XTaqGLlXI8qLFnf2O48s3dbJRc7Y3O/ff4WhfxLzsuTyualg7kQziSSAtqCySEopKn0jURbELsDV14+x/xHgxV4xrTt33uvl/8AKOK8DhSJgmf2XNwz0SNIewVMQTcHkE+Sy2AdJH78Y/oQt8MNAaT6+W/vn8r8TzdNM8CQzxSvUc7CMxUSRoFJoUW32ugfbzhn0y9haLEn6bqXitDpUlc9IkUqizNl1SZ49QL3HsVDA78/Lx9cWHiFpAsI97JdbdUoQzcEeViUVDIKLySE3IQfmYGiKvySf3OG0gM1Y5nZYVNJOvHRK3UO7L3YpiIIptKnSLbQDr0KrLewujf+WON9R1UlzHiLTPTl6qgIafUWSx5tQ0mXTsJKI6hzSS6ndzek6aOk+rfYePrgzqs0tnMzOPRUNRhEnKkP1GBYEWNxKJpFVpBydNhKDN6Wsce3ti3jtFIaAJOUrGy6eQKdDnI45pktjmnWRZFNUw9QkZibrQBdE/bE6dVgIEGSCnc0uaDIjMKdDNlYtDGdjlAGEIViXazquSwdt9IN3WHpcLAAOChU4nzeVeGdhV5gYoo3RYgugAdwEatgdxb7k2PHAxFrDULmiwHyK6jxDWtht02bPMEdZYlaTUAIEIpAPSWYA878XQwar3RERHJRpOaXJ02fuJ5ENMlor1seCSwH8H781ioD2t1A3RDxMKEGdQ0Qy4heMkCGWQ0SW1cqfctyfFeMDQGkPc0A9cFI9wbN0GaOzpjikWMMrltWnWqtdgKPl5N+KwxpaTpggC8+qRrpUjMTtGY5SyyvIe24k0+pVQaVYDy1bUKOxwtWs1gEEyqMbMgxdE09qGDM5YJJl29ckkgMhCcAbX/UxsLsD7YtoADXNi+VKWyW8uSkZR4UlmCkfl421QKhBcBVDMCQBYBPO3OEZTayw/QJMJw8u0kWPL0Q2kkLSzI8JeM92NXRvXVCNWCtsaH71fnEDVgF0egVQQ+AcndElYzOszBs0NHcmhZQFDhdJcM7WBXzav3vDPyHcxhPYNI6wFXeju3u0srImZUuEUOdjoutVrYsCiPtjCqQd4Oym5ocPLkIiLrkeTLZmRo8u5dEkAZQsikcMCQwHF84DgSS5hMDnlZpBbBiU0AuMyGMkWZRQCXpiugUoIUkBrFD/wAOJkeJd9zzTOMWCjSZIQFZB3XkYdx8q4YOqBgfQONt6J/k4dzW026wLxcfshr1SML2Vmj1vJKvoVncSE36a1aVQmwKK6vIxFlwXHHdle4HspP/ABGGSBu9+qhcaA5Vt2W9/SNvSaBI3HG+FqkVW3vpuEodAhOXNLKrxFmEGqPVsGUgnUrenckgbgi7r9rTrE6rdUIFoEQZSJnx2pgFkcOdU8/9a3ydwaA243H84VjgGlwvGUpc3cobZrJTNEJQhlmc9gLZdSvKsPUCTYFg+2C2BMxJEhUkEZurISZNQ57ylJwoiyyg6iCo1rseRWx22H8M9tPRJcEaZk2UvQksYjRbaRmbLhKWlIBAVtgAK97+2JhgAOppuZBnHeEzsiEmbMHeZREqKNGvuldm5FodXJHge+BU4gttzv8AwqU+HDhqtKqmkQSxT5aNHlZigDSbFbIcBCOPVRGn2wN26AL5lPpACoUzSSSrl4yyRvUcObCkqtMWYggbAAUNtsalVcX6CLEW5A8lIuaBq2GefspruobuZsy/nH1SA3Rc7hFUvwTe41cfbDVP+1/7lqhuP3StMu0j9KX87EII5lhWeNf+UvpGwUfNYtiAxBN0PpWI1ari0OgH8c/muoMAJAJwl0Q5lKjRJ2VmqW2CSIqn9RhZZq2+v03GCKDwGENBKUPEqnfN5XMBIpAo3STULD6zene9iV/y/jjNODDlY1YCOsiSjuR6RCokLMTTMzA2FItr3G31vk4r4jnQ5uwi6zQ3CKM1Hl41MEw1ZYAyw7bj5VUBaA0geDx/GFZqIxJCq0NGcIExXMyTtKZGHdVTExFKy8td2P8ApPscQfra6SD6J9QNhCrfyjAu2Xy8MbknUIi4jG9iw1k+ar6YNWajSG2nCmynoNzIXzZyck6zs9DWFJYnT6WN+lGOnnSPH9t8doESCJXmkCOqs3niQASBpYESgRpbeix4qytUSDiVQljeY5pKczbJR+kdQbNqEhJcZnWCraHAF2CWs7Gq2H08Yjw9culrQnq0CyHHsrJoHbslV7jsHJDxRtqChhY8bkHezvWOpjS1uCT0yon9SvcuIWDyQ5eN3jQD8voCsfDF2G59yLxYik4Tb8+6kXEqwgGiVlnTvK5VY5TX6gLUAjHVW3BIwGPbqJN0paSLbKzy5d3hVsyygGR/UvpBINRtISNQ2qvc+2GBA0nVe6VwJFhlWcZnlEWqJZIcz+gw1adJaypUjevT/lf1zna3NJFjlBsRANwpERTujtxvHr1gwtGqigdPp39ILA7k3/YYBDNRvgraTup8KvUSBQvZZUhWwrKx3DFV1f8Ab3GLeUkECRP1UXEk3+alaJFcMY44qYvITuAl6i1sTtt7bYu9oFjmUTdGhGYctNG6xkgusRZwrx7hVcjehdmt78eMTbQ0FzqZupmqBY3U2CaST1wxlZISVJjSi+hqtQ2nSK9t9sVadTg6Lpngssiuzw915YlbLlaeRmJG41BjqAUbkcCvOA9xAcTtCk10+vNWMWZPfRSspzEXrhmBL9oBifkIG7VR2/thyG1HGTcpyXMEgWViuekX/wCPly6TNIRMdJ3jF+CeRuAR/OH0iGtacRdc4Gy4N/HXJjI/G2flDlVzMMc4BOol9FG9zV+Nz98fP/HG6K1jcr7b4BU1UAOS0jIGkIthI7MwjUDVSgX+1f2x4ZBddfQIOzazqCstBDsSWFWduABjRCRIqqWppQCCGR63UXwfYkDYDFICZeYrtoOzr+kwIFgDfi7vnkYV0pUjMxNXbB1LRWbBHkn3wgysnR6izFCDJqLCNvTYvxe24BwpN06kwqzRgMtLI4R9tIYj7Ud/bG1HJFkikGNVcLJGEaN7kla1G3NkVXBqsKb4TtRpZ4y5KISgHpRqIQmjQsnbjAAhYqEqvnJAWVQ5I0Nq00Cdh4B3/wDN8UaQ3KRQmgl1qiRdwB9KlQSRZvcgb3eG1BOUyiraCNMi2d1rSB7+f4xmg5CRM1NYVnARSR2xuxvgXx5usOxxgrLyMACz+oqD9rNEkckcYWNzunCRmYmSRltgdRSyA2o+aw1kE9FBFBW1jVJ3Lv0gE+fAF40goJh1aLV1Bdbq9F+PFnwMCAiApEMcsZdd/wBIgs2ocm68XsNvbAJRdYI+iQhYX2dAdhQoH1NdYDnECCkUyCRIKkYUo48gk1X9z/fE6gkIqXl3immjJq4/0ztf/wDF/bHFUYQIVAJWY5fKq0Ejx0CWqNTsDVVZ22P/AJeOB7SqhZB0uCeGWBgz6UBZfHq3J9//AD+cRLJXbTjEo3UXLyPl4n3Nc83t6Rz/ABitKkJkqNd8WCmZUZeExyCIyufUjE2QQg4FbnaheKD9Q9VwXK2P8M9emyGfTMBzpgQ/qRx21oDVHgXvqvjfHLxYBbB3t7Ls4VsOAXZnwx+Lua6N0vL5dtMUnbiDtG9EAenUthQda2ANtN/fHiPY6blfTUOLDBBFlqf4l/FzO9Y6xHl81lctmFlzPqkMaKS/yFgqBRVHe/bFG0fDEzJKjTrh9ccl9D/gSD4Tn+H8lmmyEE2aEaFQqh1KufGlATW3287Y8atVcJ9V9YaB2FlazdX+GumxwnJZeLLJEWkQ0zBtO3t4BBA2N74mPOATgJm0iD5t1YS/GWSTJRxQ51Y3y6Dtp3AdjQ9e51KTvRO/v7xbw7j5ZusKTRUJWdfDnxn3+kznNS5d+nKy1mJiQjRlVu1UBaBJAF3WOOvQdMOMwuTiuDBeC2xVa3XPh89QRT0/JP0rNAEntxyaw3poHewVs39OMGlwrnulphVNKo2mZcdQ6rkH/EX1bJ9B/B7JZCCZMs3xJ1rNdSycOpUPYV+zAqiwTSAmhuMfa1zFFjO+X4X59wVNz+JdUdzJXzXkzUkgeQ5h9ZZns16tv6SQSvOPPjT1XvkWt/XfZCn5bMK7RRtrR2NMSQpBU7EnwNtxWJxBssQQL/X+u/otl9CEAykksqbqDwDVWNqN70fcDEXiU7YmJ+vfrusx6Wr5p0CJ3Gjc07fMVIAs1vvYPGOZ5EZurMiQYuf57+i2H0np7PPDCrau2A5sqvqYlQS2xFVVnHK7ymSupjJN++/yuo/gJsyr5bK5mNZYkRAosFToIqzQHp+gPt538+sbxP07z1/C6abO+9x0+y7B6Tlu707JnK5Ydpo9t1CrIyhVGm9gGquQbut7xyhrQ65lCrUNMkE3t8u/l1XMv455qOGOLKIkchRUy65mAhleyobVJsSSARRvxdHbH6Z/6f8ADF/E6gJ5BfnX+cV/+00LlpWjy7ECu1Cr3ZLyJTEURvxdX7C/Y4/bfDbRJ82oHY3g/wAL8kJ8QSbJqZiYFlSNWEEqjVIgBdtG0ZJB9VWRZ/jyXvOotDZFljTHNJGzZnM21KbdVahYVU0vqNKeRVE80cH9bvMYd3yv8vdMRpFrhOzEhZO6QoCQsX7igo6gBdRosp9RA4Ffvh3gbCB9+/7SsndMRldQGk1U9waAqIwQ0VWhRYivbzvhG8OCy4gKheeSWTPvHPDAidt3UPqUAOrpVMdjp22b3vC1Xljmsa0X6boUwIJm6ktOhHem1wwMollIBD/qXsumwEB4H+W5wH0XkhzyG/8Al+Pyh4wwky2YVoGkkjaLtxGpo2BhLtuuurFMR6RVbfS8UYzSC6PlhITDgOalxZhQIstlWj0sSDIgOyuSyKBY/qu7PFYDaVmsb/tmfz6KpkZMDCZ+ZST9J5gI5O4uYiRAsWxKrRVifUpvjcDbffA0tP6v04EfpBH7rMJAlPhDaszHqSIJEZWfLuWHIIsb1pI0mvH1xWnSDnlkn23SmqS3UlkaSRY+53I5YZSe0I2CduRVPpatgCu4s/5YnoEEwbHCfVpxg7oKTTzakDiLUvrjQ6UERkpbNE1t7YkDqnmMj/8AF2PkEpdpwpPeeNYnRlzhjJVFkD+mI8UC24B9PFjngYu1rqIEDVNr8v4TB5xCf3JYMxrWdTHMshzE1aURhu3rNHgWK8Ltgmi+lU0j9KzKvlPMKPLMwd45o4QWJ7GotrY1qZlRbsLVkbb+cCo4aTEGeaLXbgwvB4noxuVllDxrQoULJkLCwKFbcnEKXhsY2b5n1WNR5vmCiyZvJzODK00LoFMclgElkCjUbFai2oX4xZ4pVCOg2S66rZgTOyZns8YoyySyR/qLDNMuon0KKUr5vziNU02uloNoyqNqO/2Tf+Is0knfYq0EYdYGC6QQKAIA3JFkbDi/t0F2p3mtmyV9RzTI3RPzPUGUdiRZu4JI4xsoUFRZY1RNtyKO/AxBlB1UsDD5n78oyt4zQXBwggBMfPJHH25XCRq1qCqlncUraGs3bEA3/FcK+jTpm7p6qhrk3ASP1WSNphCRErqY++ysdXaBICarG7EEXXnxvjODg4OA9CqMc0i6nP1J5CChLSKSJH1BAS9El7rYE0dtxvhRQ1EvAPUhUPENaVDXNwSh5O3G07kBFNbi/Vo+U6SDwOLvEvDY4S0+c7dFv+SSbBLrWKaOZI4n7zIVjdLLOPUtAnSLvSAeaxQ8OGPkYMpm1JtyT1zLlo8rLX5pnKgRbK0hsmrB2vba/wB8PRrvLQ39LpwlcBumDN52IP3IihoF3jti4Q0CvqO4+g2P7YDDVD4xF1jpIkXUfNT7CdC79127qoQxR2AYUSRZ5+mFr0QAXAzN0GVzMEJjdWZY40jEmd7qCWDp4crJoDHVbnSFDHbfzsBjkDCKbeRXY2oNRmxCs8r1OclfzkwKxh2SYIdOpRqZTydOpdgR48Yq2NTfEsBMfJZ1QBp0i9kGTMI4R3zK63r8lLwrKTrNkmrIO9n74UUmth+qC7CYvJdphVT5ntKhmiX8hNrlBddepX9JLFdRGqzzQvijWKUqrHQHWYbjr1UKrSXWyEFGzMbspgGaQSgRwgUX0EbBTe4utr2A5xNzC0+UaoOkc9PIJqdhHzUlZW7hjjyolXvCKNVGkroNFdNixuCfpxiTqmh7gwAgbb+hV3tsDqUNZJmWLuQ9oQOSW7rMW/pWMajfzHY7jxifEvJAMaT9uioGeW9wiOH/ADHfzKaJQ6hpkUMjKfTuSSCVNgX/AGwtMt1wLOOCf0R/+XVK4eUgZCBJnDFGKakhbRl8zELJLAVakbGgL+h3GHc60AwNjzVc7SoedzkjTImrSkEKtC0LC/l9BLbBiLB+o3wXhweGhIXeXEFR4uq5mENqVZlctGYCgJMi7GiSbBIsb8/XAALZMSeX5Qa/URzU9eru8uVIzEkM5uQqWbWu7al1LY8819MQZw4tBknn5f8A9t1ccQSCCLL5sxZ4xwJKkcdIn6o7eljICTqDV+wA4wzqpDMAei5nMBNwtZ5/4gz05eFpA0SuSQmqruudseUa7zIJXt0+FY0Aws0+D1zGYyswy0r62HpdWIFgmybU/wA+MSYagcC1c3GaRZwlbk6eepMXWdFnlTTGZLZAHIHAA50myW8bY9ek6q4jWBJ5LxKzWASLQruF54xCjKGWJ9MZ7iqVkbVetVABFCjXNcnHaNeABDea53HUAdypkOamEeYR1jUFu6+ZSa6sVRpdyOABwcQL3ssWgdUYBvnorjJyKrpLKhdGZTEry6e5Z5K0AvI/7YpRDWjXFyg9xI8tlO7sglleCOLsyOYw6vIoBdi2pWcMwPkeDxhDUqiXNDYSsDDEkkhWmXmXsJJIxGalDmFhpCyGUKNIvejVcDn3w1KqTpIEuvnHslfp1WU/LksVWWBf1SydqN1Zh6bDE1diq4ratzxZr3xi/IJA1uynQ5lXGYn1xR94FnzAQ6QpJ1a200BQrTWx4w9KqXN1bHsoOYH7myOk4gSCYn8tl1YLDJYOpSm5IIY0wPHv7YJqPbBBsCIPusGyCDvlTY8zFGTcAiWLUx1SDU53q1AZaF888cYu575dLd1NtMHBlOk0mPKTKRlyokU6p79Lgbm15BF37be+FcXG7jEJ6cSQFLM0EcmpU2nRiigsxI9K7lfU9UTfj3wrnEiG75ShrnWJwrLL5ZXXLt29xG5LvOgcuqkgM1i1NGl+n0x1+FrAcRJFvbY/NIXD6hcd/wCJTJrB13o2aEmp8xlCkjAn+ltgTQ3POPB+NMcSC4yYX1H+POPmZyMrl0kbenQhI0sNjXgHav3x4N19OOaSULrYM3JIJIqx70OMCIQTJAAysm+1Fh979S/WuMGpdOlBZY1YAqr7jYC9wK329vtibQgUi0xUpZDNTEgErvRI8fbDpSYUuNRFSspSRTZjXdb/APsbom+d8L4jRaEQZSTThXiMcpj9l03pNUfVW5FYXFymQ42Mz9wKx9VCyB9BsSLsmsaJKVMMskh7QURAlXcbjhbvTfkc4q0w1BWOUyzAMzaSw0qsTGlGojYmqxzvqbBOpy5iDLq6xxBRGbDhvWr6rpTS1x/GFLZfKWDAuqOWYzyvK7kxzuTpBJoA+Cdzyf3x0CwQTJYY4/WZBGDp7QS7bUADvwfrgtqDZECVBdaZxqYhVIDbfMt8C6+2HBn3QUpbYC1ZQLBa97F2x+ovbCucIRNkNjHrcLMZNFLuAnnYHmz9sYQRCwkqRFI8mlr+gGrcr4seB7e+FHlTLy/LqDlo40oxBT8lXe1AHjGab3So6OEjdixotTDYsuvZSbG4998ITF9ysTF049smMFhIjbAqNgD/AFV7WLxg4myaPLKREaMqV9O5KFQTdGqv9vbCuGwQGFkXSc1n58/ksllZrXNypGlGj6iaBuvb3xxcQ1rWOdGFem1xX03/ABH/AMPXTPhv8O/grLdPzAX4vzZjfrDtARGS2VikMaOHbWQz8gc7bHHgM4lwbJFjuu3heGq1QXTb7rnM/hNPkw87dSVpNS3FNSksWDBrIsAab23G3O+KN4wPdAyqVPh5eLhUh+EOrZfunVvIVUhz6gm//wD143OLiscFcb+FdEKy6R8O5nI5jK5mdwxZGdQoLOpG2rkgcb2N/wDOVSp4mVWm0sN1lrdd7IDLD3MtI2gZZdJkfUSWIUDfcD9sQAccGF2NeB5SPQrZfw98KfDPxFDls9npvy+ZOhVZlBsA2S1cG9rPP1xx1armnSSvU4Ph2locTeV31+G/RsrJkMvJDm5ZY1TtmFSAbiFrp1EmwtNe2xx49em4OJBsvqRW004WYfEnwVkOpZFz0POt0TOlqfNtAkumNwQ40k+oH77e48pRe3VJv0Um1XTDliPTvwV+Gmhkbq3XerdUzkhKzPFMsEAZh6nEcaq1EAGrqwMUNQSXNbARNZ4VFmf8Lf4V56SXJ5v4s+MImkl7seXj6sVjhBatQDinFiwCDXisSHGAXDQeq5qj61QSCQEzJ/4UMp0GKefov4xfFGZyyLI8eQldNKOyOFKyMSVq9QF8YszjA9wlgI5LkfxFTQWlzrhZD1f/AA7/AAr8c9I6P0zqnVs98QZv4byceQ6XDmWjmQqEp3b0AFuDqB8HG4nj3t5eq5xwNOjpL5hfMD8dPwmz/wCD3xbmOjZ+LRlpB3YCWs9pt1OxIHO/t9MdlDiPGbK5tdNpGkyOfcLS6yzyhWhYFQS1j/pstW5F2b9zx9cEmCmaCM2A79FsLovUs3Lk9EKljMulmNgtqIJO5J4O98ecRiCmaTN+ffcLYPQp85lpCkULLJGCUGkhVPNki/N/3xCoA5XY4gTy+f8AK3N8NZiXNSZYv3A0g1K4209vzvYqtxYr3xwVgBvELsoTGkDbF+/r/HYvwFE7RZftLoAdFlOkkmls2dgN/pVckY8qtU5r0WSbCQbd99F1b0SQ5fIJZiuAMZTICpUrZXSQ263xwRtycc7AcnC87i2y+8959PrZcbf4hCkeeVoGSKLMKWfLhgrFVN2aoGwCdhf8bfsn/pzSaWPJNxEL8t/zxztdNq5feRXk0xtIvdjVRl3IZW3pl1aedidqx+sCm7Lbr84BiSjfmrVWhdo5VXVmAUNMo1AFAbDXvxyBthwA0hwMfupk3uLIc870RqWSNQwzDQgg0eRpoFrNn2ofwKzX6/PIMbfRUY4X2T8uNUyouZ1930yMKUSvEdbawKBI1GrJB29hhqIc6o0h2ry+9li4xZSTEzB45MxJoDAlpmBW2YlbYathZIIP3vADi8OJcRpz0Ws11hsmq3chOZLnuKdUJRgyMT6VYDVqbfYUb+lY0y3VJIFkn6TpG69BJCyxGR9RsSCE6o2YShVWOQAEfXSePG+Ha3VAJuCLLPBwcIzyyTLJoJVA6LYABWtLHUAQSCT4vbjDPbLjA8pMnppU7CyXT6/TRje5oyqqe4Jj3SKPy6jVD6bi8AS50gSb/XCci18IyPImVDxSIZZCV7iLrFLQZSPSW0k7bH74am86ZMCbfuhcOjAH5wvQ5eTMR5fMRFu3JIWLSLGtrIulw6LVMAQPTsOcAUCG+WxO6eqYJG6cwmWOaaNpi2ZLapTTL2xa9oA3tpNAfbfEDLGnTYmxP/ktqDoDrxjoUQZgGKOaWLTGQyLGjCJlcKE0sfTek/x+141NkUvEw3EdcfdYAydj90aSVopJYnLK257iQ6n+Un02QNKgNtwPvhny0AOJnmNjzQ0qKqxmVLPZhVC8OXfeNRpAo2DwSST++JwHEhs84Ow5fOT7qpkCydqdopUUMqNbl3YF2cAggswbckWffFPD00zps3PzSnnukXtsAykSqkQlthRaIUXLjcC63q+N9sPTZEEgYSOcWmCmwdyMZktm1ZXHcSZD3KN2C9nb02BtsMKKDwHODgQbgck1R9wIwlSRogyGR8vmCNM4Wv01tlR23o2o1D0/54RstAdqM8h+UxIcZhOcmNI2XLtLmWkA0vtWxXU2kjcFgbvewNqwpD6TtUTKX9djYIsz5YZzS8PqMatLCvzNtQ1gXbbmqH3rFH6A8tO4HzVDZk/VQ0kdPXCjSAV2jICqxg2dKmidrBN412TaYC1nWwdzzTAcs0GY7cq5fb9WV6I1agSSSOByd+OMIws0EBaHFwnYoaRyvAN4HpWdYwWBUoPIUENYX0jz/fGaHW5Xt/qnLWgy6fZIndOXSQSLHGKMKFtQlbTuoDEOKPpG1VQwtJpkSAA249TsFqhEwE+R5Yi0iuDHSMsDkEM5JItuQUvY0BtR98GpLS5wuNwi18gAm/NPGZzkxeKWEShtMyolJs5U6iS1D0k8Hzg6nkQW/JbWwYJ90pmAYzZOON7T9UFO0Yju0hIJ2HuRydxfGJADVMAj7FUNSRDrIMk0oimijkR0Yh2lh31B2I1BDuTRB9/pjFr4LWGd7JXOuHHIUcK0umIaUbURPmCuj0BvUWYldJNLq2NYzaDi4ebS45PNHxdDYTGzWpMzG0ayUrROygOhKk6lAamFgqOT9d9sZ4LpbklU1AQYgp7ZvLdyRpMu00YQxGTXTNIoO6qoIssBdeD5GA+gwAF1wLJ3VJFjclMXNQdpmKBoAuhY1nJBs6qrcavSbUggb1igY3wz/q2bRn3UX1HAmboL5n9TMdvMvl5gIezIpPpJ2Bu9hvxf98czmO1FzbEK4qjQJwnr1LSJJZ8yd7EDEaWBjtANv6i1kbcffEKbPCOqob7Kvj6m6QEM9Q0SfmO+JbUyymRgJi2nTbAjSSSb/wDBjO4RrnEtm9yrf8gsEckGbMzyt2i5GYhUiSCizi9WtGqtyu43/nCjhSTG4QHFAXKZm8wZpnmgRvy0Su1oCAxPpGmgKW6NX74Su8TNOA0b3QpPLWicqBmgzRr3WaWaSUlMqY9LFdjqU7gC+ffmhvg6KoIkptYceShzGPvEyTLIqOSNeoMQ5BASifSD/OCHOa4yktBhBJUZjRLrMrEibWpKGhd3uTX28jDlpcTpEHmlcQ1sr5u5jOO8rQJMGll/Rn0D0FaF2PBJ4rHlVXuGDnkvWbTtJ2WET5QRZhoSKDAUhOxP18g44Ksg3XqUqkgLJemzTZLLMI/0swF0w7gVp3oXWFY9c9dgcbrbPwv8bZo5NTmoVlfJ0ZAwDGSMA/NrDbKa5+njHVwvFVKbhpvC8zjeDYTA3WzumdZ6L1VZM1m9MSkOJIowCXZix2ZSbKf649fhuMY8k1MFeVU4apSjTBsraPpMkjWJnllemRZfSC0hOhCwIoDyT4w9KkwuMGRm6lUqEW2QpV09iGUTCRkfUrRllfuMbuuaNnYG/OFcWNIbNwT6XTgGJAlWcSZiQKZmMqZZUizDCtILA/LpvVYPO2+wxYte43dYbc1N9rjdFjlaGPMRqncWGECNdQHa07IqE3Z/q3vxiT3hrXNIMGPVI4aoiyl5eabvRgpJE06qmmRV3b0ndhsbOo7D23xQVYLRFo90zo022VlFnIFnniYuscciiHLAFm7ZBAaix9Jb7k8cYs2i1rXA4bEKYuBHJS4uoZh9azllGvVMQBpK3sz3sDxY98NTdbFkCyBbKkq0zu8U0bQoSTlRdrooVbVp+qn64Am4GJtOVMnTEe6lxO7GJlTVIN2VSNu4aJbYEgb8C/rioa93maJKUxN8JjyzLHasY0ddUyLq9LitJU1ZoncE+cB4cTyd+U7XtGMKyhz2bdXLTRw9xHIjYaVkUCiQzAUTYHO/iyMU4cOefOYUnwPoufv8QCLmeifD+dQsZctm5IUf5lIKX6jW5AACkHjHB8UqsqU56r3/AIA4jiXNmxErj12PqL6THJ45GrnceTtvWPltY2uvsmmwUeSQyBGAX0kk7aSWN7+dzxxgkLJzO0drqoqLO1miQPfjfCrJVjtBJpDq5ChfYmyBW1+LwCYCyLrENq5RlH/Mk3pyN6obge2FMnCPqgNNLojjaRihNyou3AIAuvN8YbSt6IkaJISGsTBjojPAPPHH98NEIL0siOirGqW5C8AengBTv5wAwZTCFLy0DujNIfmDKSACFazuEO5sDE3mcLZwroQxJ3Gm01FoLBaL6n2BbkVd15/jEXOMQMqmmAqHqM8UkzCCFQFpysI2ZgdVgEkbVvvirKZblTlJBAZBpb1EjUTp0j66j4rxhiUEDMuzsEV1ZC1ULIBY0BYo/TFWtEJmmFHRDdq9BXplAGk0dgb8j6CsE2H2SI08uhSplIG9lTdXZGrker+2FsmyoA3cVJrJIJHGljW/sdjggA4TGwUtEH9AMihSFhIsHyDtvR8YQpSjbhQdKkEh102QCNjd+2DZYCUoYmInSLeqogEAA6ib8b/ziYPzRUks4jUO60o8ixR3IP8A2w2pDKLCC8YcR6SyhA7/AP2PBI4rzieEWkA3Wwfw56TL1b4y6HkYoWzKz5yJhllBGvSQ9AKCSa3UY4fiD4ouEQXWXXw5X2l/HnOdNy+a+CelZTMLmBH0uQmVC4Yys0anSH+Q2vqG/HGPkhqYS07WX0fAu/7eLLkTr/VMohhJmiaZVkR9LEs0yEly7Ww02K+oxWkSRK1cwYCxnp2e6a00jyyoWKMTC9KxBDUurjUTVfTzh50WvdcsNcoea6p0nKREyZo9/QUzWpvoRpDCgwP3587Yem2S4lKS0GIWJ5jrGRgyzyDS0zxIutCCY2A9OmiPmHsP9cVdTLzdcznwQVXZX47mCflo3mysYqNsxur+n2IIpWABNb8bA4D+FcDsQVZlaTMrvv8AAL4yz8nTfzU2cEyRL+jCbcBEALPTUdQuvVyDvj5/4hTDTABX2vw93i0oct+fFX4mv0vp/fzDx5fI5YFnklbtKwX5iN6IN7ja/wBscVKiCQMH7+i6hSbTuVpOT/FJ8EZFnil+JslOUNNLC4KEn+lWOqztxVHf6DHcOCrAWaZ9lF9agDdyNl/8Vf4bDPpmM18UplIAgVleJ59YHCMF+VqsUCNjf2hU4PiHX0n6Is4nhQ0y4Qr34G/xLR/ib8Wt8MfBPSszm+/MsCdTzrNlYXldiDqBWQtSgsLHg846eE+DVHRPlJXk8d8Y4LhwLF3osC+If8TTfBnU+u9CznSc7kMz0rNyZeX4gypU5cu5otC1I5W2s0t+dOB/xX69NlnfGuFexpvfYrh38Q/xE6t+KPXzn+qdSfP9nQmXaWPTaLxelAT43POO4cI3hmwAvJqcQKxkCyxvLdO1MKRjLIoGgqL01tuaPHtjneYVWNMR3bvbbdZp0LpvZMMTElEdQkjGrpQbsXzyaxzuJKLQBlbi6BCdClXjc5iMdlT8w0Ab3psiif8ATES9dNMiBPfffJbK+GemTSZ0xyV65DJGrA2A1negQSa8fWtscdUk9e+/7XXRaSMbWXYP4araxw51ZCYF0yIAwDGgxBXlxdbG+b4Jx41aOa9Kja28bWXV/SkjhjDRp+ZZB6nYksppUIKhb8/bY/YTZi9u/VeRxRLje3c5n+ce/IX+Ino+YlzGUzCzKydoxq4VjolJfUpJ8qABQqzt4rH6x/6c8Z4b6jJFwe/dfAf5vwviBj47+q5Lm6d2Ynkdysko9chUMgKr5CE0x23ANXvj9fYf+2INyJX5d4fnjZAXKyQ5SKMASzsrVNpKoQCT+m6kFthYJw7qzdGkXJGdlvDJJRjltSGdLEYkVoi4BkdgD6gWu1Kk2eSMOwmPKSOU/wCx5Kbqek2Q3gziXrkVlg0yZVKJW6YhQBpJPPPF174xqljS9xuCB+49QjFo5oEWsHMyFSIdJEqfK+sbhdqGxocfMMWApwTs7PXkke1zY5o5jZNYcxJ22d4+4FDWwpRtYtqagOKwAWAaQAN/ki92v2THzeYGmeFQxntnBYq6jUAyUK49PnjEXV3gAsaTJ+yLaYMibo4lkj7C+halD5dJRTenwKG1BSSSdsUJLIBfpLiSBn7IE+YkjCJHFOurXHol0B9d9ouwalLlt7Z229thigZpd5zeEuoERlGYssoni7giiXQsq7gaqGt0Brc2OPGHDAHag2RHyJyUAbde4Q4fy+YEARQ+XgKCYuQ6duUtqZz6dwAePfEn02kyADp5dUznlvukdpGZYwr5SVOYJSBTFjTMB7ruNvYYVwxAiZ9EWw0Gb+ilPm41zCTyq3YSQh5RsjFjXrFf0mmGn3GFLpfMERB6Gd0QJEAyUWF3ibuCVhHIdaFRqqNPSwck/wDSf5OKNdUpPOlxOrP7e60g7Y5qVHLlyoc00sQcvl1OptBDamAs7MAPOxwragBltnD/AE2jePVYsvAACNJA0gVMuBJCG1vrOyKxtR4IJutxv98JUYXSGN1TB9ByKVkAy5RZcs8nayqwSQvbmNY7ZSgAXfYcVvVCv2xElxcWgR9oXTTY0+aZRky3bjYLmQJBoacItwgUSNRpd14v+ecVY7WJDYIH/wDjc/PZB1MSScJ0uSD9mKNY2hEQ7Yc/pkyi2Bsf/UGhtz9casWgteBJifSeaNKkWixISDIzxJLBAphlzB1aqNsgOg6LN8fXfx9Il5pB2kXJvyvyRazVeZPXKdL0+PLqsiTu88SFoZfUAW0m0Cj38i/GKVnU2aWk+YiJWbSc6QRZQ3g05iKNgfVEyzswcIbLOV0kEkUCNuLrAbWZIa45EIikSJ5QvHKhEZpnEQiAi7d6A0apYvYrsDYB323xmFjm3MNFvVKGOab3MoUuWlRUXJpIhhZBIrcx6Wrbfckjkbi+OcE1mMEUzITNYS7S7Jwo0uVZXWVctE0TTpDmdR9QQ2JArKDTgjYmh7sMNRgGdIuVOHRkykWGNVaaTWmpVE8SjyxbSwJsqBV3W4+mKkNbe4JMKZFQ4UWSPMwBdQjlVprkhFlwq8ycGgpqt8IS9jh5pT6Q+2IQu5LOJGmSLuDW8pNqjIdJZHCm09P3F70d8YvLySbQkLYQpMxJLGZosu0UJQlGG7WgpXA5si9wPP7giqHNJFhEBOPKIcbppzErlI4I1XRIhaV/1S44sLsed99v3s4zW1CANMjBPrZCdJM4VY8xh/OgxiNI5EIn0h29GyA8BdV77XiRotpFzGizT7k/sme7yhFeaMTQq8IWYsRJTbaXAIvSK2sY6BoaJHvOP7SNdBmfZRUnVWUdkRSFhJmI0GlZUU7m/f2xB76ZMAWO5WEkE8lGAjk0S622UvLACdQDklLLH1atiSDX24wWsa4B143TSQNPJLmczHGkjSuszQlpYo4EeWVHcX6EUW5JFbf5YbiDSa/S6Dyympv1BAWdnIWFJCYiHaOMDdgCxF+KBNk+cL4ZvAAssakWlDbO6SskjEu1skIYmid2vTvzvudhhIJdJsEdVvLdPjzUuXy5Vpi5lULoiLupQ6aoMDv/ANVffC0qMMLnSSTICfxS5yIudjkh0NJoRomdUVyxsA6dQJtTpNV74RzKYZBObj1TCqQJCgyZ+KVWVCQFVTE8i6S10A3zBhQ5J/yxBjRabqoqGJKbPmO29pCsSMQwQMrdy1ptgCK3sD6XeHcPDeI90PE1gtK+dHQIWkd37ndEobV+mdYFEFYxdGwTtj52kC90SvoOJfpEDZUTosvW5GLGVTJ6XZSrNRAGofbHPXkEkrvpfoCy3o2WGe6lGr5dgIwXlopo0KTV3VDcD64HDsD3gc5XLxdQsZIWX/8A4zGkydiWOKPMFjMfAWvGk+fF/wCuPWfQDQCF5jeMkQdlmfTunLlcpEwrWsaqzmz6nFtYar5A28/fDM4caZGQuV1UF03g5WTwzZzKMuYy+dBEiNo0sb17MPRvdDYD3vFqlAsYHDfHr16Ln8RrrEbrJcr8Q5aJEyfV4VRJBrVyrkR6gEsAajX0O1c4B4w03aagm0e6A4UPOptis16JN8NzJDDLOrzSJ22IrUWJ2O2wDXYNXR5vHBU4sMcASujwXOwFF6h0kxSFsqwzETHs5ZAR+oGIXSfUQFXeybx7NAtcAZm5XDUkEgqoTuRyyERS9pZ2d5SSFBUBQEZ9hRJWwKF4o03IIUwZEhESnK6yUhjUqALt7rhENj2s41My86nDH2TNIDYFlJnY9qRZE7lkWoIXSSKLXyx4PO2KO/7TL5diPygGwnxxyTNIkjSSFShgkjZyCWIKgqF5vbmtvOItDnTyCxAGAFZ5SZgsk4DQOjob+XuUPWAWJJN3zVf3w7HeUkbKT2X5oi0rsodY2d9CzAWCGO+pQCb+o25GL+EQZcVtA2wpTs0i6mmWaRkYgqwBZHAYCvF/2wGkizr9d0pnYLWH4wdHl6t8EdReARvFkjHmgZSzSkHYim4G9jjEeMpOdSLWRZd/wus2jxALt7LhGWH1uo3o6QL01XseR9sfJaYzdfoLcBBI0jUatf8Alu5B4NbfUb3jAQimkqjaWJVp/wCkijsSARzdG8KW3gLQpjCSNY2nrVIvzKNj7UNrJ03ZxIvGESFFay5B1aK9QJsC+SbBAIHjFQQMJU+NQQpdRbMtWuwUcDn2BwJkrIckgdtgw1Ua+e1G9GtrGMTIWSAaW7bBgSNiVoDmrxhATAwrXJyiCOVGtmLesCgAdjd/9QB8YmQiTIU+fPsMvoBRiQeVBYUABQHG5N7YVlMa9RQm0Kry0HdaQgyGMm7NAl/IokVtviuuEUfNTrlsogVwcwygU25CrZG59Pv/AN8Rb5zKBhUrsPm1Au1nckizyf5J/fxjoASqTB2oUkaRS2kUliy1g7EA7A/exjE7LKukciRiw1DcqnB52Br/ACwdARhFHpYqyimcmkO5F0NxvWDAGFoUhTpSQ1zuX5G3t5FXhCIQRAZZDTKERuIwtKSRyP23u9sFrSU7sJg3WI9sAk6Re9EnCW2QOE8O6sSTbabIUXW5sce/H0wdIJsjFpUxHZtWolo/PNE1oABAP7nCELRdbx/AnqEvSPxC6F1oZc59OlTxZjMRbkBENEWOCL3o48j4zT1UWguN3bLrp2BK+hP4wfFeXz/UfhHqChkgly+aLQHU0ELiatKSUL5o2duBe2PnnU3B0vyTK9zh6ksABWjPiboz5iczROWaP9R0JOumCgAbb8jTZ2sYo1zWIVmuJlYTnelS5IDMRo7LYVwASAqgEE6gdiw8e2H1B+MLkc4sUfMdQy08UOXzESxyBnUPpBjBugNJLHUK3JwzWlsgLa+eVWMkbZR0TLM7Tt6QoBAjvULO5OorW/HPjBEteTqB6JI1LG0boSTxQZ3JzRLHKPzA1Ww1kb6j522xUioR5TIT0GtdY7L6Xf4dU+DZeiZNcvEqZqR9cscqDwKj0sH53vigfpj5niw9hc6ZsvuuCjwhpXT8mf6JFlZspMcpmspI4Rxm0R9Wx1N61Itr2FcfvjhptfrkH06Lpe1xF1RQ/h/+Dea6oc3P8CfDmczDsCZJMpGSZRvT6AAN/p/OLu4hzSTJsuV9BxasiH4c/g51/pi9O6t+GfQ8zkcrNVjKRxSBqrUrLTKCNjX02OOU8RVY4ODjdc9ThXD9JQvh78Jfwj/DnPQdW+A+hD4ezUUsjNcrSjW0faElSlia1kUAOb5x28N8Qr6jBsvNf8Op8Sf+63HKR9lp78Yvwk/AjP8AQetdR65kumZHq8GXbNQ5iIyDMSZpwQrSPrINhaCm/wC2L8NxTw4FwJldNThB4AAp2HovkzlMlBH1KaPLgywRyt2CLBCA0pGx9t8elxFYm68OkzT32Pc/RZ9kYw0mqUITDRffk2AL553/AL44C4k+vffsvRFHSLrNshlgQoifuGRqYcXq1CiOOB98cz72hVDCTO3eO+i2L0JY481FG0ZHbYK4IJAUEXe1D/T/AD56jsyVdhkh31+23fot7nouShzPTc/lc7Irzxr6DwK//iN71f0323xxueXAg4XaKYBgERHUQc9/WJXSv4fdNeAQ5tswrlhGJnOlbKqQBpq9iar25o7486t+rBXfSa4Mn2x6/X5fOy6s6LCjdOf1iPWEMbmirv6mt7UkgL6iL/6r98I14lfM8W4tqDeJ9hbF8zb5ei0X+NvQMuvRZ81CIG7ZD9xo0AXuh2KKx3O42H+YrH0P+OcW/h+KbexPdl5fxmkOJ4Q6sjvvuOII2XKmOJiolj1alQApoJDEaSAbIIDbk+ONsf0XwznaGkQ7M9Af2X45WEVCNk6oC00ZBPp0rmW0soCsRutAm1IptW2174FEhr3MjkeiR7JEhQpHhlkzCZWGOFU1CIKKAkICHSSSWuidxXvti2svJa3LRIPXmp+GGgSmaISEOgwJ3CvcLaBuAzka6OpTtZ5vDtLwwubOoEE483MpPDmTzTWiQxyZuUa4lZZJRHotmkJ0DSmzE73vtz9s51TVrItcn7j+U7KYdZAeCKUHvZk5h5ARMVTRHGNQsLYvaiL3Pk8nCtc10GfMcjYDokdTM2bEJVyAgEebRJjlnAaFJG3AlBSyLoMDQJP7c4o4CmQ+5Ex81Lwi83seiPLBG8cqQza4pSyRAIRs4IYNa2RZ9JUjBNTywx0Eki+TPPl0hFgIMpFJhijj7K5hdSxUT6NaKdCnckknavfFGk04YbxI+SmKHmO26jyJrCxqKMcojDTrcjlCO8qsPcG/UeP4wzKlQmB+kkT6KZ08rJqZdJJnlV3jEI0QuEBjpQW7TIb9QJLXxeJ03CoXBvlAn3GysALWlKBlyMuA4mkoEZdbLFLFq1rsASTv+3GC2sHaRJJGwvnn/wCPqVPQSZQXirMr38yrwxo8IjCMpcNtzpq1bZTRJ3++JgnVDnRE2z7eyeCG2buoxUQF2SWR5cvKqzsW8MKYGxuApJFnfx9C9hZ+l0xb/wCx/AH1RF5lFef/AIc5y+VV2zSRgAkFwysRyTd6bvbGcfCbYS//AMt0jS2obmE1syihTGsgLBiMyx12VBpowaX0E1v+2Cyi4wW5iD1Smo6wmwQn6qYxGhRjpZ45CgsaFU62kB3Jokne6s4o8ljIfbayAfqmFOy3Vh3t2/Ry4EUaaFIZSDQUHa99/wB98SD3DzEQ0WtnvmmDiGgm/MKTleqB2ZZz+sxVo6KbKCdL1t4NA7VhWtkXwTbmurxBgIrdX7qyxsyTZGQsYXjNU40/1VtY2Ff98MGO0uOxKQvGqd0JurDOsYLhd27cYicEDSAdasAbsb6Tf/abg+rZv+v3XQ2qGGSbFTD1mTuRJAY2gCtqYkO4YgIG1V8wC0Sf2vArAtgRPPp19EabhJJNlJy+bWKOSGQhoUcd3NgAAR3whBYHV5Js7eN8c9E1G042cfp/5N6HqquewuynucskCBJCi3USgaBQ9QOrm2C2NuPF3hX1AxwbcqlMBx1WkJk0cIkQ5c9qPaaGInW8Qs1Zba7Fjz5rFgSYAJgGQokNCBHk4JHyyoW7qRyEs5/TkfVYKEVyNtv9iWdTJsSZJn+kHOAnkEiwQzvNGsQKxJpZnc0dYIJ1EbVWw98EPgEHZTLGyL5SRwwzEzNIqayI1r+jbSpA8b8MRucajU8QEj0/lM6nCr/+DgxsSFYRK/em1UxV6TUqo1bgHn34wWNgQLhGpRBvCGelwuIkEBzSzLqaWViisQVIKltJNbEgk8e+2OqjVBaBTuOai/hzEqtj6Zmi6SOWlIsM7E6QbFEINJ8E7e3nEaLyXlzkatCQAEB+nSnLrpligjZ2X1HTQNbsa9QUKQdjeBVqvFgYBKVvC6XTvChjpyxRLFKEnjgIaExsyhe3R1Fq2JA3/wA98MKjC0zeEoZDt7qvmyT5eJnaAxQyl5SpeyBynJo87eN/4k2o6kJBsfoqaZIG6jTQOJQw1I6RqwC3H2rNsPP9OwN3eDWrkukX3QFMhqg5jK5pO0scYDQj9FyxTgi6u/JB++GrVnlom1rdUjaYKjtCgGmTUIoHLtC4TY0AoIXcXR2wXw/cwl0nYQob915Gd0UgEyZWiRGmw1MVu9+ADhGVnNfIOEfCsFFcRpFGJX1s7x6mSL9QO2+htW500SMF9QtZoN+qLAT5htsg9ubLzyyiRXiDaI52YsrMTTOu4r2+vOBU10zaHAWk/wAKhId0KGzPZHap3WNzJG1sWog6KN7gc8fvjEgCHDKUeWy4G6fnxlhHAqHt9qo1DFHG1tpIKg70MfK0XaXWX0damXeZU0CGTqU8quEldizWx1gnwpG1/X++IVmukldwqHQLLP8A4XyccZlzOYl5vWuqiQ5vaua5G+KcEWmrBOy4ONc7QLLPMvmIpRESZJVyyi8ugFLV3ufGrmt8euX08C5Hcryi05V3l8wiPFNGizmMakloEepf6QTuTwfHnEqTvMP9gN0sHHNXcWYLK0ELhQqLJFlzW9tte9KBVfTHWXWufTr0SGAZ9lYI0M0QgZwwruNGikepbOkGidjVkcnjCvGpsAjVEkcuiUNcHTN1jkPSs+jQTwVGyWBKHUGy3ytZ9qon3x8rxgcHgxuvoOHANM3lZ503q/UMt3DJIc7LIlyo2oAFwA4IAPg/6+MfRUWupU9TV4tUhx5Ssly/X+n51RBmcvFKZVCQhV3jdtwRqN7gcmzX9uqnxj3RqaCNxuOvuuR3DAXBuFkceR6fnIgcpmxPmYmMVKSdaKfTRNbir1HffHW2uyow6B5wbA8uq5nhzXTGVDn6L1HKrK/cWX1ao00gtoIKllBAAO3B3+t4JbUbckX2WZWDjCr4VcophkrSxMsVqRGB6aez9zxiWmQXNwDhO8DDgpLo0yI6ShS6XI96qAagykKQAaAv7+cM9od8kANHuiEPSekRhY/S+qpBGCNXrr00x2+lXhg7VM4ACzAA03vKnqkRljWXLLJEyjUI9CrHoA1Ob9QYX9fti1TywXmxwiASDGd0/M5fpmcyf5KUKGz0Mi56VlJ7rldNBd2Isgm/OwwjqrXlowCPmkE0yHnZfOb4z6RN8OfE3WOjtEo/JznRIB8wYawdPO4O4P7+cfLcS3TUcNpX6FwFXxKIcsOZdrjbgkVe2x++wFe2ILsTe6SrMCeQ2qt+KrbxvhH3ASqRLmRKqRoaAUaCTuxA3BC+N8K2dgmQy8aFSVDADWyXvagfc7/XGc4zdKoVuWAGpdYDMBwRvdi683ijWmJTwjtepiVpgaFjbSSGOwPNftjagEiVFCa2YEhebG5YjYMfre2EjfZZPDUun1amW3D7kDxx59hhgJklZSoFYvGp3LUdRHyb73R4OInCKsc32UhDJD6EB3cjWWqjpA8DxhaIlxCJtYqilclnLF9xWuhuBW1cfffHRYWCVOWGMqqtsqKWK3yf8jgNWUZw7lXZSrpShgT6aYcAbcYdokrJgT1uVbegxHC3zW52vC6jtcLIvzMBswsAkrpFiqAC7cb42qFkeN0i7l7qoINEFg13XOxIP3wJlZFuNTo09uV+Y02snfeyfHvgQshnVEoI/TUsAHI33X++xwdSyegZVZkalsE/Ukc87GvOFLoFkwKkooAVmFayujkvQ5YD7c4Qkpw0ldqf4N/hnovxN8XfFmX65AJMhkfh7NZmCCMaTJOpAjCgso1Akn7fvjwfi1QtqMG5XfQph7IJhbz/AB/6h0r4d/8Aw7Jfk5IkhkzcUzSVcjKY2cKDaUGb3G3sbxwFpe4y2F10NDKekXWv8p1bI9b6fGmUzKvDE4V4RZMq2WY2wIoFQAGI/teOSoSw3FiuoGQtX9U68I4kyskzKM0X0SKdaOUuj6buyQd+SMdVPh3CDNlzVCHeyxHPZ151jnjGlwfnUghlJ5vmyf6a5x1NZK5Tcq7+Gfin8lMI80O3IFaTLQyD0ttQWmJoi8LxFAkBwyuilVJypuaz3TesdUyOWz6pFEZo4RPCQGGuvWAuxCDyeMSa11NhI+StTY1z4FpX0s/CX8LOoZPp0adM60sWU6pl1K5iMl40RhpADKPSKJv7bbY+X4qvqmbAr7LhqLKVO5uFqz/EL/8Azm/DQ9PbpPRMt1/oedJ7fWunCTMRwbdtFmPp7eoWQzE/2x3fD6VGoSHOgjHVcvG8Y9gGgSueE/HL8WPhNiOsdLz0XcRTmGcowIocN6iPpRx1HgaVQgtcvJHx6pTs5so0f+MT4hiy7QZXpsiyskkTtI7svq2BIO3thW/BKfiapTf/AMmeWkafdRsr/im6rmPhrqmR6nlusZn4r7h/4JnMtmETJxBgx1SoUZ3Iatgdx59vSbwXD0yvLf8AGeLdU1AwFr3qH4k/iN8aJp611CfM5dyFMYDC6taoXuLxCvSpNu1WZx1eqIcbK56N8OwyxKTIBI4p01Ak0w+WzYAryDjy31JJhehRpQFlLdGbKsyRSI8ex0hdVURsfSKBu6xzgki6tUm0Du3NZf0WCSEhhZQC6cHSCWXejVURfJ+3jE3C8HqhBsOeMLYOThjzLKZIlhC6a2+bRsLC8mhe/t+2OZ4ByV1NGqx+XftGeoW+eiwL+XR1eKRok1gBGNHcKpoAUb8n6eccThMC67gAQXA9z3nrlb++C+o5iFooyx09taVtMaVTfKbC+DY429htwV5i3Pvv55XYDLLjP0W/vh7Ml2ilADTT+iAMSwIqjsRd3dAAMbqtjcQvK41ljsBnvsWvG2Mfi+cwvwX1Vg0p7bI0Z0o6tQUkBtJOo6mI1AHn3F93ACK7T17/AAvJrAOpOFsfxj9uS+aD9bjzQzM+WVp8rPcGaCt64njJUpySCxq+Bj+lvgtT/kcKH6Znyn7L8P8AibPCrlhyL+qbFnJDBNU6zawqOyq3pCGlWqXYFb2/fHrUabfDcAdVxfl0XC+oCcJqdRmlkfWywM8bCSJgxIYEldKKdwvtX+QoU6WolkWggnkTj8pHVQEiZyNJok7k8j6QUkEivI+gBr0kD0ADcnejeCaTiQ18lzQBIRD5GyLl8/NIVRA0MUrKIGDWnJ7fzAhV2JNb7n3xCnSIa4EOBJtyJGJTvqAdVJXOZhg+YcxS99CDBHuGZCUJk3FKnkAnHV56n/ccAQ4RA5jdTBaOcHco4lOhIcxJA2uXXEdTAlmJ7jE+2kEAf9sc73nSGvIMGwG3qumm6/JWiS6fyuoAtKUDyA7ek2xdxzRr1E4s57pgN/UlZeUSVIg8fdkEk0UgllsAqlMAUbYmzqvnj6YxBZUEmYPyUywG4yo8qZ1QpOYkXuGlmQBo1VQWUpdg2NjfP9sSbVqnBjUSFQ02gkRaAnPlQ7ywvIO3l6ieK2CEAlX12DzYNXXjF6dRtR8PFmiPU7qbaUCVEbLR9oCGYJKrKUeQg+hQwBZl06QAA1XYG2EFYNPktyju/unZQJknCG2WzEja0zS3GVBzBNIXumMdUAo/9b4zqxBx/wDbqpeG0C5hRzCxhMMRnzGXg/58r0wMb6SzfMSCDwT42+4FVjWaQJj8/wApnMiCU3MZXqLRvEdeXmEkcuXjdAQ2nbSHA3pWBO2+KCs8MuYK5zTZkCQoClxPPIuXWPMLpBYG9NUdZUlh/wD6g7k1hafFMFyLp3cKSAAbIU2ReKOCZotKuUWSQlj+kbolj7mr2H9sF1QBrXutJ+aUU5xso8uQmikUaSBEwmdN91cUrA0SQa/b+2NLmmdkTTLm4hPkyzoIWHckhNMisPUgewAdIBu6FcYYuYx0jzNG6QNcTAEHmo8jLGs3anuJEFQ2X0sQW22r5gBfO222A+o2YmxuAmDHepRUEmXRBIsi65bjlO7bj06jVgV5rf6YNMkNIGX2Hsli8NXi0+Wca1cwxxqArEOgC+sbclm8/wCWM15DtJDk4PlRTm86qQCFT2u6kjyonoLRgXQoC2ABO1HesZ8Ef7QSg12SUSTqUocaBJGNaywEgsq6zsXDEkaWbYf2xzinNQhuOqv4sBF/OZu2CobaWR+1EKExPzkMdQINA+/Pvs5pFrsSBnqiKkhMm6gwXKpBK/cSPWpQqzUx4GoHZa9sZ7G1AweYFt/Y2hFtUmxFk5s5JmJWy5VPWy9tEFuKIsgek+L++/0xM0Huc5pI0yI5+6zarWjVClx9Sijjbs5gz/l4wzSorapA27LvYPNCh/2Y0xJDTi38Jm15NxCHHnJgiHvrNpYEHQFWwGprGoVvV3WJtpn/AEVjxLcIx6u0bQPJP3kMKSK26gq7VwFJAUUSR7m/TtjndqpkH/7H/wCPJVBY4YUk9QBbtppZZxoQG2Vd70fQKeSfPnF3EugRZ929E4AmZwiyvEylIZUED6Vhi2JQ0bfUwvcGq3FDHNXOkQ4xFldhgSMHdBTMgyduJkdTSBAobWQNRvkE7DzWJMqVAIBEJg0QSvTRxLlcwMlcrO4i7gUlCKJZd7UliRwPOOmXBri25JypFjS8FwyMKqOXgnljleSaIbO0ZUatRawrNRY2tH9sI97KgILot9UG0Q0REyoyRIYEdkAkjEgjjTc0xsyI1HyDthP+QPKI8zcLHhgx0hRZsiJIMsqz65oyBNEqjYruaYgXZJvaq2vjCvqva1omJNwqNoNOyA/TIcxqh7arqhbuGBAwcsdY08kChZH+l46mvp1DpbI8skf7H0XM+kW42Vb+VErflxoiQkHUwaOUKlMB6dW5A3PteIt48P0tkfn3WHCW1AZUKfIMkrvEXZA3cnibZUKkMDRNUaIJq798B/E6ZFyJus7hdWRdQ5elzCNTDlpIkc9yNUu+2TdAqW3F7+cUrPIaHgW2UvAAME3Xziy3aAEsLHMyEjss6lQAgDXVWTqrHjUy0iBJPVe4fVY9WYWXNOvqb/8AWIGzAtVXd7446wJJ3XoNc2BC2j8MTTHLiHNQRfMGima63tWJAF+b4wOEYC9edxjQVnEeWWYwpBNp1FjCWYIxXdS41LwQdhePVpuDnaQV47gQFOXL2JpViTvRqVy4dnZCoss+lQDxX0x1VqbS2RBUg9zRHzUvLyumXmSZ1BYsluFb0tVgFqr7+fGJNqANuE+kOdIVzBI7xs8OqOAqE0BtSil4OutTCzX/AGGHY/UROIUnWKyLpeiJcwkkEcqKhYxx6g83LHQ7XTEWCaNV+2Pm+L00+Ig+3rsvbouJoyPmiRyygoupkCSM8cieoIdIJB33vYbe3tj6OhqY0AevucheJWYCSUeGFySk6kys4YmNQGZBbab0hwoBBFA8+2LsAEtfHORn0U9YmQIU3IRz5ZQ0Ep0D9RXN+rReppKOq134/wC2JUuGYZNOT1RNef1LKsj8R9ayEY78f5lZCFhi0CN2Bb1NbHVuWog8ckYA8WndpsEC2nVItCyHL9X+H+pxKksMuXzD6YyoUKLUknUFFEUSQSN/Axanx1MsOsHV0SGi4YII6qYPhyOSFZOlZmOZy+mPLkUJBf8A+nYGwHJurx10CyoNYPS6iakGHj5YVl078P8AOZ5JJ4WKvk2ZlysKgs5Radipvcmrva/rRxw6mCqQLQuhrCWSB6LFup9NzHRsxJ0+aMRtHIH7xYnuIlH5SPl33AHP847ywFukXKiSZ1G0IaRNNo7vbYAa0gRGRkFeoa14pzVVx/egouOYIUhV0iRbmuLfx2/LH4w7cCoGiy8QzM0eli0oYkil5rgg19sfOfEqTQ6BHsvsPgb3Gi6dzZaMay9M4XQTd7LZ4s482QDC+jJkpukeVpAwMxW6obbXt42w5IlTSL6dlUWxBjJB2o7EgfxiZysCSkuiA6MgK26G7JN7HjGLJCy8q3oAGnf5RZO1nx+3OABCyRFRXGpQwY1e/tvsK8jACIMXRRwbYGvlJtwKB2FD281guvhGN0wPGNKFfVvQoj1bmrFk8YACVW2TFENpAaLSOyCbJBGmibvffCvcVlDzcjyuVkkZ5BvoJYrXJ+vJ3FYdthO5RyoKkdtWc6DexFkAKPm8jc4zUE29XqKgJfpGqiLIrnixW+GIWQ2V0JjFljfpF1XH/c7YI5c0UYoXBH9JAGrwRsPcf34xtRQRHHMpHqLHTXB8D+NvHGDIWTku1dOCWSNq9ru8KTZZeYKR6qZpiNamwdga58/54nMZusnOzl2W9RLAamABGnkgHyfP84aNtiimtQFohvzqYUCvO+o2Dtz+2NE3RCkrIGkelGn/AKj8ovg7+ScZAicLsD8HMhlul/g58a/Gv52HJdUHxBkek5JVcxztGYnllIAUlgdlJ/a8fK/ED4nFBnJs+/Jdrn+GwEbpv43fFGZ6j8I/CWemKTTx53NpJmmsyeuOIaQ58Wuqj9cV4FupxCRnESuYcv8AFPUssqnKTyZcsSXXUTqJO5bf2Pg49M8HTddyY8Y42UrL/FObTRLPM8jx+qOMkgBgbC/b7Vjf8cRCU8QXZKyvpvxTkoIW76iYndrsGyLA8jzW4PvtjjqcO8kXTis2FWZ74kRMxDLkVswlgJW/6dIGwoAXZ8cfzi7aRIglYcQNRTYfibtSQ5h1WRoWpA4sbLZ9uSd6xnUfKQq0+KAddd7fhl/i0y/wrlcj08zrHGIkXMhpGCn06SKrgA7C+d+cfKcV8Iqlxc1fVcN8bo6WteZhdYfCn+Jz4b+JQIRno20dpJctIymMtNQBjXmwW3vHnu+HVmXNl6TOOocQbGCtsZXrf4b/AIjZAdL6v8P5DP5KWMQ5XPZaOIa1Xb0sCVQAbAHnbffHIalWmWtaIgGUlXgRUGoGQqP/APkB+AWYzGcMvw3lstJoacEtSqXI2BP/AEk0dvGGp8XWm7lzP+GgNENGVw7+NX4Z/AHQviCGD4OaH9SRhNHCGZUOqgCWUDbHq/8AMD5O64+I4JtMibLXMvw5/wALy8U2srcf/MQAC2PPHsff64R9abKYpgRfvuyd0vPTNpZgkpi9OgAKwoFmHG48/wB8c7oXZS3jvqsrOaGdeFYYrShr0igxBAujwCOfHthAE7n6jHT7+32+a2z0LoEkkcc8cYLSldFAN6jRo1Rv/wA+uI1Bz7775KtMOiRuY75d81dp8A9Xhka5mjW1JOkUW3OkAEirH1xyucThWpsO0Tssw6Bkeu9Ozoy7SSmWTSrHS16FJqmIA33JN8fWsQPPPd/wr0yWmDmwjG/pawXSnSup5mKKGFlIme0SVmQs77cA1YBo1e3k6dsedWHReg1wZbf6+vp79Ct4fBvUmiSOQRiE1+nIxslZVOkK4Xb01dDa6qsc4u7r33/K8/jKQqMj+s/I3lF/EzrPT8t8G9ZjzncVczlX7ccA1le2GKNLuVABo/LyTX9QHocIf+63oe4XjPplrSTyN/Xlv9cAdCvz+5D8UH+H/wASOtZHPN3ujdUzkqzU7KYybUSWAwo8EkUP74/d/gvGngwDsRBX5d8c4EV7tyLro7p8sM5y0qP+Zado+0BSxSBjqYRuCGquPBrwRj7Hh3+M3WySF8bUGkkThWeVEomtIj+nQSYqC3doMNAWwLAra9x4x0CWuJ+ajkAJbMk04bRL/wDqsq6VKHbY2GXTRI+l84QV9UnYJhTAA6pZFgRVdC0EiRlo51ZvRqohz6iDRBoEb7H64JDXtnFpnpzR86kZYTBnUMHZZSIrZmOokW+kABjZ3H9sNSoavLM9U5qNsDZTMvm2kIidgjmMwzwTkvqCkadLMbTeuNwPfCtcazv0w4WvybgpAWNnMcwpKdSlibVDpd5FlCwxMB6bCA6QPSugkbjjYYmBUiwuNhyFh8wiNJMmSpH59oFnjLrNISFn7ataFSD8r7G7rn38Yd7WgOJ8xMWTE6vKbBDfqrurzlGQ5lgGSKMhUQAaX8b1xp8ex3xFzmlz3NtqdcDAAFirB8WcbKfls8V7Oh2LkEv6aUijSlroALXgk/er6m0AACMKFStIP0UU9UgZu4il0/TVESkYsjUAbOwsX5/nHKxkvJVPEIbcqdH1OMIuUlL5d43vLOaLKjESXaiuCpPijXO+KQ61M2dJ83LksXtcQ4Xsll6jAAYlzAdZi4cvsHcsWqgwDXt5NYm9raRADiZz1Koyq1/+sEJBmIUj7uZLxv2gioQeWILgjYbcg41emWeVwg7JwQ+2RujSvGriB/VG9rpFaWBAAUFVJDcA3d37745ySI8QGDixT6mHooxgy0mqIkokA1apSq6YgpBFix6fUNh9KwzyXPDdsQgNLAbZUztuh/Ld8SSEHtxxkoql7PrLV/SQb3GOtviAgCDGJ2XOWMIJwFCzmTgkMbqyrIFJlyoBk1MAQGLaQLpaO9+1cnkq+IXfqvy29l0Uw2MKMMvoJUpFmGNFpFZ4wiqbYBiaIvejd4IfAANzz6IOptIlJLl2juNIoSNClURtfo1GgwC2BRBr2Pg4seILMXUvAgpDl/y8KGRfUArZItTCSgTVLvQs/WtvbC+P4TYi+W9Sc/RMaGo+uV4QpbyKiyMmjuQKCx16SWCqLB80fqcL/wAku8o5rO4cNscJ+Y6dmFDyTNIRrCwtWhKpWAKi25s7Vxt5xvM0vc4yAZ+aQNYbNsFCnSIoJBIdAkcxgfIjBdWzWC3y7+9jFqlUVAC62wWFAA3Ve+XkRkkyxZTEUbNylo3Z7GlwgVVoAUNvp98EOLCHszz/APKUga0DzY2HJALrGT3EuXS0mYc7Gi1uAu9bce14rDSS02KR4NowmRJEMwNSKf07SEEhiGBQEbm1Xlt8IG63aeW3Tms53lCHLmTEIpI5ZGVj2lZTTKEpQyg8+AfqfO2Kk6AC3e3sN0QDJQDnTDA06gQxySjVERYUShVJcm29Vmq8HEoJB2v9E4fHlN4GUOPqE+sd1ew6oRACLLCwQKA+5Or77YDWGo7zmA2w6wlNQtsPdTR1caDJqZXVXSZWYFRuNtjQ4sEH9sQ0ahrIh0X6Ko4ggRtzRW6uYNQDLlTmAio5Y7IRZYlr1XdG/G+MeHkanZKtS4susdk3/iwZX7mZKywRxFYgbDoVAVdN1Yoj/wBDERRdTGkmCFccS3khr1Yhu4kXZR+0FFqqiQ/LW9kb1V7HGbRIGtogHHrzQPE6twTz6ckyXqzxRuz5m5F/UBAEaK7cXuKAGx23wlVgawguMkTb7Jy9szCOnUs0BFMkulNJYlajjMilrurNm+K33xPwHul0uwqNrtmSEWbqUpKSZgRRaVTurE6vopWDaQd+CDXj74V7HEh1SBG4z7Jw+mREmU0ZuPvd3NCOeE6fykkYXUriq+YGhdXWxxFwc2o4ujTsd04cIskGbjl/MxtFKz7HTsR6gBq1AUPUdWHY6x1TJxHJPAmQgCLLxEiI/wDP0gSx2EU3bLdi6rz9ccrHOYdLT781UaX3cLhfNV8qy5GWTWNPaAK6gU0AN8np9xvRxzxAso+J5xOFhuW0oJA1CTVq1knSDXpqtrNm/wCMctUkSvVDZMhbl6Dl07UcvcjjUJ+sZGU2snqQGvT597vFPhwDnLzfiJIiFkcEEWWkVMrMkDak7yMbAS/AWyL4Ffzj1nBjCGt3XlwSPNhZAJ3UPGF9eV1FYa1qV41XSkmuAMVeXsDg04U2si/NEjy0Da5YpC0zSLG0EunUjaAzIAbUBtuN/HjEqLm1nZl0b9ETItsrdsrFT5eaWIxWCw2/rrcGzq28tv4x0626gJFx9VEAm/VW3SIoOzK02qQxM0kqqpJjK7IfmFCx5AG94+Srsa3iPNJDSJ6d9F9BSeTTtCMimeWaWRo4kfMa1jPppZKY6zf0oV44x9hQIcNU2F+vuvnqphxE3UmGeSbWkYDzsLDyAL6GPqYFdiQq7AbtxYGKNqNfYKJZzVhHCrPDFr0qg0C1IVkUiyzUp3JF+1fwzJDtOqLpR5RIU9VglXuCURtmXMikkBWYMEI1H1WVritq+uGa8ABuNRMH0Md9EkuB6I35YwyGSMJOtJpJ5bUdNGvA3NVudjg1SGOuJEwqMIdgoiZzM9Jd3gaQdhmVpEvUFoMAGYEerTx9+KxxVuGDZgSTKrTql2TCu/hr8XuodL6g4aHTEhSKeRFsrG5oXstAttdj2N+fmf8Am+E4yDZe3T4YlgPRZ51bq3Qvi2SDM5mT8rmJYyO22kkv5ayar5SRVA4+p4TjKcAvm4heHxLXscdIlVMnwxmXglbpmYimkQSOzKjyMCtjjhgCdv3x6tPS+PDcDzXnVn6P1L5nfiH03qfTvifqY6xlpoJ8xO7d2RSpZTw4A2A2qh/OPkviXDPp1rgifkv0T4bWpVKILCJAC1+xayBEzAgi9Nhb8A1jhs6/NephDAYgREXTfNvsR43ojGiClTVYRmnYl6amscHavba98Y5TJxkIKNJ65GoO/JJA3HO/jx98FxSoR0tSuuw1BTXyg7EUdzgallJFa10KzDYaSwNJtsx22rfAbeCVkhOxXWpkBKq9tpC3/v4w5gGAshhwFViAdJ5Pi9q+v74m5ZFRpFUoQSgJ238njYfc1wMK5t0U1nLSKVX5dlTxY5BrcfthhdNYCFGd1KsyjcUxA2N8VZ9hgxCROKqxieJQVNhr4FE3qqr5wxcslMakaFewxuTTew+a7IG3g4AdJhMmM2rTJ6aCqdQulOw4/a8aZQTxN+oRuF5177Dlufb/ACwCIQRIpAnFsxH6bAkHmyRgLJxYtIQKULuTzWo3teEIRTQdyw9BB1EKBZJ8CxXnDnACIMCETuAGIlVUEFCws22x2B4F++AklR3cBbKlWADLxubA4HHN4VxQDoW2+jfE2W6Z8DQZBc45ml6jLPmckzekehVVx9aLDfbHkVaRdxBdG0Jn1CYGyN8QfGD9c+FMv0BZ2lEOdjzMKaQBGGg7cgBq/VQ874WhSNKoTssPNjfKwiLpjMqqqGTT6nAB+nO31xZ3EQrNpqYnQ3aQMEFNqIUWTY8bX4IxM8XAVxw5i6s4Ph59QVlvUdIVSOR/G+E/5Mo/8WZVsPh1IsuzEEyUOAG59qOJnipK3/HVPN0bQ4hkQMxc2qn33I9xyMEcVul/4x5J8fRCUkkUbKbQLsWHsNxvtgHi0f8AjHqkhl6p0ueObJSyQ3vatVEHnevphf8AkNeLp2tdTPlW0fhP8aPjr4aiGWyOfkMSIRGpN7GrA/jHJVoUnXIXZR+JV6YzZbEy3+JX8R8+mYjfOsv5jZiBWwsi7xyv4Ki28LsZ8WrxEqf0X4g6v13NmXqkj5qfMuXeQMSSvzEDcHi8cr6LWC266PHdU8zs99/NbxTKPm/h4ZZ0FrEHZx6l06fk073Y2r3x51T9RK6QBp7t7rF5OiZZcvl54NRuu6WStTAA3QsCyP8A3gNyYVRTDRy9+9uf0usl6d0/SFlkqckK0atV+oUfUQA3Puf9cMwNmMJd746fx3bdbM6Fmc7kcwuUj1AyG481YuM6jsLDbV7YR0Z5KrahkQSPx/K3Z03qMWZ/LRZhlgUIN1UbsSCxDUNhVk/vjiqU7novSoGYkzP3Nrn9j/OZZCbJQABpIzLxFECNIailcL/VR9uR5xF7QO/5V6dSL5OM99CFsLoqZWedd2SOwWSRvUzFQobYUb0kkXd8bjfz6rQe9uyruMzf532tbv2W6egZOPLRyHLgRKtBkZAQ7bNSqDqpTe1bV7c8ophcPFvmAf6/HdllXxZ8MZf4l+G+pZDMJ3Z8zksxIhCM4PfBjSQBjzqBI2uiFHkY6KJFMz1C+e8WCW7Hy+hA6dPsSvzO/wCIj8Peo/BPx71aHOZGaCKWViocdtTuSRVXZx+0fBeLp8TSEFfI8bSLXkFZb+C/4hv1GHK/CXVcyEmiZR0aRydJRLAjLA0TewHkc4+m+HcSab/Ce6ATY9dgvkvivAt/9xo9f3XSSMcqkUkyDLLFKGiiVQERtIAKx2TtyQeAcfR03ECHcz7r5tg1yWmRBClfn5IpIkWRliMjy5gkC9LgbvWwsk/v9MUdUFK7XROyZtMEZTZrkhOtn1ymw6WQyIA+7nYVV17EecBwcKYE3c2Adsz9kTULRaEsgkzSOI43mzLDv8Kq0p9D01KD+30GA7UZJJOMYkc0ARMnC9JmSs6+mTuLEBqShGFcIoKsGFXVek/fBeBrAcfPF4xfCzXgybQpMZBPadA0U69mTOiRlc0CpRXUg3S6qPn3xWiwsBaMEQSfwkm0p6ZiMLEuYmbu0ul0CMBIq8k0CAKBPnD0qmh3h6rgfQLAOck/OsoWXWcxBmIyTNWolgwLiNAQLPG5vEjWqMcYEgglUDZ3uE/LyzqrKjfprCghLDuAaiWB0miLCc+POEbVc9pCV7GSJAKfHIrhiZZApSjmyF8XYJSqJAYgDaud8YNBa4GdroOa3aPRAdl190FYi8kcjNMg7hQhQAtWtEUTYv6YDbOk46pmjVk4R1llCF5n9EQYBpfWElc7bgA+kf8AfFKBLWBwO5hBzwbYSEGV0cSLI+pXknViTpB1XIt/1Dcf2wraUi48wIJ5x3hDxnMwLI4zMgjPbnKzOLdYzoVYgKLJzuSSOLusJ5pcATnAP+u0dU4JQ0zU7GOPMRSLDl2ErQlQWKHdm9AABG1iqwoptN4d7i990wrBuHD6ogzjiWOIMyyhzFJNCaBlDenVbWBQ4+uMBqLQzzEGABvzJ6J21SWyVMXMtGWL3EJUk1qAGBY0CGriyvO3IHviga0ucTkAoeKXkAEJqZufMGJTGNbgug0aVHGl6NArZ4bj6nHHRY7SBa6uKjW5kozSGDLpFDmPy+tVbtoQQSp1MCDuQRtZ8f2pTpvp/wDtu0ki/IjcKH/J1nzNCgHP6GNNCmXA7ccdKUJDXewAH03v/LEyHgThowAreJAHVPXqLypJGkwV2/VDR2WViRqVwD6gV2DAYam11QFseb9TY/Kc1Ida4Sy50A9n81IRm4YxIqeEQsC0jXtua3ojzgOpkEa8uAkeilqB2GUwZ9XErSuxLu0gcMNPeT1La1ZG/PFe4xTwmwdXt67reJNx/SEmajy8UksSk9/Z9TChIzg8WfFWeD/GFpaqN2gySJB9dlRxa+5i/JPaaGKRpI+07RSM7MQ2r0AgU4B2JJNXZxdsCQYs45zjZSYATChzzs0AzEcsRDqjB3UAgFrI0k+kcc4lXrOgPa6R1z6eiLWMmChtl4pZWkdg4lqSMFAbFgAeCBVXzt/aRql79R5TZNUaA2Rsob5ORljR6kACF5o9J23Ju9z6Wo0b4+mOvU5gixBypOIyvJkZFl7npY9xu+yPqvnQKYHYqPP+mA1ri7oFjBHqq8tlIGmIgYINKCTUpUExkAadxRN6rH1+uMX6WuLgQs5hItsoEqIZEgIDIjEq7EuKND0qBuLPOI1Kp16QJTaQBqCSXLyBJGSVsuIU0ksoYoSNJB2sEn2/fFXEeZ2PXspJLQJuOihtHIVYxzFVlpXBvRrjWmYHcEfQmxwcIRLWzYY90dAJPRDzTyZXtqxkBI1LIGaMakBNUQbcE8e+ErP0gBwtKzQ6LFQ5Gmy8kr94LHNTiMUA9OTqKmwCCdj9cK+iC4wbKrKjsI0WeVYTl5GMfbJ1DVaMrb27fMGUcbjf6YPhNeCDdM2pdDHUni5URyTK4QSeo+pbLKQfT7f+bc1SmI/dUZUgXRJusrDCirLfdheIoVZkW6sgA7Dmtv8ALCw3S0tk7J6fEPlP/wCLsE7cb91YrEIRtY9XBYf0gb7X/bl6tAtb5HSdoVBxJcbmF8+H+JstmMlmViX8tMoZubMh8KRvv7V4JGPAFWy9f/hlrgVjPS5FeTQzBu4xIaidDAklqHH1xCqDcjdegRC2pF1yPpSRn8sGikW4oTo9yTtV2Ws4nw8tXncQzWsr6T8VZTqebjUNFr1sImawGjIti9AkDigBWPToV2lwmAeq4KlB7RdZ9lg6ANOdcIZ5dZb1AihemzvZHI/jHeAxoGqDkiOZ5rzw6ZVl+Wd07kiCCNoVjEcaeoswsyC2I2GxB/0w9RhLgXw0xC2rSOZVwnchCDMwp+XGXeN8wXFMBRplVb9R4+2A6k9rZiWARO5hIHNxzKybo2a6bnHWKSXtS0TlwSFFUQQ1btXuT9PpjxOIdrLQSAf9enOedl6tEljeik/8OiRzqk76SsNM0cdsWAvYuDdAX9thj3qFVvhAOMk2MLx6zZcSpOU6bGI9UcQkLpSoB6Fat/muwL0gj/PHdTFMBxAxZc1QudE81JiyS1Gw0vGImDAqSuiMkV9aP74GkQDGyBm97KZFkom1xdwu80uqKOMAUQd0C6qsjbGc3xPK0YMjpAx6FHUReVNXJd7NwwmzT9+NgEalWgrsQCDsPJ3wjGFzv+4bZ9IRD2taSMqX+QQQZgdmRFVWU6WV6omyl7gNQHvjo1+UvDTHRSEywBQ/h/4Vy88ednft5PvRFkLoJJGcrQAT5V0gmz+/jH59xzQ/iHTYEBfa8IYoE8lcP0AyQwxZcs62xiNMocaqFkigQKvbfH11Dh2t4ZkRM5PLmvlq3EaKzpKsIYesdMMZyuYbMMwKlU20BLDejk69A2r647mcO6l5mEknnEey5nV6bmnUMLi7/FR16Tq/xb06CSOGB8lkNL9hSdbFyWZmNDnYDxjzvjNepULWvsR+V9H/AIzw7Qx5GHH9lytMhCRlqJA1IqEmqP8AO4OPCI025L6lplRpbk1SICNQ9Sk3pFWBz7f+eMJOq4WSuzgKGFoFBW7YDn9xeHkQslXbS4OjUCTRPn/L/bE3LLzRtZJ3JbU5u/qdh496+mGDoWTA6KA6P3PUSo+m/gbnCugmQsvBHND+tru2I3ret/BwxaA63JZNdt2UtrAG+s738x3NDY/zgkSEU8PpZbLR6gNRB2oDyATfOMQCslbsiwl6kOsxlyor/wCorevJxg2EEFH5ZWO26k1e9+a/0xiJRT1DsyxqH/UPqIFk7jTsPbCxeEEh/wCl1DaRxqAo7A19b/ucHTBlFLoYVFpdwbpSRZs80eLF7XgwNkE1izGl+UEhVDA+kWR7f2OMQEU8FtJ3Opv6uR7DxfjAhaEpZDcqsVjUamN1pN1hCgiZdVaQDWSTQZuRf1+uC8RhBT8xEVk7Yv0iyD/F453ORgqIuWaT1Xa0NPn64k6pCTTJU85BgiXYkJG44qqH7m/bHP46p4WFlfRukuIgz2C2klASDuSP7VjirV5K66NEgzlZxkumpFJEJYg5o6nVb1WCPSAb5vkDHA+ryXeGRfvv5Kyy0KsjxvpMhAZxzVb3Z5rx74R77Sr06YNj333lSslCGzREkodWUgVZrY1yRd71WEFSD3+yqGjffvv6Eq3hyX/Ec3C7IhiZqlJFaEssRsP+kC/AGMXRlENBOB7/AMd/NVGf6bA+bII7TCUvpC+nSKsf39/9cK152RNEE8ldQ9NgIzEr6ljRAqw6rcGtgDY/vf1wpqRyS+ACY599/uly3wok0BMw02SdPNgVt49/fgYDq3JHwAbd79VE/wDxWPIzNmZVVlkOhQm92RZvYecKOImyH/FAEAb/AHKsM38OJ09k9IWNtE7SA7kEXuRtZ5q7wwravVUHDDbPffd7fo80+RzUZEBRwAgF1qsrsCL4N4i52qT3uuhoDTbdbo6XnM12zHFtDOEHrbYA0pNc77eMcOkH1XQDBgd/Xv7WLyz5eLLws21kuVJZgxJ96839ifthAL4RcJAmw9t+784WZZd8oVjMMjRPEFuMNYUJuRYo+LNX98YiyziQBB726q1lzcsf5RwGMayqcwq3wwNr6dz8vNV/fErhWJEAE+23futnZDrUefhVGKraqiMQFOlRtRNsaPNccYlpi+/r2FXxzETj9vXvKsBNLlZlzAmdkRi2n5QdWwKkEnwKH8YQhP5hE9/flP8AK3B8NdbikK5qBljcEqVBogsiksDHamxVEjfxxjz3A4PYnv6r06cAHTz6ZIn+PrddK/CucyOay0TsVMY0rI1bvQ2sAAVpb+9bHfHIXXuufiWvA8s9994W8MuuWzsEIhZZpJVpnsRyEuKIjAAAHGzGzjCnOfl794hfJ1C6k4zYD3Fuf7hfPX/HP/h/6P174U6h8Q9PhDdRiBfMiFNSJYGl+fT8wG/P8Y+q+AfEanD1QxxsVwcSwcRT8SL9d18KemtkPh3q/ZzaFpoXYQAEjtzX6X2INisfo7g97dQNxf3XiPY2dJwV2j8B/Fi/FGVhyeZl19VyDGSUjSSQASJF3o7jzxycfQ/Bvif/AC2eBXcdQwd18j8W4EcK4upNhqy9IonkzKLM0ewLOqx8g6QWGkWKa+SDj6Ck0S4Fx+i8WSIgZS+rVCskjZvKB1MwsaFF2ukHgHgD3+2JslpDZ1gfT19FucgIaszR5rXnpSZfU2YZw+plO2n0bfuKPOEDaga4FxAOIQBlwUyMzodEeuRCAJpoa1agDdqoGngbVftp3x0AhrgIJhuf3SvpgmUxFOlGeWWKGL1JJqIdjqcKCF5pgRtyu2EqMbUDQTOTZMwCUfJyPBpBdgrxduSYE1IQNXyjZRtpFePtjUfL5okx7xyQcJ6JFaR2mYBwjUBbMGZtIvTvQDewAIPnFGteSRdrSMHMlEt+algzNGcozCOlVYjWrVpPyFW3PBFAf3xgwnyGxGY3+aV4iN1HbLzo4QZnWgRWlkZwDYIZ4wAKJIrgb8YxoubZplvXnvhEaSMXXs20CZaXMZvPJkcjlChzOYbQkUYbSdILA7GwAefAOKmnrABOEoJwAkLMhy6xSSwycytKgKIp3rUtnjxe55xOsyHNYydzfHfJMAdJ1ALxmJXuK8iTM2tsyHAjYGygcDYkUDwKHvhazqdQSCST9fVJLmiSnsYkhETSSGUI4cpsByyuxN0RqFAGzhy2nTAix3x+QgxpdcYUrLyR/mHMrTJ3kBjBlo6wR6hqFD5rI+nPjE9LXOdqc5si0k35QMLOLm4SIGcxPITIJoTDJMLBtCCNBUGmJPNjbzjN1PIGxEcve26prMSMoU7TFXWWOXLiZEMiK2q1ijpbLA2SdiD9Nr5V7GNdoJI2t0/dUaSTPJFcRicRmZiY3DpqcOwY0oUEnfckf5+cMGN8W9uXJEvMYTiwhaEI+rU8glZCdDE7xppa2ArbfgbY1Rjqf6gTYx67fS6QefAiEOcThpoYUDrCoklne0jIF7hVLLR1VW29ecPBqEsb/qLn1WI0idyoU6Qh3gZgk0QZo6YqDCyXfqPqoHg8+dziJa3UNVnAQIRBgWunrFDFI5VZZJC8XaKspLIpqOw1ll2Y6VACnfFqAY2BGomRPe6U6sKHGomaUwyO86KzDStqml91FkUOa3xNrW1LAmx3THW28CCnvO15rLwS/nCx9UsiCNAxU0unaya4xcPjU0eaNzY+wyViy0CwCjLJr1TLmHiGpTGTWkEggEFDwgsAY5S0lpcDBt73Qc44CWOZmkkg7uqSfRK7OmxsA6hp8Nvte3PvizuG1u0k3N+kclWDF8JFzsoljkpQZzRSyAryD0UCfFbjcUcSZRgF5IAiCEWPDmLzTdkrCgBaJnfU5NsENPp07keRvtzh3B1MN9MJANc7QhTSoWrRqhBp0j1CRbAoMxFAUSd/qecZ2Q10neyZuEKWV+3GhdniJBSbYMGrbUoq7N7/AL4WrLgWEQFqYgyVFWQylSjXmApJU0PSw0g3fgeBidEOkOwZhOXtiNkUyscwEE6yK2jTPZvSFJIbkkqPIBODU1B0NeCOakw6W9eSB35BHDIYllDXH2Tq+RLPqs/1Xv7njCh2oaoaSPX5qnlFlUTMGvts7RFArxMQmsuQ3oJB9RJ3PGIuqanXwq0wQbhK4hgiFI0xrTMGCkpWksutbJIbY1/G+C2KM5IiUNBqHkg9sOCV0GIlWV/Ml0aB2bgGycNRqaXSCDaUHwLBDeO1doo07rM6hJEvX40V9q5w5rENJbAPVbw4cASqb8lmzDGRE8bAa1LoAFgBAYVZNDf73iEPDQ0w13X/AMVUZ+iilJdTGB2kjD/8yP0LIoFoLskafN+ecAO0O8hshpBEFfN2MsGsncg39uPtj5sL7VZB0d4484hdNKIC2zUR9iQeaxKq2VOphbB63lIeo9IhzXTxqmhBTMLDXp2JBa96N2Th6FxbZcDXOa/zCAsB6bnszksxrBMdN61W6O3kVguaSV2VG6gtrZL8RWjWKJiqiMkzCLSuy7GgebXb746PHLQBE/wvKd8Ok+q2r8OfiB0zqiQd6WNTAp1F2rUWriroAACv3x3s47U4B97rza/AVKclZzP1fpWYy8itmIe6QXZkJOo34Xjg/NvQBrHU6uwOMnK4g1w2WKdI6Vnf+LiaKYq0T6nmdrHbJUVZJAI4AH+ePla0M4sAmxOSvoKdQf8AHJAkgLc2TXqUSRvK4l0NojG4KHdmO27cf2x9VS4Z7fMCIkRC+afWpugmx3Vtls2kmZWPMMo/Mtp0oQiHb5q8C124N747m1orHXZpn5qZpkttcZVvAkOiQy+oIp7co29O/csrt4Iob/TD0CwmHE4+ag8uKkxmBFaVYlkaRI0Rswe4qxX8wG5S78i9/pitFoaToAnmUhfI83yVtl2GYEHamIRXUNCyExt2/SkSg2fp6uN8HQ0ERMnPL2QAAunOIj3gjaD2klX0jShINAtterewRz98M0A6mgkED/6wsHaiD1ypPRYpJoM6C0RnRFvtuyRa7al9VnV9xXH3x+f/ABJs8SILZ3H4X23CmOGMmysHkkLCSYR28iqsLn9FABposvIJ81R874+54RrtDXuDZIiP/HovkOJLQ8xdWHT1iVss8skSESyOOybVTp//AFE4NBf4r647GtbqBJEDYLgdDyQZxuvmt/iM6gOofiX1eWo444FiRsuCW07AgXZJst5OPl/jNcVKkNNl9/8A42wt4Ue60M7t6CyKC5uxtRF2Bv7Xjxbiy95ohDdSF9DVe7gENZajfINjn6YJ2KyEFtCxVdBFklrX3H884Busvd0aVBBCqCy3WonwDW2+CAslULqkVCyrQJDjgirHNAcnbBgLOsExpAxURsABuoo0K3r64VsYCwBXvm+bwPU1XzvwNvPGHKKYQoLApTA1RNCr+Wh7/wA4VplZOVUAthvdqCbPF8AYOlvNBIZGLadOoWQVPzEeaPjnxhpRTwE23oEXY+XYbX5/88YCKTU6NVFH1AaL5A523N39caFkwsHK6iwYbxtzYB3v3xkEiOw1adKbgumxu+Ku+bxgIWS2EohtJ3I0kH7ki/OAVl5gqaWUkJYAU70TtQ/8rDFZKbVQR6lK8i+ft9v9MK4WlBWuREYZ6JYLY1NwSfAHjEnk7rBWTxaolk2BawsdHn7+eccT3XVQLI2WyqvGxFekA2DyeKqwcclSoQUWNBV5l8qHjX/pRhpF0xO3B/fHFUqQuloV/lP0pNSKi6dKqjL4oGgSTzseeMctQrqpticDvv8AZZjFmCi6NH6jEhc0zFdwKF0RYHk1+2ObVOV0gzLRHfNDTMiJmaNlrUGkZK2YMRtVkD1c3g5HVOyQb8/4+Vu9435jMzZjLwhlKNRiHyWWrejZIvbnAib7rob+qQe/6PdltCJ1hyOXRSmnL6S0mmnCkV71ppcTLiboVHEEc/sqKfLvmuoRTegvMCI2S6BolTXPJ9sEujog55MDJHf8qTlcq82cgyrXpy8urMizubuhQ8/+zWNaPVMb257/AJ76LKop8pEdTFyq6liQWEOkc2oHuNjiT2ux/ef7VWv2uT36Kuzebjd1fSDIjamLAb6LAGqhtZP1/bESPYdFjcajz3V/EozHYyw0sQpclqAFjzsP+kYXFwgxxacWQOq9KjyXUMtmVjJy0qaoY4j8zodR1BdiABxX8YZpI7/dMw2B35LOOldQR1iig1qygLIpAKqVsCgjWa5wNEO777hXD4BtJJ/rsI2b6kwzcsTygxmTRdUGqtzRoCjVWKvE3MtbM9/VFrhex7773m5LOyxzymJSywgSPG3qBFAgHTfnzsffyMIQlGowZ/aD37/RZpl5xLmERn1oQNMQ2RNT8k2v0OIGInvvKZpJbix+ffT5rLctJPlo+/lEaREYMzN6jS1exNAAHb9/fCvjBKeQLA49e/v+2XwZ+HPZZBE8iM51UBdm7HygVuCK+l4SYVRJEjv6D7eiyzpE/wCWzUQyuZpBKABHpCdsUqkbEj6j2P2xxvbYWXc2rJgn07vO37bLpX4M62dH6R1qXssrl1GwDoQo+YnxQ3PkXjjqM0kTt3uugVdTYMH0+nf5XUXwt1jLzpNLmE/SkjkplruRF6DXpJrbcgmyW2HONqa0COffY5L5z4lwrhAabyPQ8s/1a6mfiV0cfE3wh1XoWYWOfKZ/KmJ5qTuLspYEaqtaLGgQNuOcVo1dLmuBwe+/3Xi0GNOoXBO146bekT1X5W/x++D838FfiJ1nIZzJSQwl2lgRgAHQm122quTj9o+HvDqAM/qC+fquaXEDIz0WPfBXxbm+ly5fM5LMmHOZYnsRhiHmuv0yTdg7jb+awtRpoOFVhlw+261ak2szQ4TK7t+H89lPiXpuW6p0955Ic4yNIqsbjmSMl1YqAbBscVf0x9rwlZnEtD2G8X/K+D4qieHdDuavfyeXUB7fK6pCUkO3cGuiQoJLbE7X746RSaTL/KDZcus3OUIRtoB7ZzCoGDSICWK6goLoAVN1YAOwxYNJ2/TYdVKS2+5R+1NI5/LjTJHpf/mINTCidTLfC2fIA5PnD6fFI2iAeoTl8ZUlcm8ZnjdBnGVdDSMSx07H0VTDZrBvDVGAugCS23stqmCE1Ms4y7FSziZGVIAwLFKthp29zV0R++IQCCJjb0VJBwphyoMbwIkrmUqutxSPInpABJ4LHTXuOMMXkM0iSYyeixgGUaHKLEYXfL6QD2IcwaeVACwGosDYF/Wjvt4bW5rQXRjZYaThDm6d+X/LAssMUbIsbzAgobpQQSSCOW9+b3xNzSwAkgAlNTEEqT+SSNUlZj2sugjZlUFJDu9AXt4BHgHHS2nA1arKBLiYi6rDk5lzQjZpJFZdECRMCBSg+pWFeRZHtjnpgayXElp5Krmgt9F5ckMnqlUQxBmEUbOu7Lsq3ROnUCfVfv4wzWBg1SMj190KgL4G6A+UzEeYnLroMd6xbtJ2yrUoZz51Eg1xsdsMf1OED35JSAB6KKzSITCydvMSKiqdRpC+9qasWDvRrEHQH6dwAptcSC5HXMv3pfR+bZNLRQWwAdSwbSouvUbPGC5nmBOxTuc214UczQSMwzLskUrE5qSgzIHNdwutMApFUfI+uELhc/8A5K+oCzcKNLn45dS9gntBo9YZbktt7BogChVkXXtitUB0yIAwfwpmpeEn5h0gaZ0j1pIGTa2ayBvvtsRyfOEYx7aRc+0mfpA+imXuLoAspCyGIsi2F0hZZqZxEQwGprJNAja9yMPDm+SLQERVE5lQ2zjpHl0KG4ipM0lltFUAoAOpS1miPv74HiuY4eX3QDWkFwsE4zyCSeUZZle1IcnchmJcF1Ye1LYP03xzM1lzrXzKu2AIlehkXRE0dvH3CYYVAErmtgC9AliPNHD8P5aaZemmMkE6mRoo6dYns1vQWyWNMPNHzizjInl7n5m6QN5KJHIs5QB+5GtfmdfqAYWx2FV543/0SrUa+l5SIi/8I6TIkH2/KLHl4hFFWiJ2iOiVwUZmohRRs1Ys72fbAaaZAJtHPM8/RPpcckH0R4vTIY5AjkRMGzDJSt3BqdUNG9rFjesYVg79VyEBThpOwUaZYu0JIHdDGi9s2JEKE6TpDgrakcVxguqCoZwQiGlmd0jRs0mnNZnvsi/qzAgF0X1MzXtpY+CcZwJf5jeErxDcQoLTqERbVoz6mrjvLQB41bc+Nr24wdbWt0kSDv1TGmQ4yoMks8atrVSuWkMsbHdlZuTfBHHjf6YRtTwm4mMI6bxOUJiXkiSYCITOjpl2QswBpXohQCPeqFb8YJY2ALtPKFqY0g6d08TQhO5GW7kjgIyAFGAJG5rgjz9cc+oC7bzZO1wwU9ZIEhijJDPHZjQkEDYKoUrte177YWqJbp/2ymDgDKA+fCSkvGplmaRWZqXUU8mq2Yncged7rBbUc1gMXJg9U5ayoICA04zEKuIBNOyAfKxDF/m1A1Q2035xD/kEtBLLwnptAJBNk2N3kRZ2VYFZGVJUOv8AU1EpdDcAbjYD3xOi9+jzg52VKmgOsZTjLlkaIKEBzDMyOLGjklmYBrF+/nwBizbjT5cylI1bwq4zRiSZpFSSPXrjZDp0tq1FOS1AEavr/ZTUDTPlhHSHb3XzBjAbtjfegwbivqB7/THzy+tJVv09I551DuqndQACbNcAWNsI7CDiQFlWbzTdPPbSQmIgAo1r6aBBC7b8YSmL2K5Sxr8qVDF0nrELlWGSzkUR20llJO+4rck+2OmZyudzn0uoVDn+l57ITSCSMxqhI7uwUjcWa220kYLmEXXZTeHCyj5WabLlXiZ4t1Lhfa6PAPjb+2JSEzmNcIKzHKfFnV+4hLFpCgVgAQ2gAULPHF1X0xjq5rkPBU8roDoOdd+hJ1OYk5yKOzMyggXWxF0FF1zjyariagc4TC2gtaWtws2+F/xTyXUpGy+ZkVFCNHLEQGIkFBaFC+K+5x9j8O+MBrw2oJbGF81xnwtwkhbCByHUHlksqXjYmVYy2qOhoN3RY7DfxYvHqkUKtzn7cl5bPEZ+kryQ53IzTvFKsi9k9kKCVILaiCWKjYVW/wDviD+Fc12hh6ro1h48wV2nWDm4p0mDZeeXt9qRrQNdWbIF/TyK323xUcTUc2HWAx1SHhmNgsurWBe72j3nmy624cS08b6eb23DAg/e99sdfCuNZwM2aD9VB3llKvWIkjzEsjk9pHjUqQselq96vnbScTHGBgNoIBTf8cmPZTehyouVPbVdQkZp9WlipYUJCSTTAijf298fnlRpqV2mJMmR+F9k1gHDu6gQpEWd7kcSNHSxIvYhjcyFCQRbnSNje1Y/QOGJIbraBYeVu0818bWjxHI56k0arMkYkhiUhUJ0qYgpDeoG203zxf0x2u8jwAOnsLyuVzBdfLf8SM7+f+MPiDM9sLIc5JFEBsumMkC9r83VY+O+Iv1VT0X6R8NZootHRYGzoCikN2zyx4O9bjbfHnwV6SjlhrBFqWUF9O6gb0QPG2DHNZuF4hh6BvqGoEbj034vegdsFs+yyGdiFBIWvUb2HHA98AybLJGC9wrsxDelL59997/bDAQilAZV1MpG2yc2ouwR++MVk5Tu49SLeo1vqrfk8UPrhRZBCOirOtQd0qhudrAP8DGcdkU5QJNS+ripGFWa81XF4IgLGySjp7aC2NatqB9h97wThBKzFox6qRgNTA/bxudsI1ZNOoMCpGsaSprk1xZs+LOHnZMlY16UmWtR1C61HjcgV9MGIQXhIzKSB6asLYvVp5BP1+uBMrLw1kpRog6jtuPpx97wdM5QTkYKotdWoAVyQN+D7G8EABZDBtiqNuTydqPJHt9dsAorIMkitExb5JCdvIUG+freOaq6EQVN1B1Tt2NNk0PG1nn3I/8AeOCplWBtCNDJoXt6quyzMaJvgXdDbbHI8SizksmyyCPLwyv6mWim39VBtwRsN/ttjifddTYBE2V1H/8AISkd1ZgFVSb1aq5G90TXgDHM/OFZmMxyVq+Uljy8Uervszky1ZYaADYAIN/QfxzicQV11JE+/f5VgqMSRqt4xR1EkksCL5s3yeT++E02VA2M9/uokEEmXePWoMtaozTGyQNO49JN+5r398GQUmkAd/L9/wASsqyM6vEIpwhh30uxNqxLVqDAChXP/gm4FEGCIHp+37wjx5jMZfKpmtVuHAHpsIpIvVv5FeMOYvbHfJU/TAPcfvysrfKyyyzxZjQoWVWEMe3qK/KQTuQfOFJiyNOpkjFwO8J3VSyzCOMalQFmZVo2DqatztuaF3/fCW3779FUVRIthVLdRkKjtI0b9y0JI+fiqIIO581tjBgM7qFSpsd+vT+Vl3T82yxxyBhHmQuhhYYEMNw1kHev++JlueSGqJvIj+kXPdTmjSCV2B7Y05YNYXSwUsCbO3mvfjbBAnPf9qjTDpG3ff0WUdEZczl4sxH60sGIr6wSaBbnet/P/cFt5nv8KwJNtz6q7y8CzpmXZNiy0StEgkmiebJHnG0Bv3TB8u9OuFlPTumRRZY5kVG8u6SNIRZN8kkWRxQHng4k8Kgc0C2Dbf8Anv3VrlMq8jAR+sTR+p1sksAOKYHYA8fXEHEFsLVX6ATPfue+ayHpzTrLHHARv6MxvsVYbkl7I2FWfOI6JFtu/oj4k3H1n6eitmh/4b2o0ChZH+fWQVB1HfYWB77H3woYTfkqmqM4j1/u3yWy8jmE/LRNHZeNQ8hLJXpGxApR4saj/wB4VARv9+i6G1SZN7X2/mT+fULZvwd1c9Pa5TqMile6+pVUlg2w2BO448Xt4xx179997qvC1XNMRJPfsupPg/rsqM0cc0sgoQd1vU7USNQ40gkghmq/rWPMkgSR2VTiqLKrfTuTlb3yo/PZWYFowro6qWlDiMtZJBoBK0kg1d2fqGFXygFfK1f+24Z+UT++efL3+R3+Of8Aw7/8Wy56l0+GJuvQBszlGEQUyWzPJAH1KG9rC1ew3x+wf4TxR42ieHjzNwvi/jbm8HxArNPkfb3XxKmGY6dmpYJUaPM5aUrLGw0EMv8ASwqw22PpHskGczHyV2PBu24K35+FHx1J0TNq7MMx0/Of/H6jkbPoI9XejoiyK5xy8PxT+Dq6h+k/qXJ8S4AcYyQYc3HVdqw5jL5mGOfL3Jl54ozBmLIf16To5FWNtvNm9sfdUDTqkvpCWEDzf7f/AB9Nl8LUa9hLHnzSia5orMWVeNoyHaAKQaLEEb7edyT4+2LagTDZzgZUw0b5UhG7cYjli/KmBmlzKNRJG+5Y8AgAgDav7s5mhkPG+B+rpKmDfylT+6yxxwtFL3x8uZQkGKZGsWTzsAdj9b4wryQAC2I3GfT2Vab/ADGU5ZJGjjkihjzJNBolZo5QrkNIUA2GkIBbNsfG+GqCoCCALxPMjf3WbpEtJO6PNmFhnYL/APIlWdmljdRaod2ZiNlJ4Dbjx5xMmXEEWGAUZ1RJsE50zTrmJ0nBY6lXMOxDFKJ/TQA7cjYbbYYUHNIeNI+/sna9p2lSxmSGmCOPyy2CW2cgm2UajvuKF1uMTdRc5rhrhtjffmAgaum5F1GfMJDEyLL2Tkoq0kgB1J3f1LyRXH+owrgBgC36eupUa8uz/SjRzDRDBISFjZ0QoCsrNGNIZSSd1PtfG4OGaIZp0xGYyfRI0nUefNLBNG8WXX8xKxK9t2mF+hTqYgA3Yq99vbEAxx8onrK6zUafVGlfIv8AMQJyY2iF2wj0lqNE0DvtXpNn3wPFDDc+YWA3MqNzthVWYyNvBDl7fRG/6gBa2VmalGoNZ9rAquDghvmaALNJv9lgfIZTJ8vKyKITE0gm3nBI1O3AAI3rcmuPocdlRoYALE59zlc2nmFXHKgyhnj7nbkAZI2AZAx0+v8A/hINDkffCM8pB0zPJMGk7qOcpJNM6sizMARE8YoqybKKo2AD73zv5wwJe64lYtLRDlHmycMaCQyd0SMeVV1OmiEYhfSCbux/lWJvY0Y54TCSI0hClcNo7bLvrFPsAF1M+lhvsfFb4NZ7i4FuCk02uFDVnZF9L5iRAXkN0510GZbXa9XjcDBa4nytAJGZ/CZw0mdkGbvntRgrme6WMqQ8LuAxkPIAHkjbANN1M6WHVOeio0g3NjshT5h1i9fqgi9S2RYAUaS2zcWKrf8AvgPswMOJMemyzXucLZTB1BhGAzntlY3BdAwokmiVok++3mjiPmLfMs+QV788Y30uq/rM2vOqPmYWtAVtY/jFSOloStJFwU4dWBVp3PcVVrKw8qNiAR/UNx55v2xEsZoLnZgD6lO197BNXqrMw7s6fldKBY19XgXWxbc7McYebBBGysXAXIQ5esrNHKuwbLhmUNaejUQOT8xBAFYY+eAMjJ2KW4/UU3N9f0sJSIpzQGsNaGiB6jpDMxJAo+MSqOl4dujTAIwg/wDGw7qixHuN8+2q9IOoKAN9NWRe2N4ziYjKp0Uhs1lJ4z2JYmaL9SNj88gAA00DV0bu8SqGGhgcCZTsAnCJFDBItoxCzyB4wurZaWwWNjnkc7fTEqJD4fJOrZM5gJjkknihuVdaNNLIwQABlVAApK2frex5w54gN/SJRbR1KqmhSMurztCfUXijbWj6o9AAu7/Y/XApGXAuJF/om8NVuZTMRRNLl+2yq0WsgEKDGBS8jSdI3B/y5zXuY2WgEjnkqRaAVXzLM6RElZJJWZJYKB1SOBqYmgAPBAF3+2KO0OIJEE5aPymaSxxjA3TwsixmLuIiwuCZyTuPa+HAFijeGcBp0sOLpXuJvJKj5ybqOv0sxE1BkYndWuwdqDWPtxxifE6y7U2EaZBMFRJc8cw0kzy25cfnAmkFgvysApqmvet8S0modeSMpm0zTNl87QR6tyB77en2Ng84+eX2EK16Qq/moj2xrchR5P3F7cc4lVMBM+6vuskpKtIbOoKNiQTQBJGzfxhaN1BjZVNFK8bRSxy9sqNRa70WNII9vbHRKctELLunfEQAMHUcumajZ1/WABoHk3v4uqwG6gDB+a46nDk3aYVtmOh9P6peZ6G/bdFtodV0wBJ5Nc8Vij3MqfpsUja76Zh6x9enZmDOxxNA+syU2kWVAG2omhZ9vGIPaWi66m1WubY7roboaKnw5+pelIyr1R9RXTRUbH5trx5DmltQbykJiRzWhZs5PlOoZiSGftuZXUN7BiQQfqa8Y9YCFWGkXW3vhT8Ts90/LjK5xrj00zIQHNABHFkHYj5RXG946eG4x9KWm7THqvG4z4cxwJZYrZ0f4ldPkbNSCVZo2B7ZAKqiUGAAs+KH19uMeqfjFLxZ1Lyh8NdEFT//AOY2SmCpKwaYsSJIKCrqBKG3JPpuvoL+mKN+KgDQ6IlA/DHD9KWL8QYMvNI2UmjmkjLCOCVzWpeZKk2oAE/wduMcz+MYCTSddVZwJeLhZ70P4w6N11ZIMky5eW9ZdgGk3GokEgqANXBGOg/FBVbpsLfVRdwD6Tw7Zbr+FulZHN9Pnypz4M8xdoGIsFu2QqBSCSdya4Bv2x8vXpg1235my+ho+amWlad658Wt0XqC5SYlp4QRCrirArYjUS16A2/Bx9VQ+IO8JoiwEdSvnq3w4hzo5yqLP/FcKdB6jmonI7GXZobrXHYLkGyDvvftsDjoZxAFMuBsMTmVzjhdVQCMr54dRnbOZvMZx2AeWV3L3bes7mxdnfHzT3Go4uO5X31GnpYANgq1msEkjUuzWTWr+kkeawkrpGFHQNapSjWKZhtwSB9N+MaVl7UBa67KjSGY3sRQ/m8NErJxUbsH2T0GJfbbjbbz/pjEQshkk8aTrIAkver3obDzgBZI2k6SgvtkXZABB92/bGWXqFvamhYHFg/9X71WARKyesZtStENuu4vbdid/I+uCWk3QTPnHdVrKCo1rahQ4Fe2FhYdV5NF0XrVsOAAd7II/wBsEFZOr1JoDNHGSosggHfYHYA4YwsvN6SSB+obsggWt8Enj7+MYp5smsNRGrZgBRonbwCefF8Y0JQkan1m/wBTfVsCB7kVzjGNll6SQVuzPwEBrg+4BwsxlBNIqlNItMvFerzWGiUUQAApqU6eBZ3H+22AisoyRhljVWUGtuaABPn644qxKzApOaWGEoIQDqUWTt9aN44iScqxAQY4wqBqoa9OncrvuQdq28Yg90lAZnvv5rM4HOaWCGxGgXT9DpHNG9/J/wB8cDrBdrNhsr/pjRpmeyYyzVTmzdE7EDYnzsMSJtPffVdVM7q/LmKQxRMFOle22q7WyWIZTzz71/YoW4VTb2z/AB381AliSCWzG7RzMuqcsADttYvY2Tt5O/1wrmk4T6fL+9+amSqcvOzIQ8MUVxmwxD2DuTY2JNjffEzBWgEEYUuJO4ct3CzmH5iQA188rvsLP/bGA0oBuCr3PyouVcaf+c6gJqY7AfMC2kncjn/0syFSABq2UrLyfmVUd21UVXqF+y+nawFNi/peAOUX7+iAgERAx6fwp8kEc5zGliWsydobk6gQQFv68YAGExwTbvv+VQsOw6kvroEulKxACgBQxsD7f98DQgGxb179Va9JeJmy8ItXcNLrLkXpYiufGw8XjPuhE3M9/bnn6K5zWUE5nhedGB/SQbAhjtfP9j/ngNg4HfRO4nVPd/wvdCzkvTHMbuY9WkpytqGuqJIAIO/jG+vf8LB17275d/hZ707PD8vMzFmKIXnhoijqBpjfn2Pt4GBIAI5995Qa4d+/zWSZPqiZ7oa0x0q4Kqh0khdwp+lccYmQBYZVw4bnvvmsh6NnnhyaZsSjVJIwMb8WtrVn6VfP78YmWXxjv5LFxOM9/b2Vi/VpchSZekklIeQlaVgSbW74874mWHv74Ra7TdxV03VgGSqkmTTYYaizhSBpBO4IP1/nEy2/fRdFJ59R3/Vlc9M6pMQuXfWsklhEv0jfiyLJJ5rz9Mc72gJtcRjvvu4W3OmtIcgrlWLO6aSslLTGqALAC73UgAcbY4qlz33/AGuoExYR3ZdFfhv1FUheBt1Z1lLhwDGwdVLD0ixQ8Dz5O+PNrMvPSO+/lhdrDqBA/v8Ajn8uc9T/AA1mcg4aFZEm1g9+NiCjarNmQMeDQBG4/wAoMaSe/tlfP/EGP/V8j+w+61P/AIm+m5HM/Af5/t91oiGBFLI5Om306QxHliLUkeDsfvv8IrmlxzReCF8b8epGrwjmO2Py6C/8r8/3+ID8Oosy+Y+N+h5asyrH/wDIsmhDA8KcxsbVv+sEfXH7d8X4YVmGqwAOwQOmD6ndfF/BOONN4ovMt2XJeVzkmSlRldpFQqSiN6TV2a9qO+PlqtLUIK+xY7QTC2h0r8Z/jLpuSynTcj1BMv0/IOzZeOtRUOQNIYj5fpivD1a1FmhtQgLg4rgaXEO1EXhdF/AP46dJ6gIofilWgz7BkhzEK0p1gaSyPq1b7kDet8exwnxcM/8AfbqIsCPyvmOO+DOP/txZb9ymf6J1MqmRz2Vz2dzCq2YBnWMqJNRLJWrTVaSd8ey3ieHqmBBcc3XiOoV6eQQByV7l8gs8kTw7OWZo9bMsayRV6VHN17/WucdraYJtblK5nktEEz91LGTy8ahX9aZhf1XY6kQrb7VW/nVXtihptBnT6pQ9xuFLEWX7KO2bZShZo5WAalJFqNVhiDY32GBopsE3yEPGeDFoVhH0zLzO4MxXWCCZfWVNncr6QRpBH2rfFm8PTLzBBH2SeMbAiYTE6QsqTdyYmSVmLGRERlUUGAagQfFnbyBvhKVI+YPMg4lF1aTAsFT53oyDTJoa0mZZBKQyKAvqIJPqbTR4HF45/BkeUXBhdDa2q0woB6aKhljhZvUQQvqBkRiC2ng0vqG9n/OgoiNcGUheQYJwmSdMdXVg2mQyfrTxjtkuPVqJFnYMRxviQ4em5+uSF0NruxyQoImZpACIpAdpmjKEAitGoEBrPIJ9/GOH/jNdV0tBnMnHzTisQNRwp8WQ2liJfuoqxs8ZOkk2y0bsLpGx82MXbQ1CMnp+6P8AyJdAwUMZSYxrl3SOBs0LRFa9ZUCi4BawPaxdXvjndQe0hpbEmM3VzUaMbKPmcskMsnoZe3KQscV/pliRINgpOq+eMXdSa2pBBMJfEkSITpMuq95RmIxGygIFYawFN6wKK/cH2rBaCHECG2ShzYHqox6eGZBLlTLMumUK+miqWSWOwJ5FeeecS0l4VC9vNBzOSdBFR1FSzIusU5vd7N/uACNsdBhoadUwp3Niql8jJHPE0QIR1FmEUWBIJoWQPuRVk2Mc5LhUiFcU2uEJp6e4d44o5lkthKtMqnbdV9xS8WaxUPY0+WZvlTDYN8KLF01p5B+Yy9QSR6GkRVZTVqCQlUVIUURzyDiNIPn9JhO8W8qrm6TIkGZDqSZtDZV3Uamo0TfArk2PbjCCkQXN3AlHUCRHumnKq0brbLZEjGQdvVzpokldQoD6/wBsX8WLdEgZuFXZzLKpyx7CRlLi1l6fSUIALUOQNP1xOpU1kNCdrc81X/8ADikunLQss8TDtu+2ldNEOBxRq6v7YbwSTDBdAOOThRJVf8uoilJZHMSLuQjrZ0k8gG/4+21nADytiTlYkm5wqeaAus2aIdYinbSRFqRWBIsHgBroEC8RqMZJ1N2xv6rNLmiLT+FXdnMRjSgkkgXUsyg/pqL9Q0nyduOT/GOanSDCNIMTKoXyZRYps5kxoDHuSSusrVqJVqYAPZO90b+uEfR0Sw7nPJYVpbeysMt1jPZeeOKWTupORJGtitJ/pBoABef/AA4Z2unZxsTZV8UOFsqZ/wAeUIwky/filZQ4Okqsik1o3WhYs2BiT6VNm0qzHqVH1uEK0W9PTKhttIK17DSNQ/pPjnE6flBgWCMg3KU5vK5uSJpkkIkpTFyrEqLpVO59J9sTc8uMDOyeQB6Jk/YdyhJy65hSj5yOzvuE24G1g15FYz6IJgiDzlK1Lmi+ZkgUOyoxDGNnGkgDSpIG1hqql8/vh/GnTqF+mIWDQ0yqzMKEI9Zgt+6yK49UukgsAbFggnzvWA9+h9rokasKJmpAqI3baLSzmSFXVUvYUFu7rnbb98UqmiNrnKWnMwfZfOYMpUENTKpog2Kvkjxj5wBfYhW/RizShmXUNQJRTRZbBq+Bx/GJvMtKWp5bLJfiWFtUOZ7KRiZNohZAQEgAbe5sDG4cyFzUnSsWulCqBuSKPnkeeMORAXRqRUsI9KDrN87ihV1gwhKt8jn81lHWTLTvBMLQOi6gVqmAG/jn+2FI5WU3UmuF1tTonXendVhbLdUgBkRAuXqz8xvVuwA1bnc+ecMytpOl4BleXXoFhli310PJ9OkyX5COaKINGInmKhaJoMVU+nUx2HI3+uOFzJdAsZF/dEVNLZK5q+K+hp0XrOcy8qSJlNdxkKLc36rrah5oY7KnlMZjddNGtrbIysfUKXcalcq5YEEqDXG29UBhNdoVoJypLZxpS7GdrkMfbda3Gy37bV9sDSISmeScc4IQH7vbAABkJJOldipYEGjsffBgjGUzQcpyZsPKxkMjxqTaja9ZJJu+BfGEc0xJRAIELKfhnq2Yy/UNUU0gl1L8pqlLMw2Jv3P9sTc0mDhJUaS2F0f0r4q+JuiAdWgkEcZudk1lVZA3qURs3Js2fbbHG6pFXmpto+XKoup/EPQPj5Z5Mw0nT+oo4/WRi0RL6vUSb8iz/bbbHrUatB1ixzYXC+lWpunIWsPjv4f+I/hDpWcm/MNmOmZgpTkMwCuBxRrSwrkbj+cdVTgi2Hsd5VuErU6rwIhy5xUhvVq3sDuClI35BH8Y5i6DZfStEKOUctwxN7V7nehx/fAiUycxrU49VKNR/awed+cZotKyEj6m3f070w8AeT4N3WGlZJIzmlVV3B9Ys8ffyLxiZWQwzbsR3NAprFivr7gecALJxAOlVHbc0Qb4uyaF7c73jIpC1MdWkKy0Xuia3BA5xkEqEMpVXIog7ABQD/O1/XBBhZPCsiISSgcAs6gkgMfArc7fbGcd1k1m0B7BvV6KAAIbmj543xpPJBNBIsgE2upl3rb/AKa+v+2ATCKcdRIJUg3uSAOP+rc1VecaIWSlmBPco3u9Xeom/fbDA2hZB7mmgqm03XSpBpjuPHn64U9Fk8n1IKqjYWtxQN39N/bAMbrJNbPRMZGoEHfYjxz/ABhg4bCFk+NVMkdMx/qvjb3/AIwjnFBZPGDBHGqr6iCSTe4HO2OKo4EqjbIbyCRvU4Hq9ZNkAnzsccpsieSlZeRJJDEaYCgSpIsmhVbjnHNUBAlUp5glZNlRqBhrVLHTRgDSduCDtxf/AIccTozsuph+n07+6yrJ95M7lpxC+mKldXutgRamxzsDfGIEzv8AuuprCR339FdzTKFkdUBRWoPXGomq07AbUNx/phS0k3VNQCdGzjLRwiMicau2lENzVEg1bHcG/wDfAdBlPr22/cqX29Mqrq1oqgkNtuwBoWRV1f8AliN+++5TwSpuVyiwo3dOhmGpkPFgCwCTZ258YP276JRJtj5boJdnWrbwUXUKUsSeBW9t5/2wQIPffYTkne/sp+Qm/LRPrWxZWNgNTA2AdVfTbnAAwtcmI9e/2wpizj8w0koKxdphq/pJNHSAGNE7n98EttE99bINkm+39726KDBHJI0xEagsoMUTr8t+434JsbWf4wC07+6H+07Db7fz9VY9LWcZ7LawKZiClAbvd6dVEk0L3++MWgLMkmMx3e3eVsHMQxLJOvbaWMT1Kx2X+keoKdO5Ne9ecc72lUBAOZHcqZ1vIwNlsrmcjB2pXVWFrRr6Dbe7OGcSY3HfukLbT9u/7ysfgGbyYzcUMQ1yRssq0FGojddgOPp7/ticX9EwMQe+8LIegscjBnIJj+YGaJ7CsANDru55Pubr6fTCxaY76JmAgEX7t15fVZnk85E0OXikmWNISXOokW3p9he9WPBGGHomDcndSnzG805TSkQtYGvzYA2FAAgYR1TfdMxo3j1776oaz5j85FKsrK7aXCUGULXI2NAeK/bEnOj8roAAgTN+94WZdMzskU4zL6qWtLIF2Fla03YA8+/2uud+Y7/ZHUPf59+3vi28eg9TkmgihK9vt3qjHysrEVq01uBuD9OKxx1G75XZRdfT8u+5W+fhTNvkGEi5lpLFRR6xuLFqbXZeCSRtztjz6oB5CF3UfKLnJ79O911R8KZx5ky8auIUzEbJIp0spmegaL0DoIqxfkEc1ytglcHxFmScg/b0WE/4mvT8AK7ZtQUaktSmpGZkMiqCB8oQb2d/FVj7r/DKJdxzQMBfBfHXhvDO2v67fgk/dfK3PnLRx5rUwmysqTS5yXRqZoYVagQCbLA6abxycf0CyqwUzIzM+2F+SQ4kEWdK+VHW5sjmeq9Vm6VlfyvT2zErZTLA7LFqOlRweMfDOMuPqV+lcO0tptDjJhVekfqgUgILffTx4uqwBdVlW3TOuZ7IM5ikHaBqNXNgWdiNr5JxiYUKtFrxdbKyOelmUZ/JZqftwEImcgfSwCjVpKAmjq9xeOd7nT6brlbRDRpIyunPw5/FD/iKr8Pdanil6lGiNkZ5W0h6soHOmtSmgPrj3/gvxQGp4VZ0k/pPVfN/FfhmloqUxaVuJOuGFHLK00RBiUyE0Ay6mOkgCyRV1/tj6QVBebmYyvCfT3VnH1iIRNIsuXjCEW7qQSD6dzdKFv23vFH2F7hTc3UYCn5TqWpsuzzjOSZsyrDCAyyO1CwQbI1BbG29eOMNTcxkHczjokLT6flZEvWO3FFFmJlkAIbQvqjJYMFAegCQaDAe/wBDizqga0TMm6iQCOSjf8VZgkcQtJHWSUuKelLEmyTem6AG9ADE6TjrBBlpP/68/nZOadp3QD1GGGSONnijEM7Mrqx19skjT4JbgGvp7YUwyCIiTunLNXm3IwvSdVy5zEfay4jDh7YgAhlsJqFkN6Rtv98Y1mOcXBpIaNkrWu0ZTF6mjt3VRQnMjsS/pphbCgBY4NeAPOHY/wASIkCJIOL9ExpOaBJTZZG7csLKs+VZRpkU6ZNLamWtJF0RxdCvOImAw67tFhFj0wntIcF6PQJMqmkMhC3EK1BrIRmArYsTd716r2xVtNoe0RLYEibymFWdSV5Y8oY8wYzE+o9wAqxdloohfc6TQBv7Y5alNtM6mggkn6I03yITE/Syy0VSRoyksicLuSoZRYJI4+u4xUGp4YNpK2qYaOa9DIpZ1MmpczaKVUjUwUXbAcadyb2AwNbWDqrFoAJTXEBjiV4wkCxNcDsQx0sFBXSSQLog3Z+l4R9NhAJEFSa57ZvlR5CZonmkcwlXWOVCrEmi1KrAHYiiT9Dtvh20zU0uxzV3VI9VFlihErqJAjRkfl5Uf0UwsDVwxHy7DESAXEEX2WDpEquTSF/UZtZZiTpBjMhOuyL+24G++2Ax4YS15vyTl0t6IEojlCTRznu1oMJ//R0i20sNq5oVycF5gaj+qITNJbYYVbLXZgRYBrlB7bll0XHuxCgUCfqBveIP1aLiV0OIlQ5NMkcrRoqdmVe06BQ9ABvUWN+/vX2xNl2E4ITgAHEyFHzKKGgmTRF+XeJpizVqlYUVatwBexIrxhnNFMlwMGJucn2UywOBBVYY1UKDD2517qGSLVpYo21XW6g8cEHAoV9P6mkOO6GgubY2UKeOamnV1kdF9LsNFAED17AH0k6eb87HF6ofBJueaTRLrqhzcMTRtGEKlqMKeklnZQ1CrWgw3NfbfE3FjoAun8IMOrZM/LrPrDRFMxEVBkKk6QpDEE8MGonj9zhtLSx2xCUkSCFWPlBTAoJfy4A0FiLL2A3o23NUPP0xJt2ibwJRnfmg5rp0iJIqqGzDC5WWgwWwFFEaSpoX/nhqlAwIwm1RdQVM6NLGSYwGEcjPsgKrvtyStjkkEYhTH6uRVCdUQnR5mcTxvpfUhK5VV1iwFUFa8HbfyMOxocdUX26I+JEhSD1VkLF5tBnKqzuTpUrWlJCeG3IHvjndQ0xJyqB0dUcdS/QpAq6gxZVjU6SgBGlm8AgGwfpxg+EWxHm9FhUvEEJy9USeNS0rtBKG0OKIBb0kaVBHF0fBGOQ0yRJkSqipAtlFgzssk0E/ciZe2Y1SwwWhpJYELZquRigFQFr2xb7c0rntA0r53GuaAVgVRbFXd7gn2x8/7wvsVZdOmkysqywmn1bKTekXvtYPOJvxCDjJus/kzuU6rlY8rnZBlM8aMRK2G0rqskck1uD9sV4djS25hee4PpmRcLD8zk8xkZCMwUMTALrjYEPQvZhfuBzh9MTNwuunUDwo8eZie1bQHsbAWNvJqzYsecT1SngokcwVgzpqRDYTemJ/mvN4UzsjfCs8hm5YswGiJQ6zodT/AFGyLPI+2FM5hK+nIW7OkN1LJ5GHqH5lo4xEkgVbYAWTdWLOqjZqv4xwAgvXIRJgWhR3+Iug/Fifk+pgZbOPqj1XsJJOWAO+3ij/AAKx6Yrw0Bwxv6rjdwlWkdbbhY11n4QzGSVpsjKc5A+4qMqGQcUbNVsaOOmrw2uHU7qtHjgTDhCwdxLFOUrTJGdJXVZQrzY5A2uvGOUsK9EOaRKC0jrUgYBdTakX+m/O1ffCqjRZMjnVSqu4sEsWuiVr5aB/jGN7LFohZd8JKX65lakeydO4JY2tXQ22q/bHPXbLYCk64suzc9k0i+BjmMxBHA0MFDNAWdz2wFpiSSd9vHtjy2N80usQcc+qUHy6RvdcOHOyRZ6V8vmTrWV3EiVo9JPGrY19se0QLqpAgdVO6l8d9czfQpuj5zMPPlJb1ayRbqNmOx8bDfbFKFV7QWky07KLeCYHh4EELXD6Y2HpCgL/AMzkGqNCqwbnK9BvzTa1DXqF/U+D7c4aFpPJNZnKiMyWQLVa1AgeffYYUgAwCmylLFlCFh29XcsXsDyRfJ9hjLAAICnRTFyy6SWA4Kir3NYyyfJsrE/Ky6hfv9cLMZQXg6Egs5XfUQDpAsbUTvt9MEGTOyyRfWHUDUSfUSPA5PjziliskkcuykMord1HIoVQGEOYWSsbDgajvuwPihz9MFyySjoDtywICPtSixwNwecYusCsvEh6ZtaAfLRNnzXjCl4RTTrrWQrNKRtvqYDbYE1fvWCHalkTQpJbbUDQ/p2A8VuMOAggpqrSioLN+/j5T5wosiipqpQwqqsDkkVyeOLOAUUmmQs7agNYJDUBt7jxtXtjIK46VCs06IDbEkEgncGvHiq4wlaA1YLIc1GoEoKAjTYIsgUN6POPNcbpwFi91K9N/USG4ujX0HjBOEhMlXeRMelpZNTyKAV1Hfna7HsMcNacBXaQ1ZDlBmKD5b1hGDKKJAYcb/Sv+2OR4mxXWyQBCz3pspknhUIGEKnU5NBtzRYFj4BINY5HdV2CS6Se+5VvmliWBJGpnYo8kSmlJF8jU1rZ2o4UPuqtbJnfvHP2TlP5nMoynaLTfNLQsgDayeK8jAd5u7ptQm5377CyJsm8glIHan0iPUQ4rfYatvqfP9sTLR7T0ROPn2e91ax5WZclmcvOYw0gYyqSGJFXyOPaqwXbd9/NGIBk/fv6KplyoYIC5ZSNJYEEKfS1cVsfN/bBFggWm8xO3ex+qI+QzCskEIC9slgTsKJtiAbA5sUMEQRdO2AL99+vqpP/AAspmQCFTLgEsTufJABYkDf98K10737/AAg5u3Pmp2WhGXlMjAMp0oGDlADqrm9xRPge31xiPLH4WLQd7/n+16VVaTLnLyFi0473GoIBZoG9r2wA60/L1WJkeu/0VyvUnmgzKqBLKzHdBYUgj2O48X9jiRABjHff2SOi8fSPZWUWZzL9Nygj0mm+dSG1UL4+gvfBcxomCqkYI7hXE+bRdUwlMpRdZPym1+p28k/7c4Von37/AIWaIFxi3fcJIBE2XMrL2e6haWqCsNg9Gyd/9MC/yWDcDPfLvdHy2ZQNkCAyh62CWCFHJPsRvsa+m+ARbI727+aRrpMd/jqrrMTqwKspCg9sA3uQL8XVGr+n7YgTJvv9l0AtiR+30/n7KRlYZnmVpNKlQyBzyNN87gWBxQ/1xAmVdp3WdZIPmdcNd2dEL3WvSLskkkHYUQMSJAEyg2NJHXnfv2WyvhDOSNOIy2loGFpp1AnbYHncAedqxyVBYldlOodUzJ9Ovf1XRHQcpNK0EsIVnncSTq3otCw1FSN69Iv9t6xwPsY27zsu6k3l3+fWPoF1l8FRSZeaGKaN4uy8b5eZHMaOW0KyjcKFDGxdi9j9eEOMyPTmuL4i7U0jlb6dha6/xU9SbLfAvToIgXyud3jhddBZGem/Udtq0qWWq38nH6X/AII0P4pxINhsV+bf5RU00dJyXQfkvkv8R/E2TyUebyk3ZXKzntOJmQkao6qv6tQHjkccnH7RVqspEg2BAyvzmlRfVAcBcTdfNrr8UEPV+owwFZIvzLjLOANOjUKqj7HHyb4LjH0X6Dw5JptnMBVAGogrWwJU+K+v8YUWVoU3p/Ss71fPwZDpmUlzGemKrl8tDqLk73VWdqJs7AYLaRqnQ3Jx6qNWo2mJcYCt8pmcz0POS9Pz0csQUsuYjdtOlk2agbHIF4SvSc06d8e4ykGmqNYus/GYjf8AKTxyHuTVLFKNS/KDRLDcNYJo0Mec7ykQka2xBXUPwB8XxddycXT+sgHrUBLRyrJT5uJfS9AUS4FEkmzj6r4T8Ra4eFWEHY9F8t8S4A0jrp3afos261nunfD/AEmfq2eZ8nl8qHd9W5USUyiKvmOo7H/LHuvqtptL3WAwOa8elSfXfpGe7rl/qn4mfEXVpO/ls/L0iGRSoy+WY6wmlhqd7Gm6Fnz59sfKVeMe9+4BlfT0vh9OnDf1Ebqjy/4j/E+TzMWVyfxLm8oFkJkcvrFMtLHRBUC+GBvEWVajGxqMeq6ncDTdfSJ9Fsjp/wCLvVunR/leoSJ1aBdIy+YLMrFwx8UBvQHG9c46qHxStSp6RDgJHWJk+682v8JYTLTBWXZL8Sum5tJ+3McvmI9N5edxIUdiAUAu9FL4O9Y7qHHscyLj1XJV4B9MjdZBkPi6eciIIV0u4/MlwDpYaNwm+39N1tj0qHFvsA2CN/Vcb+Gbtg7LJ8p8Td3WJM3rMjalkQKC1DSwbSADRvULuj9LxdlXWSA6YJXO6lFohXWW67Os7oxAdVkEcNsUYLZtSK8NxdD98WpPcwl5EuuI6c0tSmLKwg6q7qe4IgVQt2pGY0GW9JYsLKnnfn7YV2t7gSWtkbk7IOpxgq4jz0TpJ29TuCzui8xjgsHvcHc8GqxXh4cdIM5k7D+1IuIsf7Xpc3CUkm9CpBpicBSy6fStsBdWeb++3GGFRpZJzhTIIOnCiBtDyTxss7pIF/KkkVGRQCsBV2Bz/fCNIDdUghXBMQ6yU5lJAC7Mks6s8kqrQiePUF2qx/T7+9YJpayC8wi4iQApUOahjhkXMTahEAWEjFCSaJHkEgXdkYowXIcbXPugZnVF1EV8sqLloiB24hM0dbxqyWEFn0X4s/54m0s0QTO6bW4mYuq5py7CS4szIrVPMP1Alk0WNDSwv7X4xNjjGpulx+oVWiRGEBM2EkdyFjnlGmMNLWnXvrOmzXPi7xGnpadTrkppJGmYhQjmgspCXOBpXUurtpI4DcEEEWLJr22vDtJaSP1jmqXd0dyUNZI5Azt8zX2mKjbVuyElgRTLV+2OdrQ0PJOcclYOnGyjZmQ6mg7S6SAC7EFKYG69xqX2+uGc4h5a4CTvkeyYZ1So5DSP2hCzI6h7eQHU23NckECvpd+MI4ZtqWMZlMkQx6I51LyOhchjenQ1aao2t7fvgvd4R8wulid1WnKvMj9xbmiTVmVVtMdMfUGPq3W6AFV9+E4dwzszI6LPJ0x9VGEKSp2/ywhilOnRKdKljq03vZ1AXziwqgGIzlbw8bqtaLtqrMhVltS9hDS2GrgE+1ea+xk0jTAtZJoKjPEyyHMHXvIGBNBGvddRAPq01fjfFB5RJMrETZRJoBKCs6LlwK7krbq1A7BUsk0d/Pt7YSmQ8GT6eiI1N9FFYgL2pCI6ULKDroxVZq69JJ2re9t8Bjg0RNxtzTaZ8wvOyiSzrpkyxqSN3YzxvV6zbDQNtuKvg2MA1WAaMjcHK2lxaYUGTMrqeQIoKh3VTHpRSQYySQRv9xV++N+mIz9lmiPVRS5QJFmJd3jUIrELqdiNSE+bG1CjfGIvDRDXugHf8KgaTcZXmaKLuSSao4NgILv1agNr38YzmtaScNiI6IyT5d1whq20sQ4o7+KYe+1Y+XX3IV30kEzola1DAqo+YlvI3HHjCuMD1SvsJVn1gGHM3HMJGOxbdd9vsNh/5eC0eTpKRhlTul9YSSM5XqyK+UUAKCNV6V0rxuarFG1Ax4JuFz1KEjyZVhn/AIaYXm+jOMzkwmp9J3jNWw3rYbm8Xq0WuM01CjxUWqCCsWYOhdRuy3qok78fffHM6QZOV6ILSLI0LlZYDT60ZRrBI0A+4A5+uFLrSifMF0VlZz/+LuaEPpXvglrKWL3O2w8bY8WYeVyBkLQWZlKT5sxt2nVmZTuTubIJ3vbjHsRaV0gwsv6H8ZdR6ZEsMkgmydDVGwulBoGr+uGY5zcbrhrcM187FbEyy/DXxovYMUHT8+TSF2EW1karFgsSR44+2OqlxDap8J7QDs48lxGnW4Z0i4WCdc+COr9B/wDkvEMzl1Lac1EwZaBKE6t7BI2rE6vDltgZA3XTQ+I063QrE/ywRWJ1hdTNJLp4urFHfYnc4gyNl6LXSFlHwnBJ/wAayEimUjLyLJIRtpJJobXt9axHiSQCQkdcWXZfxY4y/wADLPlJikP5U60bSNJJ3s1uWB52O/GPJA84cN0lPEbr5+z5uRpJZWFNJIxO9A7kXW5Bom8e6JF9l2FmAoeYnVlOlQELbggsQCKPzGhxz5wfEdssGEKvtAmgvaJugA4O24J/1xo53VGiyY+5FiiR63NUQeNh7XjG2LeqK8sp0gyKUAOon2NAXZv32GAUUKRgwDqDS1q3obb+TyRzjBZNLlTWwcADSfAb2222wdUWQT9RBakC6tu4dt+bv9qxky9yzG23qwN7+/n+MZBJ6wiAnQL3DEjY0NzvgFZItEmmoKQC1UAOBz5rzh4BKC8V2I0BkZRQs7ACyfB8ecA4MLJA+4cci/STfO2kn6jAkLJFIo6l9OrSaHP0vDBOlEpABYAspDrtRB/b74V6RKWlILMdLNetuWLeLxhhZMR9Ui0fUNjfzFQdiPGMmRWctRN9xgEJ3s7j35q/OCBKyIAYSikaXBOpeCRtW+3P0wwtlKss6JFHEJpDvtqV+CaPO/vji4hyLSn5qcESb0HALH3Ja/8Ay/8A3xFOHKpVViAcxijTMeTQ3vxV/TCuMqeDMKblodba0B5BYAb2ALoC9tsc9R0WK6Gzt333ZbC+F8u82ZVOzpsEPJ5+u4J81W3vjz6pEruo3N1snrHw/mcoY549HaUMSFYvZAJ3rSbIO/HHGOZxyukOi2/f9KDFNrTtoA0oU1ew0kEEBdQAokEE7YkcJ4OInvvZXaZCKbpcHUsudBpWGx0mrH9QG30+vPnDA3VG39cfb1+X4U3LdZTPjLzPGFmy0nb2QmtNeo7ew/nBLIlOCXWUyKZ3TWjLIz/OLOoAjyTx77jf64BAJ5BEm0E7/Lv19UOOcOzRSIJGDeiVW9TDm9Q/2/1pA+/3WmTyH0+vXmpCPlzM6/mE0+lCyjTemrF0Ob4/9Y2re8oFowTnn/HYU5s9k5czIrEl41EdKHAZgTQqub384AGkeqIAJjv59+6jPIUUn8uzqANtwxvbwBzqvkf3w0DnZaLT33z/AJhM0SLCJO3rWY0gFELVAgWTudh+22CIJg99/ss50DqnZR1gkZ4RGBJuzmyCxuiKDc0K9zWC9oOe+/3Q5bd/up0WbEOUjSiNDDWQAwthtYNVz+2Jlt5KwvdSf+IjNIElJWKwwdVA9jRsEXzd/wB8TIgen9I2Jt33j0RV6q0cciBNLFmSNSCCW3AoHe9v7432TCM4VzlHlfMpMdOjLoohkUaF17ilG3A9/wDtiZttlIABe31V3BAztWlw8koleMg623JGpqPIvfCOvnvrlOHQ7njvHZ+Sz7L5bXTKphRyrRnkAFdz7eNqxDTFt+++q6dQsScT7997LLemdM7L60SpZdip3BG9EfyNxx++IuZzwuhrhNj33+62Z8KdFEbdwxDTI5CljTKQSKpgSDbA7ivptvJ7fb5euyzBJMC3cQusPh3prrHk1iC99PldWvTrWudJDFFqwTR9vGPNqDn3/a7hT8sTee/6jGV0f8MZMKYwZJh3CvaiBQqodXBfSQAKY721e3GOVtKXA/33hcHHvNz85nmN83HKVzN/jUzjZT4Y6WsUhmXNROlpGY1k0FlAoGyUNeAB4uzj9S/wEgeKRcwvzT/KRLWzb3lfCD8RerdXzGb/ACaiWplTXYKkKhtQtbV5/tj7vjnPqEDkF4HB0qbRqJXP3VsrNlc3IuZj7cpUyCRgRrB9scj+HczK+h4d4qN8t0nQ+nL1PPjLtmlyoCM+o3TBeR98cXEuLWTk9F0QuvPwZ+Hek9D/ADuYyTx9R67r7ozuhldYdNhV9SlQGFmuf5x63wGsyu5zYOoQR7ZXz/8AkHigtB/TH12U38Xvwji+J4H+IehdqDr2UTuZ/KIVX82qC3aht3ARQrZt/OPW47gBXbrYYevL+GfFXcO7RUuxclZbrOd6WBlJECrHIO5G4I0stgqQN798fMOoCe8r60kPE8/ssoyHxXHlZ4M0gfLZ7L0Ys0NtIFkgjbYg88/Wtsc76Ji2ZUCwkRsrb8R/xY6n8ZRdM6cVEGQ6dAEkWL0rPIRbOFFBV3qh98elU4qpXawPP6QpcH8PpcMXFou5YYmc7mQU2okjATXYVlquNuDWIuNwqFul2MrGps1JLO00jverfb67Efe+cFy6WsLVm/ROuBoVizIWR9HbgVQFYEMCpd6o3/ahhf0XC4q9CbtWRLC5kmfLFvXLeXceksVtr2+pNmv88M5jnNzIKiDAErYnwR8RZcZrKZXqxTLdydhC0UW7FQB67+5P+lY7OA+ImmRTqXauD4hwMtc5tlvzL5aRO4ZNBOYKlhoLB9Sk6STWkUaJHOPp6UMa4ki8QvnnyQrpMioWTQpCx6o++myAy1vYAva6vf8AscdEa5AxzUjbKmCPLwZc1bxQsoaqNal1Gtj6a3LcX98BxY1tsjKk8PJvZSTIuX7v5XUyKf01XVqYAAFfSNNAC7vffDNhpJZ+nYIEOdndQJ8/KI+3FnHiVFHdCAimYAn3ur5P+u3O8l58pED7qoAmT6KB/wAfnQEKdU0iM00AvTZNUQNtz7jbm8Zp8PIum0B3oEHMdYKfrNIkRkdgxQhdUZHm9QoDiwfqRib3uLg+YI2GEWs1lXOQ6qJ9LrCJJZGOoklVDGx6RuSK/qrweRjscGvp3bJspVCWWC9nJI8usshLHMBRrTUTuvpLblqJNcNW/viNSlTDiYjomY4kc1TP1yE5r8t+Yjj1SCQsAEtjpZA51AHcVVGjifjBrgzYqzmAs1EFEkz8hUzSERmJpJS4HqGoiyBpbjmxzeFc7UZfYhEERpGFXSdRKTZiRz3HirZSzABABqZrFXqoAD2xFo1EiLKwftKiQ9UQhoo0eSGBj22d+0AWbVTsb2BNAjbffDsgSNOoflGADJN1bxpNmKl/TQxRo8in1UzAE72dyBtuN9varMolwLn8lF1doMFOk735hGljRe5+oLpqFjRRUeWYHG8Lw4DzPeVhW8qiNJIQ69sicEyyxs/CEgOyNuuxq7PvhPBfIc79V/kmbUAElAAeRGLqJkhUo8Tiztfqonfnn3xNlF9RtwLD3TeOAYI90BoJUiXuxsUcAvFaGQqF5Cm6AFbj2xM0dQ0mx5KofIsoGZyywyB5yxVJAczlyxP/ACioAJF2SAL+mA9oYJIhEEmwyoshUGSNVtSSzM4Q0CarTaqRZwAzSzqUGuG3uoroWZowhhaAJegAlW0hwu13xsB4se2DWMP0gXXRpGmOag5mAPIsg1iUkzWFNOrELZVqFUTWJv1Ne06jnks0ANICgyCQskvZLtF2zlmGliyqbvtb/ervAe4PfqFygBa6rJXAmlKyl8wAYjDGbZgL06V3tgrFfpgeMWm2eSJpl0CEGSEpKHeMZiVwUKxGyt7E2p3HFVveLCmQJjUTskBIkThQpBmGaRkeNTK/pjIUE6j6vqSCD7f2xyuDnNOiycQepXDMRbU18VQPuD538Y+dhfbLI+hWM5EQFBB+ZuNuDvsPp9cTqKVW4hTetSCTMvKTpkfdm5WybobA8H7Yen+nop01BSVkK/pjS7FVGrSSK2O4offDAqmmVddN6zmMnvl5THETpUVfpLb2Dfp8EecEAi4KjV4cOsVmeUl6R8QljM0WW6o49BkGmOQovNk0t7V/lhxUa67lwObUowBcKnn6HmMjm1T0uoW1zMYbS2+7EVYPHIrC1GBrec8l1M4hrxI+q3TklRfh6RXjSXXWX0vZZNKahYGkVVhuLx5LWAPM4lBxcAtHZjLZYZpooWOqRtJUL6P+oV8xHPOPSITh5AuitlsrqMesxsgOygEaqIIPmrI+2F0yUvik7JMopilVEcCVjZlZqGo2dh5o74fw/wDX3ndYunIWwei/Gmbyax5bqTfm4XYJOG0n0ggirN2eDeFc9zBb3XLW4RtQSLLLZOg/DnxZFHL06aPIdSjEk2ahmZVLOBuoIJG5A+5P747vFpViC7yn6LjFWtw55hVfSPhbqHTOuxDNwSSwrmP1Giunj5Gm6Irzf1x5/FcK7SSAY57Lvp8U18XzsujfiuGQfAy5fN5eRI5YPW4YAIJE2CgA2Su62teceLQo6HAmdK6i2BLV8/c/l+xK412uo+sXWlfm1kgcGh4x7sQdIXXSfIkqnkthI4LSb/PqG5PJAF+1YwsJV0PU8hVWZgUOtjsbA81scMCshsRQKaVVjexsi999vH0xjfKKaTpZdbFSCRuCeNzhQEErs4FEhlUEbDc+ASRgpkwmM0dRY7lidgQQKANbY0XSoZcBvW9KSGDKaBbxQO/OCUUqEIb0+kMaokBSR7/TnGFwmS6ggVQWZAdLE1fvf8HASpyui/OAZFOymxvfB5F/fDER6orzn0uEHIGq/Y+T+x3rBtsUqYzcsmixfprjf/bAvyCCUEtHQoqhLCOwN6A874Ek5RSFiPSZAmk7yX7cWawEyczElAUrtqTV7VRs7398ECT03SpNMtsxYswFlg10oo6uLq8CVpXvRGwKNWgAo4J52PJ9zjNddZO1kUzAlF2ZbLbeSOPOHN55oE3hZT0mRVy76gCqnTpFb3Xg7482uTKzXJM2Qnr8sQJABp2PvR2+xGOcGU9oVczNmWMSBljStjfq9/PvgfpucpydRhbOyHQnTLxPqJAUWCtEksPSNr+9Y8l9QO913NbHssryGXzOSjAhSNVMgC/0mtNjgbbnjEXGy6qbB0Hf0WWSfEn5mJspIuiSagwYglgOB7bn3HJ+9wg5F1YEGx376/dQJctE0JHdqRzpMhoFU3DIaJB2quB++2FiLc1QWue+/wCVKy0M8UKQajl0YaYzpX5TuBd0P9R98bVITS7F5/tEyfSxlc/N2mIUpqZiAobgjUAa28gjbDB1p7/hKQ0dbd3KvxrjhCKx70r63XYbtwK1EEWf7n6YmRe/f5TB0YMft3f6oTKwz2WV1Uxyn5gCCSwBaqI4OwBwurSOXffYWJttH83/AHt6Lz5WA55dIkKF9bncAncijfNttf8AnjesLAzIjHp3b7eyGBE088iipfS2m9VBjvv9N7H+mAOSxFpF/fv7fJSUi6hMpjCEJFpU77EKWAFUeK5oYJIHugfN5t/tbvf03VtKjSQxxtAKY7yWAPfc7n+/jB1EnUM99/ZMBMZUQRIZ8vC/qy8A2BvhTwd6G9UBgh8Iwf7nuc/b0k2wiiMRBWVtRY3rAPqCqQbI84V5Bza6m29zj+u/5UiLIRltjpIVSXYad6slm3G3qOx+uJgjvvfvmniYv3+wU5chGAHlSPuovd302XVfSONJ/nGHX8phE5WTdPh0Q5YtIyS5hSZR4FkXsANxf/vAcVmaTcdPb69grNumRQyzwxqwlWMBAsinVZIGoHjkkfT+2IET7999lNTBJkGBlZyYUaXtxRrCBpXZd9Nijut2PvhDpnNl0hzsLOenp2IlRmJCjeM7Ela1DTve1g4i4iZVtQjqs/6Jn8vD24Y1WV0eJzIukBvUd9jvzd/9sc1bHqrMeGncn9tsrenw91pIFy8xnkfclpCxUbAlbLfLwQNhv9cebWJuNl0NeIIM++/Lc/NdKfAGdl6rlkmYxF9EhieKMpqHqOgB1YBhq4s+1XviLZBzP39fS3uvP+IHSOd/l3HrzK43/wAZHVc7mesQdOzUcuXGXQqil6BNUlekEnfkgluQa2H6z/6fUp1PyvzL/LKrQGtby7+s+i+dWa+C8tIyyyZcSByfWaK93SHHp9NgLf8Atj9ZbwrXTqbciPdfBeO4iQVpX8Y/w0LdGi610iJ2zvTy7ZxEB9eV07D0gg6b+/1x5PxHgpYNN4HzHRex8G+JFlTS82dhckRzywT/AJmI08Jtd9tjRsj/AEx86WB7dK+yW7fg34yn6UV6jlUWLMq0YnQHdwoA0j21/THnhruGeHMJBlc/E0hXbodfku1fhvrOU6702HrHSc4JYVBSdZCA8ZYO5UgAX6iQfoL53x978P4o8S0VaZuP1BfA8bQNFxY6xlc7/jf+F4mTN/HXw9EViiVD1fKrep3YbzIAAKHJ8+ccnxHgvFa6ryif4Xt/CPiAZFJxnZcmd19JEZpnFM+7A+fPjHzwbK+nAaUOQlF07M2vivPJrkb++DpCxUiDM6I5UddPcA12aAA5AHnBulc1AnXtsQyAhv6V8ivqfAOAAAmDuafl8xJl2K1cdWiA+n63XvgROVtIK2D8PfE0mWjDPC2beMehlUF4+FOkeRpA2OJvLg0hctThgTqCzF+q5aSbMyFNOaUq0ayo0DDTx61+UsNuCTjloRpmbpa1M6odhbr/AA4+NYeraOh9RkUdVly8c3TS8zHuhdzEXIFtRBB5sY+h+HcYHyyoASYi6+f+IcG5jdTDAnkt0xqMmBJl5FgQxl/02A9a6SFCmwa325G5x9G1vhS5p0jcZK8YgOzlFzY9UssDfl45FYFnJKgPXcIJB1HyK81hNLz52x6FBpgEHZRJpYVpZRLGFXaPcakCnSK5DbfzvjNeRBWDQ5VsuZEkThgkAWSMxyS7v7WpAI5N+3n7SrVCWEERcJmMAJOUCSGMx5iV5YUZpAjalDHWoW2GoMp8GqPnjw7zJiUos6FV5mGGTJrmWmja4zOqqBY9vm53O48j2N4sdIZqcAZREh1lWw558rm5Fy7PKjuGjMbbrQ0qNHiqBA4r64hr8OdAunqAIfUOtzSgtDAiJl1bUADQBBvQWJHzV/lgVK7qhIcIgR7rU6TWDnJWHZTO5mGdpppVkG7OqwHcqpQ0pJFkHfweduMctIaDqyuioBp0hZK3W4pY/QXXuL+pKN1UgU5OwNEG+NvIx0VuKBAORC5xS1YVbJmJZPUk+skHSbYOY39JjKgD0itjf+eFcJAMgWlO0hpghRct1BoWgaKUyMwKqrgNYAtGNDSfUb3wtN2k6lWp5shZf0rr8MWXVc36UltpYzbEgHQpIJGwJr/tvjvo1m6ZPyXJVoEwWoPUPiaCVQ0rhhG/ajj3IpFAUClG+w3A298Qq8Xqdje3oiynAlV8PWHMkkifqSKQdBYAqSAKYccg74xdLpJiNkxbaFLPWmMp7UJEHcXTbXTb6wK51HesUFVxMgImlAhAn61CZHc6lzdsO4fSpHO7m9P3rmhtjmr1dY1QQQqUm+UHZFVozGrRSGQyqI3jsuS59W9ihoIINcfXAdQAYABnqlbXIOEVZvyzRNKwmWMKvaL3YoalqyFrba7rDO1YITeUiBuia4C7yPGoMYVVKrqL6/6NSkHYUADhwGucXc0122UWSWJlLMZbjkISchUUAWNCgAb+N9j9MQcxpBOoiOitTeZAGFX5pIVmjklkRS8aMs4p6Cg2Afeud7GJ+GaJmxJbI75oB0i6qx25EVlEau0gMTqC1gXtuLJ/v9sLRb4hAdmUznaXW5IDSQ6dKAprZY441JMhdQXIFeCB78iqwSWg6SDBOd55eiDW6lGzeWhmSWNo3aKV2qIuK1g0SXF1uOQPpthSbSMTEKrRDhtC4IXhdNfYcX5x82V9msn+H+1+bj7uklmG39K7GvocRfhSqzsrL4iXLiWFopC7b+githd1Xp3PubxSl/7anSJ5LHVMhjqioI9LNvVcVe+4wQulHYnQA67afUxPpuhpvT/fbBMpXImTafuKIEfXrGhrPPjZtucJaL4SkCLlbX6BmMwMpDH1zIQt08sAk8siiQermgS9X9KrD8OSJ0iQvM4gMmxutrQp0c9JzaSzKuWeMFJpVJdDQoANVmyb8UPvjgqeH4p0/pgfPkqDXoErnzPq6dRzqZV1myvdapqrbetmo/2/tjtsqgCBJUVjnhFF3FLAxjsiUjZC29cHbzf+WMMqg0pXbPCSIzoGcC4wNNkbbUCP6fc8cY3+3VA6UaKTNDLTDsalbRrNgBWHF7k2R7f2xSpCmQDF4V1kn6yZWOXhnGY7ikKrNzWwBWxx7fzjlq6NPmwt5F1N8JZn4hbK5H/j3T5Uy+txku4yk8HUSRJfPGoe+Kt/5YZuWLynij4tjf3W8xN0qb4Qza57J/lMicqwifWjAWo00FLEkb1f8eMceDJkt5bT6r0CJabx6L51/Fq5H/iOeXJSp2u4akA86zp1A/3rHU0umQPZdVGYWus1oGy6WXUwJHHG5PG2HtpEruYoKaSW06l2/UK6idr/AH32wzeiZNF0pBJe17arXy3sAR4wqKZGdwUUn/qAO2nxVbYyKRhvzXuBdeK8VhjCKcNIo0zWwCgbKDZo/fCoJBZd7pXoEcE6hyBq9xjXQTvVoettjdcfW/2wRhZN9NMN7C2pa92rgX9KwzUF5jJwyg7jU3n6c74RFBkLgNSgr6S9fbYbbe2EOmUCmkvabWg4+tk86fY2cUKRetb9Qp7FX7b1V/XBCcIrE6hqBuwAW9/fGKwT0sKdNmMsd0J22P0wW5ssmP3NQrV/9eK0/T6c8YUJl6yI3AAa67jHYDmh9vfDiEiX9XSxF+e4vA/fn+2A5TfEq56WZe1IHRtP9bWvvjg4nNkfXClSgaVDFxbLbG9jW23+3+2OO8qgVzlew2XjvSjdxbNAmwdj6TdHxjlfqBXSIhbIyPdZYO+e3N6jFXPmwL1Cq+v2x57oXXTAV2RnzBKAXBDCmGkkrQJv+qq2G2nC99yuhs7d5UKED8zA6MDJSCKHaym9EEiq4vx74i7CuNIMjPcLJZP/ANsC2kI1lFUAkb+oWpG11/bjbEk0+a/47/r1Tc9JmPyeWVMu+oyi3DLpC61u9J4/bj3w0CT32e7WVmdeXefdXketM3J2wZX5jIpf6dwfIWtPPnnC2i/ff2Ualze3Z9u+any124mUH8xI6d1GI7iLv5ce/wBzf9jfb+E15t3fvnt0ROo9jWjR2HFCOO7BW9yTQF3fOFaBGVnczj6x3OFBkMpRfy6qH2B3NgW1k+559t8ADEnv9kxm+qe4x3EQpHSgxzM2tgAoN7bMLHtxvzgiN+ylI81+++t+Sy5fyAyNZchi2vuFAtDm6uj/ABvhX5vn377CsPrv39/qgN3Q0S/qFN9D36gQN9IYat1rBLuQ767flKbkbFVDhO6+h9NodwHaiCOPlG44rCs7x380Dp6d9/ZTkXLdqAF11b6S183sRtVe+A6f6RH7xz/f0VjF+XLW/pIkW0Xy1E+gix9Pvhf2SiRMYv8AL39lLZi2dpV0HRUJYWdJLWfS97b39OcETF+/n/fujTm/Y/tXcMk35k64BakXpI1EGwL3qhyL/wC2J2i/1wiMGM/jv89Vf9PkzozI0ZdWI1GTUyiwFGzWbFjn/PAIbG+3fzTtt+nos76Uc809yKscvq1rd+myDuNr87i7wHxKu0Tz2jvlnuCsli/PlhQmS3WgKJFcafuL/a+MchTkd/JZ58PCYNDrLkaql8p8x3307Xzf8Y46mVZs6jz77/GJ3p0zs/m5Da32v/lrmBuFNarMhvbbY/yTjzqkhvSe8e662wTfNvz3e30XXX4YDKHJRxhlVzpOWmyoUgW6EikIY1JtxzW/y1OhOq387/j6T1XnfEdQYIgi/pg8xy57dJXDX+LpJ/8A84nOWkzAk1a9L+rgepLdVsE3RHH9z+y/+n5eaJyL9F+U/wCVAeK2T/quK81NnmDj8nJH6Yira42OkEiiAQdzpPtX0x+nE1NZJG2On7/VfGQ22kqgzMs6TZgZzLxTZMNKcw0pCxFdIMgotXGxP7jxhHF4JkTe+ITO0yIyuDfxCy3QIfiLNSfDfURnOlzuztAqSqYJtR7iWyKpW+CpIrzj5bjg3X/2zznovvPhpreAPEHoqPorZtc3GcnG7gGnSxpK2KNtSg/fzjgfFpXa7pldOfhFmviqPqGZbIdNmn6BIkiZ1EkiqO/607jKC4FbA3WL/BDWFY+CCW31R/K8H40KBpecgOmy6igTMGNVEkK5ZY5GEmY0/lmTfWrDSQDWqydvfH3FPxdII/TBsY+pXyZ/VbK+dP4lZb4Xg+KM9J8KdQGe6fmGleSCON0WCXuDXGhZVDLfBUnbHyPGhnizTPqB9V9z8NNQ0B4gjktfDVakXRux4G/1PvjiC714hxqKsGu/Svg7XZ2N4KxhSIWJil/TpGY6O4QWXf774UpbIJAtWjPt6PH8kYN0yn9IHVPz0Q6GZv8AiF/omGtXH/22r3xKt4ek68Jm5W+PxB6h+KE3QvhjLfFvQvh/JpF09V6f1DpsnTDnpYNR7bZtclO8ga+O6oauNsePwTOHD5Y4noQfymqnmFhvQDnxmenfkFZuprmYz0/tECRpbGw1effVtVXRx6lONQjM29V5VbBn9K7pyM+bkghkz2SaDNGKM5rLoylRKUFhW1lbDauf74+34Yu0t1gzF/VfHVg0ON5EmPwiOZzMhRKUH0qCNJiFWFJsC755sbDfBfIBi9khDYuVDYMQVBAkSNyzkEO4sawAbbnjj6YWoDoaGnlJTA+XFlUyzZgS5knKq8jSEyKzRqysRVN6mU1yDfHG+I1y6akj+F0M8Mi1ksvqAebVFPojWKJbI0kPrZPqBdAG7rCNDYknzbhLzwoxOmdyUWSMTIqrAaUqVBLR1/SDQr7nmxijIA5hCr+m6gSfmTK5tge6PSdASh8t6b2J9t79sUol0gNFtz9kHaYvhV2cZTGS0cizDQI1BslNZAJPyhas8ffBrl5c4uEO5JaUSYwoDENpcKsc5UBol3AG1FKNaa4o84NOI+6ci+U0jLCNRG0ba3cqzUNDkgFdwbA5PjFBN9MR7I5PJR81q/LyElewCO0I/mKax/0+qr4B29jeOesHBvmMiLbLHKhFcr/8vtPH3e6wzN1fd2JOwvnY15wPLpEZR9cJXbS7I0YebUe7KCQ2q1H8+TY/0w4LA3ErM1W5KGQQsQVmdDKDGZPTRI9Km74Pt5xOGQZKcwc2TlLGKDvKw3ITsk6K1EhmuxpqwQfOMc+f9X4SmJsit+a3ZCweQRhETmNi3pLnggf+Xizi+RA2ShSMn2i6r61NpqlcCu2GIpgSdi24v98ZsC2RzKL5mRHoreTuWdAcSdsA3xdGzf2G23k84NaZskbp1FR4WmEcLNHqiCgrG7VbUwIJo01btf0HtgM1g3ukdpmyGpnSImcGWEspRVoVIVuls3qB2NfTBZGozhUMqJMZdcJzK3D2pdCkgcG6bSCNROwPP0GFf+q8Qs3VeEEtmFSHto0i3ajfXp4YPRArk+r+b2xAGBAE8j0VBdxmyY3eXMRMAZCRcaHTpC72FvTvfFnAoyHDTe6Z2bpHGYEypGbZFBaZC3rOogjTIor3O/N4NUnU2AIGOpT05iyrMsWMCnKqEiWjpsmJr2AtxQYHe+bxCBeD/t9U7p0icL//2Q==\"/>"
      ]
    },
    {
      "metadata": {
        "id": "mhZC8K5DLdGD",
        "colab_type": "text"
      },
      "cell_type": "markdown",
      "source": [
        "Considerem que les persones riques entren en els bots salvavides"
      ]
    },
    {
      "metadata": {
        "ExecuteTime": {
          "end_time": "2018-11-22T18:40:03.997238Z",
          "start_time": "2018-11-22T18:40:03.340545Z"
        },
        "id": "KQ2AGRiaLdGE",
        "colab_type": "code",
        "colab": {}
      },
      "cell_type": "code",
      "source": [
        "def f_class(passenger_class):\n",
        "    return passenger_class == 1\n",
        "\n",
        "\n",
        "prediction = passengers['pclass'].apply(f_class)\n",
        "truth = passengers['survived']\n",
        "\n",
        "plot_confusion(truth=truth, prediction=prediction)"
      ],
      "execution_count": 0,
      "outputs": []
    },
    {
      "metadata": {
        "id": "slR3S7DMLdGH",
        "colab_type": "text"
      },
      "cell_type": "markdown",
      "source": [
        "## Linear Models\n",
        "\n",
        "Podem millorar el nostre predictor combinant més variables?\n",
        "\n",
        "Considerem una combinació ponderada lineal de variables:\n",
        "\n",
        "$\\def\\RSS{\\operatorname{RSS}}$\n",
        "\n",
        "$$\n",
        "f(x)= \\hat{y} =  \\hat{\\beta}_0 + \\sum_{j=1}^p x_j \\hat{\\beta}_j\n",
        "$$\n",
        "on $f:\\mathbb{R}^{p} \\to \\mathbb{R}$.\n",
        "\n",
        "Per a una sola mostra de les dades del Titanic, simplement avaluem:\n",
        "$$\n",
        "f(x)= \\hat{\\beta}_0 + x_\\text{Class} \\hat{\\beta}_1 + x_\\text{Sex} \\hat{\\beta}_2\n",
        "$$\n",
        "\n",
        "Si posem 1 com la primera entrada de la nostra mostra $\\v{x}$ e.g. $\\v{x} = (1, x_1, x_2, \\ldots, x_p)$ podem reescriure\n",
        "$f$ en forma de matriu\n",
        "\n",
        "$$\n",
        "f(x)= \\hat{y} =  \\v{x}^\\top \\v{\\beta}\n",
        "$$\n",
        "\n",
        "on $\\v{\\beta} = (\\beta_0, \\beta_1, \\beta_2, \\ldots, \\beta_p)$.\n",
        "\n",
        "\n",
        "\n",
        "Com trobem aquests pesos? Igual que abans escollim una funció de pèrdua i intentem l'optimitzar-la.\n",
        "En aquest cas, escollim una funció de pèrdua anomenada suma residual de quadrats (residual sum of squares RSS).\n",
        "\n",
        "La calculen sobre totes les mostres $x_i$ a una matriu $\\boldsymbol{X}$.\n",
        "\n",
        "<div class=\"important\"> \n",
        "\n",
        "$$L(\\v{\\beta}) = \\RSS(\\v{\\beta}) = \\sum_{i=1}^N (y_i - \\v{x}_i^\\top \\v\\beta)^2 $$\n",
        "\n",
        "</div>\n",
        "\n",
        "\n",
        "\n",
        "on $\\v{x}_i$ és una fila de $\\v{X}$, i per tant, cal fer la transposada.\n",
        "\n",
        "Ara podem reescriure la funció de pèrdua en forma de matriu:\n",
        "\n",
        "$$\n",
        "\\RSS(\\v\\beta) = (\\v{y} - \\m{X} \\v\\beta)^\\top (\\v{y} - \\m{X} \\v\\beta )\n",
        "$$\n",
        "\n",
        "Ara optimitzem la funció de pèrdua de la mateixa manera que ho faríem amb qualsevol altra funció, mitjançant la diferenciació respecte de $ \\v \\beta $ i imposant que el resultat sigui igual a zero.\n",
        "\n",
        "Per més informació sobre el procediment per fer càlcul sobre matrius, mireu https://en.wikipedia.org/wiki/Matrix_calculus, \n",
        "\n",
        "Necessitem la regla de la cadena:\n",
        "$$\n",
        "\\frac{\\partial({\\v{u}} \\cdot {\\v{v}})}{\\partial{\\v{x}}}= \n",
        " \\v{u}^\\top \\frac{\\partial \\v{v}}{\\partial \\v{x}} + \\v{v}^\\top \\frac{\\partial \\v{u}}{\\partial \\v{x}}\n",
        "$$\n",
        "\n",
        "En el nostre cas:\n",
        "$$\n",
        " 2 \\cdot \\m{X}^T (\\v{y} - \\m{X} \\v\\beta ) \\stackrel{!}{=} 0\n",
        "$$\n",
        "\n",
        "La corresponent $\\v\\beta$ ldóna\n",
        "\n",
        "$$\n",
        "\\hat{\\v\\beta} = (\\m{X}^\\top \\m{X})^{-1} \\m{X}^\\top \\v{y}\n",
        "$$\n",
        "\n",
        "\n",
        "Acabem de fer una regressió de __Mínims Quadrats__.\n",
        "\n",
        "Ara podem definir una funció per predir la supervivència d'un passatger com:\n",
        "\n",
        "$$\n",
        "\\hat{y} = \\begin{cases}\n",
        "\\T, & \\text{if $ f(x) \\gt 0.5$} \\\\\n",
        "\\F, & \\text{if $ f(x) \\le 0.5$}\n",
        "\\end{cases}\n",
        "$$ \n",
        "\n"
      ]
    },
    {
      "metadata": {
        "ExecuteTime": {
          "end_time": "2018-11-22T18:40:04.852970Z",
          "start_time": "2018-11-22T18:40:04.000736Z"
        },
        "id": "BSDjt3DpLdGI",
        "colab_type": "code",
        "colab": {}
      },
      "cell_type": "code",
      "source": [
        "from sklearn import linear_model\n",
        "from sklearn.datasets import make_blobs\n",
        "\n",
        "X, y = make_blobs(n_samples=400, centers=2, cluster_std=1., random_state=0)\n",
        "\n",
        "# train the linear regressor and save the coefficents\n",
        "\n",
        "reg = linear_model.LinearRegression()\n",
        "reg.fit(X, y)\n",
        "b_1, b_2 = reg.coef_\n",
        "b_0 = reg.intercept_\n",
        "\n",
        "# solve the function y = b_0 + b_1*X_1 + b_2 * X_2 for X2\n",
        "x1s = np.linspace(np.min(X[:, 0]), np.max(X[:, 0]), 2)\n",
        "x2s = (0.5 - b_0 - b_1 * x1s) / b_2\n",
        "\n",
        "\n",
        "fig, ax = plt.subplots()\n",
        "\n",
        "ax.scatter(X[:, 0], X[:, 1], s=25, c=y, cmap=cmap)\n",
        "\n",
        "ax.plot(x1s, x2s, color='gray', linestyle='--')\n",
        "\n",
        "ax.grid()\n",
        "ax.set_xlabel('X1')\n",
        "ax.set_ylabel('X2')\n",
        "ax.margins(x=0, y=0)\n",
        "\n",
        "ax.fill_between(x1s, x2s, np.max(X[:, 1]), color='xkcd:sky', alpha=0.1)\n",
        "ax.fill_between(x1s, x2s, np.min(X[:, 1]), color='xkcd:grass', alpha=0.1)\n",
        "ax.set_aspect(1)\n"
      ],
      "execution_count": 0,
      "outputs": []
    },
    {
      "metadata": {
        "id": "ncVbG5eXLdGQ",
        "colab_type": "text"
      },
      "cell_type": "markdown",
      "source": [
        "Acabem d'*aprendre* els paràmetres d’un model estadístic basat en dades etiquetades.\n",
        "\n",
        "Pot aquesta classificació lineal millorar la classificació del cas del Titanic?\n"
      ]
    },
    {
      "metadata": {
        "ExecuteTime": {
          "end_time": "2018-11-22T18:40:05.422269Z",
          "start_time": "2018-11-22T18:40:05.411923Z"
        },
        "id": "gpbGUQlYLdGS",
        "colab_type": "text"
      },
      "cell_type": "markdown",
      "source": [
        "### Aplicació al conjunt de dades titànic (preparació de dades)\n",
        "\n",
        "Amb conjunts de dades del món real, les coses són més complicades\n",
        "\n",
        "El conjunt de dades del Titanic conté:\n",
        "\n",
        "* Falta de dades (p. Ex., \"age\" i \"fare\")\n",
        "* Dades no numèriques (p. Ex., \"sex\")\n",
        "* Dades categòriques (possiblement \"pclass\")\n",
        "* Columnes que són massa indicatives del resultat del que volem predir (`boat`,` body`)"
      ]
    },
    {
      "metadata": {
        "id": "YvHTjHZ3LdGT",
        "colab_type": "text"
      },
      "cell_type": "markdown",
      "source": [
        "#### Falta de dades"
      ]
    },
    {
      "metadata": {
        "id": "ifyfDs31LdGU",
        "colab_type": "code",
        "colab": {}
      },
      "cell_type": "code",
      "source": [
        "passengers.count().sort_values()"
      ],
      "execution_count": 0,
      "outputs": []
    },
    {
      "metadata": {
        "id": "_bekcE3GLdGZ",
        "colab_type": "text"
      },
      "cell_type": "markdown",
      "source": [
        "Hi ha diferents estratègies sobre com resoldre el problema\n",
        "de falta de dades.\n",
        "    \n",
        "* Simplement eliminar totes les files i / o columnes amb números que faltin\n",
        "* Omplir els valors amb valors calculats a partir de les altres files, com ara la mitjana o coses més sofisticades\n",
        "\n",
        "En el nostre cas, podem seguir la primera estratègia."
      ]
    },
    {
      "metadata": {
        "id": "9hGjs6fULdGZ",
        "colab_type": "code",
        "colab": {}
      },
      "cell_type": "code",
      "source": [
        "passengers.dropna()"
      ],
      "execution_count": 0,
      "outputs": []
    },
    {
      "metadata": {
        "id": "1KlfNg8CLdGc",
        "colab_type": "text"
      },
      "cell_type": "markdown",
      "source": [
        "Retirem les columnes, que contenen principalment dades que falten"
      ]
    },
    {
      "metadata": {
        "id": "xLqoxws8LdGd",
        "colab_type": "code",
        "colab": {}
      },
      "cell_type": "code",
      "source": [
        "missing_percentage = 1 - passengers.count() / len(passengers)\n",
        "\n",
        "columns = missing_percentage[missing_percentage > 0.25].index\n",
        "columns"
      ],
      "execution_count": 0,
      "outputs": []
    },
    {
      "metadata": {
        "id": "oqiA5mNhLdGf",
        "colab_type": "code",
        "colab": {}
      },
      "cell_type": "code",
      "source": [
        "useful_columns = passengers.drop(columns, axis=1)"
      ],
      "execution_count": 0,
      "outputs": []
    },
    {
      "metadata": {
        "scrolled": true,
        "id": "6h9RUoKbLdGi",
        "colab_type": "code",
        "colab": {}
      },
      "cell_type": "code",
      "source": [
        "nans = useful_columns.isna().any(axis=1)\n",
        "useful_columns.loc[nans].head()"
      ],
      "execution_count": 0,
      "outputs": []
    },
    {
      "metadata": {
        "id": "BfrrNAY5LdGl",
        "colab_type": "text"
      },
      "cell_type": "markdown",
      "source": [
        "i les files que contenen nans"
      ]
    },
    {
      "metadata": {
        "id": "PDwq_AfoLdGl",
        "colab_type": "code",
        "colab": {}
      },
      "cell_type": "code",
      "source": [
        "without_missing = useful_columns.dropna()\n",
        "\n",
        "print(len(without_missing))\n",
        "\n",
        "without_missing.head()"
      ],
      "execution_count": 0,
      "outputs": []
    },
    {
      "metadata": {
        "id": "HDuPA8gGLdGo",
        "colab_type": "text"
      },
      "cell_type": "markdown",
      "source": [
        "podríem reemplaçar-les amb seves respectives mitjanes."
      ]
    },
    {
      "metadata": {
        "id": "7h1O4xdOLdGp",
        "colab_type": "code",
        "colab": {}
      },
      "cell_type": "code",
      "source": [
        "imputed = useful_columns.copy()\n",
        "\n",
        "imputed['age'].fillna(imputed['age'].mean(), inplace=True)\n",
        "imputed['fare'].fillna(imputed['fare'].mean(), inplace=True)\n",
        "\n",
        "print(len(imputed))\n",
        "imputed.loc[nans].head()"
      ],
      "execution_count": 0,
      "outputs": []
    },
    {
      "metadata": {
        "id": "l-fQLNfiLdGr",
        "colab_type": "text"
      },
      "cell_type": "markdown",
      "source": [
        "#### Dades no numèriques"
      ]
    },
    {
      "metadata": {
        "scrolled": false,
        "id": "UR223NBvLdGs",
        "colab_type": "code",
        "colab": {}
      },
      "cell_type": "code",
      "source": [
        "passengers.select_dtypes(exclude='number').head()"
      ],
      "execution_count": 0,
      "outputs": []
    },
    {
      "metadata": {
        "id": "AS4vmHYfLdGu",
        "colab_type": "text"
      },
      "cell_type": "markdown",
      "source": [
        "Ho podem resoldre bàsicament de dues maneres,\n",
        "\n",
        "1. Simplement substituir amb un número identificatiu\n",
        "2. Crear columnes dummy booleanes que continguin 1 o 0\n",
        "\n",
        "El primer cas té el desavantatge  d'introduir ordre en alguna cosa que potser no en tingui.\n",
        "Això es resol amb el segon mètode.\n",
        "\n",
        "Per exemple. si mirem embarcats i substituïm\n",
        "\n",
        "S(outhhampton) → 0, C(herbourg) → 1, Q(ueenstown) → 2,   \n",
        "\n",
        "alguns algoritmes de machine learning podríen pensar que Q > C > S."
      ]
    },
    {
      "metadata": {
        "id": "BcY8t6hvLdGw",
        "colab_type": "code",
        "colab": {}
      },
      "cell_type": "code",
      "source": [
        "pd.get_dummies(passengers['embarked'], prefix='embarked').iloc[[1, 100, 300, 800]].head()"
      ],
      "execution_count": 0,
      "outputs": []
    },
    {
      "metadata": {
        "id": "1v0T7eKJLdGy",
        "colab_type": "code",
        "colab": {}
      },
      "cell_type": "code",
      "source": [
        "pd.Categorical(passengers['embarked']).codes"
      ],
      "execution_count": 0,
      "outputs": []
    },
    {
      "metadata": {
        "id": "cG0OadjwLdG1",
        "colab_type": "text"
      },
      "cell_type": "markdown",
      "source": [
        "#### Columnes que són bàsicament trampa\n",
        "\n",
        "Sovint alguns datasets contenen columnes que no serien disponibles quan es vol fer la predicció.\n",
        "\n",
        "Per exemple, variables Truth en simulacions Monte Carlo a la física."
      ]
    },
    {
      "metadata": {
        "id": "C-qB7nI_LdG2",
        "colab_type": "text"
      },
      "cell_type": "markdown",
      "source": [
        "Sembla que algunes persones van caure dels bots salvavides, es van congelar o van ser menjades pels taurons"
      ]
    },
    {
      "metadata": {
        "id": "37TgwVCLLdG3",
        "colab_type": "code",
        "colab": {}
      },
      "cell_type": "code",
      "source": [
        "passengers.loc[~passengers.boat.isna(), 'survived'].value_counts()"
      ],
      "execution_count": 0,
      "outputs": []
    },
    {
      "metadata": {
        "id": "mKGMnWiSLdG6",
        "colab_type": "code",
        "colab": {}
      },
      "cell_type": "code",
      "source": [
        "passengers.loc[~passengers.body.isna(), 'survived'].value_counts()"
      ],
      "execution_count": 0,
      "outputs": []
    },
    {
      "metadata": {
        "id": "PJj4EUDdLdG9",
        "colab_type": "text"
      },
      "cell_type": "markdown",
      "source": [
        "### Ajuntant-ho tot\n"
      ]
    },
    {
      "metadata": {
        "ExecuteTime": {
          "end_time": "2018-11-22T18:40:05.408375Z",
          "start_time": "2018-11-22T18:40:04.858869Z"
        },
        "id": "Wa9HmVN2LdG-",
        "colab_type": "code",
        "colab": {}
      },
      "cell_type": "code",
      "source": [
        "from sklearn import linear_model\n",
        "from sklearn.model_selection import train_test_split\n",
        "\n",
        "df = passengers.copy()\n",
        "\n",
        "# strings to numbers\n",
        "df['sex_code'] = pd.Categorical(df['sex']).codes\n",
        "df = df.join(pd.get_dummies(df['embarked'], prefix='embarked'))\n",
        "\n",
        "# remove not-useful columns (missing data, labels, not convertable)\n",
        "df.drop(['body', 'cabin', 'boat', 'home.dest', 'sex', 'embarked', 'ticket', 'name'], axis=1, inplace=True)\n",
        "df.dropna(inplace=True)\n",
        "\n",
        "print(len(df))\n",
        "df.head()"
      ],
      "execution_count": 0,
      "outputs": []
    },
    {
      "metadata": {
        "id": "VIx7VPOeLdHC",
        "colab_type": "text"
      },
      "cell_type": "markdown",
      "source": [
        "L’avaluació del rendiment en exemples causa una sobreestimació de la precisió.\n",
        "\n",
        "Hem d’avaluar el nostre model d’aprenentatge en un conjunt de proves independent."
      ]
    },
    {
      "metadata": {
        "ExecuteTime": {
          "end_time": "2018-11-22T18:40:05.408375Z",
          "start_time": "2018-11-22T18:40:04.858869Z"
        },
        "scrolled": false,
        "id": "h0ZrA_OeLdHD",
        "colab_type": "code",
        "colab": {}
      },
      "cell_type": "code",
      "source": [
        "X = df.drop('survived', axis=1)\n",
        "y = df['survived']\n",
        "\n",
        "X_train, X_test, y_train, y_test = train_test_split(X, y, test_size=0.6, random_state=0)\n",
        "\n",
        "reg = linear_model.LinearRegression()\n",
        "reg.fit(X_train, y_train)\n",
        "\n",
        "y_prediction = reg.predict(X_test)\n",
        "y_prediction = y_prediction > 0.5\n",
        "\n",
        "plot_confusion(truth=y_test, prediction=y_prediction)"
      ],
      "execution_count": 0,
      "outputs": []
    },
    {
      "metadata": {
        "id": "0NFpa8Z2LdHG",
        "colab_type": "text"
      },
      "cell_type": "markdown",
      "source": [
        "El model no sembla millorar en bona mesura la classificació.\n",
        "\n",
        "\n",
        "Parlarem més sobre validar correctament models més endavant."
      ]
    },
    {
      "metadata": {
        "id": "RseDVrimLdHH",
        "colab_type": "text"
      },
      "cell_type": "markdown",
      "source": [
        "## Naive Bayes\n",
        "\n",
        "Diferents algoritmes de classificació optimitzen diferents funcions de pèrdua. A la secció anterior vam optimitzar la suma residual dels quadrats. Ara anem a mirar __0-1 loss__.\n",
        "\n",
        "<div class=\"important\"> \n",
        "$$ L_{0,1}(\\hat{Y}, Y) = 1 - \\delta(Y, \\hat{Y}) =    \\begin{cases}\n",
        "                                                    1 & {\\text{if}}\\quad Y \\neq \\hat{Y} \\\\\n",
        "                                                    0 & {\\text{else}} \n",
        "                                                \\end{cases}\n",
        "$$\n",
        "</div>\n",
        "\n",
        "\n",
        "Suposem que sabem $P(Y| X)$ la probabilitat pel valor de l'etiqueta $Y$ donat unes dades $X$.\n",
        "\n",
        "Llavors intuïtivament el millor classificador $f(x) = \\hat{y}$ és el que minimitza la 'conditional expected loss'.\n",
        "\n",
        "\\begin{align}\n",
        "    E(L_{0,1}(\\hat{y}, y) | x) =& \\sum_{y \\in Y}P(y| x) L_{0,1}(\\hat{y}, y) \\\\\n",
        "            & \\ldots \\\\\n",
        "            =& 1 - P(\\hat{y}| x) \\\\\n",
        "\\end{align}\n",
        "\n",
        "Si minimitzem la pèrdua esperada donada una mostra $x$ variant la funció de predicció $f(x) = \\hat{y}$ obtenim\n",
        "\n",
        "\\begin{align}\n",
        "f_{*} =& \\arg \\min_f(E(L_{0,1}(f(x), y) | x)) \\\\\n",
        "    =& \\arg \\max_{\\hat{y}} \\left( P(\\hat{y}| x) \\right) \\\\\n",
        "    =& \\arg \\max_{\\hat{y}}\\left(P(\\hat{y}) \\cdot P(x | \\hat{y}) \\right)  \\text{(used Bayes Theorem here)}\\\\\n",
        "\\end{align}\n",
        "\n",
        "El problema és que normalment les probabilitats són desconegudes i han de ser aproximades utilitzant presuposicions. \n",
        "\n",
        "El classificador __Naive Bayes__ fa exactament això, assumeix que les característiques són completament independents les unes de les altres i les probabilitats de cadascuna són gaussianes, mentre que els priors són uniformes.\n",
        "\n",
        "(Per més informació https://github.com/mackaiver/machine-learning-lecture)\n",
        "\n",
        "\n",
        "A continuació, realitzem aquest tipus de classificació amb les dades del Titanic.\n"
      ]
    },
    {
      "metadata": {
        "ExecuteTime": {
          "end_time": "2018-11-22T18:40:06.869949Z",
          "start_time": "2018-11-22T18:40:06.371164Z"
        },
        "id": "dKRqfDQfLdHH",
        "colab_type": "code",
        "colab": {}
      },
      "cell_type": "code",
      "source": [
        "from sklearn.naive_bayes import GaussianNB\n",
        "from sklearn.model_selection import train_test_split\n",
        "\n",
        "X = df[['sex_code', 'pclass', 'fare', 'age']]\n",
        "y = df['survived']\n",
        "\n",
        "X_train, X_test, y_train, y_test = train_test_split(X, y, test_size=0.6, random_state=0)\n",
        "\n",
        "reg = GaussianNB()\n",
        "reg.fit(X_train, y_train)\n",
        "\n",
        "plot_confusion(truth=y_test, prediction=reg.predict(X_test))"
      ],
      "execution_count": 0,
      "outputs": []
    },
    {
      "metadata": {
        "id": "dFgBf3Z1LdHJ",
        "colab_type": "text"
      },
      "cell_type": "markdown",
      "source": [
        "\n",
        "## Support Vector Machines (SVMs)\n",
        "\n",
        "L’assumpció bàsica subjacent a l’enfocament dels mínims quadrats és que el model és lineal en les variables observades.\n",
        "\n",
        "Això funciona per a dades que es poden separar per una funció lineal (un hiperplà a l'espai dels paràmetres).\n",
        "\n",
        "Però, com sabem que aquest mètode troba el \"millor\" hiperplà per separar les dues classes?\n",
        "\n",
        "I si les dades no es poden separar per un pla?\n"
      ]
    },
    {
      "metadata": {
        "ExecuteTime": {
          "end_time": "2018-11-22T18:40:07.257732Z",
          "start_time": "2018-11-22T18:40:06.874257Z"
        },
        "id": "679YBYTNLdHK",
        "colab_type": "code",
        "colab": {}
      },
      "cell_type": "code",
      "source": [
        "# many possible lines to separate the data. Which one is 'better'?\n",
        "from sklearn.datasets.samples_generator import make_blobs\n",
        "\n",
        "X, y = make_blobs(n_samples=150, centers=2,\n",
        "                  random_state=3, cluster_std=0.70)\n",
        "\n",
        "plt.scatter(X[:, 0], X[:, 1], c=y, s=50, cmap=cmap)\n",
        "\n",
        "xs = np.linspace(-6.5, 3, 2)\n",
        "plt.plot(xs, -2 * xs - 2, color='gray', linestyle='--')\n",
        "plt.plot(xs, -0.4 * xs + 2, color='gray', linestyle='--')\n",
        "plt.xlim([-6, 3])\n",
        "plt.ylim([-2, 6])\n",
        "plt.axis('off')\n",
        "None"
      ],
      "execution_count": 0,
      "outputs": []
    },
    {
      "metadata": {
        "id": "uk6c7k4SLdHM",
        "colab_type": "text"
      },
      "cell_type": "markdown",
      "source": [
        "Support Vector Machines intenten trobar l’hiperplà que maximitza el marge als punts entre les diferents classes de l'espai de paràmetres minimitzant l’anomenada 'Hinge Loss'\n",
        "\n",
        "<div class=\"important\">\n",
        "$$\n",
        "L(\\v\\beta) = C \\max(0, 1 - y_i \\v\\beta^\\top x_i)\n",
        "$$\n",
        "</div>\n",
        "\n",
        "$C$ i $\\lambda$ són dos paràmetres escollits prèviament.\n",
        "\n",
        "*Noteu que, per la definició anterior, la codificació de l'etiqueta ha de ser tal que $y_i \\in \\{-1, 1\\}$*\n"
      ]
    },
    {
      "metadata": {
        "id": "IMbo1b3RLdHN",
        "colab_type": "code",
        "colab": {}
      },
      "cell_type": "code",
      "source": [
        "def draw_svm_decision_function(clf, X, label=None, colors='black'):\n",
        "    x0_range = X[:, 0].min(), X[:, 0].max()\n",
        "    x1_range = X[:, 1].min(), X[:, 1].max()\n",
        "\n",
        "    x0, x1 = np.meshgrid(np.linspace(*x0_range), np.linspace(*x1_range))\n",
        "    z = clf.decision_function(np.column_stack([x0.ravel(), x1.ravel()])).reshape(x0.shape)\n",
        "\n",
        "\n",
        "    cs = plt.contour(x0, x1, z, levels=[-1, 0, 1], linestyles=['--', '-', '--'], colors=colors)\n",
        "    if label is not None:\n",
        "        cs.collections[0].set_label(label)"
      ],
      "execution_count": 0,
      "outputs": []
    },
    {
      "metadata": {
        "ExecuteTime": {
          "end_time": "2018-11-22T18:40:07.694436Z",
          "start_time": "2018-11-22T18:40:07.261108Z"
        },
        "id": "N_S7W_urLdHQ",
        "colab_type": "code",
        "colab": {}
      },
      "cell_type": "code",
      "source": [
        "from sklearn.svm import SVC\n",
        "from sklearn.datasets.samples_generator import make_blobs\n",
        "\n",
        "X, y = make_blobs(n_samples=150, centers=2,\n",
        "                  random_state=3, cluster_std=1.0)\n",
        "\n",
        "plt.scatter(X[:, 0], X[:, 1], c=y, s=50, cmap=cmap)\n",
        "\n",
        "clf = SVC(kernel='linear')\n",
        "clf.fit(X, y)\n",
        "\n",
        "draw_svm_decision_function(clf, X, 'SVM')\n",
        "\n",
        "reg = linear_model.LinearRegression()\n",
        "reg.fit(X, y)\n",
        "b_1, b_2 = reg.coef_\n",
        "b_0 = reg.intercept_\n",
        "\n",
        "\n",
        "x0 = np.array([X[:, 0].min(), X[:, 0].max()])\n",
        "x1 = (0.5 - b_0 - b_1 * x0) / b_2\n",
        "\n",
        "plt.plot(x0, x1, label='Linear Regression', color='gray', alpha=0.5)\n",
        "\n",
        "plt.xlim([-6, 3])\n",
        "plt.ylim([-2, 6])\n",
        "plt.legend(loc='lower right', frameon=True, framealpha=0.95, facecolor='white')\n",
        "None"
      ],
      "execution_count": 0,
      "outputs": []
    },
    {
      "metadata": {
        "id": "nLVdQX2KLdHZ",
        "colab_type": "text"
      },
      "cell_type": "markdown",
      "source": [
        "Fins ara, les dades encara han estat separables per una funció lineal.\n",
        "\n",
        "Per molts problemes en la vida real, però, això no és així.\n",
        "\n",
        "Aquí hi ha un exemple de dades (artificials) que no poden separar-se per una línia."
      ]
    },
    {
      "metadata": {
        "ExecuteTime": {
          "end_time": "2018-11-22T18:40:08.082092Z",
          "start_time": "2018-11-22T18:40:07.697517Z"
        },
        "id": "iPtc4etzLdHb",
        "colab_type": "code",
        "colab": {}
      },
      "cell_type": "code",
      "source": [
        "from sklearn.datasets.samples_generator import make_moons\n",
        "\n",
        "X, y = make_moons(n_samples=200, noise=0.10, random_state=0)\n",
        "plt.scatter(X[:, 0], X[:, 1], c=y, s=50, cmap=cmap)\n",
        "\n",
        "clf = SVC(kernel='linear')\n",
        "clf.fit(X, y)\n",
        "draw_svm_decision_function(clf, X, colors='black')\n"
      ],
      "execution_count": 0,
      "outputs": []
    },
    {
      "metadata": {
        "id": "sE5ejp8JLdHf",
        "colab_type": "text"
      },
      "cell_type": "markdown",
      "source": [
        "Podem *transformar* la relació entre les dades utilitzant una kernel function que satistà\n",
        "\n",
        "$$\n",
        "k({x}_{i},{x}_{j})=\\varphi ({x}_{i})\\cdot \\varphi ({x}_{j})\n",
        "$$"
      ]
    },
    {
      "metadata": {
        "ExecuteTime": {
          "end_time": "2018-11-22T18:40:09.726556Z",
          "start_time": "2018-11-22T18:40:08.085200Z"
        },
        "id": "qzNM00xfLdHg",
        "colab_type": "code",
        "colab": {}
      },
      "cell_type": "code",
      "source": [
        "from mpl_toolkits import mplot3d\n",
        "X, y = make_moons(n_samples=400, noise=0.10, random_state=0)\n",
        "\n",
        "\n",
        "# add a dimension by applying a transformation on the two variables in the data. \n",
        "r = np.exp(-(X[:, 0] ** 2 + X[:, 1] ** 2))\n",
        "\n",
        "fig = plt.figure(figsize=(10, 5), constrained_layout=True)\n",
        "\n",
        "for i, angles in enumerate([(45, 35), (20, -30)], start=1):\n",
        "    ax = fig.add_subplot(1, 2, i, projection='3d')\n",
        "    ax.set_xlabel('x0')\n",
        "    ax.set_ylabel('x1')\n",
        "    ax.set_zlabel('r')\n",
        "    ax.set_xticklabels([])\n",
        "    ax.set_yticklabels([])\n",
        "    ax.set_zticklabels([])\n",
        "    ax.scatter(X[:, 0], X[:, 1], r, c=cmap(y), lw=0)\n",
        "    ax.view_init(*angles)"
      ],
      "execution_count": 0,
      "outputs": []
    },
    {
      "metadata": {
        "ExecuteTime": {
          "end_time": "2018-11-22T18:40:10.195610Z",
          "start_time": "2018-11-22T18:40:09.729968Z"
        },
        "id": "JNfvdKsZLdHn",
        "colab_type": "code",
        "colab": {}
      },
      "cell_type": "code",
      "source": [
        "X, y = make_moons(n_samples=200, noise=0.10)\n",
        "plt.scatter(X[:, 0], X[:, 1], c=y, s=50, cmap=cmap)\n",
        "\n",
        "clf = SVC(kernel='rbf', gamma='scale') #use the radial basis function instead of the linear one.\n",
        "clf.fit(X, y)\n",
        "draw_svm_decision_function(clf, X, colors='black', label='SVM')"
      ],
      "execution_count": 0,
      "outputs": []
    },
    {
      "metadata": {
        "id": "tsY3Ju6SLdHs",
        "colab_type": "text"
      },
      "cell_type": "markdown",
      "source": [
        "El mateix mètode també funciona per a altres mètodes lineals.\n",
        "\n",
        "Què fa que SVM sigui tan especial ?:\n",
        "\n",
        "+ SVM han demostrat anar molt bé per a molts casos pràctics.\n",
        "\n",
        "+ SVM gestiona un gran nombre de dimensions de manera relativament ràpida.\n",
        "\n",
        "+ Les funcions del nucli són fàcils de computar.\n",
        "\n",
        "+ Fàcilment extensible a problemes de diverses classes.\n",
        "\n",
        "+ Generalitza millor que altres mètodes.\n",
        "\n",
        "Les funcions del nucli estan obligades a complir determinats criteris. * (Vegeu el capítol 12.3.1 del llibre Hastie) *"
      ]
    },
    {
      "metadata": {
        "ExecuteTime": {
          "end_time": "2018-11-22T18:40:18.798755Z",
          "start_time": "2018-11-22T18:40:10.199569Z"
        },
        "id": "GqYgN8eGLdHu",
        "colab_type": "code",
        "colab": {}
      },
      "cell_type": "code",
      "source": [
        "from sklearn.svm import SVC\n",
        "from sklearn.model_selection import train_test_split\n",
        "\n",
        "X = df[['sex_code', 'pclass', 'fare', 'age']]\n",
        "y = df['survived']\n",
        "\n",
        "X_train, X_test, y_train, y_test = train_test_split(X, y, test_size=0.5, random_state=0)\n",
        "\n",
        "\n",
        "for kernel in ('linear', 'rbf', 'poly'):\n",
        "    \n",
        "    reg = SVC(kernel=kernel, gamma='scale')\n",
        "    reg.fit(X_train, y_train)\n",
        "    \n",
        "    prediction = reg.predict(X_test)\n",
        "    ax_bar, _ = plot_confusion(truth=y_test, prediction=prediction)\n",
        "    ax_bar.set_xlim([0, 400])\n",
        "    plt.suptitle(kernel + ' ' + plt.gcf()._suptitle.get_text())\n",
        "\n",
        "\n",
        "None\n"
      ],
      "execution_count": 0,
      "outputs": []
    },
    {
      "metadata": {
        "id": "DnHZgg0fLdHy",
        "colab_type": "text"
      },
      "cell_type": "markdown",
      "source": [
        "### Ampliar els SVM a més dimensions\n",
        "\n",
        "El conjunt de dades del Titanic que vam examinar en l’exercici anterior té quatre variables o dimensions d'observacions i 1045 observacions en total.\n"
      ]
    },
    {
      "metadata": {
        "id": "Af_3ObkCLdHz",
        "colab_type": "code",
        "colab": {}
      },
      "cell_type": "code",
      "source": [
        "df[['sex_code', 'pclass', 'fare', 'age']].shape\n"
      ],
      "execution_count": 0,
      "outputs": []
    },
    {
      "metadata": {
        "id": "S-J6Ejr5LdH5",
        "colab_type": "text"
      },
      "cell_type": "markdown",
      "source": [
        "Ara prenem un conjunt de dades que té 64 variables."
      ]
    },
    {
      "metadata": {
        "ExecuteTime": {
          "end_time": "2018-11-22T18:40:19.929142Z",
          "start_time": "2018-11-22T18:40:18.801741Z"
        },
        "id": "gPsZOVAELdH6",
        "colab_type": "code",
        "colab": {}
      },
      "cell_type": "code",
      "source": [
        "from sklearn.model_selection import train_test_split\n",
        "from sklearn.metrics import confusion_matrix\n",
        "from sklearn import datasets\n",
        "from sklearn.svm import SVC\n",
        "\n",
        "# obfuscation, so you don't immediately get what we are doing here\n",
        "dataset = ''.join(chr(100 + d) for d in (0, 5, 3, 5, 16, 15))\n",
        "load_data = getattr(datasets, 'load_' + dataset)\n",
        "\n",
        "X, y = load_data(return_X_y=True)\n",
        "\n",
        "X_train, X_test, y_train, y_test = train_test_split(X, y, test_size=0.5)\n",
        "\n",
        "#SVC with default settings.\n",
        "clf = SVC(kernel='poly', gamma='scale')\n",
        "\n",
        "# We learn the kernel on the first half of the data\n",
        "clf.fit(X_train, y_train)\n",
        "\n",
        "# Now predict the value of the digit on the test sample\n",
        "y_prediction = clf.predict(X_test)\n",
        "\n",
        "cm = confusion_matrix(y_test, y_prediction)\n",
        "\n",
        "sns.heatmap(\n",
        "    cm,\n",
        "    annot=True,\n",
        "    fmt='d',\n",
        "    cmap='RdPu',\n",
        ")\n",
        "plt.title(f'Accuracy {accuracy_score(y_test, y_prediction):.1%}')\n",
        "None"
      ],
      "execution_count": 0,
      "outputs": []
    },
    {
      "metadata": {
        "id": "Q_OCiw07LdH-",
        "colab_type": "text"
      },
      "cell_type": "markdown",
      "source": [
        "__Quines dades misterioses hem classificat?__\n",
        "\n",
        "El SVM pot classificar fàcilment un conjunt de dades de molts observables i etiquetes.\n",
        "\n",
        "Aquest conjunt de dades tenia 64 observables i 10 classes diferents.\n",
        "\n",
        "Premen els 64 números de les observacions individuals i les dibuixem en una graella de $8  \\times 8$\n",
        "\n"
      ]
    },
    {
      "metadata": {
        "ExecuteTime": {
          "end_time": "2018-11-22T18:40:20.203589Z",
          "start_time": "2018-11-22T18:40:19.932972Z"
        },
        "id": "ImJdOi7CLdH_",
        "colab_type": "code",
        "colab": {}
      },
      "cell_type": "code",
      "source": [
        "from sklearn import datasets, svm, metrics\n",
        "\n",
        "X, y = datasets.load_digits(return_X_y=True)\n",
        "\n",
        "plt.figure(figsize=(13, 1))\n",
        "plt.imshow([X[0]], aspect='auto', cmap='gray_r')\n",
        "plt.yticks([])\n",
        "None"
      ],
      "execution_count": 0,
      "outputs": []
    },
    {
      "metadata": {
        "ExecuteTime": {
          "end_time": "2018-11-22T18:40:21.217537Z",
          "start_time": "2018-11-22T18:40:20.207290Z"
        },
        "id": "88STtI1ULdIF",
        "colab_type": "code",
        "colab": {}
      },
      "cell_type": "code",
      "source": [
        "fig, axs = plt.subplots(1, 10, figsize=(10, 1))\n",
        "\n",
        "for i, x_i in enumerate(X[:10]):\n",
        "    ax = axs[i]\n",
        "    img = x_i.reshape(-1, 8)\n",
        "    ax.imshow(img, cmap='gray_r', interpolation='nearest')\n",
        "    ax.axis('off')"
      ],
      "execution_count": 0,
      "outputs": []
    },
    {
      "metadata": {
        "id": "UHx6fS6GLdIJ",
        "colab_type": "text"
      },
      "cell_type": "markdown",
      "source": [
        "Aquest classificador acaba de realitzar el reconeixement de caràcters en entrades d’imatges en brut sense cap tipus d’enginyeria sobre les característiques.\n",
        "\n",
        "Actualment hi ha molt bombo sobre les tasques de reconeixement d'imatges i xarxes neuronals (Deep Learning, etc.)\n",
        "Les xarxes neuronals i els SVM tenen una naturalesa molt similar.\n",
        "\n",
        "Per a més informació, consulteu la conferència CS231n de Stanford en informàtica, especialment el capítol sobre classificació lineal.\n",
        "\n",
        "[http://cs231n.github.io](http://cs231n.github.io)"
      ]
    },
    {
      "metadata": {
        "id": "7tUAa5GDLdIK",
        "colab_type": "text"
      },
      "cell_type": "markdown",
      "source": [
        "## Optimització local\n",
        "\n",
        "Fins ara hem analitzat les funcions de pèrdua que optimitzen algun criteri d’optimització global.\n",
        "\n",
        "Hem vist que no tots els problemes es poden resoldre mitjançant un model lineal.\n",
        "Sovint no és possible trobar una transformació, o funció de nucli, per transformar les dades en classes separables linealment.\n",
        "\n",
        "La idea dels mètodes d’optimització local és dividir l'espai de paràmetres en subespais on el problema és més fàcil de resoldre.\n",
        "\n",
        "\n",
        "### Decision Trees\n",
        "\n",
        "Idea:\n",
        "* Dividim l'espai de paràmetres en molts subespais on viuen les observacions de la mateixa classe.\n",
        "\n",
        "Dividim l'espai en dues regions\n",
        "\n",
        "$$\n",
        "R_1(j, s) = \\{X |\\, X_j \\le s\\}\n",
        "$$\n",
        "\n",
        "i \n",
        "\n",
        "$$\n",
        "R_2(j, s) = \\{X |\\, X_j \\gt s\\}.\n",
        "$$\n",
        "\n",
        "Aquestes regions defineixen semiplans en l'espai de paràmetres.\n",
        "\n",
        "A l’exemple següent es defineixen 4 regions per seleccionar la regió en l’espai on viuen els punts blaus.\n",
        "Ara podem optimitzar una funció de pèrdua a cadascuna de les regions que es superposen.\n",
        "\n",
        "A l’exemple següent es pot utilitzar simplement una funció de decisió que és constant a cada regió.\n",
        "\n",
        "$$\n",
        "f(x) = \\sum_{m=1}^{M} c_m \\mathbb{I}(x \\in R_m)\n",
        "$$\n",
        "\n",
        "on \n",
        "\n",
        "$$\n",
        "\\mathbb{I}(x \\in R_m) =\\begin{cases}\n",
        "1,  & \\text{if $x \\in R_m$} \\\\\n",
        "0, & \\text{otherwise}\n",
        "\\end{cases}\n",
        "$$\n",
        "\n",
        "i $c_m$ és la classe (etiqueta) assignada a la regió $R_m$\n"
      ]
    },
    {
      "metadata": {
        "ExecuteTime": {
          "end_time": "2018-11-22T18:40:21.961809Z",
          "start_time": "2018-11-22T18:40:21.220973Z"
        },
        "id": "p2G1gclvLdIK",
        "colab_type": "code",
        "colab": {}
      },
      "cell_type": "code",
      "source": [
        "from sklearn.datasets.samples_generator import make_circles\n",
        "\n",
        "X, y = make_circles(n_samples=1000, noise=0.10, random_state=0, factor=0.2)\n",
        "\n",
        "plt.scatter(X[:, 0], X[:, 1], c=y, s=50, cmap=cmap)\n",
        "\n",
        "\n",
        "plt.axhspan(-0.5, 1.5, color='red', alpha=0.1)\n",
        "plt.axvspan(-0.5, 1.5, color='green', alpha=0.1)\n",
        "\n",
        "plt.axhspan(0.5, -1.5, color='blue', alpha=0.1)\n",
        "plt.axvspan(0.5, -1.5, color='yellow', alpha=0.1)\n",
        "\n",
        "plt.gca().set_aspect(1)\n",
        "plt.xlim([-1.4, 1.4])\n",
        "plt.ylim([-1.4, 1.4])\n",
        "\n",
        "None"
      ],
      "execution_count": 0,
      "outputs": []
    },
    {
      "metadata": {
        "id": "unWuJup_LdIM",
        "colab_type": "text"
      },
      "cell_type": "markdown",
      "source": [
        "Ara escollim la constant $c_m$ com el valor objectiu mitjà en aquesta regió.\n",
        "\n",
        "$$\n",
        "c_m  = \\frac{1}{N} \\sum_{x_i \\in R_m} y_i\n",
        "$$\n",
        "\n",
        "Això funciona molt bé en l’exemple anterior. El problema és trobar les millors particions en l'espai de paràmetres.\n",
        "Aquest és un problema d’optimització que generalment trigarà molt a ser resolt.\n",
        "\n",
        "És possible emprar una estratègia per aproximar la solució òptima. Restringim el problema de trobar\n",
        "la \"millor\" divisió només permetent decisions binàries. Només permetem que el subespai es divideixi en \"esquerra\" o \"dreta\".\n",
        "\n",
        "Podem dividir el subespai mitjançant la divisió binària recursiva del subespai mitjançant la divisió que dóna el valor més baix per a una funció de pèrdua donada.\n",
        "\n",
        "Els algorismes que realitzen aquests passos s’anomenen  __Decision Trees__.\n",
        "Un avantatge de les separacions binàries és la senzilla interpretació dels resultats.\n",
        "\n",
        "A la imatge *pizza_tree.png* podeu veure un exemple d'un Decision Tree.\n",
        "\n",
        "A continuació teniu un exemple per entrenar un Decision Tree amb scikit-learn."
      ]
    },
    {
      "metadata": {
        "ExecuteTime": {
          "end_time": "2018-11-22T18:40:22.150340Z",
          "start_time": "2018-11-22T18:40:21.964818Z"
        },
        "id": "FfBhycuULdIN",
        "colab_type": "code",
        "colab": {}
      },
      "cell_type": "code",
      "source": [
        "from sklearn.tree import DecisionTreeClassifier\n",
        "from sklearn.datasets import make_moons\n",
        "\n",
        "np.random.seed(1234)\n",
        "\n",
        "X, y = make_moons(n_samples=200, noise=0.10)\n",
        "clf = DecisionTreeClassifier(max_depth=2, criterion='entropy')\n",
        "clf.fit(X, y)"
      ],
      "execution_count": 0,
      "outputs": []
    },
    {
      "metadata": {
        "id": "rCV8ugjMLdIQ",
        "colab_type": "code",
        "colab": {}
      },
      "cell_type": "code",
      "source": [
        "from sklearn.tree import DecisionTreeClassifier\n",
        "from sklearn.datasets import make_moons\n",
        "\n",
        "from sklearn import tree\n",
        "from sklearn.tree import export\n",
        "from graphviz import Source\n",
        "from ipywidgets import interact\n",
        "from IPython.display import display\n",
        "from IPython.display import SVG\n",
        "from matplotlib.colors import to_rgb\n",
        "\n",
        "\n",
        "# set colors to match colorscheme of this notebook\n",
        "def to_rgb_int(color):\n",
        "    return [int(255 * c) for c in to_rgb(color)]\n",
        "\n",
        "def color_brew(n):\n",
        "    return [to_rgb_int(color) for color in colors]\n",
        "\n",
        "export._color_brew = color_brew\n",
        "\n",
        "\n",
        "def plot_tree(crit, depth=1, min_split=0.5, min_leaf=0.2):\n",
        "    X, y = make_moons(n_samples=200, noise=0.10, random_state=0)\n",
        "    estimator = DecisionTreeClassifier(\n",
        "        random_state = 0,\n",
        "        criterion=crit,\n",
        "        splitter='best',\n",
        "        max_depth=depth,\n",
        "        min_samples_split=min_split,\n",
        "        min_samples_leaf=min_leaf,\n",
        "    )\n",
        "    \n",
        "    estimator.fit(X, y)\n",
        "\n",
        "    graph = Source(tree.export_graphviz(\n",
        "        estimator,\n",
        "        out_file=None,\n",
        "        feature_names=['Temperature', 'Precipation'],\n",
        "        class_names=['0', '1',],\n",
        "        filled=True,\n",
        "    ))\n",
        "    \n",
        "    display(SVG(graph.pipe(format='svg')))\n",
        "\n",
        "\n",
        "interact(\n",
        "    plot_tree,\n",
        "    crit=[\"gini\", \"entropy\"],\n",
        "    depth=(1, 20),\n",
        "    min_split=(0.1,1),\n",
        "    min_leaf=(0.1,0.5),\n",
        ")\n"
      ],
      "execution_count": 0,
      "outputs": []
    },
    {
      "metadata": {
        "id": "ZvO-3wRbLdIU",
        "colab_type": "text"
      },
      "cell_type": "markdown",
      "source": [
        "Anomenem aquesta optimització local ja que només avaluem la funció de pèrdua en el subespai de les dades definides per l'arbre de decisions. \n",
        "\n",
        "Aquí hi ha una altra bona explicació de l’entropia i el guany d’informació,\n",
        "https://stackoverflow.com/questions/1859554/what-is-entropy-and-information-gain\n",
        "\n",
        "A continuació es mostra un esquema (pseudo codi) per construir un arbre de decisió binari:\n",
        "\n",
        "```python\n",
        "def build_tree(space)\n",
        "    if stopping_criterion_fulfilled():\n",
        "        return {}\n",
        "\n",
        "    variable, split_point = find_best_split(space)\n",
        "\n",
        "    left, right = split_space(space, variable, split_point)\n",
        "\n",
        "    left_tree = build_tree(left)\n",
        "    right_tree = build_tree(right)\n",
        "\n",
        "    return {'node' : (variable, split_point), 'left': left_tree, 'right': right_tree}\n",
        "```           "
      ]
    },
    {
      "metadata": {
        "id": "Ae9RU9z-LdIU",
        "colab_type": "code",
        "colab": {}
      },
      "cell_type": "code",
      "source": [
        "def draw_decision_boundaries(clf, ax=None, cmap=cmap, alpha=0.2, **kwargs):\n",
        "    if not ax:\n",
        "        ax = plt.gca()\n",
        "\n",
        "    x_low, x_high = ax.get_xlim()\n",
        "    y_low, y_high = ax.get_ylim()\n",
        "    x1 = np.linspace(x_low, x_high, 100)\n",
        "    x2 = np.linspace(y_low, y_high, 100)\n",
        "\n",
        "    X1, X2 = np.meshgrid(x1, x2)\n",
        "    xy = np.column_stack([X1.ravel(), X2.ravel()])\n",
        "    Z = clf.predict(xy).reshape(X1.shape)\n",
        "\n",
        "    label = kwargs.pop(\"label\", \"Decision Boundary\")\n",
        "    # plot decision boundary and margins\n",
        "    cs = ax.contourf(X1, X2, Z, **kwargs, cmap=cmap, alpha=alpha, zorder=-1)\n",
        "    cs.collections[0].set_label(label)\n",
        "    plt.axis(\"off\")"
      ],
      "execution_count": 0,
      "outputs": []
    },
    {
      "metadata": {
        "ExecuteTime": {
          "end_time": "2018-11-22T18:40:22.594221Z",
          "start_time": "2018-11-22T18:40:22.154795Z"
        },
        "id": "PZUUmh2ILdIX",
        "colab_type": "code",
        "colab": {}
      },
      "cell_type": "code",
      "source": [
        "from sklearn.tree import DecisionTreeClassifier\n",
        "from sklearn.datasets import make_moons\n",
        "from ipywidgets import interact\n",
        "\n",
        "X, y = make_moons(n_samples=200, noise=0.10, random_state=0)\n",
        "\n",
        "def plot_tree(max_depth=1):\n",
        "    clf = DecisionTreeClassifier(max_depth=max_depth, criterion='entropy')\n",
        "    clf.fit(X, y)\n",
        "\n",
        "    plt.scatter(X[:, 0], X[:, 1], c=y, s=50, cmap=cmap)\n",
        "    draw_decision_boundaries(clf)\n",
        "    \n",
        "interact(plot_tree, max_depth=(1, 8))"
      ],
      "execution_count": 0,
      "outputs": []
    },
    {
      "metadata": {
        "id": "i_FrzIWGLdIZ",
        "colab_type": "text"
      },
      "cell_type": "markdown",
      "source": [
        "A continuació, apliquem un arbre de decisions al conjunt de dades del Titanic mentre variem alguns paràmetres com la profunditat i quina funció de pèrdua utilitzar. Els resultats es dibuixen en un mapa de calor."
      ]
    },
    {
      "metadata": {
        "ExecuteTime": {
          "end_time": "2018-11-22T18:40:24.110499Z",
          "start_time": "2018-11-22T18:40:22.596487Z"
        },
        "id": "K082rEj9LdIZ",
        "colab_type": "code",
        "colab": {}
      },
      "cell_type": "code",
      "source": [
        "from sklearn.model_selection import ParameterGrid\n",
        "from sklearn.metrics import accuracy_score\n",
        "from sklearn.tree import DecisionTreeClassifier\n",
        "np.random.seed(1235)\n",
        "\n",
        "# load the data\n",
        "X = df[['sex_code', 'pclass', 'fare', 'age']]\n",
        "y = df['survived']\n",
        "X_train, X_test, y_train, y_test = train_test_split(X, y, test_size=0.5, random_state=0)\n",
        "\n",
        "# loop over every possible combination of parameters \n",
        "perf = pd.DataFrame()\n",
        "ps = ParameterGrid({\n",
        "    'max_depth': range(1, 20),\n",
        "    'criterion': ['entropy', 'gini']\n",
        "})\n",
        "\n",
        "for d in ps:\n",
        "    \n",
        "    clf = DecisionTreeClassifier(max_depth=d['max_depth'], criterion=d['criterion'])\n",
        "    clf.fit(X_train, y_train)\n",
        "\n",
        "    acc = accuracy_score(y_test, clf.predict(X_test))\n",
        "    perf = perf.append({'max_depth': d['max_depth'], 'criterion': d['criterion'], 'accuracy': acc}, ignore_index=True)\n",
        "\n",
        "# plot a heatmap to see the best paramter combination. \n",
        "perf = perf.pivot('max_depth', 'criterion', 'accuracy')\n",
        "sns.heatmap(perf, cmap='YlOrRd', annot=True, fmt='.3f', label='Accuracy')\n",
        "None\n"
      ],
      "execution_count": 0,
      "outputs": []
    },
    {
      "metadata": {
        "collapsed": true,
        "id": "pFYJARXsLdIb",
        "colab_type": "text"
      },
      "cell_type": "markdown",
      "source": [
        "### k - Nearest Neighbour Methods\n",
        "\n",
        "El classificador k-NN és un altre optimitzador local.\n",
        "\n",
        "Suposem que la funció de decisió és constant sobre alguna regió local a l'espai del paràmetre:\n",
        "\n",
        "$$\n",
        "\\hat{f}(x_0) = \\hat{y} = \\frac{1}{k} \\sum_{x_i \\in N_k(x_o)} y_i\n",
        "$$\n",
        "\n",
        "on $x_i \\in N_k(x)$ decriu els $k$ punts a les dades training $\\mathbf{X}$ que es troben a l'*entorn* de  $x_0$.\n",
        "\n",
        "En altres paraules, assumim que $x$ té el mateix $y$ que els punts al seu entorn."
      ]
    },
    {
      "metadata": {
        "ExecuteTime": {
          "end_time": "2018-11-22T18:40:24.824971Z",
          "start_time": "2018-11-22T18:40:24.116125Z"
        },
        "id": "VC-lS3IDLdIc",
        "colab_type": "code",
        "colab": {}
      },
      "cell_type": "code",
      "source": [
        "from sklearn.datasets.samples_generator import make_moons\n",
        "from sklearn.neighbors import KNeighborsClassifier\n",
        "\n",
        "X, y = make_moons(n_samples=200, noise=0.05)\n",
        "\n",
        "\n",
        "knn = KNeighborsClassifier(n_neighbors=25)\n",
        "knn.fit(X, y)\n",
        "\n",
        "plt.scatter(X[:, 0], X[:, 1], c=y, s=50, cmap=cmap)\n",
        "draw_decision_boundaries(knn)"
      ],
      "execution_count": 0,
      "outputs": []
    },
    {
      "metadata": {
        "id": "4gl7L04qLdIf",
        "colab_type": "text"
      },
      "cell_type": "markdown",
      "source": [
        "Això funciona bastant bé en aquest exemple artificial, de baix nivell de soroll.\n",
        "\n",
        "La classificació de dades sorolloses no funcionarà tan bé.\n",
        "\n",
        "Les dades del món real sempre tenen algun tipus de soroll."
      ]
    },
    {
      "metadata": {
        "ExecuteTime": {
          "end_time": "2018-11-22T18:40:25.466347Z",
          "start_time": "2018-11-22T18:40:24.828675Z"
        },
        "id": "ao1iBiNFLdIg",
        "colab_type": "code",
        "colab": {}
      },
      "cell_type": "code",
      "source": [
        "np.random.seed(1234)\n",
        "from sklearn.metrics import accuracy_score\n",
        "from sklearn.neighbors import KNeighborsClassifier\n",
        "\n",
        "X, y = make_moons(n_samples=100, noise=0.2)\n",
        "\n",
        "\n",
        "fig, axs = plt.subplots(1, 2, figsize=(12, 4))\n",
        "\n",
        "for ax, n_neighbors in zip(axs, (40, 1)):\n",
        "    knn = KNeighborsClassifier(n_neighbors=n_neighbors)\n",
        "    knn.fit(X, y)\n",
        "\n",
        "    ax.scatter(X[:, 0], X[:, 1], c=y, s=50, cmap=cmap)\n",
        "    draw_decision_boundaries(knn, ax=ax)\n",
        "    ax.set_title(f'Accuracy for k={n_neighbors}: {accuracy_score(y, knn.predict(X)):.1%}')\n",
        "    ax.axis('off')\n",
        "\n",
        "None"
      ],
      "execution_count": 0,
      "outputs": []
    },
    {
      "metadata": {
        "id": "hQbvLEiBLdIi",
        "colab_type": "text"
      },
      "cell_type": "markdown",
      "source": [
        "## Validació del classificador\n",
        "\n",
        "Fins ara només hem mirat la mesura de * precisió * de cada classificador. No obstant això, no hem calculat cap incertesa sobre aquest número. Primer intentem motivar per què calen aquests errors."
      ]
    },
    {
      "metadata": {
        "id": "t0tNTXuRLdIi",
        "colab_type": "text"
      },
      "cell_type": "markdown",
      "source": [
        "### Overfitting (Bias-Variance Tradeoff)\n",
        "\n",
        "Hi ha dos objectius, sovint en conflicte, que intentem aconseguir quan es realitza l’aprenentatge automàtic supervisat:\n",
        "* Optimitzar alguns paràmetres sobre algunes dades el màxim possible\n",
        "* Generalitzar el que s'aprèn a noves dades.\n",
        "\n",
        "\n",
        "Això introdueix dues fonts d’errors\n",
        "\n",
        "*L'alta variança del predictor pot causar que els paràmetres apresos estiguin afectats pel soroll de les dades training.\n",
        "* L'elevat biaix pot disminuir el rendiment global del predictor.\n",
        "\n",
        "\n",
        "Si els paràmetres s’ajusten al soroll de les dades d’entrenament, o el model és massa complex, el model no generalitzarà a les noves dades sinó que només farà un bon resultat a les dades de la prova.\n",
        "Sovint aquest problema s'anomena __overfitting__\n",
        "\n",
        "A continuació, es mostra un exemple d'overfitting mitjançant el classificador k-NN. Representem la precisió del classificador sobre les dades d'entrenament i les dades test versus la complexitat del model."
      ]
    },
    {
      "metadata": {
        "ExecuteTime": {
          "end_time": "2018-11-22T18:40:26.444566Z",
          "start_time": "2018-11-22T18:40:25.469827Z"
        },
        "id": "UVN8bUM3LdIk",
        "colab_type": "code",
        "colab": {}
      },
      "cell_type": "code",
      "source": [
        "k = 1\n",
        "noise = 0.3\n",
        "\n",
        "np.random.seed(0)\n",
        "\n",
        "X, y = make_moons(n_samples=200, noise=noise)\n",
        "X_test, y_test = make_moons(n_samples=100, noise=noise)\n",
        "\n",
        "knn = KNeighborsClassifier(n_neighbors=k)\n",
        "knn.fit(X, y)\n",
        "\n",
        "fig, (ax1, ax2) = plt.subplots(1, 2, figsize=(10, 6), constrained_layout=True)\n",
        "fig.suptitle(f'k = {k}')\n",
        "ax1.scatter(X[:, 0], X[:, 1], c=y, s=30, cmap=cmap)\n",
        "draw_decision_boundaries(knn, ax=ax1)\n",
        "ax1.set_title('Accuracy on Training Data : {:.0%}'.format(accuracy_score(y, knn.predict(X))))\n",
        "ax1.axis('off')\n",
        "\n",
        "ax2.scatter(X_test[:, 0], X_test[:, 1], c=y_test, s=30, cmap=cmap)\n",
        "ax2.scatter(X[:, 0], X[:, 1], c=y, s=15, alpha=0.1,  cmap=cmap)\n",
        "draw_decision_boundaries(knn, ax=ax2)\n",
        "ax2.set_title('Accuracy on Test Sample: {:.0%}'.format(accuracy_score(y_test, knn.predict(X_test))))\n",
        "ax2.axis('off')\n",
        "None"
      ],
      "execution_count": 0,
      "outputs": []
    },
    {
      "metadata": {
        "ExecuteTime": {
          "end_time": "2018-11-22T18:40:29.857163Z",
          "start_time": "2018-11-22T18:40:26.451832Z"
        },
        "id": "yV9Dext3LdIn",
        "colab_type": "code",
        "colab": {}
      },
      "cell_type": "code",
      "source": [
        "np.random.seed(1234)\n",
        "\n",
        "X, y = make_moons(n_samples=400, noise=0.2)\n",
        "X_test, y_test = make_moons(n_samples=400, noise=0.2)\n",
        "\n",
        "e_train = []\n",
        "e_test = []\n",
        "\n",
        "param_range = np.arange(1, 200)\n",
        "\n",
        "for p in param_range:\n",
        "    clf = KNeighborsClassifier(n_neighbors=p)    \n",
        "    clf.fit(X, y)\n",
        "\n",
        "    e_train.append(1- accuracy_score(y, clf.predict(X)))\n",
        "    e_test.append(1 - accuracy_score(y_test, clf.predict(X_test)))\n",
        "    \n"
      ],
      "execution_count": 0,
      "outputs": []
    },
    {
      "metadata": {
        "ExecuteTime": {
          "end_time": "2018-11-22T18:40:30.482619Z",
          "start_time": "2018-11-22T18:40:29.860644Z"
        },
        "scrolled": false,
        "id": "3aVpBnh2LdIp",
        "colab_type": "code",
        "colab": {}
      },
      "cell_type": "code",
      "source": [
        "plt.plot(param_range, e_train,'.', color='#FF6B6B', ms=10, label='Training Sample')\n",
        "plt.plot(param_range, e_test, '.' ,color='#FFAE6B', ms=10, label='Test Sample', )\n",
        "\n",
        "plt.xlim(param_range[-1], param_range[0])\n",
        "plt.xlabel('k')\n",
        "plt.ylabel('Prediction Error')\n",
        "\n",
        "plt.text(150, 0.026, 'Increasing Model Complexity')\n",
        "plt.arrow(150, 0.018, -50, 0, width = 0.0005, head_width=0.003, head_length=3, fc='k', ec='k')\n",
        "plt.legend()"
      ],
      "execution_count": 0,
      "outputs": []
    },
    {
      "metadata": {
        "collapsed": true,
        "id": "-7om9gPdLdIr",
        "colab_type": "text"
      },
      "cell_type": "markdown",
      "source": [
        "### Validació en conjunts de proves independents\n",
        "\n",
        "La validació dels models entrenats és essencial per evitar l'overfitting.\n",
        "\n",
        "Cal avaluar l’error de prediccions en un conjunt de dades independent.\n",
        "\n",
        "Els models poden seguir sent susceptibles al soroll en les dades d’entrenament.\n",
        "\n",
        "#### Validació creuada (Cross-validation)\n",
        "\n",
        "Una validació creuada d’ordre $ k $ dividirà automàticament les dades d’entrenament en $k$ subconjunts.\n",
        "\n",
        "El model s’entrenarà després en $k-1$ subconjunts i s’avalua sobre el conjunt restant.\n",
        "\n",
        "![cv.png](attachment:cv.png)"
      ]
    },
    {
      "metadata": {
        "id": "YUGkS1KALdIr",
        "colab_type": "text"
      },
      "cell_type": "markdown",
      "source": [
        "A continuació, s'utilitza el mètode de validació creuada de sklearn per estimar la precisió d'un classificador Decision Tree en molts conjunts de proves independents."
      ]
    },
    {
      "metadata": {
        "ExecuteTime": {
          "end_time": "2018-11-22T18:40:30.707080Z",
          "start_time": "2018-11-22T18:40:30.491620Z"
        },
        "id": "DHAdJIwYLdIs",
        "colab_type": "code",
        "colab": {}
      },
      "cell_type": "code",
      "source": [
        "from sklearn.tree import DecisionTreeClassifier\n",
        "from sklearn.model_selection import cross_validate\n",
        "\n",
        "\n",
        "X = df[['sex_code', 'pclass', 'fare', 'age']]\n",
        "y = df['survived']\n",
        "\n",
        "clf = DecisionTreeClassifier(max_depth=5)\n",
        "r = cross_validate(clf, X=X, y=y, cv=5, scoring=['accuracy'], return_train_score=True)\n",
        "\n",
        "print('Accuracy on test sets: {:.0%} ± {:.0%}'.format(r['test_accuracy'].mean(), r['test_accuracy'].std() ))\n",
        "print('Accuracy on training sets: {:.0%} ± {:.0%}'.format(r['train_accuracy'].mean(), r['train_accuracy'].std() ))\n"
      ],
      "execution_count": 0,
      "outputs": []
    },
    {
      "metadata": {
        "id": "Ku2m1ECLLdIt",
        "colab_type": "text"
      },
      "cell_type": "markdown",
      "source": [
        "#### Altres mètriques de qualitat\n",
        "\n",
        "La precisió no sempre és una bona mesura de la qualitat del model.\n",
        "\n",
        "Imagineu una funció de classificació que només prediu un resultat fix.\n",
        "\n",
        "        def f_fixed(x):\n",
        "            return 0\n",
        "            \n",
        "En un conjunt de dades desequilibrat, aquest classificador tindrà una precisió igual al ratio entre els exemples positius i el nombre total d'exemples."
      ]
    },
    {
      "metadata": {
        "ExecuteTime": {
          "end_time": "2018-11-22T18:40:30.848343Z",
          "start_time": "2018-11-22T18:40:30.710164Z"
        },
        "id": "EQCngsLMLdIu",
        "colab_type": "code",
        "colab": {}
      },
      "cell_type": "code",
      "source": [
        "def f_fixed(x):\n",
        "    return np.zeros(shape=len(x))\n",
        "\n",
        "\n",
        "X = df[['sex_code', 'pclass', 'fare', 'age']]\n",
        "y = df['survived']\n",
        "\n",
        "print('Accuracy of fixed classifier {:1.6f} \\n'.format(accuracy_score(y, f_fixed(X))))\n",
        "\n",
        "print('Ratio of survived to total passengers: ')\n",
        "print(df.survived.value_counts(normalize=True))\n"
      ],
      "execution_count": 0,
      "outputs": []
    },
    {
      "metadata": {
        "id": "UnRoMyKjLdIw",
        "colab_type": "text"
      },
      "cell_type": "markdown",
      "source": [
        "Considerem un altre cop la matriu de confusió. Ens dóna informació de és de dues classes com es pot veure a la imatge **confusion_matrix.png**.\n",
        "\n",
        "Els números de la matriu de confusió es poden utilitzar per calcular tot un seguit de criteris de qualitat.\n",
        "\n",
        "Construïm un classificador que escull aleatòriament un resultat i analitzi els diferents criteris.\n",
        "\n",
        "```\n",
        "def f_random(passenger):\n",
        "    return np.random.choice(['yes', 'no')\n",
        "```\n",
        "\n",
        "\n",
        "<a href=\"https://stackoverflow.com/questions/31324218/scikit-learn-how-to-obtain-true-positive-true-negative-false-positive-and-fal\" style=\"color:#BBBBBB;\">El post d'Stack Overflow d'on he robat la imatge.</a>\n",
        "\n"
      ]
    },
    {
      "metadata": {
        "ExecuteTime": {
          "end_time": "2018-11-22T18:40:30.933660Z",
          "start_time": "2018-11-22T18:40:30.851402Z"
        },
        "id": "afbDzFNALdIx",
        "colab_type": "code",
        "colab": {}
      },
      "cell_type": "code",
      "source": [
        "def f_random(x):\n",
        "    return np.random.randint(2, size=len(x))\n",
        "\n",
        "prediction = f_random(X)\n",
        "\n",
        "cm = confusion_matrix(y, prediction)\n",
        "\n",
        "FP = cm.sum(axis=0) - np.diag(cm)  \n",
        "FN = cm.sum(axis=1) - np.diag(cm)\n",
        "TP = np.diag(cm)\n",
        "TN = cm.sum() - (FP + FN + TP)\n",
        "\n",
        "perf = {}\n",
        "# Sensitivity, hit rate, recall, or true positive rate\n",
        "perf['TPR'] = TP/(TP+FN)\n",
        "# Specificity or true negative rate\n",
        "perf['TNR'] = TN/(TN+FP) \n",
        "# Precision or positive predictive value or purity\n",
        "perf['PPV'] = TP/(TP+FP)\n",
        "# Negative predictive value\n",
        "perf['NPV'] = TN/(TN+FN)\n",
        "# Fall out or false positive rate\n",
        "perf['FPR'] = FP/(FP+TN)\n",
        "# False negative rate\n",
        "perf['FNR'] = FN/(TP+FN)\n",
        "# False discovery rate\n",
        "perf['FDR'] = FP/(TP+FP)\n",
        "\n",
        "# Overall accuracy\n",
        "perf['ACC'] = (TP+TN)/(TP+FP+FN+TN)\n",
        "\n",
        "for k, v in perf.items():\n",
        "    print(k, np.round(v, 2))"
      ],
      "execution_count": 0,
      "outputs": []
    },
    {
      "metadata": {
        "ExecuteTime": {
          "end_time": "2018-11-22T18:40:30.947487Z",
          "start_time": "2018-11-22T18:40:30.937239Z"
        },
        "id": "UC9Tm9_YLdIz",
        "colab_type": "code",
        "colab": {}
      },
      "cell_type": "code",
      "source": [
        "from sklearn.metrics import recall_score, precision_score\n",
        "print(recall_score(y, prediction))\n",
        "print(precision_score(y, prediction))"
      ],
      "execution_count": 0,
      "outputs": []
    },
    {
      "metadata": {
        "id": "a7IIA9irLdI1",
        "colab_type": "text"
      },
      "cell_type": "markdown",
      "source": [
        "Precision i recall es poden entendre de manera intuïtiva\n",
        "\n",
        "* __Recall__ Quants exemples desitjats es troben.\n",
        "* __Precision__ El percentatge dels exemples trobats que són realment rellevants.\n",
        "\n",
        "Per a què hem d’optimitzar? Precisió màxima o Recall?\n",
        "\n",
        "No hi ha una resposta clara.\n",
        "Depèn del cada cas.\n",
        "Podem tolerar FPs?\n",
        "Es pot tolerar la pèrdua d'alguns TPs?\n",
        "\n",
        "Sempre haurem de trobar un compromís entre recall  i precision.\n",
        "Hi ha diverses mètriques que intenten combinar-les en una sola.\n",
        "\n",
        "La  $f_{\\beta}$ score és un exemple\n",
        "\n",
        "$$\n",
        "f_{\\beta } = (1+\\beta ^{2})\\cdot {\\frac {\\mathrm {precision} \\cdot \\mathrm {recall} }{(\\beta ^{2}\\cdot \\mathrm {precision} )+\\mathrm {recall} }} =\n",
        "\\frac {(1 + \\beta^2) \\cdot TP }{(1 + \\beta^2) \\cdot TP + \\beta^2 \\cdot FN + FP}.\n",
        "$$\n",
        "\n",
        "Però al final no hi ha una veritat absoluta que ens digui quina és millor.\n",
        "\n",
        "Imagineu-vos que dissenyeu una nova prova barata i senzilla de càncer.\n",
        "Per a què heu d’optimitzar el llindar de decisió?\n",
        "Precision o Recall?"
      ]
    },
    {
      "metadata": {
        "ExecuteTime": {
          "end_time": "2018-11-22T18:41:19.582828Z",
          "start_time": "2018-11-22T18:40:30.951327Z"
        },
        "id": "CwPcpGKlLdI2",
        "colab_type": "code",
        "colab": {}
      },
      "cell_type": "code",
      "source": [
        "from sklearn.model_selection import cross_validate\n",
        "from sklearn.neighbors import KNeighborsClassifier\n",
        "from sklearn.tree import DecisionTreeClassifier\n",
        "from sklearn.svm import SVC\n",
        "\n",
        "np.random.seed(1234)\n",
        "\n",
        "X = df[['sex_code', 'pclass', 'fare', 'age']]\n",
        "y = df['survived']\n",
        "\n",
        "svc = SVC(kernel='linear')\n",
        "knn = KNeighborsClassifier(n_neighbors=5)\n",
        "tree = DecisionTreeClassifier(max_depth=5)\n",
        "\n",
        "results = []\n",
        "for clf, name in zip([svc, knn, tree], ['SVM', 'kNN', 'tree']):\n",
        "    r = cross_validate(\n",
        "        clf, X=X, y=y, cv=5,\n",
        "        scoring=['accuracy', 'precision', 'recall', 'f1'],\n",
        "        return_train_score=False,\n",
        "    )\n",
        "    perf = pd.DataFrame.from_dict(r)\n",
        "    perf['classifier'] = name\n",
        "    results.append(perf)\n",
        "\n",
        "perf = pd.concat(results).drop(['fit_time', 'score_time'], axis='columns')\n",
        "\n",
        "means = perf.groupby('classifier').mean()\n",
        "deviations = perf.groupby('classifier').std()\n",
        "\n",
        "fig, (ax1, ax2) = plt.subplots(1, 2, figsize=(12, 4))\n",
        "\n",
        "sns.heatmap(means, cmap='viridis', annot=True, ax=ax1, vmin=0, vmax=1)\n",
        "sns.heatmap(deviations, cmap='viridis', annot=True, ax=ax2, vmin=0, vmax=1)\n"
      ],
      "execution_count": 0,
      "outputs": []
    },
    {
      "metadata": {
        "id": "1tKeuzN2LdI5",
        "colab_type": "text"
      },
      "cell_type": "markdown",
      "source": [
        "## Llindars de decisió i validació del classificador\n",
        "\n",
        "Els classificadors normalment proporcionen els mètodes següents\n",
        "\n",
        "* `classifier.fit(X)` pren les dades training i obté paràmetres basats en aquestes dades.\n",
        "* `classifier.predict(X_new)` pren noves dades i prediu l'etiqueta associada a cada fila.\n",
        "* `classifier.predict_proba(X_new)` pren noves dades i prediu una certa \"noció de confiança\".\n",
        "\n",
        "\n",
        "En el cas de la classificació binària (és a dir, dues etiquetes), el \"classifier.predict_proba\" torna normalment un número on els nombres més alts indiquen alguna mesura de \"confiança\".\n",
        "\n",
        "El `classifier.predict (X_new)` és bàsicament un embolcall al voltant de la funció `predict_proba 'que simplement aplica un llindar de decisió a un valor concret (normalment 0,5).\n",
        "Això és exactament el que vam fer en el cas de la regressió lineal de mínims quadrats.\n",
        "\n",
        "\n",
        "$$\n",
        "\\hat{Y} = \\begin{cases}\n",
        "\\text{Yes}, & \\text{if $ f(X) \\gt 0.5$} \\\\\n",
        "\\text{No}, & \\text{if $ f(X) \\le 0.5$}\n",
        "\\end{cases}\n",
        "$$\n",
        "\n",
        "En aquest cas, el llindar de decisió correspon a la distància d'un punt a l'hiperplà separador.\n",
        "\n",
        "A continuació, es poden veure dos conjunts de punts superposats. Es dibuixa una línia separadora entre les dues poblacions.\n",
        "Intuïtivament, podem associar un grau més alt de \"certesa\" a la pertinença a la classe a punts més allunyats de la línia."
      ]
    },
    {
      "metadata": {
        "id": "1arMfabkLdI6",
        "colab_type": "code",
        "colab": {}
      },
      "cell_type": "code",
      "source": [
        "X, y = make_blobs(n_samples=200, centers=2, random_state=3, cluster_std=1.70)\n",
        "\n",
        "plt.scatter(X[:, 0], X[:, 1], c=y, s=50, cmap=cmap)\n",
        "\n",
        "xs = np.linspace(-6.5, 3, 2)\n",
        "plt.plot(xs, -0.4 * xs + 2, color='gray', linestyle='--')\n",
        "circle = plt.Circle((-2, 3), 0.15, fc='black')\n",
        "plt.gca().add_patch(circle)\n",
        "plt.gca().set_aspect('equal')\n",
        "plt.gca().annotate('Which class?', xy=(-2, 3), xytext=(3.5, 4), arrowprops=dict(facecolor='gray', shrink=0.05),)\n",
        "\n",
        "plt.axis('off')\n",
        "None"
      ],
      "execution_count": 0,
      "outputs": []
    },
    {
      "metadata": {
        "id": "_xkzjQd5LdI9",
        "colab_type": "text"
      },
      "cell_type": "markdown",
      "source": [
        "#### Variar el llindar\n",
        "\n",
        "La variació del llindar de decisió és extremadament útil per modificar la sortida del vostre classificador per crear prediccions més / menys\n",
        " \"conservadores\".\n",
        "\n",
        "\n",
        "En essència, es tracta d’un nou classificador / predictor amb un paràmetre lliure. L’antic $ \\hat {y} = \\hat {f} (x) $ es converteix ara en\n",
        "\n",
        "$$\n",
        "\\hat{y} = \\hat{f}(x, \\alpha)\n",
        "$$\n",
        "\n",
        "on $\\alpha$ és un paràmetre que es pot triar lliurement (o ser optimitzat segons algun criteri)\n",
        "\n",
        "L’exemple següent mostra com pot influir el nombre de TPs variant el llindar $\\alpha$"
      ]
    },
    {
      "metadata": {
        "id": "XVGYYp2TLdI-",
        "colab_type": "code",
        "colab": {}
      },
      "cell_type": "code",
      "source": [
        "N = 2000\n",
        "X, y = datasets.make_moons(n_samples=N, noise=0.3)\n",
        "X_test, y_test = datasets.make_moons(n_samples=N, noise=0.3)\n",
        "\n",
        "\n",
        "clf = DecisionTreeClassifier(max_depth=5, criterion='entropy')\n",
        "clf.fit(X, y)\n",
        "y_predicted = clf.predict_proba(X_test)[:, 1]\n",
        "\n",
        "thresholds = np.linspace(0, 1, 50)\n",
        "\n",
        "tp = [(y_predicted > t).sum()/N for t in thresholds]\n",
        "plt.plot(thresholds, tp, label='Decision  Tree')\n",
        "\n",
        "\n",
        "clf = SVC(probability=True, gamma='scale')\n",
        "clf.fit(X, y)\n",
        "y_predicted = clf.predict_proba(X_test)[:, 1]\n",
        "\n",
        "tp = [(y_predicted > t).sum()/N for t in thresholds]\n",
        "plt.plot(thresholds, tp, label='SVM')\n",
        "\n",
        "plt.legend()\n",
        "plt.xlabel('prediction')\n",
        "plt.ylabel('true positives')\n",
        "None"
      ],
      "execution_count": 0,
      "outputs": []
    },
    {
      "metadata": {
        "id": "EpVtyYPoLdJA",
        "colab_type": "text"
      },
      "cell_type": "markdown",
      "source": [
        "#### Receiver Operating Characteristic \n",
        "\n",
        "El llindar de decisió és increïblement útil per validar el rendiment del classificador.\n",
        "\n",
        "La gràfica de la taxa FPs vs. la taxa TPs en variar el llindar de decisió es denomina corba característica del receptor (corba ROC - Receiver Operating Characteristic).\n",
        "\n",
        "És una eina molt popular per a l'avaluació del rendiment dels classificadors.\n",
        "\n",
        "Wikipedia Quote:\n",
        "\n",
        "> Following the attack on Pearl Harbor in 1941, the United States army began new research to increase the prediction of correctly detected Japanese aircraft from their radar signals. For this purposes they measured the ability of radar receiver operators to make these important distinctions, which was called the Receiver Operating Characteristics.\n",
        "\n",
        "\n",
        "Un classificador que assigna etiquetes aleatòries a les dades tindrà una corba ROC que es troba a la diagonal. Amb una àrea sota corba (AUC - Area Under Curve) de 0,5.\n",
        "\n",
        "\n",
        "__Problemes__\n",
        "\n",
        "Hi ha circumstàncies en què el ROC no és una bona mesura de qualitat.\n",
        "\n",
        "Vegeu https://en.wikipedia.org/wiki/Receiver_operating_characteristic#Area_under_the_curve\n",
        "\n",
        "També en el cas de classes desequilibrades (per exemple, imaginem que teniu 10.000 supervivents, però 10 passatgers morts), la corba ROC no canviarà. La interpretació de la corba ROC, però, canvia dràsticament.\n",
        "\n",
        "En aquest cas, és millor traçar la corba de precissió vs recall i l’àrea corresponent sota la corba.\n",
        "\n",
        "Vegeu https://classeval.wordpress.com per bones discussions sobre l’avaluació del classificador."
      ]
    },
    {
      "metadata": {
        "id": "COwC-nPDLdJB",
        "colab_type": "code",
        "colab": {}
      },
      "cell_type": "code",
      "source": [
        "from sklearn.datasets import make_classification\n",
        "from sklearn.metrics import roc_curve\n",
        "\n",
        "X, y = make_classification(n_samples=10000, n_features=10, n_informative=2, random_state=0)\n",
        "\n",
        "X_train, X_test, y_train, y_test = train_test_split(X, y)\n",
        "\n",
        "prediction = KNeighborsClassifier(n_neighbors=220).fit(X_train, y_train).predict_proba(X_test)[:, 1]\n",
        "\n",
        "fpr, tpr, t = roc_curve(y_test, prediction)\n",
        "t[0] = 0 # do this for nicer plotting. it is set to 2 otherwise ruiing the colormap\n",
        "print(t.max())\n",
        "plt.figure(figsize=(12, 10))\n",
        "plt.scatter(fpr, tpr, c=t, cmap='viridis', s=50)\n",
        "plt.colorbar(label='Decision Threshold')\n",
        "plt.xlim([0, 1])\n",
        "plt.ylim([0, 1.02])\n",
        "plt.xlabel('False Positive Rate')\n",
        "plt.ylabel('True Positive Rate')"
      ],
      "execution_count": 0,
      "outputs": []
    },
    {
      "metadata": {
        "id": "SFxGRT9ULdJD",
        "colab_type": "text"
      },
      "cell_type": "markdown",
      "source": [
        "## Mètodes de conjunt\n",
        "\n",
        "Hem utilitzat un arbre de decisions per classificar les dades artificials i les dades del Titanic.\n",
        "\n",
        "En teoria, l’arbre de decisió no està limitat en la seva profunditat.\n",
        "\n",
        "Això condueix ràpidament a models d'arbres que pateixen overfitting.\n"
      ]
    },
    {
      "metadata": {
        "id": "oBGhZ0mVLdJG",
        "colab_type": "text"
      },
      "cell_type": "markdown",
      "source": [
        "### Embalatge\n",
        "\n",
        "Una manera popular de construir conjunts es denomina * embalatge *.\n",
        "\n",
        "Dividim les dades d'entrenament en $B$ subconjunts fent mostreig amb reemplaçament (Bootstrapping). Per a cada subconjunt $b$ entrenem un classificador $\\hat{f}_b$. L'embalatge combina la predicció fent la mitjana.\n",
        "$$\n",
        "\\hat{y} = \\hat{f}_{\\text{bag}}(x) = \\frac{1}{B} \\sum_{b=1}^B \\hat{f}_b (x) \n",
        "$$"
      ]
    },
    {
      "metadata": {
        "id": "qI0L_tcsLdJH",
        "colab_type": "text"
      },
      "cell_type": "markdown",
      "source": [
        "### Random Forests\n",
        "\n",
        "Els Random Forests són una modificació de l'embalatge en la qual un cert nombre de *Decision Trees\" són entrenats. Aquest Decision Trees utilitzen un subconjunt aleatori de variables per trobar la millor divisió en cada node.\n",
        "\n",
        "Els Random Forests són una opció molt popular per a tasques de classificació, ja que els seus paràmetres es poden sintonitzar fàcilment i sovint superen altres mètodes."
      ]
    },
    {
      "metadata": {
        "ExecuteTime": {
          "end_time": "2018-11-22T18:41:37.298742Z",
          "start_time": "2018-11-22T18:41:34.781672Z"
        },
        "id": "xx9P2BycLdJI",
        "colab_type": "code",
        "colab": {}
      },
      "cell_type": "code",
      "source": [
        "np.random.seed(2)\n",
        "from sklearn.metrics import roc_curve, roc_auc_score, make_scorer\n",
        "from sklearn.model_selection import cross_validate\n",
        "from sklearn.tree import DecisionTreeClassifier\n",
        "from sklearn.ensemble import RandomForestClassifier\n",
        "\n",
        "\n",
        "\n",
        "X = df[['sex_code', 'pclass', 'fare', 'age']]\n",
        "y = df['survived']\n",
        "\n",
        "tree = DecisionTreeClassifier(min_samples_leaf=5)\n",
        "\n",
        "rf = RandomForestClassifier(n_estimators=100, min_samples_leaf=5)\n",
        "\n",
        "np.random.seed(0)\n",
        "score = cross_validate(tree, X, y, scoring=make_scorer(roc_auc_score), cv=5)\n",
        "print('ROC AUC Decision Tree {:0.3f} +/- {:0.3f}'.format(score['test_score'].mean(), score['test_score'].std()))\n",
        "np.random.seed(0)\n",
        "score = cross_validate(tree, X, y, scoring=make_scorer(accuracy_score), cv=5)\n",
        "print('Accuracy {:0.3f} +/- {:0.3f}'.format(score['test_score'].mean(), score['test_score'].std()))\n",
        "\n",
        "np.random.seed(0)\n",
        "score = cross_validate(rf, X, y, scoring=make_scorer(roc_auc_score), cv=5)\n",
        "print('ROC AUC Random Forest {:0.3f} +/- {:0.3f}'.format(score['test_score'].mean(), score['test_score'].std()))\n",
        "np.random.seed(0)\n",
        "score = cross_validate(rf, X, y, scoring=make_scorer(accuracy_score), cv=5)\n",
        "print('Accuracy {:0.3f} +/- {:0.3f}'.format(score['test_score'].mean(), score['test_score'].std()))"
      ],
      "execution_count": 0,
      "outputs": []
    },
    {
      "metadata": {
        "id": "X_VGmPRNLdJK",
        "colab_type": "text"
      },
      "cell_type": "markdown",
      "source": [
        "## Regressió\n",
        "\n",
        "La regressió i la classificació són de naturalesa molt similar. La major diferència és que la variable  $ y $ és contínua i té un concepte d'ordre natural.\n",
        "\n",
        "Les mateixes regles bàsiques per a la classificació també són vàlides per a la regressió.\n",
        "\n",
        "* Els models han de ser verificats en dades de prova independents\n",
        "* Hi ha un compromís entre el biaix i la variància. Pot patir overfitting.\n",
        "* Hi ha moltes mesures de qualitat possibles.\n",
        "\n",
        "Cal adaptar les funcions de pèrdua que estem minimitzant.\n",
        "Per a la classificació, la funció de pèrdua per a l'arbre de decisions es basava en l'entropia. Pel classificador de Naive Bayes la pèrdua era la de 0-1. Tots dos estan dissenyats per millorar la classificació.\n",
        "\n",
        "Per obtenir un regressor a partir d’un arbre de decisió, podem canviar la funció de pèrdua per minimitzar la variància de la variable al node.\n",
        "\n",
        "\n",
        "Per trobar la millor divisió, minimitzem la variància de la variable, $\\mathit{Var(y)}$,  sobre totes les característiques  $X \\in \n",
        "\\mathbf{X}$ i divisions $s$\n",
        "\n",
        "L’algorisme es manté igual, simplement hem canviat la manera de seleccionar les característiques en cada pas segons\n",
        "\n",
        "$$\n",
        "  \\min_{(X, s) \\in \\, \\mathbf{X} \\times {S}}Var(Y_S)\n",
        "$$\n",
        "\n",
        "on $Y_S$ són els valors de la variable de destinació en el subespai creat mitjançant la divisió de les dades de la funció $ X $ a un valor $ s $\n",
        "\n"
      ]
    },
    {
      "metadata": {
        "id": "IGb5egFALdJL",
        "colab_type": "text"
      },
      "cell_type": "markdown",
      "source": [
        "La nostra tasca de regressió és predir el preu d'una casa a partir de les 13 variables donades. A partir d’una gràfica d’algunes de les variables podem veure algunes correlacions febles en algunes variables.\n",
        "\n",
        "Cap d'aquestes variables per si sola seria suficient per construir un bon predictor. Per tant, intentem utilitzar mètodes de regressió multivariant."
      ]
    },
    {
      "metadata": {
        "ExecuteTime": {
          "end_time": "2018-11-22T18:41:37.324296Z",
          "start_time": "2018-11-22T18:41:37.302090Z"
        },
        "id": "3ACAigVRLdJL",
        "colab_type": "code",
        "colab": {}
      },
      "cell_type": "code",
      "source": [
        "from sklearn.datasets import load_boston\n",
        "\n",
        "houses = load_boston()\n",
        "names = list(houses.feature_names) +  ['price']\n",
        "data = pd.DataFrame(data=np.column_stack([houses['data'], houses['target']]), columns=names)"
      ],
      "execution_count": 0,
      "outputs": []
    },
    {
      "metadata": {
        "ExecuteTime": {
          "end_time": "2018-11-22T18:41:40.561938Z",
          "start_time": "2018-11-22T18:41:37.328310Z"
        },
        "id": "UuePyM1yLdJR",
        "colab_type": "code",
        "colab": {}
      },
      "cell_type": "code",
      "source": [
        "sns.pairplot(data[['RM', 'NOX', 'B', 'price']])"
      ],
      "execution_count": 0,
      "outputs": []
    },
    {
      "metadata": {
        "ExecuteTime": {
          "end_time": "2018-11-22T18:41:42.530980Z",
          "start_time": "2018-11-22T18:41:41.522108Z"
        },
        "id": "bDt_TDISLdJT",
        "colab_type": "code",
        "colab": {}
      },
      "cell_type": "code",
      "source": [
        "sns.jointplot(data.RM, data.price, kind='scatter')"
      ],
      "execution_count": 0,
      "outputs": []
    },
    {
      "metadata": {
        "id": "CEmPS9QLLdJU",
        "colab_type": "text"
      },
      "cell_type": "markdown",
      "source": [
        "La pregunta que aquest conjunt de dades ens pot ajudar-nos a respondre és:\n",
        "\n",
        "> Quin és el preu d'una casa segons criteris geogràfics?"
      ]
    },
    {
      "metadata": {
        "ExecuteTime": {
          "end_time": "2018-11-22T18:41:41.516386Z",
          "start_time": "2018-11-22T18:41:40.949642Z"
        },
        "id": "p6xGbotiLdJV",
        "colab_type": "code",
        "colab": {}
      },
      "cell_type": "code",
      "source": [
        "from sklearn.ensemble import RandomForestRegressor\n",
        "\n",
        "reg = RandomForestRegressor(n_estimators=100)\n",
        "\n",
        "X_train, X_test, y_train, y_test = train_test_split(houses.data, houses.target, test_size=0.5)\n",
        "reg.fit(X_train, y_train)\n",
        "prediction = reg.predict(X_test)\n",
        "\n",
        "bin_edges = np.linspace(0, 60, 30)\n",
        "plt.hist2d(prediction, y_test, bins=bin_edges, cmap='gray_r',)\n",
        "plt.colorbar()\n",
        "plt.grid()\n",
        "plt.plot([0, 60], [0, 60], color='gray')\n",
        "plt.gca().set_aspect(1)\n",
        "None"
      ],
      "execution_count": 0,
      "outputs": []
    },
    {
      "metadata": {
        "id": "d6w3H1n3LdJZ",
        "colab_type": "text"
      },
      "cell_type": "markdown",
      "source": [
        "### La regressió no és un ajust de corbes\n",
        "\n",
        "L'output del predictor mostra una correlació més forta que qualsevol altra variable. Encara és sorollós i mostra algun smearing i valor extrem. L'output d’un regressor no s'ha d'entendre mai com a \"veritat\", sinó com una nova variable correlacionada que pot mostrar soroll i biaixos.\n",
        "\n",
        "Hi ha una diferència fonamental entre * ajust de corbes * i regressió.\n",
        "\n",
        "* __Ajust de corbes__ Totes les dades són disponibles. Algunes funcions analítiques conegudes (o suposades) s’ajusten a les dades per estimar paràmetres lliures d’aquesta funció.\n",
        "\n",
        "\n",
        "* __Regressió__ Les dades d'entrenament són disponibles. S'adapta un model a les dades d’entrenament per predir la variable dependent sobre algunes dades noves, desconegudes.\n",
        "\n",
        "Hi ha molt més a aprendre sobre els models linears i la regressió. Consulteu la guia de l’usuari de sklearn sobre models lineals per obtenir més informació\n",
        "\n",
        "http://scikit-learn.org/stable/modules/linear_model.html\n",
        "\n",
        "Una mètrica de regressió molt popular és la puntuació de $ R ^ 2 $. Llegiu-ne més aquí\n",
        "\n",
        "https://en.wikipedia.org/wiki/Coefficient_of_determination\n",
        "\n",
        "i aquí\n",
        "\n",
        "http://scikit-learn.org/stable/modules/generated/sklearn.metrics.r2_score.html."
      ]
    },
    {
      "metadata": {
        "id": "JY8fvzqNLdJc",
        "colab_type": "text"
      },
      "cell_type": "markdown",
      "source": [
        "# Aplicació a dades FACT\n",
        "\n",
        "Heu d'importar l'arxiu **fact_simulations.hdf5**"
      ]
    },
    {
      "metadata": {
        "id": "2wiiFbzgLdJd",
        "colab_type": "text"
      },
      "cell_type": "markdown",
      "source": [
        "![APP](https://github.com/sergiogf93/MetNumerics/blob/master/notebooks/images/app_overview.png?raw=1)\n",
        "\n",
        "Volem mesurar els rajos gamma de fonts astrofísiques, p. Ex. Forats negres ultramassius als centres de les galàxies (nucli galàctic actiu) o restes de supernova.\n",
        "\n",
        "Malauradament, també tenim protons que arriben a la Terra i en números molt més alts.\n",
        "\n",
        "Amb energies inferiors a 50 GeV, els satèl·lits són els més adequats per a observacions de raigs gamma, les taxes d'esdeveniments són massa baixes per proporcionar estadístiques raonables.\n",
        "\n",
        "Aquí fem servir telescopis terrestres ACTS (Air Cherenkov TelescopeS).\n",
        "\n",
        "![iacts.jpg](attachment:iacts.jpg)\n",
        "\n",
        "![fact.jpg](attachment:fact.jpg)\n",
        "\n",
        "* FACT és un petit telescopi ACT\n",
        "* Ubicació: La Palma, Espanya\n",
        "* Rang d'energies: ~500 GeV a 50 GeV"
      ]
    },
    {
      "metadata": {
        "id": "r14tXPQgLdJf",
        "colab_type": "text"
      },
      "cell_type": "markdown",
      "source": [
        "### Dades\n",
        "\n",
        "* 1440 píxels de SiPM\n",
        "* Cada esdeveniment té un valor de 300 píxels per 2 GSample/s\n",
        "\n",
        "#### Tasques\n",
        "\n",
        "Per a cada esdeveniment, reconstruir:\n",
        "\n",
        "* Tipus de partícules (classificació)\n",
        "* Energia (regressió)\n",
        "* Direcció (2d regressió)\n",
        "\n",
        "#### Passos de l'anàlisi\n",
        "\n",
        "* Calibrar els temps d’enviament de píxels\n",
        "* Per a cada píxel, reduir a la quantitat de fotons i el temps d’arribada mitjà\n",
        "* Calcular les característiques de les imatges a partir de #photons i el temps d’arribada mitjà\n",
        "* Utilitzar mètodes d'aprenentatge automàtic per resoldre les tasques anteriors\n",
        "\n",
        "Entrenar models de Machine Learning sobre esdeveniments simulats on es coneix tot i aplicar-ho a dades observades.\n",
        "\n",
        "#### Paràmetres d'imatge\n",
        "\n",
        "<img width = \"50%\" alt = \"\" src = \"images / hillas.png\" />\n",
        "\n",
        "Aquests són els més importants, però es calculen molts més."
      ]
    },
    {
      "metadata": {
        "id": "cdeongG1LdJg",
        "colab_type": "text"
      },
      "cell_type": "markdown",
      "source": [
        "### Classificació de partícules"
      ]
    },
    {
      "metadata": {
        "id": "HsDnU02ILdJi",
        "colab_type": "code",
        "colab": {}
      },
      "cell_type": "code",
      "source": [
        "fact = pd.read_hdf('fact_simulations.hdf5', key='events')\n",
        "\n",
        "fact['label'] = (fact['corsika_run_header_particle_id'] == 1).astype(int)\n",
        "fact['particle'] = np.where(fact['label'], 'gamma', 'proton')\n",
        "\n",
        "fact.describe()"
      ],
      "execution_count": 0,
      "outputs": []
    },
    {
      "metadata": {
        "id": "x4wFEcv6LdJl",
        "colab_type": "code",
        "colab": {}
      },
      "cell_type": "code",
      "source": [
        "fact.columns"
      ],
      "execution_count": 0,
      "outputs": []
    },
    {
      "metadata": {
        "id": "t1X_uQHSLdJp",
        "colab_type": "code",
        "colab": {}
      },
      "cell_type": "code",
      "source": [
        "# remove some bad reconstructable events\n",
        "fact = fact.query('leakage2 < 0.8 and leakage1 < 0.3 and num_pixel_in_shower > 10')\n",
        "\n",
        "\n",
        "columns = ['width', 'concentration_cog']\n",
        "fig, axs = plt.subplots(1, len(columns), constrained_layout=True, figsize=(10, 5))\n",
        "\n",
        "for ax, col in zip(axs, columns):\n",
        "    for name, group in fact.groupby('particle'):\n",
        "    \n",
        "        ax.hist(\n",
        "            group[col],\n",
        "            bins=20,\n",
        "            range=fact[col].quantile([0.01, 0.99]),\n",
        "            label=name,\n",
        "            histtype='step',\n",
        "            lw=2,\n",
        "        )\n",
        "    ax.set_xlabel(col)\n",
        "    ax.legend()"
      ],
      "execution_count": 0,
      "outputs": []
    },
    {
      "metadata": {
        "id": "nUHhyxwfLdJt",
        "colab_type": "code",
        "colab": {}
      },
      "cell_type": "code",
      "source": [
        "from sklearn.model_selection import StratifiedKFold\n",
        "from sklearn.metrics import roc_curve, roc_auc_score\n",
        "\n",
        "clf = RandomForestClassifier(n_estimators=25, max_depth=10, n_jobs=-1)\n",
        "\n",
        "X = fact[['width', 'length', 'concentration_cog', 'num_islands']].copy()\n",
        "X['log_size'] = np.log10(fact['size'])\n",
        "X['photoncharge_shower_std'] = np.sqrt(fact['photoncharge_shower_variance'])\n",
        "X['area'] = X['width'] * X['length']\n",
        "\n",
        "columns = X.columns\n",
        "\n",
        "# convert to a plain numpy array\n",
        "X = X.to_numpy()\n",
        "y = fact['label'].to_numpy()\n",
        "\n",
        "\n",
        "\n",
        "cv = StratifiedKFold(n_splits=5, shuffle=True, random_state=0)\n",
        "\n",
        "aucs = []\n",
        "for train, test in cv.split(X, y):\n",
        "    \n",
        "    clf.fit(X[train], y[train])\n",
        "    \n",
        "    # predict proba gives us a probability for each class\n",
        "    # for only two classes, one is sufficent.\n",
        "    prediction = clf.predict_proba(X[test])[:, 1]\n",
        "    \n",
        "    aucs.append(roc_auc_score(y[test], prediction))\n",
        "    fpr, tpr, thresholds = roc_curve(y[test], prediction)\n",
        "        \n",
        "    plt.plot(fpr, tpr, color='C0', lw=2, alpha=0.8)\n",
        "    \n",
        "plt.margins(0)\n",
        "plt.gca().set_aspect(1)\n",
        "plt.xlabel('False Positive Rate')\n",
        "plt.ylabel('True Positive Rate')\n",
        "plt.title(f'Mean ROC AUC: {np.mean(aucs):.3f}±{np.std(aucs):.3f}')\n",
        "\n",
        "\n",
        "\n",
        "\n",
        "feature_importances = pd.Series(clf.feature_importances_, index=columns)\n",
        "\n",
        "plt.figure(figsize=(7, 5))\n",
        "plt.xlabel('feature importance')\n",
        "feature_importances.sort_values().plot.barh()"
      ],
      "execution_count": 0,
      "outputs": []
    },
    {
      "metadata": {
        "id": "7cbDjOPlLdJ9",
        "colab_type": "text"
      },
      "cell_type": "markdown",
      "source": [
        "### Regressió energètica\n",
        "\n",
        "Aquí només estem interessats en els raigs gamma"
      ]
    },
    {
      "metadata": {
        "id": "h5bEo6KCLdJ-",
        "colab_type": "code",
        "colab": {}
      },
      "cell_type": "code",
      "source": [
        "gammas = fact.query('label == 1')\n",
        "\n",
        "*_, img = plt.hist2d(\n",
        "    np.log10(gammas['size']),\n",
        "    np.log10(gammas['corsika_event_header_total_energy']),\n",
        "    bins=100\n",
        ")\n",
        "img.set_rasterized(True)\n",
        "plt.xlabel('log10(size / ph.e.)')\n",
        "plt.ylabel('log10(E / GeV)')\n",
        "None"
      ],
      "execution_count": 0,
      "outputs": []
    },
    {
      "metadata": {
        "id": "tRi_ErKFLdJ_",
        "colab_type": "code",
        "colab": {}
      },
      "cell_type": "code",
      "source": [
        "gammas = gammas.query('num_pixel_in_shower > 10 and num_islands < 8 and length < 70 and width < 35')"
      ],
      "execution_count": 0,
      "outputs": []
    },
    {
      "metadata": {
        "id": "uDyfbHltLdKA",
        "colab_type": "code",
        "outputId": "8aac2fb9-2db1-4379-b681-a0b0d291836d",
        "colab": {
          "base_uri": "https://localhost:8080/",
          "height": 35
        }
      },
      "cell_type": "code",
      "source": [
        "from sklearn.model_selection import KFold\n",
        "from sklearn.metrics import r2_score\n",
        "\n",
        "\n",
        "reg = RandomForestRegressor(n_estimators=100, max_depth=20, n_jobs=-1)\n",
        "\n",
        "X = gammas[[\n",
        "    'concentration_cog', 'concentration_core', 'concentration_one_pixel',\n",
        "    'width', 'length', 'num_pixel_in_shower',\n",
        "    'leakage1', 'leakage2', \n",
        "]].copy()\n",
        "X['log_size'] = np.log10(gammas['size'])\n",
        "X = X.to_numpy()\n",
        "\n",
        "y = np.log10(gammas['corsika_event_header_total_energy'].to_numpy())\n",
        "\n",
        "\n",
        "cv = KFold(n_splits=5)\n",
        "\n",
        "predictions = []\n",
        "scores = []\n",
        "for train, test in cv.split(X, y):\n",
        "    \n",
        "    reg.fit(X[train], y[train])\n",
        "    prediction = reg.predict(X[test])\n",
        "    \n",
        "    predictions.append(prediction)\n",
        "    scores.append(r2_score(y[test], prediction))\n",
        "\n",
        "predictions = np.concatenate(predictions)\n",
        "\n",
        "print(f'Mean r2 score: {np.mean(scores):.3f}± {np.std(scores):.3f}')"
      ],
      "execution_count": 0,
      "outputs": [
        {
          "output_type": "stream",
          "text": [
            "Mean r2 score: 0.640± 0.007\n"
          ],
          "name": "stdout"
        }
      ]
    },
    {
      "metadata": {
        "id": "y12fVuB_LdKE",
        "colab_type": "code",
        "colab": {}
      },
      "cell_type": "code",
      "source": [
        "*_, img = plt.hist2d(\n",
        "    y,\n",
        "    predictions,\n",
        "    bins=50,\n",
        "    range=[[2.5, 4], [2.5, 4]],\n",
        ")\n",
        "img.set_rasterized(True)\n",
        "plt.xlabel('Truth')\n",
        "plt.ylabel('Prediction')\n",
        "plt.gca().set_aspect(1)"
      ],
      "execution_count": 0,
      "outputs": []
    },
    {
      "metadata": {
        "id": "wDm1NbVmLdKG",
        "colab_type": "text"
      },
      "cell_type": "markdown",
      "source": [
        "# Més Material\n",
        "\n",
        "Versió original d'aquest notebook:\n",
        "https://github.com/tudo-astroparticlephysics/dpg2019-ml-tutorial\n",
        "\n",
        "\n",
        "Conferència de mètodes estadístics a TU Dortmund (la base d'aquest notebook amb més matemàtiques): \n",
        "https://github.com/mackaiver/machine-learning-lecture \n",
        "\n",
        "\n",
        "La guia de Scikit-learns.\n",
        "\n",
        "Es detallada i descriu els pros i els contres de molts alogirmes i criteris d’avaluació. També és plena d'exemples de codi.\n",
        "\n",
        "http://scikit-learn.org/stable/user_guide.html\n",
        "\n",
        "Llegiu el llibre de Hastie (si sou una persona boja per les matemàtiques)\n",
        "\n",
        "http://web.stanford.edu/~hastie/ElemStatLearn/\n",
        "\n",
        "Read this book by James and Hastie (if you're a normal person)\n",
        "\n",
        "http://www-bcf.usc.edu/~gareth/ISL/"
      ]
    },
    {
      "metadata": {
        "id": "Y06qoBHQLdKH",
        "colab_type": "code",
        "colab": {}
      },
      "cell_type": "code",
      "source": [
        ""
      ],
      "execution_count": 0,
      "outputs": []
    }
  ]
}