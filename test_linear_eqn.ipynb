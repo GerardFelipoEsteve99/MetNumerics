{
  "nbformat": 4,
  "nbformat_minor": 0,
  "metadata": {
    "colab": {
      "name": "Untitled32.ipynb",
      "version": "0.3.2",
      "provenance": [],
      "collapsed_sections": [],
      "include_colab_link": true
    },
    "kernelspec": {
      "name": "python2",
      "display_name": "Python 2"
    }
  },
  "cells": [
    {
      "cell_type": "markdown",
      "metadata": {
        "id": "view-in-github",
        "colab_type": "text"
      },
      "source": [
        "<a href=\"https://colab.research.google.com/github/sergiogf93/MetNumerics/blob/master/test_linear_eqn.ipynb\" target=\"_parent\"><img src=\"https://colab.research.google.com/assets/colab-badge.svg\" alt=\"Open In Colab\"/></a>"
      ]
    },
    {
      "metadata": {
        "id": "4yfXWiRpB3f9",
        "colab_type": "code",
        "colab": {}
      },
      "cell_type": "code",
      "source": [
        "# This program makes use of the Linear Algebra equation (A)(x) = (y)\n",
        "import numpy as np\n",
        "import matplotlib.pyplot as plt\n",
        "\n",
        "matrix = np.array([[2,3,1],[-1,3,2],[1,1,3]])\n",
        "yy = np.array([17,13,20])\n",
        "array2 = np.zeros(3, dtype=float)\n",
        "print (\" array2 \", array2)\n",
        "\n",
        "xx = np.linalg.solve(matrix,yy)\n",
        "\n",
        "print (\" This program solves the equation A (x) = (y), \")\n",
        "print (\" where A is a 3x3 matrix and x, y are 3 dimesional vectors \")\n",
        "print (\" What follows is an specific case \")\n",
        "print (\" Matrix = \\n \", matrix)\n",
        "print (\" Independent terms \", yy)\n",
        "print (\" The solutions are \", xx)\n",
        "\n",
        "arr2 = []\n",
        "\n",
        "print (\" Now we ask to enter a case from the terminal\")\n",
        "\n",
        "for m in range(3):\n",
        "    print (\" Please type in the \", m, \" row of A (3 numbers separated by blanks)\")\n",
        "    array1 = input()\n",
        "    arr2 = array1.split()\n",
        "    for k in range(3):\n",
        "        array2[k] = float(arr2[k])\n",
        "        matrix[m] = array2\n",
        "\n",
        "array1 = input (\" Please type the independent (y) terms \")\n",
        "arr2 = array1.split()\n",
        "for k in range(3):\n",
        "    yy[k] = float(arr2[k])\n",
        "\n",
        "print (\" matrix \\n\", matrix)\n",
        "print (\" yy \", yy)\n",
        "\n",
        "xx = np.linalg.solve(matrix,yy)\n",
        "arr2 = []\n",
        "\n",
        "print (\" solution is \", xx)\n",
        "\n",
        "print\n",
        "print (\"End\")"
      ],
      "execution_count": 0,
      "outputs": []
    }
  ]
}