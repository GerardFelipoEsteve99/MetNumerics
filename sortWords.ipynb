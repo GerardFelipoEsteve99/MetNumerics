{
  "nbformat": 4,
  "nbformat_minor": 0,
  "metadata": {
    "colab": {
      "name": "Untitled25.ipynb",
      "version": "0.3.2",
      "provenance": [],
      "include_colab_link": true
    },
    "kernelspec": {
      "name": "python2",
      "display_name": "Python 2"
    }
  },
  "cells": [
    {
      "cell_type": "markdown",
      "metadata": {
        "id": "view-in-github",
        "colab_type": "text"
      },
      "source": [
        "<a href=\"https://colab.research.google.com/github/sergiogf93/MetNumerics/blob/master/sortWords.ipynb\" target=\"_parent\"><img src=\"https://colab.research.google.com/assets/colab-badge.svg\" alt=\"Open In Colab\"/></a>"
      ]
    },
    {
      "metadata": {
        "id": "GJZNBCJrcJfu",
        "colab_type": "text"
      },
      "cell_type": "markdown",
      "source": [
        "Programa per ordenar les paraules d'un string alfabèticament."
      ]
    },
    {
      "metadata": {
        "id": "dxZooI3HcJEA",
        "colab_type": "code",
        "colab": {}
      },
      "cell_type": "code",
      "source": [
        "# change this value for a different result\n",
        "my_str = \"Hello this Is an Example With cased letters\"\n",
        "\n",
        "# uncomment to take input from the user\n",
        "#my_str = input(\"Enter a string: \")\n",
        "\n",
        "# breakdown the string into a list of words\n",
        "words = my_str.split()\n",
        "\n",
        "# sort the list\n",
        "words.sort()\n",
        "\n",
        "# display the sorted words\n",
        "\n",
        "print \"The sorted words are:\" \n",
        "for word in words:\n",
        "   print word\n",
        "print words\n"
      ],
      "execution_count": 0,
      "outputs": []
    }
  ]
}