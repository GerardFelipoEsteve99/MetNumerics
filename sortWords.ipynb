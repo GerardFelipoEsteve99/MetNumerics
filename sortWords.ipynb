{
  "nbformat": 4,
  "nbformat_minor": 0,
  "metadata": {
    "colab": {
      "name": "Untitled29.ipynb",
      "version": "0.3.2",
      "provenance": [],
      "include_colab_link": true
    },
    "kernelspec": {
      "name": "python2",
      "display_name": "Python 2"
    }
  },
  "cells": [
    {
      "cell_type": "markdown",
      "metadata": {
        "id": "view-in-github",
        "colab_type": "text"
      },
      "source": [
        "<a href=\"https://colab.research.google.com/github/sergiogf93/MetNumerics/blob/master/sortWords.ipynb\" target=\"_parent\"><img src=\"https://colab.research.google.com/assets/colab-badge.svg\" alt=\"Open In Colab\"/></a>"
      ]
    },
    {
      "metadata": {
        "id": "gEIdvcumBN3y",
        "colab_type": "code",
        "colab": {
          "base_uri": "https://localhost:8080/",
          "height": 170
        },
        "outputId": "d2a30321-3982-4c30-f2d3-98abc70ad720"
      },
      "cell_type": "code",
      "source": [
        "# Program to sort alphabetically the words form a string provided by the user\n",
        "\n",
        "# change this value for a different result\n",
        "my_str = \"Hello this Is an Example With cased letters\"\n",
        "\n",
        "# uncomment to take input from the user\n",
        "#my_str = input(\"Enter a string: \")\n",
        "\n",
        "# breakdown the string into a list of words\n",
        "words = my_str.split()\n",
        "\n",
        "# sort the list\n",
        "words.sort()\n",
        "\n",
        "# display the sorted words\n",
        "\n",
        "print(\"The sorted words are:\")\n",
        "for word in words:\n",
        "   print(word)\n"
      ],
      "execution_count": 1,
      "outputs": [
        {
          "output_type": "stream",
          "text": [
            "The sorted words are:\n",
            "Example\n",
            "Hello\n",
            "Is\n",
            "With\n",
            "an\n",
            "cased\n",
            "letters\n",
            "this\n"
          ],
          "name": "stdout"
        }
      ]
    }
  ]
}