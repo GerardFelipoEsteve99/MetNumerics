{
  "nbformat": 4,
  "nbformat_minor": 0,
  "metadata": {
    "colab": {
      "name": "Untitled9.ipynb",
      "version": "0.3.2",
      "provenance": [],
      "include_colab_link": true
    },
    "kernelspec": {
      "name": "python2",
      "display_name": "Python 2"
    }
  },
  "cells": [
    {
      "cell_type": "markdown",
      "metadata": {
        "id": "view-in-github",
        "colab_type": "text"
      },
      "source": [
        "<a href=\"https://colab.research.google.com/github/sergiogf93/MetNumerics/blob/master/invTransfMethod.ipynb\" target=\"_parent\"><img src=\"https://colab.research.google.com/assets/colab-badge.svg\" alt=\"Open In Colab\"/></a>"
      ]
    },
    {
      "metadata": {
        "id": "USusvNuo3UXr",
        "colab_type": "text"
      },
      "cell_type": "markdown",
      "source": [
        "Importar llibreries:\n",
        "* **scipy.stats:** Conté funcions per manipular PDFs i CDFs\n",
        "* **numpy:** Llibreria molt útil per manipular dades.\n",
        "* **matplotlib:** Per fer gràfiques, histogrames, etc"
      ]
    },
    {
      "metadata": {
        "id": "Ggg2naWF1Ngs",
        "colab_type": "code",
        "colab": {}
      },
      "cell_type": "code",
      "source": [
        "import scipy.stats as stats\n",
        "import numpy as np\n",
        "import matplotlib.pyplot as plt"
      ],
      "execution_count": 0,
      "outputs": []
    },
    {
      "metadata": {
        "id": "UB4gxMSH3vMw",
        "colab_type": "text"
      },
      "cell_type": "markdown",
      "source": [
        "Definim la funció de distribució exponencial, la corresponent funció cumulativa i la seva inversa per il·lustrar el mètode de la transformada inversa per generar nombres que segueixin una PDF donada."
      ]
    },
    {
      "metadata": {
        "id": "mtcTKboP1Qeo",
        "colab_type": "code",
        "colab": {}
      },
      "cell_type": "code",
      "source": [
        "def expon_pdf(x, lmabd=1):\n",
        "    \"\"\"PDF of exponential distribution.\"\"\"\n",
        "    return lmabd*np.exp(-lmabd*x)\n",
        "def expon_cdf(x, lambd=1):\n",
        "    \"\"\"CDF of exponetial distribution.\"\"\"\n",
        "    return 1 - np.exp(-lambd*x)\n",
        "def expon_icdf(p, lambd=1):\n",
        "    \"\"\"Inverse CDF of exponential distribution - i.e. quantile function.\"\"\"\n",
        "    return -np.log(1-p)/lambd\n"
      ],
      "execution_count": 0,
      "outputs": []
    },
    {
      "metadata": {
        "id": "4DmfSstu1T3L",
        "colab_type": "code",
        "colab": {}
      },
      "cell_type": "code",
      "source": [
        "dist = stats.expon()\n",
        "x = np.linspace(0,4,100)\n",
        "y = np.linspace(0,1,100)\n",
        "\n",
        "plt.figure(figsize=(12,4))\n",
        "plt.subplot(121)\n",
        "plt.plot(x, expon_cdf(x))\n",
        "plt.axis([0, 4, 0, 1])\n",
        "for q in [0.5, 0.8]:\n",
        "    plt.arrow(0, q, expon_icdf(q)-0.1, 0, head_width=0.05, head_length=0.1, fc='b', ec='b')\n",
        "    plt.arrow(expon_icdf(q), q, 0, -q+0.1, head_width=0.1, head_length=0.05, fc='b', ec='b')\n",
        "plt.ylabel('1: Generate a (0,1) uniform PRNG')\n",
        "plt.xlabel('2: Find the inverse CDF')\n",
        "plt.title('Inverse transform method');\n",
        "plt.show()\n",
        "\n"
      ],
      "execution_count": 0,
      "outputs": []
    },
    {
      "metadata": {
        "id": "lZSUcxFY4Bx9",
        "colab_type": "text"
      },
      "cell_type": "markdown",
      "source": [
        "Generem nombres uniformement distribuïts i calculem la corresponent inversa de la cumulativa.\n",
        "\n",
        "Observem fent un histograma que els resultats segueixen la PDF inicial."
      ]
    },
    {
      "metadata": {
        "id": "hZua_0-I1qEY",
        "colab_type": "code",
        "colab": {}
      },
      "cell_type": "code",
      "source": [
        "plt.subplot(122)\n",
        "u = np.random.random(10000)\n",
        "v = expon_icdf(u)\n",
        "plt.hist(v, histtype='step', bins=100, density=True, linewidth=2)\n",
        "plt.plot(x, expon_pdf(x), linewidth=2)\n",
        "plt.axis([0,4,0,1])\n",
        "plt.title('Histogram of exponential PRNGs');\n",
        "plt.show()\n"
      ],
      "execution_count": 0,
      "outputs": []
    }
  ]
}