{
  "nbformat": 4,
  "nbformat_minor": 0,
  "metadata": {
    "colab": {
      "name": "Untitled27.ipynb",
      "version": "0.3.2",
      "provenance": [],
      "include_colab_link": true
    },
    "kernelspec": {
      "name": "python2",
      "display_name": "Python 2"
    }
  },
  "cells": [
    {
      "cell_type": "markdown",
      "metadata": {
        "id": "view-in-github",
        "colab_type": "text"
      },
      "source": [
        "<a href=\"https://colab.research.google.com/github/sergiogf93/MetNumerics/blob/master/Vowel.ipynb\" target=\"_parent\"><img src=\"https://colab.research.google.com/assets/colab-badge.svg\" alt=\"Open In Colab\"/></a>"
      ]
    },
    {
      "metadata": {
        "id": "qcxlP-ZQdM6f",
        "colab_type": "text"
      },
      "cell_type": "markdown",
      "source": [
        "Programa per comptar vocals dins d'un string."
      ]
    },
    {
      "metadata": {
        "id": "r4gq1xoddMRB",
        "colab_type": "code",
        "colab": {}
      },
      "cell_type": "code",
      "source": [
        "# string of vowels\n",
        "vowels = 'aeiou'\n",
        "\n",
        "# change this value for a different result\n",
        "ip_str = \"Hello, have you tried our turorial section yet?\"\n",
        "\n",
        "# uncomment to take input from the user\n",
        "# ip_str = input(\"Enter a string: \")\n"
      ],
      "execution_count": 0,
      "outputs": []
    },
    {
      "metadata": {
        "id": "KgvaeyBOdVUx",
        "colab_type": "text"
      },
      "cell_type": "markdown",
      "source": [
        "Per poder comparar caràcters, hem de posar-los en minúscula amb la funció *lower()*"
      ]
    },
    {
      "metadata": {
        "id": "bn5j1ulldVjX",
        "colab_type": "code",
        "colab": {}
      },
      "cell_type": "code",
      "source": [
        "# make it suitable for caseless comparisions\n",
        "ip_str = ip_str.lower()\n",
        "#ip_str = ip_str.casefold()"
      ],
      "execution_count": 0,
      "outputs": []
    },
    {
      "metadata": {
        "id": "Vyz5Q0Q2dixq",
        "colab_type": "text"
      },
      "cell_type": "markdown",
      "source": [
        "Creem un diccionari (conjunt de claus cadascuna de les claus té un valor).\n",
        "\n",
        "Si fem:\n",
        "```python\n",
        "{}.fromkeys(vowels,0)\n",
        "```\n",
        "Obtenim un diccionari:\n",
        "```python\n",
        "{\n",
        "  a:0,\n",
        "  e:0,\n",
        "  i:0,\n",
        "  o:0,\n",
        "  u:0\n",
        "}\n",
        "```"
      ]
    },
    {
      "metadata": {
        "id": "lsMjCbrmdkJV",
        "colab_type": "code",
        "colab": {}
      },
      "cell_type": "code",
      "source": [
        "# make a dictionary with each vowel a key and value 0\n",
        "count = {}.fromkeys(vowels,0)\n",
        "\n",
        "# count the vowels\n",
        "for char in ip_str:\n",
        "   if char in count:\n",
        "       count[char] += 1\n",
        "\n",
        "print count"
      ],
      "execution_count": 0,
      "outputs": []
    }
  ]
}