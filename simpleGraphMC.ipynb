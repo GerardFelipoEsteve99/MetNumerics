{
  "nbformat": 4,
  "nbformat_minor": 0,
  "metadata": {
    "colab": {
      "name": "Untitled16.ipynb",
      "version": "0.3.2",
      "provenance": [],
      "include_colab_link": true
    },
    "kernelspec": {
      "name": "python2",
      "display_name": "Python 2"
    }
  },
  "cells": [
    {
      "cell_type": "markdown",
      "metadata": {
        "id": "view-in-github",
        "colab_type": "text"
      },
      "source": [
        "<a href=\"https://colab.research.google.com/github/sergiogf93/MetNumerics/blob/master/simpleGraphMC.ipynb\" target=\"_parent\"><img src=\"https://colab.research.google.com/assets/colab-badge.svg\" alt=\"Open In Colab\"/></a>"
      ]
    },
    {
      "metadata": {
        "id": "sjKuncjXml-t",
        "colab_type": "code",
        "colab": {}
      },
      "cell_type": "code",
      "source": [
        "import random\n",
        "import matplotlib\n",
        "import matplotlib.pyplot as plt\n",
        "import time\n",
        "\n",
        "def rollDice():\n",
        "    roll = random.randint(1,100)\n",
        "\n",
        "    if roll == 100:\n",
        "        return False\n",
        "    elif roll <= 50:\n",
        "        return False\n",
        "    elif 100 > roll >= 50:\n",
        "        return True\n",
        "\n",
        "def simple_bettor(funds,initial_wager,wager_count):\n",
        "    ####\n",
        "    global broke_count\n",
        "    \n",
        "    value = funds\n",
        "    wager = initial_wager\n",
        "    wX = []\n",
        "    vY = []\n",
        "    currentWager = 1\n",
        "    while currentWager <= wager_count:\n",
        "        if rollDice():\n",
        "            value += wager\n",
        "            wX.append(currentWager)\n",
        "            vY.append(value)\n",
        "        else:\n",
        "            value -= wager\n",
        "            wX.append(currentWager)\n",
        "            vY.append(value)\n",
        "\n",
        "            ###add me\n",
        "            if value < 0:\n",
        "                currentWager += 10000000000000000\n",
        "                broke_count += 1\n",
        "        currentWager += 1\n",
        "    plt.plot(wX,vY)\n",
        "\n",
        "    \n",
        "x = 0\n",
        "broke_count = 0\n",
        "while x < 1000:             \n",
        "    simple_bettor(10000,100,1000)\n",
        "    x+=1\n",
        "print(('death rate:',(broke_count/float(x)) * 100))\n",
        "print(('survival rate:',100 - ((broke_count/float(x)) * 100)))\n",
        "plt.axhline(0, color = 'r')\n",
        "plt.ylabel('Account Value')\n",
        "plt.xlabel('Wager Count')\n",
        "plt.show()\n"
      ],
      "execution_count": 0,
      "outputs": []
    }
  ]
}